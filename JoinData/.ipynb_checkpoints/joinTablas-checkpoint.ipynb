{
 "cells": [
  {
   "cell_type": "markdown",
   "metadata": {
    "id": "UtKd22dF0-aX"
   },
   "source": [
    "# **Smart-UJ UAQUE**\n",
    "Este Notebook hace parte del servicio inteligente \"perfil grupal\" y tiene como principal objetivo realizar el join entre los principales datasets del proyecto \"material-biblioteca\" y \"prestamos-biblioteca\", esto con el fin de complementar la información del material bibliográfico alquilado por los usuarios. El dataset final será exportado para ser consumido por los sistemas de clustering para la formación de grupos y perfiles grupales.\n",
    "\n",
    "**Integrantes:**</br>\n",
    "Johan Ortegón </br>\n",
    "Juan Angarita </br>\n",
    "Jorge Salgado </br>\n",
    "Daniel Tibaquira </br></br>\n",
    "**Directora de Proyecto de Grado:** </br>\n",
    "Viky Arias </br>"
   ]
  },
  {
   "cell_type": "markdown",
   "metadata": {
    "id": "BxuYdReC13NG"
   },
   "source": [
    "# Importación de datos"
   ]
  },
  {
   "cell_type": "code",
   "execution_count": 4,
   "metadata": {
    "colab": {
     "base_uri": "https://localhost:8080/"
    },
    "executionInfo": {
     "elapsed": 184,
     "status": "ok",
     "timestamp": 1632954128215,
     "user": {
      "displayName": "juan sebastian angarita torres",
      "photoUrl": "https://lh3.googleusercontent.com/a-/AOh14GgjiV1o_Xb2Ov2kAJhpXcHsgVLy47m-BxyXrYYMfw=s64",
      "userId": "11476954540008106843"
     },
     "user_tz": 300
    },
    "id": "z9CHYqkd068R",
    "outputId": "f2fa0221-01c2-4c35-e075-84f1dd91d85f"
   },
   "outputs": [],
   "source": [
    "#from google.colab import drive\n",
    "#drive.mount('/content/drive')"
   ]
  },
  {
   "cell_type": "markdown",
   "metadata": {
    "id": "W3TpO1sAa_bN"
   },
   "source": [
    "Estas son las librerias que vamos a usar para hacer el join de ambas tablas y poder hacer las diferentes agrupaciones de estudiantes. \n",
    "\n",
    "* pandas(pd): Permite almacenar los datos en dataframes(matrices) y operación entre las celdas."
   ]
  },
  {
   "cell_type": "code",
   "execution_count": 5,
   "metadata": {
    "executionInfo": {
     "elapsed": 3,
     "status": "ok",
     "timestamp": 1632954128405,
     "user": {
      "displayName": "juan sebastian angarita torres",
      "photoUrl": "https://lh3.googleusercontent.com/a-/AOh14GgjiV1o_Xb2Ov2kAJhpXcHsgVLy47m-BxyXrYYMfw=s64",
      "userId": "11476954540008106843"
     },
     "user_tz": 300
    },
    "id": "nrQmfmCQlOv7"
   },
   "outputs": [],
   "source": [
    "import pandas as pd\n",
    "import numpy as np"
   ]
  },
  {
   "cell_type": "markdown",
   "metadata": {
    "id": "8tWL70g4chzc"
   },
   "source": [
    "Importamos ambos archivos y los guardamos como dataframes de panda en las siguientes variables:\n",
    "* dataserPrestamos: Prestamos biblioteca\n",
    "* datasetMaterial: Materiales biblioteca"
   ]
  },
  {
   "cell_type": "code",
   "execution_count": 6,
   "metadata": {
    "executionInfo": {
     "elapsed": 12724,
     "status": "ok",
     "timestamp": 1632954141126,
     "user": {
      "displayName": "juan sebastian angarita torres",
      "photoUrl": "https://lh3.googleusercontent.com/a-/AOh14GgjiV1o_Xb2Ov2kAJhpXcHsgVLy47m-BxyXrYYMfw=s64",
      "userId": "11476954540008106843"
     },
     "user_tz": 300
    },
    "id": "erm-Dlz9lQ82"
   },
   "outputs": [],
   "source": [
    "datasetPrestamos = pd.read_json('https://www.dropbox.com/s/uvmt6vi3xhfackl/PRESTAMOS-BGENERAL.json?dl=1')"
   ]
  },
  {
   "cell_type": "code",
   "execution_count": 7,
   "metadata": {
    "executionInfo": {
     "elapsed": 9258,
     "status": "ok",
     "timestamp": 1632954150365,
     "user": {
      "displayName": "juan sebastian angarita torres",
      "photoUrl": "https://lh3.googleusercontent.com/a-/AOh14GgjiV1o_Xb2Ov2kAJhpXcHsgVLy47m-BxyXrYYMfw=s64",
      "userId": "11476954540008106843"
     },
     "user_tz": 300
    },
    "id": "A6DbnKs1lSTj"
   },
   "outputs": [],
   "source": [
    "datasetMaterial = pd.read_json('https://www.dropbox.com/s/x8jgez46eglpwfh/B-GENERAL-COLECCIONES-TEMATICAS.json?dl=1')"
   ]
  },
  {
   "cell_type": "markdown",
   "metadata": {
    "id": "DRkWZtXUc14m"
   },
   "source": [
    "A continuación se muestra la estructura básica de ambos archivos"
   ]
  },
  {
   "cell_type": "code",
   "execution_count": 8,
   "metadata": {
    "colab": {
     "base_uri": "https://localhost:8080/",
     "height": 538
    },
    "executionInfo": {
     "elapsed": 11,
     "status": "ok",
     "timestamp": 1632954150546,
     "user": {
      "displayName": "juan sebastian angarita torres",
      "photoUrl": "https://lh3.googleusercontent.com/a-/AOh14GgjiV1o_Xb2Ov2kAJhpXcHsgVLy47m-BxyXrYYMfw=s64",
      "userId": "11476954540008106843"
     },
     "user_tz": 300
    },
    "id": "FexIokh3lWCy",
    "outputId": "bf6741be-fa55-45b2-db32-8c05fa16c5ed"
   },
   "outputs": [
    {
     "data": {
      "text/html": [
       "<div>\n",
       "<style scoped>\n",
       "    .dataframe tbody tr th:only-of-type {\n",
       "        vertical-align: middle;\n",
       "    }\n",
       "\n",
       "    .dataframe tbody tr th {\n",
       "        vertical-align: top;\n",
       "    }\n",
       "\n",
       "    .dataframe thead th {\n",
       "        text-align: right;\n",
       "    }\n",
       "</style>\n",
       "<table border=\"1\" class=\"dataframe\">\n",
       "  <thead>\n",
       "    <tr style=\"text-align: right;\">\n",
       "      <th></th>\n",
       "      <th>RowID</th>\n",
       "      <th>Mes</th>\n",
       "      <th>Fecha</th>\n",
       "      <th>IDItem</th>\n",
       "      <th>NumeroUbicacion</th>\n",
       "      <th>Dewey</th>\n",
       "      <th>Ubicacion</th>\n",
       "      <th>TipoItem</th>\n",
       "      <th>Llave</th>\n",
       "      <th>Perfil</th>\n",
       "      <th>Programa</th>\n",
       "      <th>Facultad</th>\n",
       "      <th>IDUsuario</th>\n",
       "      <th>Year</th>\n",
       "    </tr>\n",
       "  </thead>\n",
       "  <tbody>\n",
       "    <tr>\n",
       "      <th>0</th>\n",
       "      <td>Row0</td>\n",
       "      <td>Enero</td>\n",
       "      <td>1547050497000</td>\n",
       "      <td>80000005327627</td>\n",
       "      <td>720.98 A71S</td>\n",
       "      <td>720</td>\n",
       "      <td>COL-GRAL-2</td>\n",
       "      <td>LIBRO</td>\n",
       "      <td>866245</td>\n",
       "      <td>A-EGRESADO</td>\n",
       "      <td>CARRERA DE ARQUITECTURA</td>\n",
       "      <td>arquitectura y diseño</td>\n",
       "      <td>c361c772cd0220bb16dcfb2ad803e4903334ab94</td>\n",
       "      <td>2019</td>\n",
       "    </tr>\n",
       "    <tr>\n",
       "      <th>1</th>\n",
       "      <td>Row1</td>\n",
       "      <td>Enero</td>\n",
       "      <td>1547050500000</td>\n",
       "      <td>80000001191496</td>\n",
       "      <td>720.9861 A71</td>\n",
       "      <td>720</td>\n",
       "      <td>COL-GRAL-2</td>\n",
       "      <td>LIBRO</td>\n",
       "      <td>309945</td>\n",
       "      <td>A-EGRESADO</td>\n",
       "      <td>CARRERA DE ARQUITECTURA</td>\n",
       "      <td>arquitectura y diseño</td>\n",
       "      <td>c361c772cd0220bb16dcfb2ad803e4903334ab94</td>\n",
       "      <td>2019</td>\n",
       "    </tr>\n",
       "    <tr>\n",
       "      <th>2</th>\n",
       "      <td>Row2</td>\n",
       "      <td>Enero</td>\n",
       "      <td>1547138763000</td>\n",
       "      <td>80000004979759</td>\n",
       "      <td>540 CH15Q 2010</td>\n",
       "      <td>540</td>\n",
       "      <td>COL-GRAL-3</td>\n",
       "      <td>LIBRO</td>\n",
       "      <td>822727</td>\n",
       "      <td>A-EGRESADO</td>\n",
       "      <td>CARRERA DE ARQUITECTURA</td>\n",
       "      <td>arquitectura y diseño</td>\n",
       "      <td>87b0e5a61ed712ddfaf5d478ad68c87c825997e9</td>\n",
       "      <td>2019</td>\n",
       "    </tr>\n",
       "  </tbody>\n",
       "</table>\n",
       "</div>"
      ],
      "text/plain": [
       "  RowID    Mes          Fecha          IDItem NumeroUbicacion Dewey  \\\n",
       "0  Row0  Enero  1547050497000  80000005327627     720.98 A71S   720   \n",
       "1  Row1  Enero  1547050500000  80000001191496    720.9861 A71   720   \n",
       "2  Row2  Enero  1547138763000  80000004979759  540 CH15Q 2010   540   \n",
       "\n",
       "    Ubicacion TipoItem   Llave      Perfil                 Programa  \\\n",
       "0  COL-GRAL-2    LIBRO  866245  A-EGRESADO  CARRERA DE ARQUITECTURA   \n",
       "1  COL-GRAL-2    LIBRO  309945  A-EGRESADO  CARRERA DE ARQUITECTURA   \n",
       "2  COL-GRAL-3    LIBRO  822727  A-EGRESADO  CARRERA DE ARQUITECTURA   \n",
       "\n",
       "                Facultad                                 IDUsuario  Year  \n",
       "0  arquitectura y diseño  c361c772cd0220bb16dcfb2ad803e4903334ab94  2019  \n",
       "1  arquitectura y diseño  c361c772cd0220bb16dcfb2ad803e4903334ab94  2019  \n",
       "2  arquitectura y diseño  87b0e5a61ed712ddfaf5d478ad68c87c825997e9  2019  "
      ]
     },
     "metadata": {},
     "output_type": "display_data"
    },
    {
     "data": {
      "text/html": [
       "<div>\n",
       "<style scoped>\n",
       "    .dataframe tbody tr th:only-of-type {\n",
       "        vertical-align: middle;\n",
       "    }\n",
       "\n",
       "    .dataframe tbody tr th {\n",
       "        vertical-align: top;\n",
       "    }\n",
       "\n",
       "    .dataframe thead th {\n",
       "        text-align: right;\n",
       "    }\n",
       "</style>\n",
       "<table border=\"1\" class=\"dataframe\">\n",
       "  <thead>\n",
       "    <tr style=\"text-align: right;\">\n",
       "      <th></th>\n",
       "      <th>Signatura</th>\n",
       "      <th>IDItem</th>\n",
       "      <th>UbicacionActual</th>\n",
       "      <th>TipoItem</th>\n",
       "      <th>TotalPrestamos</th>\n",
       "      <th>Llave</th>\n",
       "      <th>Copias</th>\n",
       "      <th>Autor</th>\n",
       "      <th>Titulo</th>\n",
       "      <th>Tema650</th>\n",
       "      <th>AnioPublicacion</th>\n",
       "      <th>Dewey</th>\n",
       "      <th>TemaDewey</th>\n",
       "      <th>Original</th>\n",
       "      <th>Temas</th>\n",
       "      <th>Union</th>\n",
       "    </tr>\n",
       "  </thead>\n",
       "  <tbody>\n",
       "    <tr>\n",
       "      <th>0</th>\n",
       "      <td>925</td>\n",
       "      <td>60000000049754</td>\n",
       "      <td>A-BATEMAN</td>\n",
       "      <td>LIBRO</td>\n",
       "      <td>0</td>\n",
       "      <td>933604</td>\n",
       "      <td>1</td>\n",
       "      <td>Álvarez Ríos, Baldomero 1924-</td>\n",
       "      <td>Copernico gigante del Renacimiento Baldomero A...</td>\n",
       "      <td>astronomos polonia biografias</td>\n",
       "      <td>1973.0</td>\n",
       "      <td>925.2</td>\n",
       "      <td>Galilei, Galileo|d1564-1642</td>\n",
       "      <td>astronomos polonia biografias</td>\n",
       "      <td>[astronom, poloni, biografi]</td>\n",
       "      <td>astronom poloni biografi</td>\n",
       "    </tr>\n",
       "    <tr>\n",
       "      <th>1</th>\n",
       "      <td>925</td>\n",
       "      <td>60000000049751</td>\n",
       "      <td>A-BATEMAN</td>\n",
       "      <td>LIBRO</td>\n",
       "      <td>0</td>\n",
       "      <td>933606</td>\n",
       "      <td>1</td>\n",
       "      <td>None</td>\n",
       "      <td>Nicolás Copérnico, 500 aniversario, 1473-1973</td>\n",
       "      <td>astronomia historia</td>\n",
       "      <td>1973.0</td>\n",
       "      <td>925.2</td>\n",
       "      <td>Galilei, Galileo|d1564-1642</td>\n",
       "      <td>astronomia historia</td>\n",
       "      <td>[astronomi, histori]</td>\n",
       "      <td>astronomi histori</td>\n",
       "    </tr>\n",
       "    <tr>\n",
       "      <th>2</th>\n",
       "      <td>925</td>\n",
       "      <td>60000000049753</td>\n",
       "      <td>A-BATEMAN</td>\n",
       "      <td>LIBRO</td>\n",
       "      <td>0</td>\n",
       "      <td>933606</td>\n",
       "      <td>1</td>\n",
       "      <td>None</td>\n",
       "      <td>Nicolás Copérnico, 500 aniversario, 1473-1973</td>\n",
       "      <td>astronomia historia</td>\n",
       "      <td>1973.0</td>\n",
       "      <td>925.2</td>\n",
       "      <td>Galilei, Galileo|d1564-1642</td>\n",
       "      <td>astronomia historia</td>\n",
       "      <td>[astronomi, histori]</td>\n",
       "      <td>astronomi histori</td>\n",
       "    </tr>\n",
       "  </tbody>\n",
       "</table>\n",
       "</div>"
      ],
      "text/plain": [
       "  Signatura          IDItem UbicacionActual TipoItem  TotalPrestamos   Llave  \\\n",
       "0       925  60000000049754       A-BATEMAN    LIBRO               0  933604   \n",
       "1       925  60000000049751       A-BATEMAN    LIBRO               0  933606   \n",
       "2       925  60000000049753       A-BATEMAN    LIBRO               0  933606   \n",
       "\n",
       "   Copias                          Autor  \\\n",
       "0       1  Álvarez Ríos, Baldomero 1924-   \n",
       "1       1                           None   \n",
       "2       1                           None   \n",
       "\n",
       "                                              Titulo  \\\n",
       "0  Copernico gigante del Renacimiento Baldomero A...   \n",
       "1      Nicolás Copérnico, 500 aniversario, 1473-1973   \n",
       "2      Nicolás Copérnico, 500 aniversario, 1473-1973   \n",
       "\n",
       "                         Tema650  AnioPublicacion  Dewey  \\\n",
       "0  astronomos polonia biografias           1973.0  925.2   \n",
       "1            astronomia historia           1973.0  925.2   \n",
       "2            astronomia historia           1973.0  925.2   \n",
       "\n",
       "                     TemaDewey                       Original  \\\n",
       "0  Galilei, Galileo|d1564-1642  astronomos polonia biografias   \n",
       "1  Galilei, Galileo|d1564-1642            astronomia historia   \n",
       "2  Galilei, Galileo|d1564-1642            astronomia historia   \n",
       "\n",
       "                          Temas                     Union  \n",
       "0  [astronom, poloni, biografi]  astronom poloni biografi  \n",
       "1          [astronomi, histori]         astronomi histori  \n",
       "2          [astronomi, histori]         astronomi histori  "
      ]
     },
     "metadata": {},
     "output_type": "display_data"
    }
   ],
   "source": [
    "display(datasetPrestamos.head(3))\n",
    "display(datasetMaterial.head(3))"
   ]
  },
  {
   "cell_type": "code",
   "execution_count": 9,
   "metadata": {
    "executionInfo": {
     "elapsed": 175,
     "status": "ok",
     "timestamp": 1632954150716,
     "user": {
      "displayName": "juan sebastian angarita torres",
      "photoUrl": "https://lh3.googleusercontent.com/a-/AOh14GgjiV1o_Xb2Ov2kAJhpXcHsgVLy47m-BxyXrYYMfw=s64",
      "userId": "11476954540008106843"
     },
     "user_tz": 300
    },
    "id": "-TL4szmJ-idh"
   },
   "outputs": [],
   "source": [
    "#podemos las dos columnas a transformar en el mismo formato String\n",
    "datasetPrestamos['IDItem'] = datasetPrestamos['IDItem'].apply(lambda x: str(x))\n",
    "datasetMaterial['IDItem'] = datasetMaterial['IDItem'].apply(lambda x: str(x))"
   ]
  },
  {
   "cell_type": "code",
   "execution_count": 10,
   "metadata": {
    "executionInfo": {
     "elapsed": 2033,
     "status": "ok",
     "timestamp": 1632954152747,
     "user": {
      "displayName": "juan sebastian angarita torres",
      "photoUrl": "https://lh3.googleusercontent.com/a-/AOh14GgjiV1o_Xb2Ov2kAJhpXcHsgVLy47m-BxyXrYYMfw=s64",
      "userId": "11476954540008106843"
     },
     "user_tz": 300
    },
    "id": "0apAsQkx4qn7"
   },
   "outputs": [],
   "source": [
    "dpf_data = pd.DataFrame(data=datasetPrestamos)\n",
    "dmf_d_data = pd.DataFrame(data=datasetMaterial)\n",
    "join_dm_dp = pd.merge(dpf_data, dmf_d_data, left_on='IDItem', right_on='IDItem', how='left')"
   ]
  },
  {
   "cell_type": "code",
   "execution_count": 11,
   "metadata": {
    "colab": {
     "base_uri": "https://localhost:8080/"
    },
    "executionInfo": {
     "elapsed": 7,
     "status": "ok",
     "timestamp": 1632954152747,
     "user": {
      "displayName": "juan sebastian angarita torres",
      "photoUrl": "https://lh3.googleusercontent.com/a-/AOh14GgjiV1o_Xb2Ov2kAJhpXcHsgVLy47m-BxyXrYYMfw=s64",
      "userId": "11476954540008106843"
     },
     "user_tz": 300
    },
    "id": "gWHar8P87fhe",
    "outputId": "57375aa8-c2ac-456a-c215-e931e3dcef93"
   },
   "outputs": [
    {
     "name": "stdout",
     "output_type": "stream",
     "text": [
      "Prestamos size: (489737, 14)\n",
      "Material size: (340698, 16)\n",
      "Join size: (489737, 29)\n"
     ]
    }
   ],
   "source": [
    "print(\"Prestamos size:\", datasetPrestamos.shape)\n",
    "print(\"Material size:\", datasetMaterial.shape)\n",
    "print(\"Join size:\", join_dm_dp.shape)"
   ]
  },
  {
   "cell_type": "code",
   "execution_count": 12,
   "metadata": {
    "colab": {
     "base_uri": "https://localhost:8080/",
     "height": 576
    },
    "executionInfo": {
     "elapsed": 6,
     "status": "ok",
     "timestamp": 1632954152748,
     "user": {
      "displayName": "juan sebastian angarita torres",
      "photoUrl": "https://lh3.googleusercontent.com/a-/AOh14GgjiV1o_Xb2Ov2kAJhpXcHsgVLy47m-BxyXrYYMfw=s64",
      "userId": "11476954540008106843"
     },
     "user_tz": 300
    },
    "id": "o1SuFVjX8ZcT",
    "outputId": "e3e3c3bd-de29-4099-dffa-3eee64e65751"
   },
   "outputs": [
    {
     "data": {
      "text/html": [
       "<div>\n",
       "<style scoped>\n",
       "    .dataframe tbody tr th:only-of-type {\n",
       "        vertical-align: middle;\n",
       "    }\n",
       "\n",
       "    .dataframe tbody tr th {\n",
       "        vertical-align: top;\n",
       "    }\n",
       "\n",
       "    .dataframe thead th {\n",
       "        text-align: right;\n",
       "    }\n",
       "</style>\n",
       "<table border=\"1\" class=\"dataframe\">\n",
       "  <thead>\n",
       "    <tr style=\"text-align: right;\">\n",
       "      <th></th>\n",
       "      <th>RowID</th>\n",
       "      <th>Mes</th>\n",
       "      <th>Fecha</th>\n",
       "      <th>IDItem</th>\n",
       "      <th>NumeroUbicacion</th>\n",
       "      <th>Dewey_x</th>\n",
       "      <th>Ubicacion</th>\n",
       "      <th>TipoItem_x</th>\n",
       "      <th>Llave_x</th>\n",
       "      <th>Perfil</th>\n",
       "      <th>...</th>\n",
       "      <th>Copias</th>\n",
       "      <th>Autor</th>\n",
       "      <th>Titulo</th>\n",
       "      <th>Tema650</th>\n",
       "      <th>AnioPublicacion</th>\n",
       "      <th>Dewey_y</th>\n",
       "      <th>TemaDewey</th>\n",
       "      <th>Original</th>\n",
       "      <th>Temas</th>\n",
       "      <th>Union</th>\n",
       "    </tr>\n",
       "  </thead>\n",
       "  <tbody>\n",
       "    <tr>\n",
       "      <th>0</th>\n",
       "      <td>Row0</td>\n",
       "      <td>Enero</td>\n",
       "      <td>1547050497000</td>\n",
       "      <td>80000005327627</td>\n",
       "      <td>720.98 A71S</td>\n",
       "      <td>720</td>\n",
       "      <td>COL-GRAL-2</td>\n",
       "      <td>LIBRO</td>\n",
       "      <td>866245</td>\n",
       "      <td>A-EGRESADO</td>\n",
       "      <td>...</td>\n",
       "      <td>1.0</td>\n",
       "      <td>Arango Cardinal, Silvia 1948-</td>\n",
       "      <td>Ciudad y arquitectura seis generaciones que co...</td>\n",
       "      <td>arquitectura historia america latina</td>\n",
       "      <td>2012.0</td>\n",
       "      <td>720.98</td>\n",
       "      <td>Arquitectura latinoamericana</td>\n",
       "      <td>arquitectura historia america latina</td>\n",
       "      <td>[arquitectur, histori, amer, latin]</td>\n",
       "      <td>arquitectur histori amer latin</td>\n",
       "    </tr>\n",
       "    <tr>\n",
       "      <th>1</th>\n",
       "      <td>Row1</td>\n",
       "      <td>Enero</td>\n",
       "      <td>1547050500000</td>\n",
       "      <td>80000001191496</td>\n",
       "      <td>720.9861 A71</td>\n",
       "      <td>720</td>\n",
       "      <td>COL-GRAL-2</td>\n",
       "      <td>LIBRO</td>\n",
       "      <td>309945</td>\n",
       "      <td>A-EGRESADO</td>\n",
       "      <td>...</td>\n",
       "      <td>2.0</td>\n",
       "      <td>Arango Cardinal, Silvia 1948-</td>\n",
       "      <td>Historia de la arquitectura en Colombia Silvia...</td>\n",
       "      <td>arquitectura colonial historia colombia</td>\n",
       "      <td>1993.0</td>\n",
       "      <td>720.9861</td>\n",
       "      <td>Arquitectura colombiana</td>\n",
       "      <td>arquitectura colonial historia colombia</td>\n",
       "      <td>[arquitectur, colonial, histori, colombi]</td>\n",
       "      <td>arquitectur colonial histori colombi</td>\n",
       "    </tr>\n",
       "    <tr>\n",
       "      <th>2</th>\n",
       "      <td>Row2</td>\n",
       "      <td>Enero</td>\n",
       "      <td>1547138763000</td>\n",
       "      <td>80000004979759</td>\n",
       "      <td>540 CH15Q 2010</td>\n",
       "      <td>540</td>\n",
       "      <td>COL-GRAL-3</td>\n",
       "      <td>LIBRO</td>\n",
       "      <td>822727</td>\n",
       "      <td>A-EGRESADO</td>\n",
       "      <td>...</td>\n",
       "      <td>2.0</td>\n",
       "      <td>Chang, Raymond</td>\n",
       "      <td>Química Raymond Chang ; revisión técnica Rosa ...</td>\n",
       "      <td>quimica</td>\n",
       "      <td>2010.0</td>\n",
       "      <td>540</td>\n",
       "      <td>Química</td>\n",
       "      <td>quimica</td>\n",
       "      <td>[quimic]</td>\n",
       "      <td>quimic</td>\n",
       "    </tr>\n",
       "    <tr>\n",
       "      <th>3</th>\n",
       "      <td>Row3</td>\n",
       "      <td>Enero</td>\n",
       "      <td>1547138765000</td>\n",
       "      <td>80000004509512</td>\n",
       "      <td>512 B151</td>\n",
       "      <td>510</td>\n",
       "      <td>COL-GRAL-3</td>\n",
       "      <td>LIBRO</td>\n",
       "      <td>784541</td>\n",
       "      <td>A-EGRESADO</td>\n",
       "      <td>...</td>\n",
       "      <td>1.0</td>\n",
       "      <td>Baldor, J. Aurelio</td>\n",
       "      <td>Álgebra con gráficos y 6523 ejercicios y probl...</td>\n",
       "      <td>algebra</td>\n",
       "      <td>2009.0</td>\n",
       "      <td>512</td>\n",
       "      <td>Álgebra</td>\n",
       "      <td>algebra</td>\n",
       "      <td>[algebr]</td>\n",
       "      <td>algebr</td>\n",
       "    </tr>\n",
       "    <tr>\n",
       "      <th>4</th>\n",
       "      <td>Row4</td>\n",
       "      <td>Enero</td>\n",
       "      <td>1547300269000</td>\n",
       "      <td>80000005270756</td>\n",
       "      <td>712 M17E</td>\n",
       "      <td>710</td>\n",
       "      <td>COL-GRAL-2</td>\n",
       "      <td>LIBRO</td>\n",
       "      <td>858473</td>\n",
       "      <td>A-EGRESADO</td>\n",
       "      <td>...</td>\n",
       "      <td>2.0</td>\n",
       "      <td>Martínez de Pisón, Eduardo 1937-</td>\n",
       "      <td>Miradas sobre el paisaje Eduardo Martínez de P...</td>\n",
       "      <td>arquitectura del paisaje</td>\n",
       "      <td>2009.0</td>\n",
       "      <td>712</td>\n",
       "      <td>Arquitectura del paisaje</td>\n",
       "      <td>arquitectura del paisaje</td>\n",
       "      <td>[arquitectur, paisaj]</td>\n",
       "      <td>arquitectur paisaj</td>\n",
       "    </tr>\n",
       "  </tbody>\n",
       "</table>\n",
       "<p>5 rows × 29 columns</p>\n",
       "</div>"
      ],
      "text/plain": [
       "  RowID    Mes          Fecha          IDItem NumeroUbicacion Dewey_x  \\\n",
       "0  Row0  Enero  1547050497000  80000005327627     720.98 A71S     720   \n",
       "1  Row1  Enero  1547050500000  80000001191496    720.9861 A71     720   \n",
       "2  Row2  Enero  1547138763000  80000004979759  540 CH15Q 2010     540   \n",
       "3  Row3  Enero  1547138765000  80000004509512        512 B151     510   \n",
       "4  Row4  Enero  1547300269000  80000005270756        712 M17E     710   \n",
       "\n",
       "    Ubicacion TipoItem_x Llave_x      Perfil  ... Copias  \\\n",
       "0  COL-GRAL-2      LIBRO  866245  A-EGRESADO  ...    1.0   \n",
       "1  COL-GRAL-2      LIBRO  309945  A-EGRESADO  ...    2.0   \n",
       "2  COL-GRAL-3      LIBRO  822727  A-EGRESADO  ...    2.0   \n",
       "3  COL-GRAL-3      LIBRO  784541  A-EGRESADO  ...    1.0   \n",
       "4  COL-GRAL-2      LIBRO  858473  A-EGRESADO  ...    2.0   \n",
       "\n",
       "                              Autor  \\\n",
       "0     Arango Cardinal, Silvia 1948-   \n",
       "1     Arango Cardinal, Silvia 1948-   \n",
       "2                    Chang, Raymond   \n",
       "3                Baldor, J. Aurelio   \n",
       "4  Martínez de Pisón, Eduardo 1937-   \n",
       "\n",
       "                                              Titulo  \\\n",
       "0  Ciudad y arquitectura seis generaciones que co...   \n",
       "1  Historia de la arquitectura en Colombia Silvia...   \n",
       "2  Química Raymond Chang ; revisión técnica Rosa ...   \n",
       "3  Álgebra con gráficos y 6523 ejercicios y probl...   \n",
       "4  Miradas sobre el paisaje Eduardo Martínez de P...   \n",
       "\n",
       "                                   Tema650 AnioPublicacion   Dewey_y  \\\n",
       "0     arquitectura historia america latina          2012.0    720.98   \n",
       "1  arquitectura colonial historia colombia          1993.0  720.9861   \n",
       "2                                  quimica          2010.0       540   \n",
       "3                                  algebra          2009.0       512   \n",
       "4                 arquitectura del paisaje          2009.0       712   \n",
       "\n",
       "                      TemaDewey                                 Original  \\\n",
       "0  Arquitectura latinoamericana     arquitectura historia america latina   \n",
       "1       Arquitectura colombiana  arquitectura colonial historia colombia   \n",
       "2                       Química                                  quimica   \n",
       "3                       Álgebra                                  algebra   \n",
       "4      Arquitectura del paisaje                 arquitectura del paisaje   \n",
       "\n",
       "                                       Temas  \\\n",
       "0        [arquitectur, histori, amer, latin]   \n",
       "1  [arquitectur, colonial, histori, colombi]   \n",
       "2                                   [quimic]   \n",
       "3                                   [algebr]   \n",
       "4                      [arquitectur, paisaj]   \n",
       "\n",
       "                                  Union  \n",
       "0        arquitectur histori amer latin  \n",
       "1  arquitectur colonial histori colombi  \n",
       "2                                quimic  \n",
       "3                                algebr  \n",
       "4                    arquitectur paisaj  \n",
       "\n",
       "[5 rows x 29 columns]"
      ]
     },
     "execution_count": 12,
     "metadata": {},
     "output_type": "execute_result"
    }
   ],
   "source": [
    "join_dm_dp.head(5)"
   ]
  },
  {
   "cell_type": "markdown",
   "metadata": {
    "id": "n8Ma3Npy-ALR"
   },
   "source": [
    "Verificaremos que si hay prestamos si un material asociado"
   ]
  },
  {
   "cell_type": "code",
   "execution_count": 13,
   "metadata": {
    "colab": {
     "base_uri": "https://localhost:8080/"
    },
    "executionInfo": {
     "elapsed": 698,
     "status": "ok",
     "timestamp": 1632954153442,
     "user": {
      "displayName": "juan sebastian angarita torres",
      "photoUrl": "https://lh3.googleusercontent.com/a-/AOh14GgjiV1o_Xb2Ov2kAJhpXcHsgVLy47m-BxyXrYYMfw=s64",
      "userId": "11476954540008106843"
     },
     "user_tz": 300
    },
    "id": "GTfF8udt-Ah_",
    "outputId": "b54f6be4-5077-43ab-8144-c639a8282393"
   },
   "outputs": [
    {
     "data": {
      "text/plain": [
       "263"
      ]
     },
     "execution_count": 13,
     "metadata": {},
     "output_type": "execute_result"
    }
   ],
   "source": [
    "eliminar = join_dm_dp.loc[join_dm_dp[\"Titulo\"].isnull()]\n",
    "len(join_dm_dp.loc[join_dm_dp[\"Titulo\"].isnull()])\n"
   ]
  },
  {
   "cell_type": "markdown",
   "metadata": {
    "id": "l7dSmTvZ_WZ1"
   },
   "source": [
    "Eliminaremos estos registros para evitar introducir ruido a los datos."
   ]
  },
  {
   "cell_type": "code",
   "execution_count": 14,
   "metadata": {
    "colab": {
     "base_uri": "https://localhost:8080/"
    },
    "executionInfo": {
     "elapsed": 295,
     "status": "ok",
     "timestamp": 1632954153735,
     "user": {
      "displayName": "juan sebastian angarita torres",
      "photoUrl": "https://lh3.googleusercontent.com/a-/AOh14GgjiV1o_Xb2Ov2kAJhpXcHsgVLy47m-BxyXrYYMfw=s64",
      "userId": "11476954540008106843"
     },
     "user_tz": 300
    },
    "id": "kmctTvPI_bYn",
    "outputId": "ec53795e-2a4a-4535-d440-5cb2691bb3cc"
   },
   "outputs": [
    {
     "data": {
      "text/plain": [
       "(489474, 29)"
      ]
     },
     "execution_count": 14,
     "metadata": {},
     "output_type": "execute_result"
    }
   ],
   "source": [
    "df = join_dm_dp[~join_dm_dp.index.isin(eliminar.index)]\n",
    "df.shape"
   ]
  },
  {
   "cell_type": "markdown",
   "metadata": {
    "id": "Onf8pRhTCu4L"
   },
   "source": [
    "Eliminamos columnas duplicadas antes de exportar el dataset"
   ]
  },
  {
   "cell_type": "code",
   "execution_count": 15,
   "metadata": {
    "colab": {
     "base_uri": "https://localhost:8080/"
    },
    "executionInfo": {
     "elapsed": 6,
     "status": "ok",
     "timestamp": 1632954153736,
     "user": {
      "displayName": "juan sebastian angarita torres",
      "photoUrl": "https://lh3.googleusercontent.com/a-/AOh14GgjiV1o_Xb2Ov2kAJhpXcHsgVLy47m-BxyXrYYMfw=s64",
      "userId": "11476954540008106843"
     },
     "user_tz": 300
    },
    "id": "PyMZnlF_CzFK",
    "outputId": "0c2926f0-46df-4aa3-aada-b9bbec9abe50"
   },
   "outputs": [
    {
     "data": {
      "text/plain": [
       "Index(['RowID', 'Mes', 'Fecha', 'IDItem', 'NumeroUbicacion', 'Dewey_x',\n",
       "       'Ubicacion', 'TipoItem_x', 'Llave_x', 'Perfil', 'Programa', 'Facultad',\n",
       "       'IDUsuario', 'Year', 'Signatura', 'UbicacionActual', 'TipoItem_y',\n",
       "       'TotalPrestamos', 'Llave_y', 'Copias', 'Autor', 'Titulo', 'Tema650',\n",
       "       'AnioPublicacion', 'Dewey_y', 'TemaDewey', 'Original', 'Temas',\n",
       "       'Union'],\n",
       "      dtype='object')"
      ]
     },
     "execution_count": 15,
     "metadata": {},
     "output_type": "execute_result"
    }
   ],
   "source": [
    "df.columns"
   ]
  },
  {
   "cell_type": "code",
   "execution_count": 20,
   "metadata": {
    "executionInfo": {
     "elapsed": 178,
     "status": "ok",
     "timestamp": 1632954153910,
     "user": {
      "displayName": "juan sebastian angarita torres",
      "photoUrl": "https://lh3.googleusercontent.com/a-/AOh14GgjiV1o_Xb2Ov2kAJhpXcHsgVLy47m-BxyXrYYMfw=s64",
      "userId": "11476954540008106843"
     },
     "user_tz": 300
    },
    "id": "EaIh5SNuC1Cq"
   },
   "outputs": [
    {
     "ename": "KeyError",
     "evalue": "\"['Llave_y' 'TipoItem_x' 'Copias' 'TotalPrestamos' 'UbicacionActual'\\n 'Perfil' 'Tema650' 'Original' 'Mes'] not found in axis\"",
     "output_type": "error",
     "traceback": [
      "\u001b[1;31m---------------------------------------------------------------------------\u001b[0m",
      "\u001b[1;31mKeyError\u001b[0m                                  Traceback (most recent call last)",
      "\u001b[1;32m<ipython-input-20-4fb29446d53d>\u001b[0m in \u001b[0;36m<module>\u001b[1;34m\u001b[0m\n\u001b[1;32m----> 1\u001b[1;33m \u001b[0mdf\u001b[0m \u001b[1;33m=\u001b[0m \u001b[0mdf\u001b[0m\u001b[1;33m.\u001b[0m\u001b[0mdrop\u001b[0m\u001b[1;33m(\u001b[0m\u001b[1;33m[\u001b[0m\u001b[1;34m'Llave_y'\u001b[0m\u001b[1;33m,\u001b[0m\u001b[1;34m'TipoItem_x'\u001b[0m\u001b[1;33m,\u001b[0m\u001b[1;34m'Copias'\u001b[0m\u001b[1;33m,\u001b[0m\u001b[1;34m'TotalPrestamos'\u001b[0m\u001b[1;33m,\u001b[0m\u001b[1;34m'UbicacionActual'\u001b[0m\u001b[1;33m,\u001b[0m\u001b[1;34m'Perfil'\u001b[0m\u001b[1;33m,\u001b[0m\u001b[1;34m'Tema650'\u001b[0m\u001b[1;33m,\u001b[0m\u001b[1;34m'Original'\u001b[0m\u001b[1;33m,\u001b[0m\u001b[1;34m'Mes'\u001b[0m\u001b[1;33m]\u001b[0m\u001b[1;33m,\u001b[0m\u001b[0maxis\u001b[0m \u001b[1;33m=\u001b[0m \u001b[1;36m1\u001b[0m\u001b[1;33m)\u001b[0m\u001b[1;33m\u001b[0m\u001b[1;33m\u001b[0m\u001b[0m\n\u001b[0m\u001b[0;32m      2\u001b[0m \u001b[0mprint\u001b[0m\u001b[1;33m(\u001b[0m\u001b[0mdf\u001b[0m\u001b[1;33m[\u001b[0m\u001b[1;34m'Signatura'\u001b[0m\u001b[1;33m]\u001b[0m\u001b[1;33m.\u001b[0m\u001b[0munique\u001b[0m\u001b[1;33m(\u001b[0m\u001b[1;33m)\u001b[0m\u001b[1;33m)\u001b[0m\u001b[1;33m\u001b[0m\u001b[1;33m\u001b[0m\u001b[0m\n",
      "\u001b[1;32m~\\anaconda3\\lib\\site-packages\\pandas\\core\\frame.py\u001b[0m in \u001b[0;36mdrop\u001b[1;34m(self, labels, axis, index, columns, level, inplace, errors)\u001b[0m\n\u001b[0;32m   4306\u001b[0m                 \u001b[0mweight\u001b[0m  \u001b[1;36m1.0\u001b[0m     \u001b[1;36m0.8\u001b[0m\u001b[1;33m\u001b[0m\u001b[1;33m\u001b[0m\u001b[0m\n\u001b[0;32m   4307\u001b[0m         \"\"\"\n\u001b[1;32m-> 4308\u001b[1;33m         return super().drop(\n\u001b[0m\u001b[0;32m   4309\u001b[0m             \u001b[0mlabels\u001b[0m\u001b[1;33m=\u001b[0m\u001b[0mlabels\u001b[0m\u001b[1;33m,\u001b[0m\u001b[1;33m\u001b[0m\u001b[1;33m\u001b[0m\u001b[0m\n\u001b[0;32m   4310\u001b[0m             \u001b[0maxis\u001b[0m\u001b[1;33m=\u001b[0m\u001b[0maxis\u001b[0m\u001b[1;33m,\u001b[0m\u001b[1;33m\u001b[0m\u001b[1;33m\u001b[0m\u001b[0m\n",
      "\u001b[1;32m~\\anaconda3\\lib\\site-packages\\pandas\\core\\generic.py\u001b[0m in \u001b[0;36mdrop\u001b[1;34m(self, labels, axis, index, columns, level, inplace, errors)\u001b[0m\n\u001b[0;32m   4151\u001b[0m         \u001b[1;32mfor\u001b[0m \u001b[0maxis\u001b[0m\u001b[1;33m,\u001b[0m \u001b[0mlabels\u001b[0m \u001b[1;32min\u001b[0m \u001b[0maxes\u001b[0m\u001b[1;33m.\u001b[0m\u001b[0mitems\u001b[0m\u001b[1;33m(\u001b[0m\u001b[1;33m)\u001b[0m\u001b[1;33m:\u001b[0m\u001b[1;33m\u001b[0m\u001b[1;33m\u001b[0m\u001b[0m\n\u001b[0;32m   4152\u001b[0m             \u001b[1;32mif\u001b[0m \u001b[0mlabels\u001b[0m \u001b[1;32mis\u001b[0m \u001b[1;32mnot\u001b[0m \u001b[1;32mNone\u001b[0m\u001b[1;33m:\u001b[0m\u001b[1;33m\u001b[0m\u001b[1;33m\u001b[0m\u001b[0m\n\u001b[1;32m-> 4153\u001b[1;33m                 \u001b[0mobj\u001b[0m \u001b[1;33m=\u001b[0m \u001b[0mobj\u001b[0m\u001b[1;33m.\u001b[0m\u001b[0m_drop_axis\u001b[0m\u001b[1;33m(\u001b[0m\u001b[0mlabels\u001b[0m\u001b[1;33m,\u001b[0m \u001b[0maxis\u001b[0m\u001b[1;33m,\u001b[0m \u001b[0mlevel\u001b[0m\u001b[1;33m=\u001b[0m\u001b[0mlevel\u001b[0m\u001b[1;33m,\u001b[0m \u001b[0merrors\u001b[0m\u001b[1;33m=\u001b[0m\u001b[0merrors\u001b[0m\u001b[1;33m)\u001b[0m\u001b[1;33m\u001b[0m\u001b[1;33m\u001b[0m\u001b[0m\n\u001b[0m\u001b[0;32m   4154\u001b[0m \u001b[1;33m\u001b[0m\u001b[0m\n\u001b[0;32m   4155\u001b[0m         \u001b[1;32mif\u001b[0m \u001b[0minplace\u001b[0m\u001b[1;33m:\u001b[0m\u001b[1;33m\u001b[0m\u001b[1;33m\u001b[0m\u001b[0m\n",
      "\u001b[1;32m~\\anaconda3\\lib\\site-packages\\pandas\\core\\generic.py\u001b[0m in \u001b[0;36m_drop_axis\u001b[1;34m(self, labels, axis, level, errors)\u001b[0m\n\u001b[0;32m   4186\u001b[0m                 \u001b[0mnew_axis\u001b[0m \u001b[1;33m=\u001b[0m \u001b[0maxis\u001b[0m\u001b[1;33m.\u001b[0m\u001b[0mdrop\u001b[0m\u001b[1;33m(\u001b[0m\u001b[0mlabels\u001b[0m\u001b[1;33m,\u001b[0m \u001b[0mlevel\u001b[0m\u001b[1;33m=\u001b[0m\u001b[0mlevel\u001b[0m\u001b[1;33m,\u001b[0m \u001b[0merrors\u001b[0m\u001b[1;33m=\u001b[0m\u001b[0merrors\u001b[0m\u001b[1;33m)\u001b[0m\u001b[1;33m\u001b[0m\u001b[1;33m\u001b[0m\u001b[0m\n\u001b[0;32m   4187\u001b[0m             \u001b[1;32melse\u001b[0m\u001b[1;33m:\u001b[0m\u001b[1;33m\u001b[0m\u001b[1;33m\u001b[0m\u001b[0m\n\u001b[1;32m-> 4188\u001b[1;33m                 \u001b[0mnew_axis\u001b[0m \u001b[1;33m=\u001b[0m \u001b[0maxis\u001b[0m\u001b[1;33m.\u001b[0m\u001b[0mdrop\u001b[0m\u001b[1;33m(\u001b[0m\u001b[0mlabels\u001b[0m\u001b[1;33m,\u001b[0m \u001b[0merrors\u001b[0m\u001b[1;33m=\u001b[0m\u001b[0merrors\u001b[0m\u001b[1;33m)\u001b[0m\u001b[1;33m\u001b[0m\u001b[1;33m\u001b[0m\u001b[0m\n\u001b[0m\u001b[0;32m   4189\u001b[0m             \u001b[0mresult\u001b[0m \u001b[1;33m=\u001b[0m \u001b[0mself\u001b[0m\u001b[1;33m.\u001b[0m\u001b[0mreindex\u001b[0m\u001b[1;33m(\u001b[0m\u001b[1;33m**\u001b[0m\u001b[1;33m{\u001b[0m\u001b[0maxis_name\u001b[0m\u001b[1;33m:\u001b[0m \u001b[0mnew_axis\u001b[0m\u001b[1;33m}\u001b[0m\u001b[1;33m)\u001b[0m\u001b[1;33m\u001b[0m\u001b[1;33m\u001b[0m\u001b[0m\n\u001b[0;32m   4190\u001b[0m \u001b[1;33m\u001b[0m\u001b[0m\n",
      "\u001b[1;32m~\\anaconda3\\lib\\site-packages\\pandas\\core\\indexes\\base.py\u001b[0m in \u001b[0;36mdrop\u001b[1;34m(self, labels, errors)\u001b[0m\n\u001b[0;32m   5589\u001b[0m         \u001b[1;32mif\u001b[0m \u001b[0mmask\u001b[0m\u001b[1;33m.\u001b[0m\u001b[0many\u001b[0m\u001b[1;33m(\u001b[0m\u001b[1;33m)\u001b[0m\u001b[1;33m:\u001b[0m\u001b[1;33m\u001b[0m\u001b[1;33m\u001b[0m\u001b[0m\n\u001b[0;32m   5590\u001b[0m             \u001b[1;32mif\u001b[0m \u001b[0merrors\u001b[0m \u001b[1;33m!=\u001b[0m \u001b[1;34m\"ignore\"\u001b[0m\u001b[1;33m:\u001b[0m\u001b[1;33m\u001b[0m\u001b[1;33m\u001b[0m\u001b[0m\n\u001b[1;32m-> 5591\u001b[1;33m                 \u001b[1;32mraise\u001b[0m \u001b[0mKeyError\u001b[0m\u001b[1;33m(\u001b[0m\u001b[1;34mf\"{labels[mask]} not found in axis\"\u001b[0m\u001b[1;33m)\u001b[0m\u001b[1;33m\u001b[0m\u001b[1;33m\u001b[0m\u001b[0m\n\u001b[0m\u001b[0;32m   5592\u001b[0m             \u001b[0mindexer\u001b[0m \u001b[1;33m=\u001b[0m \u001b[0mindexer\u001b[0m\u001b[1;33m[\u001b[0m\u001b[1;33m~\u001b[0m\u001b[0mmask\u001b[0m\u001b[1;33m]\u001b[0m\u001b[1;33m\u001b[0m\u001b[1;33m\u001b[0m\u001b[0m\n\u001b[0;32m   5593\u001b[0m         \u001b[1;32mreturn\u001b[0m \u001b[0mself\u001b[0m\u001b[1;33m.\u001b[0m\u001b[0mdelete\u001b[0m\u001b[1;33m(\u001b[0m\u001b[0mindexer\u001b[0m\u001b[1;33m)\u001b[0m\u001b[1;33m\u001b[0m\u001b[1;33m\u001b[0m\u001b[0m\n",
      "\u001b[1;31mKeyError\u001b[0m: \"['Llave_y' 'TipoItem_x' 'Copias' 'TotalPrestamos' 'UbicacionActual'\\n 'Perfil' 'Tema650' 'Original' 'Mes'] not found in axis\""
     ]
    }
   ],
   "source": [
    "df = df.drop(['Llave_y','TipoItem_x','Copias','TotalPrestamos','UbicacionActual','Perfil','Tema650','Original','Mes'],axis = 1)\n"
   ]
  },
  {
   "cell_type": "code",
   "execution_count": 17,
   "metadata": {
    "colab": {
     "base_uri": "https://localhost:8080/",
     "height": 363
    },
    "executionInfo": {
     "elapsed": 7,
     "status": "ok",
     "timestamp": 1632954153910,
     "user": {
      "displayName": "juan sebastian angarita torres",
      "photoUrl": "https://lh3.googleusercontent.com/a-/AOh14GgjiV1o_Xb2Ov2kAJhpXcHsgVLy47m-BxyXrYYMfw=s64",
      "userId": "11476954540008106843"
     },
     "user_tz": 300
    },
    "id": "lFPcllPkTOeY",
    "outputId": "9457c7cd-7f9c-40aa-ea4f-0e4debb9fc78"
   },
   "outputs": [
    {
     "data": {
      "text/html": [
       "<div>\n",
       "<style scoped>\n",
       "    .dataframe tbody tr th:only-of-type {\n",
       "        vertical-align: middle;\n",
       "    }\n",
       "\n",
       "    .dataframe tbody tr th {\n",
       "        vertical-align: top;\n",
       "    }\n",
       "\n",
       "    .dataframe thead th {\n",
       "        text-align: right;\n",
       "    }\n",
       "</style>\n",
       "<table border=\"1\" class=\"dataframe\">\n",
       "  <thead>\n",
       "    <tr style=\"text-align: right;\">\n",
       "      <th></th>\n",
       "      <th>RowID</th>\n",
       "      <th>Fecha</th>\n",
       "      <th>IDItem</th>\n",
       "      <th>NumeroUbicacion</th>\n",
       "      <th>Dewey_x</th>\n",
       "      <th>Ubicacion</th>\n",
       "      <th>Llave_x</th>\n",
       "      <th>Programa</th>\n",
       "      <th>Facultad</th>\n",
       "      <th>IDUsuario</th>\n",
       "      <th>Year</th>\n",
       "      <th>Signatura</th>\n",
       "      <th>TipoItem_y</th>\n",
       "      <th>Autor</th>\n",
       "      <th>Titulo</th>\n",
       "      <th>AnioPublicacion</th>\n",
       "      <th>Dewey_y</th>\n",
       "      <th>TemaDewey</th>\n",
       "      <th>Temas</th>\n",
       "      <th>Union</th>\n",
       "    </tr>\n",
       "  </thead>\n",
       "  <tbody>\n",
       "    <tr>\n",
       "      <th>0</th>\n",
       "      <td>Row0</td>\n",
       "      <td>1547050497000</td>\n",
       "      <td>80000005327627</td>\n",
       "      <td>720.98 A71S</td>\n",
       "      <td>720</td>\n",
       "      <td>COL-GRAL-2</td>\n",
       "      <td>866245</td>\n",
       "      <td>CARRERA DE ARQUITECTURA</td>\n",
       "      <td>arquitectura y diseño</td>\n",
       "      <td>c361c772cd0220bb16dcfb2ad803e4903334ab94</td>\n",
       "      <td>2019</td>\n",
       "      <td>720</td>\n",
       "      <td>LIBRO</td>\n",
       "      <td>Arango Cardinal, Silvia 1948-</td>\n",
       "      <td>Ciudad y arquitectura seis generaciones que co...</td>\n",
       "      <td>2012.0</td>\n",
       "      <td>720.98</td>\n",
       "      <td>Arquitectura latinoamericana</td>\n",
       "      <td>[arquitectur, histori, amer, latin]</td>\n",
       "      <td>arquitectur histori amer latin</td>\n",
       "    </tr>\n",
       "    <tr>\n",
       "      <th>1</th>\n",
       "      <td>Row1</td>\n",
       "      <td>1547050500000</td>\n",
       "      <td>80000001191496</td>\n",
       "      <td>720.9861 A71</td>\n",
       "      <td>720</td>\n",
       "      <td>COL-GRAL-2</td>\n",
       "      <td>309945</td>\n",
       "      <td>CARRERA DE ARQUITECTURA</td>\n",
       "      <td>arquitectura y diseño</td>\n",
       "      <td>c361c772cd0220bb16dcfb2ad803e4903334ab94</td>\n",
       "      <td>2019</td>\n",
       "      <td>720</td>\n",
       "      <td>LIBRO</td>\n",
       "      <td>Arango Cardinal, Silvia 1948-</td>\n",
       "      <td>Historia de la arquitectura en Colombia Silvia...</td>\n",
       "      <td>1993.0</td>\n",
       "      <td>720.9861</td>\n",
       "      <td>Arquitectura colombiana</td>\n",
       "      <td>[arquitectur, colonial, histori, colombi]</td>\n",
       "      <td>arquitectur colonial histori colombi</td>\n",
       "    </tr>\n",
       "    <tr>\n",
       "      <th>2</th>\n",
       "      <td>Row2</td>\n",
       "      <td>1547138763000</td>\n",
       "      <td>80000004979759</td>\n",
       "      <td>540 CH15Q 2010</td>\n",
       "      <td>540</td>\n",
       "      <td>COL-GRAL-3</td>\n",
       "      <td>822727</td>\n",
       "      <td>CARRERA DE ARQUITECTURA</td>\n",
       "      <td>arquitectura y diseño</td>\n",
       "      <td>87b0e5a61ed712ddfaf5d478ad68c87c825997e9</td>\n",
       "      <td>2019</td>\n",
       "      <td>540</td>\n",
       "      <td>LIBRO</td>\n",
       "      <td>Chang, Raymond</td>\n",
       "      <td>Química Raymond Chang ; revisión técnica Rosa ...</td>\n",
       "      <td>2010.0</td>\n",
       "      <td>540</td>\n",
       "      <td>Química</td>\n",
       "      <td>[quimic]</td>\n",
       "      <td>quimic</td>\n",
       "    </tr>\n",
       "  </tbody>\n",
       "</table>\n",
       "</div>"
      ],
      "text/plain": [
       "  RowID          Fecha          IDItem NumeroUbicacion Dewey_x   Ubicacion  \\\n",
       "0  Row0  1547050497000  80000005327627     720.98 A71S     720  COL-GRAL-2   \n",
       "1  Row1  1547050500000  80000001191496    720.9861 A71     720  COL-GRAL-2   \n",
       "2  Row2  1547138763000  80000004979759  540 CH15Q 2010     540  COL-GRAL-3   \n",
       "\n",
       "  Llave_x                 Programa               Facultad  \\\n",
       "0  866245  CARRERA DE ARQUITECTURA  arquitectura y diseño   \n",
       "1  309945  CARRERA DE ARQUITECTURA  arquitectura y diseño   \n",
       "2  822727  CARRERA DE ARQUITECTURA  arquitectura y diseño   \n",
       "\n",
       "                                  IDUsuario  Year Signatura TipoItem_y  \\\n",
       "0  c361c772cd0220bb16dcfb2ad803e4903334ab94  2019       720      LIBRO   \n",
       "1  c361c772cd0220bb16dcfb2ad803e4903334ab94  2019       720      LIBRO   \n",
       "2  87b0e5a61ed712ddfaf5d478ad68c87c825997e9  2019       540      LIBRO   \n",
       "\n",
       "                           Autor  \\\n",
       "0  Arango Cardinal, Silvia 1948-   \n",
       "1  Arango Cardinal, Silvia 1948-   \n",
       "2                 Chang, Raymond   \n",
       "\n",
       "                                              Titulo  AnioPublicacion  \\\n",
       "0  Ciudad y arquitectura seis generaciones que co...           2012.0   \n",
       "1  Historia de la arquitectura en Colombia Silvia...           1993.0   \n",
       "2  Química Raymond Chang ; revisión técnica Rosa ...           2010.0   \n",
       "\n",
       "    Dewey_y                     TemaDewey  \\\n",
       "0    720.98  Arquitectura latinoamericana   \n",
       "1  720.9861       Arquitectura colombiana   \n",
       "2       540                       Química   \n",
       "\n",
       "                                       Temas  \\\n",
       "0        [arquitectur, histori, amer, latin]   \n",
       "1  [arquitectur, colonial, histori, colombi]   \n",
       "2                                   [quimic]   \n",
       "\n",
       "                                  Union  \n",
       "0        arquitectur histori amer latin  \n",
       "1  arquitectur colonial histori colombi  \n",
       "2                                quimic  "
      ]
     },
     "execution_count": 17,
     "metadata": {},
     "output_type": "execute_result"
    }
   ],
   "source": [
    "df.head(3)"
   ]
  },
  {
   "cell_type": "code",
   "execution_count": 21,
   "metadata": {},
   "outputs": [
    {
     "name": "stdout",
     "output_type": "stream",
     "text": [
      "['720' '540' '512' '712' '741' '814' '823' '330' '863' '696' '620' '744'\n",
      " '158' '943' '728' '574' '724' '711' '843' '745' '809' '307' '690' '301'\n",
      " '333' 'R' '352' '388' '131' '303' '302' '305' '342' '986' '861' '725'\n",
      " '344' '701' '808' '363' '692' '726' '927' '759' '895' '813' '428' '746'\n",
      " '658' '332' '004' '918' '686' '304' '747' '153' '121' '862' '370' '617'\n",
      " '136' '629' '001' '517' '926' '721' '372' '612' '306' '155' '455' '947'\n",
      " '923' '616' '346' '864' '150' '154' '791' '111' '821' '709' '704' '688'\n",
      " '005' '891' '841' '736' '727' '152' '580' '822' '523' '591' '937' '691'\n",
      " '853' '811' '509' '339' '869' '844' '851' '133' '128' '792' '881' '909'\n",
      " '327' '922' '624' '115' '242' '722' '421' '410' '420' '659' '006' '070'\n",
      " '495' '371' '801' '194' '262' '501' '113' '930' '729' '300' '338' '291'\n",
      " '385' '331' '972' '778' '910' '553' '530' '520' '928' '882' '581' '635'\n",
      " '779' '770' '723' '515' '568' '670' '694' '640' '292' '833' '739' '749'\n",
      " '954' '646' '685' '440' '335' '343' '027' '839' '710' '255' '985' '702'\n",
      " '320' '577' '664' '621' '743' '742' '935' '379' '631' '824' '625' '760'\n",
      " '894' '345' '170' '794' '983' '571' '628' '892' '322' '630' '531' '595'\n",
      " '920' '350' '618' '641' '867' '858' '608' '781' '675' '236' '666' '707'\n",
      " '448' '193' '149' '657' '398' '364' '190' '751' '340' '189' '391' '700'\n",
      " '323' '380' '796' '901' '780' '610' '668' '925' '980' '137' '378' '239'\n",
      " '326' '182' '519' '615' '457' '500' '321' '271' '819' '613' '946' '278'\n",
      " '829' '940' '575' '425' '373' '003' '598' '896' '362' '589' '677' '537'\n",
      " '717' '757' '599' '871' '348' '950' '266' '636' '593' '830' '695' '590'\n",
      " '159' '438' '341' '873' '883' '355' '604' '786' '102' '354' '508' '110'\n",
      " '597' '334' '325' '750' '915' '669' '929' '614' '949' '752' '714' '676'\n",
      " '684' '860' '415' '146' '907' '010' '294' '611' '693' '662' '160' '784'\n",
      " '914' '982' '514' '697' '365' '521' '771' '584' '764' '854' '229' '347'\n",
      " '157' '269' '171' '730' '215' '638' '609' '132' '868' '973' '516' '174'\n",
      " '195' '117' '248' '987' '849' '793' '945' '220' '172' '708' '511' '418'\n",
      " '820' '826' '100' '109' '951' '185' '196' '401' '361' '261' '852' '921'\n",
      " '188' '601' '181' '184' '836' '785' '769' '735' '787' '468' '299' '902'\n",
      " '177' '493' '510' '782' '984' '028' '765' '235' '192' '179' '776' '228'\n",
      " '761' '789' '948' '461' '866' '324' '572' '884' '526' '738' '120' '783'\n",
      " '390' '534' '758' '396' '445' '767' '272' '970' '831' '893' '475' '394'\n",
      " '384' '536' '507' '848' '126' '941' '176' '788' '309' '069' '465' '775'\n",
      " '441' '576' '471' '939' '135' '740' '134' '547' '582' '198' '897' '550'\n",
      " '430' '233' '842' '888' '297' '470' '199' '241' '213' '268' '227' '273'\n",
      " '834' '898' '989' '832' '875' '551' '944' '880' '201' '411' '763' '790'\n",
      " '810' '469' '151' '539' '180' '412' '480' '211' '349' '938' '200' '932'\n",
      " '025' '464' '433' '960' '802' '222' '687' '936' '491' '296' '731' '173'\n",
      " '230' '191' '667' '144' '498' '168' '674' '336' '246' '125' '650' '141'\n",
      " '197' '232' '225' '660' '382' '592' '573' '632' '543' '513' '541' '504'\n",
      " '545' '522' '538' '661' '596' '649' '633' '542' '312' '164' '079' '637'\n",
      " '544' '535' '587' '639' '387' '552' '549' '375' '458' '585' '588' '859'\n",
      " '942' '663' '532' '485' '487' '583' '889' '952' '546' '329' '226' '234'\n",
      " '123' '634' '224' '112' '178' '570' '647' '956' '187' '310' '311' '648'\n",
      " '282' '368' '221' '253' '270' '395' '449' '231' '337' '651' '407' '183'\n",
      " '020' '377' '207' '366' '376' '623' '357' '981' '840' '846' '212' '959'\n",
      " '912' '622' '818' '502' '293' '142' '417' '804' '911' '817' '101' '351'\n",
      " '885' '353' '900' '392' '467' '393' '280' '953' '975' '328' '916' '917'\n",
      " '209' '107' '460' '838' '435' '216' '607' '400' '494' '381' '402' '812'\n",
      " '210' '285' '274' '904' '186' '356' '056' '850' '290' '807' '529' '223'\n",
      " '957' '367' '800' '478' '974' '643' '627' '251' '968' '870' '318' '021'\n",
      " '497' '865' '254' '156' '856' '002' '029' '404' '462' '094' '252' '444'\n",
      " '967' '828' '446' '443' '116' '374' '422' '934' '414' '093' '429' '238'\n",
      " '071' '958' '489' '129' '413' '423' '011' '492' '264' '369' '284' '496'\n",
      " '022' '026' '899' '876' '023' '655' '427' '104' '145' '754' '955' '874'\n",
      " '295' '482' '878' '665' '681' '424' '671' '389' '558' '165' '218' '097'\n",
      " '265' '281' '214' '203' '130' '419' '924' '877' '732' '122' '815' '827'\n",
      " '503' '358' '797' '076' '247' '837' '386' '872' '148' '931' '962' '548'\n",
      " '855' '719' '208' '237' '913' '718' '919' '961' '795' '816' '963' '44O.7'\n",
      " '383' '525' '359' '560' '933' '979' '978' '887' '463' '799' '533' '562'\n",
      " '903' '825' '409' '524' '642' '971' '499' '439' '997' '964' '567' '857'\n",
      " '477' '279' '267' '114' '034' '673' '447' '600' '653' '263' '091' '586']\n"
     ]
    }
   ],
   "source": [
    "print(df['Signatura'].unique())"
   ]
  },
  {
   "cell_type": "markdown",
   "metadata": {
    "id": "PJANj4vvv4wr"
   },
   "source": [
    "Renombramos algunas de las columnas"
   ]
  },
  {
   "cell_type": "code",
   "execution_count": 18,
   "metadata": {
    "executionInfo": {
     "elapsed": 164,
     "status": "ok",
     "timestamp": 1632954154070,
     "user": {
      "displayName": "juan sebastian angarita torres",
      "photoUrl": "https://lh3.googleusercontent.com/a-/AOh14GgjiV1o_Xb2Ov2kAJhpXcHsgVLy47m-BxyXrYYMfw=s64",
      "userId": "11476954540008106843"
     },
     "user_tz": 300
    },
    "id": "2Nqztj6Yv4gK"
   },
   "outputs": [],
   "source": [
    "df = df.rename(columns={'Dewey_x':'Dewey', 'Llave_x':'Llave', 'TipoItem_y':'TipoItem','Dewey_y':'DeweyEspecifico'})"
   ]
  },
  {
   "cell_type": "code",
   "execution_count": 22,
   "metadata": {
    "executionInfo": {
     "elapsed": 7090,
     "status": "ok",
     "timestamp": 1632954161159,
     "user": {
      "displayName": "juan sebastian angarita torres",
      "photoUrl": "https://lh3.googleusercontent.com/a-/AOh14GgjiV1o_Xb2Ov2kAJhpXcHsgVLy47m-BxyXrYYMfw=s64",
      "userId": "11476954540008106843"
     },
     "user_tz": 300
    },
    "id": "oIcqNua-ES5p"
   },
   "outputs": [],
   "source": [
    "df.to_json(r'C:\\Users\\johan\\Desktop\\GitKraken\\DataOutOfGit\\Limpieza\\joinTablas.json')"
   ]
  },
  {
   "cell_type": "code",
   "execution_count": null,
   "metadata": {},
   "outputs": [],
   "source": []
  }
 ],
 "metadata": {
  "colab": {
   "authorship_tag": "ABX9TyOuKxsNeToy97g2StSsORiF",
   "collapsed_sections": [],
   "name": "joinTablas.ipynb",
   "provenance": []
  },
  "kernelspec": {
   "display_name": "Python 3",
   "language": "python",
   "name": "python3"
  },
  "language_info": {
   "codemirror_mode": {
    "name": "ipython",
    "version": 3
   },
   "file_extension": ".py",
   "mimetype": "text/x-python",
   "name": "python",
   "nbconvert_exporter": "python",
   "pygments_lexer": "ipython3",
   "version": "3.8.8"
  }
 },
 "nbformat": 4,
 "nbformat_minor": 1
}
