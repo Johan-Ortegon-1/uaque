{
 "cells": [
  {
   "cell_type": "markdown",
   "metadata": {
    "id": "UtKd22dF0-aX"
   },
   "source": [
    "# **Smart-UJ UAQUE**\n",
    "Este Notebook hace parte del servicio inteligente \"perfil grupal\" y tiene como principal objetivo realizar el join entre los principales datasets del proyecto \"material-biblioteca\" y \"prestamos-biblioteca\", esto con el fin de complementar la información del material bibliográfico alquilado por los usuarios. El dataset final será exportado para ser consumido por los sistemas de clustering para la formación de grupos y perfiles grupales.\n",
    "\n",
    "**Integrantes:**</br>\n",
    "Johan Ortegón </br>\n",
    "Juan Angarita </br>\n",
    "Jorge Salgado </br>\n",
    "Daniel Tibaquira </br></br>\n",
    "**Directora de Proyecto de Grado:** </br>\n",
    "Viky Arias </br>"
   ]
  },
  {
   "cell_type": "markdown",
   "metadata": {
    "id": "BxuYdReC13NG"
   },
   "source": [
    "# Importación de datos"
   ]
  },
  {
   "cell_type": "code",
   "execution_count": 1,
   "metadata": {
    "colab": {
     "base_uri": "https://localhost:8080/"
    },
    "executionInfo": {
     "elapsed": 184,
     "status": "ok",
     "timestamp": 1632954128215,
     "user": {
      "displayName": "juan sebastian angarita torres",
      "photoUrl": "https://lh3.googleusercontent.com/a-/AOh14GgjiV1o_Xb2Ov2kAJhpXcHsgVLy47m-BxyXrYYMfw=s64",
      "userId": "11476954540008106843"
     },
     "user_tz": 300
    },
    "id": "z9CHYqkd068R",
    "outputId": "f2fa0221-01c2-4c35-e075-84f1dd91d85f"
   },
   "outputs": [],
   "source": [
    "#from google.colab import drive\n",
    "#drive.mount('/content/drive')"
   ]
  },
  {
   "cell_type": "markdown",
   "metadata": {
    "id": "W3TpO1sAa_bN"
   },
   "source": [
    "Estas son las librerias que vamos a usar para hacer el join de ambas tablas y poder hacer las diferentes agrupaciones de estudiantes. \n",
    "\n",
    "* pandas(pd): Permite almacenar los datos en dataframes(matrices) y operación entre las celdas."
   ]
  },
  {
   "cell_type": "code",
   "execution_count": 2,
   "metadata": {
    "executionInfo": {
     "elapsed": 3,
     "status": "ok",
     "timestamp": 1632954128405,
     "user": {
      "displayName": "juan sebastian angarita torres",
      "photoUrl": "https://lh3.googleusercontent.com/a-/AOh14GgjiV1o_Xb2Ov2kAJhpXcHsgVLy47m-BxyXrYYMfw=s64",
      "userId": "11476954540008106843"
     },
     "user_tz": 300
    },
    "id": "nrQmfmCQlOv7"
   },
   "outputs": [],
   "source": [
    "import pandas as pd\n",
    "import numpy as np"
   ]
  },
  {
   "cell_type": "markdown",
   "metadata": {
    "id": "8tWL70g4chzc"
   },
   "source": [
    "Importamos ambos archivos y los guardamos como dataframes de panda en las siguientes variables:\n",
    "* dataserPrestamos: Prestamos biblioteca\n",
    "* datasetMaterial: Materiales biblioteca"
   ]
  },
  {
   "cell_type": "code",
   "execution_count": 3,
   "metadata": {
    "executionInfo": {
     "elapsed": 12724,
     "status": "ok",
     "timestamp": 1632954141126,
     "user": {
      "displayName": "juan sebastian angarita torres",
      "photoUrl": "https://lh3.googleusercontent.com/a-/AOh14GgjiV1o_Xb2Ov2kAJhpXcHsgVLy47m-BxyXrYYMfw=s64",
      "userId": "11476954540008106843"
     },
     "user_tz": 300
    },
    "id": "erm-Dlz9lQ82"
   },
   "outputs": [],
   "source": [
    "datasetPrestamos = pd.read_json('https://www.dropbox.com/s/uvmt6vi3xhfackl/PRESTAMOS-BGENERAL.json?dl=1')"
   ]
  },
  {
   "cell_type": "code",
   "execution_count": 4,
   "metadata": {
    "executionInfo": {
     "elapsed": 9258,
     "status": "ok",
     "timestamp": 1632954150365,
     "user": {
      "displayName": "juan sebastian angarita torres",
      "photoUrl": "https://lh3.googleusercontent.com/a-/AOh14GgjiV1o_Xb2Ov2kAJhpXcHsgVLy47m-BxyXrYYMfw=s64",
      "userId": "11476954540008106843"
     },
     "user_tz": 300
    },
    "id": "A6DbnKs1lSTj"
   },
   "outputs": [],
   "source": [
    "datasetMaterial = pd.read_json('https://www.dropbox.com/s/x8jgez46eglpwfh/B-GENERAL-COLECCIONES-TEMATICAS.json?dl=1')"
   ]
  },
  {
   "cell_type": "markdown",
   "metadata": {
    "id": "DRkWZtXUc14m"
   },
   "source": [
    "A continuación se muestra la estructura básica de ambos archivos"
   ]
  },
  {
   "cell_type": "code",
   "execution_count": 5,
   "metadata": {
    "colab": {
     "base_uri": "https://localhost:8080/",
     "height": 538
    },
    "executionInfo": {
     "elapsed": 11,
     "status": "ok",
     "timestamp": 1632954150546,
     "user": {
      "displayName": "juan sebastian angarita torres",
      "photoUrl": "https://lh3.googleusercontent.com/a-/AOh14GgjiV1o_Xb2Ov2kAJhpXcHsgVLy47m-BxyXrYYMfw=s64",
      "userId": "11476954540008106843"
     },
     "user_tz": 300
    },
    "id": "FexIokh3lWCy",
    "outputId": "bf6741be-fa55-45b2-db32-8c05fa16c5ed"
   },
   "outputs": [
    {
     "data": {
      "text/html": [
       "<div>\n",
       "<style scoped>\n",
       "    .dataframe tbody tr th:only-of-type {\n",
       "        vertical-align: middle;\n",
       "    }\n",
       "\n",
       "    .dataframe tbody tr th {\n",
       "        vertical-align: top;\n",
       "    }\n",
       "\n",
       "    .dataframe thead th {\n",
       "        text-align: right;\n",
       "    }\n",
       "</style>\n",
       "<table border=\"1\" class=\"dataframe\">\n",
       "  <thead>\n",
       "    <tr style=\"text-align: right;\">\n",
       "      <th></th>\n",
       "      <th>RowID</th>\n",
       "      <th>Mes</th>\n",
       "      <th>Fecha</th>\n",
       "      <th>IDItem</th>\n",
       "      <th>NumeroUbicacion</th>\n",
       "      <th>Dewey</th>\n",
       "      <th>Ubicacion</th>\n",
       "      <th>TipoItem</th>\n",
       "      <th>Llave</th>\n",
       "      <th>Perfil</th>\n",
       "      <th>Programa</th>\n",
       "      <th>Facultad</th>\n",
       "      <th>IDUsuario</th>\n",
       "      <th>Year</th>\n",
       "    </tr>\n",
       "  </thead>\n",
       "  <tbody>\n",
       "    <tr>\n",
       "      <th>0</th>\n",
       "      <td>Row0</td>\n",
       "      <td>Enero</td>\n",
       "      <td>1547050497000</td>\n",
       "      <td>80000005327627</td>\n",
       "      <td>720.98 A71S</td>\n",
       "      <td>720</td>\n",
       "      <td>COL-GRAL-2</td>\n",
       "      <td>LIBRO</td>\n",
       "      <td>866245</td>\n",
       "      <td>A-EGRESADO</td>\n",
       "      <td>CARRERA DE ARQUITECTURA</td>\n",
       "      <td>arquitectura y diseño</td>\n",
       "      <td>c361c772cd0220bb16dcfb2ad803e4903334ab94</td>\n",
       "      <td>2019</td>\n",
       "    </tr>\n",
       "    <tr>\n",
       "      <th>1</th>\n",
       "      <td>Row1</td>\n",
       "      <td>Enero</td>\n",
       "      <td>1547050500000</td>\n",
       "      <td>80000001191496</td>\n",
       "      <td>720.9861 A71</td>\n",
       "      <td>720</td>\n",
       "      <td>COL-GRAL-2</td>\n",
       "      <td>LIBRO</td>\n",
       "      <td>309945</td>\n",
       "      <td>A-EGRESADO</td>\n",
       "      <td>CARRERA DE ARQUITECTURA</td>\n",
       "      <td>arquitectura y diseño</td>\n",
       "      <td>c361c772cd0220bb16dcfb2ad803e4903334ab94</td>\n",
       "      <td>2019</td>\n",
       "    </tr>\n",
       "    <tr>\n",
       "      <th>2</th>\n",
       "      <td>Row2</td>\n",
       "      <td>Enero</td>\n",
       "      <td>1547138763000</td>\n",
       "      <td>80000004979759</td>\n",
       "      <td>540 CH15Q 2010</td>\n",
       "      <td>540</td>\n",
       "      <td>COL-GRAL-3</td>\n",
       "      <td>LIBRO</td>\n",
       "      <td>822727</td>\n",
       "      <td>A-EGRESADO</td>\n",
       "      <td>CARRERA DE ARQUITECTURA</td>\n",
       "      <td>arquitectura y diseño</td>\n",
       "      <td>87b0e5a61ed712ddfaf5d478ad68c87c825997e9</td>\n",
       "      <td>2019</td>\n",
       "    </tr>\n",
       "  </tbody>\n",
       "</table>\n",
       "</div>"
      ],
      "text/plain": [
       "  RowID    Mes          Fecha          IDItem NumeroUbicacion Dewey  \\\n",
       "0  Row0  Enero  1547050497000  80000005327627     720.98 A71S   720   \n",
       "1  Row1  Enero  1547050500000  80000001191496    720.9861 A71   720   \n",
       "2  Row2  Enero  1547138763000  80000004979759  540 CH15Q 2010   540   \n",
       "\n",
       "    Ubicacion TipoItem   Llave      Perfil                 Programa  \\\n",
       "0  COL-GRAL-2    LIBRO  866245  A-EGRESADO  CARRERA DE ARQUITECTURA   \n",
       "1  COL-GRAL-2    LIBRO  309945  A-EGRESADO  CARRERA DE ARQUITECTURA   \n",
       "2  COL-GRAL-3    LIBRO  822727  A-EGRESADO  CARRERA DE ARQUITECTURA   \n",
       "\n",
       "                Facultad                                 IDUsuario  Year  \n",
       "0  arquitectura y diseño  c361c772cd0220bb16dcfb2ad803e4903334ab94  2019  \n",
       "1  arquitectura y diseño  c361c772cd0220bb16dcfb2ad803e4903334ab94  2019  \n",
       "2  arquitectura y diseño  87b0e5a61ed712ddfaf5d478ad68c87c825997e9  2019  "
      ]
     },
     "metadata": {},
     "output_type": "display_data"
    },
    {
     "data": {
      "text/html": [
       "<div>\n",
       "<style scoped>\n",
       "    .dataframe tbody tr th:only-of-type {\n",
       "        vertical-align: middle;\n",
       "    }\n",
       "\n",
       "    .dataframe tbody tr th {\n",
       "        vertical-align: top;\n",
       "    }\n",
       "\n",
       "    .dataframe thead th {\n",
       "        text-align: right;\n",
       "    }\n",
       "</style>\n",
       "<table border=\"1\" class=\"dataframe\">\n",
       "  <thead>\n",
       "    <tr style=\"text-align: right;\">\n",
       "      <th></th>\n",
       "      <th>Signatura</th>\n",
       "      <th>IDItem</th>\n",
       "      <th>UbicacionActual</th>\n",
       "      <th>TipoItem</th>\n",
       "      <th>FechaCreacion</th>\n",
       "      <th>Llave</th>\n",
       "      <th>Autor</th>\n",
       "      <th>Titulo</th>\n",
       "      <th>Tema650</th>\n",
       "      <th>AnioPublicacion</th>\n",
       "      <th>Dewey</th>\n",
       "      <th>TemaDewey</th>\n",
       "      <th>DeweyUnidad</th>\n",
       "      <th>DeweyDecena</th>\n",
       "      <th>DeweyCentena</th>\n",
       "      <th>Original</th>\n",
       "      <th>Temas</th>\n",
       "      <th>Union</th>\n",
       "    </tr>\n",
       "  </thead>\n",
       "  <tbody>\n",
       "    <tr>\n",
       "      <th>0</th>\n",
       "      <td>925.2</td>\n",
       "      <td>60000000049754</td>\n",
       "      <td>A-BATEMAN</td>\n",
       "      <td>LIBRO</td>\n",
       "      <td>2019</td>\n",
       "      <td>933604</td>\n",
       "      <td>Álvarez Ríos, Baldomero 1924-</td>\n",
       "      <td>Copernico gigante del Renacimiento Baldomero A...</td>\n",
       "      <td>astronomos polonia biografias</td>\n",
       "      <td>1973.0</td>\n",
       "      <td>925.2</td>\n",
       "      <td>Galilei, Galileo|d1564-1642</td>\n",
       "      <td>925</td>\n",
       "      <td>920</td>\n",
       "      <td>900</td>\n",
       "      <td>astronomos polonia biografias</td>\n",
       "      <td>[astronom, poloni, biografi]</td>\n",
       "      <td>astronom poloni biografi</td>\n",
       "    </tr>\n",
       "    <tr>\n",
       "      <th>1</th>\n",
       "      <td>925.2</td>\n",
       "      <td>60000000049751</td>\n",
       "      <td>A-BATEMAN</td>\n",
       "      <td>LIBRO</td>\n",
       "      <td>2019</td>\n",
       "      <td>933606</td>\n",
       "      <td>None</td>\n",
       "      <td>Nicolás Copérnico, 500 aniversario, 1473-1973</td>\n",
       "      <td>astronomia historia</td>\n",
       "      <td>1973.0</td>\n",
       "      <td>925.2</td>\n",
       "      <td>Galilei, Galileo|d1564-1642</td>\n",
       "      <td>925</td>\n",
       "      <td>920</td>\n",
       "      <td>900</td>\n",
       "      <td>astronomia historia</td>\n",
       "      <td>[astronomi, histori]</td>\n",
       "      <td>astronomi histori</td>\n",
       "    </tr>\n",
       "    <tr>\n",
       "      <th>2</th>\n",
       "      <td>925.2</td>\n",
       "      <td>60000000049753</td>\n",
       "      <td>A-BATEMAN</td>\n",
       "      <td>LIBRO</td>\n",
       "      <td>2019</td>\n",
       "      <td>933606</td>\n",
       "      <td>None</td>\n",
       "      <td>Nicolás Copérnico, 500 aniversario, 1473-1973</td>\n",
       "      <td>astronomia historia</td>\n",
       "      <td>1973.0</td>\n",
       "      <td>925.2</td>\n",
       "      <td>Galilei, Galileo|d1564-1642</td>\n",
       "      <td>925</td>\n",
       "      <td>920</td>\n",
       "      <td>900</td>\n",
       "      <td>astronomia historia</td>\n",
       "      <td>[astronomi, histori]</td>\n",
       "      <td>astronomi histori</td>\n",
       "    </tr>\n",
       "  </tbody>\n",
       "</table>\n",
       "</div>"
      ],
      "text/plain": [
       "  Signatura          IDItem UbicacionActual TipoItem  FechaCreacion   Llave  \\\n",
       "0     925.2  60000000049754       A-BATEMAN    LIBRO           2019  933604   \n",
       "1     925.2  60000000049751       A-BATEMAN    LIBRO           2019  933606   \n",
       "2     925.2  60000000049753       A-BATEMAN    LIBRO           2019  933606   \n",
       "\n",
       "                           Autor  \\\n",
       "0  Álvarez Ríos, Baldomero 1924-   \n",
       "1                           None   \n",
       "2                           None   \n",
       "\n",
       "                                              Titulo  \\\n",
       "0  Copernico gigante del Renacimiento Baldomero A...   \n",
       "1      Nicolás Copérnico, 500 aniversario, 1473-1973   \n",
       "2      Nicolás Copérnico, 500 aniversario, 1473-1973   \n",
       "\n",
       "                         Tema650  AnioPublicacion  Dewey  \\\n",
       "0  astronomos polonia biografias           1973.0  925.2   \n",
       "1            astronomia historia           1973.0  925.2   \n",
       "2            astronomia historia           1973.0  925.2   \n",
       "\n",
       "                     TemaDewey  DeweyUnidad  DeweyDecena  DeweyCentena  \\\n",
       "0  Galilei, Galileo|d1564-1642          925          920           900   \n",
       "1  Galilei, Galileo|d1564-1642          925          920           900   \n",
       "2  Galilei, Galileo|d1564-1642          925          920           900   \n",
       "\n",
       "                        Original                         Temas  \\\n",
       "0  astronomos polonia biografias  [astronom, poloni, biografi]   \n",
       "1            astronomia historia          [astronomi, histori]   \n",
       "2            astronomia historia          [astronomi, histori]   \n",
       "\n",
       "                      Union  \n",
       "0  astronom poloni biografi  \n",
       "1         astronomi histori  \n",
       "2         astronomi histori  "
      ]
     },
     "metadata": {},
     "output_type": "display_data"
    }
   ],
   "source": [
    "display(datasetPrestamos.head(3))\n",
    "display(datasetMaterial.head(3))"
   ]
  },
  {
   "cell_type": "code",
   "execution_count": 6,
   "metadata": {
    "executionInfo": {
     "elapsed": 175,
     "status": "ok",
     "timestamp": 1632954150716,
     "user": {
      "displayName": "juan sebastian angarita torres",
      "photoUrl": "https://lh3.googleusercontent.com/a-/AOh14GgjiV1o_Xb2Ov2kAJhpXcHsgVLy47m-BxyXrYYMfw=s64",
      "userId": "11476954540008106843"
     },
     "user_tz": 300
    },
    "id": "-TL4szmJ-idh"
   },
   "outputs": [],
   "source": [
    "#podemos las dos columnas a transformar en el mismo formato String\n",
    "datasetPrestamos['IDItem'] = datasetPrestamos['IDItem'].apply(lambda x: str(x))\n",
    "datasetMaterial['IDItem'] = datasetMaterial['IDItem'].apply(lambda x: str(x))"
   ]
  },
  {
   "cell_type": "code",
   "execution_count": 7,
   "metadata": {
    "executionInfo": {
     "elapsed": 2033,
     "status": "ok",
     "timestamp": 1632954152747,
     "user": {
      "displayName": "juan sebastian angarita torres",
      "photoUrl": "https://lh3.googleusercontent.com/a-/AOh14GgjiV1o_Xb2Ov2kAJhpXcHsgVLy47m-BxyXrYYMfw=s64",
      "userId": "11476954540008106843"
     },
     "user_tz": 300
    },
    "id": "0apAsQkx4qn7"
   },
   "outputs": [],
   "source": [
    "dpf_data = pd.DataFrame(data=datasetPrestamos)\n",
    "dmf_d_data = pd.DataFrame(data=datasetMaterial)\n",
    "join_dm_dp = pd.merge(dpf_data, dmf_d_data, left_on='IDItem', right_on='IDItem', how='left')"
   ]
  },
  {
   "cell_type": "code",
   "execution_count": 8,
   "metadata": {
    "colab": {
     "base_uri": "https://localhost:8080/"
    },
    "executionInfo": {
     "elapsed": 7,
     "status": "ok",
     "timestamp": 1632954152747,
     "user": {
      "displayName": "juan sebastian angarita torres",
      "photoUrl": "https://lh3.googleusercontent.com/a-/AOh14GgjiV1o_Xb2Ov2kAJhpXcHsgVLy47m-BxyXrYYMfw=s64",
      "userId": "11476954540008106843"
     },
     "user_tz": 300
    },
    "id": "gWHar8P87fhe",
    "outputId": "57375aa8-c2ac-456a-c215-e931e3dcef93"
   },
   "outputs": [
    {
     "name": "stdout",
     "output_type": "stream",
     "text": [
      "Prestamos size: (489737, 14)\n",
      "Material size: (338142, 18)\n",
      "Join size: (489737, 31)\n"
     ]
    }
   ],
   "source": [
    "print(\"Prestamos size:\", datasetPrestamos.shape)\n",
    "print(\"Material size:\", datasetMaterial.shape)\n",
    "print(\"Join size:\", join_dm_dp.shape)"
   ]
  },
  {
   "cell_type": "code",
   "execution_count": 9,
   "metadata": {
    "colab": {
     "base_uri": "https://localhost:8080/",
     "height": 576
    },
    "executionInfo": {
     "elapsed": 6,
     "status": "ok",
     "timestamp": 1632954152748,
     "user": {
      "displayName": "juan sebastian angarita torres",
      "photoUrl": "https://lh3.googleusercontent.com/a-/AOh14GgjiV1o_Xb2Ov2kAJhpXcHsgVLy47m-BxyXrYYMfw=s64",
      "userId": "11476954540008106843"
     },
     "user_tz": 300
    },
    "id": "o1SuFVjX8ZcT",
    "outputId": "e3e3c3bd-de29-4099-dffa-3eee64e65751"
   },
   "outputs": [
    {
     "data": {
      "text/html": [
       "<div>\n",
       "<style scoped>\n",
       "    .dataframe tbody tr th:only-of-type {\n",
       "        vertical-align: middle;\n",
       "    }\n",
       "\n",
       "    .dataframe tbody tr th {\n",
       "        vertical-align: top;\n",
       "    }\n",
       "\n",
       "    .dataframe thead th {\n",
       "        text-align: right;\n",
       "    }\n",
       "</style>\n",
       "<table border=\"1\" class=\"dataframe\">\n",
       "  <thead>\n",
       "    <tr style=\"text-align: right;\">\n",
       "      <th></th>\n",
       "      <th>RowID</th>\n",
       "      <th>Mes</th>\n",
       "      <th>Fecha</th>\n",
       "      <th>IDItem</th>\n",
       "      <th>NumeroUbicacion</th>\n",
       "      <th>Dewey_x</th>\n",
       "      <th>Ubicacion</th>\n",
       "      <th>TipoItem_x</th>\n",
       "      <th>Llave_x</th>\n",
       "      <th>Perfil</th>\n",
       "      <th>...</th>\n",
       "      <th>Tema650</th>\n",
       "      <th>AnioPublicacion</th>\n",
       "      <th>Dewey_y</th>\n",
       "      <th>TemaDewey</th>\n",
       "      <th>DeweyUnidad</th>\n",
       "      <th>DeweyDecena</th>\n",
       "      <th>DeweyCentena</th>\n",
       "      <th>Original</th>\n",
       "      <th>Temas</th>\n",
       "      <th>Union</th>\n",
       "    </tr>\n",
       "  </thead>\n",
       "  <tbody>\n",
       "    <tr>\n",
       "      <th>0</th>\n",
       "      <td>Row0</td>\n",
       "      <td>Enero</td>\n",
       "      <td>1547050497000</td>\n",
       "      <td>80000005327627</td>\n",
       "      <td>720.98 A71S</td>\n",
       "      <td>720</td>\n",
       "      <td>COL-GRAL-2</td>\n",
       "      <td>LIBRO</td>\n",
       "      <td>866245</td>\n",
       "      <td>A-EGRESADO</td>\n",
       "      <td>...</td>\n",
       "      <td>arquitectura historia america latina</td>\n",
       "      <td>2012.0</td>\n",
       "      <td>720.98</td>\n",
       "      <td>Arquitectura latinoamericana</td>\n",
       "      <td>720.0</td>\n",
       "      <td>720.0</td>\n",
       "      <td>700.0</td>\n",
       "      <td>arquitectura historia america latina</td>\n",
       "      <td>[arquitectur, histori, amer, latin]</td>\n",
       "      <td>arquitectur histori amer latin</td>\n",
       "    </tr>\n",
       "    <tr>\n",
       "      <th>1</th>\n",
       "      <td>Row1</td>\n",
       "      <td>Enero</td>\n",
       "      <td>1547050500000</td>\n",
       "      <td>80000001191496</td>\n",
       "      <td>720.9861 A71</td>\n",
       "      <td>720</td>\n",
       "      <td>COL-GRAL-2</td>\n",
       "      <td>LIBRO</td>\n",
       "      <td>309945</td>\n",
       "      <td>A-EGRESADO</td>\n",
       "      <td>...</td>\n",
       "      <td>arquitectura colonial historia colombia</td>\n",
       "      <td>1993.0</td>\n",
       "      <td>720.9861</td>\n",
       "      <td>Arquitectura colombiana</td>\n",
       "      <td>720.0</td>\n",
       "      <td>720.0</td>\n",
       "      <td>700.0</td>\n",
       "      <td>arquitectura colonial historia colombia</td>\n",
       "      <td>[arquitectur, colonial, histori, colombi]</td>\n",
       "      <td>arquitectur colonial histori colombi</td>\n",
       "    </tr>\n",
       "    <tr>\n",
       "      <th>2</th>\n",
       "      <td>Row2</td>\n",
       "      <td>Enero</td>\n",
       "      <td>1547138763000</td>\n",
       "      <td>80000004979759</td>\n",
       "      <td>540 CH15Q 2010</td>\n",
       "      <td>540</td>\n",
       "      <td>COL-GRAL-3</td>\n",
       "      <td>LIBRO</td>\n",
       "      <td>822727</td>\n",
       "      <td>A-EGRESADO</td>\n",
       "      <td>...</td>\n",
       "      <td>quimica</td>\n",
       "      <td>2010.0</td>\n",
       "      <td>540</td>\n",
       "      <td>Química</td>\n",
       "      <td>540.0</td>\n",
       "      <td>540.0</td>\n",
       "      <td>500.0</td>\n",
       "      <td>quimica</td>\n",
       "      <td>[quimic]</td>\n",
       "      <td>quimic</td>\n",
       "    </tr>\n",
       "    <tr>\n",
       "      <th>3</th>\n",
       "      <td>Row3</td>\n",
       "      <td>Enero</td>\n",
       "      <td>1547138765000</td>\n",
       "      <td>80000004509512</td>\n",
       "      <td>512 B151</td>\n",
       "      <td>510</td>\n",
       "      <td>COL-GRAL-3</td>\n",
       "      <td>LIBRO</td>\n",
       "      <td>784541</td>\n",
       "      <td>A-EGRESADO</td>\n",
       "      <td>...</td>\n",
       "      <td>algebra</td>\n",
       "      <td>2009.0</td>\n",
       "      <td>512</td>\n",
       "      <td>Álgebra</td>\n",
       "      <td>512.0</td>\n",
       "      <td>510.0</td>\n",
       "      <td>500.0</td>\n",
       "      <td>algebra</td>\n",
       "      <td>[algebr]</td>\n",
       "      <td>algebr</td>\n",
       "    </tr>\n",
       "    <tr>\n",
       "      <th>4</th>\n",
       "      <td>Row4</td>\n",
       "      <td>Enero</td>\n",
       "      <td>1547300269000</td>\n",
       "      <td>80000005270756</td>\n",
       "      <td>712 M17E</td>\n",
       "      <td>710</td>\n",
       "      <td>COL-GRAL-2</td>\n",
       "      <td>LIBRO</td>\n",
       "      <td>858473</td>\n",
       "      <td>A-EGRESADO</td>\n",
       "      <td>...</td>\n",
       "      <td>arquitectura del paisaje</td>\n",
       "      <td>2009.0</td>\n",
       "      <td>712</td>\n",
       "      <td>Arquitectura del paisaje</td>\n",
       "      <td>712.0</td>\n",
       "      <td>710.0</td>\n",
       "      <td>700.0</td>\n",
       "      <td>arquitectura del paisaje</td>\n",
       "      <td>[arquitectur, paisaj]</td>\n",
       "      <td>arquitectur paisaj</td>\n",
       "    </tr>\n",
       "  </tbody>\n",
       "</table>\n",
       "<p>5 rows × 31 columns</p>\n",
       "</div>"
      ],
      "text/plain": [
       "  RowID    Mes          Fecha          IDItem NumeroUbicacion Dewey_x  \\\n",
       "0  Row0  Enero  1547050497000  80000005327627     720.98 A71S     720   \n",
       "1  Row1  Enero  1547050500000  80000001191496    720.9861 A71     720   \n",
       "2  Row2  Enero  1547138763000  80000004979759  540 CH15Q 2010     540   \n",
       "3  Row3  Enero  1547138765000  80000004509512        512 B151     510   \n",
       "4  Row4  Enero  1547300269000  80000005270756        712 M17E     710   \n",
       "\n",
       "    Ubicacion TipoItem_x Llave_x      Perfil  ...  \\\n",
       "0  COL-GRAL-2      LIBRO  866245  A-EGRESADO  ...   \n",
       "1  COL-GRAL-2      LIBRO  309945  A-EGRESADO  ...   \n",
       "2  COL-GRAL-3      LIBRO  822727  A-EGRESADO  ...   \n",
       "3  COL-GRAL-3      LIBRO  784541  A-EGRESADO  ...   \n",
       "4  COL-GRAL-2      LIBRO  858473  A-EGRESADO  ...   \n",
       "\n",
       "                                   Tema650 AnioPublicacion   Dewey_y  \\\n",
       "0     arquitectura historia america latina          2012.0    720.98   \n",
       "1  arquitectura colonial historia colombia          1993.0  720.9861   \n",
       "2                                  quimica          2010.0       540   \n",
       "3                                  algebra          2009.0       512   \n",
       "4                 arquitectura del paisaje          2009.0       712   \n",
       "\n",
       "                      TemaDewey DeweyUnidad DeweyDecena DeweyCentena  \\\n",
       "0  Arquitectura latinoamericana       720.0       720.0        700.0   \n",
       "1       Arquitectura colombiana       720.0       720.0        700.0   \n",
       "2                       Química       540.0       540.0        500.0   \n",
       "3                       Álgebra       512.0       510.0        500.0   \n",
       "4      Arquitectura del paisaje       712.0       710.0        700.0   \n",
       "\n",
       "                                  Original  \\\n",
       "0     arquitectura historia america latina   \n",
       "1  arquitectura colonial historia colombia   \n",
       "2                                  quimica   \n",
       "3                                  algebra   \n",
       "4                 arquitectura del paisaje   \n",
       "\n",
       "                                       Temas  \\\n",
       "0        [arquitectur, histori, amer, latin]   \n",
       "1  [arquitectur, colonial, histori, colombi]   \n",
       "2                                   [quimic]   \n",
       "3                                   [algebr]   \n",
       "4                      [arquitectur, paisaj]   \n",
       "\n",
       "                                  Union  \n",
       "0        arquitectur histori amer latin  \n",
       "1  arquitectur colonial histori colombi  \n",
       "2                                quimic  \n",
       "3                                algebr  \n",
       "4                    arquitectur paisaj  \n",
       "\n",
       "[5 rows x 31 columns]"
      ]
     },
     "execution_count": 9,
     "metadata": {},
     "output_type": "execute_result"
    }
   ],
   "source": [
    "join_dm_dp.head(5)"
   ]
  },
  {
   "cell_type": "markdown",
   "metadata": {
    "id": "n8Ma3Npy-ALR"
   },
   "source": [
    "Verificaremos que si hay prestamos si un material asociado"
   ]
  },
  {
   "cell_type": "code",
   "execution_count": 10,
   "metadata": {
    "colab": {
     "base_uri": "https://localhost:8080/"
    },
    "executionInfo": {
     "elapsed": 698,
     "status": "ok",
     "timestamp": 1632954153442,
     "user": {
      "displayName": "juan sebastian angarita torres",
      "photoUrl": "https://lh3.googleusercontent.com/a-/AOh14GgjiV1o_Xb2Ov2kAJhpXcHsgVLy47m-BxyXrYYMfw=s64",
      "userId": "11476954540008106843"
     },
     "user_tz": 300
    },
    "id": "GTfF8udt-Ah_",
    "outputId": "b54f6be4-5077-43ab-8144-c639a8282393"
   },
   "outputs": [
    {
     "data": {
      "text/plain": [
       "263"
      ]
     },
     "execution_count": 10,
     "metadata": {},
     "output_type": "execute_result"
    }
   ],
   "source": [
    "eliminar = join_dm_dp.loc[join_dm_dp[\"Titulo\"].isnull()]\n",
    "len(join_dm_dp.loc[join_dm_dp[\"Titulo\"].isnull()])\n"
   ]
  },
  {
   "cell_type": "markdown",
   "metadata": {
    "id": "l7dSmTvZ_WZ1"
   },
   "source": [
    "Eliminaremos estos registros para evitar introducir ruido a los datos."
   ]
  },
  {
   "cell_type": "code",
   "execution_count": 11,
   "metadata": {
    "colab": {
     "base_uri": "https://localhost:8080/"
    },
    "executionInfo": {
     "elapsed": 295,
     "status": "ok",
     "timestamp": 1632954153735,
     "user": {
      "displayName": "juan sebastian angarita torres",
      "photoUrl": "https://lh3.googleusercontent.com/a-/AOh14GgjiV1o_Xb2Ov2kAJhpXcHsgVLy47m-BxyXrYYMfw=s64",
      "userId": "11476954540008106843"
     },
     "user_tz": 300
    },
    "id": "kmctTvPI_bYn",
    "outputId": "ec53795e-2a4a-4535-d440-5cb2691bb3cc"
   },
   "outputs": [
    {
     "data": {
      "text/plain": [
       "(489474, 31)"
      ]
     },
     "execution_count": 11,
     "metadata": {},
     "output_type": "execute_result"
    }
   ],
   "source": [
    "df = join_dm_dp[~join_dm_dp.index.isin(eliminar.index)]\n",
    "df.shape"
   ]
  },
  {
   "cell_type": "markdown",
   "metadata": {
    "id": "Onf8pRhTCu4L"
   },
   "source": [
    "Eliminamos columnas duplicadas antes de exportar el dataset"
   ]
  },
  {
   "cell_type": "code",
   "execution_count": 12,
   "metadata": {
    "colab": {
     "base_uri": "https://localhost:8080/"
    },
    "executionInfo": {
     "elapsed": 6,
     "status": "ok",
     "timestamp": 1632954153736,
     "user": {
      "displayName": "juan sebastian angarita torres",
      "photoUrl": "https://lh3.googleusercontent.com/a-/AOh14GgjiV1o_Xb2Ov2kAJhpXcHsgVLy47m-BxyXrYYMfw=s64",
      "userId": "11476954540008106843"
     },
     "user_tz": 300
    },
    "id": "PyMZnlF_CzFK",
    "outputId": "0c2926f0-46df-4aa3-aada-b9bbec9abe50"
   },
   "outputs": [
    {
     "data": {
      "text/plain": [
       "Index(['RowID', 'Mes', 'Fecha', 'IDItem', 'NumeroUbicacion', 'Dewey_x',\n",
       "       'Ubicacion', 'TipoItem_x', 'Llave_x', 'Perfil', 'Programa', 'Facultad',\n",
       "       'IDUsuario', 'Year', 'Signatura', 'UbicacionActual', 'TipoItem_y',\n",
       "       'FechaCreacion', 'Llave_y', 'Autor', 'Titulo', 'Tema650',\n",
       "       'AnioPublicacion', 'Dewey_y', 'TemaDewey', 'DeweyUnidad', 'DeweyDecena',\n",
       "       'DeweyCentena', 'Original', 'Temas', 'Union'],\n",
       "      dtype='object')"
      ]
     },
     "execution_count": 12,
     "metadata": {},
     "output_type": "execute_result"
    }
   ],
   "source": [
    "df.columns"
   ]
  },
  {
   "cell_type": "code",
   "execution_count": 14,
   "metadata": {
    "executionInfo": {
     "elapsed": 178,
     "status": "ok",
     "timestamp": 1632954153910,
     "user": {
      "displayName": "juan sebastian angarita torres",
      "photoUrl": "https://lh3.googleusercontent.com/a-/AOh14GgjiV1o_Xb2Ov2kAJhpXcHsgVLy47m-BxyXrYYMfw=s64",
      "userId": "11476954540008106843"
     },
     "user_tz": 300
    },
    "id": "EaIh5SNuC1Cq"
   },
   "outputs": [],
   "source": [
    "df = df.drop(['Llave_y','TipoItem_x','UbicacionActual','Perfil','Tema650','Original','Mes'],axis = 1)\n"
   ]
  },
  {
   "cell_type": "code",
   "execution_count": 15,
   "metadata": {
    "colab": {
     "base_uri": "https://localhost:8080/",
     "height": 363
    },
    "executionInfo": {
     "elapsed": 7,
     "status": "ok",
     "timestamp": 1632954153910,
     "user": {
      "displayName": "juan sebastian angarita torres",
      "photoUrl": "https://lh3.googleusercontent.com/a-/AOh14GgjiV1o_Xb2Ov2kAJhpXcHsgVLy47m-BxyXrYYMfw=s64",
      "userId": "11476954540008106843"
     },
     "user_tz": 300
    },
    "id": "lFPcllPkTOeY",
    "outputId": "9457c7cd-7f9c-40aa-ea4f-0e4debb9fc78"
   },
   "outputs": [
    {
     "data": {
      "text/html": [
       "<div>\n",
       "<style scoped>\n",
       "    .dataframe tbody tr th:only-of-type {\n",
       "        vertical-align: middle;\n",
       "    }\n",
       "\n",
       "    .dataframe tbody tr th {\n",
       "        vertical-align: top;\n",
       "    }\n",
       "\n",
       "    .dataframe thead th {\n",
       "        text-align: right;\n",
       "    }\n",
       "</style>\n",
       "<table border=\"1\" class=\"dataframe\">\n",
       "  <thead>\n",
       "    <tr style=\"text-align: right;\">\n",
       "      <th></th>\n",
       "      <th>RowID</th>\n",
       "      <th>Fecha</th>\n",
       "      <th>IDItem</th>\n",
       "      <th>NumeroUbicacion</th>\n",
       "      <th>Dewey_x</th>\n",
       "      <th>Ubicacion</th>\n",
       "      <th>Llave_x</th>\n",
       "      <th>Programa</th>\n",
       "      <th>Facultad</th>\n",
       "      <th>IDUsuario</th>\n",
       "      <th>...</th>\n",
       "      <th>Autor</th>\n",
       "      <th>Titulo</th>\n",
       "      <th>AnioPublicacion</th>\n",
       "      <th>Dewey_y</th>\n",
       "      <th>TemaDewey</th>\n",
       "      <th>DeweyUnidad</th>\n",
       "      <th>DeweyDecena</th>\n",
       "      <th>DeweyCentena</th>\n",
       "      <th>Temas</th>\n",
       "      <th>Union</th>\n",
       "    </tr>\n",
       "  </thead>\n",
       "  <tbody>\n",
       "    <tr>\n",
       "      <th>0</th>\n",
       "      <td>Row0</td>\n",
       "      <td>1547050497000</td>\n",
       "      <td>80000005327627</td>\n",
       "      <td>720.98 A71S</td>\n",
       "      <td>720</td>\n",
       "      <td>COL-GRAL-2</td>\n",
       "      <td>866245</td>\n",
       "      <td>CARRERA DE ARQUITECTURA</td>\n",
       "      <td>arquitectura y diseño</td>\n",
       "      <td>c361c772cd0220bb16dcfb2ad803e4903334ab94</td>\n",
       "      <td>...</td>\n",
       "      <td>Arango Cardinal, Silvia 1948-</td>\n",
       "      <td>Ciudad y arquitectura seis generaciones que co...</td>\n",
       "      <td>2012.0</td>\n",
       "      <td>720.98</td>\n",
       "      <td>Arquitectura latinoamericana</td>\n",
       "      <td>720.0</td>\n",
       "      <td>720.0</td>\n",
       "      <td>700.0</td>\n",
       "      <td>[arquitectur, histori, amer, latin]</td>\n",
       "      <td>arquitectur histori amer latin</td>\n",
       "    </tr>\n",
       "    <tr>\n",
       "      <th>1</th>\n",
       "      <td>Row1</td>\n",
       "      <td>1547050500000</td>\n",
       "      <td>80000001191496</td>\n",
       "      <td>720.9861 A71</td>\n",
       "      <td>720</td>\n",
       "      <td>COL-GRAL-2</td>\n",
       "      <td>309945</td>\n",
       "      <td>CARRERA DE ARQUITECTURA</td>\n",
       "      <td>arquitectura y diseño</td>\n",
       "      <td>c361c772cd0220bb16dcfb2ad803e4903334ab94</td>\n",
       "      <td>...</td>\n",
       "      <td>Arango Cardinal, Silvia 1948-</td>\n",
       "      <td>Historia de la arquitectura en Colombia Silvia...</td>\n",
       "      <td>1993.0</td>\n",
       "      <td>720.9861</td>\n",
       "      <td>Arquitectura colombiana</td>\n",
       "      <td>720.0</td>\n",
       "      <td>720.0</td>\n",
       "      <td>700.0</td>\n",
       "      <td>[arquitectur, colonial, histori, colombi]</td>\n",
       "      <td>arquitectur colonial histori colombi</td>\n",
       "    </tr>\n",
       "    <tr>\n",
       "      <th>2</th>\n",
       "      <td>Row2</td>\n",
       "      <td>1547138763000</td>\n",
       "      <td>80000004979759</td>\n",
       "      <td>540 CH15Q 2010</td>\n",
       "      <td>540</td>\n",
       "      <td>COL-GRAL-3</td>\n",
       "      <td>822727</td>\n",
       "      <td>CARRERA DE ARQUITECTURA</td>\n",
       "      <td>arquitectura y diseño</td>\n",
       "      <td>87b0e5a61ed712ddfaf5d478ad68c87c825997e9</td>\n",
       "      <td>...</td>\n",
       "      <td>Chang, Raymond</td>\n",
       "      <td>Química Raymond Chang ; revisión técnica Rosa ...</td>\n",
       "      <td>2010.0</td>\n",
       "      <td>540</td>\n",
       "      <td>Química</td>\n",
       "      <td>540.0</td>\n",
       "      <td>540.0</td>\n",
       "      <td>500.0</td>\n",
       "      <td>[quimic]</td>\n",
       "      <td>quimic</td>\n",
       "    </tr>\n",
       "  </tbody>\n",
       "</table>\n",
       "<p>3 rows × 24 columns</p>\n",
       "</div>"
      ],
      "text/plain": [
       "  RowID          Fecha          IDItem NumeroUbicacion Dewey_x   Ubicacion  \\\n",
       "0  Row0  1547050497000  80000005327627     720.98 A71S     720  COL-GRAL-2   \n",
       "1  Row1  1547050500000  80000001191496    720.9861 A71     720  COL-GRAL-2   \n",
       "2  Row2  1547138763000  80000004979759  540 CH15Q 2010     540  COL-GRAL-3   \n",
       "\n",
       "  Llave_x                 Programa               Facultad  \\\n",
       "0  866245  CARRERA DE ARQUITECTURA  arquitectura y diseño   \n",
       "1  309945  CARRERA DE ARQUITECTURA  arquitectura y diseño   \n",
       "2  822727  CARRERA DE ARQUITECTURA  arquitectura y diseño   \n",
       "\n",
       "                                  IDUsuario  ...  \\\n",
       "0  c361c772cd0220bb16dcfb2ad803e4903334ab94  ...   \n",
       "1  c361c772cd0220bb16dcfb2ad803e4903334ab94  ...   \n",
       "2  87b0e5a61ed712ddfaf5d478ad68c87c825997e9  ...   \n",
       "\n",
       "                           Autor  \\\n",
       "0  Arango Cardinal, Silvia 1948-   \n",
       "1  Arango Cardinal, Silvia 1948-   \n",
       "2                 Chang, Raymond   \n",
       "\n",
       "                                              Titulo AnioPublicacion  \\\n",
       "0  Ciudad y arquitectura seis generaciones que co...          2012.0   \n",
       "1  Historia de la arquitectura en Colombia Silvia...          1993.0   \n",
       "2  Química Raymond Chang ; revisión técnica Rosa ...          2010.0   \n",
       "\n",
       "    Dewey_y                     TemaDewey DeweyUnidad  DeweyDecena  \\\n",
       "0    720.98  Arquitectura latinoamericana       720.0        720.0   \n",
       "1  720.9861       Arquitectura colombiana       720.0        720.0   \n",
       "2       540                       Química       540.0        540.0   \n",
       "\n",
       "  DeweyCentena                                      Temas  \\\n",
       "0        700.0        [arquitectur, histori, amer, latin]   \n",
       "1        700.0  [arquitectur, colonial, histori, colombi]   \n",
       "2        500.0                                   [quimic]   \n",
       "\n",
       "                                  Union  \n",
       "0        arquitectur histori amer latin  \n",
       "1  arquitectur colonial histori colombi  \n",
       "2                                quimic  \n",
       "\n",
       "[3 rows x 24 columns]"
      ]
     },
     "execution_count": 15,
     "metadata": {},
     "output_type": "execute_result"
    }
   ],
   "source": [
    "df.head(3)"
   ]
  },
  {
   "cell_type": "code",
   "execution_count": 16,
   "metadata": {},
   "outputs": [
    {
     "name": "stdout",
     "output_type": "stream",
     "text": [
      "['720.98' '720.9861' '540' ... '702' '305.420212' '813.54']\n"
     ]
    }
   ],
   "source": [
    "print(df['Signatura'].unique())"
   ]
  },
  {
   "cell_type": "markdown",
   "metadata": {
    "id": "PJANj4vvv4wr"
   },
   "source": [
    "Renombramos algunas de las columnas"
   ]
  },
  {
   "cell_type": "code",
   "execution_count": 17,
   "metadata": {
    "executionInfo": {
     "elapsed": 164,
     "status": "ok",
     "timestamp": 1632954154070,
     "user": {
      "displayName": "juan sebastian angarita torres",
      "photoUrl": "https://lh3.googleusercontent.com/a-/AOh14GgjiV1o_Xb2Ov2kAJhpXcHsgVLy47m-BxyXrYYMfw=s64",
      "userId": "11476954540008106843"
     },
     "user_tz": 300
    },
    "id": "2Nqztj6Yv4gK"
   },
   "outputs": [],
   "source": [
    "df = df.rename(columns={'Dewey_x':'Dewey', 'Llave_x':'Llave', 'TipoItem_y':'TipoItem','Dewey_y':'DeweyEspecifico'})"
   ]
  },
  {
   "cell_type": "code",
   "execution_count": 18,
   "metadata": {
    "executionInfo": {
     "elapsed": 7090,
     "status": "ok",
     "timestamp": 1632954161159,
     "user": {
      "displayName": "juan sebastian angarita torres",
      "photoUrl": "https://lh3.googleusercontent.com/a-/AOh14GgjiV1o_Xb2Ov2kAJhpXcHsgVLy47m-BxyXrYYMfw=s64",
      "userId": "11476954540008106843"
     },
     "user_tz": 300
    },
    "id": "oIcqNua-ES5p"
   },
   "outputs": [],
   "source": [
    "df.to_json(r'C:\\Users\\user\\Downloads\\joinTablas.json')"
   ]
  },
  {
   "cell_type": "code",
   "execution_count": null,
   "metadata": {},
   "outputs": [],
   "source": []
  }
 ],
 "metadata": {
  "colab": {
   "authorship_tag": "ABX9TyOuKxsNeToy97g2StSsORiF",
   "collapsed_sections": [],
   "name": "joinTablas.ipynb",
   "provenance": []
  },
  "kernelspec": {
   "display_name": "Python 3 (ipykernel)",
   "language": "python",
   "name": "python3"
  },
  "language_info": {
   "codemirror_mode": {
    "name": "ipython",
    "version": 3
   },
   "file_extension": ".py",
   "mimetype": "text/x-python",
   "name": "python",
   "nbconvert_exporter": "python",
   "pygments_lexer": "ipython3",
   "version": "3.7.10"
  }
 },
 "nbformat": 4,
 "nbformat_minor": 1
}
