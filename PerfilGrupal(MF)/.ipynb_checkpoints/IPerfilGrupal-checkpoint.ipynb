{
 "cells": [
  {
   "cell_type": "code",
   "execution_count": 65,
   "id": "1e99441f-066e-468a-b239-6ab8e09c360d",
   "metadata": {},
   "outputs": [
    {
     "name": "stdout",
     "output_type": "stream",
     "text": [
      "The autoreload extension is already loaded. To reload it, use:\n",
      "  %reload_ext autoreload\n"
     ]
    },
    {
     "name": "stderr",
     "output_type": "stream",
     "text": [
      "[autoreload of PerfilGrupal failed: Traceback (most recent call last):\n",
      "  File \"C:\\Users\\user\\anaconda3\\lib\\site-packages\\IPython\\extensions\\autoreload.py\", line 245, in check\n",
      "    superreload(m, reload, self.old_objects)\n",
      "  File \"C:\\Users\\user\\anaconda3\\lib\\site-packages\\IPython\\extensions\\autoreload.py\", line 394, in superreload\n",
      "    module = reload(module)\n",
      "  File \"C:\\Users\\user\\anaconda3\\lib\\imp.py\", line 314, in reload\n",
      "    return importlib.reload(module)\n",
      "  File \"C:\\Users\\user\\anaconda3\\lib\\importlib\\__init__.py\", line 169, in reload\n",
      "    _bootstrap._exec(spec, module)\n",
      "  File \"<frozen importlib._bootstrap>\", line 604, in _exec\n",
      "  File \"<frozen importlib._bootstrap_external>\", line 779, in exec_module\n",
      "  File \"<frozen importlib._bootstrap_external>\", line 916, in get_code\n",
      "  File \"<frozen importlib._bootstrap_external>\", line 846, in source_to_code\n",
      "  File \"<frozen importlib._bootstrap>\", line 219, in _call_with_frames_removed\n",
      "  File \"C:\\Users\\user\\Documents\\uaque\\PerfilGrupal(MF)\\PerfilGrupal.py\", line 157\n",
      "    filepath = \"rC:\\Users\\user\\Downloads\\Tree_trained_model_\"+now_time+\".pkl\"\n",
      "               ^\n",
      "SyntaxError: (unicode error) 'unicodeescape' codec can't decode bytes in position 3-4: truncated \\UXXXXXXXX escape\n",
      "]\n"
     ]
    }
   ],
   "source": [
    "%load_ext autoreload\n",
    "%autoreload 2\n",
    "from PerfilGrupal import PerfilGrupal "
   ]
  },
  {
   "cell_type": "code",
   "execution_count": 32,
   "id": "fbcaa5e8-11a3-45d5-99ab-a632b4d8a20d",
   "metadata": {},
   "outputs": [
    {
     "name": "stdout",
     "output_type": "stream",
     "text": [
      "inicializando\n"
     ]
    }
   ],
   "source": [
    "pg = PerfilGrupal()"
   ]
  },
  {
   "cell_type": "code",
   "execution_count": 33,
   "id": "9d2d2100-06d7-420b-8ae8-ff76fb9d4388",
   "metadata": {},
   "outputs": [],
   "source": [
    "pg.crearPesos()"
   ]
  },
  {
   "cell_type": "code",
   "execution_count": 34,
   "id": "cbf6c0cf-1aff-413c-bae7-571e509e2f0f",
   "metadata": {},
   "outputs": [
    {
     "data": {
      "text/html": [
       "<div>\n",
       "<style scoped>\n",
       "    .dataframe tbody tr th:only-of-type {\n",
       "        vertical-align: middle;\n",
       "    }\n",
       "\n",
       "    .dataframe tbody tr th {\n",
       "        vertical-align: top;\n",
       "    }\n",
       "\n",
       "    .dataframe thead th {\n",
       "        text-align: right;\n",
       "    }\n",
       "</style>\n",
       "<table border=\"1\" class=\"dataframe\">\n",
       "  <thead>\n",
       "    <tr style=\"text-align: right;\">\n",
       "      <th></th>\n",
       "      <th>IDUsuario</th>\n",
       "      <th>DeweyUnidad</th>\n",
       "      <th>Peso</th>\n",
       "    </tr>\n",
       "  </thead>\n",
       "  <tbody>\n",
       "    <tr>\n",
       "      <th>0</th>\n",
       "      <td>0162b51974d7858330fe99253c73f8ff03292f99</td>\n",
       "      <td>332</td>\n",
       "      <td>0.75</td>\n",
       "    </tr>\n",
       "    <tr>\n",
       "      <th>1</th>\n",
       "      <td>0162b51974d7858330fe99253c73f8ff03292f99</td>\n",
       "      <td>813</td>\n",
       "      <td>0.25</td>\n",
       "    </tr>\n",
       "    <tr>\n",
       "      <th>2</th>\n",
       "      <td>0162b51974d7858330fe99253c73f8ff03292f99</td>\n",
       "      <td>863</td>\n",
       "      <td>0.25</td>\n",
       "    </tr>\n",
       "    <tr>\n",
       "      <th>3</th>\n",
       "      <td>0162b51974d7858330fe99253c73f8ff03292f99</td>\n",
       "      <td>923</td>\n",
       "      <td>0.25</td>\n",
       "    </tr>\n",
       "    <tr>\n",
       "      <th>4</th>\n",
       "      <td>018f37636c3ba584df3ceb8b863dbb6867c78851</td>\n",
       "      <td>823</td>\n",
       "      <td>0.25</td>\n",
       "    </tr>\n",
       "  </tbody>\n",
       "</table>\n",
       "</div>"
      ],
      "text/plain": [
       "                                  IDUsuario  DeweyUnidad  Peso\n",
       "0  0162b51974d7858330fe99253c73f8ff03292f99          332  0.75\n",
       "1  0162b51974d7858330fe99253c73f8ff03292f99          813  0.25\n",
       "2  0162b51974d7858330fe99253c73f8ff03292f99          863  0.25\n",
       "3  0162b51974d7858330fe99253c73f8ff03292f99          923  0.25\n",
       "4  018f37636c3ba584df3ceb8b863dbb6867c78851          823  0.25"
      ]
     },
     "metadata": {},
     "output_type": "display_data"
    },
    {
     "name": "stdout",
     "output_type": "stream",
     "text": [
      "Total de IDs de usuarios:  312\n"
     ]
    },
    {
     "data": {
      "text/html": [
       "<div>\n",
       "<style scoped>\n",
       "    .dataframe tbody tr th:only-of-type {\n",
       "        vertical-align: middle;\n",
       "    }\n",
       "\n",
       "    .dataframe tbody tr th {\n",
       "        vertical-align: top;\n",
       "    }\n",
       "\n",
       "    .dataframe thead th {\n",
       "        text-align: right;\n",
       "    }\n",
       "</style>\n",
       "<table border=\"1\" class=\"dataframe\">\n",
       "  <thead>\n",
       "    <tr style=\"text-align: right;\">\n",
       "      <th></th>\n",
       "      <th>IDUsuario</th>\n",
       "      <th>DeweyDecena</th>\n",
       "      <th>Peso</th>\n",
       "    </tr>\n",
       "  </thead>\n",
       "  <tbody>\n",
       "    <tr>\n",
       "      <th>0</th>\n",
       "      <td>0162b51974d7858330fe99253c73f8ff03292f99</td>\n",
       "      <td>330</td>\n",
       "      <td>0.75</td>\n",
       "    </tr>\n",
       "    <tr>\n",
       "      <th>1</th>\n",
       "      <td>0162b51974d7858330fe99253c73f8ff03292f99</td>\n",
       "      <td>810</td>\n",
       "      <td>0.25</td>\n",
       "    </tr>\n",
       "    <tr>\n",
       "      <th>2</th>\n",
       "      <td>0162b51974d7858330fe99253c73f8ff03292f99</td>\n",
       "      <td>860</td>\n",
       "      <td>0.25</td>\n",
       "    </tr>\n",
       "    <tr>\n",
       "      <th>3</th>\n",
       "      <td>0162b51974d7858330fe99253c73f8ff03292f99</td>\n",
       "      <td>920</td>\n",
       "      <td>0.25</td>\n",
       "    </tr>\n",
       "    <tr>\n",
       "      <th>4</th>\n",
       "      <td>018f37636c3ba584df3ceb8b863dbb6867c78851</td>\n",
       "      <td>820</td>\n",
       "      <td>0.25</td>\n",
       "    </tr>\n",
       "  </tbody>\n",
       "</table>\n",
       "</div>"
      ],
      "text/plain": [
       "                                  IDUsuario  DeweyDecena  Peso\n",
       "0  0162b51974d7858330fe99253c73f8ff03292f99          330  0.75\n",
       "1  0162b51974d7858330fe99253c73f8ff03292f99          810  0.25\n",
       "2  0162b51974d7858330fe99253c73f8ff03292f99          860  0.25\n",
       "3  0162b51974d7858330fe99253c73f8ff03292f99          920  0.25\n",
       "4  018f37636c3ba584df3ceb8b863dbb6867c78851          820  0.25"
      ]
     },
     "metadata": {},
     "output_type": "display_data"
    },
    {
     "name": "stdout",
     "output_type": "stream",
     "text": [
      "Total de IDs de usuarios:  312\n"
     ]
    },
    {
     "data": {
      "text/html": [
       "<div>\n",
       "<style scoped>\n",
       "    .dataframe tbody tr th:only-of-type {\n",
       "        vertical-align: middle;\n",
       "    }\n",
       "\n",
       "    .dataframe tbody tr th {\n",
       "        vertical-align: top;\n",
       "    }\n",
       "\n",
       "    .dataframe thead th {\n",
       "        text-align: right;\n",
       "    }\n",
       "</style>\n",
       "<table border=\"1\" class=\"dataframe\">\n",
       "  <thead>\n",
       "    <tr style=\"text-align: right;\">\n",
       "      <th></th>\n",
       "      <th>IDUsuario</th>\n",
       "      <th>DeweyCentena</th>\n",
       "      <th>Peso</th>\n",
       "    </tr>\n",
       "  </thead>\n",
       "  <tbody>\n",
       "    <tr>\n",
       "      <th>0</th>\n",
       "      <td>0162b51974d7858330fe99253c73f8ff03292f99</td>\n",
       "      <td>300</td>\n",
       "      <td>0.75</td>\n",
       "    </tr>\n",
       "    <tr>\n",
       "      <th>1</th>\n",
       "      <td>0162b51974d7858330fe99253c73f8ff03292f99</td>\n",
       "      <td>800</td>\n",
       "      <td>0.50</td>\n",
       "    </tr>\n",
       "    <tr>\n",
       "      <th>2</th>\n",
       "      <td>0162b51974d7858330fe99253c73f8ff03292f99</td>\n",
       "      <td>900</td>\n",
       "      <td>0.25</td>\n",
       "    </tr>\n",
       "    <tr>\n",
       "      <th>3</th>\n",
       "      <td>018f37636c3ba584df3ceb8b863dbb6867c78851</td>\n",
       "      <td>800</td>\n",
       "      <td>0.25</td>\n",
       "    </tr>\n",
       "    <tr>\n",
       "      <th>4</th>\n",
       "      <td>0241f9f8ec169bcdb5110ca3a1ba21a85518e6f4</td>\n",
       "      <td>100</td>\n",
       "      <td>0.50</td>\n",
       "    </tr>\n",
       "  </tbody>\n",
       "</table>\n",
       "</div>"
      ],
      "text/plain": [
       "                                  IDUsuario  DeweyCentena  Peso\n",
       "0  0162b51974d7858330fe99253c73f8ff03292f99           300  0.75\n",
       "1  0162b51974d7858330fe99253c73f8ff03292f99           800  0.50\n",
       "2  0162b51974d7858330fe99253c73f8ff03292f99           900  0.25\n",
       "3  018f37636c3ba584df3ceb8b863dbb6867c78851           800  0.25\n",
       "4  0241f9f8ec169bcdb5110ca3a1ba21a85518e6f4           100  0.50"
      ]
     },
     "metadata": {},
     "output_type": "display_data"
    },
    {
     "name": "stdout",
     "output_type": "stream",
     "text": [
      "Total de IDs de usuarios:  312\n"
     ]
    }
   ],
   "source": [
    "pg.invocarTablaPesos()"
   ]
  },
  {
   "cell_type": "code",
   "execution_count": 37,
   "id": "d6919c25-47dc-491c-8a26-1e50681b2e66",
   "metadata": {},
   "outputs": [
    {
     "name": "stdout",
     "output_type": "stream",
     "text": [
      "Normalizando pesos...Iniciando\n",
      "Normalizando pesos...Acabado\n",
      "Normalizando pesos...Iniciando\n",
      "Normalizando pesos...Acabado\n",
      "Normalizando pesos...Iniciando\n",
      "Normalizando pesos...Acabado\n"
     ]
    }
   ],
   "source": [
    "pg.invocarNormalizarPesos()"
   ]
  },
  {
   "cell_type": "code",
   "execution_count": 43,
   "id": "1368716a-17fb-41b3-a28c-086df5f55a26",
   "metadata": {},
   "outputs": [
    {
     "name": "stdout",
     "output_type": "stream",
     "text": [
      "Comenzando clustering...\n",
      "Normalizando pesos...Iniciando\n",
      "Normalizando pesos...Acabado\n",
      "Finalizando clustering...\n",
      "Comenzando clustering...\n",
      "Normalizando pesos...Iniciando\n",
      "Normalizando pesos...Acabado\n",
      "Finalizando clustering...\n",
      "Comenzando clustering...\n",
      "Normalizando pesos...Iniciando\n",
      "Normalizando pesos...Acabado\n",
      "Finalizando clustering...\n"
     ]
    }
   ],
   "source": [
    "pg.invocarClustering()"
   ]
  },
  {
   "cell_type": "code",
   "execution_count": 45,
   "id": "0898ab84-1140-43fc-9f92-60981a6c7fac",
   "metadata": {},
   "outputs": [],
   "source": [
    "pg.exportarDatos()"
   ]
  },
  {
   "cell_type": "code",
   "execution_count": 61,
   "id": "0c1ef311-2c73-4309-8430-df64c9a33d24",
   "metadata": {},
   "outputs": [
    {
     "ename": "AttributeError",
     "evalue": "'PerfilGrupal' object has no attribute 'n'",
     "output_type": "error",
     "traceback": [
      "\u001b[1;31m---------------------------------------------------------------------------\u001b[0m",
      "\u001b[1;31mAttributeError\u001b[0m                            Traceback (most recent call last)",
      "\u001b[1;32m<ipython-input-61-da6aa6c5c476>\u001b[0m in \u001b[0;36m<module>\u001b[1;34m\u001b[0m\n\u001b[1;32m----> 1\u001b[1;33m \u001b[0mpg\u001b[0m\u001b[1;33m.\u001b[0m\u001b[0mexportarModelo\u001b[0m\u001b[1;33m(\u001b[0m\u001b[1;33m)\u001b[0m\u001b[1;33m\u001b[0m\u001b[1;33m\u001b[0m\u001b[0m\n\u001b[0m",
      "\u001b[1;32m~\\Documents\\uaque\\PerfilGrupal(MF)\\PerfilGrupal.py\u001b[0m in \u001b[0;36mexportarModelo\u001b[1;34m(self)\u001b[0m\n\u001b[0;32m    155\u001b[0m     \u001b[1;32mdef\u001b[0m \u001b[0mexportarModelo\u001b[0m\u001b[1;33m(\u001b[0m\u001b[0mself\u001b[0m\u001b[1;33m)\u001b[0m\u001b[1;33m:\u001b[0m\u001b[1;33m\u001b[0m\u001b[1;33m\u001b[0m\u001b[0m\n\u001b[0;32m    156\u001b[0m         \u001b[0mnow_time\u001b[0m \u001b[1;33m=\u001b[0m \u001b[0mtime\u001b[0m\u001b[1;33m.\u001b[0m\u001b[0mstrftime\u001b[0m\u001b[1;33m(\u001b[0m\u001b[1;34m\"%m%d%H%m\"\u001b[0m\u001b[1;33m)\u001b[0m\u001b[1;33m\u001b[0m\u001b[1;33m\u001b[0m\u001b[0m\n\u001b[1;32m--> 157\u001b[1;33m         \u001b[0mfilepath\u001b[0m \u001b[1;33m=\u001b[0m \u001b[1;34m\"C:\\Users\\user\\Downloads\\Tree_trained_model_\"\u001b[0m\u001b[1;33m+\u001b[0m\u001b[0mnow_time\u001b[0m\u001b[1;33m+\u001b[0m\u001b[1;34m\".pkl\"\u001b[0m\u001b[1;33m\u001b[0m\u001b[1;33m\u001b[0m\u001b[0m\n\u001b[0m\u001b[0;32m    158\u001b[0m         \u001b[1;32mwith\u001b[0m \u001b[0mgzip\u001b[0m\u001b[1;33m.\u001b[0m\u001b[0mopen\u001b[0m\u001b[1;33m(\u001b[0m\u001b[0mfilepath\u001b[0m\u001b[1;33m,\u001b[0m \u001b[1;34m\"wb\"\u001b[0m\u001b[1;33m)\u001b[0m \u001b[1;32mas\u001b[0m \u001b[0mf\u001b[0m\u001b[1;33m:\u001b[0m\u001b[1;33m\u001b[0m\u001b[1;33m\u001b[0m\u001b[0m\n\u001b[0;32m    159\u001b[0m             \u001b[0mpickled\u001b[0m \u001b[1;33m=\u001b[0m \u001b[0mpickle\u001b[0m\u001b[1;33m.\u001b[0m\u001b[0mdumps\u001b[0m\u001b[1;33m(\u001b[0m\u001b[0mself\u001b[0m\u001b[1;33m.\u001b[0m\u001b[0mmodel\u001b[0m\u001b[1;33m,\u001b[0m \u001b[0mprotocol\u001b[0m\u001b[1;33m=\u001b[0m\u001b[1;36m4\u001b[0m\u001b[1;33m)\u001b[0m\u001b[1;33m\u001b[0m\u001b[1;33m\u001b[0m\u001b[0m\n",
      "\u001b[1;31mAttributeError\u001b[0m: 'PerfilGrupal' object has no attribute 'n'"
     ]
    }
   ],
   "source": [
    "pg.exportarModelo()"
   ]
  },
  {
   "cell_type": "code",
   "execution_count": null,
   "id": "3c181af7-8b7d-4ce1-b4be-d9c4f109a14c",
   "metadata": {},
   "outputs": [],
   "source": []
  }
 ],
 "metadata": {
  "kernelspec": {
   "display_name": "Python 3",
   "language": "python",
   "name": "python3"
  },
  "language_info": {
   "codemirror_mode": {
    "name": "ipython",
    "version": 3
   },
   "file_extension": ".py",
   "mimetype": "text/x-python",
   "name": "python",
   "nbconvert_exporter": "python",
   "pygments_lexer": "ipython3",
   "version": "3.8.8"
  }
 },
 "nbformat": 4,
 "nbformat_minor": 5
}
