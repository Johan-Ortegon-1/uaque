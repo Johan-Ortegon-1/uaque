{
 "cells": [
  {
   "cell_type": "markdown",
   "metadata": {
    "id": "AFConYFt8c8I"
   },
   "source": [
    "# **Smart-UJ UAQUE**\n",
    "Este Notebook hace parte del servicio inteligente \"perfil grupal\" y tiene como objetivo la generación de clusters de usuarios a partir de el alquiler de ítems de la biblioteca Alfonso Borrero Cabal. Previamente se estrajeron los temas de cada ítem y en este notebook se generarán matrices dispersas que serán consumidad por el algoritmo de k-means para generar los clusters que posteriormente serán consumidos por los diferentes algoritmo de recomendación.\n",
    "\n",
    "**Entrada**: Tabla_join.json\n",
    "\n",
    "**Integrantes:**</br>\n",
    "Johan Ortegón </br>\n",
    "Juan Angarita </br>\n",
    "Jorge Salgado </br>\n",
    "Daniel Tibaquira </br></br>\n",
    "**Directora de Proyecto de Grado:** </br>\n",
    "Viky Arias </br>"
   ]
  },
  {
   "cell_type": "markdown",
   "metadata": {
    "id": "BI4KMpm69eJw"
   },
   "source": [
    "# Importación de datos"
   ]
  },
  {
   "cell_type": "markdown",
   "metadata": {
    "id": "W3TpO1sAa_bN"
   },
   "source": [
    "Estas son las librerias que vamos a usar para hacer el join de ambas tablas y poder hacer las diferentes agrupaciones de estudiantes. \n",
    "\n",
    "* pandas(pd): Permite almacenar los datos en dataframes(matrices) y operación entre las celdas.\n",
    "* KMeans: librería de sklearn para realizar el algoritmo de agrupamiento Kmeans.\n",
    "* StandartScaler: Permite estandarizar los datos en una escala predeterminada.\n",
    "* silhoute_score: permite sacar la métrica de puntaje de silhoute para los algoritmos de clustering.\n",
    "* Normalizer: Permite normalizar los datos\n",
    "* PCA: principal component analisis permite la reducción de dimensionalidad de nuestros dataset, en busca de que los algoritmos se ejecuten a mayor velocidad."
   ]
  },
  {
   "cell_type": "code",
   "execution_count": 1,
   "metadata": {
    "executionInfo": {
     "elapsed": 2,
     "status": "ok",
     "timestamp": 1633063590669,
     "user": {
      "displayName": "juan sebastian angarita torres",
      "photoUrl": "https://lh3.googleusercontent.com/a-/AOh14GgjiV1o_Xb2Ov2kAJhpXcHsgVLy47m-BxyXrYYMfw=s64",
      "userId": "11476954540008106843"
     },
     "user_tz": 300
    },
    "id": "nrQmfmCQlOv7"
   },
   "outputs": [],
   "source": [
    "import pandas as pd\n",
    "import numpy as np\n",
    "import matplotlib.pyplot as plt\n",
    "from sklearn.cluster import KMeans\n",
    "from sklearn.preprocessing import StandardScaler\n",
    "from sklearn.metrics import silhouette_score\n",
    "from sklearn.preprocessing import MinMaxScaler\n",
    "from sklearn.preprocessing import Normalizer\n",
    "from sklearn.decomposition import PCA"
   ]
  },
  {
   "cell_type": "markdown",
   "metadata": {
    "id": "I0npqeca97fu"
   },
   "source": [
    "Importamos el archivo. Este proviene del join entre las tablas de material bibliográfico de la biblioteca y la información de prestamos de la biblioteca. "
   ]
  },
  {
   "cell_type": "code",
   "execution_count": 2,
   "metadata": {
    "executionInfo": {
     "elapsed": 14085,
     "status": "ok",
     "timestamp": 1633063606842,
     "user": {
      "displayName": "juan sebastian angarita torres",
      "photoUrl": "https://lh3.googleusercontent.com/a-/AOh14GgjiV1o_Xb2Ov2kAJhpXcHsgVLy47m-BxyXrYYMfw=s64",
      "userId": "11476954540008106843"
     },
     "user_tz": 300
    },
    "id": "dYbiqF7K8A6B"
   },
   "outputs": [],
   "source": [
    "df = pd.read_json('https://www.dropbox.com/s/chk4h90xgm48adm/joinTablas.json?dl=1')\n",
    "#df = pd.read_json('https://www.dropbox.com/s/c80i2zi3ba4a1lv/joinTablas-FEEDBACK.json?dl=1')"
   ]
  },
  {
   "cell_type": "code",
   "execution_count": 3,
   "metadata": {
    "colab": {
     "base_uri": "https://localhost:8080/",
     "height": 366
    },
    "executionInfo": {
     "elapsed": 8,
     "status": "ok",
     "timestamp": 1633063606842,
     "user": {
      "displayName": "juan sebastian angarita torres",
      "photoUrl": "https://lh3.googleusercontent.com/a-/AOh14GgjiV1o_Xb2Ov2kAJhpXcHsgVLy47m-BxyXrYYMfw=s64",
      "userId": "11476954540008106843"
     },
     "user_tz": 300
    },
    "id": "ZSgp4hEi-DWT",
    "outputId": "37c66a54-1f4f-4b5a-9182-3c7143d349bf"
   },
   "outputs": [
    {
     "data": {
      "text/html": [
       "<div>\n",
       "<style scoped>\n",
       "    .dataframe tbody tr th:only-of-type {\n",
       "        vertical-align: middle;\n",
       "    }\n",
       "\n",
       "    .dataframe tbody tr th {\n",
       "        vertical-align: top;\n",
       "    }\n",
       "\n",
       "    .dataframe thead th {\n",
       "        text-align: right;\n",
       "    }\n",
       "</style>\n",
       "<table border=\"1\" class=\"dataframe\">\n",
       "  <thead>\n",
       "    <tr style=\"text-align: right;\">\n",
       "      <th></th>\n",
       "      <th>index</th>\n",
       "      <th>RowID</th>\n",
       "      <th>Fecha</th>\n",
       "      <th>IDItem</th>\n",
       "      <th>NumeroUbicacion</th>\n",
       "      <th>Dewey</th>\n",
       "      <th>Ubicacion</th>\n",
       "      <th>Llave</th>\n",
       "      <th>Programa</th>\n",
       "      <th>Facultad</th>\n",
       "      <th>...</th>\n",
       "      <th>Calificación</th>\n",
       "      <th>Signatura</th>\n",
       "      <th>TipoItem</th>\n",
       "      <th>Autor</th>\n",
       "      <th>Titulo</th>\n",
       "      <th>AnioPublicacion</th>\n",
       "      <th>DeweyEspecifico</th>\n",
       "      <th>TemaDewey</th>\n",
       "      <th>Temas</th>\n",
       "      <th>Union</th>\n",
       "    </tr>\n",
       "  </thead>\n",
       "  <tbody>\n",
       "    <tr>\n",
       "      <th>0</th>\n",
       "      <td>0</td>\n",
       "      <td>Row0</td>\n",
       "      <td>1.547050e+12</td>\n",
       "      <td>80000005327627</td>\n",
       "      <td>720.98 A71S</td>\n",
       "      <td>720</td>\n",
       "      <td>COL-GRAL-2</td>\n",
       "      <td>866245</td>\n",
       "      <td>CARRERA DE ARQUITECTURA</td>\n",
       "      <td>arquitectura y diseño</td>\n",
       "      <td>...</td>\n",
       "      <td>NaN</td>\n",
       "      <td>720</td>\n",
       "      <td>LIBRO</td>\n",
       "      <td>Arango Cardinal, Silvia 1948-</td>\n",
       "      <td>Ciudad y arquitectura seis generaciones que co...</td>\n",
       "      <td>2012.0</td>\n",
       "      <td>720.98</td>\n",
       "      <td>Arquitectura latinoamericana</td>\n",
       "      <td>[arquitectur, histori, amer, latin]</td>\n",
       "      <td>arquitectur histori amer latin</td>\n",
       "    </tr>\n",
       "    <tr>\n",
       "      <th>1</th>\n",
       "      <td>1</td>\n",
       "      <td>Row1</td>\n",
       "      <td>1.547050e+12</td>\n",
       "      <td>80000001191496</td>\n",
       "      <td>720.9861 A71</td>\n",
       "      <td>720</td>\n",
       "      <td>COL-GRAL-2</td>\n",
       "      <td>309945</td>\n",
       "      <td>CARRERA DE ARQUITECTURA</td>\n",
       "      <td>arquitectura y diseño</td>\n",
       "      <td>...</td>\n",
       "      <td>NaN</td>\n",
       "      <td>720</td>\n",
       "      <td>LIBRO</td>\n",
       "      <td>Arango Cardinal, Silvia 1948-</td>\n",
       "      <td>Historia de la arquitectura en Colombia Silvia...</td>\n",
       "      <td>1993.0</td>\n",
       "      <td>720.9861</td>\n",
       "      <td>Arquitectura colombiana</td>\n",
       "      <td>[arquitectur, colonial, histori, colombi]</td>\n",
       "      <td>arquitectur colonial histori colombi</td>\n",
       "    </tr>\n",
       "    <tr>\n",
       "      <th>2</th>\n",
       "      <td>2</td>\n",
       "      <td>Row2</td>\n",
       "      <td>1.547139e+12</td>\n",
       "      <td>80000004979759</td>\n",
       "      <td>540 CH15Q 2010</td>\n",
       "      <td>540</td>\n",
       "      <td>COL-GRAL-3</td>\n",
       "      <td>822727</td>\n",
       "      <td>CARRERA DE ARQUITECTURA</td>\n",
       "      <td>arquitectura y diseño</td>\n",
       "      <td>...</td>\n",
       "      <td>NaN</td>\n",
       "      <td>540</td>\n",
       "      <td>LIBRO</td>\n",
       "      <td>Chang, Raymond</td>\n",
       "      <td>Química Raymond Chang ; revisión técnica Rosa ...</td>\n",
       "      <td>2010.0</td>\n",
       "      <td>540</td>\n",
       "      <td>Química</td>\n",
       "      <td>[quimic]</td>\n",
       "      <td>quimic</td>\n",
       "    </tr>\n",
       "  </tbody>\n",
       "</table>\n",
       "<p>3 rows × 22 columns</p>\n",
       "</div>"
      ],
      "text/plain": [
       "   index RowID         Fecha          IDItem NumeroUbicacion Dewey  \\\n",
       "0      0  Row0  1.547050e+12  80000005327627     720.98 A71S   720   \n",
       "1      1  Row1  1.547050e+12  80000001191496    720.9861 A71   720   \n",
       "2      2  Row2  1.547139e+12  80000004979759  540 CH15Q 2010   540   \n",
       "\n",
       "    Ubicacion   Llave                 Programa               Facultad  ...  \\\n",
       "0  COL-GRAL-2  866245  CARRERA DE ARQUITECTURA  arquitectura y diseño  ...   \n",
       "1  COL-GRAL-2  309945  CARRERA DE ARQUITECTURA  arquitectura y diseño  ...   \n",
       "2  COL-GRAL-3  822727  CARRERA DE ARQUITECTURA  arquitectura y diseño  ...   \n",
       "\n",
       "  Calificación  Signatura  TipoItem                          Autor  \\\n",
       "0          NaN        720     LIBRO  Arango Cardinal, Silvia 1948-   \n",
       "1          NaN        720     LIBRO  Arango Cardinal, Silvia 1948-   \n",
       "2          NaN        540     LIBRO                 Chang, Raymond   \n",
       "\n",
       "                                              Titulo AnioPublicacion  \\\n",
       "0  Ciudad y arquitectura seis generaciones que co...          2012.0   \n",
       "1  Historia de la arquitectura en Colombia Silvia...          1993.0   \n",
       "2  Química Raymond Chang ; revisión técnica Rosa ...          2010.0   \n",
       "\n",
       "  DeweyEspecifico                     TemaDewey  \\\n",
       "0          720.98  Arquitectura latinoamericana   \n",
       "1        720.9861       Arquitectura colombiana   \n",
       "2             540                       Química   \n",
       "\n",
       "                                       Temas  \\\n",
       "0        [arquitectur, histori, amer, latin]   \n",
       "1  [arquitectur, colonial, histori, colombi]   \n",
       "2                                   [quimic]   \n",
       "\n",
       "                                  Union  \n",
       "0        arquitectur histori amer latin  \n",
       "1  arquitectur colonial histori colombi  \n",
       "2                                quimic  \n",
       "\n",
       "[3 rows x 22 columns]"
      ]
     },
     "execution_count": 3,
     "metadata": {},
     "output_type": "execute_result"
    }
   ],
   "source": [
    "df.head(3)"
   ]
  },
  {
   "cell_type": "markdown",
   "metadata": {
    "id": "0Pa2sORf-xFk"
   },
   "source": [
    "Anotamos la estructura del archivo. "
   ]
  },
  {
   "cell_type": "code",
   "execution_count": 4,
   "metadata": {
    "colab": {
     "base_uri": "https://localhost:8080/"
    },
    "executionInfo": {
     "elapsed": 163,
     "status": "ok",
     "timestamp": 1633063559892,
     "user": {
      "displayName": "juan sebastian angarita torres",
      "photoUrl": "https://lh3.googleusercontent.com/a-/AOh14GgjiV1o_Xb2Ov2kAJhpXcHsgVLy47m-BxyXrYYMfw=s64",
      "userId": "11476954540008106843"
     },
     "user_tz": 300
    },
    "id": "-uxQOfDb-cVZ",
    "outputId": "e080e7b0-9b85-4096-b14e-e9beb48f5aae"
   },
   "outputs": [
    {
     "name": "stdout",
     "output_type": "stream",
     "text": [
      "Numero de filas: 490474\n",
      "Numero de columnas: 22\n"
     ]
    }
   ],
   "source": [
    "print(\"Numero de filas:\", df.shape[0])\n",
    "print(\"Numero de columnas:\", df.shape[1])"
   ]
  },
  {
   "cell_type": "markdown",
   "metadata": {
    "id": "baFBI-2q-zoD"
   },
   "source": [
    "El clustering para este experimento se realizará sobre el atributo \"Signatura\" el cual representa el dewey hasta la unidad (dando aproximadamente 900 deweys diferentes). Recordar la diferencia entre la columna \"Dewey\" y \"Signatura\". La primera es la que originalmente contiene el dataset de prestamos y solo venía con valores hasta la decena, mientras que \"Sginatura\" originalmente era una valor que señalaba el dewey especifico del libro y su ubicación al interior de la biblioteca. Se realizo una transformación para obtener únicamente el valor númerico de este valor y así obtener el dewey hasta la unidad(más especifico)."
   ]
  },
  {
   "cell_type": "code",
   "execution_count": 5,
   "metadata": {
    "colab": {
     "base_uri": "https://localhost:8080/"
    },
    "executionInfo": {
     "elapsed": 6,
     "status": "ok",
     "timestamp": 1633063606842,
     "user": {
      "displayName": "juan sebastian angarita torres",
      "photoUrl": "https://lh3.googleusercontent.com/a-/AOh14GgjiV1o_Xb2Ov2kAJhpXcHsgVLy47m-BxyXrYYMfw=s64",
      "userId": "11476954540008106843"
     },
     "user_tz": 300
    },
    "id": "DvXv_Fw0_ZvO",
    "outputId": "2833a682-a327-4a04-a86a-58294be43433"
   },
   "outputs": [
    {
     "name": "stdout",
     "output_type": "stream",
     "text": [
      "Numero de datos sin Dewey(Singatura): 0\n"
     ]
    }
   ],
   "source": [
    "eliminar = df.loc[df[\"Signatura\"].isnull()]\n",
    "print(\"Numero de datos sin Dewey(Singatura):\" , eliminar.shape[0])"
   ]
  },
  {
   "cell_type": "code",
   "execution_count": 6,
   "metadata": {
    "colab": {
     "base_uri": "https://localhost:8080/"
    },
    "executionInfo": {
     "elapsed": 248,
     "status": "ok",
     "timestamp": 1633063607087,
     "user": {
      "displayName": "juan sebastian angarita torres",
      "photoUrl": "https://lh3.googleusercontent.com/a-/AOh14GgjiV1o_Xb2Ov2kAJhpXcHsgVLy47m-BxyXrYYMfw=s64",
      "userId": "11476954540008106843"
     },
     "user_tz": 300
    },
    "id": "gMZrvUs6rSu2",
    "outputId": "1091a594-016c-467f-b024-4a6f874bbf71"
   },
   "outputs": [
    {
     "name": "stdout",
     "output_type": "stream",
     "text": [
      "Valores de signatura unicos:  756\n",
      "Valores de Dewey(decena) unicos:  100\n"
     ]
    }
   ],
   "source": [
    "print(\"Valores de signatura unicos: \" , len(df[\"Signatura\"].unique()))\n",
    "print(\"Valores de Dewey(decena) unicos: \" , len(df[\"Dewey\"].unique()))"
   ]
  },
  {
   "cell_type": "markdown",
   "metadata": {
    "id": "heUlJgBUsqPP"
   },
   "source": [
    "A partir del análisis con expertos en negocio, se ha entendido que es importante tomar en cuenta el cambio de gustos de los usuarios a través del tiempo y dar menos peso a prestamos que se realizaron en el pasado a prestamos más recientes. Para esto se creará una nueva columna denominada \"Peso\" la cual determinará el peso quue tiene dicho prestamo.\n",
    "La disminución del peso será exponencial según la diferencia con el año actual y se calculará con la siguiente formula:\n",
    "\n",
    "$Peso = \\frac{1}{2^{(2021-20xx)}}$\n"
   ]
  },
  {
   "cell_type": "code",
   "execution_count": 7,
   "metadata": {},
   "outputs": [],
   "source": [
    "def pesos(x):\n",
    "    peso = 1/2**(2021-x.Year) \n",
    "    #if x[\"Calificación\"] == -1:\n",
    "    #    peso = peso*-1\n",
    "    return peso"
   ]
  },
  {
   "cell_type": "code",
   "execution_count": 8,
   "metadata": {
    "executionInfo": {
     "elapsed": 6687,
     "status": "ok",
     "timestamp": 1633063825136,
     "user": {
      "displayName": "juan sebastian angarita torres",
      "photoUrl": "https://lh3.googleusercontent.com/a-/AOh14GgjiV1o_Xb2Ov2kAJhpXcHsgVLy47m-BxyXrYYMfw=s64",
      "userId": "11476954540008106843"
     },
     "user_tz": 300
    },
    "id": "DQDBxeZWL4LD"
   },
   "outputs": [],
   "source": [
    "df[\"Peso\"] = df.apply(lambda row: pesos(row) , axis=1 )"
   ]
  },
  {
   "cell_type": "markdown",
   "metadata": {
    "id": "Eq4EPqyHM3_a"
   },
   "source": [
    "Se creará una nueva tabla donde únicamente se van a tener en cuenta los deweys que le gustan a cada usuario así como los atributos para posteriormente realizar el clustering. "
   ]
  },
  {
   "cell_type": "code",
   "execution_count": 9,
   "metadata": {},
   "outputs": [],
   "source": [
    "def positivo(x):\n",
    "    if x<0:\n",
    "        return 0\n",
    "    else:\n",
    "        return x"
   ]
  },
  {
   "cell_type": "code",
   "execution_count": 10,
   "metadata": {},
   "outputs": [
    {
     "data": {
      "text/plain": [
       "342.5"
      ]
     },
     "execution_count": 10,
     "metadata": {},
     "output_type": "execute_result"
    }
   ],
   "source": [
    "df.loc[df.IDUsuario == \"9f0c701f95e6699463a28d15c29aea813d110c4e\"].Peso.sum()"
   ]
  },
  {
   "cell_type": "code",
   "execution_count": 11,
   "metadata": {
    "colab": {
     "base_uri": "https://localhost:8080/",
     "height": 98
    },
    "executionInfo": {
     "elapsed": 1424821,
     "status": "ok",
     "timestamp": 1633068110738,
     "user": {
      "displayName": "juan sebastian angarita torres",
      "photoUrl": "https://lh3.googleusercontent.com/a-/AOh14GgjiV1o_Xb2Ov2kAJhpXcHsgVLy47m-BxyXrYYMfw=s64",
      "userId": "11476954540008106843"
     },
     "user_tz": 300
    },
    "id": "BKX3MoxuM3NC",
    "outputId": "b88929b8-532f-49ef-95f8-6809f4d3a784"
   },
   "outputs": [
    {
     "data": {
      "text/html": [
       "<div>\n",
       "<style scoped>\n",
       "    .dataframe tbody tr th:only-of-type {\n",
       "        vertical-align: middle;\n",
       "    }\n",
       "\n",
       "    .dataframe tbody tr th {\n",
       "        vertical-align: top;\n",
       "    }\n",
       "\n",
       "    .dataframe thead th {\n",
       "        text-align: right;\n",
       "    }\n",
       "</style>\n",
       "<table border=\"1\" class=\"dataframe\">\n",
       "  <thead>\n",
       "    <tr style=\"text-align: right;\">\n",
       "      <th></th>\n",
       "      <th>720</th>\n",
       "      <th>540</th>\n",
       "      <th>512</th>\n",
       "      <th>712</th>\n",
       "      <th>741</th>\n",
       "      <th>814</th>\n",
       "      <th>823</th>\n",
       "      <th>330</th>\n",
       "      <th>863</th>\n",
       "      <th>696</th>\n",
       "      <th>...</th>\n",
       "      <th>267</th>\n",
       "      <th>114</th>\n",
       "      <th>034</th>\n",
       "      <th>673</th>\n",
       "      <th>447</th>\n",
       "      <th>600</th>\n",
       "      <th>653</th>\n",
       "      <th>263</th>\n",
       "      <th>091</th>\n",
       "      <th>586</th>\n",
       "    </tr>\n",
       "  </thead>\n",
       "  <tbody>\n",
       "  </tbody>\n",
       "</table>\n",
       "<p>0 rows × 756 columns</p>\n",
       "</div>"
      ],
      "text/plain": [
       "Empty DataFrame\n",
       "Columns: [720, 540, 512, 712, 741, 814, 823, 330, 863, 696, 620, 744, 158, 943, 728, 574, 724, 711, 843, 745, 809, 307, 690, 301, 333, R, 352, 388, 131, 303, 302, 305, 342, 986, 861, 725, 344, 701, 808, 363, 692, 726, 927, 759, 895, 813, 428, 746, 658, 332, 004, 918, 686, 304, 747, 153, 121, 862, 370, 617, 136, 629, 001, 517, 926, 721, 372, 612, 306, 155, 455, 947, 923, 616, 346, 864, 150, 154, 791, 111, 821, 709, 704, 688, 005, 891, 841, 736, 727, 152, 580, 822, 523, 591, 937, 691, 853, 811, 509, 339, ...]\n",
       "Index: []\n",
       "\n",
       "[0 rows x 756 columns]"
      ]
     },
     "metadata": {},
     "output_type": "display_data"
    }
   ],
   "source": [
    "pesos_usuarios = pd.DataFrame(columns= df[\"Signatura\"].unique(),dtype=float)\n",
    "tam = len(df[\"Signatura\"].unique())\n",
    "pesos_usuarios.columns = pesos_usuarios.columns.astype(str)\n",
    "display(pesos_usuarios)\n",
    "\n",
    "ids = df[\"IDUsuario\"].unique()\n",
    "i = 0\n",
    "for usuario in ids:\n",
    "  pesos_usuarios.loc[i] = np.zeros((tam,), dtype=int)\n",
    "  #Para cada usuario traer sus Deweys y sus pesas asociados\n",
    "  prestamos = df.loc[df[\"IDUsuario\"]==usuario]\n",
    "  deweys = prestamos[[\"Signatura\",\"Peso\"]]\n",
    "  result_user = deweys.groupby(\"Signatura\")[\"Peso\"].sum().reset_index(name=\"Peso\")\n",
    "  result_user.Peso = result_user.Peso.apply(lambda x: positivo(x))\n",
    "  # Recorrer los Deweys y Pesos para plasmarlos en una matriz\n",
    "  #display(result_user)\n",
    "  for index, row in result_user.iterrows():\n",
    "    d = row[\"Signatura\"]\n",
    "    p = row['Peso']\n",
    "    pesos_usuarios[d][i] = p\n",
    "  i = i+1"
   ]
  },
  {
   "cell_type": "markdown",
   "metadata": {
    "id": "GfbNFAYTWO5n"
   },
   "source": [
    "La matriz generada es una matriz dispersa donde todos los valores son ceros excepto donde el usuario haya realizado un prestamo."
   ]
  },
  {
   "cell_type": "code",
   "execution_count": 12,
   "metadata": {
    "colab": {
     "base_uri": "https://localhost:8080/"
    },
    "executionInfo": {
     "elapsed": 164,
     "status": "ok",
     "timestamp": 1633068663869,
     "user": {
      "displayName": "juan sebastian angarita torres",
      "photoUrl": "https://lh3.googleusercontent.com/a-/AOh14GgjiV1o_Xb2Ov2kAJhpXcHsgVLy47m-BxyXrYYMfw=s64",
      "userId": "11476954540008106843"
     },
     "user_tz": 300
    },
    "id": "5YPx2tXLWKYY",
    "outputId": "2da14a9d-c2bf-4b3f-ec5f-d3338fccd4b1"
   },
   "outputs": [
    {
     "data": {
      "text/html": [
       "<div>\n",
       "<style scoped>\n",
       "    .dataframe tbody tr th:only-of-type {\n",
       "        vertical-align: middle;\n",
       "    }\n",
       "\n",
       "    .dataframe tbody tr th {\n",
       "        vertical-align: top;\n",
       "    }\n",
       "\n",
       "    .dataframe thead th {\n",
       "        text-align: right;\n",
       "    }\n",
       "</style>\n",
       "<table border=\"1\" class=\"dataframe\">\n",
       "  <thead>\n",
       "    <tr style=\"text-align: right;\">\n",
       "      <th></th>\n",
       "      <th>720</th>\n",
       "      <th>540</th>\n",
       "      <th>512</th>\n",
       "      <th>712</th>\n",
       "      <th>741</th>\n",
       "      <th>814</th>\n",
       "      <th>823</th>\n",
       "      <th>330</th>\n",
       "      <th>863</th>\n",
       "      <th>696</th>\n",
       "      <th>...</th>\n",
       "      <th>267</th>\n",
       "      <th>114</th>\n",
       "      <th>034</th>\n",
       "      <th>673</th>\n",
       "      <th>447</th>\n",
       "      <th>600</th>\n",
       "      <th>653</th>\n",
       "      <th>263</th>\n",
       "      <th>091</th>\n",
       "      <th>586</th>\n",
       "    </tr>\n",
       "  </thead>\n",
       "  <tbody>\n",
       "    <tr>\n",
       "      <th>0</th>\n",
       "      <td>2.00</td>\n",
       "      <td>0.0</td>\n",
       "      <td>0.00</td>\n",
       "      <td>0.000</td>\n",
       "      <td>0.00</td>\n",
       "      <td>0.0</td>\n",
       "      <td>0.0</td>\n",
       "      <td>0.0</td>\n",
       "      <td>0.0</td>\n",
       "      <td>0.0</td>\n",
       "      <td>...</td>\n",
       "      <td>0.0</td>\n",
       "      <td>0.0</td>\n",
       "      <td>0.0</td>\n",
       "      <td>0.0</td>\n",
       "      <td>0.0</td>\n",
       "      <td>0.0</td>\n",
       "      <td>0.0</td>\n",
       "      <td>0.0</td>\n",
       "      <td>0.0</td>\n",
       "      <td>0.125</td>\n",
       "    </tr>\n",
       "    <tr>\n",
       "      <th>1</th>\n",
       "      <td>0.00</td>\n",
       "      <td>1.0</td>\n",
       "      <td>1.25</td>\n",
       "      <td>0.000</td>\n",
       "      <td>0.00</td>\n",
       "      <td>0.0</td>\n",
       "      <td>0.0</td>\n",
       "      <td>0.0</td>\n",
       "      <td>0.0</td>\n",
       "      <td>0.0</td>\n",
       "      <td>...</td>\n",
       "      <td>0.0</td>\n",
       "      <td>0.0</td>\n",
       "      <td>0.0</td>\n",
       "      <td>0.0</td>\n",
       "      <td>0.0</td>\n",
       "      <td>0.0</td>\n",
       "      <td>0.0</td>\n",
       "      <td>0.0</td>\n",
       "      <td>0.0</td>\n",
       "      <td>0.000</td>\n",
       "    </tr>\n",
       "    <tr>\n",
       "      <th>2</th>\n",
       "      <td>0.00</td>\n",
       "      <td>0.0</td>\n",
       "      <td>0.00</td>\n",
       "      <td>3.000</td>\n",
       "      <td>0.00</td>\n",
       "      <td>0.0</td>\n",
       "      <td>0.0</td>\n",
       "      <td>0.0</td>\n",
       "      <td>0.0</td>\n",
       "      <td>0.0</td>\n",
       "      <td>...</td>\n",
       "      <td>0.0</td>\n",
       "      <td>0.0</td>\n",
       "      <td>0.0</td>\n",
       "      <td>0.0</td>\n",
       "      <td>0.0</td>\n",
       "      <td>0.0</td>\n",
       "      <td>0.0</td>\n",
       "      <td>0.0</td>\n",
       "      <td>0.0</td>\n",
       "      <td>0.000</td>\n",
       "    </tr>\n",
       "    <tr>\n",
       "      <th>3</th>\n",
       "      <td>0.25</td>\n",
       "      <td>0.0</td>\n",
       "      <td>0.00</td>\n",
       "      <td>0.000</td>\n",
       "      <td>0.25</td>\n",
       "      <td>0.0</td>\n",
       "      <td>0.0</td>\n",
       "      <td>0.0</td>\n",
       "      <td>0.0</td>\n",
       "      <td>0.0</td>\n",
       "      <td>...</td>\n",
       "      <td>0.0</td>\n",
       "      <td>0.0</td>\n",
       "      <td>0.0</td>\n",
       "      <td>0.0</td>\n",
       "      <td>0.0</td>\n",
       "      <td>0.0</td>\n",
       "      <td>0.0</td>\n",
       "      <td>0.0</td>\n",
       "      <td>0.0</td>\n",
       "      <td>0.000</td>\n",
       "    </tr>\n",
       "    <tr>\n",
       "      <th>4</th>\n",
       "      <td>5.00</td>\n",
       "      <td>0.0</td>\n",
       "      <td>0.00</td>\n",
       "      <td>0.875</td>\n",
       "      <td>0.00</td>\n",
       "      <td>0.0</td>\n",
       "      <td>0.0</td>\n",
       "      <td>0.0</td>\n",
       "      <td>0.0</td>\n",
       "      <td>0.0</td>\n",
       "      <td>...</td>\n",
       "      <td>0.0</td>\n",
       "      <td>0.0</td>\n",
       "      <td>0.0</td>\n",
       "      <td>0.0</td>\n",
       "      <td>0.0</td>\n",
       "      <td>0.0</td>\n",
       "      <td>0.0</td>\n",
       "      <td>0.0</td>\n",
       "      <td>0.0</td>\n",
       "      <td>0.000</td>\n",
       "    </tr>\n",
       "    <tr>\n",
       "      <th>...</th>\n",
       "      <td>...</td>\n",
       "      <td>...</td>\n",
       "      <td>...</td>\n",
       "      <td>...</td>\n",
       "      <td>...</td>\n",
       "      <td>...</td>\n",
       "      <td>...</td>\n",
       "      <td>...</td>\n",
       "      <td>...</td>\n",
       "      <td>...</td>\n",
       "      <td>...</td>\n",
       "      <td>...</td>\n",
       "      <td>...</td>\n",
       "      <td>...</td>\n",
       "      <td>...</td>\n",
       "      <td>...</td>\n",
       "      <td>...</td>\n",
       "      <td>...</td>\n",
       "      <td>...</td>\n",
       "      <td>...</td>\n",
       "      <td>...</td>\n",
       "    </tr>\n",
       "    <tr>\n",
       "      <th>24402</th>\n",
       "      <td>0.00</td>\n",
       "      <td>0.0</td>\n",
       "      <td>0.00</td>\n",
       "      <td>0.000</td>\n",
       "      <td>0.00</td>\n",
       "      <td>0.0</td>\n",
       "      <td>0.0</td>\n",
       "      <td>0.0</td>\n",
       "      <td>0.0</td>\n",
       "      <td>0.0</td>\n",
       "      <td>...</td>\n",
       "      <td>0.0</td>\n",
       "      <td>0.0</td>\n",
       "      <td>0.0</td>\n",
       "      <td>0.0</td>\n",
       "      <td>0.0</td>\n",
       "      <td>0.0</td>\n",
       "      <td>0.0</td>\n",
       "      <td>0.0</td>\n",
       "      <td>0.0</td>\n",
       "      <td>0.000</td>\n",
       "    </tr>\n",
       "    <tr>\n",
       "      <th>24403</th>\n",
       "      <td>0.00</td>\n",
       "      <td>0.0</td>\n",
       "      <td>0.00</td>\n",
       "      <td>0.000</td>\n",
       "      <td>0.00</td>\n",
       "      <td>0.0</td>\n",
       "      <td>0.0</td>\n",
       "      <td>0.0</td>\n",
       "      <td>0.0</td>\n",
       "      <td>0.0</td>\n",
       "      <td>...</td>\n",
       "      <td>0.0</td>\n",
       "      <td>0.0</td>\n",
       "      <td>0.0</td>\n",
       "      <td>0.0</td>\n",
       "      <td>0.0</td>\n",
       "      <td>0.0</td>\n",
       "      <td>0.0</td>\n",
       "      <td>0.0</td>\n",
       "      <td>0.0</td>\n",
       "      <td>0.000</td>\n",
       "    </tr>\n",
       "    <tr>\n",
       "      <th>24404</th>\n",
       "      <td>0.00</td>\n",
       "      <td>0.0</td>\n",
       "      <td>0.00</td>\n",
       "      <td>0.000</td>\n",
       "      <td>0.00</td>\n",
       "      <td>0.0</td>\n",
       "      <td>0.0</td>\n",
       "      <td>0.0</td>\n",
       "      <td>0.0</td>\n",
       "      <td>0.0</td>\n",
       "      <td>...</td>\n",
       "      <td>0.0</td>\n",
       "      <td>0.0</td>\n",
       "      <td>0.0</td>\n",
       "      <td>0.0</td>\n",
       "      <td>0.0</td>\n",
       "      <td>0.0</td>\n",
       "      <td>0.0</td>\n",
       "      <td>0.0</td>\n",
       "      <td>0.0</td>\n",
       "      <td>0.000</td>\n",
       "    </tr>\n",
       "    <tr>\n",
       "      <th>24405</th>\n",
       "      <td>0.00</td>\n",
       "      <td>0.0</td>\n",
       "      <td>0.00</td>\n",
       "      <td>0.000</td>\n",
       "      <td>0.00</td>\n",
       "      <td>0.0</td>\n",
       "      <td>0.0</td>\n",
       "      <td>0.0</td>\n",
       "      <td>0.0</td>\n",
       "      <td>0.0</td>\n",
       "      <td>...</td>\n",
       "      <td>0.0</td>\n",
       "      <td>0.0</td>\n",
       "      <td>0.0</td>\n",
       "      <td>0.0</td>\n",
       "      <td>0.0</td>\n",
       "      <td>0.0</td>\n",
       "      <td>0.0</td>\n",
       "      <td>0.0</td>\n",
       "      <td>0.0</td>\n",
       "      <td>0.000</td>\n",
       "    </tr>\n",
       "    <tr>\n",
       "      <th>24406</th>\n",
       "      <td>0.00</td>\n",
       "      <td>0.0</td>\n",
       "      <td>0.00</td>\n",
       "      <td>0.000</td>\n",
       "      <td>0.00</td>\n",
       "      <td>0.0</td>\n",
       "      <td>0.0</td>\n",
       "      <td>0.0</td>\n",
       "      <td>0.0</td>\n",
       "      <td>0.0</td>\n",
       "      <td>...</td>\n",
       "      <td>0.0</td>\n",
       "      <td>0.0</td>\n",
       "      <td>0.0</td>\n",
       "      <td>0.0</td>\n",
       "      <td>0.0</td>\n",
       "      <td>0.0</td>\n",
       "      <td>0.0</td>\n",
       "      <td>0.0</td>\n",
       "      <td>0.0</td>\n",
       "      <td>0.000</td>\n",
       "    </tr>\n",
       "  </tbody>\n",
       "</table>\n",
       "<p>24407 rows × 756 columns</p>\n",
       "</div>"
      ],
      "text/plain": [
       "        720  540   512    712   741  814  823  330  863  696  ...  267  114  \\\n",
       "0      2.00  0.0  0.00  0.000  0.00  0.0  0.0  0.0  0.0  0.0  ...  0.0  0.0   \n",
       "1      0.00  1.0  1.25  0.000  0.00  0.0  0.0  0.0  0.0  0.0  ...  0.0  0.0   \n",
       "2      0.00  0.0  0.00  3.000  0.00  0.0  0.0  0.0  0.0  0.0  ...  0.0  0.0   \n",
       "3      0.25  0.0  0.00  0.000  0.25  0.0  0.0  0.0  0.0  0.0  ...  0.0  0.0   \n",
       "4      5.00  0.0  0.00  0.875  0.00  0.0  0.0  0.0  0.0  0.0  ...  0.0  0.0   \n",
       "...     ...  ...   ...    ...   ...  ...  ...  ...  ...  ...  ...  ...  ...   \n",
       "24402  0.00  0.0  0.00  0.000  0.00  0.0  0.0  0.0  0.0  0.0  ...  0.0  0.0   \n",
       "24403  0.00  0.0  0.00  0.000  0.00  0.0  0.0  0.0  0.0  0.0  ...  0.0  0.0   \n",
       "24404  0.00  0.0  0.00  0.000  0.00  0.0  0.0  0.0  0.0  0.0  ...  0.0  0.0   \n",
       "24405  0.00  0.0  0.00  0.000  0.00  0.0  0.0  0.0  0.0  0.0  ...  0.0  0.0   \n",
       "24406  0.00  0.0  0.00  0.000  0.00  0.0  0.0  0.0  0.0  0.0  ...  0.0  0.0   \n",
       "\n",
       "       034  673  447  600  653  263  091    586  \n",
       "0      0.0  0.0  0.0  0.0  0.0  0.0  0.0  0.125  \n",
       "1      0.0  0.0  0.0  0.0  0.0  0.0  0.0  0.000  \n",
       "2      0.0  0.0  0.0  0.0  0.0  0.0  0.0  0.000  \n",
       "3      0.0  0.0  0.0  0.0  0.0  0.0  0.0  0.000  \n",
       "4      0.0  0.0  0.0  0.0  0.0  0.0  0.0  0.000  \n",
       "...    ...  ...  ...  ...  ...  ...  ...    ...  \n",
       "24402  0.0  0.0  0.0  0.0  0.0  0.0  0.0  0.000  \n",
       "24403  0.0  0.0  0.0  0.0  0.0  0.0  0.0  0.000  \n",
       "24404  0.0  0.0  0.0  0.0  0.0  0.0  0.0  0.000  \n",
       "24405  0.0  0.0  0.0  0.0  0.0  0.0  0.0  0.000  \n",
       "24406  0.0  0.0  0.0  0.0  0.0  0.0  0.0  0.000  \n",
       "\n",
       "[24407 rows x 756 columns]"
      ]
     },
     "execution_count": 12,
     "metadata": {},
     "output_type": "execute_result"
    }
   ],
   "source": [
    "pesos_usuarios"
   ]
  },
  {
   "cell_type": "code",
   "execution_count": 13,
   "metadata": {},
   "outputs": [],
   "source": [
    "#aux = pesos_usuarios[[\"720\",\"710\"]]\n",
    "#aux = aux.drop(aux[(aux[\"720\"] == 0) & (aux[\"710\"] == 0)].index)\n",
    "#aux"
   ]
  },
  {
   "cell_type": "markdown",
   "metadata": {
    "id": "diJY0bMJVI_g"
   },
   "source": [
    "# Configuración Modelos\n",
    "A partir del archivo \"Comparación modelos\" se puede concluir que el modelo que ayuda en mayor medida a agrupar los datos, minimizando el número de clusters con tamaño menor a 20 y la desviación estandar es kmeans con los siguiente parámetros:\n",
    "* Filas normalizadas = true\n",
    "* Columnas normalizadas = true\n",
    "* PCA = 0.95\n",
    "* Número de clusters = 150\n",
    "* Número de iteraciones = 500"
   ]
  },
  {
   "cell_type": "code",
   "execution_count": 14,
   "metadata": {
    "executionInfo": {
     "elapsed": 157,
     "status": "ok",
     "timestamp": 1633068667156,
     "user": {
      "displayName": "juan sebastian angarita torres",
      "photoUrl": "https://lh3.googleusercontent.com/a-/AOh14GgjiV1o_Xb2Ov2kAJhpXcHsgVLy47m-BxyXrYYMfw=s64",
      "userId": "11476954540008106843"
     },
     "user_tz": 300
    },
    "id": "9-I-8OKF_KMn"
   },
   "outputs": [],
   "source": [
    "resumen = pd.DataFrame(columns = [\"Tecnica\",\"PCA\", \"Norm_filas\", \"Norm_col\", \"Precision\", \"Desviacion_estandar\", \"Media\", \"Coeficiente_variacion\", \"Clusters\",\"Grupo_mas_grande\", \"Grupos<10\", \"Grupos<20\"])\n"
   ]
  },
  {
   "cell_type": "code",
   "execution_count": 15,
   "metadata": {
    "executionInfo": {
     "elapsed": 155,
     "status": "ok",
     "timestamp": 1633068668165,
     "user": {
      "displayName": "juan sebastian angarita torres",
      "photoUrl": "https://lh3.googleusercontent.com/a-/AOh14GgjiV1o_Xb2Ov2kAJhpXcHsgVLy47m-BxyXrYYMfw=s64",
      "userId": "11476954540008106843"
     },
     "user_tz": 300
    },
    "id": "4metPqHb6UGM"
   },
   "outputs": [],
   "source": [
    "def std_dev_cluster(data, labs):\n",
    "    sizes_labels = []\n",
    "    for label in np.unique(labs):\n",
    "        sizes_labels.append(len(data.loc[data[\"cluster\"] == label]))\n",
    "    \n",
    "    return np.std(sizes_labels)"
   ]
  },
  {
   "cell_type": "code",
   "execution_count": 16,
   "metadata": {
    "executionInfo": {
     "elapsed": 1,
     "status": "ok",
     "timestamp": 1633068668920,
     "user": {
      "displayName": "juan sebastian angarita torres",
      "photoUrl": "https://lh3.googleusercontent.com/a-/AOh14GgjiV1o_Xb2Ov2kAJhpXcHsgVLy47m-BxyXrYYMfw=s64",
      "userId": "11476954540008106843"
     },
     "user_tz": 300
    },
    "id": "cfZFueYQhFIQ"
   },
   "outputs": [],
   "source": [
    "def mean_cluster(data, labs):\n",
    "    sizes_labels = []\n",
    "    for label in np.unique(labs):\n",
    "        sizes_labels.append(len(data.loc[data[\"cluster\"] == label]))\n",
    "    \n",
    "    return np.mean(sizes_labels)"
   ]
  },
  {
   "cell_type": "code",
   "execution_count": 17,
   "metadata": {
    "executionInfo": {
     "elapsed": 166,
     "status": "ok",
     "timestamp": 1633068669790,
     "user": {
      "displayName": "juan sebastian angarita torres",
      "photoUrl": "https://lh3.googleusercontent.com/a-/AOh14GgjiV1o_Xb2Ov2kAJhpXcHsgVLy47m-BxyXrYYMfw=s64",
      "userId": "11476954540008106843"
     },
     "user_tz": 300
    },
    "id": "KscSkW-o_R-N"
   },
   "outputs": [],
   "source": [
    "#\n",
    "PCA = 0.95\n",
    "num_clusters = 2400\n",
    "num_iter = 10"
   ]
  },
  {
   "cell_type": "markdown",
   "metadata": {
    "id": "MVjLyTJ__r8Q"
   },
   "source": [
    "# Algoritmo kmeans"
   ]
  },
  {
   "cell_type": "code",
   "execution_count": 127,
   "metadata": {
    "executionInfo": {
     "elapsed": 154,
     "status": "ok",
     "timestamp": 1633068692443,
     "user": {
      "displayName": "juan sebastian angarita torres",
      "photoUrl": "https://lh3.googleusercontent.com/a-/AOh14GgjiV1o_Xb2Ov2kAJhpXcHsgVLy47m-BxyXrYYMfw=s64",
      "userId": "11476954540008106843"
     },
     "user_tz": 300
    },
    "id": "h2eUAHWMeng7"
   },
   "outputs": [],
   "source": [
    "final = pesos_usuarios\n",
    "#final = aux"
   ]
  },
  {
   "cell_type": "code",
   "execution_count": 128,
   "metadata": {},
   "outputs": [
    {
     "data": {
      "text/html": [
       "<div>\n",
       "<style scoped>\n",
       "    .dataframe tbody tr th:only-of-type {\n",
       "        vertical-align: middle;\n",
       "    }\n",
       "\n",
       "    .dataframe tbody tr th {\n",
       "        vertical-align: top;\n",
       "    }\n",
       "\n",
       "    .dataframe thead th {\n",
       "        text-align: right;\n",
       "    }\n",
       "</style>\n",
       "<table border=\"1\" class=\"dataframe\">\n",
       "  <thead>\n",
       "    <tr style=\"text-align: right;\">\n",
       "      <th></th>\n",
       "      <th>720</th>\n",
       "      <th>540</th>\n",
       "      <th>512</th>\n",
       "      <th>712</th>\n",
       "      <th>741</th>\n",
       "      <th>814</th>\n",
       "      <th>823</th>\n",
       "      <th>330</th>\n",
       "      <th>863</th>\n",
       "      <th>696</th>\n",
       "      <th>...</th>\n",
       "      <th>267</th>\n",
       "      <th>114</th>\n",
       "      <th>034</th>\n",
       "      <th>673</th>\n",
       "      <th>447</th>\n",
       "      <th>600</th>\n",
       "      <th>653</th>\n",
       "      <th>263</th>\n",
       "      <th>091</th>\n",
       "      <th>586</th>\n",
       "    </tr>\n",
       "  </thead>\n",
       "  <tbody>\n",
       "    <tr>\n",
       "      <th>0</th>\n",
       "      <td>0.380952</td>\n",
       "      <td>0.000000</td>\n",
       "      <td>0.000000</td>\n",
       "      <td>0.000000</td>\n",
       "      <td>0.000000</td>\n",
       "      <td>0.0</td>\n",
       "      <td>0.0</td>\n",
       "      <td>0.0</td>\n",
       "      <td>0.0</td>\n",
       "      <td>0.0</td>\n",
       "      <td>...</td>\n",
       "      <td>0.0</td>\n",
       "      <td>0.0</td>\n",
       "      <td>0.0</td>\n",
       "      <td>0.0</td>\n",
       "      <td>0.0</td>\n",
       "      <td>0.0</td>\n",
       "      <td>0.0</td>\n",
       "      <td>0.0</td>\n",
       "      <td>0.0</td>\n",
       "      <td>0.02381</td>\n",
       "    </tr>\n",
       "    <tr>\n",
       "      <th>1</th>\n",
       "      <td>0.000000</td>\n",
       "      <td>0.181818</td>\n",
       "      <td>0.227273</td>\n",
       "      <td>0.000000</td>\n",
       "      <td>0.000000</td>\n",
       "      <td>0.0</td>\n",
       "      <td>0.0</td>\n",
       "      <td>0.0</td>\n",
       "      <td>0.0</td>\n",
       "      <td>0.0</td>\n",
       "      <td>...</td>\n",
       "      <td>0.0</td>\n",
       "      <td>0.0</td>\n",
       "      <td>0.0</td>\n",
       "      <td>0.0</td>\n",
       "      <td>0.0</td>\n",
       "      <td>0.0</td>\n",
       "      <td>0.0</td>\n",
       "      <td>0.0</td>\n",
       "      <td>0.0</td>\n",
       "      <td>0.00000</td>\n",
       "    </tr>\n",
       "    <tr>\n",
       "      <th>2</th>\n",
       "      <td>0.000000</td>\n",
       "      <td>0.000000</td>\n",
       "      <td>0.000000</td>\n",
       "      <td>1.000000</td>\n",
       "      <td>0.000000</td>\n",
       "      <td>0.0</td>\n",
       "      <td>0.0</td>\n",
       "      <td>0.0</td>\n",
       "      <td>0.0</td>\n",
       "      <td>0.0</td>\n",
       "      <td>...</td>\n",
       "      <td>0.0</td>\n",
       "      <td>0.0</td>\n",
       "      <td>0.0</td>\n",
       "      <td>0.0</td>\n",
       "      <td>0.0</td>\n",
       "      <td>0.0</td>\n",
       "      <td>0.0</td>\n",
       "      <td>0.0</td>\n",
       "      <td>0.0</td>\n",
       "      <td>0.00000</td>\n",
       "    </tr>\n",
       "    <tr>\n",
       "      <th>3</th>\n",
       "      <td>0.285714</td>\n",
       "      <td>0.000000</td>\n",
       "      <td>0.000000</td>\n",
       "      <td>0.000000</td>\n",
       "      <td>0.285714</td>\n",
       "      <td>0.0</td>\n",
       "      <td>0.0</td>\n",
       "      <td>0.0</td>\n",
       "      <td>0.0</td>\n",
       "      <td>0.0</td>\n",
       "      <td>...</td>\n",
       "      <td>0.0</td>\n",
       "      <td>0.0</td>\n",
       "      <td>0.0</td>\n",
       "      <td>0.0</td>\n",
       "      <td>0.0</td>\n",
       "      <td>0.0</td>\n",
       "      <td>0.0</td>\n",
       "      <td>0.0</td>\n",
       "      <td>0.0</td>\n",
       "      <td>0.00000</td>\n",
       "    </tr>\n",
       "    <tr>\n",
       "      <th>4</th>\n",
       "      <td>0.350877</td>\n",
       "      <td>0.000000</td>\n",
       "      <td>0.000000</td>\n",
       "      <td>0.061404</td>\n",
       "      <td>0.000000</td>\n",
       "      <td>0.0</td>\n",
       "      <td>0.0</td>\n",
       "      <td>0.0</td>\n",
       "      <td>0.0</td>\n",
       "      <td>0.0</td>\n",
       "      <td>...</td>\n",
       "      <td>0.0</td>\n",
       "      <td>0.0</td>\n",
       "      <td>0.0</td>\n",
       "      <td>0.0</td>\n",
       "      <td>0.0</td>\n",
       "      <td>0.0</td>\n",
       "      <td>0.0</td>\n",
       "      <td>0.0</td>\n",
       "      <td>0.0</td>\n",
       "      <td>0.00000</td>\n",
       "    </tr>\n",
       "    <tr>\n",
       "      <th>...</th>\n",
       "      <td>...</td>\n",
       "      <td>...</td>\n",
       "      <td>...</td>\n",
       "      <td>...</td>\n",
       "      <td>...</td>\n",
       "      <td>...</td>\n",
       "      <td>...</td>\n",
       "      <td>...</td>\n",
       "      <td>...</td>\n",
       "      <td>...</td>\n",
       "      <td>...</td>\n",
       "      <td>...</td>\n",
       "      <td>...</td>\n",
       "      <td>...</td>\n",
       "      <td>...</td>\n",
       "      <td>...</td>\n",
       "      <td>...</td>\n",
       "      <td>...</td>\n",
       "      <td>...</td>\n",
       "      <td>...</td>\n",
       "      <td>...</td>\n",
       "    </tr>\n",
       "    <tr>\n",
       "      <th>24402</th>\n",
       "      <td>0.000000</td>\n",
       "      <td>0.000000</td>\n",
       "      <td>0.000000</td>\n",
       "      <td>0.000000</td>\n",
       "      <td>0.000000</td>\n",
       "      <td>0.0</td>\n",
       "      <td>0.0</td>\n",
       "      <td>0.0</td>\n",
       "      <td>0.0</td>\n",
       "      <td>0.0</td>\n",
       "      <td>...</td>\n",
       "      <td>0.0</td>\n",
       "      <td>0.0</td>\n",
       "      <td>0.0</td>\n",
       "      <td>0.0</td>\n",
       "      <td>0.0</td>\n",
       "      <td>0.0</td>\n",
       "      <td>0.0</td>\n",
       "      <td>0.0</td>\n",
       "      <td>0.0</td>\n",
       "      <td>0.00000</td>\n",
       "    </tr>\n",
       "    <tr>\n",
       "      <th>24403</th>\n",
       "      <td>0.000000</td>\n",
       "      <td>0.000000</td>\n",
       "      <td>0.000000</td>\n",
       "      <td>0.000000</td>\n",
       "      <td>0.000000</td>\n",
       "      <td>0.0</td>\n",
       "      <td>0.0</td>\n",
       "      <td>0.0</td>\n",
       "      <td>0.0</td>\n",
       "      <td>0.0</td>\n",
       "      <td>...</td>\n",
       "      <td>0.0</td>\n",
       "      <td>0.0</td>\n",
       "      <td>0.0</td>\n",
       "      <td>0.0</td>\n",
       "      <td>0.0</td>\n",
       "      <td>0.0</td>\n",
       "      <td>0.0</td>\n",
       "      <td>0.0</td>\n",
       "      <td>0.0</td>\n",
       "      <td>0.00000</td>\n",
       "    </tr>\n",
       "    <tr>\n",
       "      <th>24404</th>\n",
       "      <td>0.000000</td>\n",
       "      <td>0.000000</td>\n",
       "      <td>0.000000</td>\n",
       "      <td>0.000000</td>\n",
       "      <td>0.000000</td>\n",
       "      <td>0.0</td>\n",
       "      <td>0.0</td>\n",
       "      <td>0.0</td>\n",
       "      <td>0.0</td>\n",
       "      <td>0.0</td>\n",
       "      <td>...</td>\n",
       "      <td>0.0</td>\n",
       "      <td>0.0</td>\n",
       "      <td>0.0</td>\n",
       "      <td>0.0</td>\n",
       "      <td>0.0</td>\n",
       "      <td>0.0</td>\n",
       "      <td>0.0</td>\n",
       "      <td>0.0</td>\n",
       "      <td>0.0</td>\n",
       "      <td>0.00000</td>\n",
       "    </tr>\n",
       "    <tr>\n",
       "      <th>24405</th>\n",
       "      <td>0.000000</td>\n",
       "      <td>0.000000</td>\n",
       "      <td>0.000000</td>\n",
       "      <td>0.000000</td>\n",
       "      <td>0.000000</td>\n",
       "      <td>0.0</td>\n",
       "      <td>0.0</td>\n",
       "      <td>0.0</td>\n",
       "      <td>0.0</td>\n",
       "      <td>0.0</td>\n",
       "      <td>...</td>\n",
       "      <td>0.0</td>\n",
       "      <td>0.0</td>\n",
       "      <td>0.0</td>\n",
       "      <td>0.0</td>\n",
       "      <td>0.0</td>\n",
       "      <td>0.0</td>\n",
       "      <td>0.0</td>\n",
       "      <td>0.0</td>\n",
       "      <td>0.0</td>\n",
       "      <td>0.00000</td>\n",
       "    </tr>\n",
       "    <tr>\n",
       "      <th>24406</th>\n",
       "      <td>0.000000</td>\n",
       "      <td>0.000000</td>\n",
       "      <td>0.000000</td>\n",
       "      <td>0.000000</td>\n",
       "      <td>0.000000</td>\n",
       "      <td>0.0</td>\n",
       "      <td>0.0</td>\n",
       "      <td>0.0</td>\n",
       "      <td>0.0</td>\n",
       "      <td>0.0</td>\n",
       "      <td>...</td>\n",
       "      <td>0.0</td>\n",
       "      <td>0.0</td>\n",
       "      <td>0.0</td>\n",
       "      <td>0.0</td>\n",
       "      <td>0.0</td>\n",
       "      <td>0.0</td>\n",
       "      <td>0.0</td>\n",
       "      <td>0.0</td>\n",
       "      <td>0.0</td>\n",
       "      <td>0.00000</td>\n",
       "    </tr>\n",
       "  </tbody>\n",
       "</table>\n",
       "<p>24407 rows × 756 columns</p>\n",
       "</div>"
      ],
      "text/plain": [
       "            720       540       512       712       741  814  823  330  863  \\\n",
       "0      0.380952  0.000000  0.000000  0.000000  0.000000  0.0  0.0  0.0  0.0   \n",
       "1      0.000000  0.181818  0.227273  0.000000  0.000000  0.0  0.0  0.0  0.0   \n",
       "2      0.000000  0.000000  0.000000  1.000000  0.000000  0.0  0.0  0.0  0.0   \n",
       "3      0.285714  0.000000  0.000000  0.000000  0.285714  0.0  0.0  0.0  0.0   \n",
       "4      0.350877  0.000000  0.000000  0.061404  0.000000  0.0  0.0  0.0  0.0   \n",
       "...         ...       ...       ...       ...       ...  ...  ...  ...  ...   \n",
       "24402  0.000000  0.000000  0.000000  0.000000  0.000000  0.0  0.0  0.0  0.0   \n",
       "24403  0.000000  0.000000  0.000000  0.000000  0.000000  0.0  0.0  0.0  0.0   \n",
       "24404  0.000000  0.000000  0.000000  0.000000  0.000000  0.0  0.0  0.0  0.0   \n",
       "24405  0.000000  0.000000  0.000000  0.000000  0.000000  0.0  0.0  0.0  0.0   \n",
       "24406  0.000000  0.000000  0.000000  0.000000  0.000000  0.0  0.0  0.0  0.0   \n",
       "\n",
       "       696  ...  267  114  034  673  447  600  653  263  091      586  \n",
       "0      0.0  ...  0.0  0.0  0.0  0.0  0.0  0.0  0.0  0.0  0.0  0.02381  \n",
       "1      0.0  ...  0.0  0.0  0.0  0.0  0.0  0.0  0.0  0.0  0.0  0.00000  \n",
       "2      0.0  ...  0.0  0.0  0.0  0.0  0.0  0.0  0.0  0.0  0.0  0.00000  \n",
       "3      0.0  ...  0.0  0.0  0.0  0.0  0.0  0.0  0.0  0.0  0.0  0.00000  \n",
       "4      0.0  ...  0.0  0.0  0.0  0.0  0.0  0.0  0.0  0.0  0.0  0.00000  \n",
       "...    ...  ...  ...  ...  ...  ...  ...  ...  ...  ...  ...      ...  \n",
       "24402  0.0  ...  0.0  0.0  0.0  0.0  0.0  0.0  0.0  0.0  0.0  0.00000  \n",
       "24403  0.0  ...  0.0  0.0  0.0  0.0  0.0  0.0  0.0  0.0  0.0  0.00000  \n",
       "24404  0.0  ...  0.0  0.0  0.0  0.0  0.0  0.0  0.0  0.0  0.0  0.00000  \n",
       "24405  0.0  ...  0.0  0.0  0.0  0.0  0.0  0.0  0.0  0.0  0.0  0.00000  \n",
       "24406  0.0  ...  0.0  0.0  0.0  0.0  0.0  0.0  0.0  0.0  0.0  0.00000  \n",
       "\n",
       "[24407 rows x 756 columns]"
      ]
     },
     "execution_count": 128,
     "metadata": {},
     "output_type": "execute_result"
    }
   ],
   "source": [
    "sumatoria = final.sum(axis=1)\n",
    "pesos_norm = final.div(sumatoria, axis=0).fillna(0)\n",
    "pesos_norm"
   ]
  },
  {
   "cell_type": "code",
   "execution_count": 163,
   "metadata": {},
   "outputs": [
    {
     "name": "stdout",
     "output_type": "stream",
     "text": [
      "137\n"
     ]
    }
   ],
   "source": [
    "from sklearn.decomposition import PCA\n",
    "pca = PCA(n_components=0.95)\n",
    "pesos_norm = pca.fit_transform(pesos_norm)\n",
    "print(pca.n_components_)"
   ]
  },
  {
   "cell_type": "code",
   "execution_count": 164,
   "metadata": {},
   "outputs": [
    {
     "data": {
      "text/plain": [
       "HDBSCAN(min_cluster_size=10)"
      ]
     },
     "execution_count": 164,
     "metadata": {},
     "output_type": "execute_result"
    }
   ],
   "source": [
    "import hdbscan\n",
    "clusterer = hdbscan.HDBSCAN(min_cluster_size=10)\n",
    "clusterer.fit(pesos_norm)\n"
   ]
  },
  {
   "cell_type": "code",
   "execution_count": 165,
   "metadata": {},
   "outputs": [
    {
     "name": "stdout",
     "output_type": "stream",
     "text": [
      "15880\n",
      "186\n"
     ]
    },
    {
     "data": {
      "text/plain": [
       "array([ True,  True, False, ..., False,  True, False])"
      ]
     },
     "execution_count": 165,
     "metadata": {},
     "output_type": "execute_result"
    }
   ],
   "source": [
    "print(np.count_nonzero(clusterer.labels_ == -1))\n",
    "print(max(clusterer.labels_))\n",
    "clusterer.labels_ == -1\n",
    "#clusterer.labels_"
   ]
  },
  {
   "cell_type": "markdown",
   "metadata": {
    "executionInfo": {
     "elapsed": 166032,
     "status": "ok",
     "timestamp": 1633068859168,
     "user": {
      "displayName": "juan sebastian angarita torres",
      "photoUrl": "https://lh3.googleusercontent.com/a-/AOh14GgjiV1o_Xb2Ov2kAJhpXcHsgVLy47m-BxyXrYYMfw=s64",
      "userId": "11476954540008106843"
     },
     "user_tz": 300
    },
    "id": "oBYgDn75XB50"
   },
   "source": [
    "#Normalización\n",
    "#2.5 min por iteración\n",
    "sumatoria = final.sum(axis=1)\n",
    "pesos_norm = final.div(sumatoria, axis=0).fillna(0)\n",
    "\n",
    "#scaler = MinMaxScaler()\n",
    "#pesos_norm = scaler.fit_transform(pesos_norm.values)\n",
    "\n",
    "  #Kmeans\n",
    "k_means = KMeans(init = \"k-means++\", n_clusters = num_clusters, n_init = num_iter)\n",
    "k_means.fit_predict(pesos_norm)\n",
    "labels = k_means.labels_"
   ]
  },
  {
   "cell_type": "code",
   "execution_count": 207,
   "metadata": {
    "colab": {
     "base_uri": "https://localhost:8080/"
    },
    "executionInfo": {
     "elapsed": 36116,
     "status": "ok",
     "timestamp": 1633069279518,
     "user": {
      "displayName": "juan sebastian angarita torres",
      "photoUrl": "https://lh3.googleusercontent.com/a-/AOh14GgjiV1o_Xb2Ov2kAJhpXcHsgVLy47m-BxyXrYYMfw=s64",
      "userId": "11476954540008106843"
     },
     "user_tz": 300
    },
    "id": "ZfSLsrwpfYA3",
    "outputId": "2c2d9350-c37e-4eba-a20c-b6ff0d6fc913"
   },
   "outputs": [
    {
     "name": "stdout",
     "output_type": "stream",
     "text": [
      "silhouette_score:  0.3328026376157128\n"
     ]
    }
   ],
   "source": [
    "#Desempeño\n",
    "#3 min\n",
    "pres = silhouette_score(pesos_norm, labels)\n",
    "print(\"silhouette_score: \", pres)"
   ]
  },
  {
   "cell_type": "code",
   "execution_count": 140,
   "metadata": {
    "colab": {
     "base_uri": "https://localhost:8080/",
     "height": 419
    },
    "executionInfo": {
     "elapsed": 161,
     "status": "ok",
     "timestamp": 1633069997340,
     "user": {
      "displayName": "juan sebastian angarita torres",
      "photoUrl": "https://lh3.googleusercontent.com/a-/AOh14GgjiV1o_Xb2Ov2kAJhpXcHsgVLy47m-BxyXrYYMfw=s64",
      "userId": "11476954540008106843"
     },
     "user_tz": 300
    },
    "id": "424_civNjJXy",
    "outputId": "f17028c3-8682-4b28-f73f-4d6039167be9"
   },
   "outputs": [
    {
     "data": {
      "text/html": [
       "<div>\n",
       "<style scoped>\n",
       "    .dataframe tbody tr th:only-of-type {\n",
       "        vertical-align: middle;\n",
       "    }\n",
       "\n",
       "    .dataframe tbody tr th {\n",
       "        vertical-align: top;\n",
       "    }\n",
       "\n",
       "    .dataframe thead th {\n",
       "        text-align: right;\n",
       "    }\n",
       "</style>\n",
       "<table border=\"1\" class=\"dataframe\">\n",
       "  <thead>\n",
       "    <tr style=\"text-align: right;\">\n",
       "      <th></th>\n",
       "      <th>IDUsuario</th>\n",
       "      <th>Peso</th>\n",
       "    </tr>\n",
       "  </thead>\n",
       "  <tbody>\n",
       "    <tr>\n",
       "      <th>0</th>\n",
       "      <td>00063d52cf68c65d2a569e95c40345c4a305ccc7</td>\n",
       "      <td>0.500</td>\n",
       "    </tr>\n",
       "    <tr>\n",
       "      <th>1</th>\n",
       "      <td>0006b3bdabeaa5389b211c8487bd67d339c97ef7</td>\n",
       "      <td>0.500</td>\n",
       "    </tr>\n",
       "    <tr>\n",
       "      <th>2</th>\n",
       "      <td>000a0630c32a437052696f6921e3181f155291d0</td>\n",
       "      <td>0.500</td>\n",
       "    </tr>\n",
       "    <tr>\n",
       "      <th>3</th>\n",
       "      <td>000c040064aedd76057c5309064a3823db970644</td>\n",
       "      <td>0.125</td>\n",
       "    </tr>\n",
       "    <tr>\n",
       "      <th>4</th>\n",
       "      <td>000f23e62e6d4995ede7090c6447ad6736edc4de</td>\n",
       "      <td>1.500</td>\n",
       "    </tr>\n",
       "    <tr>\n",
       "      <th>...</th>\n",
       "      <td>...</td>\n",
       "      <td>...</td>\n",
       "    </tr>\n",
       "    <tr>\n",
       "      <th>24402</th>\n",
       "      <td>fff71390a9f54ced5134452870d70ff18812f05f</td>\n",
       "      <td>2.125</td>\n",
       "    </tr>\n",
       "    <tr>\n",
       "      <th>24403</th>\n",
       "      <td>fff716c9685b5267e6ecfcdc00e9303509355bc1</td>\n",
       "      <td>1.000</td>\n",
       "    </tr>\n",
       "    <tr>\n",
       "      <th>24404</th>\n",
       "      <td>fff735f54719b720fc4c6c723208ad1f06e9605e</td>\n",
       "      <td>14.500</td>\n",
       "    </tr>\n",
       "    <tr>\n",
       "      <th>24405</th>\n",
       "      <td>fffb2be68fef4b27a810b11a641d84052eb02347</td>\n",
       "      <td>0.500</td>\n",
       "    </tr>\n",
       "    <tr>\n",
       "      <th>24406</th>\n",
       "      <td>ffff06c13f23ab304cfcb83035a1cecab8f5492d</td>\n",
       "      <td>0.500</td>\n",
       "    </tr>\n",
       "  </tbody>\n",
       "</table>\n",
       "<p>24407 rows × 2 columns</p>\n",
       "</div>"
      ],
      "text/plain": [
       "                                      IDUsuario    Peso\n",
       "0      00063d52cf68c65d2a569e95c40345c4a305ccc7   0.500\n",
       "1      0006b3bdabeaa5389b211c8487bd67d339c97ef7   0.500\n",
       "2      000a0630c32a437052696f6921e3181f155291d0   0.500\n",
       "3      000c040064aedd76057c5309064a3823db970644   0.125\n",
       "4      000f23e62e6d4995ede7090c6447ad6736edc4de   1.500\n",
       "...                                         ...     ...\n",
       "24402  fff71390a9f54ced5134452870d70ff18812f05f   2.125\n",
       "24403  fff716c9685b5267e6ecfcdc00e9303509355bc1   1.000\n",
       "24404  fff735f54719b720fc4c6c723208ad1f06e9605e  14.500\n",
       "24405  fffb2be68fef4b27a810b11a641d84052eb02347   0.500\n",
       "24406  ffff06c13f23ab304cfcb83035a1cecab8f5492d   0.500\n",
       "\n",
       "[24407 rows x 2 columns]"
      ]
     },
     "execution_count": 140,
     "metadata": {},
     "output_type": "execute_result"
    }
   ],
   "source": [
    "grouped = df.groupby(\"IDUsuario\")[\"Peso\"].sum().reset_index(name=\"Peso\")\n",
    "grouped"
   ]
  },
  {
   "cell_type": "code",
   "execution_count": 142,
   "metadata": {
    "colab": {
     "base_uri": "https://localhost:8080/",
     "height": 291
    },
    "executionInfo": {
     "elapsed": 2721,
     "status": "ok",
     "timestamp": 1633070024317,
     "user": {
      "displayName": "juan sebastian angarita torres",
      "photoUrl": "https://lh3.googleusercontent.com/a-/AOh14GgjiV1o_Xb2Ov2kAJhpXcHsgVLy47m-BxyXrYYMfw=s64",
      "userId": "11476954540008106843"
     },
     "user_tz": 300
    },
    "id": "TDCAYiRnI6Rg",
    "outputId": "2e04167f-caa6-428c-d8b4-a7d4eebc8bd1"
   },
   "outputs": [
    {
     "data": {
      "text/plain": [
       "<AxesSubplot:>"
      ]
     },
     "metadata": {},
     "output_type": "display_data"
    },
    {
     "ename": "NameError",
     "evalue": "name 'pres' is not defined",
     "output_type": "error",
     "traceback": [
      "\u001b[0;31m---------------------------------------------------------------------------\u001b[0m",
      "\u001b[0;31mNameError\u001b[0m                                 Traceback (most recent call last)",
      "\u001b[0;32m<ipython-input-142-82840b8f9e11>\u001b[0m in \u001b[0;36m<module>\u001b[0;34m\u001b[0m\n\u001b[1;32m     21\u001b[0m                               \u001b[0;34m'Norm_filas'\u001b[0m\u001b[0;34m:\u001b[0m\u001b[0;32mTrue\u001b[0m\u001b[0;34m,\u001b[0m\u001b[0;34m\u001b[0m\u001b[0;34m\u001b[0m\u001b[0m\n\u001b[1;32m     22\u001b[0m                               \u001b[0;34m'Norm_col'\u001b[0m\u001b[0;34m:\u001b[0m\u001b[0;32mTrue\u001b[0m\u001b[0;34m,\u001b[0m\u001b[0;34m\u001b[0m\u001b[0;34m\u001b[0m\u001b[0m\n\u001b[0;32m---> 23\u001b[0;31m                               \u001b[0;34m'Precision'\u001b[0m\u001b[0;34m:\u001b[0m\u001b[0mpres\u001b[0m\u001b[0;34m,\u001b[0m\u001b[0;34m\u001b[0m\u001b[0;34m\u001b[0m\u001b[0m\n\u001b[0m\u001b[1;32m     24\u001b[0m                               \u001b[0;34m'Desviacion_estandar'\u001b[0m\u001b[0;34m:\u001b[0m\u001b[0mdesviacion\u001b[0m\u001b[0;34m,\u001b[0m\u001b[0;34m\u001b[0m\u001b[0;34m\u001b[0m\u001b[0m\n\u001b[1;32m     25\u001b[0m                               \u001b[0;34m'Media'\u001b[0m\u001b[0;34m:\u001b[0m\u001b[0mmedia\u001b[0m\u001b[0;34m,\u001b[0m\u001b[0;34m\u001b[0m\u001b[0;34m\u001b[0m\u001b[0m\n",
      "\u001b[0;31mNameError\u001b[0m: name 'pres' is not defined"
     ]
    },
    {
     "data": {
      "image/png": "[encoded data removed]",
      "text/plain": [
       "<Figure size 2160x1080 with 1 Axes>"
      ]
     },
     "metadata": {
      "needs_background": "light"
     },
     "output_type": "display_data"
    }
   ],
   "source": [
    "#copiamos el dataframe y agregamos los clusters para gráficar la distribución\n",
    "labels = clusterer.labels_\n",
    "df2 = final.copy()\n",
    "df2[\"cluster\"] = labels\n",
    "\n",
    "#pegamos los cluster a la tabla que tiene los usuarios y los temas\n",
    "df2[\"cluster\"] = labels\n",
    "display(df2[\"cluster\"].value_counts().plot(kind='bar',figsize=(30,15)))\n",
    "\n",
    "\n",
    "#Cálculo de métricas\n",
    "media = mean_cluster(df2,labels)\n",
    "desviacion = std_dev_cluster(df2,labels)\n",
    "data = df2.groupby('cluster')['cluster'].count()\n",
    "peque10 = len(data[data<=10])\n",
    "peque20 = len(data[data<=20])\n",
    "masGrande = data.max()\n",
    "#Agregamos los datos a nuestra tabla de resumen para comparar\n",
    "resumen = resumen.append({'Tecnica':\"K-MEANS\",\n",
    "                              'PCA':0.95,\n",
    "                              'Norm_filas':True,\n",
    "                              'Norm_col':True,\n",
    "                              'Precision':pres,\n",
    "                              'Desviacion_estandar':desviacion,\n",
    "                              'Media':media,\n",
    "                              'Coeficiente_variacion':desviacion/media, \n",
    "                              'Clusters': num_clusters,\n",
    "                              \"Grupos<20\":peque20,\n",
    "                              \"Grupos<10\":peque10 , \n",
    "                              \"Grupo_mas_grande\":masGrande}, ignore_index=True)"
   ]
  },
  {
   "cell_type": "code",
   "execution_count": 186,
   "metadata": {
    "colab": {
     "base_uri": "https://localhost:8080/",
     "height": 142
    },
    "executionInfo": {
     "elapsed": 171,
     "status": "ok",
     "timestamp": 1633070028067,
     "user": {
      "displayName": "juan sebastian angarita torres",
      "photoUrl": "https://lh3.googleusercontent.com/a-/AOh14GgjiV1o_Xb2Ov2kAJhpXcHsgVLy47m-BxyXrYYMfw=s64",
      "userId": "11476954540008106843"
     },
     "user_tz": 300
    },
    "id": "pf6HzVgMeyW6",
    "outputId": "82c2921e-686b-40bb-bd53-7205f5c093d5"
   },
   "outputs": [
    {
     "data": {
      "text/html": [
       "<div>\n",
       "<style scoped>\n",
       "    .dataframe tbody tr th:only-of-type {\n",
       "        vertical-align: middle;\n",
       "    }\n",
       "\n",
       "    .dataframe tbody tr th {\n",
       "        vertical-align: top;\n",
       "    }\n",
       "\n",
       "    .dataframe thead th {\n",
       "        text-align: right;\n",
       "    }\n",
       "</style>\n",
       "<table border=\"1\" class=\"dataframe\">\n",
       "  <thead>\n",
       "    <tr style=\"text-align: right;\">\n",
       "      <th></th>\n",
       "      <th>IDUsuario</th>\n",
       "      <th>Peso</th>\n",
       "    </tr>\n",
       "  </thead>\n",
       "  <tbody>\n",
       "    <tr>\n",
       "      <th>0</th>\n",
       "      <td>00063d52cf68c65d2a569e95c40345c4a305ccc7</td>\n",
       "      <td>0.5</td>\n",
       "    </tr>\n",
       "    <tr>\n",
       "      <th>1</th>\n",
       "      <td>0006b3bdabeaa5389b211c8487bd67d339c97ef7</td>\n",
       "      <td>0.5</td>\n",
       "    </tr>\n",
       "    <tr>\n",
       "      <th>2</th>\n",
       "      <td>000a0630c32a437052696f6921e3181f155291d0</td>\n",
       "      <td>0.5</td>\n",
       "    </tr>\n",
       "  </tbody>\n",
       "</table>\n",
       "</div>"
      ],
      "text/plain": [
       "                                  IDUsuario  Peso\n",
       "0  00063d52cf68c65d2a569e95c40345c4a305ccc7   0.5\n",
       "1  0006b3bdabeaa5389b211c8487bd67d339c97ef7   0.5\n",
       "2  000a0630c32a437052696f6921e3181f155291d0   0.5"
      ]
     },
     "execution_count": 186,
     "metadata": {},
     "output_type": "execute_result"
    }
   ],
   "source": [
    "grouped.head(3)"
   ]
  },
  {
   "cell_type": "code",
   "execution_count": 201,
   "metadata": {
    "colab": {
     "base_uri": "https://localhost:8080/",
     "height": 111
    },
    "executionInfo": {
     "elapsed": 159,
     "status": "ok",
     "timestamp": 1633070034404,
     "user": {
      "displayName": "juan sebastian angarita torres",
      "photoUrl": "https://lh3.googleusercontent.com/a-/AOh14GgjiV1o_Xb2Ov2kAJhpXcHsgVLy47m-BxyXrYYMfw=s64",
      "userId": "11476954540008106843"
     },
     "user_tz": 300
    },
    "id": "MDvuWOySBTyh",
    "outputId": "031a285a-f3cb-4893-8351-a16bcf2f7cd8"
   },
   "outputs": [
    {
     "data": {
      "text/html": [
       "<div>\n",
       "<style scoped>\n",
       "    .dataframe tbody tr th:only-of-type {\n",
       "        vertical-align: middle;\n",
       "    }\n",
       "\n",
       "    .dataframe tbody tr th {\n",
       "        vertical-align: top;\n",
       "    }\n",
       "\n",
       "    .dataframe thead th {\n",
       "        text-align: right;\n",
       "    }\n",
       "</style>\n",
       "<table border=\"1\" class=\"dataframe\">\n",
       "  <thead>\n",
       "    <tr style=\"text-align: right;\">\n",
       "      <th></th>\n",
       "      <th>Tecnica</th>\n",
       "      <th>PCA</th>\n",
       "      <th>Norm_filas</th>\n",
       "      <th>Norm_col</th>\n",
       "      <th>Precision</th>\n",
       "      <th>Desviacion_estandar</th>\n",
       "      <th>Media</th>\n",
       "      <th>Coeficiente_variacion</th>\n",
       "      <th>Clusters</th>\n",
       "      <th>Grupo_mas_grande</th>\n",
       "      <th>Grupos&lt;10</th>\n",
       "      <th>Grupos&lt;20</th>\n",
       "    </tr>\n",
       "  </thead>\n",
       "  <tbody>\n",
       "    <tr>\n",
       "      <th>0</th>\n",
       "      <td>K-MEANS</td>\n",
       "      <td>0.95</td>\n",
       "      <td>True</td>\n",
       "      <td>True</td>\n",
       "      <td>0.305846</td>\n",
       "      <td>50.932994</td>\n",
       "      <td>30.50875</td>\n",
       "      <td>1.669455</td>\n",
       "      <td>800</td>\n",
       "      <td>807</td>\n",
       "      <td>329</td>\n",
       "      <td>467</td>\n",
       "    </tr>\n",
       "    <tr>\n",
       "      <th>1</th>\n",
       "      <td>K-MEANS</td>\n",
       "      <td>0.95</td>\n",
       "      <td>True</td>\n",
       "      <td>True</td>\n",
       "      <td>0.305846</td>\n",
       "      <td>50.932994</td>\n",
       "      <td>30.50875</td>\n",
       "      <td>1.669455</td>\n",
       "      <td>800</td>\n",
       "      <td>807</td>\n",
       "      <td>329</td>\n",
       "      <td>467</td>\n",
       "    </tr>\n",
       "    <tr>\n",
       "      <th>2</th>\n",
       "      <td>K-MEANS</td>\n",
       "      <td>0.95</td>\n",
       "      <td>True</td>\n",
       "      <td>True</td>\n",
       "      <td>0.305846</td>\n",
       "      <td>267.739119</td>\n",
       "      <td>152.54375</td>\n",
       "      <td>1.755163</td>\n",
       "      <td>160</td>\n",
       "      <td>2635</td>\n",
       "      <td>0</td>\n",
       "      <td>5</td>\n",
       "    </tr>\n",
       "  </tbody>\n",
       "</table>\n",
       "</div>"
      ],
      "text/plain": [
       "   Tecnica   PCA Norm_filas Norm_col  Precision  Desviacion_estandar  \\\n",
       "0  K-MEANS  0.95       True     True   0.305846            50.932994   \n",
       "1  K-MEANS  0.95       True     True   0.305846            50.932994   \n",
       "2  K-MEANS  0.95       True     True   0.305846           267.739119   \n",
       "\n",
       "       Media  Coeficiente_variacion Clusters Grupo_mas_grande Grupos<10  \\\n",
       "0   30.50875               1.669455      800              807       329   \n",
       "1   30.50875               1.669455      800              807       329   \n",
       "2  152.54375               1.755163      160             2635         0   \n",
       "\n",
       "  Grupos<20  \n",
       "0       467  \n",
       "1       467  \n",
       "2         5  "
      ]
     },
     "execution_count": 201,
     "metadata": {},
     "output_type": "execute_result"
    }
   ],
   "source": [
    "resumen"
   ]
  },
  {
   "cell_type": "markdown",
   "metadata": {
    "id": "4FwTk6-ammsv"
   },
   "source": [
    "Podemos analizar los temas más importantes que tiene cada cluster. "
   ]
  },
  {
   "cell_type": "code",
   "execution_count": 148,
   "metadata": {
    "colab": {
     "base_uri": "https://localhost:8080/"
    },
    "executionInfo": {
     "elapsed": 161,
     "status": "ok",
     "timestamp": 1633070038046,
     "user": {
      "displayName": "juan sebastian angarita torres",
      "photoUrl": "https://lh3.googleusercontent.com/a-/AOh14GgjiV1o_Xb2Ov2kAJhpXcHsgVLy47m-BxyXrYYMfw=s64",
      "userId": "11476954540008106843"
     },
     "user_tz": 300
    },
    "id": "sq5YOnvGVh5U",
    "outputId": "cbd8c552-aa31-4354-d582-24191a734c8a"
   },
   "outputs": [
    {
     "data": {
      "text/plain": [
       "336        10\n",
       "cluster    10\n",
       "303         1\n",
       "657         1\n",
       "dtype: int64"
      ]
     },
     "execution_count": 148,
     "metadata": {},
     "output_type": "execute_result"
    }
   ],
   "source": [
    "cluster = df2.loc[df2.cluster == 4]\n",
    "aux=cluster.astype(bool).sum(axis=0)\n",
    "df3 = aux[aux > 0]\n",
    "df3.sort_values(ascending=False).head(20)"
   ]
  },
  {
   "cell_type": "code",
   "execution_count": 145,
   "metadata": {},
   "outputs": [
    {
     "ename": "AttributeError",
     "evalue": "'DataFrame' object has no attribute 'cluster'",
     "output_type": "error",
     "traceback": [
      "\u001b[0;31m---------------------------------------------------------------------------\u001b[0m",
      "\u001b[0;31mAttributeError\u001b[0m                            Traceback (most recent call last)",
      "\u001b[0;32m<ipython-input-145-d3cf819f6c14>\u001b[0m in \u001b[0;36m<module>\u001b[0;34m\u001b[0m\n\u001b[0;32m----> 1\u001b[0;31m \u001b[0mgrouped\u001b[0m\u001b[0;34m.\u001b[0m\u001b[0mloc\u001b[0m\u001b[0;34m[\u001b[0m\u001b[0mgrouped\u001b[0m\u001b[0;34m.\u001b[0m\u001b[0mcluster\u001b[0m \u001b[0;34m==\u001b[0m \u001b[0;36m1\u001b[0m\u001b[0;34m]\u001b[0m\u001b[0;34m.\u001b[0m\u001b[0msort_values\u001b[0m\u001b[0;34m(\u001b[0m\u001b[0mascending\u001b[0m\u001b[0;34m=\u001b[0m\u001b[0;32mFalse\u001b[0m\u001b[0;34m,\u001b[0m \u001b[0mby\u001b[0m\u001b[0;34m=\u001b[0m\u001b[0;34m\"Peso\"\u001b[0m\u001b[0;34m)\u001b[0m\u001b[0;34m.\u001b[0m\u001b[0mhead\u001b[0m\u001b[0;34m(\u001b[0m\u001b[0;36m10\u001b[0m\u001b[0;34m)\u001b[0m\u001b[0;34m\u001b[0m\u001b[0;34m\u001b[0m\u001b[0m\n\u001b[0m",
      "\u001b[0;32m~/opt/anaconda3/lib/python3.8/site-packages/pandas/core/generic.py\u001b[0m in \u001b[0;36m__getattr__\u001b[0;34m(self, name)\u001b[0m\n\u001b[1;32m   5463\u001b[0m             \u001b[0;32mif\u001b[0m \u001b[0mself\u001b[0m\u001b[0;34m.\u001b[0m\u001b[0m_info_axis\u001b[0m\u001b[0;34m.\u001b[0m\u001b[0m_can_hold_identifiers_and_holds_name\u001b[0m\u001b[0;34m(\u001b[0m\u001b[0mname\u001b[0m\u001b[0;34m)\u001b[0m\u001b[0;34m:\u001b[0m\u001b[0;34m\u001b[0m\u001b[0;34m\u001b[0m\u001b[0m\n\u001b[1;32m   5464\u001b[0m                 \u001b[0;32mreturn\u001b[0m \u001b[0mself\u001b[0m\u001b[0;34m[\u001b[0m\u001b[0mname\u001b[0m\u001b[0;34m]\u001b[0m\u001b[0;34m\u001b[0m\u001b[0;34m\u001b[0m\u001b[0m\n\u001b[0;32m-> 5465\u001b[0;31m             \u001b[0;32mreturn\u001b[0m \u001b[0mobject\u001b[0m\u001b[0;34m.\u001b[0m\u001b[0m__getattribute__\u001b[0m\u001b[0;34m(\u001b[0m\u001b[0mself\u001b[0m\u001b[0;34m,\u001b[0m \u001b[0mname\u001b[0m\u001b[0;34m)\u001b[0m\u001b[0;34m\u001b[0m\u001b[0;34m\u001b[0m\u001b[0m\n\u001b[0m\u001b[1;32m   5466\u001b[0m \u001b[0;34m\u001b[0m\u001b[0m\n\u001b[1;32m   5467\u001b[0m     \u001b[0;32mdef\u001b[0m \u001b[0m__setattr__\u001b[0m\u001b[0;34m(\u001b[0m\u001b[0mself\u001b[0m\u001b[0;34m,\u001b[0m \u001b[0mname\u001b[0m\u001b[0;34m:\u001b[0m \u001b[0mstr\u001b[0m\u001b[0;34m,\u001b[0m \u001b[0mvalue\u001b[0m\u001b[0;34m)\u001b[0m \u001b[0;34m->\u001b[0m \u001b[0;32mNone\u001b[0m\u001b[0;34m:\u001b[0m\u001b[0;34m\u001b[0m\u001b[0;34m\u001b[0m\u001b[0m\n",
      "\u001b[0;31mAttributeError\u001b[0m: 'DataFrame' object has no attribute 'cluster'"
     ]
    }
   ],
   "source": [
    "grouped.loc[grouped.cluster == 1].sort_values(ascending=False, by=\"Peso\").head(10)"
   ]
  },
  {
   "cell_type": "code",
   "execution_count": 124,
   "metadata": {},
   "outputs": [
    {
     "data": {
      "text/plain": [
       "1048      ff6cb24d5efcee61c0da71e05ed15fa11a7d14be\n",
       "1921      b28e71eac7d30fc1bde0d5a063a64f40008e3548\n",
       "1922      b28e71eac7d30fc1bde0d5a063a64f40008e3548\n",
       "1923      b28e71eac7d30fc1bde0d5a063a64f40008e3548\n",
       "1924      b28e71eac7d30fc1bde0d5a063a64f40008e3548\n",
       "                            ...                   \n",
       "466233    c3ecb61c240746bb41c0ffd5b87ec40c0dc26387\n",
       "469167    9629b828e7b7785c71ec9ff68124586401af981b\n",
       "469168    9629b828e7b7785c71ec9ff68124586401af981b\n",
       "469169    9629b828e7b7785c71ec9ff68124586401af981b\n",
       "490261    20b2369b3c1b95d09e13f1e0cba2e1358ac75427\n",
       "Name: IDUsuario, Length: 100, dtype: object"
      ]
     },
     "execution_count": 124,
     "metadata": {},
     "output_type": "execute_result"
    }
   ],
   "source": [
    "df.loc[df.Signatura == \"749\"].IDUsuario"
   ]
  },
  {
   "cell_type": "code",
   "execution_count": 69,
   "metadata": {
    "colab": {
     "base_uri": "https://localhost:8080/",
     "height": 142
    },
    "executionInfo": {
     "elapsed": 156,
     "status": "ok",
     "timestamp": 1633070040963,
     "user": {
      "displayName": "juan sebastian angarita torres",
      "photoUrl": "https://lh3.googleusercontent.com/a-/AOh14GgjiV1o_Xb2Ov2kAJhpXcHsgVLy47m-BxyXrYYMfw=s64",
      "userId": "11476954540008106843"
     },
     "user_tz": 300
    },
    "id": "tolyG2u4yq7j",
    "outputId": "b03c0583-30ee-46c9-ab10-c1713d1b7bd5"
   },
   "outputs": [
    {
     "data": {
      "text/html": [
       "<div>\n",
       "<style scoped>\n",
       "    .dataframe tbody tr th:only-of-type {\n",
       "        vertical-align: middle;\n",
       "    }\n",
       "\n",
       "    .dataframe tbody tr th {\n",
       "        vertical-align: top;\n",
       "    }\n",
       "\n",
       "    .dataframe thead th {\n",
       "        text-align: right;\n",
       "    }\n",
       "</style>\n",
       "<table border=\"1\" class=\"dataframe\">\n",
       "  <thead>\n",
       "    <tr style=\"text-align: right;\">\n",
       "      <th></th>\n",
       "      <th>IDUsuario</th>\n",
       "      <th>Peso</th>\n",
       "      <th>cluster</th>\n",
       "    </tr>\n",
       "  </thead>\n",
       "  <tbody>\n",
       "    <tr>\n",
       "      <th>0</th>\n",
       "      <td>00063d52cf68c65d2a569e95c40345c4a305ccc7</td>\n",
       "      <td>0.5</td>\n",
       "      <td>26</td>\n",
       "    </tr>\n",
       "    <tr>\n",
       "      <th>1</th>\n",
       "      <td>0006b3bdabeaa5389b211c8487bd67d339c97ef7</td>\n",
       "      <td>0.5</td>\n",
       "      <td>152</td>\n",
       "    </tr>\n",
       "    <tr>\n",
       "      <th>2</th>\n",
       "      <td>000a0630c32a437052696f6921e3181f155291d0</td>\n",
       "      <td>0.5</td>\n",
       "      <td>152</td>\n",
       "    </tr>\n",
       "  </tbody>\n",
       "</table>\n",
       "</div>"
      ],
      "text/plain": [
       "                                  IDUsuario  Peso  cluster\n",
       "0  00063d52cf68c65d2a569e95c40345c4a305ccc7   0.5       26\n",
       "1  0006b3bdabeaa5389b211c8487bd67d339c97ef7   0.5      152\n",
       "2  000a0630c32a437052696f6921e3181f155291d0   0.5      152"
      ]
     },
     "execution_count": 69,
     "metadata": {},
     "output_type": "execute_result"
    }
   ],
   "source": [
    "grouped.head(3)"
   ]
  },
  {
   "cell_type": "markdown",
   "metadata": {
    "id": "e8NbOQK_mhJB"
   },
   "source": [
    "Pegamos la información del cluster a cada uno de los prestamos de los usuarios.(temas_usuarios_cluster)"
   ]
  },
  {
   "cell_type": "code",
   "execution_count": 70,
   "metadata": {
    "colab": {
     "base_uri": "https://localhost:8080/",
     "height": 1000
    },
    "executionInfo": {
     "elapsed": 1641,
     "status": "ok",
     "timestamp": 1633070085392,
     "user": {
      "displayName": "juan sebastian angarita torres",
      "photoUrl": "https://lh3.googleusercontent.com/a-/AOh14GgjiV1o_Xb2Ov2kAJhpXcHsgVLy47m-BxyXrYYMfw=s64",
      "userId": "11476954540008106843"
     },
     "user_tz": 300
    },
    "id": "ukLzwbkXlKt8",
    "outputId": "78d6ffa1-e280-47ed-b761-3c64a87e41bd"
   },
   "outputs": [
    {
     "data": {
      "text/html": [
       "<div>\n",
       "<style scoped>\n",
       "    .dataframe tbody tr th:only-of-type {\n",
       "        vertical-align: middle;\n",
       "    }\n",
       "\n",
       "    .dataframe tbody tr th {\n",
       "        vertical-align: top;\n",
       "    }\n",
       "\n",
       "    .dataframe thead th {\n",
       "        text-align: right;\n",
       "    }\n",
       "</style>\n",
       "<table border=\"1\" class=\"dataframe\">\n",
       "  <thead>\n",
       "    <tr style=\"text-align: right;\">\n",
       "      <th></th>\n",
       "      <th>RowID</th>\n",
       "      <th>Fecha</th>\n",
       "      <th>IDItem</th>\n",
       "      <th>NumeroUbicacion</th>\n",
       "      <th>Dewey</th>\n",
       "      <th>Ubicacion</th>\n",
       "      <th>Llave</th>\n",
       "      <th>Programa</th>\n",
       "      <th>Facultad</th>\n",
       "      <th>IDUsuario</th>\n",
       "      <th>...</th>\n",
       "      <th>Autor</th>\n",
       "      <th>Titulo</th>\n",
       "      <th>AnioPublicacion</th>\n",
       "      <th>DeweyEspecifico</th>\n",
       "      <th>TemaDewey</th>\n",
       "      <th>Temas</th>\n",
       "      <th>Union</th>\n",
       "      <th>Peso_x</th>\n",
       "      <th>Peso_y</th>\n",
       "      <th>cluster</th>\n",
       "    </tr>\n",
       "  </thead>\n",
       "  <tbody>\n",
       "    <tr>\n",
       "      <th>0</th>\n",
       "      <td>Row0</td>\n",
       "      <td>1547050497000</td>\n",
       "      <td>80000005327627</td>\n",
       "      <td>720.98 A71S</td>\n",
       "      <td>720</td>\n",
       "      <td>COL-GRAL-2</td>\n",
       "      <td>866245</td>\n",
       "      <td>CARRERA DE ARQUITECTURA</td>\n",
       "      <td>arquitectura y diseño</td>\n",
       "      <td>c361c772cd0220bb16dcfb2ad803e4903334ab94</td>\n",
       "      <td>...</td>\n",
       "      <td>Arango Cardinal, Silvia 1948-</td>\n",
       "      <td>Ciudad y arquitectura seis generaciones que co...</td>\n",
       "      <td>2012.0</td>\n",
       "      <td>720.98</td>\n",
       "      <td>Arquitectura latinoamericana</td>\n",
       "      <td>[arquitectur, histori, amer, latin]</td>\n",
       "      <td>arquitectur histori amer latin</td>\n",
       "      <td>0.25</td>\n",
       "      <td>5.25</td>\n",
       "      <td>3</td>\n",
       "    </tr>\n",
       "    <tr>\n",
       "      <th>1</th>\n",
       "      <td>Row1</td>\n",
       "      <td>1547050500000</td>\n",
       "      <td>80000001191496</td>\n",
       "      <td>720.9861 A71</td>\n",
       "      <td>720</td>\n",
       "      <td>COL-GRAL-2</td>\n",
       "      <td>309945</td>\n",
       "      <td>CARRERA DE ARQUITECTURA</td>\n",
       "      <td>arquitectura y diseño</td>\n",
       "      <td>c361c772cd0220bb16dcfb2ad803e4903334ab94</td>\n",
       "      <td>...</td>\n",
       "      <td>Arango Cardinal, Silvia 1948-</td>\n",
       "      <td>Historia de la arquitectura en Colombia Silvia...</td>\n",
       "      <td>1993.0</td>\n",
       "      <td>720.9861</td>\n",
       "      <td>Arquitectura colombiana</td>\n",
       "      <td>[arquitectur, colonial, histori, colombi]</td>\n",
       "      <td>arquitectur colonial histori colombi</td>\n",
       "      <td>0.25</td>\n",
       "      <td>5.25</td>\n",
       "      <td>3</td>\n",
       "    </tr>\n",
       "    <tr>\n",
       "      <th>2</th>\n",
       "      <td>Row2</td>\n",
       "      <td>1547138763000</td>\n",
       "      <td>80000004979759</td>\n",
       "      <td>540 CH15Q 2010</td>\n",
       "      <td>540</td>\n",
       "      <td>COL-GRAL-3</td>\n",
       "      <td>822727</td>\n",
       "      <td>CARRERA DE ARQUITECTURA</td>\n",
       "      <td>arquitectura y diseño</td>\n",
       "      <td>87b0e5a61ed712ddfaf5d478ad68c87c825997e9</td>\n",
       "      <td>...</td>\n",
       "      <td>Chang, Raymond</td>\n",
       "      <td>Química Raymond Chang ; revisión técnica Rosa ...</td>\n",
       "      <td>2010.0</td>\n",
       "      <td>540</td>\n",
       "      <td>Química</td>\n",
       "      <td>[quimic]</td>\n",
       "      <td>quimic</td>\n",
       "      <td>0.25</td>\n",
       "      <td>5.50</td>\n",
       "      <td>37</td>\n",
       "    </tr>\n",
       "  </tbody>\n",
       "</table>\n",
       "<p>3 rows × 23 columns</p>\n",
       "</div>"
      ],
      "text/plain": [
       "  RowID          Fecha          IDItem NumeroUbicacion Dewey   Ubicacion  \\\n",
       "0  Row0  1547050497000  80000005327627     720.98 A71S   720  COL-GRAL-2   \n",
       "1  Row1  1547050500000  80000001191496    720.9861 A71   720  COL-GRAL-2   \n",
       "2  Row2  1547138763000  80000004979759  540 CH15Q 2010   540  COL-GRAL-3   \n",
       "\n",
       "    Llave                 Programa               Facultad  \\\n",
       "0  866245  CARRERA DE ARQUITECTURA  arquitectura y diseño   \n",
       "1  309945  CARRERA DE ARQUITECTURA  arquitectura y diseño   \n",
       "2  822727  CARRERA DE ARQUITECTURA  arquitectura y diseño   \n",
       "\n",
       "                                  IDUsuario  ...  \\\n",
       "0  c361c772cd0220bb16dcfb2ad803e4903334ab94  ...   \n",
       "1  c361c772cd0220bb16dcfb2ad803e4903334ab94  ...   \n",
       "2  87b0e5a61ed712ddfaf5d478ad68c87c825997e9  ...   \n",
       "\n",
       "                           Autor  \\\n",
       "0  Arango Cardinal, Silvia 1948-   \n",
       "1  Arango Cardinal, Silvia 1948-   \n",
       "2                 Chang, Raymond   \n",
       "\n",
       "                                              Titulo AnioPublicacion  \\\n",
       "0  Ciudad y arquitectura seis generaciones que co...          2012.0   \n",
       "1  Historia de la arquitectura en Colombia Silvia...          1993.0   \n",
       "2  Química Raymond Chang ; revisión técnica Rosa ...          2010.0   \n",
       "\n",
       "  DeweyEspecifico                     TemaDewey  \\\n",
       "0          720.98  Arquitectura latinoamericana   \n",
       "1        720.9861       Arquitectura colombiana   \n",
       "2             540                       Química   \n",
       "\n",
       "                                       Temas  \\\n",
       "0        [arquitectur, histori, amer, latin]   \n",
       "1  [arquitectur, colonial, histori, colombi]   \n",
       "2                                   [quimic]   \n",
       "\n",
       "                                  Union Peso_x Peso_y cluster  \n",
       "0        arquitectur histori amer latin   0.25   5.25       3  \n",
       "1  arquitectur colonial histori colombi   0.25   5.25       3  \n",
       "2                                quimic   0.25   5.50      37  \n",
       "\n",
       "[3 rows x 23 columns]"
      ]
     },
     "execution_count": 70,
     "metadata": {},
     "output_type": "execute_result"
    }
   ],
   "source": [
    "material_data = pd.DataFrame(data=df)\n",
    "cluster_data = pd.DataFrame(data=grouped)\n",
    "temas_usuarios_cluster = pd.merge(material_data, cluster_data, left_on='IDUsuario', right_on='IDUsuario', how='left')\n",
    "temas_usuarios_cluster.head(3)"
   ]
  },
  {
   "cell_type": "markdown",
   "metadata": {
    "id": "GQdXl6TcnEBW"
   },
   "source": [
    "Crearemos un tercer dataframe el cual contega únicamente la información de cada cluster(sus centroides). "
   ]
  },
  {
   "cell_type": "code",
   "execution_count": 71,
   "metadata": {
    "colab": {
     "base_uri": "https://localhost:8080/",
     "height": 588
    },
    "executionInfo": {
     "elapsed": 414,
     "status": "ok",
     "timestamp": 1632869725216,
     "user": {
      "displayName": "juan sebastian angarita torres",
      "photoUrl": "https://lh3.googleusercontent.com/a-/AOh14GgjiV1o_Xb2Ov2kAJhpXcHsgVLy47m-BxyXrYYMfw=s64",
      "userId": "11476954540008106843"
     },
     "user_tz": 300
    },
    "id": "7arBCYulnS3f",
    "outputId": "63ecc049-9490-474b-afe1-06b1a6f0fb6e",
    "scrolled": true
   },
   "outputs": [],
   "source": [
    "centroids = pd.DataFrame(data = k_means.cluster_centers_)"
   ]
  },
  {
   "cell_type": "code",
   "execution_count": 72,
   "metadata": {
    "id": "lVKIGT3KnDvj"
   },
   "outputs": [
    {
     "data": {
      "text/html": [
       "<div>\n",
       "<style scoped>\n",
       "    .dataframe tbody tr th:only-of-type {\n",
       "        vertical-align: middle;\n",
       "    }\n",
       "\n",
       "    .dataframe tbody tr th {\n",
       "        vertical-align: top;\n",
       "    }\n",
       "\n",
       "    .dataframe thead th {\n",
       "        text-align: right;\n",
       "    }\n",
       "</style>\n",
       "<table border=\"1\" class=\"dataframe\">\n",
       "  <thead>\n",
       "    <tr style=\"text-align: right;\">\n",
       "      <th></th>\n",
       "      <th>720</th>\n",
       "      <th>540</th>\n",
       "      <th>512</th>\n",
       "      <th>712</th>\n",
       "      <th>741</th>\n",
       "      <th>814</th>\n",
       "      <th>823</th>\n",
       "      <th>330</th>\n",
       "      <th>863</th>\n",
       "      <th>696</th>\n",
       "      <th>...</th>\n",
       "      <th>267</th>\n",
       "      <th>114</th>\n",
       "      <th>034</th>\n",
       "      <th>673</th>\n",
       "      <th>447</th>\n",
       "      <th>600</th>\n",
       "      <th>653</th>\n",
       "      <th>263</th>\n",
       "      <th>091</th>\n",
       "      <th>586</th>\n",
       "    </tr>\n",
       "  </thead>\n",
       "  <tbody>\n",
       "    <tr>\n",
       "      <th>0</th>\n",
       "      <td>2.035799e-03</td>\n",
       "      <td>7.155497e-04</td>\n",
       "      <td>1.570531e-03</td>\n",
       "      <td>7.379286e-04</td>\n",
       "      <td>2.920040e-03</td>\n",
       "      <td>2.475238e-04</td>\n",
       "      <td>0.004656</td>\n",
       "      <td>9.844200e-03</td>\n",
       "      <td>0.014945</td>\n",
       "      <td>-7.589415e-19</td>\n",
       "      <td>...</td>\n",
       "      <td>-2.710505e-20</td>\n",
       "      <td>-2.032879e-20</td>\n",
       "      <td>0.000000e+00</td>\n",
       "      <td>-2.710505e-20</td>\n",
       "      <td>-4.065758e-20</td>\n",
       "      <td>-2.710505e-20</td>\n",
       "      <td>-2.710505e-20</td>\n",
       "      <td>-2.710505e-20</td>\n",
       "      <td>-2.710505e-20</td>\n",
       "      <td>-2.710505e-20</td>\n",
       "    </tr>\n",
       "    <tr>\n",
       "      <th>1</th>\n",
       "      <td>1.582028e-04</td>\n",
       "      <td>-1.951564e-18</td>\n",
       "      <td>-9.974660e-18</td>\n",
       "      <td>-6.505213e-19</td>\n",
       "      <td>1.240860e-04</td>\n",
       "      <td>-1.301043e-18</td>\n",
       "      <td>0.000221</td>\n",
       "      <td>9.889029e-04</td>\n",
       "      <td>0.000079</td>\n",
       "      <td>-3.252607e-19</td>\n",
       "      <td>...</td>\n",
       "      <td>-2.710505e-20</td>\n",
       "      <td>-2.710505e-20</td>\n",
       "      <td>4.065758e-20</td>\n",
       "      <td>-2.710505e-20</td>\n",
       "      <td>-3.388132e-20</td>\n",
       "      <td>-2.710505e-20</td>\n",
       "      <td>-2.710505e-20</td>\n",
       "      <td>-2.710505e-20</td>\n",
       "      <td>-2.710505e-20</td>\n",
       "      <td>-2.710505e-20</td>\n",
       "    </tr>\n",
       "    <tr>\n",
       "      <th>2</th>\n",
       "      <td>5.204170e-18</td>\n",
       "      <td>2.416667e-03</td>\n",
       "      <td>9.090909e-04</td>\n",
       "      <td>-6.505213e-19</td>\n",
       "      <td>-8.673617e-18</td>\n",
       "      <td>-2.168404e-19</td>\n",
       "      <td>0.000227</td>\n",
       "      <td>-6.938894e-18</td>\n",
       "      <td>0.001000</td>\n",
       "      <td>-2.168404e-19</td>\n",
       "      <td>...</td>\n",
       "      <td>-2.710505e-20</td>\n",
       "      <td>-1.355253e-20</td>\n",
       "      <td>0.000000e+00</td>\n",
       "      <td>-2.710505e-20</td>\n",
       "      <td>-3.388132e-20</td>\n",
       "      <td>-2.710505e-20</td>\n",
       "      <td>-2.710505e-20</td>\n",
       "      <td>-2.710505e-20</td>\n",
       "      <td>-2.710505e-20</td>\n",
       "      <td>-2.710505e-20</td>\n",
       "    </tr>\n",
       "    <tr>\n",
       "      <th>3</th>\n",
       "      <td>6.938894e-18</td>\n",
       "      <td>3.443526e-04</td>\n",
       "      <td>2.705628e-04</td>\n",
       "      <td>-6.505213e-19</td>\n",
       "      <td>-8.673617e-18</td>\n",
       "      <td>-2.168404e-19</td>\n",
       "      <td>0.002177</td>\n",
       "      <td>6.149154e-04</td>\n",
       "      <td>0.940848</td>\n",
       "      <td>-3.252607e-19</td>\n",
       "      <td>...</td>\n",
       "      <td>-2.710505e-20</td>\n",
       "      <td>-6.776264e-21</td>\n",
       "      <td>-2.710505e-20</td>\n",
       "      <td>-2.710505e-20</td>\n",
       "      <td>-3.388132e-20</td>\n",
       "      <td>-2.710505e-20</td>\n",
       "      <td>-2.710505e-20</td>\n",
       "      <td>-2.710505e-20</td>\n",
       "      <td>-2.710505e-20</td>\n",
       "      <td>-2.710505e-20</td>\n",
       "    </tr>\n",
       "    <tr>\n",
       "      <th>4</th>\n",
       "      <td>7.288630e-04</td>\n",
       "      <td>1.084202e-18</td>\n",
       "      <td>-2.602085e-18</td>\n",
       "      <td>-4.336809e-19</td>\n",
       "      <td>8.503401e-04</td>\n",
       "      <td>2.125850e-03</td>\n",
       "      <td>0.025095</td>\n",
       "      <td>3.093369e-03</td>\n",
       "      <td>0.009198</td>\n",
       "      <td>4.336809e-19</td>\n",
       "      <td>...</td>\n",
       "      <td>4.065758e-20</td>\n",
       "      <td>1.355253e-20</td>\n",
       "      <td>-5.421011e-20</td>\n",
       "      <td>4.065758e-20</td>\n",
       "      <td>2.032879e-20</td>\n",
       "      <td>4.065758e-20</td>\n",
       "      <td>4.065758e-20</td>\n",
       "      <td>4.065758e-20</td>\n",
       "      <td>4.065758e-20</td>\n",
       "      <td>4.065758e-20</td>\n",
       "    </tr>\n",
       "    <tr>\n",
       "      <th>...</th>\n",
       "      <td>...</td>\n",
       "      <td>...</td>\n",
       "      <td>...</td>\n",
       "      <td>...</td>\n",
       "      <td>...</td>\n",
       "      <td>...</td>\n",
       "      <td>...</td>\n",
       "      <td>...</td>\n",
       "      <td>...</td>\n",
       "      <td>...</td>\n",
       "      <td>...</td>\n",
       "      <td>...</td>\n",
       "      <td>...</td>\n",
       "      <td>...</td>\n",
       "      <td>...</td>\n",
       "      <td>...</td>\n",
       "      <td>...</td>\n",
       "      <td>...</td>\n",
       "      <td>...</td>\n",
       "      <td>...</td>\n",
       "      <td>...</td>\n",
       "    </tr>\n",
       "    <tr>\n",
       "      <th>155</th>\n",
       "      <td>0.000000e+00</td>\n",
       "      <td>-2.168404e-19</td>\n",
       "      <td>5.002319e-03</td>\n",
       "      <td>-2.168404e-19</td>\n",
       "      <td>-1.734723e-18</td>\n",
       "      <td>0.000000e+00</td>\n",
       "      <td>0.002849</td>\n",
       "      <td>0.000000e+00</td>\n",
       "      <td>0.000785</td>\n",
       "      <td>0.000000e+00</td>\n",
       "      <td>...</td>\n",
       "      <td>0.000000e+00</td>\n",
       "      <td>-6.776264e-21</td>\n",
       "      <td>1.355253e-20</td>\n",
       "      <td>0.000000e+00</td>\n",
       "      <td>-6.776264e-21</td>\n",
       "      <td>0.000000e+00</td>\n",
       "      <td>0.000000e+00</td>\n",
       "      <td>0.000000e+00</td>\n",
       "      <td>0.000000e+00</td>\n",
       "      <td>0.000000e+00</td>\n",
       "    </tr>\n",
       "    <tr>\n",
       "      <th>156</th>\n",
       "      <td>1.560002e-04</td>\n",
       "      <td>3.092146e-03</td>\n",
       "      <td>8.673617e-19</td>\n",
       "      <td>-6.505213e-19</td>\n",
       "      <td>1.443001e-03</td>\n",
       "      <td>1.633587e-04</td>\n",
       "      <td>0.003247</td>\n",
       "      <td>-3.469447e-18</td>\n",
       "      <td>0.009502</td>\n",
       "      <td>-1.084202e-19</td>\n",
       "      <td>...</td>\n",
       "      <td>-1.355253e-20</td>\n",
       "      <td>-6.776264e-21</td>\n",
       "      <td>1.355253e-20</td>\n",
       "      <td>-1.355253e-20</td>\n",
       "      <td>-2.032879e-20</td>\n",
       "      <td>-1.355253e-20</td>\n",
       "      <td>-1.355253e-20</td>\n",
       "      <td>-1.355253e-20</td>\n",
       "      <td>-1.355253e-20</td>\n",
       "      <td>-1.355253e-20</td>\n",
       "    </tr>\n",
       "    <tr>\n",
       "      <th>157</th>\n",
       "      <td>1.600000e-02</td>\n",
       "      <td>-2.168404e-19</td>\n",
       "      <td>0.000000e+00</td>\n",
       "      <td>0.000000e+00</td>\n",
       "      <td>-1.734723e-18</td>\n",
       "      <td>2.168404e-19</td>\n",
       "      <td>0.000000</td>\n",
       "      <td>-3.469447e-18</td>\n",
       "      <td>0.000000</td>\n",
       "      <td>1.084202e-19</td>\n",
       "      <td>...</td>\n",
       "      <td>0.000000e+00</td>\n",
       "      <td>-1.355253e-20</td>\n",
       "      <td>1.355253e-20</td>\n",
       "      <td>0.000000e+00</td>\n",
       "      <td>-6.776264e-21</td>\n",
       "      <td>0.000000e+00</td>\n",
       "      <td>0.000000e+00</td>\n",
       "      <td>0.000000e+00</td>\n",
       "      <td>0.000000e+00</td>\n",
       "      <td>0.000000e+00</td>\n",
       "    </tr>\n",
       "    <tr>\n",
       "      <th>158</th>\n",
       "      <td>2.012882e-04</td>\n",
       "      <td>2.436647e-04</td>\n",
       "      <td>9.025472e-03</td>\n",
       "      <td>-4.336809e-19</td>\n",
       "      <td>2.974549e-03</td>\n",
       "      <td>1.361656e-04</td>\n",
       "      <td>0.004667</td>\n",
       "      <td>5.609247e-03</td>\n",
       "      <td>0.017301</td>\n",
       "      <td>0.000000e+00</td>\n",
       "      <td>...</td>\n",
       "      <td>0.000000e+00</td>\n",
       "      <td>2.032879e-20</td>\n",
       "      <td>-2.710505e-20</td>\n",
       "      <td>0.000000e+00</td>\n",
       "      <td>-6.776264e-21</td>\n",
       "      <td>0.000000e+00</td>\n",
       "      <td>0.000000e+00</td>\n",
       "      <td>0.000000e+00</td>\n",
       "      <td>0.000000e+00</td>\n",
       "      <td>0.000000e+00</td>\n",
       "    </tr>\n",
       "    <tr>\n",
       "      <th>159</th>\n",
       "      <td>0.000000e+00</td>\n",
       "      <td>2.168404e-19</td>\n",
       "      <td>4.336809e-19</td>\n",
       "      <td>-6.505213e-19</td>\n",
       "      <td>-5.204170e-18</td>\n",
       "      <td>2.168404e-19</td>\n",
       "      <td>0.000000</td>\n",
       "      <td>1.483680e-04</td>\n",
       "      <td>0.003125</td>\n",
       "      <td>0.000000e+00</td>\n",
       "      <td>...</td>\n",
       "      <td>-6.776264e-21</td>\n",
       "      <td>-1.355253e-20</td>\n",
       "      <td>1.355253e-20</td>\n",
       "      <td>-6.776264e-21</td>\n",
       "      <td>-1.355253e-20</td>\n",
       "      <td>-6.776264e-21</td>\n",
       "      <td>-6.776264e-21</td>\n",
       "      <td>-6.776264e-21</td>\n",
       "      <td>-6.776264e-21</td>\n",
       "      <td>-6.776264e-21</td>\n",
       "    </tr>\n",
       "  </tbody>\n",
       "</table>\n",
       "<p>160 rows × 756 columns</p>\n",
       "</div>"
      ],
      "text/plain": [
       "              720           540           512           712           741  \\\n",
       "0    2.035799e-03  7.155497e-04  1.570531e-03  7.379286e-04  2.920040e-03   \n",
       "1    1.582028e-04 -1.951564e-18 -9.974660e-18 -6.505213e-19  1.240860e-04   \n",
       "2    5.204170e-18  2.416667e-03  9.090909e-04 -6.505213e-19 -8.673617e-18   \n",
       "3    6.938894e-18  3.443526e-04  2.705628e-04 -6.505213e-19 -8.673617e-18   \n",
       "4    7.288630e-04  1.084202e-18 -2.602085e-18 -4.336809e-19  8.503401e-04   \n",
       "..            ...           ...           ...           ...           ...   \n",
       "155  0.000000e+00 -2.168404e-19  5.002319e-03 -2.168404e-19 -1.734723e-18   \n",
       "156  1.560002e-04  3.092146e-03  8.673617e-19 -6.505213e-19  1.443001e-03   \n",
       "157  1.600000e-02 -2.168404e-19  0.000000e+00  0.000000e+00 -1.734723e-18   \n",
       "158  2.012882e-04  2.436647e-04  9.025472e-03 -4.336809e-19  2.974549e-03   \n",
       "159  0.000000e+00  2.168404e-19  4.336809e-19 -6.505213e-19 -5.204170e-18   \n",
       "\n",
       "              814       823           330       863           696  ...  \\\n",
       "0    2.475238e-04  0.004656  9.844200e-03  0.014945 -7.589415e-19  ...   \n",
       "1   -1.301043e-18  0.000221  9.889029e-04  0.000079 -3.252607e-19  ...   \n",
       "2   -2.168404e-19  0.000227 -6.938894e-18  0.001000 -2.168404e-19  ...   \n",
       "3   -2.168404e-19  0.002177  6.149154e-04  0.940848 -3.252607e-19  ...   \n",
       "4    2.125850e-03  0.025095  3.093369e-03  0.009198  4.336809e-19  ...   \n",
       "..            ...       ...           ...       ...           ...  ...   \n",
       "155  0.000000e+00  0.002849  0.000000e+00  0.000785  0.000000e+00  ...   \n",
       "156  1.633587e-04  0.003247 -3.469447e-18  0.009502 -1.084202e-19  ...   \n",
       "157  2.168404e-19  0.000000 -3.469447e-18  0.000000  1.084202e-19  ...   \n",
       "158  1.361656e-04  0.004667  5.609247e-03  0.017301  0.000000e+00  ...   \n",
       "159  2.168404e-19  0.000000  1.483680e-04  0.003125  0.000000e+00  ...   \n",
       "\n",
       "              267           114           034           673           447  \\\n",
       "0   -2.710505e-20 -2.032879e-20  0.000000e+00 -2.710505e-20 -4.065758e-20   \n",
       "1   -2.710505e-20 -2.710505e-20  4.065758e-20 -2.710505e-20 -3.388132e-20   \n",
       "2   -2.710505e-20 -1.355253e-20  0.000000e+00 -2.710505e-20 -3.388132e-20   \n",
       "3   -2.710505e-20 -6.776264e-21 -2.710505e-20 -2.710505e-20 -3.388132e-20   \n",
       "4    4.065758e-20  1.355253e-20 -5.421011e-20  4.065758e-20  2.032879e-20   \n",
       "..            ...           ...           ...           ...           ...   \n",
       "155  0.000000e+00 -6.776264e-21  1.355253e-20  0.000000e+00 -6.776264e-21   \n",
       "156 -1.355253e-20 -6.776264e-21  1.355253e-20 -1.355253e-20 -2.032879e-20   \n",
       "157  0.000000e+00 -1.355253e-20  1.355253e-20  0.000000e+00 -6.776264e-21   \n",
       "158  0.000000e+00  2.032879e-20 -2.710505e-20  0.000000e+00 -6.776264e-21   \n",
       "159 -6.776264e-21 -1.355253e-20  1.355253e-20 -6.776264e-21 -1.355253e-20   \n",
       "\n",
       "              600           653           263           091           586  \n",
       "0   -2.710505e-20 -2.710505e-20 -2.710505e-20 -2.710505e-20 -2.710505e-20  \n",
       "1   -2.710505e-20 -2.710505e-20 -2.710505e-20 -2.710505e-20 -2.710505e-20  \n",
       "2   -2.710505e-20 -2.710505e-20 -2.710505e-20 -2.710505e-20 -2.710505e-20  \n",
       "3   -2.710505e-20 -2.710505e-20 -2.710505e-20 -2.710505e-20 -2.710505e-20  \n",
       "4    4.065758e-20  4.065758e-20  4.065758e-20  4.065758e-20  4.065758e-20  \n",
       "..            ...           ...           ...           ...           ...  \n",
       "155  0.000000e+00  0.000000e+00  0.000000e+00  0.000000e+00  0.000000e+00  \n",
       "156 -1.355253e-20 -1.355253e-20 -1.355253e-20 -1.355253e-20 -1.355253e-20  \n",
       "157  0.000000e+00  0.000000e+00  0.000000e+00  0.000000e+00  0.000000e+00  \n",
       "158  0.000000e+00  0.000000e+00  0.000000e+00  0.000000e+00  0.000000e+00  \n",
       "159 -6.776264e-21 -6.776264e-21 -6.776264e-21 -6.776264e-21 -6.776264e-21  \n",
       "\n",
       "[160 rows x 756 columns]"
      ]
     },
     "execution_count": 72,
     "metadata": {},
     "output_type": "execute_result"
    }
   ],
   "source": [
    "centroids.columns = df[\"Signatura\"].unique()\n",
    "centroids"
   ]
  },
  {
   "cell_type": "code",
   "execution_count": 73,
   "metadata": {},
   "outputs": [],
   "source": [
    "centroids[centroids<1e-5] = 0"
   ]
  },
  {
   "cell_type": "markdown",
   "metadata": {
    "id": "UgFeX2R3mqvm"
   },
   "source": [
    "Finalmente exportamos las tablas para ser consumidas por los sistemas de recomedación junto al dashboard.\n",
    "* Grouped_temas = usuarios + cluster\n",
    "* temas_usuarios_cluster = joinTablas + cluster\n",
    "* Centroids_deweys = clusters + centroides"
   ]
  },
  {
   "cell_type": "code",
   "execution_count": 74,
   "metadata": {
    "executionInfo": {
     "elapsed": 153,
     "status": "ok",
     "timestamp": 1633070126479,
     "user": {
      "displayName": "juan sebastian angarita torres",
      "photoUrl": "https://lh3.googleusercontent.com/a-/AOh14GgjiV1o_Xb2Ov2kAJhpXcHsgVLy47m-BxyXrYYMfw=s64",
      "userId": "11476954540008106843"
     },
     "user_tz": 300
    },
    "id": "MWkXla0y39gU"
   },
   "outputs": [],
   "source": [
    "grouped.to_json(r'/Users/juansebastianangaritatorres/Downloads/userCluster.json')"
   ]
  },
  {
   "cell_type": "code",
   "execution_count": 75,
   "metadata": {
    "executionInfo": {
     "elapsed": 4088,
     "status": "ok",
     "timestamp": 1633070131417,
     "user": {
      "displayName": "juan sebastian angarita torres",
      "photoUrl": "https://lh3.googleusercontent.com/a-/AOh14GgjiV1o_Xb2Ov2kAJhpXcHsgVLy47m-BxyXrYYMfw=s64",
      "userId": "11476954540008106843"
     },
     "user_tz": 300
    },
    "id": "LT135J0qmRCf"
   },
   "outputs": [],
   "source": [
    "temas_usuarios_cluster.to_json(r'/Users/juansebastianangaritatorres/Downloads/joinCluster.json')"
   ]
  },
  {
   "cell_type": "code",
   "execution_count": 76,
   "metadata": {},
   "outputs": [],
   "source": [
    "centroids.to_json(r'/Users/juansebastianangaritatorres/Downloads/centroids.json')"
   ]
  }
 ],
 "metadata": {
  "colab": {
   "authorship_tag": "ABX9TyNztQHG0jj/gFoWIJAPHqpN",
   "collapsed_sections": [],
   "name": "Clustering deweys.ipynb",
   "provenance": []
  },
  "kernelspec": {
   "display_name": "Python 3",
   "language": "python",
   "name": "python3"
  },
  "language_info": {
   "codemirror_mode": {
    "name": "ipython",
    "version": 3
   },
   "file_extension": ".py",
   "mimetype": "text/x-python",
   "name": "python",
   "nbconvert_exporter": "python",
   "pygments_lexer": "ipython3",
   "version": "3.8.8"
  }
 },
 "nbformat": 4,
 "nbformat_minor": 1
}
