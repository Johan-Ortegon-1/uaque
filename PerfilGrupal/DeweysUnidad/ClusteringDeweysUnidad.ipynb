{
 "cells": [
  {
   "cell_type": "markdown",
   "metadata": {
    "id": "AFConYFt8c8I"
   },
   "source": [
    "# **Smart-UJ UAQUE**\n",
    "Este Notebook hace parte del servicio inteligente \"perfil grupal\" y tiene como objetivo la generación de clusters de usuarios a partir de el alquiler de ítems de la biblioteca Alfonso Borrero Cabal. Previamente se estrajeron los temas de cada ítem y en este notebook se generarán matrices dispersas que serán consumidad por el algoritmo de k-means para generar los clusters que posteriormente serán consumidos por los diferentes algoritmo de recomendación.\n",
    "\n",
    "**Entrada**: Tabla_join.json\n",
    "\n",
    "**Integrantes:**</br>\n",
    "Johan Ortegón </br>\n",
    "Juan Angarita </br>\n",
    "Jorge Salgado </br>\n",
    "Daniel Tibaquira </br></br>\n",
    "**Directora de Proyecto de Grado:** </br>\n",
    "Viky Arias </br>"
   ]
  },
  {
   "cell_type": "markdown",
   "metadata": {
    "id": "BI4KMpm69eJw"
   },
   "source": [
    "# Importación de datos"
   ]
  },
  {
   "cell_type": "code",
   "execution_count": 12,
   "metadata": {
    "colab": {
     "base_uri": "https://localhost:8080/"
    },
    "executionInfo": {
     "elapsed": 3,
     "status": "ok",
     "timestamp": 1633063590668,
     "user": {
      "displayName": "juan sebastian angarita torres",
      "photoUrl": "https://lh3.googleusercontent.com/a-/AOh14GgjiV1o_Xb2Ov2kAJhpXcHsgVLy47m-BxyXrYYMfw=s64",
      "userId": "11476954540008106843"
     },
     "user_tz": 300
    },
    "id": "z9CHYqkd068R",
    "outputId": "dad68bd0-daa7-43ba-c258-40c5b6ccc202"
   },
   "outputs": [
    {
     "name": "stdout",
     "output_type": "stream",
     "text": [
      "Drive already mounted at /content/drive; to attempt to forcibly remount, call drive.mount(\"/content/drive\", force_remount=True).\n"
     ]
    }
   ],
   "source": [
    "#from google.colab import drive\n",
    "#drive.mount('/content/drive')"
   ]
  },
  {
   "cell_type": "markdown",
   "metadata": {
    "id": "W3TpO1sAa_bN"
   },
   "source": [
    "Estas son las librerias que vamos a usar para hacer el join de ambas tablas y poder hacer las diferentes agrupaciones de estudiantes. \n",
    "\n",
    "* pandas(pd): Permite almacenar los datos en dataframes(matrices) y operación entre las celdas.\n",
    "* KMeans: librería de sklearn para realizar el algoritmo de agrupamiento Kmeans.\n",
    "* StandartScaler: Permite estandarizar los datos en una escala predeterminada.\n",
    "* silhoute_score: permite sacar la métrica de puntaje de silhoute para los algoritmos de clustering.\n",
    "* Normalizer: Permite normalizar los datos\n",
    "* PCA: principal component analisis permite la reducción de dimensionalidad de nuestros dataset, en busca de que los algoritmos se ejecuten a mayor velocidad."
   ]
  },
  {
   "cell_type": "code",
   "execution_count": 1,
   "metadata": {
    "executionInfo": {
     "elapsed": 2,
     "status": "ok",
     "timestamp": 1633063590669,
     "user": {
      "displayName": "juan sebastian angarita torres",
      "photoUrl": "https://lh3.googleusercontent.com/a-/AOh14GgjiV1o_Xb2Ov2kAJhpXcHsgVLy47m-BxyXrYYMfw=s64",
      "userId": "11476954540008106843"
     },
     "user_tz": 300
    },
    "id": "nrQmfmCQlOv7"
   },
   "outputs": [],
   "source": [
    "import pandas as pd\n",
    "import numpy as np\n",
    "from sklearn.cluster import KMeans\n",
    "from sklearn.preprocessing import StandardScaler\n",
    "from sklearn.metrics import silhouette_score\n",
    "from sklearn.preprocessing import MinMaxScaler\n",
    "from sklearn.preprocessing import Normalizer\n",
    "from sklearn.decomposition import PCA"
   ]
  },
  {
   "cell_type": "markdown",
   "metadata": {
    "id": "I0npqeca97fu"
   },
   "source": [
    "Importamos el archivo. Este proviene del join entre las tablas de material bibliográfico de la biblioteca y la información de prestamos de la biblioteca. "
   ]
  },
  {
   "cell_type": "code",
   "execution_count": 2,
   "metadata": {
    "executionInfo": {
     "elapsed": 14085,
     "status": "ok",
     "timestamp": 1633063606842,
     "user": {
      "displayName": "juan sebastian angarita torres",
      "photoUrl": "https://lh3.googleusercontent.com/a-/AOh14GgjiV1o_Xb2Ov2kAJhpXcHsgVLy47m-BxyXrYYMfw=s64",
      "userId": "11476954540008106843"
     },
     "user_tz": 300
    },
    "id": "dYbiqF7K8A6B"
   },
   "outputs": [],
   "source": [
    "df = pd.read_json('../../data/Join/JoinTablas.json')"
   ]
  },
  {
   "cell_type": "code",
   "execution_count": 3,
   "metadata": {
    "colab": {
     "base_uri": "https://localhost:8080/",
     "height": 366
    },
    "executionInfo": {
     "elapsed": 8,
     "status": "ok",
     "timestamp": 1633063606842,
     "user": {
      "displayName": "juan sebastian angarita torres",
      "photoUrl": "https://lh3.googleusercontent.com/a-/AOh14GgjiV1o_Xb2Ov2kAJhpXcHsgVLy47m-BxyXrYYMfw=s64",
      "userId": "11476954540008106843"
     },
     "user_tz": 300
    },
    "id": "ZSgp4hEi-DWT",
    "outputId": "37c66a54-1f4f-4b5a-9182-3c7143d349bf"
   },
   "outputs": [
    {
     "data": {
      "text/html": [
       "<div>\n",
       "<style scoped>\n",
       "    .dataframe tbody tr th:only-of-type {\n",
       "        vertical-align: middle;\n",
       "    }\n",
       "\n",
       "    .dataframe tbody tr th {\n",
       "        vertical-align: top;\n",
       "    }\n",
       "\n",
       "    .dataframe thead th {\n",
       "        text-align: right;\n",
       "    }\n",
       "</style>\n",
       "<table border=\"1\" class=\"dataframe\">\n",
       "  <thead>\n",
       "    <tr style=\"text-align: right;\">\n",
       "      <th></th>\n",
       "      <th>RowID</th>\n",
       "      <th>Fecha</th>\n",
       "      <th>IDItem</th>\n",
       "      <th>NumeroUbicacion</th>\n",
       "      <th>Dewey</th>\n",
       "      <th>Ubicacion</th>\n",
       "      <th>Llave</th>\n",
       "      <th>Programa</th>\n",
       "      <th>Facultad</th>\n",
       "      <th>IDUsuario</th>\n",
       "      <th>Year</th>\n",
       "      <th>Signatura</th>\n",
       "      <th>TipoItem</th>\n",
       "      <th>Autor</th>\n",
       "      <th>Titulo</th>\n",
       "      <th>AnioPublicacion</th>\n",
       "      <th>DeweyEspecifico</th>\n",
       "      <th>TemaDewey</th>\n",
       "      <th>Temas</th>\n",
       "      <th>Union</th>\n",
       "    </tr>\n",
       "  </thead>\n",
       "  <tbody>\n",
       "    <tr>\n",
       "      <th>0</th>\n",
       "      <td>Row0</td>\n",
       "      <td>1547050497000</td>\n",
       "      <td>80000005327627</td>\n",
       "      <td>720.98 A71S</td>\n",
       "      <td>720</td>\n",
       "      <td>COL-GRAL-2</td>\n",
       "      <td>866245</td>\n",
       "      <td>CARRERA DE ARQUITECTURA</td>\n",
       "      <td>arquitectura y diseño</td>\n",
       "      <td>c361c772cd0220bb16dcfb2ad803e4903334ab94</td>\n",
       "      <td>2019</td>\n",
       "      <td>720</td>\n",
       "      <td>LIBRO</td>\n",
       "      <td>Arango Cardinal, Silvia 1948-</td>\n",
       "      <td>Ciudad y arquitectura seis generaciones que co...</td>\n",
       "      <td>2012.0</td>\n",
       "      <td>720.98</td>\n",
       "      <td>Arquitectura latinoamericana</td>\n",
       "      <td>[arquitectur, histori, amer, latin]</td>\n",
       "      <td>arquitectur histori amer latin</td>\n",
       "    </tr>\n",
       "    <tr>\n",
       "      <th>1</th>\n",
       "      <td>Row1</td>\n",
       "      <td>1547050500000</td>\n",
       "      <td>80000001191496</td>\n",
       "      <td>720.9861 A71</td>\n",
       "      <td>720</td>\n",
       "      <td>COL-GRAL-2</td>\n",
       "      <td>309945</td>\n",
       "      <td>CARRERA DE ARQUITECTURA</td>\n",
       "      <td>arquitectura y diseño</td>\n",
       "      <td>c361c772cd0220bb16dcfb2ad803e4903334ab94</td>\n",
       "      <td>2019</td>\n",
       "      <td>720</td>\n",
       "      <td>LIBRO</td>\n",
       "      <td>Arango Cardinal, Silvia 1948-</td>\n",
       "      <td>Historia de la arquitectura en Colombia Silvia...</td>\n",
       "      <td>1993.0</td>\n",
       "      <td>720.9861</td>\n",
       "      <td>Arquitectura colombiana</td>\n",
       "      <td>[arquitectur, colonial, histori, colombi]</td>\n",
       "      <td>arquitectur colonial histori colombi</td>\n",
       "    </tr>\n",
       "    <tr>\n",
       "      <th>2</th>\n",
       "      <td>Row2</td>\n",
       "      <td>1547138763000</td>\n",
       "      <td>80000004979759</td>\n",
       "      <td>540 CH15Q 2010</td>\n",
       "      <td>540</td>\n",
       "      <td>COL-GRAL-3</td>\n",
       "      <td>822727</td>\n",
       "      <td>CARRERA DE ARQUITECTURA</td>\n",
       "      <td>arquitectura y diseño</td>\n",
       "      <td>87b0e5a61ed712ddfaf5d478ad68c87c825997e9</td>\n",
       "      <td>2019</td>\n",
       "      <td>540</td>\n",
       "      <td>LIBRO</td>\n",
       "      <td>Chang, Raymond</td>\n",
       "      <td>Química Raymond Chang ; revisión técnica Rosa ...</td>\n",
       "      <td>2010.0</td>\n",
       "      <td>540</td>\n",
       "      <td>Química</td>\n",
       "      <td>[quimic]</td>\n",
       "      <td>quimic</td>\n",
       "    </tr>\n",
       "  </tbody>\n",
       "</table>\n",
       "</div>"
      ],
      "text/plain": [
       "  RowID          Fecha          IDItem NumeroUbicacion Dewey   Ubicacion  \\\n",
       "0  Row0  1547050497000  80000005327627     720.98 A71S   720  COL-GRAL-2   \n",
       "1  Row1  1547050500000  80000001191496    720.9861 A71   720  COL-GRAL-2   \n",
       "2  Row2  1547138763000  80000004979759  540 CH15Q 2010   540  COL-GRAL-3   \n",
       "\n",
       "    Llave                 Programa               Facultad  \\\n",
       "0  866245  CARRERA DE ARQUITECTURA  arquitectura y diseño   \n",
       "1  309945  CARRERA DE ARQUITECTURA  arquitectura y diseño   \n",
       "2  822727  CARRERA DE ARQUITECTURA  arquitectura y diseño   \n",
       "\n",
       "                                  IDUsuario  Year Signatura TipoItem  \\\n",
       "0  c361c772cd0220bb16dcfb2ad803e4903334ab94  2019       720    LIBRO   \n",
       "1  c361c772cd0220bb16dcfb2ad803e4903334ab94  2019       720    LIBRO   \n",
       "2  87b0e5a61ed712ddfaf5d478ad68c87c825997e9  2019       540    LIBRO   \n",
       "\n",
       "                           Autor  \\\n",
       "0  Arango Cardinal, Silvia 1948-   \n",
       "1  Arango Cardinal, Silvia 1948-   \n",
       "2                 Chang, Raymond   \n",
       "\n",
       "                                              Titulo  AnioPublicacion  \\\n",
       "0  Ciudad y arquitectura seis generaciones que co...           2012.0   \n",
       "1  Historia de la arquitectura en Colombia Silvia...           1993.0   \n",
       "2  Química Raymond Chang ; revisión técnica Rosa ...           2010.0   \n",
       "\n",
       "  DeweyEspecifico                     TemaDewey  \\\n",
       "0          720.98  Arquitectura latinoamericana   \n",
       "1        720.9861       Arquitectura colombiana   \n",
       "2             540                       Química   \n",
       "\n",
       "                                       Temas  \\\n",
       "0        [arquitectur, histori, amer, latin]   \n",
       "1  [arquitectur, colonial, histori, colombi]   \n",
       "2                                   [quimic]   \n",
       "\n",
       "                                  Union  \n",
       "0        arquitectur histori amer latin  \n",
       "1  arquitectur colonial histori colombi  \n",
       "2                                quimic  "
      ]
     },
     "execution_count": 3,
     "metadata": {},
     "output_type": "execute_result"
    }
   ],
   "source": [
    "df.head(3)"
   ]
  },
  {
   "cell_type": "markdown",
   "metadata": {
    "id": "0Pa2sORf-xFk"
   },
   "source": [
    "Anotamos la estructura del archivo. "
   ]
  },
  {
   "cell_type": "code",
   "execution_count": 4,
   "metadata": {
    "colab": {
     "base_uri": "https://localhost:8080/"
    },
    "executionInfo": {
     "elapsed": 163,
     "status": "ok",
     "timestamp": 1633063559892,
     "user": {
      "displayName": "juan sebastian angarita torres",
      "photoUrl": "https://lh3.googleusercontent.com/a-/AOh14GgjiV1o_Xb2Ov2kAJhpXcHsgVLy47m-BxyXrYYMfw=s64",
      "userId": "11476954540008106843"
     },
     "user_tz": 300
    },
    "id": "-uxQOfDb-cVZ",
    "outputId": "e080e7b0-9b85-4096-b14e-e9beb48f5aae"
   },
   "outputs": [
    {
     "name": "stdout",
     "output_type": "stream",
     "text": [
      "Numero de filas: 489474\n",
      "Numero de columnas: 20\n"
     ]
    }
   ],
   "source": [
    "print(\"Numero de filas:\", df.shape[0])\n",
    "print(\"Numero de columnas:\", df.shape[1])"
   ]
  },
  {
   "cell_type": "markdown",
   "metadata": {
    "id": "baFBI-2q-zoD"
   },
   "source": [
    "El clustering para este experimento se realizará sobre el atributo \"Signatura\" el cual representa el dewey hasta la unidad (dando aproximadamente 900 deweys diferentes). Recordar la diferencia entre la columna \"Dewey\" y \"Signatura\". La primera es la que originalmente contiene el dataset de prestamos y solo venía con valores hasta la decena, mientras que \"Sginatura\" originalmente era una valor que señalaba el dewey especifico del libro y su ubicación al interior de la biblioteca. Se realizo una transformación para obtener únicamente el valor númerico de este valor y así obtener el dewey hasta la unidad(más especifico)."
   ]
  },
  {
   "cell_type": "code",
   "execution_count": 5,
   "metadata": {
    "colab": {
     "base_uri": "https://localhost:8080/"
    },
    "executionInfo": {
     "elapsed": 6,
     "status": "ok",
     "timestamp": 1633063606842,
     "user": {
      "displayName": "juan sebastian angarita torres",
      "photoUrl": "https://lh3.googleusercontent.com/a-/AOh14GgjiV1o_Xb2Ov2kAJhpXcHsgVLy47m-BxyXrYYMfw=s64",
      "userId": "11476954540008106843"
     },
     "user_tz": 300
    },
    "id": "DvXv_Fw0_ZvO",
    "outputId": "2833a682-a327-4a04-a86a-58294be43433"
   },
   "outputs": [
    {
     "name": "stdout",
     "output_type": "stream",
     "text": [
      "Numero de datos sin Dewey(Singatura): 0\n"
     ]
    }
   ],
   "source": [
    "eliminar = df.loc[df[\"Signatura\"].isnull()]\n",
    "print(\"Numero de datos sin Dewey(Singatura):\" , eliminar.shape[0])"
   ]
  },
  {
   "cell_type": "code",
   "execution_count": 6,
   "metadata": {
    "colab": {
     "base_uri": "https://localhost:8080/"
    },
    "executionInfo": {
     "elapsed": 248,
     "status": "ok",
     "timestamp": 1633063607087,
     "user": {
      "displayName": "juan sebastian angarita torres",
      "photoUrl": "https://lh3.googleusercontent.com/a-/AOh14GgjiV1o_Xb2Ov2kAJhpXcHsgVLy47m-BxyXrYYMfw=s64",
      "userId": "11476954540008106843"
     },
     "user_tz": 300
    },
    "id": "gMZrvUs6rSu2",
    "outputId": "1091a594-016c-467f-b024-4a6f874bbf71"
   },
   "outputs": [
    {
     "name": "stdout",
     "output_type": "stream",
     "text": [
      "Valores de signatura unicos:  756\n",
      "Valores de Dewey(decena) unicos:  99\n"
     ]
    }
   ],
   "source": [
    "print(\"Valores de signatura unicos: \" , len(df[\"Signatura\"].unique()))\n",
    "print(\"Valores de Dewey(decena) unicos: \" , len(df[\"Dewey\"].unique()))"
   ]
  },
  {
   "cell_type": "markdown",
   "metadata": {
    "id": "heUlJgBUsqPP"
   },
   "source": [
    "A partir del análisis con expertos en negocio, se ha entendido que es importante tomar en cuenta el cambio de gustos de los usuarios a través del tiempo y dar menos peso a prestamos que se realizaron en el pasado a prestamos más recientes. Para esto se creará una nueva columna denominada \"Peso\" la cual determinará el peso quue tiene dicho prestamo.\n",
    "La disminución del peso será exponencial según la diferencia con el año actual y se calculará con la siguiente formula:\n",
    "\n",
    "$Peso = \\frac{1}{2^{(2021-20xx)}}$\n"
   ]
  },
  {
   "cell_type": "code",
   "execution_count": 7,
   "metadata": {
    "executionInfo": {
     "elapsed": 6687,
     "status": "ok",
     "timestamp": 1633063825136,
     "user": {
      "displayName": "juan sebastian angarita torres",
      "photoUrl": "https://lh3.googleusercontent.com/a-/AOh14GgjiV1o_Xb2Ov2kAJhpXcHsgVLy47m-BxyXrYYMfw=s64",
      "userId": "11476954540008106843"
     },
     "user_tz": 300
    },
    "id": "DQDBxeZWL4LD"
   },
   "outputs": [],
   "source": [
    "df[\"Peso\"] = df.apply(lambda row: 1/2**(2021-row.Year), axis=1 )"
   ]
  },
  {
   "cell_type": "code",
   "execution_count": 8,
   "metadata": {
    "colab": {
     "base_uri": "https://localhost:8080/"
    },
    "executionInfo": {
     "elapsed": 163,
     "status": "ok",
     "timestamp": 1633064187106,
     "user": {
      "displayName": "juan sebastian angarita torres",
      "photoUrl": "https://lh3.googleusercontent.com/a-/AOh14GgjiV1o_Xb2Ov2kAJhpXcHsgVLy47m-BxyXrYYMfw=s64",
      "userId": "11476954540008106843"
     },
     "user_tz": 300
    },
    "id": "j0i4q-tANd6h",
    "outputId": "60a18ab4-f6c4-42b9-91ac-d3f2917a1e81"
   },
   "outputs": [
    {
     "data": {
      "text/plain": [
       "Index(['RowID', 'Fecha', 'IDItem', 'NumeroUbicacion', 'Dewey', 'Ubicacion',\n",
       "       'Llave', 'Programa', 'Facultad', 'IDUsuario', 'Year', 'Signatura',\n",
       "       'TipoItem', 'Autor', 'Titulo', 'AnioPublicacion', 'DeweyEspecifico',\n",
       "       'TemaDewey', 'Temas', 'Union', 'Peso'],\n",
       "      dtype='object')"
      ]
     },
     "execution_count": 8,
     "metadata": {},
     "output_type": "execute_result"
    }
   ],
   "source": [
    "df.columns"
   ]
  },
  {
   "cell_type": "markdown",
   "metadata": {
    "id": "Eq4EPqyHM3_a"
   },
   "source": [
    "Se creará una nueva tabla donde únicamente se van a tener en cuenta los deweys que le gustan a cada usuario así como los atributos para posteriormente realizar el clustering. "
   ]
  },
  {
   "cell_type": "code",
   "execution_count": 11,
   "metadata": {
    "colab": {
     "base_uri": "https://localhost:8080/",
     "height": 98
    },
    "executionInfo": {
     "elapsed": 1424821,
     "status": "ok",
     "timestamp": 1633068110738,
     "user": {
      "displayName": "juan sebastian angarita torres",
      "photoUrl": "https://lh3.googleusercontent.com/a-/AOh14GgjiV1o_Xb2Ov2kAJhpXcHsgVLy47m-BxyXrYYMfw=s64",
      "userId": "11476954540008106843"
     },
     "user_tz": 300
    },
    "id": "BKX3MoxuM3NC",
    "outputId": "b88929b8-532f-49ef-95f8-6809f4d3a784"
   },
   "outputs": [
    {
     "data": {
      "text/html": [
       "<div>\n",
       "<style scoped>\n",
       "    .dataframe tbody tr th:only-of-type {\n",
       "        vertical-align: middle;\n",
       "    }\n",
       "\n",
       "    .dataframe tbody tr th {\n",
       "        vertical-align: top;\n",
       "    }\n",
       "\n",
       "    .dataframe thead th {\n",
       "        text-align: right;\n",
       "    }\n",
       "</style>\n",
       "<table border=\"1\" class=\"dataframe\">\n",
       "  <thead>\n",
       "    <tr style=\"text-align: right;\">\n",
       "      <th></th>\n",
       "      <th>720</th>\n",
       "      <th>540</th>\n",
       "      <th>512</th>\n",
       "      <th>712</th>\n",
       "      <th>741</th>\n",
       "      <th>814</th>\n",
       "      <th>823</th>\n",
       "      <th>330</th>\n",
       "      <th>863</th>\n",
       "      <th>696</th>\n",
       "      <th>...</th>\n",
       "      <th>267</th>\n",
       "      <th>114</th>\n",
       "      <th>034</th>\n",
       "      <th>673</th>\n",
       "      <th>447</th>\n",
       "      <th>600</th>\n",
       "      <th>653</th>\n",
       "      <th>263</th>\n",
       "      <th>091</th>\n",
       "      <th>586</th>\n",
       "    </tr>\n",
       "  </thead>\n",
       "  <tbody>\n",
       "  </tbody>\n",
       "</table>\n",
       "<p>0 rows × 756 columns</p>\n",
       "</div>"
      ],
      "text/plain": [
       "Empty DataFrame\n",
       "Columns: [720, 540, 512, 712, 741, 814, 823, 330, 863, 696, 620, 744, 158, 943, 728, 574, 724, 711, 843, 745, 809, 307, 690, 301, 333, R, 352, 388, 131, 303, 302, 305, 342, 986, 861, 725, 344, 701, 808, 363, 692, 726, 927, 759, 895, 813, 428, 746, 658, 332, 004, 918, 686, 304, 747, 153, 121, 862, 370, 617, 136, 629, 001, 517, 926, 721, 372, 612, 306, 155, 455, 947, 923, 616, 346, 864, 150, 154, 791, 111, 821, 709, 704, 688, 005, 891, 841, 736, 727, 152, 580, 822, 523, 591, 937, 691, 853, 811, 509, 339, ...]\n",
       "Index: []\n",
       "\n",
       "[0 rows x 756 columns]"
      ]
     },
     "metadata": {},
     "output_type": "display_data"
    }
   ],
   "source": [
    "pesos_usuarios = pd.DataFrame(columns= df[\"Signatura\"].unique(),dtype=float)\n",
    "tam = len(df[\"Signatura\"].unique())\n",
    "pesos_usuarios.columns = pesos_usuarios.columns.astype(str)\n",
    "display(pesos_usuarios)\n",
    "\n",
    "ids = df[\"IDUsuario\"].unique()\n",
    "i = 0\n",
    "for usuario in ids:\n",
    "  pesos_usuarios.loc[i] = np.zeros((tam,), dtype=int)\n",
    "  #Para cada usuario traer sus Deweys y sus pesas asociados\n",
    "  prestamos = df.loc[df[\"IDUsuario\"]==usuario]\n",
    "  deweys = prestamos[[\"Signatura\",\"Peso\"]]\n",
    "  result_user = deweys.groupby(\"Signatura\")[\"Peso\"].sum().reset_index(name=\"Peso\")\n",
    "  # Recorrer los Deweys y Pesos para plasmarlos en una matriz\n",
    "  #display(result_user)\n",
    "  for index, row in result_user.iterrows():\n",
    "    d = row[\"Signatura\"]\n",
    "    p=row['Peso']\n",
    "    pesos_usuarios[d][i] = p\n",
    "  i = i+1"
   ]
  },
  {
   "cell_type": "markdown",
   "metadata": {
    "id": "GfbNFAYTWO5n"
   },
   "source": [
    "La matriz generada es una matriz dispersa donde todos los valores son ceros excepto donde el usuario haya realizado un prestamo."
   ]
  },
  {
   "cell_type": "code",
   "execution_count": 12,
   "metadata": {
    "colab": {
     "base_uri": "https://localhost:8080/"
    },
    "executionInfo": {
     "elapsed": 164,
     "status": "ok",
     "timestamp": 1633068663869,
     "user": {
      "displayName": "juan sebastian angarita torres",
      "photoUrl": "https://lh3.googleusercontent.com/a-/AOh14GgjiV1o_Xb2Ov2kAJhpXcHsgVLy47m-BxyXrYYMfw=s64",
      "userId": "11476954540008106843"
     },
     "user_tz": 300
    },
    "id": "5YPx2tXLWKYY",
    "outputId": "2da14a9d-c2bf-4b3f-ec5f-d3338fccd4b1"
   },
   "outputs": [
    {
     "data": {
      "text/plain": [
       "(24407, 756)"
      ]
     },
     "execution_count": 12,
     "metadata": {},
     "output_type": "execute_result"
    }
   ],
   "source": [
    "pesos_usuarios.shape"
   ]
  },
  {
   "cell_type": "markdown",
   "metadata": {
    "id": "diJY0bMJVI_g"
   },
   "source": [
    "# Configuración Modelos\n",
    "A partir del archivo \"Comparación modelos\" se puede concluir que el modelo que ayuda en mayor medida a agrupar los datos, minimizando el número de clusters con tamaño menor a 20 y la desviación estandar es kmeans con los siguiente parámetros:\n",
    "* Filas normalizadas = true\n",
    "* Columnas normalizadas = true\n",
    "* PCA = 0.95\n",
    "* Número de clusters = 150\n",
    "* Número de iteraciones = 500"
   ]
  },
  {
   "cell_type": "code",
   "execution_count": 13,
   "metadata": {
    "executionInfo": {
     "elapsed": 157,
     "status": "ok",
     "timestamp": 1633068667156,
     "user": {
      "displayName": "juan sebastian angarita torres",
      "photoUrl": "https://lh3.googleusercontent.com/a-/AOh14GgjiV1o_Xb2Ov2kAJhpXcHsgVLy47m-BxyXrYYMfw=s64",
      "userId": "11476954540008106843"
     },
     "user_tz": 300
    },
    "id": "9-I-8OKF_KMn"
   },
   "outputs": [],
   "source": [
    "resumen = pd.DataFrame(columns = [\"Tecnica\",\"PCA\", \"Norm_filas\", \"Norm_col\", \"Precision\", \"Desviacion_estandar\", \"Media\", \"Coeficiente_variacion\", \"Clusters\",\"Grupo_mas_grande\", \"Grupos<10\", \"Grupos<20\"])\n"
   ]
  },
  {
   "cell_type": "code",
   "execution_count": 14,
   "metadata": {
    "executionInfo": {
     "elapsed": 155,
     "status": "ok",
     "timestamp": 1633068668165,
     "user": {
      "displayName": "juan sebastian angarita torres",
      "photoUrl": "https://lh3.googleusercontent.com/a-/AOh14GgjiV1o_Xb2Ov2kAJhpXcHsgVLy47m-BxyXrYYMfw=s64",
      "userId": "11476954540008106843"
     },
     "user_tz": 300
    },
    "id": "4metPqHb6UGM"
   },
   "outputs": [],
   "source": [
    "def std_dev_cluster(data, labs):\n",
    "    sizes_labels = []\n",
    "    for label in np.unique(labs):\n",
    "        sizes_labels.append(len(data.loc[data[\"cluster\"] == label]))\n",
    "    \n",
    "    return np.std(sizes_labels)"
   ]
  },
  {
   "cell_type": "code",
   "execution_count": 18,
   "metadata": {
    "executionInfo": {
     "elapsed": 1,
     "status": "ok",
     "timestamp": 1633068668920,
     "user": {
      "displayName": "juan sebastian angarita torres",
      "photoUrl": "https://lh3.googleusercontent.com/a-/AOh14GgjiV1o_Xb2Ov2kAJhpXcHsgVLy47m-BxyXrYYMfw=s64",
      "userId": "11476954540008106843"
     },
     "user_tz": 300
    },
    "id": "cfZFueYQhFIQ"
   },
   "outputs": [],
   "source": [
    "def mean_cluster(data, labs):\n",
    "    sizes_labels = []\n",
    "    for label in np.unique(labs):\n",
    "        sizes_labels.append(len(data.loc[data[\"cluster\"] == label]))\n",
    "    \n",
    "    return np.mean(sizes_labels)"
   ]
  },
  {
   "cell_type": "code",
   "execution_count": 20,
   "metadata": {
    "executionInfo": {
     "elapsed": 166,
     "status": "ok",
     "timestamp": 1633068669790,
     "user": {
      "displayName": "juan sebastian angarita torres",
      "photoUrl": "https://lh3.googleusercontent.com/a-/AOh14GgjiV1o_Xb2Ov2kAJhpXcHsgVLy47m-BxyXrYYMfw=s64",
      "userId": "11476954540008106843"
     },
     "user_tz": 300
    },
    "id": "KscSkW-o_R-N"
   },
   "outputs": [],
   "source": [
    "#\n",
    "PCA = 0.95\n",
    "num_clusters = 150\n",
    "num_iter = 30"
   ]
  },
  {
   "cell_type": "markdown",
   "metadata": {
    "id": "MVjLyTJ__r8Q"
   },
   "source": [
    "# Algoritmo kmeans"
   ]
  },
  {
   "cell_type": "code",
   "execution_count": 21,
   "metadata": {
    "executionInfo": {
     "elapsed": 154,
     "status": "ok",
     "timestamp": 1633068692443,
     "user": {
      "displayName": "juan sebastian angarita torres",
      "photoUrl": "https://lh3.googleusercontent.com/a-/AOh14GgjiV1o_Xb2Ov2kAJhpXcHsgVLy47m-BxyXrYYMfw=s64",
      "userId": "11476954540008106843"
     },
     "user_tz": 300
    },
    "id": "h2eUAHWMeng7"
   },
   "outputs": [],
   "source": [
    "final = pesos_usuarios"
   ]
  },
  {
   "cell_type": "code",
   "execution_count": 22,
   "metadata": {
    "executionInfo": {
     "elapsed": 166032,
     "status": "ok",
     "timestamp": 1633068859168,
     "user": {
      "displayName": "juan sebastian angarita torres",
      "photoUrl": "https://lh3.googleusercontent.com/a-/AOh14GgjiV1o_Xb2Ov2kAJhpXcHsgVLy47m-BxyXrYYMfw=s64",
      "userId": "11476954540008106843"
     },
     "user_tz": 300
    },
    "id": "oBYgDn75XB50"
   },
   "outputs": [],
   "source": [
    "##Exportamos los datos del modelo que nos dio mejores resultados\n",
    "#Normalización\n",
    "#2.5 min por iteración\n",
    "sumatoria = final.sum(axis=1)\n",
    "pesos_norm = final.div(sumatoria, axis=0).fillna(0)\n",
    "\n",
    "scaler = MinMaxScaler()\n",
    "pesos_norm = scaler.fit_transform(pesos_norm.values)\n",
    "\n",
    "  #Kmeans\n",
    "k_means = KMeans(init = \"k-means++\", n_clusters = num_clusters, n_init = num_iter)\n",
    "k_means.fit_predict(pesos_norm)\n",
    "labels = k_means.labels_"
   ]
  },
  {
   "cell_type": "code",
   "execution_count": 23,
   "metadata": {
    "colab": {
     "base_uri": "https://localhost:8080/"
    },
    "executionInfo": {
     "elapsed": 36116,
     "status": "ok",
     "timestamp": 1633069279518,
     "user": {
      "displayName": "juan sebastian angarita torres",
      "photoUrl": "https://lh3.googleusercontent.com/a-/AOh14GgjiV1o_Xb2Ov2kAJhpXcHsgVLy47m-BxyXrYYMfw=s64",
      "userId": "11476954540008106843"
     },
     "user_tz": 300
    },
    "id": "ZfSLsrwpfYA3",
    "outputId": "2c2d9350-c37e-4eba-a20c-b6ff0d6fc913"
   },
   "outputs": [
    {
     "name": "stdout",
     "output_type": "stream",
     "text": [
      "silhouette_score:  0.27459456939317484\n"
     ]
    }
   ],
   "source": [
    "#Desempeño\n",
    "#3 min\n",
    "pres = silhouette_score(pesos_norm, labels)\n",
    "print(\"silhouette_score: \", pres)"
   ]
  },
  {
   "cell_type": "code",
   "execution_count": 26,
   "metadata": {
    "colab": {
     "base_uri": "https://localhost:8080/",
     "height": 419
    },
    "executionInfo": {
     "elapsed": 161,
     "status": "ok",
     "timestamp": 1633069997340,
     "user": {
      "displayName": "juan sebastian angarita torres",
      "photoUrl": "https://lh3.googleusercontent.com/a-/AOh14GgjiV1o_Xb2Ov2kAJhpXcHsgVLy47m-BxyXrYYMfw=s64",
      "userId": "11476954540008106843"
     },
     "user_tz": 300
    },
    "id": "424_civNjJXy",
    "outputId": "f17028c3-8682-4b28-f73f-4d6039167be9"
   },
   "outputs": [
    {
     "data": {
      "text/html": [
       "<div>\n",
       "<style scoped>\n",
       "    .dataframe tbody tr th:only-of-type {\n",
       "        vertical-align: middle;\n",
       "    }\n",
       "\n",
       "    .dataframe tbody tr th {\n",
       "        vertical-align: top;\n",
       "    }\n",
       "\n",
       "    .dataframe thead th {\n",
       "        text-align: right;\n",
       "    }\n",
       "</style>\n",
       "<table border=\"1\" class=\"dataframe\">\n",
       "  <thead>\n",
       "    <tr style=\"text-align: right;\">\n",
       "      <th></th>\n",
       "      <th>IDUsuario</th>\n",
       "      <th>Peso</th>\n",
       "    </tr>\n",
       "  </thead>\n",
       "  <tbody>\n",
       "    <tr>\n",
       "      <th>0</th>\n",
       "      <td>00063d52cf68c65d2a569e95c40345c4a305ccc7</td>\n",
       "      <td>0.500</td>\n",
       "    </tr>\n",
       "    <tr>\n",
       "      <th>1</th>\n",
       "      <td>0006b3bdabeaa5389b211c8487bd67d339c97ef7</td>\n",
       "      <td>0.500</td>\n",
       "    </tr>\n",
       "    <tr>\n",
       "      <th>2</th>\n",
       "      <td>000a0630c32a437052696f6921e3181f155291d0</td>\n",
       "      <td>0.500</td>\n",
       "    </tr>\n",
       "    <tr>\n",
       "      <th>3</th>\n",
       "      <td>000c040064aedd76057c5309064a3823db970644</td>\n",
       "      <td>0.125</td>\n",
       "    </tr>\n",
       "    <tr>\n",
       "      <th>4</th>\n",
       "      <td>000f23e62e6d4995ede7090c6447ad6736edc4de</td>\n",
       "      <td>1.500</td>\n",
       "    </tr>\n",
       "    <tr>\n",
       "      <th>...</th>\n",
       "      <td>...</td>\n",
       "      <td>...</td>\n",
       "    </tr>\n",
       "    <tr>\n",
       "      <th>24402</th>\n",
       "      <td>fff71390a9f54ced5134452870d70ff18812f05f</td>\n",
       "      <td>2.125</td>\n",
       "    </tr>\n",
       "    <tr>\n",
       "      <th>24403</th>\n",
       "      <td>fff716c9685b5267e6ecfcdc00e9303509355bc1</td>\n",
       "      <td>1.000</td>\n",
       "    </tr>\n",
       "    <tr>\n",
       "      <th>24404</th>\n",
       "      <td>fff735f54719b720fc4c6c723208ad1f06e9605e</td>\n",
       "      <td>14.500</td>\n",
       "    </tr>\n",
       "    <tr>\n",
       "      <th>24405</th>\n",
       "      <td>fffb2be68fef4b27a810b11a641d84052eb02347</td>\n",
       "      <td>0.500</td>\n",
       "    </tr>\n",
       "    <tr>\n",
       "      <th>24406</th>\n",
       "      <td>ffff06c13f23ab304cfcb83035a1cecab8f5492d</td>\n",
       "      <td>0.500</td>\n",
       "    </tr>\n",
       "  </tbody>\n",
       "</table>\n",
       "<p>24407 rows × 2 columns</p>\n",
       "</div>"
      ],
      "text/plain": [
       "                                      IDUsuario    Peso\n",
       "0      00063d52cf68c65d2a569e95c40345c4a305ccc7   0.500\n",
       "1      0006b3bdabeaa5389b211c8487bd67d339c97ef7   0.500\n",
       "2      000a0630c32a437052696f6921e3181f155291d0   0.500\n",
       "3      000c040064aedd76057c5309064a3823db970644   0.125\n",
       "4      000f23e62e6d4995ede7090c6447ad6736edc4de   1.500\n",
       "...                                         ...     ...\n",
       "24402  fff71390a9f54ced5134452870d70ff18812f05f   2.125\n",
       "24403  fff716c9685b5267e6ecfcdc00e9303509355bc1   1.000\n",
       "24404  fff735f54719b720fc4c6c723208ad1f06e9605e  14.500\n",
       "24405  fffb2be68fef4b27a810b11a641d84052eb02347   0.500\n",
       "24406  ffff06c13f23ab304cfcb83035a1cecab8f5492d   0.500\n",
       "\n",
       "[24407 rows x 2 columns]"
      ]
     },
     "execution_count": 26,
     "metadata": {},
     "output_type": "execute_result"
    }
   ],
   "source": [
    "grouped = df.groupby(\"IDUsuario\")[\"Peso\"].sum().reset_index(name=\"Peso\")\n",
    "grouped"
   ]
  },
  {
   "cell_type": "code",
   "execution_count": 27,
   "metadata": {
    "colab": {
     "base_uri": "https://localhost:8080/",
     "height": 291
    },
    "executionInfo": {
     "elapsed": 2721,
     "status": "ok",
     "timestamp": 1633070024317,
     "user": {
      "displayName": "juan sebastian angarita torres",
      "photoUrl": "https://lh3.googleusercontent.com/a-/AOh14GgjiV1o_Xb2Ov2kAJhpXcHsgVLy47m-BxyXrYYMfw=s64",
      "userId": "11476954540008106843"
     },
     "user_tz": 300
    },
    "id": "TDCAYiRnI6Rg",
    "outputId": "2e04167f-caa6-428c-d8b4-a7d4eebc8bd1"
   },
   "outputs": [
    {
     "data": {
      "text/plain": [
       "<AxesSubplot:>"
      ]
     },
     "metadata": {},
     "output_type": "display_data"
    },
    {
     "data": {
      "image/png": "[encoded data removed]",
      "text/plain": [
       "<Figure size 432x288 with 1 Axes>"
      ]
     },
     "metadata": {
      "needs_background": "light"
     },
     "output_type": "display_data"
    }
   ],
   "source": [
    "#copiamos el dataframe y agregamos los clusters para gráficar la distribución\n",
    "df2 = final.copy()\n",
    "df2[\"cluster\"] = labels\n",
    "df2.groupby(\"cluster\")[\"cluster\"].count()\n",
    "display(df2[\"cluster\"].value_counts().plot(kind='bar'))\n",
    "\n",
    "#pegamos los cluster a la tabla que tiene los usuarios y los temas\n",
    "grouped[\"cluster\"] = labels\n",
    "\n",
    "\n",
    "#Cálculo de métricas\n",
    "media = mean_cluster(df2,labels)\n",
    "desviacion = std_dev_cluster(df2,labels)\n",
    "data = df2.groupby('cluster')['cluster'].count()\n",
    "peque10 = len(data[data<=10])\n",
    "peque20 = len(data[data<=20])\n",
    "masGrande = data.max()\n",
    "#Agregamos los datos a nuestra tabla de resumen para comparar\n",
    "resumen = resumen.append({'Tecnica':\"K-MEANS\",\n",
    "                              'PCA':0.95,\n",
    "                              'Norm_filas':True,\n",
    "                              'Norm_col':True,\n",
    "                              'Precision':pres,\n",
    "                              'Desviacion_estandar':desviacion,\n",
    "                              'Media':media,\n",
    "                              'Coeficiente_variacion':desviacion/media, \n",
    "                              'Clusters': num_clusters,\n",
    "                              \"Grupos<20\":peque20,\n",
    "                              \"Grupos<10\":peque10 , \n",
    "                              \"Grupo_mas_grande\":masGrande}, ignore_index=True)"
   ]
  },
  {
   "cell_type": "code",
   "execution_count": 28,
   "metadata": {
    "colab": {
     "base_uri": "https://localhost:8080/",
     "height": 142
    },
    "executionInfo": {
     "elapsed": 171,
     "status": "ok",
     "timestamp": 1633070028067,
     "user": {
      "displayName": "juan sebastian angarita torres",
      "photoUrl": "https://lh3.googleusercontent.com/a-/AOh14GgjiV1o_Xb2Ov2kAJhpXcHsgVLy47m-BxyXrYYMfw=s64",
      "userId": "11476954540008106843"
     },
     "user_tz": 300
    },
    "id": "pf6HzVgMeyW6",
    "outputId": "82c2921e-686b-40bb-bd53-7205f5c093d5"
   },
   "outputs": [
    {
     "data": {
      "text/html": [
       "<div>\n",
       "<style scoped>\n",
       "    .dataframe tbody tr th:only-of-type {\n",
       "        vertical-align: middle;\n",
       "    }\n",
       "\n",
       "    .dataframe tbody tr th {\n",
       "        vertical-align: top;\n",
       "    }\n",
       "\n",
       "    .dataframe thead th {\n",
       "        text-align: right;\n",
       "    }\n",
       "</style>\n",
       "<table border=\"1\" class=\"dataframe\">\n",
       "  <thead>\n",
       "    <tr style=\"text-align: right;\">\n",
       "      <th></th>\n",
       "      <th>IDUsuario</th>\n",
       "      <th>Peso</th>\n",
       "      <th>cluster</th>\n",
       "    </tr>\n",
       "  </thead>\n",
       "  <tbody>\n",
       "    <tr>\n",
       "      <th>0</th>\n",
       "      <td>00063d52cf68c65d2a569e95c40345c4a305ccc7</td>\n",
       "      <td>0.5</td>\n",
       "      <td>125</td>\n",
       "    </tr>\n",
       "    <tr>\n",
       "      <th>1</th>\n",
       "      <td>0006b3bdabeaa5389b211c8487bd67d339c97ef7</td>\n",
       "      <td>0.5</td>\n",
       "      <td>118</td>\n",
       "    </tr>\n",
       "    <tr>\n",
       "      <th>2</th>\n",
       "      <td>000a0630c32a437052696f6921e3181f155291d0</td>\n",
       "      <td>0.5</td>\n",
       "      <td>118</td>\n",
       "    </tr>\n",
       "  </tbody>\n",
       "</table>\n",
       "</div>"
      ],
      "text/plain": [
       "                                  IDUsuario  Peso  cluster\n",
       "0  00063d52cf68c65d2a569e95c40345c4a305ccc7   0.5      125\n",
       "1  0006b3bdabeaa5389b211c8487bd67d339c97ef7   0.5      118\n",
       "2  000a0630c32a437052696f6921e3181f155291d0   0.5      118"
      ]
     },
     "execution_count": 28,
     "metadata": {},
     "output_type": "execute_result"
    }
   ],
   "source": [
    "grouped.head(3)"
   ]
  },
  {
   "cell_type": "code",
   "execution_count": 29,
   "metadata": {
    "colab": {
     "base_uri": "https://localhost:8080/",
     "height": 111
    },
    "executionInfo": {
     "elapsed": 159,
     "status": "ok",
     "timestamp": 1633070034404,
     "user": {
      "displayName": "juan sebastian angarita torres",
      "photoUrl": "https://lh3.googleusercontent.com/a-/AOh14GgjiV1o_Xb2Ov2kAJhpXcHsgVLy47m-BxyXrYYMfw=s64",
      "userId": "11476954540008106843"
     },
     "user_tz": 300
    },
    "id": "MDvuWOySBTyh",
    "outputId": "031a285a-f3cb-4893-8351-a16bcf2f7cd8"
   },
   "outputs": [
    {
     "data": {
      "text/html": [
       "<div>\n",
       "<style scoped>\n",
       "    .dataframe tbody tr th:only-of-type {\n",
       "        vertical-align: middle;\n",
       "    }\n",
       "\n",
       "    .dataframe tbody tr th {\n",
       "        vertical-align: top;\n",
       "    }\n",
       "\n",
       "    .dataframe thead th {\n",
       "        text-align: right;\n",
       "    }\n",
       "</style>\n",
       "<table border=\"1\" class=\"dataframe\">\n",
       "  <thead>\n",
       "    <tr style=\"text-align: right;\">\n",
       "      <th></th>\n",
       "      <th>Tecnica</th>\n",
       "      <th>PCA</th>\n",
       "      <th>Norm_filas</th>\n",
       "      <th>Norm_col</th>\n",
       "      <th>Precision</th>\n",
       "      <th>Desviacion_estandar</th>\n",
       "      <th>Media</th>\n",
       "      <th>Coeficiente_variacion</th>\n",
       "      <th>Clusters</th>\n",
       "      <th>Grupo_mas_grande</th>\n",
       "      <th>Grupos&lt;10</th>\n",
       "      <th>Grupos&lt;20</th>\n",
       "    </tr>\n",
       "  </thead>\n",
       "  <tbody>\n",
       "    <tr>\n",
       "      <th>0</th>\n",
       "      <td>K-MEANS</td>\n",
       "      <td>0.95</td>\n",
       "      <td>True</td>\n",
       "      <td>True</td>\n",
       "      <td>0.274595</td>\n",
       "      <td>377.056465</td>\n",
       "      <td>162.713333</td>\n",
       "      <td>2.317305</td>\n",
       "      <td>150</td>\n",
       "      <td>4479</td>\n",
       "      <td>0</td>\n",
       "      <td>4</td>\n",
       "    </tr>\n",
       "  </tbody>\n",
       "</table>\n",
       "</div>"
      ],
      "text/plain": [
       "   Tecnica   PCA Norm_filas Norm_col  Precision  Desviacion_estandar  \\\n",
       "0  K-MEANS  0.95       True     True   0.274595           377.056465   \n",
       "\n",
       "        Media  Coeficiente_variacion Clusters Grupo_mas_grande Grupos<10  \\\n",
       "0  162.713333               2.317305      150             4479         0   \n",
       "\n",
       "  Grupos<20  \n",
       "0         4  "
      ]
     },
     "execution_count": 29,
     "metadata": {},
     "output_type": "execute_result"
    }
   ],
   "source": [
    "resumen"
   ]
  },
  {
   "cell_type": "markdown",
   "metadata": {
    "id": "4FwTk6-ammsv"
   },
   "source": [
    "Podemos analizar los temas más importantes que tiene cada cluster. "
   ]
  },
  {
   "cell_type": "code",
   "execution_count": 95,
   "metadata": {
    "colab": {
     "base_uri": "https://localhost:8080/"
    },
    "executionInfo": {
     "elapsed": 161,
     "status": "ok",
     "timestamp": 1633070038046,
     "user": {
      "displayName": "juan sebastian angarita torres",
      "photoUrl": "https://lh3.googleusercontent.com/a-/AOh14GgjiV1o_Xb2Ov2kAJhpXcHsgVLy47m-BxyXrYYMfw=s64",
      "userId": "11476954540008106843"
     },
     "user_tz": 300
    },
    "id": "sq5YOnvGVh5U",
    "outputId": "cbd8c552-aa31-4354-d582-24191a734c8a"
   },
   "outputs": [
    {
     "data": {
      "text/plain": [
       "cluster    200\n",
       "574        200\n",
       "616          7\n",
       "576          4\n",
       "611          3\n",
       "575          3\n",
       "540          3\n",
       "333          2\n",
       "613          2\n",
       "610          2\n",
       "612          2\n",
       "581          2\n",
       "530          2\n",
       "R            2\n",
       "614          1\n",
       "808          1\n",
       "725          1\n",
       "303          1\n",
       "592          1\n",
       "843          1\n",
       "dtype: int64"
      ]
     },
     "execution_count": 95,
     "metadata": {},
     "output_type": "execute_result"
    }
   ],
   "source": [
    "cluster = df2.loc[df2.cluster == 33]\n",
    "aux=cluster.astype(bool).sum(axis=0)\n",
    "df3 = aux[aux > 0]\n",
    "df3.sort_values(ascending=False).head(20)"
   ]
  },
  {
   "cell_type": "code",
   "execution_count": 35,
   "metadata": {
    "colab": {
     "base_uri": "https://localhost:8080/",
     "height": 142
    },
    "executionInfo": {
     "elapsed": 156,
     "status": "ok",
     "timestamp": 1633070040963,
     "user": {
      "displayName": "juan sebastian angarita torres",
      "photoUrl": "https://lh3.googleusercontent.com/a-/AOh14GgjiV1o_Xb2Ov2kAJhpXcHsgVLy47m-BxyXrYYMfw=s64",
      "userId": "11476954540008106843"
     },
     "user_tz": 300
    },
    "id": "tolyG2u4yq7j",
    "outputId": "b03c0583-30ee-46c9-ab10-c1713d1b7bd5"
   },
   "outputs": [
    {
     "data": {
      "text/html": [
       "<div>\n",
       "<style scoped>\n",
       "    .dataframe tbody tr th:only-of-type {\n",
       "        vertical-align: middle;\n",
       "    }\n",
       "\n",
       "    .dataframe tbody tr th {\n",
       "        vertical-align: top;\n",
       "    }\n",
       "\n",
       "    .dataframe thead th {\n",
       "        text-align: right;\n",
       "    }\n",
       "</style>\n",
       "<table border=\"1\" class=\"dataframe\">\n",
       "  <thead>\n",
       "    <tr style=\"text-align: right;\">\n",
       "      <th></th>\n",
       "      <th>IDUsuario</th>\n",
       "      <th>Peso</th>\n",
       "      <th>cluster</th>\n",
       "    </tr>\n",
       "  </thead>\n",
       "  <tbody>\n",
       "    <tr>\n",
       "      <th>0</th>\n",
       "      <td>00063d52cf68c65d2a569e95c40345c4a305ccc7</td>\n",
       "      <td>0.5</td>\n",
       "      <td>125</td>\n",
       "    </tr>\n",
       "    <tr>\n",
       "      <th>1</th>\n",
       "      <td>0006b3bdabeaa5389b211c8487bd67d339c97ef7</td>\n",
       "      <td>0.5</td>\n",
       "      <td>118</td>\n",
       "    </tr>\n",
       "    <tr>\n",
       "      <th>2</th>\n",
       "      <td>000a0630c32a437052696f6921e3181f155291d0</td>\n",
       "      <td>0.5</td>\n",
       "      <td>118</td>\n",
       "    </tr>\n",
       "  </tbody>\n",
       "</table>\n",
       "</div>"
      ],
      "text/plain": [
       "                                  IDUsuario  Peso  cluster\n",
       "0  00063d52cf68c65d2a569e95c40345c4a305ccc7   0.5      125\n",
       "1  0006b3bdabeaa5389b211c8487bd67d339c97ef7   0.5      118\n",
       "2  000a0630c32a437052696f6921e3181f155291d0   0.5      118"
      ]
     },
     "execution_count": 35,
     "metadata": {},
     "output_type": "execute_result"
    }
   ],
   "source": [
    "grouped.head(3)"
   ]
  },
  {
   "cell_type": "markdown",
   "metadata": {
    "id": "e8NbOQK_mhJB"
   },
   "source": [
    "Pegamos la información del cluster a cada uno de los prestamos de los usuarios.(temas_usuarios_cluster)"
   ]
  },
  {
   "cell_type": "code",
   "execution_count": 36,
   "metadata": {
    "colab": {
     "base_uri": "https://localhost:8080/",
     "height": 1000
    },
    "executionInfo": {
     "elapsed": 1641,
     "status": "ok",
     "timestamp": 1633070085392,
     "user": {
      "displayName": "juan sebastian angarita torres",
      "photoUrl": "https://lh3.googleusercontent.com/a-/AOh14GgjiV1o_Xb2Ov2kAJhpXcHsgVLy47m-BxyXrYYMfw=s64",
      "userId": "11476954540008106843"
     },
     "user_tz": 300
    },
    "id": "ukLzwbkXlKt8",
    "outputId": "78d6ffa1-e280-47ed-b761-3c64a87e41bd"
   },
   "outputs": [
    {
     "data": {
      "text/html": [
       "<div>\n",
       "<style scoped>\n",
       "    .dataframe tbody tr th:only-of-type {\n",
       "        vertical-align: middle;\n",
       "    }\n",
       "\n",
       "    .dataframe tbody tr th {\n",
       "        vertical-align: top;\n",
       "    }\n",
       "\n",
       "    .dataframe thead th {\n",
       "        text-align: right;\n",
       "    }\n",
       "</style>\n",
       "<table border=\"1\" class=\"dataframe\">\n",
       "  <thead>\n",
       "    <tr style=\"text-align: right;\">\n",
       "      <th></th>\n",
       "      <th>RowID</th>\n",
       "      <th>Fecha</th>\n",
       "      <th>IDItem</th>\n",
       "      <th>NumeroUbicacion</th>\n",
       "      <th>Dewey</th>\n",
       "      <th>Ubicacion</th>\n",
       "      <th>Llave</th>\n",
       "      <th>Programa</th>\n",
       "      <th>Facultad</th>\n",
       "      <th>IDUsuario</th>\n",
       "      <th>...</th>\n",
       "      <th>Autor</th>\n",
       "      <th>Titulo</th>\n",
       "      <th>AnioPublicacion</th>\n",
       "      <th>DeweyEspecifico</th>\n",
       "      <th>TemaDewey</th>\n",
       "      <th>Temas</th>\n",
       "      <th>Union</th>\n",
       "      <th>Peso_x</th>\n",
       "      <th>Peso_y</th>\n",
       "      <th>cluster</th>\n",
       "    </tr>\n",
       "  </thead>\n",
       "  <tbody>\n",
       "    <tr>\n",
       "      <th>0</th>\n",
       "      <td>Row0</td>\n",
       "      <td>1547050497000</td>\n",
       "      <td>80000005327627</td>\n",
       "      <td>720.98 A71S</td>\n",
       "      <td>720</td>\n",
       "      <td>COL-GRAL-2</td>\n",
       "      <td>866245</td>\n",
       "      <td>CARRERA DE ARQUITECTURA</td>\n",
       "      <td>arquitectura y diseño</td>\n",
       "      <td>c361c772cd0220bb16dcfb2ad803e4903334ab94</td>\n",
       "      <td>...</td>\n",
       "      <td>Arango Cardinal, Silvia 1948-</td>\n",
       "      <td>Ciudad y arquitectura seis generaciones que co...</td>\n",
       "      <td>2012.0</td>\n",
       "      <td>720.98</td>\n",
       "      <td>Arquitectura latinoamericana</td>\n",
       "      <td>[arquitectur, histori, amer, latin]</td>\n",
       "      <td>arquitectur histori amer latin</td>\n",
       "      <td>0.25</td>\n",
       "      <td>5.25</td>\n",
       "      <td>15</td>\n",
       "    </tr>\n",
       "    <tr>\n",
       "      <th>1</th>\n",
       "      <td>Row1</td>\n",
       "      <td>1547050500000</td>\n",
       "      <td>80000001191496</td>\n",
       "      <td>720.9861 A71</td>\n",
       "      <td>720</td>\n",
       "      <td>COL-GRAL-2</td>\n",
       "      <td>309945</td>\n",
       "      <td>CARRERA DE ARQUITECTURA</td>\n",
       "      <td>arquitectura y diseño</td>\n",
       "      <td>c361c772cd0220bb16dcfb2ad803e4903334ab94</td>\n",
       "      <td>...</td>\n",
       "      <td>Arango Cardinal, Silvia 1948-</td>\n",
       "      <td>Historia de la arquitectura en Colombia Silvia...</td>\n",
       "      <td>1993.0</td>\n",
       "      <td>720.9861</td>\n",
       "      <td>Arquitectura colombiana</td>\n",
       "      <td>[arquitectur, colonial, histori, colombi]</td>\n",
       "      <td>arquitectur colonial histori colombi</td>\n",
       "      <td>0.25</td>\n",
       "      <td>5.25</td>\n",
       "      <td>15</td>\n",
       "    </tr>\n",
       "    <tr>\n",
       "      <th>2</th>\n",
       "      <td>Row2</td>\n",
       "      <td>1547138763000</td>\n",
       "      <td>80000004979759</td>\n",
       "      <td>540 CH15Q 2010</td>\n",
       "      <td>540</td>\n",
       "      <td>COL-GRAL-3</td>\n",
       "      <td>822727</td>\n",
       "      <td>CARRERA DE ARQUITECTURA</td>\n",
       "      <td>arquitectura y diseño</td>\n",
       "      <td>87b0e5a61ed712ddfaf5d478ad68c87c825997e9</td>\n",
       "      <td>...</td>\n",
       "      <td>Chang, Raymond</td>\n",
       "      <td>Química Raymond Chang ; revisión técnica Rosa ...</td>\n",
       "      <td>2010.0</td>\n",
       "      <td>540</td>\n",
       "      <td>Química</td>\n",
       "      <td>[quimic]</td>\n",
       "      <td>quimic</td>\n",
       "      <td>0.25</td>\n",
       "      <td>5.50</td>\n",
       "      <td>118</td>\n",
       "    </tr>\n",
       "  </tbody>\n",
       "</table>\n",
       "<p>3 rows × 23 columns</p>\n",
       "</div>"
      ],
      "text/plain": [
       "  RowID          Fecha          IDItem NumeroUbicacion Dewey   Ubicacion  \\\n",
       "0  Row0  1547050497000  80000005327627     720.98 A71S   720  COL-GRAL-2   \n",
       "1  Row1  1547050500000  80000001191496    720.9861 A71   720  COL-GRAL-2   \n",
       "2  Row2  1547138763000  80000004979759  540 CH15Q 2010   540  COL-GRAL-3   \n",
       "\n",
       "    Llave                 Programa               Facultad  \\\n",
       "0  866245  CARRERA DE ARQUITECTURA  arquitectura y diseño   \n",
       "1  309945  CARRERA DE ARQUITECTURA  arquitectura y diseño   \n",
       "2  822727  CARRERA DE ARQUITECTURA  arquitectura y diseño   \n",
       "\n",
       "                                  IDUsuario  ...  \\\n",
       "0  c361c772cd0220bb16dcfb2ad803e4903334ab94  ...   \n",
       "1  c361c772cd0220bb16dcfb2ad803e4903334ab94  ...   \n",
       "2  87b0e5a61ed712ddfaf5d478ad68c87c825997e9  ...   \n",
       "\n",
       "                           Autor  \\\n",
       "0  Arango Cardinal, Silvia 1948-   \n",
       "1  Arango Cardinal, Silvia 1948-   \n",
       "2                 Chang, Raymond   \n",
       "\n",
       "                                              Titulo AnioPublicacion  \\\n",
       "0  Ciudad y arquitectura seis generaciones que co...          2012.0   \n",
       "1  Historia de la arquitectura en Colombia Silvia...          1993.0   \n",
       "2  Química Raymond Chang ; revisión técnica Rosa ...          2010.0   \n",
       "\n",
       "  DeweyEspecifico                     TemaDewey  \\\n",
       "0          720.98  Arquitectura latinoamericana   \n",
       "1        720.9861       Arquitectura colombiana   \n",
       "2             540                       Química   \n",
       "\n",
       "                                       Temas  \\\n",
       "0        [arquitectur, histori, amer, latin]   \n",
       "1  [arquitectur, colonial, histori, colombi]   \n",
       "2                                   [quimic]   \n",
       "\n",
       "                                  Union Peso_x Peso_y cluster  \n",
       "0        arquitectur histori amer latin   0.25   5.25      15  \n",
       "1  arquitectur colonial histori colombi   0.25   5.25      15  \n",
       "2                                quimic   0.25   5.50     118  \n",
       "\n",
       "[3 rows x 23 columns]"
      ]
     },
     "execution_count": 36,
     "metadata": {},
     "output_type": "execute_result"
    }
   ],
   "source": [
    "material_data = pd.DataFrame(data=df)\n",
    "cluster_data = pd.DataFrame(data=grouped)\n",
    "temas_usuarios_cluster = pd.merge(material_data, cluster_data, left_on='IDUsuario', right_on='IDUsuario', how='left')\n",
    "temas_usuarios_cluster.head(3)"
   ]
  },
  {
   "cell_type": "markdown",
   "metadata": {
    "id": "GQdXl6TcnEBW"
   },
   "source": [
    "Crearemos un tercer dataframe el cual contega únicamente la información de cada cluster(sus centroides). "
   ]
  },
  {
   "cell_type": "code",
   "execution_count": 44,
   "metadata": {
    "colab": {
     "base_uri": "https://localhost:8080/",
     "height": 588
    },
    "executionInfo": {
     "elapsed": 414,
     "status": "ok",
     "timestamp": 1632869725216,
     "user": {
      "displayName": "juan sebastian angarita torres",
      "photoUrl": "https://lh3.googleusercontent.com/a-/AOh14GgjiV1o_Xb2Ov2kAJhpXcHsgVLy47m-BxyXrYYMfw=s64",
      "userId": "11476954540008106843"
     },
     "user_tz": 300
    },
    "id": "7arBCYulnS3f",
    "outputId": "63ecc049-9490-474b-afe1-06b1a6f0fb6e",
    "scrolled": true
   },
   "outputs": [],
   "source": [
    "centroids = pd.DataFrame(data = k_means.cluster_centers_)"
   ]
  },
  {
   "cell_type": "code",
   "execution_count": 56,
   "metadata": {
    "id": "lVKIGT3KnDvj"
   },
   "outputs": [
    {
     "data": {
      "text/html": [
       "<div>\n",
       "<style scoped>\n",
       "    .dataframe tbody tr th:only-of-type {\n",
       "        vertical-align: middle;\n",
       "    }\n",
       "\n",
       "    .dataframe tbody tr th {\n",
       "        vertical-align: top;\n",
       "    }\n",
       "\n",
       "    .dataframe thead th {\n",
       "        text-align: right;\n",
       "    }\n",
       "</style>\n",
       "<table border=\"1\" class=\"dataframe\">\n",
       "  <thead>\n",
       "    <tr style=\"text-align: right;\">\n",
       "      <th></th>\n",
       "      <th>720</th>\n",
       "      <th>540</th>\n",
       "      <th>512</th>\n",
       "      <th>712</th>\n",
       "      <th>741</th>\n",
       "      <th>814</th>\n",
       "      <th>823</th>\n",
       "      <th>330</th>\n",
       "      <th>863</th>\n",
       "      <th>696</th>\n",
       "      <th>...</th>\n",
       "      <th>267</th>\n",
       "      <th>114</th>\n",
       "      <th>034</th>\n",
       "      <th>673</th>\n",
       "      <th>447</th>\n",
       "      <th>600</th>\n",
       "      <th>653</th>\n",
       "      <th>263</th>\n",
       "      <th>091</th>\n",
       "      <th>586</th>\n",
       "    </tr>\n",
       "  </thead>\n",
       "  <tbody>\n",
       "    <tr>\n",
       "      <th>0</th>\n",
       "      <td>0.891100</td>\n",
       "      <td>0.000000</td>\n",
       "      <td>0.000000</td>\n",
       "      <td>0.006855</td>\n",
       "      <td>0.000758</td>\n",
       "      <td>0.000000</td>\n",
       "      <td>0.000631</td>\n",
       "      <td>0.000000</td>\n",
       "      <td>0.000140</td>\n",
       "      <td>0.000000</td>\n",
       "      <td>...</td>\n",
       "      <td>0.0</td>\n",
       "      <td>0.0</td>\n",
       "      <td>0.0</td>\n",
       "      <td>0.00000</td>\n",
       "      <td>0.0</td>\n",
       "      <td>0.0</td>\n",
       "      <td>0.0</td>\n",
       "      <td>0.0</td>\n",
       "      <td>0.0</td>\n",
       "      <td>0.0</td>\n",
       "    </tr>\n",
       "    <tr>\n",
       "      <th>1</th>\n",
       "      <td>0.007524</td>\n",
       "      <td>0.000019</td>\n",
       "      <td>0.001273</td>\n",
       "      <td>0.001755</td>\n",
       "      <td>0.325837</td>\n",
       "      <td>0.002025</td>\n",
       "      <td>0.016767</td>\n",
       "      <td>0.006725</td>\n",
       "      <td>0.033209</td>\n",
       "      <td>0.000000</td>\n",
       "      <td>...</td>\n",
       "      <td>0.0</td>\n",
       "      <td>0.0</td>\n",
       "      <td>0.0</td>\n",
       "      <td>0.00000</td>\n",
       "      <td>0.0</td>\n",
       "      <td>0.0</td>\n",
       "      <td>0.0</td>\n",
       "      <td>0.0</td>\n",
       "      <td>0.0</td>\n",
       "      <td>0.0</td>\n",
       "    </tr>\n",
       "    <tr>\n",
       "      <th>2</th>\n",
       "      <td>0.001903</td>\n",
       "      <td>0.000000</td>\n",
       "      <td>0.001907</td>\n",
       "      <td>0.000000</td>\n",
       "      <td>0.007182</td>\n",
       "      <td>0.000442</td>\n",
       "      <td>0.002778</td>\n",
       "      <td>0.023522</td>\n",
       "      <td>0.009621</td>\n",
       "      <td>0.000000</td>\n",
       "      <td>...</td>\n",
       "      <td>0.0</td>\n",
       "      <td>0.0</td>\n",
       "      <td>0.0</td>\n",
       "      <td>0.00000</td>\n",
       "      <td>0.0</td>\n",
       "      <td>0.0</td>\n",
       "      <td>0.0</td>\n",
       "      <td>0.0</td>\n",
       "      <td>0.0</td>\n",
       "      <td>0.0</td>\n",
       "    </tr>\n",
       "    <tr>\n",
       "      <th>3</th>\n",
       "      <td>0.002262</td>\n",
       "      <td>0.000952</td>\n",
       "      <td>0.000000</td>\n",
       "      <td>0.000000</td>\n",
       "      <td>0.863419</td>\n",
       "      <td>0.000000</td>\n",
       "      <td>0.005357</td>\n",
       "      <td>0.000794</td>\n",
       "      <td>0.003828</td>\n",
       "      <td>0.000000</td>\n",
       "      <td>...</td>\n",
       "      <td>0.0</td>\n",
       "      <td>0.0</td>\n",
       "      <td>0.0</td>\n",
       "      <td>0.00000</td>\n",
       "      <td>0.0</td>\n",
       "      <td>0.0</td>\n",
       "      <td>0.0</td>\n",
       "      <td>0.0</td>\n",
       "      <td>0.0</td>\n",
       "      <td>0.0</td>\n",
       "    </tr>\n",
       "    <tr>\n",
       "      <th>4</th>\n",
       "      <td>0.000994</td>\n",
       "      <td>0.000236</td>\n",
       "      <td>0.005798</td>\n",
       "      <td>0.000250</td>\n",
       "      <td>0.005909</td>\n",
       "      <td>0.002447</td>\n",
       "      <td>0.006718</td>\n",
       "      <td>0.108800</td>\n",
       "      <td>0.017449</td>\n",
       "      <td>0.000099</td>\n",
       "      <td>...</td>\n",
       "      <td>0.0</td>\n",
       "      <td>0.0</td>\n",
       "      <td>0.0</td>\n",
       "      <td>0.00000</td>\n",
       "      <td>0.0</td>\n",
       "      <td>0.0</td>\n",
       "      <td>0.0</td>\n",
       "      <td>0.0</td>\n",
       "      <td>0.0</td>\n",
       "      <td>0.0</td>\n",
       "    </tr>\n",
       "    <tr>\n",
       "      <th>...</th>\n",
       "      <td>...</td>\n",
       "      <td>...</td>\n",
       "      <td>...</td>\n",
       "      <td>...</td>\n",
       "      <td>...</td>\n",
       "      <td>...</td>\n",
       "      <td>...</td>\n",
       "      <td>...</td>\n",
       "      <td>...</td>\n",
       "      <td>...</td>\n",
       "      <td>...</td>\n",
       "      <td>...</td>\n",
       "      <td>...</td>\n",
       "      <td>...</td>\n",
       "      <td>...</td>\n",
       "      <td>...</td>\n",
       "      <td>...</td>\n",
       "      <td>...</td>\n",
       "      <td>...</td>\n",
       "      <td>...</td>\n",
       "      <td>...</td>\n",
       "    </tr>\n",
       "    <tr>\n",
       "      <th>145</th>\n",
       "      <td>0.004084</td>\n",
       "      <td>0.000423</td>\n",
       "      <td>0.006029</td>\n",
       "      <td>0.000402</td>\n",
       "      <td>0.007969</td>\n",
       "      <td>0.001233</td>\n",
       "      <td>0.008632</td>\n",
       "      <td>0.016815</td>\n",
       "      <td>0.020695</td>\n",
       "      <td>0.000451</td>\n",
       "      <td>...</td>\n",
       "      <td>0.0</td>\n",
       "      <td>0.0</td>\n",
       "      <td>0.0</td>\n",
       "      <td>0.00202</td>\n",
       "      <td>0.0</td>\n",
       "      <td>0.0</td>\n",
       "      <td>0.0</td>\n",
       "      <td>0.0</td>\n",
       "      <td>0.0</td>\n",
       "      <td>0.0</td>\n",
       "    </tr>\n",
       "    <tr>\n",
       "      <th>146</th>\n",
       "      <td>0.000000</td>\n",
       "      <td>0.000000</td>\n",
       "      <td>0.009259</td>\n",
       "      <td>0.000000</td>\n",
       "      <td>0.000000</td>\n",
       "      <td>0.000000</td>\n",
       "      <td>0.000000</td>\n",
       "      <td>0.009656</td>\n",
       "      <td>0.001989</td>\n",
       "      <td>0.000000</td>\n",
       "      <td>...</td>\n",
       "      <td>0.0</td>\n",
       "      <td>0.0</td>\n",
       "      <td>0.0</td>\n",
       "      <td>0.00000</td>\n",
       "      <td>0.0</td>\n",
       "      <td>0.0</td>\n",
       "      <td>0.0</td>\n",
       "      <td>0.0</td>\n",
       "      <td>0.0</td>\n",
       "      <td>0.0</td>\n",
       "    </tr>\n",
       "    <tr>\n",
       "      <th>147</th>\n",
       "      <td>0.005995</td>\n",
       "      <td>0.000437</td>\n",
       "      <td>0.000000</td>\n",
       "      <td>0.001390</td>\n",
       "      <td>0.003390</td>\n",
       "      <td>0.000688</td>\n",
       "      <td>0.004602</td>\n",
       "      <td>0.010897</td>\n",
       "      <td>0.017072</td>\n",
       "      <td>0.000000</td>\n",
       "      <td>...</td>\n",
       "      <td>0.0</td>\n",
       "      <td>0.0</td>\n",
       "      <td>0.0</td>\n",
       "      <td>0.00000</td>\n",
       "      <td>0.0</td>\n",
       "      <td>0.0</td>\n",
       "      <td>0.0</td>\n",
       "      <td>0.0</td>\n",
       "      <td>0.0</td>\n",
       "      <td>0.0</td>\n",
       "    </tr>\n",
       "    <tr>\n",
       "      <th>148</th>\n",
       "      <td>0.000000</td>\n",
       "      <td>0.000000</td>\n",
       "      <td>0.000153</td>\n",
       "      <td>0.000000</td>\n",
       "      <td>0.017500</td>\n",
       "      <td>0.000000</td>\n",
       "      <td>0.000000</td>\n",
       "      <td>0.002273</td>\n",
       "      <td>0.001344</td>\n",
       "      <td>0.000000</td>\n",
       "      <td>...</td>\n",
       "      <td>0.0</td>\n",
       "      <td>0.0</td>\n",
       "      <td>0.0</td>\n",
       "      <td>0.00000</td>\n",
       "      <td>0.0</td>\n",
       "      <td>0.0</td>\n",
       "      <td>0.0</td>\n",
       "      <td>0.0</td>\n",
       "      <td>0.0</td>\n",
       "      <td>0.0</td>\n",
       "    </tr>\n",
       "    <tr>\n",
       "      <th>149</th>\n",
       "      <td>0.000000</td>\n",
       "      <td>0.000000</td>\n",
       "      <td>0.000000</td>\n",
       "      <td>0.000000</td>\n",
       "      <td>0.000000</td>\n",
       "      <td>0.000000</td>\n",
       "      <td>0.000000</td>\n",
       "      <td>0.000000</td>\n",
       "      <td>0.000000</td>\n",
       "      <td>0.000000</td>\n",
       "      <td>...</td>\n",
       "      <td>0.0</td>\n",
       "      <td>0.0</td>\n",
       "      <td>0.0</td>\n",
       "      <td>0.00000</td>\n",
       "      <td>0.0</td>\n",
       "      <td>0.0</td>\n",
       "      <td>0.0</td>\n",
       "      <td>0.0</td>\n",
       "      <td>0.0</td>\n",
       "      <td>0.0</td>\n",
       "    </tr>\n",
       "  </tbody>\n",
       "</table>\n",
       "<p>150 rows × 756 columns</p>\n",
       "</div>"
      ],
      "text/plain": [
       "          720       540       512       712       741       814       823  \\\n",
       "0    0.891100  0.000000  0.000000  0.006855  0.000758  0.000000  0.000631   \n",
       "1    0.007524  0.000019  0.001273  0.001755  0.325837  0.002025  0.016767   \n",
       "2    0.001903  0.000000  0.001907  0.000000  0.007182  0.000442  0.002778   \n",
       "3    0.002262  0.000952  0.000000  0.000000  0.863419  0.000000  0.005357   \n",
       "4    0.000994  0.000236  0.005798  0.000250  0.005909  0.002447  0.006718   \n",
       "..        ...       ...       ...       ...       ...       ...       ...   \n",
       "145  0.004084  0.000423  0.006029  0.000402  0.007969  0.001233  0.008632   \n",
       "146  0.000000  0.000000  0.009259  0.000000  0.000000  0.000000  0.000000   \n",
       "147  0.005995  0.000437  0.000000  0.001390  0.003390  0.000688  0.004602   \n",
       "148  0.000000  0.000000  0.000153  0.000000  0.017500  0.000000  0.000000   \n",
       "149  0.000000  0.000000  0.000000  0.000000  0.000000  0.000000  0.000000   \n",
       "\n",
       "          330       863       696  ...  267  114  034      673  447  600  653  \\\n",
       "0    0.000000  0.000140  0.000000  ...  0.0  0.0  0.0  0.00000  0.0  0.0  0.0   \n",
       "1    0.006725  0.033209  0.000000  ...  0.0  0.0  0.0  0.00000  0.0  0.0  0.0   \n",
       "2    0.023522  0.009621  0.000000  ...  0.0  0.0  0.0  0.00000  0.0  0.0  0.0   \n",
       "3    0.000794  0.003828  0.000000  ...  0.0  0.0  0.0  0.00000  0.0  0.0  0.0   \n",
       "4    0.108800  0.017449  0.000099  ...  0.0  0.0  0.0  0.00000  0.0  0.0  0.0   \n",
       "..        ...       ...       ...  ...  ...  ...  ...      ...  ...  ...  ...   \n",
       "145  0.016815  0.020695  0.000451  ...  0.0  0.0  0.0  0.00202  0.0  0.0  0.0   \n",
       "146  0.009656  0.001989  0.000000  ...  0.0  0.0  0.0  0.00000  0.0  0.0  0.0   \n",
       "147  0.010897  0.017072  0.000000  ...  0.0  0.0  0.0  0.00000  0.0  0.0  0.0   \n",
       "148  0.002273  0.001344  0.000000  ...  0.0  0.0  0.0  0.00000  0.0  0.0  0.0   \n",
       "149  0.000000  0.000000  0.000000  ...  0.0  0.0  0.0  0.00000  0.0  0.0  0.0   \n",
       "\n",
       "     263  091  586  \n",
       "0    0.0  0.0  0.0  \n",
       "1    0.0  0.0  0.0  \n",
       "2    0.0  0.0  0.0  \n",
       "3    0.0  0.0  0.0  \n",
       "4    0.0  0.0  0.0  \n",
       "..   ...  ...  ...  \n",
       "145  0.0  0.0  0.0  \n",
       "146  0.0  0.0  0.0  \n",
       "147  0.0  0.0  0.0  \n",
       "148  0.0  0.0  0.0  \n",
       "149  0.0  0.0  0.0  \n",
       "\n",
       "[150 rows x 756 columns]"
      ]
     },
     "execution_count": 56,
     "metadata": {},
     "output_type": "execute_result"
    }
   ],
   "source": [
    "centroids.columns = df[\"Signatura\"].unique()\n",
    "centroids"
   ]
  },
  {
   "cell_type": "code",
   "execution_count": 55,
   "metadata": {},
   "outputs": [],
   "source": [
    "centroids[centroids<1e-5] = 0"
   ]
  },
  {
   "cell_type": "markdown",
   "metadata": {
    "id": "UgFeX2R3mqvm"
   },
   "source": [
    "Finalmente exportamos las tablas para ser consumidas por los sistemas de recomedación junto al dashboard.\n",
    "* Grouped_temas = usuarios + cluster\n",
    "* temas_usuarios_cluster = joinTablas + cluster\n",
    "* Centroids_deweys = clusters + centroides"
   ]
  },
  {
   "cell_type": "code",
   "execution_count": 42,
   "metadata": {
    "executionInfo": {
     "elapsed": 153,
     "status": "ok",
     "timestamp": 1633070126479,
     "user": {
      "displayName": "juan sebastian angarita torres",
      "photoUrl": "https://lh3.googleusercontent.com/a-/AOh14GgjiV1o_Xb2Ov2kAJhpXcHsgVLy47m-BxyXrYYMfw=s64",
      "userId": "11476954540008106843"
     },
     "user_tz": 300
    },
    "id": "MWkXla0y39gU"
   },
   "outputs": [],
   "source": [
    "grouped.to_json('../../data/GruposDeweyUnidad/userCluster.json')"
   ]
  },
  {
   "cell_type": "code",
   "execution_count": 43,
   "metadata": {
    "executionInfo": {
     "elapsed": 4088,
     "status": "ok",
     "timestamp": 1633070131417,
     "user": {
      "displayName": "juan sebastian angarita torres",
      "photoUrl": "https://lh3.googleusercontent.com/a-/AOh14GgjiV1o_Xb2Ov2kAJhpXcHsgVLy47m-BxyXrYYMfw=s64",
      "userId": "11476954540008106843"
     },
     "user_tz": 300
    },
    "id": "LT135J0qmRCf"
   },
   "outputs": [],
   "source": [
    "temas_usuarios_cluster.to_json('../../data/GruposDeweyUnidad/joinCluster.json')"
   ]
  },
  {
   "cell_type": "code",
   "execution_count": 57,
   "metadata": {},
   "outputs": [],
   "source": [
    "centroids.to_json('../../data/GruposDeweyUnidad/centroids.json')"
   ]
  }
 ],
 "metadata": {
  "colab": {
   "authorship_tag": "ABX9TyNztQHG0jj/gFoWIJAPHqpN",
   "collapsed_sections": [],
   "name": "Clustering deweys.ipynb",
   "provenance": []
  },
  "kernelspec": {
   "display_name": "Python 3 (ipykernel)",
   "language": "python",
   "name": "python3"
  },
  "language_info": {
   "codemirror_mode": {
    "name": "ipython",
    "version": 3
   },
   "file_extension": ".py",
   "mimetype": "text/x-python",
   "name": "python",
   "nbconvert_exporter": "python",
   "pygments_lexer": "ipython3",
   "version": "3.8.11"
  }
 },
 "nbformat": 4,
 "nbformat_minor": 1
}
