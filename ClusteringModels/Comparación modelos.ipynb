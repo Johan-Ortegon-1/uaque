{
 "cells": [
  {
   "cell_type": "markdown",
   "metadata": {
    "id": "n9N_RVM75sY5"
   },
   "source": [
    "# **Smart-UJ UAQUE**\n",
    "# Comparación modelos de clustering\n",
    "\n",
    "Para el proyecto de grado UAQUE se buscó generar modelos de clustering con el fin de agrupar a los estudiantes y poder realizar recomendaciones grupales a cada uno de estos. \n",
    "\n",
    "**Descripción**: Este Notebook compara los mejores modelos de clustering creados a partir de tres algoritmos de clustering diferentes:\n",
    "* Kmeans\n",
    "* Aglomerativo\n",
    "* Birch\n",
    "* Hdbscan\n",
    "\n",
    "Para cada uno de estos modelos se crearon varios experimentos en busca de los mejores parámetros y configuración para cada uno de ellos, teniendo en cuenta no solo el Silhouette_score sino también la distribución de los clusters. \n",
    "\n",
    "En la primera parte del notebook se ejecutaran los notebooks con los mejores parámetros encontrados y en la segunda parte se realizará la comparación entre los resultados de estos. \n",
    "**Métricas:** Para cada uno de los modelos generados so obtendran los siguientes datos:\n",
    "* Técnica: Técnica usada para clustering\n",
    "* Norm_filas: indica si se normalizaron las filas.\n",
    "* PCA: Indica el número de componentes usado para PCA.\n",
    "* Silhouette_score: obtenido partir de \"silhouette_score\" de sklearn\n",
    "* Media: tamaño medio de los clusters.\n",
    "* Desviación_estandar: Desviación estandar del tamaño de los cluster.\n",
    "* Coeficiente_varación: División de la desviación estandar entre la media del tamaño de los clusters. \n",
    "* Num_clusters: indica el número de clusters generados.\n",
    "* Grupo_mas_grande: indica el tamaño del cluster más grande.\n",
    "* Grupos_tam_menor_10: Indica la cantidad de grupos con un tamaño menor a 10.\n",
    "* Grupos_tam_menor_20: Indica la cantidad de grupos con un tamaño menor a 20.\n",
    "* Tiempo_ejecucion: Tiempo de ejecución del algoritmo\n",
    "\n",
    "**Entrada:** \"pesos_usuario_x_dewey_unidad.json\"\n",
    "\n",
    "**Integrantes:**\n",
    "\n",
    "Johan Ortegón , Juan Angarita , Jorge Salgado , Daniel Tibaquira \n",
    "\n",
    "**Directora de Proyecto de Grado:** </br>\n",
    "Viky Arias </br>"
   ]
  },
  {
   "cell_type": "markdown",
   "metadata": {
    "id": "MDtfhJdTxrSe"
   },
   "source": [
    "# Importación de datos"
   ]
  },
  {
   "cell_type": "code",
   "execution_count": 4,
   "metadata": {
    "executionInfo": {
     "elapsed": 9,
     "status": "ok",
     "timestamp": 1631494504887,
     "user": {
      "displayName": "johan ortegon",
      "photoUrl": "https://lh3.googleusercontent.com/a-/AOh14GhyoUI6Ah-yOFqz-IfXRTyhXFoLINQxrmLLqz_oVw=s64",
      "userId": "10403633387864376724"
     },
     "user_tz": 300
    },
    "id": "lGqjhlajxyS0"
   },
   "outputs": [],
   "source": [
    "import pandas as pd\n",
    "import numpy as np\n",
    "from sklearn.cluster import KMeans\n",
    "from sklearn.preprocessing import StandardScaler\n",
    "from sklearn.metrics import silhouette_score\n",
    "from timeit import default_timer as timer\n",
    "from sklearn.decomposition import PCA\n",
    "import matplotlib.pyplot as plt"
   ]
  },
  {
   "cell_type": "code",
   "execution_count": 8,
   "metadata": {},
   "outputs": [],
   "source": [
    "#Tabla: pesos_usuarios\n",
    "    #Filas: usuarios\n",
    "    #columnas: deweysUnidad\n",
    "    #datos: pesos de usuario en cada dewey\n",
    "pesos_usuarios = pd.read_json('https://www.dropbox.com/s/ru2q7yutjr6u6yg/pesos_usuario_x_dewey_unidad.json?dl=1')"
   ]
  },
  {
   "cell_type": "code",
   "execution_count": 20,
   "metadata": {},
   "outputs": [
    {
     "data": {
      "text/html": [
       "<div>\n",
       "<style scoped>\n",
       "    .dataframe tbody tr th:only-of-type {\n",
       "        vertical-align: middle;\n",
       "    }\n",
       "\n",
       "    .dataframe tbody tr th {\n",
       "        vertical-align: top;\n",
       "    }\n",
       "\n",
       "    .dataframe thead th {\n",
       "        text-align: right;\n",
       "    }\n",
       "</style>\n",
       "<table border=\"1\" class=\"dataframe\">\n",
       "  <thead>\n",
       "    <tr style=\"text-align: right;\">\n",
       "      <th></th>\n",
       "      <th>720</th>\n",
       "      <th>540</th>\n",
       "      <th>512</th>\n",
       "      <th>712</th>\n",
       "      <th>741</th>\n",
       "      <th>814</th>\n",
       "      <th>823</th>\n",
       "      <th>330</th>\n",
       "      <th>863</th>\n",
       "      <th>696</th>\n",
       "      <th>...</th>\n",
       "      <th>267</th>\n",
       "      <th>114</th>\n",
       "      <th>34</th>\n",
       "      <th>673</th>\n",
       "      <th>447</th>\n",
       "      <th>600</th>\n",
       "      <th>653</th>\n",
       "      <th>263</th>\n",
       "      <th>91</th>\n",
       "      <th>586</th>\n",
       "    </tr>\n",
       "  </thead>\n",
       "  <tbody>\n",
       "    <tr>\n",
       "      <th>0</th>\n",
       "      <td>2.0</td>\n",
       "      <td>0.0</td>\n",
       "      <td>0.00</td>\n",
       "      <td>0.0</td>\n",
       "      <td>0.0</td>\n",
       "      <td>0.0</td>\n",
       "      <td>0.0</td>\n",
       "      <td>0.0</td>\n",
       "      <td>0.0</td>\n",
       "      <td>0.0</td>\n",
       "      <td>...</td>\n",
       "      <td>0.0</td>\n",
       "      <td>0.0</td>\n",
       "      <td>0.0</td>\n",
       "      <td>0.0</td>\n",
       "      <td>0.0</td>\n",
       "      <td>0.0</td>\n",
       "      <td>0.0</td>\n",
       "      <td>0.0</td>\n",
       "      <td>0.0</td>\n",
       "      <td>0.125</td>\n",
       "    </tr>\n",
       "    <tr>\n",
       "      <th>1</th>\n",
       "      <td>0.0</td>\n",
       "      <td>1.0</td>\n",
       "      <td>1.25</td>\n",
       "      <td>0.0</td>\n",
       "      <td>0.0</td>\n",
       "      <td>0.0</td>\n",
       "      <td>0.0</td>\n",
       "      <td>0.0</td>\n",
       "      <td>0.0</td>\n",
       "      <td>0.0</td>\n",
       "      <td>...</td>\n",
       "      <td>0.0</td>\n",
       "      <td>0.0</td>\n",
       "      <td>0.0</td>\n",
       "      <td>0.0</td>\n",
       "      <td>0.0</td>\n",
       "      <td>0.0</td>\n",
       "      <td>0.0</td>\n",
       "      <td>0.0</td>\n",
       "      <td>0.0</td>\n",
       "      <td>0.000</td>\n",
       "    </tr>\n",
       "    <tr>\n",
       "      <th>2</th>\n",
       "      <td>0.0</td>\n",
       "      <td>0.0</td>\n",
       "      <td>0.00</td>\n",
       "      <td>3.0</td>\n",
       "      <td>0.0</td>\n",
       "      <td>0.0</td>\n",
       "      <td>0.0</td>\n",
       "      <td>0.0</td>\n",
       "      <td>0.0</td>\n",
       "      <td>0.0</td>\n",
       "      <td>...</td>\n",
       "      <td>0.0</td>\n",
       "      <td>0.0</td>\n",
       "      <td>0.0</td>\n",
       "      <td>0.0</td>\n",
       "      <td>0.0</td>\n",
       "      <td>0.0</td>\n",
       "      <td>0.0</td>\n",
       "      <td>0.0</td>\n",
       "      <td>0.0</td>\n",
       "      <td>0.000</td>\n",
       "    </tr>\n",
       "  </tbody>\n",
       "</table>\n",
       "<p>3 rows × 755 columns</p>\n",
       "</div>"
      ],
      "text/plain": [
       "   720  540   512  712  741  814  823  330  863  696  ...  267  114  34   673  \\\n",
       "0  2.0  0.0  0.00  0.0  0.0  0.0  0.0  0.0  0.0  0.0  ...  0.0  0.0  0.0  0.0   \n",
       "1  0.0  1.0  1.25  0.0  0.0  0.0  0.0  0.0  0.0  0.0  ...  0.0  0.0  0.0  0.0   \n",
       "2  0.0  0.0  0.00  3.0  0.0  0.0  0.0  0.0  0.0  0.0  ...  0.0  0.0  0.0  0.0   \n",
       "\n",
       "   447  600  653  263  91     586  \n",
       "0  0.0  0.0  0.0  0.0  0.0  0.125  \n",
       "1  0.0  0.0  0.0  0.0  0.0  0.000  \n",
       "2  0.0  0.0  0.0  0.0  0.0  0.000  \n",
       "\n",
       "[3 rows x 755 columns]"
      ]
     },
     "metadata": {},
     "output_type": "display_data"
    },
    {
     "name": "stdout",
     "output_type": "stream",
     "text": [
      "(24407, 755)\n"
     ]
    }
   ],
   "source": [
    "display(pesos_usuarios.head(3))\n",
    "print(pesos_usuarios.shape)"
   ]
  },
  {
   "cell_type": "code",
   "execution_count": 92,
   "metadata": {},
   "outputs": [],
   "source": [
    "#Dataframe de resumen de los diferentes modelos\n",
    "resumen = pd.DataFrame(columns = [\"Tecnica\",\"PCA\", \"Norm_filas\", \"Silhouette_score\", \"Desviacion_estandar\", \"Media\", \"Coeficiente_variacion\", \"Clusters\",\"Grupo_mas_grande\", \"Grupos_tam_menor_10\", \"Grupos_tam_menor_20\", \"Tiempo_ejecucion\"])"
   ]
  },
  {
   "cell_type": "code",
   "execution_count": 20,
   "metadata": {},
   "outputs": [],
   "source": [
    "#Funcion que obtiene el tamaño promedio de los clusters\n",
    "def mean_cluster(data, labs):\n",
    "    sizes_labels = []\n",
    "    for label in np.unique(labs):\n",
    "        sizes_labels.append(len(data.loc[data[\"cluster\"] == label]))\n",
    "    \n",
    "    return np.mean(sizes_labels)"
   ]
  },
  {
   "cell_type": "code",
   "execution_count": 21,
   "metadata": {},
   "outputs": [],
   "source": [
    "#Funcion que obtiene la desviación estandar del tamaño de los clusters\n",
    "def std_dev_cluster(data, labs):\n",
    "    sizes_labels = []\n",
    "    for label in np.unique(labs):\n",
    "        sizes_labels.append(len(data.loc[data[\"cluster\"] == label]))\n",
    "    \n",
    "    return np.std(sizes_labels)"
   ]
  },
  {
   "cell_type": "markdown",
   "metadata": {},
   "source": [
    "# Kmeans\n",
    "https://scikit-learn.org/stable/modules/generated/sklearn.cluster.KMeans.html\n",
    "\n",
    "**Parámetros:**\n",
    "* PCA = 0.95\n",
    "* niter = 100\n",
    "* n_clusters = 150 | 500"
   ]
  },
  {
   "cell_type": "code",
   "execution_count": 39,
   "metadata": {},
   "outputs": [
    {
     "name": "stdout",
     "output_type": "stream",
     "text": [
      "Número de componentes:  244\n"
     ]
    }
   ],
   "source": [
    "clusters = 150\n",
    "##Exportamos los datos del modelo que nos dio mejores resultados\n",
    "#Normalización\n",
    "sumatoria = pesos_usuarios.sum(axis=1)\n",
    "pesos_norm = pesos_usuarios.div(sumatoria, axis=0).fillna(0)\n",
    "\n",
    "#PCA\n",
    "pca = PCA().fit(pesos_norm)\n",
    "pca = PCA(n_components=0.95)\n",
    "pesos_pca = pca.fit_transform(pesos_norm)\n",
    "print(\"Número de componentes: \",pca.n_components_)\n",
    "\n",
    "#Kmeans\n",
    "start = timer()\n",
    "k_means = KMeans(init = \"k-means++\", n_clusters = clusters, n_init = 100)\n",
    "k_means.fit_predict(pesos_pca)\n",
    "labels = k_means.labels_\n",
    "end = timer()"
   ]
  },
  {
   "cell_type": "code",
   "execution_count": 53,
   "metadata": {},
   "outputs": [
    {
     "name": "stdout",
     "output_type": "stream",
     "text": [
      "silhouette_score:  0.2638499786643676\n"
     ]
    },
    {
     "data": {
      "text/plain": [
       "<AxesSubplot:title={'center':'Número de usuarios por cluster'}, xlabel='Dewey', ylabel='Numero de usuarios'>"
      ]
     },
     "metadata": {},
     "output_type": "display_data"
    },
    {
     "data": {
      "image/png": "[encoded data removed]",
      "text/plain": [
       "<Figure size 1800x720 with 1 Axes>"
      ]
     },
     "metadata": {
      "needs_background": "light"
     },
     "output_type": "display_data"
    }
   ],
   "source": [
    "#Desempeño\n",
    "pres = silhouette_score(pesos_pca, labels)\n",
    "print(\"silhouette_score: \", pres)\n",
    "\n",
    "#copiamos el dataframe y agregamos los clusters para gráficar la distribución\n",
    "df2 = pesos_usuarios.copy()\n",
    "df2[\"cluster\"] = labels\n",
    "plt.figure(figsize=(25, 10))\n",
    "plt.title(\"Número de usuarios por cluster\")\n",
    "plt.xlabel(\"Dewey\")\n",
    "plt.ylabel(\"Numero de usuarios\")\n",
    "display(df2[\"cluster\"].value_counts().plot(kind='bar', x=\"Deweys\", y=\"Número de usuarios\"))\n",
    "\n",
    "#Cálculo de métricas\n",
    "media = mean_cluster(df2,labels)\n",
    "desviacion = std_dev_cluster(df2,labels)\n",
    "data = df2.groupby('cluster')[540].count()\n",
    "peque10 = len(data[data<=10])\n",
    "peque20 = len(data[data<=20])\n",
    "masGrande = data.max()\n",
    "\n",
    "#Agregamos los datos a nuestra tabla de resumen para comparar\n",
    "resumen = resumen.append({'Tecnica':\"K-MEANS\",\n",
    "                              'PCA':0.95,\n",
    "                              'Norm_filas':True,\n",
    "                              'Silhouette_score':pres,\n",
    "                              'Desviacion_estandar':desviacion,\n",
    "                              'Media':media,\n",
    "                              'Coeficiente_variacion':desviacion/media, \n",
    "                              'Clusters': clusters,\n",
    "                              \"Grupos_tam_menor_20\":peque20,\n",
    "                              \"Grupos_tam_menor_10\":peque10 , \n",
    "                              \"Grupo_mas_grande\":masGrande,\n",
    "                              \"Tiempo_ejecucion\":end-start}, ignore_index=True)"
   ]
  },
  {
   "cell_type": "code",
   "execution_count": 54,
   "metadata": {},
   "outputs": [
    {
     "data": {
      "text/html": [
       "<div>\n",
       "<style scoped>\n",
       "    .dataframe tbody tr th:only-of-type {\n",
       "        vertical-align: middle;\n",
       "    }\n",
       "\n",
       "    .dataframe tbody tr th {\n",
       "        vertical-align: top;\n",
       "    }\n",
       "\n",
       "    .dataframe thead th {\n",
       "        text-align: right;\n",
       "    }\n",
       "</style>\n",
       "<table border=\"1\" class=\"dataframe\">\n",
       "  <thead>\n",
       "    <tr style=\"text-align: right;\">\n",
       "      <th></th>\n",
       "      <th>Tecnica</th>\n",
       "      <th>PCA</th>\n",
       "      <th>Norm_filas</th>\n",
       "      <th>Silhouette_score</th>\n",
       "      <th>Desviacion_estandar</th>\n",
       "      <th>Media</th>\n",
       "      <th>Coeficiente_variacion</th>\n",
       "      <th>Clusters</th>\n",
       "      <th>Grupo_mas_grande</th>\n",
       "      <th>Grupos_tam_menor_10</th>\n",
       "      <th>Grupos_tam_menor_20</th>\n",
       "      <th>Tiempo_ejecucion</th>\n",
       "      <th>Norm_col</th>\n",
       "    </tr>\n",
       "  </thead>\n",
       "  <tbody>\n",
       "    <tr>\n",
       "      <th>0</th>\n",
       "      <td>Aglomerative</td>\n",
       "      <td>0</td>\n",
       "      <td>True</td>\n",
       "      <td>0.26385</td>\n",
       "      <td>444.128605</td>\n",
       "      <td>162.713333</td>\n",
       "      <td>2.729516</td>\n",
       "      <td>150</td>\n",
       "      <td>5357</td>\n",
       "      <td>0</td>\n",
       "      <td>9</td>\n",
       "      <td>163.828136</td>\n",
       "      <td>0.0</td>\n",
       "    </tr>\n",
       "    <tr>\n",
       "      <th>1</th>\n",
       "      <td>K-MEANS</td>\n",
       "      <td>0.95</td>\n",
       "      <td>True</td>\n",
       "      <td>0.26385</td>\n",
       "      <td>444.128605</td>\n",
       "      <td>162.713333</td>\n",
       "      <td>2.729516</td>\n",
       "      <td>150</td>\n",
       "      <td>5357</td>\n",
       "      <td>0</td>\n",
       "      <td>9</td>\n",
       "      <td>163.828136</td>\n",
       "      <td>NaN</td>\n",
       "    </tr>\n",
       "  </tbody>\n",
       "</table>\n",
       "</div>"
      ],
      "text/plain": [
       "        Tecnica   PCA Norm_filas  Silhouette_score  Desviacion_estandar  \\\n",
       "0  Aglomerative     0       True           0.26385           444.128605   \n",
       "1       K-MEANS  0.95       True           0.26385           444.128605   \n",
       "\n",
       "        Media  Coeficiente_variacion Clusters Grupo_mas_grande  \\\n",
       "0  162.713333               2.729516      150             5357   \n",
       "1  162.713333               2.729516      150             5357   \n",
       "\n",
       "  Grupos_tam_menor_10 Grupos_tam_menor_20  Tiempo_ejecucion  Norm_col  \n",
       "0                   0                   9        163.828136       0.0  \n",
       "1                   0                   9        163.828136       NaN  "
      ]
     },
     "execution_count": 54,
     "metadata": {},
     "output_type": "execute_result"
    }
   ],
   "source": [
    "resumen"
   ]
  },
  {
   "cell_type": "code",
   "execution_count": 42,
   "metadata": {},
   "outputs": [],
   "source": [
    "resumen.to_json(r'C:\\Users\\user\\Downloads\\Resultados_K_means.json')"
   ]
  },
  {
   "cell_type": "markdown",
   "metadata": {},
   "source": [
    "# Aglomerativo\n",
    "\n",
    "https://scikit-learn.org/stable/modules/generated/sklearn.cluster.AgglomerativeClustering.html\n",
    "\n",
    "**Parámetros:**\n",
    "* linkage = 'ward'\n",
    "* n_clusters = 150 | 500"
   ]
  },
  {
   "cell_type": "code",
   "execution_count": 45,
   "metadata": {},
   "outputs": [],
   "source": [
    "from sklearn.cluster import AgglomerativeClustering \n"
   ]
  },
  {
   "cell_type": "code",
   "execution_count": 79,
   "metadata": {},
   "outputs": [],
   "source": [
    "clusters = 150\n",
    "##Exportamos los datos del modelo que nos dio mejores resultados\n",
    "#Normalización\n",
    "sumatoria = pesos_usuarios.sum(axis=1)\n",
    "pesos_norm = pesos_usuarios.div(sumatoria, axis=0).fillna(0)\n",
    "\n",
    "#Aglomerative\n",
    "start = timer()\n",
    "agglom = AgglomerativeClustering(n_clusters = clusters, linkage = 'ward')\n",
    "agglom.fit_predict(pesos_norm)\n",
    "labels = agglom.labels_\n",
    "end = timer()"
   ]
  },
  {
   "cell_type": "code",
   "execution_count": 80,
   "metadata": {},
   "outputs": [
    {
     "name": "stdout",
     "output_type": "stream",
     "text": [
      "silhouette_score:  0.24670517599533404\n"
     ]
    },
    {
     "data": {
      "text/plain": [
       "<AxesSubplot:title={'center':'Número de usuarios por cluster'}, xlabel='Dewey', ylabel='Numero de usuarios'>"
      ]
     },
     "metadata": {},
     "output_type": "display_data"
    },
    {
     "data": {
      "image/png": "[encoded data removed]",
      "text/plain": [
       "<Figure size 1800x720 with 1 Axes>"
      ]
     },
     "metadata": {
      "needs_background": "light"
     },
     "output_type": "display_data"
    }
   ],
   "source": [
    "#Desempeño\n",
    "pres = silhouette_score(pesos_norm, labels)\n",
    "print(\"silhouette_score: \", pres)\n",
    "\n",
    "#copiamos el dataframe y agregamos los clusters para gráficar la distribución\n",
    "df2 = pesos_usuarios.copy()\n",
    "df2[\"cluster\"] = labels\n",
    "plt.figure(figsize=(25, 10))\n",
    "plt.title(\"Número de usuarios por cluster\")\n",
    "plt.xlabel(\"Dewey\")\n",
    "plt.ylabel(\"Numero de usuarios\")\n",
    "display(df2[\"cluster\"].value_counts().plot(kind='bar', x=\"Deweys\", y=\"Número de usuarios\"))\n",
    "\n",
    "#Cálculo de métricas\n",
    "media = mean_cluster(df2,labels)\n",
    "desviacion = std_dev_cluster(df2,labels)\n",
    "data = df2.groupby('cluster')[540].count()\n",
    "peque10 = len(data[data<=10])\n",
    "peque20 = len(data[data<=20])\n",
    "masGrande = data.max()\n",
    "\n",
    "#Agregamos los datos a nuestra tabla de resumen para comparar\n",
    "resumen = resumen.append({'Tecnica':\"Aglomerative\",\n",
    "                              'PCA':0,\n",
    "                              'Norm_filas':True,\n",
    "                              'Silhouette_score':pres,\n",
    "                              'Desviacion_estandar':desviacion,\n",
    "                              'Media':media,\n",
    "                              'Coeficiente_variacion':desviacion/media, \n",
    "                              'Clusters': clusters,\n",
    "                              \"Grupos_tam_menor_20\":peque20,\n",
    "                              \"Grupos_tam_menor_10\":peque10 , \n",
    "                              \"Grupo_mas_grande\":masGrande,\n",
    "                              \"Tiempo_ejecucion\":end-start}, ignore_index=True)"
   ]
  },
  {
   "cell_type": "code",
   "execution_count": 81,
   "metadata": {
    "scrolled": true
   },
   "outputs": [
    {
     "data": {
      "text/html": [
       "<div>\n",
       "<style scoped>\n",
       "    .dataframe tbody tr th:only-of-type {\n",
       "        vertical-align: middle;\n",
       "    }\n",
       "\n",
       "    .dataframe tbody tr th {\n",
       "        vertical-align: top;\n",
       "    }\n",
       "\n",
       "    .dataframe thead th {\n",
       "        text-align: right;\n",
       "    }\n",
       "</style>\n",
       "<table border=\"1\" class=\"dataframe\">\n",
       "  <thead>\n",
       "    <tr style=\"text-align: right;\">\n",
       "      <th></th>\n",
       "      <th>Tecnica</th>\n",
       "      <th>PCA</th>\n",
       "      <th>Norm_filas</th>\n",
       "      <th>Silhouette_score</th>\n",
       "      <th>Desviacion_estandar</th>\n",
       "      <th>Media</th>\n",
       "      <th>Coeficiente_variacion</th>\n",
       "      <th>Clusters</th>\n",
       "      <th>Grupo_mas_grande</th>\n",
       "      <th>Grupos_tam_menor_10</th>\n",
       "      <th>Grupos_tam_menor_20</th>\n",
       "      <th>Tiempo_ejecucion</th>\n",
       "    </tr>\n",
       "  </thead>\n",
       "  <tbody>\n",
       "    <tr>\n",
       "      <th>0</th>\n",
       "      <td>Aglomerative</td>\n",
       "      <td>0</td>\n",
       "      <td>True</td>\n",
       "      <td>0.290044</td>\n",
       "      <td>77.001035</td>\n",
       "      <td>48.814000</td>\n",
       "      <td>1.577438</td>\n",
       "      <td>500</td>\n",
       "      <td>1124</td>\n",
       "      <td>100</td>\n",
       "      <td>200</td>\n",
       "      <td>163.035421</td>\n",
       "    </tr>\n",
       "    <tr>\n",
       "      <th>1</th>\n",
       "      <td>Aglomerative</td>\n",
       "      <td>0</td>\n",
       "      <td>True</td>\n",
       "      <td>0.246705</td>\n",
       "      <td>444.128605</td>\n",
       "      <td>162.713333</td>\n",
       "      <td>2.729516</td>\n",
       "      <td>150</td>\n",
       "      <td>5357</td>\n",
       "      <td>0</td>\n",
       "      <td>9</td>\n",
       "      <td>162.922079</td>\n",
       "    </tr>\n",
       "  </tbody>\n",
       "</table>\n",
       "</div>"
      ],
      "text/plain": [
       "        Tecnica PCA Norm_filas  Silhouette_score  Desviacion_estandar  \\\n",
       "0  Aglomerative   0       True          0.290044            77.001035   \n",
       "1  Aglomerative   0       True          0.246705           444.128605   \n",
       "\n",
       "        Media  Coeficiente_variacion Clusters Grupo_mas_grande  \\\n",
       "0   48.814000               1.577438      500             1124   \n",
       "1  162.713333               2.729516      150             5357   \n",
       "\n",
       "  Grupos_tam_menor_10 Grupos_tam_menor_20  Tiempo_ejecucion  \n",
       "0                 100                 200        163.035421  \n",
       "1                   0                   9        162.922079  "
      ]
     },
     "execution_count": 81,
     "metadata": {},
     "output_type": "execute_result"
    }
   ],
   "source": [
    "resumen"
   ]
  },
  {
   "cell_type": "code",
   "execution_count": 82,
   "metadata": {},
   "outputs": [],
   "source": [
    "resumen.to_json(r'C:\\Users\\user\\Downloads\\Resultados_Aglomerative.json')"
   ]
  },
  {
   "cell_type": "markdown",
   "metadata": {},
   "source": [
    "# HDBSCAN\n",
    "\n",
    "https://hdbscan.readthedocs.io/en/latest/basic_hdbscan.html\n",
    "    \n",
    "**Parámetros:**\n",
    "* min_cluster_size = 10\n",
    "* min_samples = 2\n",
    "* n_clusters = 150 | 500"
   ]
  },
  {
   "cell_type": "code",
   "execution_count": 67,
   "metadata": {},
   "outputs": [],
   "source": [
    "import hdbscan\n"
   ]
  },
  {
   "cell_type": "code",
   "execution_count": 84,
   "metadata": {},
   "outputs": [
    {
     "name": "stdout",
     "output_type": "stream",
     "text": [
      "Número de componentes:  244\n"
     ]
    }
   ],
   "source": [
    "##Exportamos los datos del modelo que nos dio mejores resultados\n",
    "#Normalización\n",
    "sumatoria = pesos_usuarios.sum(axis=1)\n",
    "pesos_norm = pesos_usuarios.div(sumatoria, axis=0).fillna(0)\n",
    "\n",
    "#PCA\n",
    "pca = PCA().fit(pesos_norm)\n",
    "pca = PCA(n_components=0.95)\n",
    "pesos_pca = pca.fit_transform(pesos_norm)\n",
    "print(\"Número de componentes: \",pca.n_components_)\n",
    "\n",
    "#Aglomerative\n",
    "start = timer()\n",
    "clusterer = hdbscan.HDBSCAN(min_cluster_size=10,min_samples = 2).fit(pesos_pca)\n",
    "labels = clusterer.labels_\n",
    "end = timer()"
   ]
  },
  {
   "cell_type": "code",
   "execution_count": 85,
   "metadata": {},
   "outputs": [
    {
     "name": "stdout",
     "output_type": "stream",
     "text": [
      "silhouette_score:  0.0429005830592614\n"
     ]
    },
    {
     "data": {
      "text/plain": [
       "<AxesSubplot:title={'center':'Número de usuarios por cluster'}, xlabel='Dewey', ylabel='Numero de usuarios'>"
      ]
     },
     "metadata": {},
     "output_type": "display_data"
    },
    {
     "data": {
      "image/png": "[encoded data removed]",
      "text/plain": [
       "<Figure size 1800x720 with 1 Axes>"
      ]
     },
     "metadata": {
      "needs_background": "light"
     },
     "output_type": "display_data"
    }
   ],
   "source": [
    "#Desempeño\n",
    "pres = silhouette_score(pesos_pca, labels)\n",
    "print(\"silhouette_score: \", pres)\n",
    "\n",
    "#copiamos el dataframe y agregamos los clusters para gráficar la distribución\n",
    "df2 = pesos_usuarios.copy()\n",
    "df2[\"cluster\"] = labels\n",
    "plt.figure(figsize=(25, 10))\n",
    "plt.title(\"Número de usuarios por cluster\")\n",
    "plt.xlabel(\"Dewey\")\n",
    "plt.ylabel(\"Numero de usuarios\")\n",
    "display(df2[\"cluster\"].value_counts().plot(kind='bar', x=\"Deweys\", y=\"Número de usuarios\"))\n",
    "\n",
    "#Cálculo de métricas\n",
    "media = mean_cluster(df2,labels)\n",
    "desviacion = std_dev_cluster(df2,labels)\n",
    "data = df2.groupby('cluster')[540].count()\n",
    "peque10 = len(data[data<=10])\n",
    "peque20 = len(data[data<=20])\n",
    "masGrande = data.max()\n",
    "\n",
    "#Agregamos los datos a nuestra tabla de resumen para comparar\n",
    "resumen = resumen.append({'Tecnica':\"HDBSCAN\",\n",
    "                              'PCA':0.95,\n",
    "                              'Norm_filas':True,\n",
    "                              'Silhouette_score':pres,\n",
    "                              'Desviacion_estandar':desviacion,\n",
    "                              'Media':media,\n",
    "                              'Coeficiente_variacion':desviacion/media, \n",
    "                              'Clusters': max(labels),\n",
    "                              \"Grupos_tam_menor_20\":peque20,\n",
    "                              \"Grupos_tam_menor_10\":peque10 , \n",
    "                              \"Grupo_mas_grande\":masGrande,\n",
    "                              \"Tiempo_ejecucion\":end-start}, ignore_index=True)"
   ]
  },
  {
   "cell_type": "code",
   "execution_count": 86,
   "metadata": {},
   "outputs": [
    {
     "data": {
      "text/html": [
       "<div>\n",
       "<style scoped>\n",
       "    .dataframe tbody tr th:only-of-type {\n",
       "        vertical-align: middle;\n",
       "    }\n",
       "\n",
       "    .dataframe tbody tr th {\n",
       "        vertical-align: top;\n",
       "    }\n",
       "\n",
       "    .dataframe thead th {\n",
       "        text-align: right;\n",
       "    }\n",
       "</style>\n",
       "<table border=\"1\" class=\"dataframe\">\n",
       "  <thead>\n",
       "    <tr style=\"text-align: right;\">\n",
       "      <th></th>\n",
       "      <th>Tecnica</th>\n",
       "      <th>PCA</th>\n",
       "      <th>Norm_filas</th>\n",
       "      <th>Silhouette_score</th>\n",
       "      <th>Desviacion_estandar</th>\n",
       "      <th>Media</th>\n",
       "      <th>Coeficiente_variacion</th>\n",
       "      <th>Clusters</th>\n",
       "      <th>Grupo_mas_grande</th>\n",
       "      <th>Grupos_tam_menor_10</th>\n",
       "      <th>Grupos_tam_menor_20</th>\n",
       "      <th>Tiempo_ejecucion</th>\n",
       "    </tr>\n",
       "  </thead>\n",
       "  <tbody>\n",
       "    <tr>\n",
       "      <th>0</th>\n",
       "      <td>HDBSCAN</td>\n",
       "      <td>0.95</td>\n",
       "      <td>True</td>\n",
       "      <td>0.042901</td>\n",
       "      <td>913.453813</td>\n",
       "      <td>98.813765</td>\n",
       "      <td>9.244196</td>\n",
       "      <td>245</td>\n",
       "      <td>14384</td>\n",
       "      <td>27</td>\n",
       "      <td>132</td>\n",
       "      <td>108.225951</td>\n",
       "    </tr>\n",
       "  </tbody>\n",
       "</table>\n",
       "</div>"
      ],
      "text/plain": [
       "   Tecnica   PCA Norm_filas  Silhouette_score  Desviacion_estandar      Media  \\\n",
       "0  HDBSCAN  0.95       True          0.042901           913.453813  98.813765   \n",
       "\n",
       "   Coeficiente_variacion Clusters Grupo_mas_grande Grupos_tam_menor_10  \\\n",
       "0               9.244196      245            14384                  27   \n",
       "\n",
       "  Grupos_tam_menor_20  Tiempo_ejecucion  \n",
       "0                 132        108.225951  "
      ]
     },
     "execution_count": 86,
     "metadata": {},
     "output_type": "execute_result"
    }
   ],
   "source": [
    "resumen"
   ]
  },
  {
   "cell_type": "code",
   "execution_count": 87,
   "metadata": {},
   "outputs": [],
   "source": [
    "resumen.to_json(r'C:\\Users\\user\\Downloads\\Resultados_HDBSCAN.json')"
   ]
  },
  {
   "cell_type": "markdown",
   "metadata": {},
   "source": [
    "# BIRCH\n",
    "\n",
    "https://scikit-learn.org/stable/modules/generated/sklearn.cluster.Birch.html\n",
    "    \n",
    "**Parámetros:**\n",
    "* threshold = 0.45\n",
    "* branching_factor= 55\n",
    "* n_clusters = 150"
   ]
  },
  {
   "cell_type": "code",
   "execution_count": 89,
   "metadata": {},
   "outputs": [],
   "source": [
    "from sklearn.cluster import Birch"
   ]
  },
  {
   "cell_type": "code",
   "execution_count": 91,
   "metadata": {},
   "outputs": [
    {
     "name": "stdout",
     "output_type": "stream",
     "text": [
      "Número de componentes:  244\n"
     ]
    }
   ],
   "source": [
    "clusters = 150\n",
    "##Exportamos los datos del modelo que nos dio mejores resultados\n",
    "#Normalización\n",
    "sumatoria = pesos_usuarios.sum(axis=1)\n",
    "pesos_norm = pesos_usuarios.div(sumatoria, axis=0).fillna(0)\n",
    "\n",
    "#PCA\n",
    "pca = PCA().fit(pesos_norm)\n",
    "pca = PCA(n_components=0.95)\n",
    "pesos_pca = pca.fit_transform(pesos_norm)\n",
    "print(\"Número de componentes: \",pca.n_components_)\n",
    "\n",
    "#BIRCH\n",
    "start = timer()\n",
    "brc = Birch(n_clusters=clusters,threshold = 0.45,branching_factor= 55)\n",
    "brc.fit_predict(pesos_pca)\n",
    "labels = brc.labels_\n",
    "end = timer()"
   ]
  },
  {
   "cell_type": "code",
   "execution_count": 94,
   "metadata": {},
   "outputs": [
    {
     "name": "stdout",
     "output_type": "stream",
     "text": [
      "silhouette_score:  0.16922308044998444\n"
     ]
    },
    {
     "data": {
      "text/plain": [
       "<AxesSubplot:title={'center':'Número de usuarios por cluster'}, xlabel='Dewey', ylabel='Numero de usuarios'>"
      ]
     },
     "metadata": {},
     "output_type": "display_data"
    },
    {
     "data": {
      "image/png": "[encoded data removed]",
      "text/plain": [
       "<Figure size 1800x720 with 1 Axes>"
      ]
     },
     "metadata": {
      "needs_background": "light"
     },
     "output_type": "display_data"
    }
   ],
   "source": [
    "#Desempeño\n",
    "pres = silhouette_score(pesos_pca, labels)\n",
    "print(\"silhouette_score: \", pres)\n",
    "\n",
    "#copiamos el dataframe y agregamos los clusters para gráficar la distribución\n",
    "df2 = pesos_usuarios.copy()\n",
    "df2[\"cluster\"] = labels\n",
    "plt.figure(figsize=(25, 10))\n",
    "plt.title(\"Número de usuarios por cluster\")\n",
    "plt.xlabel(\"Dewey\")\n",
    "plt.ylabel(\"Numero de usuarios\")\n",
    "display(df2[\"cluster\"].value_counts().plot(kind='bar', x=\"Deweys\", y=\"Número de usuarios\"))\n",
    "\n",
    "#Cálculo de métricas\n",
    "media = mean_cluster(df2,labels)\n",
    "desviacion = std_dev_cluster(df2,labels)\n",
    "data = df2.groupby('cluster')[540].count()\n",
    "peque10 = len(data[data<=10])\n",
    "peque20 = len(data[data<=20])\n",
    "masGrande = data.max()\n",
    "\n",
    "#Agregamos los datos a nuestra tabla de resumen para comparar\n",
    "resumen = resumen.append({'Tecnica':\"BIRCH\",\n",
    "                              'PCA':0.95,\n",
    "                              'Norm_filas':True,\n",
    "                              'Silhouette_score':pres,\n",
    "                              'Desviacion_estandar':desviacion,\n",
    "                              'Media':media,\n",
    "                              'Coeficiente_variacion':desviacion/media, \n",
    "                              'Clusters': max(labels),\n",
    "                              \"Grupos_tam_menor_20\":peque20,\n",
    "                              \"Grupos_tam_menor_10\":peque10 , \n",
    "                              \"Grupo_mas_grande\":masGrande,\n",
    "                               \"Tiempo_ejecucion\":end-start}, ignore_index=True)"
   ]
  },
  {
   "cell_type": "code",
   "execution_count": 95,
   "metadata": {},
   "outputs": [
    {
     "data": {
      "text/html": [
       "<div>\n",
       "<style scoped>\n",
       "    .dataframe tbody tr th:only-of-type {\n",
       "        vertical-align: middle;\n",
       "    }\n",
       "\n",
       "    .dataframe tbody tr th {\n",
       "        vertical-align: top;\n",
       "    }\n",
       "\n",
       "    .dataframe thead th {\n",
       "        text-align: right;\n",
       "    }\n",
       "</style>\n",
       "<table border=\"1\" class=\"dataframe\">\n",
       "  <thead>\n",
       "    <tr style=\"text-align: right;\">\n",
       "      <th></th>\n",
       "      <th>Tecnica</th>\n",
       "      <th>PCA</th>\n",
       "      <th>Norm_filas</th>\n",
       "      <th>Silhouette_score</th>\n",
       "      <th>Desviacion_estandar</th>\n",
       "      <th>Media</th>\n",
       "      <th>Coeficiente_variacion</th>\n",
       "      <th>Clusters</th>\n",
       "      <th>Grupo_mas_grande</th>\n",
       "      <th>Grupos_tam_menor_10</th>\n",
       "      <th>Grupos_tam_menor_20</th>\n",
       "      <th>Tiempo_ejecucion</th>\n",
       "    </tr>\n",
       "  </thead>\n",
       "  <tbody>\n",
       "    <tr>\n",
       "      <th>0</th>\n",
       "      <td>BIRCH</td>\n",
       "      <td>0.95</td>\n",
       "      <td>True</td>\n",
       "      <td>0.169223</td>\n",
       "      <td>1235.744652</td>\n",
       "      <td>162.713333</td>\n",
       "      <td>7.594612</td>\n",
       "      <td>149</td>\n",
       "      <td>15210</td>\n",
       "      <td>18</td>\n",
       "      <td>57</td>\n",
       "      <td>1.048181</td>\n",
       "    </tr>\n",
       "  </tbody>\n",
       "</table>\n",
       "</div>"
      ],
      "text/plain": [
       "  Tecnica   PCA Norm_filas  Silhouette_score  Desviacion_estandar       Media  \\\n",
       "0   BIRCH  0.95       True          0.169223          1235.744652  162.713333   \n",
       "\n",
       "   Coeficiente_variacion Clusters Grupo_mas_grande Grupos_tam_menor_10  \\\n",
       "0               7.594612      149            15210                  18   \n",
       "\n",
       "  Grupos_tam_menor_20  Tiempo_ejecucion  \n",
       "0                  57          1.048181  "
      ]
     },
     "execution_count": 95,
     "metadata": {},
     "output_type": "execute_result"
    }
   ],
   "source": [
    "resumen"
   ]
  },
  {
   "cell_type": "code",
   "execution_count": 96,
   "metadata": {},
   "outputs": [],
   "source": [
    "resumen.to_json(r'C:\\Users\\user\\Downloads\\Resultados_BIRCH.json')"
   ]
  },
  {
   "cell_type": "markdown",
   "metadata": {
    "id": "oXh0GKkbynDH"
   },
   "source": [
    "# Join modelos"
   ]
  },
  {
   "cell_type": "code",
   "execution_count": 5,
   "metadata": {
    "executionInfo": {
     "elapsed": 197,
     "status": "ok",
     "timestamp": 1631494506122,
     "user": {
      "displayName": "johan ortegon",
      "photoUrl": "https://lh3.googleusercontent.com/a-/AOh14GhyoUI6Ah-yOFqz-IfXRTyhXFoLINQxrmLLqz_oVw=s64",
      "userId": "10403633387864376724"
     },
     "user_tz": 300
    },
    "id": "tMeaBgySyICy"
   },
   "outputs": [],
   "source": [
    "df_aglomerative = pd.read_json('https://www.dropbox.com/s/3rs65ude4imxgdz/Resultados_Aglomerative.json?dl=1')\n"
   ]
  },
  {
   "cell_type": "code",
   "execution_count": 6,
   "metadata": {
    "executionInfo": {
     "elapsed": 7,
     "status": "ok",
     "timestamp": 1631494506124,
     "user": {
      "displayName": "johan ortegon",
      "photoUrl": "https://lh3.googleusercontent.com/a-/AOh14GhyoUI6Ah-yOFqz-IfXRTyhXFoLINQxrmLLqz_oVw=s64",
      "userId": "10403633387864376724"
     },
     "user_tz": 300
    },
    "id": "5SqFg4H-yXCH"
   },
   "outputs": [],
   "source": [
    "df_birch = pd.read_json('https://www.dropbox.com/s/t1er6uysy6byu2w/Resultados_BIRCH.json?dl=1')\n"
   ]
  },
  {
   "cell_type": "code",
   "execution_count": 7,
   "metadata": {
    "executionInfo": {
     "elapsed": 1048,
     "status": "ok",
     "timestamp": 1631494505929,
     "user": {
      "displayName": "johan ortegon",
      "photoUrl": "https://lh3.googleusercontent.com/a-/AOh14GhyoUI6Ah-yOFqz-IfXRTyhXFoLINQxrmLLqz_oVw=s64",
      "userId": "10403633387864376724"
     },
     "user_tz": 300
    },
    "id": "J4iwk4Klxzei"
   },
   "outputs": [],
   "source": [
    "df_kmeans = pd.read_json('https://www.dropbox.com/s/4w3o5hl0mh541zx/Resultados_K_means.json?dl=1')\n"
   ]
  },
  {
   "cell_type": "code",
   "execution_count": 8,
   "metadata": {},
   "outputs": [],
   "source": [
    "df_hdbscan = pd.read_json('https://www.dropbox.com/s/xzbqbpriylp3ain/Resultados_HDBSCAN.json?dl=1')\n"
   ]
  },
  {
   "cell_type": "code",
   "execution_count": 102,
   "metadata": {
    "colab": {
     "base_uri": "https://localhost:8080/",
     "height": 520
    },
    "executionInfo": {
     "elapsed": 58,
     "status": "ok",
     "timestamp": 1631494506412,
     "user": {
      "displayName": "johan ortegon",
      "photoUrl": "https://lh3.googleusercontent.com/a-/AOh14GhyoUI6Ah-yOFqz-IfXRTyhXFoLINQxrmLLqz_oVw=s64",
      "userId": "10403633387864376724"
     },
     "user_tz": 300
    },
    "id": "mLVZvPzcymtV",
    "outputId": "d07cd4da-df90-413d-bf45-264a4e9cf776"
   },
   "outputs": [
    {
     "data": {
      "text/html": [
       "<div>\n",
       "<style scoped>\n",
       "    .dataframe tbody tr th:only-of-type {\n",
       "        vertical-align: middle;\n",
       "    }\n",
       "\n",
       "    .dataframe tbody tr th {\n",
       "        vertical-align: top;\n",
       "    }\n",
       "\n",
       "    .dataframe thead th {\n",
       "        text-align: right;\n",
       "    }\n",
       "</style>\n",
       "<table border=\"1\" class=\"dataframe\">\n",
       "  <thead>\n",
       "    <tr style=\"text-align: right;\">\n",
       "      <th></th>\n",
       "      <th>Tecnica</th>\n",
       "      <th>PCA</th>\n",
       "      <th>Norm_filas</th>\n",
       "      <th>Silhouette_score</th>\n",
       "      <th>Desviacion_estandar</th>\n",
       "      <th>Media</th>\n",
       "      <th>Coeficiente_variacion</th>\n",
       "      <th>Clusters</th>\n",
       "      <th>Grupo_mas_grande</th>\n",
       "      <th>Grupos_tam_menor_10</th>\n",
       "      <th>Grupos_tam_menor_20</th>\n",
       "      <th>Tiempo_ejecucion</th>\n",
       "      <th>Norm_col</th>\n",
       "    </tr>\n",
       "  </thead>\n",
       "  <tbody>\n",
       "    <tr>\n",
       "      <th>0</th>\n",
       "      <td>K-MEANS</td>\n",
       "      <td>0.95</td>\n",
       "      <td>True</td>\n",
       "      <td>0.330246</td>\n",
       "      <td>75.859709</td>\n",
       "      <td>48.814000</td>\n",
       "      <td>1.554056</td>\n",
       "      <td>500</td>\n",
       "      <td>1091</td>\n",
       "      <td>69</td>\n",
       "      <td>191</td>\n",
       "      <td>687.520126</td>\n",
       "      <td>0.0</td>\n",
       "    </tr>\n",
       "    <tr>\n",
       "      <th>1</th>\n",
       "      <td>K-MEANS</td>\n",
       "      <td>0.95</td>\n",
       "      <td>True</td>\n",
       "      <td>0.286770</td>\n",
       "      <td>390.065693</td>\n",
       "      <td>162.713333</td>\n",
       "      <td>2.397257</td>\n",
       "      <td>150</td>\n",
       "      <td>4627</td>\n",
       "      <td>0</td>\n",
       "      <td>7</td>\n",
       "      <td>238.869326</td>\n",
       "      <td>0.0</td>\n",
       "    </tr>\n",
       "    <tr>\n",
       "      <th>0</th>\n",
       "      <td>Aglomerative</td>\n",
       "      <td>0.00</td>\n",
       "      <td>True</td>\n",
       "      <td>0.290044</td>\n",
       "      <td>77.001035</td>\n",
       "      <td>48.814000</td>\n",
       "      <td>1.577438</td>\n",
       "      <td>500</td>\n",
       "      <td>1124</td>\n",
       "      <td>100</td>\n",
       "      <td>200</td>\n",
       "      <td>163.035421</td>\n",
       "      <td>NaN</td>\n",
       "    </tr>\n",
       "    <tr>\n",
       "      <th>1</th>\n",
       "      <td>Aglomerative</td>\n",
       "      <td>0.00</td>\n",
       "      <td>True</td>\n",
       "      <td>0.246705</td>\n",
       "      <td>444.128605</td>\n",
       "      <td>162.713333</td>\n",
       "      <td>2.729516</td>\n",
       "      <td>150</td>\n",
       "      <td>5357</td>\n",
       "      <td>0</td>\n",
       "      <td>9</td>\n",
       "      <td>162.922079</td>\n",
       "      <td>NaN</td>\n",
       "    </tr>\n",
       "    <tr>\n",
       "      <th>0</th>\n",
       "      <td>BIRCH</td>\n",
       "      <td>0.95</td>\n",
       "      <td>True</td>\n",
       "      <td>0.169223</td>\n",
       "      <td>1235.744652</td>\n",
       "      <td>162.713333</td>\n",
       "      <td>7.594612</td>\n",
       "      <td>149</td>\n",
       "      <td>15210</td>\n",
       "      <td>18</td>\n",
       "      <td>57</td>\n",
       "      <td>1.048181</td>\n",
       "      <td>NaN</td>\n",
       "    </tr>\n",
       "    <tr>\n",
       "      <th>0</th>\n",
       "      <td>HDBSCAN</td>\n",
       "      <td>0.95</td>\n",
       "      <td>True</td>\n",
       "      <td>0.042901</td>\n",
       "      <td>913.453813</td>\n",
       "      <td>98.813765</td>\n",
       "      <td>9.244196</td>\n",
       "      <td>245</td>\n",
       "      <td>14384</td>\n",
       "      <td>27</td>\n",
       "      <td>132</td>\n",
       "      <td>108.225950</td>\n",
       "      <td>NaN</td>\n",
       "    </tr>\n",
       "  </tbody>\n",
       "</table>\n",
       "</div>"
      ],
      "text/plain": [
       "        Tecnica   PCA  Norm_filas  Silhouette_score  Desviacion_estandar  \\\n",
       "0       K-MEANS  0.95        True          0.330246            75.859709   \n",
       "1       K-MEANS  0.95        True          0.286770           390.065693   \n",
       "0  Aglomerative  0.00        True          0.290044            77.001035   \n",
       "1  Aglomerative  0.00        True          0.246705           444.128605   \n",
       "0         BIRCH  0.95        True          0.169223          1235.744652   \n",
       "0       HDBSCAN  0.95        True          0.042901           913.453813   \n",
       "\n",
       "        Media  Coeficiente_variacion  Clusters  Grupo_mas_grande  \\\n",
       "0   48.814000               1.554056       500              1091   \n",
       "1  162.713333               2.397257       150              4627   \n",
       "0   48.814000               1.577438       500              1124   \n",
       "1  162.713333               2.729516       150              5357   \n",
       "0  162.713333               7.594612       149             15210   \n",
       "0   98.813765               9.244196       245             14384   \n",
       "\n",
       "   Grupos_tam_menor_10  Grupos_tam_menor_20  Tiempo_ejecucion  Norm_col  \n",
       "0                   69                  191        687.520126       0.0  \n",
       "1                    0                    7        238.869326       0.0  \n",
       "0                  100                  200        163.035421       NaN  \n",
       "1                    0                    9        162.922079       NaN  \n",
       "0                   18                   57          1.048181       NaN  \n",
       "0                   27                  132        108.225950       NaN  "
      ]
     },
     "execution_count": 102,
     "metadata": {},
     "output_type": "execute_result"
    }
   ],
   "source": [
    "frames = [df_kmeans, df_aglomerative, df_birch, df_hdbscan]\n",
    "df = pd.concat(frames)\n",
    "df.shape\n",
    "df.head(15)"
   ]
  },
  {
   "cell_type": "markdown",
   "metadata": {},
   "source": [
    "Exportamos todas las métricas y resumenes de los modelos."
   ]
  },
  {
   "cell_type": "code",
   "execution_count": 104,
   "metadata": {},
   "outputs": [],
   "source": [
    "df.to_excel(r'C:\\Users\\user\\Downloads\\Resultados_Modelos.xlsx')"
   ]
  },
  {
   "cell_type": "markdown",
   "metadata": {},
   "source": [
    "# Comparación modelos"
   ]
  },
  {
   "cell_type": "code",
   "execution_count": null,
   "metadata": {},
   "outputs": [],
   "source": []
  },
  {
   "cell_type": "markdown",
   "metadata": {},
   "source": [
    "# Dewey Unidad vs Dewey Decena vs Palabras Claves"
   ]
  },
  {
   "cell_type": "code",
   "execution_count": 9,
   "metadata": {},
   "outputs": [],
   "source": [
    "#Tabla: pesos_usuarios\n",
    "    #Filas: usuarios\n",
    "    #columnas: deweysUnidad\n",
    "    #datos: pesos de usuario en cada dewey(hasta la unidad o hasta la decena)\n",
    "dewey_unidad = pd.read_json('https://www.dropbox.com/s/ru2q7yutjr6u6yg/pesos_usuario_x_dewey_unidad.json?dl=1')\n",
    "dewey_decena = pd.read_json('https://www.dropbox.com/s/44s6w3p2ox5v1c7/pesos_usuario_x_dewey_decena.json?dl=1')"
   ]
  },
  {
   "cell_type": "code",
   "execution_count": 11,
   "metadata": {
    "executionInfo": {
     "elapsed": 32,
     "status": "ok",
     "timestamp": 1631494506416,
     "user": {
      "displayName": "johan ortegon",
      "photoUrl": "https://lh3.googleusercontent.com/a-/AOh14GhyoUI6Ah-yOFqz-IfXRTyhXFoLINQxrmLLqz_oVw=s64",
      "userId": "10403633387864376724"
     },
     "user_tz": 300
    },
    "id": "FlKickjjz9Hs"
   },
   "outputs": [],
   "source": [
    "#Tabla: joinTablas\n",
    "    #La columna unión contiene palabras claves para cada material de la biblioteca. \n",
    "join_tabla = pd.read_json('https://www.dropbox.com/s/i1komhf7u1c4y95/joinTablas.json?dl=1')"
   ]
  },
  {
   "cell_type": "code",
   "execution_count": 13,
   "metadata": {},
   "outputs": [],
   "source": [
    "grouped = join_tabla.groupby(\"IDUsuario\").agg({'Union': lambda x: ' '.join(x)})"
   ]
  },
  {
   "cell_type": "code",
   "execution_count": 15,
   "metadata": {},
   "outputs": [
    {
     "data": {
      "text/html": [
       "<div>\n",
       "<style scoped>\n",
       "    .dataframe tbody tr th:only-of-type {\n",
       "        vertical-align: middle;\n",
       "    }\n",
       "\n",
       "    .dataframe tbody tr th {\n",
       "        vertical-align: top;\n",
       "    }\n",
       "\n",
       "    .dataframe thead th {\n",
       "        text-align: right;\n",
       "    }\n",
       "</style>\n",
       "<table border=\"1\" class=\"dataframe\">\n",
       "  <thead>\n",
       "    <tr style=\"text-align: right;\">\n",
       "      <th></th>\n",
       "      <th>aac</th>\n",
       "      <th>aafric</th>\n",
       "      <th>aalgebr</th>\n",
       "      <th>aandin</th>\n",
       "      <th>aar</th>\n",
       "      <th>abandon</th>\n",
       "      <th>abastec</th>\n",
       "      <th>abdom</th>\n",
       "      <th>abej</th>\n",
       "      <th>abelian</th>\n",
       "      <th>...</th>\n",
       "      <th>zodiac</th>\n",
       "      <th>zombis</th>\n",
       "      <th>zombism</th>\n",
       "      <th>zon</th>\n",
       "      <th>zoolog</th>\n",
       "      <th>zoologi</th>\n",
       "      <th>zoonosis</th>\n",
       "      <th>zootecni</th>\n",
       "      <th>zost</th>\n",
       "      <th>zuli</th>\n",
       "    </tr>\n",
       "  </thead>\n",
       "  <tbody>\n",
       "    <tr>\n",
       "      <th>0</th>\n",
       "      <td>0</td>\n",
       "      <td>0</td>\n",
       "      <td>0</td>\n",
       "      <td>0</td>\n",
       "      <td>0</td>\n",
       "      <td>0</td>\n",
       "      <td>0</td>\n",
       "      <td>0</td>\n",
       "      <td>0</td>\n",
       "      <td>0</td>\n",
       "      <td>...</td>\n",
       "      <td>0</td>\n",
       "      <td>0</td>\n",
       "      <td>0</td>\n",
       "      <td>0</td>\n",
       "      <td>0</td>\n",
       "      <td>0</td>\n",
       "      <td>0</td>\n",
       "      <td>0</td>\n",
       "      <td>0</td>\n",
       "      <td>0</td>\n",
       "    </tr>\n",
       "    <tr>\n",
       "      <th>1</th>\n",
       "      <td>0</td>\n",
       "      <td>0</td>\n",
       "      <td>0</td>\n",
       "      <td>0</td>\n",
       "      <td>0</td>\n",
       "      <td>0</td>\n",
       "      <td>0</td>\n",
       "      <td>0</td>\n",
       "      <td>0</td>\n",
       "      <td>0</td>\n",
       "      <td>...</td>\n",
       "      <td>0</td>\n",
       "      <td>0</td>\n",
       "      <td>0</td>\n",
       "      <td>0</td>\n",
       "      <td>0</td>\n",
       "      <td>0</td>\n",
       "      <td>0</td>\n",
       "      <td>0</td>\n",
       "      <td>0</td>\n",
       "      <td>0</td>\n",
       "    </tr>\n",
       "    <tr>\n",
       "      <th>2</th>\n",
       "      <td>0</td>\n",
       "      <td>0</td>\n",
       "      <td>0</td>\n",
       "      <td>0</td>\n",
       "      <td>0</td>\n",
       "      <td>0</td>\n",
       "      <td>0</td>\n",
       "      <td>0</td>\n",
       "      <td>0</td>\n",
       "      <td>0</td>\n",
       "      <td>...</td>\n",
       "      <td>0</td>\n",
       "      <td>0</td>\n",
       "      <td>0</td>\n",
       "      <td>0</td>\n",
       "      <td>0</td>\n",
       "      <td>0</td>\n",
       "      <td>0</td>\n",
       "      <td>0</td>\n",
       "      <td>0</td>\n",
       "      <td>0</td>\n",
       "    </tr>\n",
       "  </tbody>\n",
       "</table>\n",
       "<p>3 rows × 5272 columns</p>\n",
       "</div>"
      ],
      "text/plain": [
       "   aac  aafric  aalgebr  aandin  aar  abandon  abastec  abdom  abej  abelian  \\\n",
       "0    0       0        0       0    0        0        0      0     0        0   \n",
       "1    0       0        0       0    0        0        0      0     0        0   \n",
       "2    0       0        0       0    0        0        0      0     0        0   \n",
       "\n",
       "   ...  zodiac  zombis  zombism  zon  zoolog  zoologi  zoonosis  zootecni  \\\n",
       "0  ...       0       0        0    0       0        0         0         0   \n",
       "1  ...       0       0        0    0       0        0         0         0   \n",
       "2  ...       0       0        0    0       0        0         0         0   \n",
       "\n",
       "   zost  zuli  \n",
       "0     0     0  \n",
       "1     0     0  \n",
       "2     0     0  \n",
       "\n",
       "[3 rows x 5272 columns]"
      ]
     },
     "metadata": {},
     "output_type": "display_data"
    },
    {
     "name": "stdout",
     "output_type": "stream",
     "text": [
      "(24407, 5272)\n"
     ]
    }
   ],
   "source": [
    "#Crearemos una matriz con bag of words a partir de las palabras que están en la columna union.\n",
    "from sklearn.feature_extraction.text import TfidfVectorizer, CountVectorizer\n",
    "vectorizador1 = CountVectorizer(analyzer = \"word\" )\n",
    "# Acá está la documentación https://scikit-learn.org/stable/modules/generated/sklearn.feature_extraction.text.CountVectorizer.html#sklearn.feature_extraction.text.CountVectorizer\n",
    "matrizCountVectorizer = vectorizador1.fit_transform(grouped['Union'])\n",
    "type(matrizCountVectorizer)\n",
    "\n",
    "# Ahora veremos el resultado generando un dataframe a partir del conteo\n",
    "count_array = matrizCountVectorizer.toarray()\n",
    "dfCount = pd.DataFrame(data = count_array, columns = vectorizador1.get_feature_names())\n",
    "final = dfCount\n",
    "display(final.head(3))\n",
    "print(final.shape)"
   ]
  },
  {
   "cell_type": "code",
   "execution_count": 22,
   "metadata": {},
   "outputs": [],
   "source": [
    "#Dataframe de resumen de los diferentes modelos\n",
    "resumen = pd.DataFrame(columns = [\"Tecnica\",\"Entrada\",\"PCA\", \"Norm_filas\", \"Silhouette_score\", \"Desviacion_estandar\", \"Coeficiente_variacion\", \"Clusters\",\"Grupo_mas_grande\", \"Grupos_tam_menor_10\", \"Grupos_tam_menor_20\", \"Tiempo_ejecucion\"])"
   ]
  },
  {
   "cell_type": "code",
   "execution_count": 30,
   "metadata": {},
   "outputs": [
    {
     "name": "stdout",
     "output_type": "stream",
     "text": [
      "Número de componentes:  244\n"
     ]
    }
   ],
   "source": [
    "clusters = 150\n",
    "##Exportamos los datos del modelo que nos dio mejores resultados\n",
    "#Normalización\n",
    "sumatoria = dewey_unidad.sum(axis=1)\n",
    "pesos_norm = dewey_unidad.div(sumatoria, axis=0).fillna(0)\n",
    "\n",
    "#PCA\n",
    "pca = PCA().fit(pesos_norm)\n",
    "pca = PCA(n_components=0.95)\n",
    "pesos_pca = pca.fit_transform(pesos_norm)\n",
    "print(\"Número de componentes: \",pca.n_components_)\n",
    "\n",
    "#Kmeans\n",
    "start = timer()\n",
    "k_means = KMeans(init = \"k-means++\", n_clusters = clusters, n_init = 100)\n",
    "k_means.fit_predict(pesos_pca)\n",
    "labels = k_means.labels_\n",
    "end = timer()"
   ]
  },
  {
   "cell_type": "code",
   "execution_count": 31,
   "metadata": {},
   "outputs": [
    {
     "name": "stdout",
     "output_type": "stream",
     "text": [
      "silhouette_score:  0.28677102515865094\n"
     ]
    },
    {
     "data": {
      "text/plain": [
       "<AxesSubplot:title={'center':'Número de usuarios por cluster'}, xlabel='Dewey', ylabel='Numero de usuarios'>"
      ]
     },
     "metadata": {},
     "output_type": "display_data"
    },
    {
     "data": {
      "image/png": "[encoded data removed]",
      "text/plain": [
       "<Figure size 1800x720 with 1 Axes>"
      ]
     },
     "metadata": {
      "needs_background": "light"
     },
     "output_type": "display_data"
    }
   ],
   "source": [
    "#Desempeño\n",
    "pres = silhouette_score(pesos_pca, labels)\n",
    "print(\"silhouette_score: \", pres)\n",
    "\n",
    "#copiamos el dataframe y agregamos los clusters para gráficar la distribución\n",
    "df2 = dewey_unidad.copy()\n",
    "df2[\"cluster\"] = labels\n",
    "plt.figure(figsize=(25, 10))\n",
    "plt.title(\"Número de usuarios por cluster\")\n",
    "plt.xlabel(\"Dewey\")\n",
    "plt.ylabel(\"Numero de usuarios\")\n",
    "display(df2[\"cluster\"].value_counts().plot(kind='bar', x=\"Deweys\", y=\"Número de usuarios\"))\n",
    "\n",
    "#Cálculo de métricas\n",
    "media = mean_cluster(df2,labels)\n",
    "desviacion = std_dev_cluster(df2,labels)\n",
    "data = df2.groupby('cluster')[720].count()\n",
    "peque10 = len(data[data<=10])\n",
    "peque20 = len(data[data<=20])\n",
    "masGrande = data.max()\n",
    "\n",
    "#Agregamos los datos a nuestra tabla de resumen para comparar\n",
    "resumen = resumen.append({'Tecnica':\"K-MEANS\",\n",
    "                          'Entrada': \"Dewey unidad\",\n",
    "                              'PCA':0.95,\n",
    "                              'Norm_filas':True,\n",
    "                              'Silhouette_score':pres,\n",
    "                              'Desviacion_estandar':desviacion,\n",
    "                              'Coeficiente_variacion':desviacion/media, \n",
    "                              'Clusters': clusters,\n",
    "                              \"Grupos_tam_menor_20\":peque20,\n",
    "                              \"Grupos_tam_menor_10\":peque10 , \n",
    "                              \"Grupo_mas_grande\":masGrande,\n",
    "                              \"Tiempo_ejecucion\":end-start}, ignore_index=True)"
   ]
  },
  {
   "cell_type": "code",
   "execution_count": 32,
   "metadata": {},
   "outputs": [
    {
     "data": {
      "text/html": [
       "<div>\n",
       "<style scoped>\n",
       "    .dataframe tbody tr th:only-of-type {\n",
       "        vertical-align: middle;\n",
       "    }\n",
       "\n",
       "    .dataframe tbody tr th {\n",
       "        vertical-align: top;\n",
       "    }\n",
       "\n",
       "    .dataframe thead th {\n",
       "        text-align: right;\n",
       "    }\n",
       "</style>\n",
       "<table border=\"1\" class=\"dataframe\">\n",
       "  <thead>\n",
       "    <tr style=\"text-align: right;\">\n",
       "      <th></th>\n",
       "      <th>Tecnica</th>\n",
       "      <th>Entrada</th>\n",
       "      <th>PCA</th>\n",
       "      <th>Norm_filas</th>\n",
       "      <th>Silhouette_score</th>\n",
       "      <th>Desviacion_estandar</th>\n",
       "      <th>Coeficiente_variacion</th>\n",
       "      <th>Clusters</th>\n",
       "      <th>Grupo_mas_grande</th>\n",
       "      <th>Grupos_tam_menor_10</th>\n",
       "      <th>Grupos_tam_menor_20</th>\n",
       "      <th>Tiempo_ejecucion</th>\n",
       "    </tr>\n",
       "  </thead>\n",
       "  <tbody>\n",
       "    <tr>\n",
       "      <th>0</th>\n",
       "      <td>K-MEANS</td>\n",
       "      <td>Palabras claves</td>\n",
       "      <td>0.95</td>\n",
       "      <td>True</td>\n",
       "      <td>0.045305</td>\n",
       "      <td>390.938961</td>\n",
       "      <td>2.402624</td>\n",
       "      <td>150</td>\n",
       "      <td>4229</td>\n",
       "      <td>6</td>\n",
       "      <td>17</td>\n",
       "      <td>761.235140</td>\n",
       "    </tr>\n",
       "    <tr>\n",
       "      <th>1</th>\n",
       "      <td>K-MEANS</td>\n",
       "      <td>Dewey decena</td>\n",
       "      <td>0.95</td>\n",
       "      <td>True</td>\n",
       "      <td>0.393984</td>\n",
       "      <td>169.394897</td>\n",
       "      <td>1.041063</td>\n",
       "      <td>150</td>\n",
       "      <td>1188</td>\n",
       "      <td>1</td>\n",
       "      <td>2</td>\n",
       "      <td>75.867963</td>\n",
       "    </tr>\n",
       "    <tr>\n",
       "      <th>2</th>\n",
       "      <td>K-MEANS</td>\n",
       "      <td>Dewey unidad</td>\n",
       "      <td>0.95</td>\n",
       "      <td>True</td>\n",
       "      <td>0.286771</td>\n",
       "      <td>422.210032</td>\n",
       "      <td>2.594809</td>\n",
       "      <td>150</td>\n",
       "      <td>5031</td>\n",
       "      <td>0</td>\n",
       "      <td>6</td>\n",
       "      <td>221.652331</td>\n",
       "    </tr>\n",
       "  </tbody>\n",
       "</table>\n",
       "</div>"
      ],
      "text/plain": [
       "   Tecnica          Entrada   PCA Norm_filas  Silhouette_score  \\\n",
       "0  K-MEANS  Palabras claves  0.95       True          0.045305   \n",
       "1  K-MEANS     Dewey decena  0.95       True          0.393984   \n",
       "2  K-MEANS     Dewey unidad  0.95       True          0.286771   \n",
       "\n",
       "   Desviacion_estandar  Coeficiente_variacion Clusters Grupo_mas_grande  \\\n",
       "0           390.938961               2.402624      150             4229   \n",
       "1           169.394897               1.041063      150             1188   \n",
       "2           422.210032               2.594809      150             5031   \n",
       "\n",
       "  Grupos_tam_menor_10 Grupos_tam_menor_20  Tiempo_ejecucion  \n",
       "0                   6                  17        761.235140  \n",
       "1                   1                   2         75.867963  \n",
       "2                   0                   6        221.652331  "
      ]
     },
     "execution_count": 32,
     "metadata": {},
     "output_type": "execute_result"
    }
   ],
   "source": [
    "resumen.head()"
   ]
  },
  {
   "cell_type": "code",
   "execution_count": 34,
   "metadata": {},
   "outputs": [],
   "source": [
    "resumen.to_excel(r'C:\\Users\\user\\Downloads\\Resultados_Modelos_Entrada.xlsx')"
   ]
  },
  {
   "cell_type": "markdown",
   "metadata": {
    "id": "TN4TMMqB9xXm"
   },
   "source": [
    "##Precisión"
   ]
  },
  {
   "cell_type": "code",
   "execution_count": 10,
   "metadata": {
    "colab": {
     "base_uri": "https://localhost:8080/",
     "height": 513
    },
    "executionInfo": {
     "elapsed": 264,
     "status": "ok",
     "timestamp": 1631494506651,
     "user": {
      "displayName": "johan ortegon",
      "photoUrl": "https://lh3.googleusercontent.com/a-/AOh14GhyoUI6Ah-yOFqz-IfXRTyhXFoLINQxrmLLqz_oVw=s64",
      "userId": "10403633387864376724"
     },
     "user_tz": 300
    },
    "id": "WO7qceQ10G2u",
    "outputId": "861bf9bf-376a-44c1-d9cb-98b873a157ef"
   },
   "outputs": [
    {
     "data": {
      "image/png": "[encoded data removed]",
      "text/plain": [
       "<Figure size 1080x576 with 1 Axes>"
      ]
     },
     "metadata": {
      "needs_background": "light"
     },
     "output_type": "display_data"
    }
   ],
   "source": [
    "labels = [100, 150, 200, 250,300]\n",
    "#temp_means = df.loc[df[\"Clusters\"] == cluster]\n",
    "temp_means = df.loc[df[\"Tecnica\"] == \"K-MEANS\"]\n",
    "\n",
    "  #temp_aglo = df.loc[df[\"Clusters\"] == cluster]\n",
    "temp_aglo = df.loc[df[\"Tecnica\"] == \"Aglomerative\"]\n",
    "bar_width = 0.35\n",
    "\n",
    "index = np.arange(5)\n",
    "fig, ax = plt.subplots(figsize=(15, 8))\n",
    "\n",
    "kmean = ax.bar(index , temp_means[\"Precision\"].values, bar_width,\n",
    "                label=\"K-MEANS\")\n",
    "\n",
    "aglo = ax.bar(index+ bar_width, temp_aglo[\"Precision\"].values,\n",
    "                 bar_width, label=\"Aglomerative\")\n",
    "\n",
    "\n",
    "plt.title(\"Precisión vs N clusters - K Means vs Aglomerativo\")\n",
    "ax.set_ylabel('Precision')\n",
    "ax.set_xlabel('Número de clusters')\n",
    "ax.set_xticklabels(labels)\n",
    "ax.set_xticks(index + bar_width / 2)\n",
    "\n",
    "ax.legend()\n",
    "plt.show()"
   ]
  },
  {
   "cell_type": "markdown",
   "metadata": {
    "id": "sVQOfGrH90WA"
   },
   "source": [
    "##Desviación estandar"
   ]
  },
  {
   "cell_type": "code",
   "execution_count": 11,
   "metadata": {
    "colab": {
     "base_uri": "https://localhost:8080/",
     "height": 513
    },
    "executionInfo": {
     "elapsed": 222,
     "status": "ok",
     "timestamp": 1631494506871,
     "user": {
      "displayName": "johan ortegon",
      "photoUrl": "https://lh3.googleusercontent.com/a-/AOh14GhyoUI6Ah-yOFqz-IfXRTyhXFoLINQxrmLLqz_oVw=s64",
      "userId": "10403633387864376724"
     },
     "user_tz": 300
    },
    "id": "GAVJ4xMX9BAW",
    "outputId": "c5f4249c-128d-4046-bc49-c8c881b2dcef"
   },
   "outputs": [
    {
     "data": {
      "image/png": "[encoded data removed]",
      "text/plain": [
       "<Figure size 1080x576 with 1 Axes>"
      ]
     },
     "metadata": {
      "needs_background": "light"
     },
     "output_type": "display_data"
    }
   ],
   "source": [
    "fig, ax = plt.subplots(figsize=(15, 8))\n",
    "\n",
    "kmean = ax.bar(index , temp_means[\"Desviacion_estandar\"].values, bar_width,\n",
    "                label=\"K-MEANS\")\n",
    "\n",
    "aglo = ax.bar(index+ bar_width, temp_aglo[\"Desviacion_estandar\"].values,\n",
    "                 bar_width, label=\"Aglomerative\")\n",
    "  \n",
    "plt.title(\"Desviación vs N clusters - K Means vs Aglomerativo\")\n",
    "ax.set_ylabel('Desviación estandar')\n",
    "ax.set_xlabel('Número de clusters')\n",
    "ax.set_xticklabels(labels)\n",
    "ax.set_xticks(index + bar_width / 2)\n",
    "\n",
    "\n",
    "ax.legend()\n",
    "plt.show()"
   ]
  },
  {
   "cell_type": "markdown",
   "metadata": {
    "id": "XNpxhGiv94OS"
   },
   "source": [
    "## Media"
   ]
  },
  {
   "cell_type": "code",
   "execution_count": 12,
   "metadata": {
    "colab": {
     "base_uri": "https://localhost:8080/",
     "height": 513
    },
    "executionInfo": {
     "elapsed": 419,
     "status": "ok",
     "timestamp": 1631494507287,
     "user": {
      "displayName": "johan ortegon",
      "photoUrl": "https://lh3.googleusercontent.com/a-/AOh14GhyoUI6Ah-yOFqz-IfXRTyhXFoLINQxrmLLqz_oVw=s64",
      "userId": "10403633387864376724"
     },
     "user_tz": 300
    },
    "id": "SF0j1L2j9HL8",
    "outputId": "6328a074-13e8-4c96-da2b-ee7c08623939"
   },
   "outputs": [
    {
     "data": {
      "image/png": "[encoded data removed]",
      "text/plain": [
       "<Figure size 1080x576 with 1 Axes>"
      ]
     },
     "metadata": {
      "needs_background": "light"
     },
     "output_type": "display_data"
    }
   ],
   "source": [
    "fig, ax = plt.subplots(figsize=(15, 8))\n",
    "\n",
    "kmean = ax.bar(index , temp_means[\"Media\"].values, bar_width,\n",
    "                label=\"K-MEANS\")\n",
    "\n",
    "aglo = ax.bar(index+ bar_width, temp_aglo[\"Media\"].values,\n",
    "                 bar_width, label=\"Aglomerative\")\n",
    "  \n",
    "plt.title(\"Media vs N clusters - K Means vs Aglomerativo\")\n",
    "ax.set_ylabel('Media')\n",
    "ax.set_xlabel('Número de clusters')\n",
    "ax.set_xticklabels(labels)\n",
    "ax.set_xticks(index + bar_width / 2)\n",
    "\n",
    "\n",
    "ax.legend()\n",
    "\n",
    "plt.show()"
   ]
  },
  {
   "cell_type": "markdown",
   "metadata": {
    "id": "xX3lclQo957_"
   },
   "source": [
    "## Coeficiente de variación"
   ]
  },
  {
   "cell_type": "code",
   "execution_count": 13,
   "metadata": {
    "colab": {
     "base_uri": "https://localhost:8080/",
     "height": 513
    },
    "executionInfo": {
     "elapsed": 299,
     "status": "ok",
     "timestamp": 1631494507583,
     "user": {
      "displayName": "johan ortegon",
      "photoUrl": "https://lh3.googleusercontent.com/a-/AOh14GhyoUI6Ah-yOFqz-IfXRTyhXFoLINQxrmLLqz_oVw=s64",
      "userId": "10403633387864376724"
     },
     "user_tz": 300
    },
    "id": "xGfYqZcW9OFa",
    "outputId": "86053db6-ec5a-4fb7-925a-e22d55b6cab8"
   },
   "outputs": [
    {
     "data": {
      "image/png": "[encoded data removed]",
      "text/plain": [
       "<Figure size 1080x576 with 1 Axes>"
      ]
     },
     "metadata": {
      "needs_background": "light"
     },
     "output_type": "display_data"
    }
   ],
   "source": [
    "fig, ax = plt.subplots(figsize=(15, 8))\n",
    "\n",
    "kmean = ax.bar(index , temp_means[\"Coeficiente_variacion\"].values, bar_width,\n",
    "                label=\"K-MEANS\")\n",
    "\n",
    "aglo = ax.bar(index+ bar_width, temp_aglo[\"Coeficiente_variacion\"].values,\n",
    "                 bar_width, label=\"Aglomerative\")\n",
    "  \n",
    "plt.title(\"Coeficiente de variación vs N clusters - K Means vs Aglomerativo\")\n",
    "ax.set_ylabel('Coeficiente de variación')\n",
    "ax.set_xlabel('Número de clusters')\n",
    "ax.set_xticklabels(labels)\n",
    "ax.set_xticks(index + bar_width / 2)\n",
    "\n",
    "\n",
    "ax.legend()\n",
    "\n",
    "plt.show()"
   ]
  },
  {
   "cell_type": "markdown",
   "metadata": {
    "id": "R9Y5NW1V98dB"
   },
   "source": [
    "## Grupo más grande"
   ]
  },
  {
   "cell_type": "code",
   "execution_count": 14,
   "metadata": {
    "colab": {
     "base_uri": "https://localhost:8080/",
     "height": 513
    },
    "executionInfo": {
     "elapsed": 224,
     "status": "ok",
     "timestamp": 1631494507790,
     "user": {
      "displayName": "johan ortegon",
      "photoUrl": "https://lh3.googleusercontent.com/a-/AOh14GhyoUI6Ah-yOFqz-IfXRTyhXFoLINQxrmLLqz_oVw=s64",
      "userId": "10403633387864376724"
     },
     "user_tz": 300
    },
    "id": "oQirwj6M9SgA",
    "outputId": "a62c0a59-52f6-4e8e-c776-164ca6fc9773"
   },
   "outputs": [
    {
     "data": {
      "image/png": "[encoded data removed]",
      "text/plain": [
       "<Figure size 1080x576 with 1 Axes>"
      ]
     },
     "metadata": {
      "needs_background": "light"
     },
     "output_type": "display_data"
    }
   ],
   "source": [
    "fig, ax = plt.subplots(figsize=(15, 8))\n",
    "\n",
    "kmean = ax.bar(index , temp_means[\"Grupo_mas_grande\"].values, bar_width,\n",
    "                label=\"K-MEANS\")\n",
    "\n",
    "aglo = ax.bar(index+ bar_width, temp_aglo[\"Grupo_mas_grande\"].values,\n",
    "                 bar_width, label=\"Aglomerative\")\n",
    "  \n",
    "plt.title(\"Grupo más grande vs N clusters - K Means vs Aglomerativo\")\n",
    "ax.set_ylabel('Grupo más grande')\n",
    "ax.set_xlabel('Número de clusters')\n",
    "ax.set_xticklabels(labels)\n",
    "ax.set_xticks(index + bar_width / 2)\n",
    "\n",
    "\n",
    "ax.legend()\n",
    "\n",
    "plt.show()"
   ]
  },
  {
   "cell_type": "markdown",
   "metadata": {
    "id": "HqHgNF4E9-aC"
   },
   "source": [
    "## Grupos con tamaño menor a 10"
   ]
  },
  {
   "cell_type": "code",
   "execution_count": 15,
   "metadata": {
    "colab": {
     "base_uri": "https://localhost:8080/",
     "height": 513
    },
    "executionInfo": {
     "elapsed": 240,
     "status": "ok",
     "timestamp": 1631494508025,
     "user": {
      "displayName": "johan ortegon",
      "photoUrl": "https://lh3.googleusercontent.com/a-/AOh14GhyoUI6Ah-yOFqz-IfXRTyhXFoLINQxrmLLqz_oVw=s64",
      "userId": "10403633387864376724"
     },
     "user_tz": 300
    },
    "id": "uZjQaXN59Z-5",
    "outputId": "b5f919b9-d48b-4395-aa16-42117b157198"
   },
   "outputs": [
    {
     "data": {
      "image/png": "[encoded data removed]",
      "text/plain": [
       "<Figure size 1080x576 with 1 Axes>"
      ]
     },
     "metadata": {
      "needs_background": "light"
     },
     "output_type": "display_data"
    }
   ],
   "source": [
    "fig, ax = plt.subplots(figsize=(15, 8))\n",
    "\n",
    "kmean = ax.bar(index , temp_means[\"Grupos<10\"].values, bar_width,\n",
    "                label=\"K-MEANS\")\n",
    "\n",
    "aglo = ax.bar(index+ bar_width, temp_aglo[\"Grupos<10\"].values,\n",
    "                 bar_width, label=\"Aglomerative\")\n",
    "  \n",
    "plt.title(\"Grupo con menos de 10 vs N clusters - K Means vs Aglomerativo\")\n",
    "ax.set_ylabel('Clusters con Grupos<10')\n",
    "ax.set_xlabel('Número de clusters')\n",
    "ax.set_xticklabels(labels)\n",
    "ax.set_xticks(index + bar_width / 2)\n",
    "\n",
    "\n",
    "ax.legend()\n",
    "\n",
    "plt.show()"
   ]
  },
  {
   "cell_type": "markdown",
   "metadata": {
    "id": "sAp5B_cI-CXb"
   },
   "source": [
    "## Grupos con tamaño menor a 20"
   ]
  },
  {
   "cell_type": "code",
   "execution_count": 18,
   "metadata": {
    "colab": {
     "base_uri": "https://localhost:8080/",
     "height": 513
    },
    "executionInfo": {
     "elapsed": 598,
     "status": "ok",
     "timestamp": 1631497919187,
     "user": {
      "displayName": "johan ortegon",
      "photoUrl": "https://lh3.googleusercontent.com/a-/AOh14GhyoUI6Ah-yOFqz-IfXRTyhXFoLINQxrmLLqz_oVw=s64",
      "userId": "10403633387864376724"
     },
     "user_tz": 300
    },
    "id": "fm_nj9Xb9eyR",
    "outputId": "ccff5be4-3cf0-4662-bb27-70c7b7abb300"
   },
   "outputs": [
    {
     "data": {
      "image/png": "[encoded data removed]",
      "text/plain": [
       "<Figure size 1080x576 with 1 Axes>"
      ]
     },
     "metadata": {
      "needs_background": "light"
     },
     "output_type": "display_data"
    }
   ],
   "source": [
    "fig, ax = plt.subplots(figsize=(15, 8))\n",
    "\n",
    "kmean = ax.bar(index , temp_means[\"Grupos<20\"].values, bar_width,\n",
    "                label=\"K-MEANS\")\n",
    "\n",
    "aglo = ax.bar(index+ bar_width, temp_aglo[\"Grupos<20\"].values,\n",
    "                 bar_width, label=\"Aglomerative\")\n",
    "  \n",
    "plt.title(\"Grupo con menos de 20 vs N clusters - K Means vs Aglomerativo\")\n",
    "ax.set_ylabel('Clusters con Grupos<20')\n",
    "ax.set_xlabel('Número de clusters')\n",
    "ax.set_xticklabels(labels)\n",
    "ax.set_xticks(index + bar_width / 2)\n",
    "\n",
    "\n",
    "ax.legend()\n",
    "\n",
    "plt.show()"
   ]
  },
  {
   "cell_type": "markdown",
   "metadata": {
    "id": "kYicoWlW-EML"
   },
   "source": [
    "# Conclusiones\n",
    "* La precisión medida a partir de Silhouette score es mayor siempre en los modelos de kmeans\n",
    "* La desviación estandar de los tamaños de los modelos es menor en kmeans, aunque cuando el número de clusters aumenta la diferencia entre aglomerativo y kmeans es reducida. \n",
    "* Ambos algoritmos producen un único cluster de gran tamaño. Este tamaño varia cuando hay de 100 a 150 clusters más se mantiene estable entre 150 y 300 clusters. \n",
    "* De manera general el algoritmo aglomerativo produce más grupos de tamaño reducido. "
   ]
  },
  {
   "cell_type": "code",
   "execution_count": 16,
   "metadata": {
    "executionInfo": {
     "elapsed": 5,
     "status": "ok",
     "timestamp": 1631494508241,
     "user": {
      "displayName": "johan ortegon",
      "photoUrl": "https://lh3.googleusercontent.com/a-/AOh14GhyoUI6Ah-yOFqz-IfXRTyhXFoLINQxrmLLqz_oVw=s64",
      "userId": "10403633387864376724"
     },
     "user_tz": 300
    },
    "id": "cyiUZF5GqFOb"
   },
   "outputs": [],
   "source": []
  }
 ],
 "metadata": {
  "colab": {
   "collapsed_sections": [],
   "name": "Comparación modelos.ipynb",
   "provenance": []
  },
  "kernelspec": {
   "display_name": "Python 3",
   "language": "python",
   "name": "python3"
  },
  "language_info": {
   "codemirror_mode": {
    "name": "ipython",
    "version": 3
   },
   "file_extension": ".py",
   "mimetype": "text/x-python",
   "name": "python",
   "nbconvert_exporter": "python",
   "pygments_lexer": "ipython3",
   "version": "3.8.8"
  }
 },
 "nbformat": 4,
 "nbformat_minor": 1
}
