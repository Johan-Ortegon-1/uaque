{
 "cells": [
  {
   "cell_type": "markdown",
   "metadata": {
    "id": "A6qICouoEqMI"
   },
   "source": [
    "# **Smart-UJ UAQUE**\n",
    "## Documento entendimiento de datos</br>\n",
    "Este documento busca exponer un primer acercamiento a los datos proveídos por la biblioteca. Procederemos a presentar la carga de los datos. Información básica de los archivos recibido. Descripción de las columnas para el dataset de material bibliográfico de la biblioteca Alfonso Borrero Cabal S.J. Presentaremos gráficos que permitirán visualizar la relación entre los tipos de datos encontrados, junto a una breve descripción de las inferencias que se pueden realizar sobre estos. Evaluaremos la calidad de los datos con respecto al formato, estandarización y volumen de datos faltantes.\n",
    "\n",
    "Posteriormete se realizará una limpieza tanto de filas como columnas para trabajar solo con los datos necesarios para los algoritmos de agrupamiento y recomendación.\n",
    "\n",
    "\n",
    "**Integrantes:**</br>\n",
    "Johan Ortegón </br>\n",
    "Juan Angarita </br>\n",
    "Jorge Salgado </br>\n",
    "Daniel Tibaquira </br></br>\n",
    "**Directora de Proyecto de Grado:** </br>\n",
    "Viky Arias </br>"
   ]
  },
  {
   "cell_type": "markdown",
   "metadata": {
    "id": "0NuTMitOdomN"
   },
   "source": [
    "# Carga de datos"
   ]
  },
  {
   "cell_type": "markdown",
   "metadata": {
    "id": "wdvch-5zLSuX"
   },
   "source": [
    "Comenzamos importando la librerias necesarias para cargar los datos y hacer su respectiva exploración.<br/>\n",
    "\n",
    "* Pandas: Permite almacenar los datos en dataframes(matrices) y operación entre las celdas.<br/>\n",
    "\n",
    "* Plt(matplotlib.pyplot) y sns(seaborn): permiten visualizar los datos a través de diferentes gráficos. \n",
    "\n"
   ]
  },
  {
   "cell_type": "code",
   "execution_count": 2,
   "metadata": {
    "executionInfo": {
     "elapsed": 183,
     "status": "ok",
     "timestamp": 1632953976946,
     "user": {
      "displayName": "juan sebastian angarita torres",
      "photoUrl": "https://lh3.googleusercontent.com/a-/AOh14GgjiV1o_Xb2Ov2kAJhpXcHsgVLy47m-BxyXrYYMfw=s64",
      "userId": "11476954540008106843"
     },
     "user_tz": 300
    },
    "id": "mgKWeVlI3kTv"
   },
   "outputs": [],
   "source": [
    "import pandas as pd\n",
    "import matplotlib.pyplot as plt\n",
    "import seaborn as sn\n",
    "import re\n",
    "%matplotlib inline"
   ]
  },
  {
   "cell_type": "markdown",
   "metadata": {
    "id": "5-52XQMmMlnd"
   },
   "source": [
    "Importamos el dataset y los guardamos dentro de un dataframe.<br/>\n",
    "* datasetMaterial: Corresponde al material bibliográfico almacenado en la  biblioteca general. <br/>"
   ]
  },
  {
   "cell_type": "code",
   "execution_count": 15,
   "metadata": {
    "executionInfo": {
     "elapsed": 19298,
     "status": "ok",
     "timestamp": 1632953996242,
     "user": {
      "displayName": "juan sebastian angarita torres",
      "photoUrl": "https://lh3.googleusercontent.com/a-/AOh14GgjiV1o_Xb2Ov2kAJhpXcHsgVLy47m-BxyXrYYMfw=s64",
      "userId": "11476954540008106843"
     },
     "user_tz": 300
    },
    "id": "5PizksjT3r6i"
   },
   "outputs": [],
   "source": [
    "path =(\"https://www.dropbox.com/s/96kxr4dw10q7tzl/B-GENERAL-COLECCIONES-TEMATICAS.json?dl=1\")\n",
    "datasetMaterial = pd.read_json(path)"
   ]
  },
  {
   "cell_type": "markdown",
   "metadata": {
    "id": "pX8GUnLSNGzf"
   },
   "source": [
    "Hacemos una primera visualización de los datos el archivo."
   ]
  },
  {
   "cell_type": "code",
   "execution_count": 16,
   "metadata": {
    "colab": {
     "base_uri": "https://localhost:8080/",
     "height": 397
    },
    "executionInfo": {
     "elapsed": 35,
     "status": "ok",
     "timestamp": 1632953996245,
     "user": {
      "displayName": "juan sebastian angarita torres",
      "photoUrl": "https://lh3.googleusercontent.com/a-/AOh14GgjiV1o_Xb2Ov2kAJhpXcHsgVLy47m-BxyXrYYMfw=s64",
      "userId": "11476954540008106843"
     },
     "user_tz": 300
    },
    "id": "7gERNayP4olh",
    "outputId": "b98cc4ae-8aee-4fcd-82cb-c110aa4e5e61"
   },
   "outputs": [
    {
     "data": {
      "text/html": [
       "<div>\n",
       "<style scoped>\n",
       "    .dataframe tbody tr th:only-of-type {\n",
       "        vertical-align: middle;\n",
       "    }\n",
       "\n",
       "    .dataframe tbody tr th {\n",
       "        vertical-align: top;\n",
       "    }\n",
       "\n",
       "    .dataframe thead th {\n",
       "        text-align: right;\n",
       "    }\n",
       "</style>\n",
       "<table border=\"1\" class=\"dataframe\">\n",
       "  <thead>\n",
       "    <tr style=\"text-align: right;\">\n",
       "      <th></th>\n",
       "      <th>Signatura</th>\n",
       "      <th>Id de item</th>\n",
       "      <th>Ubicación Habitual</th>\n",
       "      <th>Ubicación Actual</th>\n",
       "      <th>Tipo de ítem</th>\n",
       "      <th>Biblioteca</th>\n",
       "      <th>Cat2</th>\n",
       "      <th>Fecha de creación</th>\n",
       "      <th>Total de préstamos</th>\n",
       "      <th>Llaves</th>\n",
       "      <th>Vol</th>\n",
       "      <th>Copias</th>\n",
       "      <th>Autor</th>\n",
       "      <th>Autor corporativo</th>\n",
       "      <th>Título</th>\n",
       "      <th>Tema 650</th>\n",
       "      <th>Año publicación</th>\n",
       "      <th>Todas las temáticas</th>\n",
       "    </tr>\n",
       "  </thead>\n",
       "  <tbody>\n",
       "    <tr>\n",
       "      <th>0</th>\n",
       "      <td>925.2 C66NA|</td>\n",
       "      <td>60000000049754</td>\n",
       "      <td>A-BATEMAN</td>\n",
       "      <td>A-BATEMAN</td>\n",
       "      <td>LIBRO</td>\n",
       "      <td>B-GENERAL</td>\n",
       "      <td>DONACION</td>\n",
       "      <td>20190830</td>\n",
       "      <td>0</td>\n",
       "      <td>933604</td>\n",
       "      <td>1</td>\n",
       "      <td>1</td>\n",
       "      <td>Álvarez Ríos, Baldomero 1924-</td>\n",
       "      <td>-</td>\n",
       "      <td>Copernico gigante del Renacimiento Baldomero A...</td>\n",
       "      <td>Astrónomos Polonia Biografías</td>\n",
       "      <td>1973.0</td>\n",
       "      <td>24$aAstronomos$zPolonia$vBiografias</td>\n",
       "    </tr>\n",
       "    <tr>\n",
       "      <th>1</th>\n",
       "      <td>925.2 C66NC V.3|</td>\n",
       "      <td>60000000049751</td>\n",
       "      <td>A-BATEMAN</td>\n",
       "      <td>A-BATEMAN</td>\n",
       "      <td>LIBRO</td>\n",
       "      <td>B-GENERAL</td>\n",
       "      <td>DONACION</td>\n",
       "      <td>20190830</td>\n",
       "      <td>0</td>\n",
       "      <td>933606</td>\n",
       "      <td>1</td>\n",
       "      <td>1</td>\n",
       "      <td>-</td>\n",
       "      <td>Academia de Ciencias Médicas, Físicas y Natura...</td>\n",
       "      <td>Nicolás Copérnico, 500 aniversario, 1473-1973</td>\n",
       "      <td>Astronomía Historia</td>\n",
       "      <td>1973.0</td>\n",
       "      <td>14$aAstronomia$xHistoria24$aAstronomos$zPoloni...</td>\n",
       "    </tr>\n",
       "    <tr>\n",
       "      <th>2</th>\n",
       "      <td>925.2 C66NC V.1|</td>\n",
       "      <td>60000000049753</td>\n",
       "      <td>A-BATEMAN</td>\n",
       "      <td>A-BATEMAN</td>\n",
       "      <td>LIBRO</td>\n",
       "      <td>B-GENERAL</td>\n",
       "      <td>DONACION</td>\n",
       "      <td>20190830</td>\n",
       "      <td>0</td>\n",
       "      <td>933606</td>\n",
       "      <td>2</td>\n",
       "      <td>1</td>\n",
       "      <td>-</td>\n",
       "      <td>Academia de Ciencias Médicas, Físicas y Natura...</td>\n",
       "      <td>Nicolás Copérnico, 500 aniversario, 1473-1973</td>\n",
       "      <td>Astronomía Historia</td>\n",
       "      <td>1973.0</td>\n",
       "      <td>14$aAstronomia$xHistoria24$aAstronomos$zPoloni...</td>\n",
       "    </tr>\n",
       "  </tbody>\n",
       "</table>\n",
       "</div>"
      ],
      "text/plain": [
       "          Signatura      Id de item Ubicación Habitual Ubicación Actual  \\\n",
       "0      925.2 C66NA|  60000000049754          A-BATEMAN        A-BATEMAN   \n",
       "1  925.2 C66NC V.3|  60000000049751          A-BATEMAN        A-BATEMAN   \n",
       "2  925.2 C66NC V.1|  60000000049753          A-BATEMAN        A-BATEMAN   \n",
       "\n",
       "  Tipo de ítem Biblioteca      Cat2  Fecha de creación  Total de préstamos  \\\n",
       "0        LIBRO  B-GENERAL  DONACION           20190830                   0   \n",
       "1        LIBRO  B-GENERAL  DONACION           20190830                   0   \n",
       "2        LIBRO  B-GENERAL  DONACION           20190830                   0   \n",
       "\n",
       "   Llaves  Vol  Copias                          Autor  \\\n",
       "0  933604    1       1  Álvarez Ríos, Baldomero 1924-   \n",
       "1  933606    1       1                              -   \n",
       "2  933606    2       1                              -   \n",
       "\n",
       "                                   Autor corporativo  \\\n",
       "0                                                  -   \n",
       "1  Academia de Ciencias Médicas, Físicas y Natura...   \n",
       "2  Academia de Ciencias Médicas, Físicas y Natura...   \n",
       "\n",
       "                                              Título  \\\n",
       "0  Copernico gigante del Renacimiento Baldomero A...   \n",
       "1      Nicolás Copérnico, 500 aniversario, 1473-1973   \n",
       "2      Nicolás Copérnico, 500 aniversario, 1473-1973   \n",
       "\n",
       "                        Tema 650  Año publicación  \\\n",
       "0  Astrónomos Polonia Biografías           1973.0   \n",
       "1            Astronomía Historia           1973.0   \n",
       "2            Astronomía Historia           1973.0   \n",
       "\n",
       "                                 Todas las temáticas  \n",
       "0                24$aAstronomos$zPolonia$vBiografias  \n",
       "1  14$aAstronomia$xHistoria24$aAstronomos$zPoloni...  \n",
       "2  14$aAstronomia$xHistoria24$aAstronomos$zPoloni...  "
      ]
     },
     "metadata": {},
     "output_type": "display_data"
    }
   ],
   "source": [
    "display(datasetMaterial.head(3))"
   ]
  },
  {
   "cell_type": "markdown",
   "metadata": {
    "id": "0f8MX9W68cSQ"
   },
   "source": [
    "# 1. Reporte de recolección de datos \n",
    "En esta sección exponemos las principales características de los archivos (Propietario, Formato original, URL, Fecha de última actualziación, Tamaño del archivo, Nombre del almacenamiento físico, restricciones de uso y Número de atributos) junto con una breve descripción.\n",
    "* **Nombre conjunto de datos:** B-GENERAL-COLECCIONES-TEMATICAS\n",
    "    * **Descripción:** ofrece registros de la procedencia del material, el tipo del material, el autor , etc.\n",
    "    * **Propietario:** Andrés Echavarria​\n",
    "    * **Formato original:** Texto Plano\n",
    "    * **URL u origen:** Proporcionados para el Proyecto Smart-UJ\n",
    "    * **Última actualización:** 02/08/2021\n",
    "    * **Tamaño original:** 222.3MB\n",
    "    * **Alamcenamiento físico:** Servidor Oracle 11G\n",
    "    * **Restricciones de uso:** Solo se utilizarán los datos de la biblioteca general.\n",
    "    * **Número de atributos:** 18.\n"
   ]
  },
  {
   "cell_type": "markdown",
   "metadata": {
    "id": "-xQQewjAiQEA"
   },
   "source": [
    "# Pre-Limpieza\n",
    "En esta sección elaboramos una descripción detallada de los atributos (columnas) que contienen los archivos.Así mismo se mostrarán gráficas que nos ayudarán a entender mejor la distribución de los datos. "
   ]
  },
  {
   "cell_type": "markdown",
   "metadata": {
    "id": "w2p5gIlxl2DO"
   },
   "source": [
    "Comenzamos creando algunas funciones auxiliares para describir los datos y gráficarlos. "
   ]
  },
  {
   "cell_type": "code",
   "execution_count": 17,
   "metadata": {
    "executionInfo": {
     "elapsed": 32,
     "status": "ok",
     "timestamp": 1632953996246,
     "user": {
      "displayName": "juan sebastian angarita torres",
      "photoUrl": "https://lh3.googleusercontent.com/a-/AOh14GgjiV1o_Xb2Ov2kAJhpXcHsgVLy47m-BxyXrYYMfw=s64",
      "userId": "11476954540008106843"
     },
     "user_tz": 300
    },
    "id": "tJcqIKn-05b8"
   },
   "outputs": [],
   "source": [
    "def descripcion(dataset, nombre):\n",
    "  nulos = len(dataset.loc[dataset[nombre].isnull()])\n",
    "  print(\"Número de datos nulos:\", nulos)\n",
    "  unicos = len(dataset[nombre].unique())\n",
    "  print(\"Número de datos únicos:\", unicos)\n",
    "  tipo = type(dataset[nombre][0])\n",
    "  print(\"Tipo de dato:\", tipo)\n",
    "  print(\"Ejemplo:\", dataset[nombre][0])"
   ]
  },
  {
   "cell_type": "code",
   "execution_count": 18,
   "metadata": {
    "executionInfo": {
     "elapsed": 32,
     "status": "ok",
     "timestamp": 1632953996246,
     "user": {
      "displayName": "juan sebastian angarita torres",
      "photoUrl": "https://lh3.googleusercontent.com/a-/AOh14GgjiV1o_Xb2Ov2kAJhpXcHsgVLy47m-BxyXrYYMfw=s64",
      "userId": "11476954540008106843"
     },
     "user_tz": 300
    },
    "id": "dKmq3gjNPoTh"
   },
   "outputs": [],
   "source": [
    "def histograma(dataset,nombre):\n",
    "  plt.figure(figsize=(25, 10))\n",
    "  plt.title(\"Frecuencia de préstamos por \" + nombre)\n",
    "  plt.xlabel(nombre)\n",
    "  plt.ylabel(\"Frecuencia\")\n",
    "  dataset[nombre].value_counts().plot(kind='bar') "
   ]
  },
  {
   "cell_type": "code",
   "execution_count": 19,
   "metadata": {
    "executionInfo": {
     "elapsed": 31,
     "status": "ok",
     "timestamp": 1632953996246,
     "user": {
      "displayName": "juan sebastian angarita torres",
      "photoUrl": "https://lh3.googleusercontent.com/a-/AOh14GgjiV1o_Xb2Ov2kAJhpXcHsgVLy47m-BxyXrYYMfw=s64",
      "userId": "11476954540008106843"
     },
     "user_tz": 300
    },
    "id": "fephdK4oPuV4"
   },
   "outputs": [],
   "source": [
    "def frecuencias(dataset,nombre):\n",
    "  table = (dataset[nombre].value_counts(normalize = True) * 100).to_frame()\n",
    "  table.columns = ['Procentaje (%)']\n",
    "  table.columns.name = nombre\n",
    "  display(table)"
   ]
  },
  {
   "cell_type": "markdown",
   "metadata": {
    "id": "U0WtdnvdA3jl"
   },
   "source": [
    "Mostramos el número de filas y columnas que componen el archivo correspondiente al material bibliográfico de la biblioteca general Alfonso Borrero Cabal."
   ]
  },
  {
   "cell_type": "code",
   "execution_count": 20,
   "metadata": {
    "colab": {
     "base_uri": "https://localhost:8080/"
    },
    "executionInfo": {
     "elapsed": 31,
     "status": "ok",
     "timestamp": 1632953996246,
     "user": {
      "displayName": "juan sebastian angarita torres",
      "photoUrl": "https://lh3.googleusercontent.com/a-/AOh14GgjiV1o_Xb2Ov2kAJhpXcHsgVLy47m-BxyXrYYMfw=s64",
      "userId": "11476954540008106843"
     },
     "user_tz": 300
    },
    "id": "AJqxyvLZA3jl",
    "outputId": "ead2c263-a38f-4c96-e9ac-3d72354ab945"
   },
   "outputs": [
    {
     "name": "stdout",
     "output_type": "stream",
     "text": [
      "Número de Filas:  746934\n",
      "Número de Columnas:  18\n"
     ]
    }
   ],
   "source": [
    "print(\"Número de Filas: \", datasetMaterial.shape[0])\n",
    "print(\"Número de Columnas: \", datasetMaterial.shape[1])"
   ]
  },
  {
   "cell_type": "code",
   "execution_count": 21,
   "metadata": {
    "colab": {
     "base_uri": "https://localhost:8080/"
    },
    "executionInfo": {
     "elapsed": 249,
     "status": "ok",
     "timestamp": 1632953996471,
     "user": {
      "displayName": "juan sebastian angarita torres",
      "photoUrl": "https://lh3.googleusercontent.com/a-/AOh14GgjiV1o_Xb2Ov2kAJhpXcHsgVLy47m-BxyXrYYMfw=s64",
      "userId": "11476954540008106843"
     },
     "user_tz": 300
    },
    "id": "rayZPLq3CXE3",
    "outputId": "ab8d921b-9699-4719-f4d3-8a5a78916bc2"
   },
   "outputs": [
    {
     "data": {
      "text/plain": [
       "Index(['Signatura', 'Id de item', 'Ubicación Habitual', 'Ubicación Actual',\n",
       "       'Tipo de ítem', 'Biblioteca', 'Cat2', 'Fecha de creación',\n",
       "       'Total de préstamos', 'Llaves', 'Vol', 'Copias', 'Autor',\n",
       "       'Autor corporativo', 'Título', 'Tema 650', 'Año publicación',\n",
       "       'Todas las temáticas'],\n",
       "      dtype='object')"
      ]
     },
     "execution_count": 21,
     "metadata": {},
     "output_type": "execute_result"
    }
   ],
   "source": [
    "datasetMaterial.columns"
   ]
  },
  {
   "cell_type": "code",
   "execution_count": 22,
   "metadata": {
    "executionInfo": {
     "elapsed": 1,
     "status": "ok",
     "timestamp": 1632953996471,
     "user": {
      "displayName": "juan sebastian angarita torres",
      "photoUrl": "https://lh3.googleusercontent.com/a-/AOh14GgjiV1o_Xb2Ov2kAJhpXcHsgVLy47m-BxyXrYYMfw=s64",
      "userId": "11476954540008106843"
     },
     "user_tz": 300
    },
    "id": "r9lLJg8JOdIv"
   },
   "outputs": [],
   "source": [
    "dataset = datasetMaterial"
   ]
  },
  {
   "cell_type": "markdown",
   "metadata": {
    "id": "161tdU1MCd2u"
   },
   "source": [
    "### Col: Signatura\n",
    "**Descripción:** permite ubicar temáticamente el material bibliográfico en el Sistema de Clasificación Dewey. La primera parte del string refiere al dewey que utiliza la biblioteca. "
   ]
  },
  {
   "cell_type": "code",
   "execution_count": 23,
   "metadata": {
    "colab": {
     "base_uri": "https://localhost:8080/"
    },
    "executionInfo": {
     "elapsed": 379,
     "status": "ok",
     "timestamp": 1632953996849,
     "user": {
      "displayName": "juan sebastian angarita torres",
      "photoUrl": "https://lh3.googleusercontent.com/a-/AOh14GgjiV1o_Xb2Ov2kAJhpXcHsgVLy47m-BxyXrYYMfw=s64",
      "userId": "11476954540008106843"
     },
     "user_tz": 300
    },
    "id": "Fns_N28UD3_L",
    "outputId": "977a5166-1c40-4278-bedf-1841ee1965de"
   },
   "outputs": [
    {
     "name": "stdout",
     "output_type": "stream",
     "text": [
      "Número de datos nulos: 0\n",
      "Número de datos únicos: 549198\n",
      "Tipo de dato: <class 'str'>\n",
      "Ejemplo: 925.2 C66NA|\n"
     ]
    }
   ],
   "source": [
    "col = \"Signatura\"\n",
    "descripcion(dataset,col)"
   ]
  },
  {
   "cell_type": "markdown",
   "metadata": {
    "id": "MbIrHHWpQw6y"
   },
   "source": [
    "**Análisis:**Signatura nos ofrece información adicional sobre la temática de los libros. Se usará esta columna posteriormente para obtener el dewey especifico de cada libro."
   ]
  },
  {
   "cell_type": "markdown",
   "metadata": {
    "id": "WRdMZq_zChfw"
   },
   "source": [
    "### Col: Id de item\n",
    "**Descripción:** Id único de cada copia de ítem. Si un ítem tiene varias copias en la biblioteca, cada una de estas copias tendrá un diferente Id."
   ]
  },
  {
   "cell_type": "code",
   "execution_count": 24,
   "metadata": {
    "colab": {
     "base_uri": "https://localhost:8080/"
    },
    "executionInfo": {
     "elapsed": 395,
     "status": "ok",
     "timestamp": 1632953997243,
     "user": {
      "displayName": "juan sebastian angarita torres",
      "photoUrl": "https://lh3.googleusercontent.com/a-/AOh14GgjiV1o_Xb2Ov2kAJhpXcHsgVLy47m-BxyXrYYMfw=s64",
      "userId": "11476954540008106843"
     },
     "user_tz": 300
    },
    "id": "1LIuny6GKIcF",
    "outputId": "9cdb0e5a-103d-4f9d-b3a1-471f6d66ae25"
   },
   "outputs": [
    {
     "name": "stdout",
     "output_type": "stream",
     "text": [
      "Número de datos nulos: 0\n",
      "Número de datos únicos: 746823\n",
      "Tipo de dato: <class 'str'>\n",
      "Ejemplo: 60000000049754\n"
     ]
    }
   ],
   "source": [
    "col = \"Id de item\"\n",
    "descripcion(dataset,col)"
   ]
  },
  {
   "cell_type": "markdown",
   "metadata": {
    "id": "KTMRd3pnRHno"
   },
   "source": [
    "**Análisis:**Este dato no es muy descriptivo para entender los gustos de los usuarios. Igualmente sirve para realizar join con la tabla de prestamos. "
   ]
  },
  {
   "cell_type": "markdown",
   "metadata": {
    "id": "yfCPWfW5Cmah"
   },
   "source": [
    "### Col: Ubicación Habitual\n",
    "**Descripción:** Ubicación del ítem al interior de la biblioteca general. "
   ]
  },
  {
   "cell_type": "code",
   "execution_count": 187,
   "metadata": {
    "colab": {
     "base_uri": "https://localhost:8080/"
    },
    "executionInfo": {
     "elapsed": 232,
     "status": "ok",
     "timestamp": 1632953997474,
     "user": {
      "displayName": "juan sebastian angarita torres",
      "photoUrl": "https://lh3.googleusercontent.com/a-/AOh14GgjiV1o_Xb2Ov2kAJhpXcHsgVLy47m-BxyXrYYMfw=s64",
      "userId": "11476954540008106843"
     },
     "user_tz": 300
    },
    "id": "0sU8oxMLKLtr",
    "outputId": "74db51e7-4c44-4759-f8a6-ccd281c54a98"
   },
   "outputs": [
    {
     "name": "stdout",
     "output_type": "stream",
     "text": [
      "Número de datos nulos: 0\n",
      "Número de datos únicos: 52\n",
      "Tipo de dato: <class 'str'>\n",
      "Ejemplo: A-BATEMAN\n"
     ]
    }
   ],
   "source": [
    "col = \"Ubicación Habitual\"\n",
    "descripcion(dataset,col)"
   ]
  },
  {
   "cell_type": "code",
   "execution_count": 188,
   "metadata": {
    "colab": {
     "base_uri": "https://localhost:8080/",
     "height": 349
    },
    "executionInfo": {
     "elapsed": 1253,
     "status": "ok",
     "timestamp": 1632953998725,
     "user": {
      "displayName": "juan sebastian angarita torres",
      "photoUrl": "https://lh3.googleusercontent.com/a-/AOh14GgjiV1o_Xb2Ov2kAJhpXcHsgVLy47m-BxyXrYYMfw=s64",
      "userId": "11476954540008106843"
     },
     "user_tz": 300
    },
    "id": "E29ECghyLjUi",
    "outputId": "4438d024-73d7-443a-83de-e46c49ced0fb"
   },
   "outputs": [
    {
     "data": {
      "image/png": "[encoded data removed]",
      "text/plain": [
       "<Figure size 1800x720 with 1 Axes>"
      ]
     },
     "metadata": {
      "needs_background": "light"
     },
     "output_type": "display_data"
    }
   ],
   "source": [
    "histograma(dataset,col)"
   ]
  },
  {
   "cell_type": "code",
   "execution_count": 189,
   "metadata": {
    "colab": {
     "base_uri": "https://localhost:8080/",
     "height": 1000
    },
    "executionInfo": {
     "elapsed": 10,
     "status": "ok",
     "timestamp": 1632953998726,
     "user": {
      "displayName": "juan sebastian angarita torres",
      "photoUrl": "https://lh3.googleusercontent.com/a-/AOh14GgjiV1o_Xb2Ov2kAJhpXcHsgVLy47m-BxyXrYYMfw=s64",
      "userId": "11476954540008106843"
     },
     "user_tz": 300
    },
    "id": "Kb1j_j84TBEs",
    "outputId": "2eaaa157-7633-4094-b8bd-500638ce0a55"
   },
   "outputs": [
    {
     "data": {
      "text/html": [
       "<div>\n",
       "<style scoped>\n",
       "    .dataframe tbody tr th:only-of-type {\n",
       "        vertical-align: middle;\n",
       "    }\n",
       "\n",
       "    .dataframe tbody tr th {\n",
       "        vertical-align: top;\n",
       "    }\n",
       "\n",
       "    .dataframe thead th {\n",
       "        text-align: right;\n",
       "    }\n",
       "</style>\n",
       "<table border=\"1\" class=\"dataframe\">\n",
       "  <thead>\n",
       "    <tr style=\"text-align: right;\">\n",
       "      <th>Ubicación Habitual</th>\n",
       "      <th>Procentaje (%)</th>\n",
       "    </tr>\n",
       "  </thead>\n",
       "  <tbody>\n",
       "    <tr>\n",
       "      <th>HEMEROTECA</th>\n",
       "      <td>28.227795</td>\n",
       "    </tr>\n",
       "    <tr>\n",
       "      <th>COL-GRAL-3</th>\n",
       "      <td>11.734906</td>\n",
       "    </tr>\n",
       "    <tr>\n",
       "      <th>COL-GRAL-2</th>\n",
       "      <td>9.039085</td>\n",
       "    </tr>\n",
       "    <tr>\n",
       "      <th>COL-GRAL-4</th>\n",
       "      <td>8.564077</td>\n",
       "    </tr>\n",
       "    <tr>\n",
       "      <th>SALA-TESIS</th>\n",
       "      <td>8.433543</td>\n",
       "    </tr>\n",
       "    <tr>\n",
       "      <th>COL-ALTERN</th>\n",
       "      <td>6.856295</td>\n",
       "    </tr>\n",
       "    <tr>\n",
       "      <th>COL-GRAL-0</th>\n",
       "      <td>6.056492</td>\n",
       "    </tr>\n",
       "    <tr>\n",
       "      <th>SALA-MUSIC</th>\n",
       "      <td>4.650746</td>\n",
       "    </tr>\n",
       "    <tr>\n",
       "      <th>DEPOSITO1</th>\n",
       "      <td>3.752540</td>\n",
       "    </tr>\n",
       "    <tr>\n",
       "      <th>AUDIOVISUA</th>\n",
       "      <td>2.633700</td>\n",
       "    </tr>\n",
       "    <tr>\n",
       "      <th>REFERENCIA</th>\n",
       "      <td>2.030969</td>\n",
       "    </tr>\n",
       "    <tr>\n",
       "      <th>DESCARTADO</th>\n",
       "      <td>1.675650</td>\n",
       "    </tr>\n",
       "    <tr>\n",
       "      <th>SALAPISOMU</th>\n",
       "      <td>1.297437</td>\n",
       "    </tr>\n",
       "    <tr>\n",
       "      <th>EN-LINEA</th>\n",
       "      <td>1.278158</td>\n",
       "    </tr>\n",
       "    <tr>\n",
       "      <th>PERDIDO</th>\n",
       "      <td>1.053239</td>\n",
       "    </tr>\n",
       "    <tr>\n",
       "      <th>VALIOSOS</th>\n",
       "      <td>0.600990</td>\n",
       "    </tr>\n",
       "    <tr>\n",
       "      <th>JURISPRUDE</th>\n",
       "      <td>0.572741</td>\n",
       "    </tr>\n",
       "    <tr>\n",
       "      <th>REPOSICION</th>\n",
       "      <td>0.253436</td>\n",
       "    </tr>\n",
       "    <tr>\n",
       "      <th>LIT-INFANT</th>\n",
       "      <td>0.231212</td>\n",
       "    </tr>\n",
       "    <tr>\n",
       "      <th>TESIS-REST</th>\n",
       "      <td>0.196001</td>\n",
       "    </tr>\n",
       "    <tr>\n",
       "      <th>RESTRINGID</th>\n",
       "      <td>0.137362</td>\n",
       "    </tr>\n",
       "    <tr>\n",
       "      <th>DEPOSITO3</th>\n",
       "      <td>0.128124</td>\n",
       "    </tr>\n",
       "    <tr>\n",
       "      <th>DEPOSITO2</th>\n",
       "      <td>0.122769</td>\n",
       "    </tr>\n",
       "    <tr>\n",
       "      <th>PAGOXOTRO</th>\n",
       "      <td>0.088093</td>\n",
       "    </tr>\n",
       "    <tr>\n",
       "      <th>LIT-JUVENI</th>\n",
       "      <td>0.078320</td>\n",
       "    </tr>\n",
       "    <tr>\n",
       "      <th>RETROSPECT</th>\n",
       "      <td>0.074839</td>\n",
       "    </tr>\n",
       "    <tr>\n",
       "      <th>RESERVA-2</th>\n",
       "      <td>0.062254</td>\n",
       "    </tr>\n",
       "    <tr>\n",
       "      <th>CATALOGA</th>\n",
       "      <td>0.039896</td>\n",
       "    </tr>\n",
       "    <tr>\n",
       "      <th>RESERVA-3</th>\n",
       "      <td>0.023429</td>\n",
       "    </tr>\n",
       "    <tr>\n",
       "      <th>EN-ENCUADE</th>\n",
       "      <td>0.018476</td>\n",
       "    </tr>\n",
       "    <tr>\n",
       "      <th>RESERVA</th>\n",
       "      <td>0.017003</td>\n",
       "    </tr>\n",
       "    <tr>\n",
       "      <th>COLEC-GRAL</th>\n",
       "      <td>0.015664</td>\n",
       "    </tr>\n",
       "    <tr>\n",
       "      <th>DEPOSITO4</th>\n",
       "      <td>0.013120</td>\n",
       "    </tr>\n",
       "    <tr>\n",
       "      <th>P-INTERBIB</th>\n",
       "      <td>0.012585</td>\n",
       "    </tr>\n",
       "    <tr>\n",
       "      <th>SALA-VIRTU</th>\n",
       "      <td>0.005355</td>\n",
       "    </tr>\n",
       "    <tr>\n",
       "      <th>MORFOLOGIA</th>\n",
       "      <td>0.004552</td>\n",
       "    </tr>\n",
       "    <tr>\n",
       "      <th>PROCESOS</th>\n",
       "      <td>0.003213</td>\n",
       "    </tr>\n",
       "    <tr>\n",
       "      <th>ARCHIVO-HJ</th>\n",
       "      <td>0.002811</td>\n",
       "    </tr>\n",
       "    <tr>\n",
       "      <th>RESERVA-4</th>\n",
       "      <td>0.002544</td>\n",
       "    </tr>\n",
       "    <tr>\n",
       "      <th>SALAESCRIT</th>\n",
       "      <td>0.002276</td>\n",
       "    </tr>\n",
       "    <tr>\n",
       "      <th>INCOMPLETO</th>\n",
       "      <td>0.002008</td>\n",
       "    </tr>\n",
       "    <tr>\n",
       "      <th>LABORAT-BI</th>\n",
       "      <td>0.001473</td>\n",
       "    </tr>\n",
       "    <tr>\n",
       "      <th>TABLET</th>\n",
       "      <td>0.001339</td>\n",
       "    </tr>\n",
       "    <tr>\n",
       "      <th>SALA-VIDEO</th>\n",
       "      <td>0.001205</td>\n",
       "    </tr>\n",
       "    <tr>\n",
       "      <th>A-BATEMAN</th>\n",
       "      <td>0.000937</td>\n",
       "    </tr>\n",
       "    <tr>\n",
       "      <th>SALAPISO-2</th>\n",
       "      <td>0.000268</td>\n",
       "    </tr>\n",
       "    <tr>\n",
       "      <th>RESERVA-0</th>\n",
       "      <td>0.000268</td>\n",
       "    </tr>\n",
       "    <tr>\n",
       "      <th>EXTRAVIADO</th>\n",
       "      <td>0.000268</td>\n",
       "    </tr>\n",
       "    <tr>\n",
       "      <th>SALAPISO-3</th>\n",
       "      <td>0.000134</td>\n",
       "    </tr>\n",
       "    <tr>\n",
       "      <th>SALAPISO</th>\n",
       "      <td>0.000134</td>\n",
       "    </tr>\n",
       "    <tr>\n",
       "      <th>DEVUELTO</th>\n",
       "      <td>0.000134</td>\n",
       "    </tr>\n",
       "    <tr>\n",
       "      <th>NOVEDADHEM</th>\n",
       "      <td>0.000134</td>\n",
       "    </tr>\n",
       "  </tbody>\n",
       "</table>\n",
       "</div>"
      ],
      "text/plain": [
       "Ubicación Habitual  Procentaje (%)\n",
       "HEMEROTECA               28.227795\n",
       "COL-GRAL-3               11.734906\n",
       "COL-GRAL-2                9.039085\n",
       "COL-GRAL-4                8.564077\n",
       "SALA-TESIS                8.433543\n",
       "COL-ALTERN                6.856295\n",
       "COL-GRAL-0                6.056492\n",
       "SALA-MUSIC                4.650746\n",
       "DEPOSITO1                 3.752540\n",
       "AUDIOVISUA                2.633700\n",
       "REFERENCIA                2.030969\n",
       "DESCARTADO                1.675650\n",
       "SALAPISOMU                1.297437\n",
       "EN-LINEA                  1.278158\n",
       "PERDIDO                   1.053239\n",
       "VALIOSOS                  0.600990\n",
       "JURISPRUDE                0.572741\n",
       "REPOSICION                0.253436\n",
       "LIT-INFANT                0.231212\n",
       "TESIS-REST                0.196001\n",
       "RESTRINGID                0.137362\n",
       "DEPOSITO3                 0.128124\n",
       "DEPOSITO2                 0.122769\n",
       "PAGOXOTRO                 0.088093\n",
       "LIT-JUVENI                0.078320\n",
       "RETROSPECT                0.074839\n",
       "RESERVA-2                 0.062254\n",
       "CATALOGA                  0.039896\n",
       "RESERVA-3                 0.023429\n",
       "EN-ENCUADE                0.018476\n",
       "RESERVA                   0.017003\n",
       "COLEC-GRAL                0.015664\n",
       "DEPOSITO4                 0.013120\n",
       "P-INTERBIB                0.012585\n",
       "SALA-VIRTU                0.005355\n",
       "MORFOLOGIA                0.004552\n",
       "PROCESOS                  0.003213\n",
       "ARCHIVO-HJ                0.002811\n",
       "RESERVA-4                 0.002544\n",
       "SALAESCRIT                0.002276\n",
       "INCOMPLETO                0.002008\n",
       "LABORAT-BI                0.001473\n",
       "TABLET                    0.001339\n",
       "SALA-VIDEO                0.001205\n",
       "A-BATEMAN                 0.000937\n",
       "SALAPISO-2                0.000268\n",
       "RESERVA-0                 0.000268\n",
       "EXTRAVIADO                0.000268\n",
       "SALAPISO-3                0.000134\n",
       "SALAPISO                  0.000134\n",
       "DEVUELTO                  0.000134\n",
       "NOVEDADHEM                0.000134"
      ]
     },
     "metadata": {},
     "output_type": "display_data"
    }
   ],
   "source": [
    "frecuencias(dataset,col)"
   ]
  },
  {
   "cell_type": "markdown",
   "metadata": {
    "id": "uP4OvtF6Szh7"
   },
   "source": [
    "La descripción de cada uno de los valores de este atributo se describen en la siguiente tabla: \n",
    "\n",
    "Categoría(nombre)   | Descripción\n",
    "--------------------|------------------\n",
    "Colección de Referencia| Piso 1\n",
    "AUDIOVISUA| Sótano 2 (alberga videos, blu-ray, videos beta y vhs, películas).\n",
    "CATALOGA| Indica que el registro está en proceso de Catalogación y aún no está disponible para préstamo\n",
    "COL-ALTERN| Indica que son ítems que se enviarán a Depósito\n",
    "COL-GRAL-0, COL-GRAL-1, COL-GRAL-2, COL-GRAL-3, COL-GRAL-4| Ubicaciones de las Colecciones de los pisos 0 al 4.\n",
    "DEPÓSITO| Ítems que no están disponibles en la Colección\n",
    "HEMEROTECA| Ubicación donde se encuentran las Revistas. Sótano 2\n",
    "JURISPRUDE| Colección del área de Ciencias Jurídicas\n",
    "LIT-INFANT| Literatura Infantil\n",
    "LIT-JUVENI| Literatura Juvenil.\n",
    "PERDIDO| Ítems reportados como perdidos.\n",
    "P-INTERBIB| Significa Préstamos Interbibliotecarios. Estos ítems no hacen parte de la Biblioteca General.<br/> Son ítems solicitados a otras bibliotecas en calidad de préstamo.\n",
    "REFERENCIA| Colección de Referencia Piso 1\n",
    "RESERVA-2, RESERVA-3| Ítems solicitados como Reserva Académica de los piso 2 y 3.\n",
    "SALA-MUSIC| Sala de Música\n",
    "SALAPISOMU| Consulta en Sala de Música.\n",
    "SALA-TESIS| Sala de Tesis. Sótano 2.\n",
    "VALIOSOS| Colección de Libros Valiosos."
   ]
  },
  {
   "cell_type": "markdown",
   "metadata": {
    "id": "FxoRUSMzRmrC"
   },
   "source": [
    "**Análisis:**La mayoría del material de la biblioteca se encuentra entre la hemeroteca y las colecciones de los pisos 0 a 4 de la bilioteca general."
   ]
  },
  {
   "cell_type": "markdown",
   "metadata": {
    "id": "wCqD5LLDKdTK"
   },
   "source": [
    "### Col: Ubicación Actual\n",
    "**Descripción:** Ubicación actual que tiene el ítem al interior de la biblioteca. "
   ]
  },
  {
   "cell_type": "code",
   "execution_count": 190,
   "metadata": {
    "colab": {
     "base_uri": "https://localhost:8080/"
    },
    "executionInfo": {
     "elapsed": 246,
     "status": "ok",
     "timestamp": 1632953998966,
     "user": {
      "displayName": "juan sebastian angarita torres",
      "photoUrl": "https://lh3.googleusercontent.com/a-/AOh14GgjiV1o_Xb2Ov2kAJhpXcHsgVLy47m-BxyXrYYMfw=s64",
      "userId": "11476954540008106843"
     },
     "user_tz": 300
    },
    "id": "13tkM-pTKOMX",
    "outputId": "2079fdd4-8a76-457f-90cc-da54a46e19d0"
   },
   "outputs": [
    {
     "name": "stdout",
     "output_type": "stream",
     "text": [
      "Número de datos nulos: 0\n",
      "Número de datos únicos: 66\n",
      "Tipo de dato: <class 'str'>\n",
      "Ejemplo: A-BATEMAN\n"
     ]
    }
   ],
   "source": [
    "col = \"Ubicación Actual\"\n",
    "descripcion(dataset,col)"
   ]
  },
  {
   "cell_type": "code",
   "execution_count": 191,
   "metadata": {
    "colab": {
     "base_uri": "https://localhost:8080/",
     "height": 349
    },
    "executionInfo": {
     "elapsed": 1454,
     "status": "ok",
     "timestamp": 1632954000419,
     "user": {
      "displayName": "juan sebastian angarita torres",
      "photoUrl": "https://lh3.googleusercontent.com/a-/AOh14GgjiV1o_Xb2Ov2kAJhpXcHsgVLy47m-BxyXrYYMfw=s64",
      "userId": "11476954540008106843"
     },
     "user_tz": 300
    },
    "id": "xVOY7CzDLqQw",
    "outputId": "1c98c4ac-0d41-4344-e31b-02c68ed860c0"
   },
   "outputs": [
    {
     "data": {
      "image/png": "[encoded data removed]",
      "text/plain": [
       "<Figure size 1800x720 with 1 Axes>"
      ]
     },
     "metadata": {
      "needs_background": "light"
     },
     "output_type": "display_data"
    }
   ],
   "source": [
    "histograma(dataset,col)"
   ]
  },
  {
   "cell_type": "code",
   "execution_count": 192,
   "metadata": {
    "colab": {
     "base_uri": "https://localhost:8080/",
     "height": 417
    },
    "executionInfo": {
     "elapsed": 8,
     "status": "ok",
     "timestamp": 1632954000420,
     "user": {
      "displayName": "juan sebastian angarita torres",
      "photoUrl": "https://lh3.googleusercontent.com/a-/AOh14GgjiV1o_Xb2Ov2kAJhpXcHsgVLy47m-BxyXrYYMfw=s64",
      "userId": "11476954540008106843"
     },
     "user_tz": 300
    },
    "id": "n6UiILkUSgc-",
    "outputId": "c83858f6-cebe-484b-84db-1a73c9b7d112"
   },
   "outputs": [
    {
     "data": {
      "text/html": [
       "<div>\n",
       "<style scoped>\n",
       "    .dataframe tbody tr th:only-of-type {\n",
       "        vertical-align: middle;\n",
       "    }\n",
       "\n",
       "    .dataframe tbody tr th {\n",
       "        vertical-align: top;\n",
       "    }\n",
       "\n",
       "    .dataframe thead th {\n",
       "        text-align: right;\n",
       "    }\n",
       "</style>\n",
       "<table border=\"1\" class=\"dataframe\">\n",
       "  <thead>\n",
       "    <tr style=\"text-align: right;\">\n",
       "      <th>Ubicación Actual</th>\n",
       "      <th>Procentaje (%)</th>\n",
       "    </tr>\n",
       "  </thead>\n",
       "  <tbody>\n",
       "    <tr>\n",
       "      <th>HEMEROTECA</th>\n",
       "      <td>28.143986</td>\n",
       "    </tr>\n",
       "    <tr>\n",
       "      <th>COL-GRAL-3</th>\n",
       "      <td>11.532076</td>\n",
       "    </tr>\n",
       "    <tr>\n",
       "      <th>COL-GRAL-2</th>\n",
       "      <td>8.845761</td>\n",
       "    </tr>\n",
       "    <tr>\n",
       "      <th>SALA-TESIS</th>\n",
       "      <td>8.433275</td>\n",
       "    </tr>\n",
       "    <tr>\n",
       "      <th>COL-GRAL-4</th>\n",
       "      <td>8.346788</td>\n",
       "    </tr>\n",
       "    <tr>\n",
       "      <th>...</th>\n",
       "      <td>...</td>\n",
       "    </tr>\n",
       "    <tr>\n",
       "      <th>SALAEXPO-3</th>\n",
       "      <td>0.000268</td>\n",
       "    </tr>\n",
       "    <tr>\n",
       "      <th>LABORAT-BI</th>\n",
       "      <td>0.000134</td>\n",
       "    </tr>\n",
       "    <tr>\n",
       "      <th>JSANCHEZ</th>\n",
       "      <td>0.000134</td>\n",
       "    </tr>\n",
       "    <tr>\n",
       "      <th>SALAPISO-3</th>\n",
       "      <td>0.000134</td>\n",
       "    </tr>\n",
       "    <tr>\n",
       "      <th>DEVUELTO</th>\n",
       "      <td>0.000134</td>\n",
       "    </tr>\n",
       "  </tbody>\n",
       "</table>\n",
       "<p>66 rows × 1 columns</p>\n",
       "</div>"
      ],
      "text/plain": [
       "Ubicación Actual  Procentaje (%)\n",
       "HEMEROTECA             28.143986\n",
       "COL-GRAL-3             11.532076\n",
       "COL-GRAL-2              8.845761\n",
       "SALA-TESIS              8.433275\n",
       "COL-GRAL-4              8.346788\n",
       "...                          ...\n",
       "SALAEXPO-3              0.000268\n",
       "LABORAT-BI              0.000134\n",
       "JSANCHEZ                0.000134\n",
       "SALAPISO-3              0.000134\n",
       "DEVUELTO                0.000134\n",
       "\n",
       "[66 rows x 1 columns]"
      ]
     },
     "metadata": {},
     "output_type": "display_data"
    }
   ],
   "source": [
    "frecuencias(dataset,col)"
   ]
  },
  {
   "cell_type": "markdown",
   "metadata": {
    "id": "pVZn15jhTp9d"
   },
   "source": [
    "**Análisis:**Este atributo cumple las mismas carácteristicas que la ubicación habitual de los ítems. "
   ]
  },
  {
   "cell_type": "markdown",
   "metadata": {
    "id": "Z6JG1F7GCnCi"
   },
   "source": [
    "### Col: Tipo de ítem\n",
    "**Descripción:** Los material o ítems que tiene la biblioteca varian y no son todos del mismo tipo. Este atributo define que tipo de objeto es el ítem. "
   ]
  },
  {
   "cell_type": "code",
   "execution_count": 193,
   "metadata": {
    "colab": {
     "base_uri": "https://localhost:8080/"
    },
    "executionInfo": {
     "elapsed": 7,
     "status": "ok",
     "timestamp": 1632954000420,
     "user": {
      "displayName": "juan sebastian angarita torres",
      "photoUrl": "https://lh3.googleusercontent.com/a-/AOh14GgjiV1o_Xb2Ov2kAJhpXcHsgVLy47m-BxyXrYYMfw=s64",
      "userId": "11476954540008106843"
     },
     "user_tz": 300
    },
    "id": "2E5yBmzcKPwq",
    "outputId": "5060fe6e-3f0e-4f95-cc0c-a9681a34ac6f"
   },
   "outputs": [
    {
     "name": "stdout",
     "output_type": "stream",
     "text": [
      "Número de datos nulos: 0\n",
      "Número de datos únicos: 28\n",
      "Tipo de dato: <class 'str'>\n",
      "Ejemplo: LIBRO\n"
     ]
    }
   ],
   "source": [
    "col = \"Tipo de ítem\"\n",
    "descripcion(dataset,col)"
   ]
  },
  {
   "cell_type": "code",
   "execution_count": 194,
   "metadata": {
    "colab": {
     "base_uri": "https://localhost:8080/",
     "height": 346
    },
    "executionInfo": {
     "elapsed": 828,
     "status": "ok",
     "timestamp": 1632954001245,
     "user": {
      "displayName": "juan sebastian angarita torres",
      "photoUrl": "https://lh3.googleusercontent.com/a-/AOh14GgjiV1o_Xb2Ov2kAJhpXcHsgVLy47m-BxyXrYYMfw=s64",
      "userId": "11476954540008106843"
     },
     "user_tz": 300
    },
    "id": "5FUbRGN-LsxQ",
    "outputId": "df13f07e-7e2b-4bf7-dda1-c0a777345ea1"
   },
   "outputs": [
    {
     "data": {
      "image/png": "[encoded data removed]",
      "text/plain": [
       "<Figure size 1800x720 with 1 Axes>"
      ]
     },
     "metadata": {
      "needs_background": "light"
     },
     "output_type": "display_data"
    }
   ],
   "source": [
    "histograma(dataset,col)"
   ]
  },
  {
   "cell_type": "code",
   "execution_count": 195,
   "metadata": {
    "colab": {
     "base_uri": "https://localhost:8080/",
     "height": 911
    },
    "executionInfo": {
     "elapsed": 4,
     "status": "ok",
     "timestamp": 1632954001246,
     "user": {
      "displayName": "juan sebastian angarita torres",
      "photoUrl": "https://lh3.googleusercontent.com/a-/AOh14GgjiV1o_Xb2Ov2kAJhpXcHsgVLy47m-BxyXrYYMfw=s64",
      "userId": "11476954540008106843"
     },
     "user_tz": 300
    },
    "id": "0V-VFHpFS9O7",
    "outputId": "b88ea7c5-7649-491e-e536-d8d06ff1e27b"
   },
   "outputs": [
    {
     "data": {
      "text/html": [
       "<div>\n",
       "<style scoped>\n",
       "    .dataframe tbody tr th:only-of-type {\n",
       "        vertical-align: middle;\n",
       "    }\n",
       "\n",
       "    .dataframe tbody tr th {\n",
       "        vertical-align: top;\n",
       "    }\n",
       "\n",
       "    .dataframe thead th {\n",
       "        text-align: right;\n",
       "    }\n",
       "</style>\n",
       "<table border=\"1\" class=\"dataframe\">\n",
       "  <thead>\n",
       "    <tr style=\"text-align: right;\">\n",
       "      <th>Tipo de ítem</th>\n",
       "      <th>Procentaje (%)</th>\n",
       "    </tr>\n",
       "  </thead>\n",
       "  <tbody>\n",
       "    <tr>\n",
       "      <th>LIBRO</th>\n",
       "      <td>39.231445</td>\n",
       "    </tr>\n",
       "    <tr>\n",
       "      <th>REVISTA</th>\n",
       "      <td>23.658449</td>\n",
       "    </tr>\n",
       "    <tr>\n",
       "      <th>TESIS</th>\n",
       "      <td>11.874677</td>\n",
       "    </tr>\n",
       "    <tr>\n",
       "      <th>ANALITICA</th>\n",
       "      <td>8.881909</td>\n",
       "    </tr>\n",
       "    <tr>\n",
       "      <th>PARTITURA</th>\n",
       "      <td>4.393695</td>\n",
       "    </tr>\n",
       "    <tr>\n",
       "      <th>LITERATURA</th>\n",
       "      <td>3.690152</td>\n",
       "    </tr>\n",
       "    <tr>\n",
       "      <th>REFERENCIA</th>\n",
       "      <td>2.594071</td>\n",
       "    </tr>\n",
       "    <tr>\n",
       "      <th>VIDEO</th>\n",
       "      <td>2.059620</td>\n",
       "    </tr>\n",
       "    <tr>\n",
       "      <th>GRAB-SONOR</th>\n",
       "      <td>1.382184</td>\n",
       "    </tr>\n",
       "    <tr>\n",
       "      <th>FOLLETO</th>\n",
       "      <td>1.033291</td>\n",
       "    </tr>\n",
       "    <tr>\n",
       "      <th>DIAPOSITIV</th>\n",
       "      <td>0.631113</td>\n",
       "    </tr>\n",
       "    <tr>\n",
       "      <th>MAPA</th>\n",
       "      <td>0.161594</td>\n",
       "    </tr>\n",
       "    <tr>\n",
       "      <th>CD-ROM</th>\n",
       "      <td>0.138031</td>\n",
       "    </tr>\n",
       "    <tr>\n",
       "      <th>RESERVA</th>\n",
       "      <td>0.097197</td>\n",
       "    </tr>\n",
       "    <tr>\n",
       "      <th>INVESTIGA</th>\n",
       "      <td>0.083943</td>\n",
       "    </tr>\n",
       "    <tr>\n",
       "      <th>MAT-GRAFI</th>\n",
       "      <td>0.023429</td>\n",
       "    </tr>\n",
       "    <tr>\n",
       "      <th>SONOVISO</th>\n",
       "      <td>0.015262</td>\n",
       "    </tr>\n",
       "    <tr>\n",
       "      <th>RESERVAVID</th>\n",
       "      <td>0.010844</td>\n",
       "    </tr>\n",
       "    <tr>\n",
       "      <th>DVD-ROM</th>\n",
       "      <td>0.010577</td>\n",
       "    </tr>\n",
       "    <tr>\n",
       "      <th>P-INTJAVER</th>\n",
       "      <td>0.008702</td>\n",
       "    </tr>\n",
       "    <tr>\n",
       "      <th>DAõNA-PERDI</th>\n",
       "      <td>0.005355</td>\n",
       "    </tr>\n",
       "    <tr>\n",
       "      <th>OBJ-TRIDI</th>\n",
       "      <td>0.004016</td>\n",
       "    </tr>\n",
       "    <tr>\n",
       "      <th>JUEGO</th>\n",
       "      <td>0.003213</td>\n",
       "    </tr>\n",
       "    <tr>\n",
       "      <th>VIDEOJUEGO</th>\n",
       "      <td>0.002276</td>\n",
       "    </tr>\n",
       "    <tr>\n",
       "      <th>CATA-FUENT</th>\n",
       "      <td>0.001874</td>\n",
       "    </tr>\n",
       "    <tr>\n",
       "      <th>TABLET</th>\n",
       "      <td>0.001339</td>\n",
       "    </tr>\n",
       "    <tr>\n",
       "      <th>USB</th>\n",
       "      <td>0.001071</td>\n",
       "    </tr>\n",
       "    <tr>\n",
       "      <th>B-DE-DATOS</th>\n",
       "      <td>0.000669</td>\n",
       "    </tr>\n",
       "  </tbody>\n",
       "</table>\n",
       "</div>"
      ],
      "text/plain": [
       "Tipo de ítem  Procentaje (%)\n",
       "LIBRO              39.231445\n",
       "REVISTA            23.658449\n",
       "TESIS              11.874677\n",
       "ANALITICA           8.881909\n",
       "PARTITURA           4.393695\n",
       "LITERATURA          3.690152\n",
       "REFERENCIA          2.594071\n",
       "VIDEO               2.059620\n",
       "GRAB-SONOR          1.382184\n",
       "FOLLETO             1.033291\n",
       "DIAPOSITIV          0.631113\n",
       "MAPA                0.161594\n",
       "CD-ROM              0.138031\n",
       "RESERVA             0.097197\n",
       "INVESTIGA           0.083943\n",
       "MAT-GRAFI           0.023429\n",
       "SONOVISO            0.015262\n",
       "RESERVAVID          0.010844\n",
       "DVD-ROM             0.010577\n",
       "P-INTJAVER          0.008702\n",
       "DAõNA-PERDI         0.005355\n",
       "OBJ-TRIDI           0.004016\n",
       "JUEGO               0.003213\n",
       "VIDEOJUEGO          0.002276\n",
       "CATA-FUENT          0.001874\n",
       "TABLET              0.001339\n",
       "USB                 0.001071\n",
       "B-DE-DATOS          0.000669"
      ]
     },
     "metadata": {},
     "output_type": "display_data"
    }
   ],
   "source": [
    "frecuencias(dataset,col)\n"
   ]
  },
  {
   "cell_type": "markdown",
   "metadata": {
    "id": "sC901kGZUKQa"
   },
   "source": [
    "**Análisis:**El tipo de ítem más recurrente de la biblioteca son los libros, seguidos de revistas y tesis. Posteriormente se realizará una comparativa para enteder si el material que más tiene la biblioteca así mismo es el que más se alquila."
   ]
  },
  {
   "cell_type": "markdown",
   "metadata": {
    "id": "N_5oRe0tCnoh"
   },
   "source": [
    "### Col: Biblioteca\n",
    "**Descripción:** A que biblioteca pertenece el ítem. Anteriormente fue filtrado para que el dataset solo tuviera atributos de la biblioteca general, por lo cual contiene un único atributo."
   ]
  },
  {
   "cell_type": "code",
   "execution_count": 196,
   "metadata": {
    "colab": {
     "base_uri": "https://localhost:8080/"
    },
    "executionInfo": {
     "elapsed": 247,
     "status": "ok",
     "timestamp": 1632954001490,
     "user": {
      "displayName": "juan sebastian angarita torres",
      "photoUrl": "https://lh3.googleusercontent.com/a-/AOh14GgjiV1o_Xb2Ov2kAJhpXcHsgVLy47m-BxyXrYYMfw=s64",
      "userId": "11476954540008106843"
     },
     "user_tz": 300
    },
    "id": "oNxtZL7tKQGu",
    "outputId": "4b752927-cd15-4d0c-82d8-b2e94a3c57e7"
   },
   "outputs": [
    {
     "name": "stdout",
     "output_type": "stream",
     "text": [
      "Número de datos nulos: 0\n",
      "Número de datos únicos: 1\n",
      "Tipo de dato: <class 'str'>\n",
      "Ejemplo: B-GENERAL\n"
     ]
    }
   ],
   "source": [
    "col = \"Biblioteca\"\n",
    "descripcion(dataset,col)"
   ]
  },
  {
   "cell_type": "markdown",
   "metadata": {
    "id": "-mcNMPjdCn37"
   },
   "source": [
    "### Col: Cat2\n",
    "**Descripción:** Describe la forma de adquisición del material por parte de la biblioteca. "
   ]
  },
  {
   "cell_type": "code",
   "execution_count": 197,
   "metadata": {
    "colab": {
     "base_uri": "https://localhost:8080/"
    },
    "executionInfo": {
     "elapsed": 175,
     "status": "ok",
     "timestamp": 1632954001664,
     "user": {
      "displayName": "juan sebastian angarita torres",
      "photoUrl": "https://lh3.googleusercontent.com/a-/AOh14GgjiV1o_Xb2Ov2kAJhpXcHsgVLy47m-BxyXrYYMfw=s64",
      "userId": "11476954540008106843"
     },
     "user_tz": 300
    },
    "id": "gcEng2SBKQj8",
    "outputId": "f86187c2-f872-4d33-c361-1c6e23c687ac"
   },
   "outputs": [
    {
     "name": "stdout",
     "output_type": "stream",
     "text": [
      "Número de datos nulos: 244646\n",
      "Número de datos únicos: 17\n",
      "Tipo de dato: <class 'str'>\n",
      "Ejemplo: DONACION\n"
     ]
    }
   ],
   "source": [
    "col = \"Cat2\"\n",
    "descripcion(dataset,col)"
   ]
  },
  {
   "cell_type": "code",
   "execution_count": 198,
   "metadata": {
    "colab": {
     "base_uri": "https://localhost:8080/",
     "height": 345
    },
    "executionInfo": {
     "elapsed": 598,
     "status": "ok",
     "timestamp": 1632954002261,
     "user": {
      "displayName": "juan sebastian angarita torres",
      "photoUrl": "https://lh3.googleusercontent.com/a-/AOh14GgjiV1o_Xb2Ov2kAJhpXcHsgVLy47m-BxyXrYYMfw=s64",
      "userId": "11476954540008106843"
     },
     "user_tz": 300
    },
    "id": "uNoPWQ-pL3Xk",
    "outputId": "6cbd4aed-b70f-4586-c4f9-ae07078fdbfd"
   },
   "outputs": [
    {
     "data": {
      "image/png": "[encoded data removed]",
      "text/plain": [
       "<Figure size 1800x720 with 1 Axes>"
      ]
     },
     "metadata": {
      "needs_background": "light"
     },
     "output_type": "display_data"
    }
   ],
   "source": [
    "histograma(dataset,col)"
   ]
  },
  {
   "cell_type": "code",
   "execution_count": 199,
   "metadata": {
    "colab": {
     "base_uri": "https://localhost:8080/",
     "height": 542
    },
    "executionInfo": {
     "elapsed": 19,
     "status": "ok",
     "timestamp": 1632954002261,
     "user": {
      "displayName": "juan sebastian angarita torres",
      "photoUrl": "https://lh3.googleusercontent.com/a-/AOh14GgjiV1o_Xb2Ov2kAJhpXcHsgVLy47m-BxyXrYYMfw=s64",
      "userId": "11476954540008106843"
     },
     "user_tz": 300
    },
    "id": "Af-2qEmRS-GZ",
    "outputId": "2cec8ac6-105a-4ea0-897b-9355f51eaeeb"
   },
   "outputs": [
    {
     "data": {
      "text/html": [
       "<div>\n",
       "<style scoped>\n",
       "    .dataframe tbody tr th:only-of-type {\n",
       "        vertical-align: middle;\n",
       "    }\n",
       "\n",
       "    .dataframe tbody tr th {\n",
       "        vertical-align: top;\n",
       "    }\n",
       "\n",
       "    .dataframe thead th {\n",
       "        text-align: right;\n",
       "    }\n",
       "</style>\n",
       "<table border=\"1\" class=\"dataframe\">\n",
       "  <thead>\n",
       "    <tr style=\"text-align: right;\">\n",
       "      <th>Cat2</th>\n",
       "      <th>Procentaje (%)</th>\n",
       "    </tr>\n",
       "  </thead>\n",
       "  <tbody>\n",
       "    <tr>\n",
       "      <th>COMPRA</th>\n",
       "      <td>45.822715</td>\n",
       "    </tr>\n",
       "    <tr>\n",
       "      <th>DONACION</th>\n",
       "      <td>26.825447</td>\n",
       "    </tr>\n",
       "    <tr>\n",
       "      <th>MEMORIA-I</th>\n",
       "      <td>20.822317</td>\n",
       "    </tr>\n",
       "    <tr>\n",
       "      <th>CANJE</th>\n",
       "      <td>1.740834</td>\n",
       "    </tr>\n",
       "    <tr>\n",
       "      <th>GRABADO</th>\n",
       "      <td>1.494959</td>\n",
       "    </tr>\n",
       "    <tr>\n",
       "      <th>ANALIT-PUJ</th>\n",
       "      <td>1.442001</td>\n",
       "    </tr>\n",
       "    <tr>\n",
       "      <th>D-JESUITAS</th>\n",
       "      <td>0.704974</td>\n",
       "    </tr>\n",
       "    <tr>\n",
       "      <th>PAGO-MULTA</th>\n",
       "      <td>0.653609</td>\n",
       "    </tr>\n",
       "    <tr>\n",
       "      <th>REPOSICION</th>\n",
       "      <td>0.454122</td>\n",
       "    </tr>\n",
       "    <tr>\n",
       "      <th>ACCESO-AB</th>\n",
       "      <td>0.016524</td>\n",
       "    </tr>\n",
       "    <tr>\n",
       "      <th>DOCTORADO</th>\n",
       "      <td>0.014135</td>\n",
       "    </tr>\n",
       "    <tr>\n",
       "      <th>CEJA</th>\n",
       "      <td>0.006968</td>\n",
       "    </tr>\n",
       "    <tr>\n",
       "      <th>MAESTRIA</th>\n",
       "      <td>0.000597</td>\n",
       "    </tr>\n",
       "    <tr>\n",
       "      <th>SUSCRIPCIO</th>\n",
       "      <td>0.000398</td>\n",
       "    </tr>\n",
       "    <tr>\n",
       "      <th>I-DEPOSITA</th>\n",
       "      <td>0.000199</td>\n",
       "    </tr>\n",
       "    <tr>\n",
       "      <th>ESPECIALIZ</th>\n",
       "      <td>0.000199</td>\n",
       "    </tr>\n",
       "  </tbody>\n",
       "</table>\n",
       "</div>"
      ],
      "text/plain": [
       "Cat2        Procentaje (%)\n",
       "COMPRA           45.822715\n",
       "DONACION         26.825447\n",
       "MEMORIA-I        20.822317\n",
       "CANJE             1.740834\n",
       "GRABADO           1.494959\n",
       "ANALIT-PUJ        1.442001\n",
       "D-JESUITAS        0.704974\n",
       "PAGO-MULTA        0.653609\n",
       "REPOSICION        0.454122\n",
       "ACCESO-AB         0.016524\n",
       "DOCTORADO         0.014135\n",
       "CEJA              0.006968\n",
       "MAESTRIA          0.000597\n",
       "SUSCRIPCIO        0.000398\n",
       "I-DEPOSITA        0.000199\n",
       "ESPECIALIZ        0.000199"
      ]
     },
     "metadata": {},
     "output_type": "display_data"
    }
   ],
   "source": [
    "frecuencias(dataset,col)\n"
   ]
  },
  {
   "cell_type": "markdown",
   "metadata": {
    "id": "COP0YZskUkfu"
   },
   "source": [
    "**Análisis:** *Hemos encontrado que la procedencia de la mayoría del material corresponde a las compras realizadas por la biblioteca, el **45.82%** ha sido obtenido de esta forma aunque también es relevante la donación con el **26.82%**.*"
   ]
  },
  {
   "cell_type": "markdown",
   "metadata": {
    "id": "BXsnDj1nCoKT"
   },
   "source": [
    "### Col: Fecha de creación\n",
    "**Descripción:** Fecha de registro del material al interior de la biblioteca. "
   ]
  },
  {
   "cell_type": "code",
   "execution_count": 200,
   "metadata": {
    "executionInfo": {
     "elapsed": 12,
     "status": "ok",
     "timestamp": 1632954002261,
     "user": {
      "displayName": "juan sebastian angarita torres",
      "photoUrl": "https://lh3.googleusercontent.com/a-/AOh14GgjiV1o_Xb2Ov2kAJhpXcHsgVLy47m-BxyXrYYMfw=s64",
      "userId": "11476954540008106843"
     },
     "user_tz": 300
    },
    "id": "AE3MAA_DYWTa"
   },
   "outputs": [],
   "source": [
    " import datetime"
   ]
  },
  {
   "cell_type": "code",
   "execution_count": 201,
   "metadata": {
    "colab": {
     "base_uri": "https://localhost:8080/"
    },
    "executionInfo": {
     "elapsed": 13,
     "status": "ok",
     "timestamp": 1632954002262,
     "user": {
      "displayName": "juan sebastian angarita torres",
      "photoUrl": "https://lh3.googleusercontent.com/a-/AOh14GgjiV1o_Xb2Ov2kAJhpXcHsgVLy47m-BxyXrYYMfw=s64",
      "userId": "11476954540008106843"
     },
     "user_tz": 300
    },
    "id": "XECaj_MRKRZE",
    "outputId": "75c9bf7c-dcba-4e68-d8fb-97aa0289874d"
   },
   "outputs": [
    {
     "name": "stdout",
     "output_type": "stream",
     "text": [
      "Número de datos nulos: 0\n",
      "Número de datos únicos: 12191\n",
      "Tipo de dato: <class 'numpy.int64'>\n",
      "Ejemplo: 20190830\n"
     ]
    }
   ],
   "source": [
    "col = \"Fecha de creación\"\n",
    "descripcion(dataset,col)"
   ]
  },
  {
   "cell_type": "code",
   "execution_count": 202,
   "metadata": {
    "colab": {
     "base_uri": "https://localhost:8080/"
    },
    "executionInfo": {
     "elapsed": 5,
     "status": "ok",
     "timestamp": 1632954002511,
     "user": {
      "displayName": "juan sebastian angarita torres",
      "photoUrl": "https://lh3.googleusercontent.com/a-/AOh14GgjiV1o_Xb2Ov2kAJhpXcHsgVLy47m-BxyXrYYMfw=s64",
      "userId": "11476954540008106843"
     },
     "user_tz": 300
    },
    "id": "3oLw3SKwX1XV",
    "outputId": "cbdc0dae-b633-4b03-fdbc-8397468902da"
   },
   "outputs": [
    {
     "data": {
      "text/plain": [
       "0         20190830\n",
       "1         20190830\n",
       "2         20190830\n",
       "3         20190830\n",
       "4         20190830\n",
       "            ...   \n",
       "746929    20200206\n",
       "746930    20200312\n",
       "746931    20200313\n",
       "746932    20200313\n",
       "746933    20210420\n",
       "Name: Fecha de creación, Length: 746934, dtype: int64"
      ]
     },
     "execution_count": 202,
     "metadata": {},
     "output_type": "execute_result"
    }
   ],
   "source": [
    "dataset[col]"
   ]
  },
  {
   "cell_type": "code",
   "execution_count": 203,
   "metadata": {
    "colab": {
     "base_uri": "https://localhost:8080/"
    },
    "executionInfo": {
     "elapsed": 7367,
     "status": "ok",
     "timestamp": 1632954009876,
     "user": {
      "displayName": "juan sebastian angarita torres",
      "photoUrl": "https://lh3.googleusercontent.com/a-/AOh14GgjiV1o_Xb2Ov2kAJhpXcHsgVLy47m-BxyXrYYMfw=s64",
      "userId": "11476954540008106843"
     },
     "user_tz": 300
    },
    "id": "teWlsONNYes6",
    "outputId": "994fbd80-7851-4a10-c9b3-d90dfef01746"
   },
   "outputs": [
    {
     "data": {
      "text/plain": [
       "Timestamp('2019-08-30 00:00:00')"
      ]
     },
     "execution_count": 203,
     "metadata": {},
     "output_type": "execute_result"
    }
   ],
   "source": [
    "fechasFormat = datasetMaterial[col].apply(lambda x: str(x))\n",
    "fechasSave = fechasFormat.apply(lambda x: datetime.datetime.strptime(x, '%Y%m%d'))\n",
    "datasetMaterial[col] = fechasSave\n",
    "datasetMaterial[col][0]"
   ]
  },
  {
   "cell_type": "code",
   "execution_count": 204,
   "metadata": {
    "colab": {
     "base_uri": "https://localhost:8080/"
    },
    "executionInfo": {
     "elapsed": 15,
     "status": "ok",
     "timestamp": 1632954009877,
     "user": {
      "displayName": "juan sebastian angarita torres",
      "photoUrl": "https://lh3.googleusercontent.com/a-/AOh14GgjiV1o_Xb2Ov2kAJhpXcHsgVLy47m-BxyXrYYMfw=s64",
      "userId": "11476954540008106843"
     },
     "user_tz": 300
    },
    "id": "u8qZVpPUY_nj",
    "outputId": "781c363c-a976-4657-8e01-1ad082c4c6ef"
   },
   "outputs": [
    {
     "name": "stderr",
     "output_type": "stream",
     "text": [
      "C:\\Users\\user\\AppData\\Local\\Temp/ipykernel_10168/3987014383.py:1: FutureWarning: Treating datetime data as categorical rather than numeric in `.describe` is deprecated and will be removed in a future version of pandas. Specify `datetime_is_numeric=True` to silence this warning and adopt the future behavior now.\n",
      "  dataset[col].describe()\n"
     ]
    },
    {
     "data": {
      "text/plain": [
       "count                  746934\n",
       "unique                  12191\n",
       "top       2002-06-29 00:00:00\n",
       "freq                    45126\n",
       "first     1970-01-01 00:00:00\n",
       "last      2021-07-28 00:00:00\n",
       "Name: Fecha de creación, dtype: object"
      ]
     },
     "execution_count": 204,
     "metadata": {},
     "output_type": "execute_result"
    }
   ],
   "source": [
    "dataset[col].describe()"
   ]
  },
  {
   "cell_type": "markdown",
   "metadata": {
    "id": "I5x5xGUIZj6r"
   },
   "source": [
    "**Análisis:** Notamos que los primeros materiales que tiene la biblioteca datan de 1970 y el material más moderno del 2021. "
   ]
  },
  {
   "cell_type": "markdown",
   "metadata": {
    "id": "Y4aNN9QmCoZX"
   },
   "source": [
    "### Col: Total de préstamos\n",
    "**Descripción:** total de préstamos que ha tenido el material. Este número no se calcula en una franja de tiempo especifico.\n",
    "\n"
   ]
  },
  {
   "cell_type": "code",
   "execution_count": 205,
   "metadata": {
    "colab": {
     "base_uri": "https://localhost:8080/"
    },
    "executionInfo": {
     "elapsed": 10,
     "status": "ok",
     "timestamp": 1632954009877,
     "user": {
      "displayName": "juan sebastian angarita torres",
      "photoUrl": "https://lh3.googleusercontent.com/a-/AOh14GgjiV1o_Xb2Ov2kAJhpXcHsgVLy47m-BxyXrYYMfw=s64",
      "userId": "11476954540008106843"
     },
     "user_tz": 300
    },
    "id": "AYlHB17kKR0J",
    "outputId": "bbfa978e-01fa-46fe-fdd3-e2c5f7a7ccc8"
   },
   "outputs": [
    {
     "name": "stdout",
     "output_type": "stream",
     "text": [
      "Número de datos nulos: 0\n",
      "Número de datos únicos: 1047\n",
      "Tipo de dato: <class 'numpy.int64'>\n",
      "Ejemplo: 0\n"
     ]
    }
   ],
   "source": [
    "col = \"Total de préstamos\"\n",
    "descripcion(dataset,col)"
   ]
  },
  {
   "cell_type": "code",
   "execution_count": 206,
   "metadata": {
    "colab": {
     "base_uri": "https://localhost:8080/"
    },
    "executionInfo": {
     "elapsed": 6,
     "status": "ok",
     "timestamp": 1632954009877,
     "user": {
      "displayName": "juan sebastian angarita torres",
      "photoUrl": "https://lh3.googleusercontent.com/a-/AOh14GgjiV1o_Xb2Ov2kAJhpXcHsgVLy47m-BxyXrYYMfw=s64",
      "userId": "11476954540008106843"
     },
     "user_tz": 300
    },
    "id": "pi--VbrpistS",
    "outputId": "cb0bdbc7-3cad-42d5-8050-42482133ff61"
   },
   "outputs": [
    {
     "data": {
      "text/plain": [
       "count    746934.000000\n",
       "mean         12.151096\n",
       "std          46.285152\n",
       "min           0.000000\n",
       "25%           0.000000\n",
       "50%           0.000000\n",
       "75%           6.000000\n",
       "max        2504.000000\n",
       "Name: Total de préstamos, dtype: float64"
      ]
     },
     "execution_count": 206,
     "metadata": {},
     "output_type": "execute_result"
    }
   ],
   "source": [
    "dataset[col].describe()"
   ]
  },
  {
   "cell_type": "code",
   "execution_count": 207,
   "metadata": {
    "colab": {
     "base_uri": "https://localhost:8080/",
     "height": 492
    },
    "executionInfo": {
     "elapsed": 679,
     "status": "ok",
     "timestamp": 1632954010553,
     "user": {
      "displayName": "juan sebastian angarita torres",
      "photoUrl": "https://lh3.googleusercontent.com/a-/AOh14GgjiV1o_Xb2Ov2kAJhpXcHsgVLy47m-BxyXrYYMfw=s64",
      "userId": "11476954540008106843"
     },
     "user_tz": 300
    },
    "id": "DySHj03GY4R4",
    "outputId": "924844ad-dd43-4748-ae89-6c5ed9f24233"
   },
   "outputs": [
    {
     "data": {
      "text/html": [
       "<div>\n",
       "<style scoped>\n",
       "    .dataframe tbody tr th:only-of-type {\n",
       "        vertical-align: middle;\n",
       "    }\n",
       "\n",
       "    .dataframe tbody tr th {\n",
       "        vertical-align: top;\n",
       "    }\n",
       "\n",
       "    .dataframe thead th {\n",
       "        text-align: right;\n",
       "    }\n",
       "</style>\n",
       "<table border=\"1\" class=\"dataframe\">\n",
       "  <thead>\n",
       "    <tr style=\"text-align: right;\">\n",
       "      <th></th>\n",
       "      <th>Signatura</th>\n",
       "      <th>Id de item</th>\n",
       "      <th>Ubicación Habitual</th>\n",
       "      <th>Ubicación Actual</th>\n",
       "      <th>Tipo de ítem</th>\n",
       "      <th>Biblioteca</th>\n",
       "      <th>Cat2</th>\n",
       "      <th>Fecha de creación</th>\n",
       "      <th>Total de préstamos</th>\n",
       "      <th>Llaves</th>\n",
       "      <th>Vol</th>\n",
       "      <th>Copias</th>\n",
       "      <th>Autor</th>\n",
       "      <th>Autor corporativo</th>\n",
       "      <th>Título</th>\n",
       "      <th>Tema 650</th>\n",
       "      <th>Año publicación</th>\n",
       "      <th>Todas las temáticas</th>\n",
       "    </tr>\n",
       "  </thead>\n",
       "  <tbody>\n",
       "    <tr>\n",
       "      <th>151729</th>\n",
       "      <td>611.018 G35 2000|</td>\n",
       "      <td>80000003503139</td>\n",
       "      <td>COL-GRAL-2</td>\n",
       "      <td>COL-GRAL-2</td>\n",
       "      <td>LIBRO</td>\n",
       "      <td>B-GENERAL</td>\n",
       "      <td>COMPRA</td>\n",
       "      <td>2001-08-24</td>\n",
       "      <td>2504</td>\n",
       "      <td>541892</td>\n",
       "      <td>1</td>\n",
       "      <td>2</td>\n",
       "      <td>Geneser, Finn</td>\n",
       "      <td>-</td>\n",
       "      <td>Histología sobre bases biomoleculares Finn Gen...</td>\n",
       "      <td>Histología</td>\n",
       "      <td>2009.0</td>\n",
       "      <td>14$aHistologia24$aCelulas24$aTejidos</td>\n",
       "    </tr>\n",
       "    <tr>\n",
       "      <th>630603</th>\n",
       "      <td>611.018 G35 2000|</td>\n",
       "      <td>80000003232710</td>\n",
       "      <td>REPOSICION</td>\n",
       "      <td>REPOSICION</td>\n",
       "      <td>RESERVA</td>\n",
       "      <td>B-GENERAL</td>\n",
       "      <td>COMPRA</td>\n",
       "      <td>2001-11-30</td>\n",
       "      <td>2414</td>\n",
       "      <td>541892</td>\n",
       "      <td>1</td>\n",
       "      <td>3</td>\n",
       "      <td>Geneser, Finn</td>\n",
       "      <td>-</td>\n",
       "      <td>Histología sobre bases biomoleculares Finn Gen...</td>\n",
       "      <td>Histología</td>\n",
       "      <td>2009.0</td>\n",
       "      <td>14$aHistologia24$aCelulas24$aTejidos</td>\n",
       "    </tr>\n",
       "    <tr>\n",
       "      <th>222796</th>\n",
       "      <td>574.192 M17|</td>\n",
       "      <td>80000003002477</td>\n",
       "      <td>COL-GRAL-3</td>\n",
       "      <td>COL-GRAL-3</td>\n",
       "      <td>LIBRO</td>\n",
       "      <td>B-GENERAL</td>\n",
       "      <td>COMPRA</td>\n",
       "      <td>1999-10-27</td>\n",
       "      <td>2141</td>\n",
       "      <td>363142</td>\n",
       "      <td>1</td>\n",
       "      <td>3</td>\n",
       "      <td>Mathews, Christopher K. 1937-</td>\n",
       "      <td>-</td>\n",
       "      <td>Bioquímica Christopher K. Mathews and Kensal E...</td>\n",
       "      <td>Bioquímica</td>\n",
       "      <td>2001.0</td>\n",
       "      <td>24$aBioquimica24$aMetabolismo24$aProteinas</td>\n",
       "    </tr>\n",
       "    <tr>\n",
       "      <th>151728</th>\n",
       "      <td>611.018 G35 2000|</td>\n",
       "      <td>80000003200691</td>\n",
       "      <td>COL-GRAL-2</td>\n",
       "      <td>COL-GRAL-2</td>\n",
       "      <td>LIBRO</td>\n",
       "      <td>B-GENERAL</td>\n",
       "      <td>COMPRA</td>\n",
       "      <td>2001-08-24</td>\n",
       "      <td>2122</td>\n",
       "      <td>541892</td>\n",
       "      <td>1</td>\n",
       "      <td>1</td>\n",
       "      <td>Geneser, Finn</td>\n",
       "      <td>-</td>\n",
       "      <td>Histología sobre bases biomoleculares Finn Gen...</td>\n",
       "      <td>Histología</td>\n",
       "      <td>2009.0</td>\n",
       "      <td>14$aHistologia24$aCelulas24$aTejidos</td>\n",
       "    </tr>\n",
       "    <tr>\n",
       "      <th>194907</th>\n",
       "      <td>519.2 C15|</td>\n",
       "      <td>80000001136541</td>\n",
       "      <td>COL-GRAL-3</td>\n",
       "      <td>COL-GRAL-3</td>\n",
       "      <td>LIBRO</td>\n",
       "      <td>B-GENERAL</td>\n",
       "      <td>COMPRA</td>\n",
       "      <td>1991-05-09</td>\n",
       "      <td>2052</td>\n",
       "      <td>282926</td>\n",
       "      <td>1</td>\n",
       "      <td>5</td>\n",
       "      <td>Canavos, George C.</td>\n",
       "      <td>-</td>\n",
       "      <td>Probabilidad y estadistica aplicaciones y meto...</td>\n",
       "      <td>Estadística</td>\n",
       "      <td>1986.0</td>\n",
       "      <td>24$aEstadistica24$aProbabilidades</td>\n",
       "    </tr>\n",
       "  </tbody>\n",
       "</table>\n",
       "</div>"
      ],
      "text/plain": [
       "                Signatura      Id de item Ubicación Habitual Ubicación Actual  \\\n",
       "151729  611.018 G35 2000|  80000003503139         COL-GRAL-2       COL-GRAL-2   \n",
       "630603  611.018 G35 2000|  80000003232710         REPOSICION       REPOSICION   \n",
       "222796       574.192 M17|  80000003002477         COL-GRAL-3       COL-GRAL-3   \n",
       "151728  611.018 G35 2000|  80000003200691         COL-GRAL-2       COL-GRAL-2   \n",
       "194907         519.2 C15|  80000001136541         COL-GRAL-3       COL-GRAL-3   \n",
       "\n",
       "       Tipo de ítem Biblioteca    Cat2 Fecha de creación  Total de préstamos  \\\n",
       "151729        LIBRO  B-GENERAL  COMPRA        2001-08-24                2504   \n",
       "630603      RESERVA  B-GENERAL  COMPRA        2001-11-30                2414   \n",
       "222796        LIBRO  B-GENERAL  COMPRA        1999-10-27                2141   \n",
       "151728        LIBRO  B-GENERAL  COMPRA        2001-08-24                2122   \n",
       "194907        LIBRO  B-GENERAL  COMPRA        1991-05-09                2052   \n",
       "\n",
       "        Llaves  Vol  Copias                          Autor Autor corporativo  \\\n",
       "151729  541892    1       2                  Geneser, Finn                 -   \n",
       "630603  541892    1       3                  Geneser, Finn                 -   \n",
       "222796  363142    1       3  Mathews, Christopher K. 1937-                 -   \n",
       "151728  541892    1       1                  Geneser, Finn                 -   \n",
       "194907  282926    1       5             Canavos, George C.                 -   \n",
       "\n",
       "                                                   Título     Tema 650  \\\n",
       "151729  Histología sobre bases biomoleculares Finn Gen...   Histología   \n",
       "630603  Histología sobre bases biomoleculares Finn Gen...   Histología   \n",
       "222796  Bioquímica Christopher K. Mathews and Kensal E...   Bioquímica   \n",
       "151728  Histología sobre bases biomoleculares Finn Gen...   Histología   \n",
       "194907  Probabilidad y estadistica aplicaciones y meto...  Estadística   \n",
       "\n",
       "        Año publicación                         Todas las temáticas  \n",
       "151729           2009.0        14$aHistologia24$aCelulas24$aTejidos  \n",
       "630603           2009.0        14$aHistologia24$aCelulas24$aTejidos  \n",
       "222796           2001.0  24$aBioquimica24$aMetabolismo24$aProteinas  \n",
       "151728           2009.0        14$aHistologia24$aCelulas24$aTejidos  \n",
       "194907           1986.0           24$aEstadistica24$aProbabilidades  "
      ]
     },
     "execution_count": 207,
     "metadata": {},
     "output_type": "execute_result"
    }
   ],
   "source": [
    "dataset.sort_values(by=[col], ascending=False).head(5)"
   ]
  },
  {
   "cell_type": "markdown",
   "metadata": {
    "id": "4xZzo647YnlB"
   },
   "source": [
    "**Análisis:**Debido a que este número no se calcula en una franja de tiempo especifico no se realizará un análisis más a fondo de este atributo. Un mejor análisis de popularidad se puede encontrar en el notebook de entendimiento de datos de prestamos.\n"
   ]
  },
  {
   "cell_type": "markdown",
   "metadata": {
    "id": "Po9Op6msCou-"
   },
   "source": [
    "### Col: Llaves\n",
    "**Descripción:** Las llaves desginan un id a los libros no por copia física sino por el libro en sí. Si un libro tiene varias copias, todas las copias tienen diferente ID más tendrán la misma llave. "
   ]
  },
  {
   "cell_type": "code",
   "execution_count": 208,
   "metadata": {
    "colab": {
     "base_uri": "https://localhost:8080/"
    },
    "executionInfo": {
     "elapsed": 11,
     "status": "ok",
     "timestamp": 1632954010554,
     "user": {
      "displayName": "juan sebastian angarita torres",
      "photoUrl": "https://lh3.googleusercontent.com/a-/AOh14GgjiV1o_Xb2Ov2kAJhpXcHsgVLy47m-BxyXrYYMfw=s64",
      "userId": "11476954540008106843"
     },
     "user_tz": 300
    },
    "id": "tyLofh7ZKSgp",
    "outputId": "39ec4bc4-6a8e-492e-a292-5ce30fe57600"
   },
   "outputs": [
    {
     "name": "stdout",
     "output_type": "stream",
     "text": [
      "Número de datos nulos: 0\n",
      "Número de datos únicos: 405416\n",
      "Tipo de dato: <class 'numpy.int64'>\n",
      "Ejemplo: 933604\n"
     ]
    }
   ],
   "source": [
    "col = \"Llaves\"\n",
    "descripcion(dataset,col)"
   ]
  },
  {
   "cell_type": "code",
   "execution_count": 209,
   "metadata": {
    "colab": {
     "base_uri": "https://localhost:8080/"
    },
    "executionInfo": {
     "elapsed": 257,
     "status": "ok",
     "timestamp": 1632954010807,
     "user": {
      "displayName": "juan sebastian angarita torres",
      "photoUrl": "https://lh3.googleusercontent.com/a-/AOh14GgjiV1o_Xb2Ov2kAJhpXcHsgVLy47m-BxyXrYYMfw=s64",
      "userId": "11476954540008106843"
     },
     "user_tz": 300
    },
    "id": "mdFVWRoXZz_Y",
    "outputId": "a27e7118-6c76-40f6-be2f-9bdadf71f8c5"
   },
   "outputs": [
    {
     "name": "stdout",
     "output_type": "stream",
     "text": [
      "Numero ids:  746823\n",
      "Numero llaves:  405416\n",
      "Relación llaves/ids:  54.28541970453507 %\n"
     ]
    }
   ],
   "source": [
    "llaves = len(dataset[col].unique())\n",
    "ids = len(dataset[\"Id de item\"].unique())\n",
    "print(\"Numero ids: \", ids)\n",
    "print(\"Numero llaves: \", llaves)\n",
    "print(\"Relación llaves/ids: \", llaves/ids *100, \"%\")"
   ]
  },
  {
   "cell_type": "code",
   "execution_count": 210,
   "metadata": {
    "executionInfo": {
     "elapsed": 421,
     "status": "ok",
     "timestamp": 1632954011226,
     "user": {
      "displayName": "juan sebastian angarita torres",
      "photoUrl": "https://lh3.googleusercontent.com/a-/AOh14GgjiV1o_Xb2Ov2kAJhpXcHsgVLy47m-BxyXrYYMfw=s64",
      "userId": "11476954540008106843"
     },
     "user_tz": 300
    },
    "id": "SuuRJ3Gj2_hC"
   },
   "outputs": [],
   "source": [
    "datasetMaterial['Llaves'] = datasetMaterial['Llaves'].apply(lambda x: str(x))"
   ]
  },
  {
   "cell_type": "markdown",
   "metadata": {
    "id": "kTrwrgaTa84V"
   },
   "source": [
    "**Análisis**: Aunque hay más de 700 mil ítems físicos en la biblioteca podemos notar que solo cerca de 400 mil son diferentes entre si.  Posteriormente en lka sección de limpieza se trabajará para la eliminación de datos duplicados. "
   ]
  },
  {
   "cell_type": "markdown",
   "metadata": {
    "id": "GvqbNciuCpHm"
   },
   "source": [
    "### Col: Vol\n",
    "**Descripción:** Un libro puede tener varios volumenes diferentes. Un libro tiene la misma llave así tenga un volumen diferente. "
   ]
  },
  {
   "cell_type": "code",
   "execution_count": 211,
   "metadata": {
    "colab": {
     "base_uri": "https://localhost:8080/"
    },
    "executionInfo": {
     "elapsed": 511,
     "status": "ok",
     "timestamp": 1632954011735,
     "user": {
      "displayName": "juan sebastian angarita torres",
      "photoUrl": "https://lh3.googleusercontent.com/a-/AOh14GgjiV1o_Xb2Ov2kAJhpXcHsgVLy47m-BxyXrYYMfw=s64",
      "userId": "11476954540008106843"
     },
     "user_tz": 300
    },
    "id": "hvMKvkBdKTfK",
    "outputId": "fbfdd3d3-2ef4-4396-c511-0113b30525f8"
   },
   "outputs": [
    {
     "name": "stdout",
     "output_type": "stream",
     "text": [
      "Número de datos nulos: 0\n",
      "Número de datos únicos: 1480\n",
      "Tipo de dato: <class 'numpy.int64'>\n",
      "Ejemplo: 1\n"
     ]
    }
   ],
   "source": [
    "col = \"Vol\"\n",
    "descripcion(dataset,col)"
   ]
  },
  {
   "cell_type": "code",
   "execution_count": 212,
   "metadata": {
    "colab": {
     "base_uri": "https://localhost:8080/"
    },
    "executionInfo": {
     "elapsed": 11,
     "status": "ok",
     "timestamp": 1632954011735,
     "user": {
      "displayName": "juan sebastian angarita torres",
      "photoUrl": "https://lh3.googleusercontent.com/a-/AOh14GgjiV1o_Xb2Ov2kAJhpXcHsgVLy47m-BxyXrYYMfw=s64",
      "userId": "11476954540008106843"
     },
     "user_tz": 300
    },
    "id": "_A66R4zwkA9I",
    "outputId": "e5f1a3ea-0225-48c0-821c-947ef1d6fa4a"
   },
   "outputs": [
    {
     "data": {
      "text/plain": [
       "count    746934.000000\n",
       "mean         28.462426\n",
       "std          96.059499\n",
       "min           1.000000\n",
       "25%           1.000000\n",
       "50%           1.000000\n",
       "75%           6.000000\n",
       "max        1616.000000\n",
       "Name: Vol, dtype: float64"
      ]
     },
     "execution_count": 212,
     "metadata": {},
     "output_type": "execute_result"
    }
   ],
   "source": [
    "dataset[col].describe()"
   ]
  },
  {
   "cell_type": "code",
   "execution_count": 213,
   "metadata": {
    "colab": {
     "base_uri": "https://localhost:8080/",
     "height": 417
    },
    "executionInfo": {
     "elapsed": 7,
     "status": "ok",
     "timestamp": 1632954011736,
     "user": {
      "displayName": "juan sebastian angarita torres",
      "photoUrl": "https://lh3.googleusercontent.com/a-/AOh14GgjiV1o_Xb2Ov2kAJhpXcHsgVLy47m-BxyXrYYMfw=s64",
      "userId": "11476954540008106843"
     },
     "user_tz": 300
    },
    "id": "qkH0FyHSbQwo",
    "outputId": "d9f4416d-3979-49b9-86d2-487a68f18854"
   },
   "outputs": [
    {
     "data": {
      "text/html": [
       "<div>\n",
       "<style scoped>\n",
       "    .dataframe tbody tr th:only-of-type {\n",
       "        vertical-align: middle;\n",
       "    }\n",
       "\n",
       "    .dataframe tbody tr th {\n",
       "        vertical-align: top;\n",
       "    }\n",
       "\n",
       "    .dataframe thead th {\n",
       "        text-align: right;\n",
       "    }\n",
       "</style>\n",
       "<table border=\"1\" class=\"dataframe\">\n",
       "  <thead>\n",
       "    <tr style=\"text-align: right;\">\n",
       "      <th>Vol</th>\n",
       "      <th>Procentaje (%)</th>\n",
       "    </tr>\n",
       "  </thead>\n",
       "  <tbody>\n",
       "    <tr>\n",
       "      <th>1</th>\n",
       "      <td>62.684253</td>\n",
       "    </tr>\n",
       "    <tr>\n",
       "      <th>2</th>\n",
       "      <td>6.582777</td>\n",
       "    </tr>\n",
       "    <tr>\n",
       "      <th>3</th>\n",
       "      <td>2.480407</td>\n",
       "    </tr>\n",
       "    <tr>\n",
       "      <th>4</th>\n",
       "      <td>1.551543</td>\n",
       "    </tr>\n",
       "    <tr>\n",
       "      <th>5</th>\n",
       "      <td>1.065824</td>\n",
       "    </tr>\n",
       "    <tr>\n",
       "      <th>...</th>\n",
       "      <td>...</td>\n",
       "    </tr>\n",
       "    <tr>\n",
       "      <th>1374</th>\n",
       "      <td>0.000134</td>\n",
       "    </tr>\n",
       "    <tr>\n",
       "      <th>1376</th>\n",
       "      <td>0.000134</td>\n",
       "    </tr>\n",
       "    <tr>\n",
       "      <th>1377</th>\n",
       "      <td>0.000134</td>\n",
       "    </tr>\n",
       "    <tr>\n",
       "      <th>1378</th>\n",
       "      <td>0.000134</td>\n",
       "    </tr>\n",
       "    <tr>\n",
       "      <th>1616</th>\n",
       "      <td>0.000134</td>\n",
       "    </tr>\n",
       "  </tbody>\n",
       "</table>\n",
       "<p>1480 rows × 1 columns</p>\n",
       "</div>"
      ],
      "text/plain": [
       "Vol   Procentaje (%)\n",
       "1          62.684253\n",
       "2           6.582777\n",
       "3           2.480407\n",
       "4           1.551543\n",
       "5           1.065824\n",
       "...              ...\n",
       "1374        0.000134\n",
       "1376        0.000134\n",
       "1377        0.000134\n",
       "1378        0.000134\n",
       "1616        0.000134\n",
       "\n",
       "[1480 rows x 1 columns]"
      ]
     },
     "metadata": {},
     "output_type": "display_data"
    }
   ],
   "source": [
    "frecuencias(dataset,col)"
   ]
  },
  {
   "cell_type": "markdown",
   "metadata": {
    "id": "pOc5GQ29bZAN"
   },
   "source": [
    "**Análisis**: la mayoría del material solo cuenta con un único volumen. Igualmente notamos datos atípicos como libros con volumen 1394. Esta columna igualmente no nos es de mucha utilidad para el sistema de recomendaciones por lo cual no se trabajará en una limpieza."
   ]
  },
  {
   "cell_type": "markdown",
   "metadata": {
    "id": "7RxcIoPjCpVV"
   },
   "source": [
    "### Col: Copias\n",
    "**Descripción:** número de copias con las que cuenta la biblioteca en la actualidad de dicho ítem. "
   ]
  },
  {
   "cell_type": "code",
   "execution_count": 214,
   "metadata": {
    "colab": {
     "base_uri": "https://localhost:8080/"
    },
    "executionInfo": {
     "elapsed": 6,
     "status": "ok",
     "timestamp": 1632954011736,
     "user": {
      "displayName": "juan sebastian angarita torres",
      "photoUrl": "https://lh3.googleusercontent.com/a-/AOh14GgjiV1o_Xb2Ov2kAJhpXcHsgVLy47m-BxyXrYYMfw=s64",
      "userId": "11476954540008106843"
     },
     "user_tz": 300
    },
    "id": "0q7lG3yVKT9M",
    "outputId": "1b5af2fc-40db-4491-d89f-e879b9375528"
   },
   "outputs": [
    {
     "name": "stdout",
     "output_type": "stream",
     "text": [
      "Número de datos nulos: 0\n",
      "Número de datos únicos: 40\n",
      "Tipo de dato: <class 'numpy.int64'>\n",
      "Ejemplo: 1\n"
     ]
    }
   ],
   "source": [
    "col = \"Copias\"\n",
    "descripcion(dataset,col)"
   ]
  },
  {
   "cell_type": "code",
   "execution_count": 215,
   "metadata": {
    "colab": {
     "base_uri": "https://localhost:8080/",
     "height": 318
    },
    "executionInfo": {
     "elapsed": 686,
     "status": "ok",
     "timestamp": 1632954012419,
     "user": {
      "displayName": "juan sebastian angarita torres",
      "photoUrl": "https://lh3.googleusercontent.com/a-/AOh14GgjiV1o_Xb2Ov2kAJhpXcHsgVLy47m-BxyXrYYMfw=s64",
      "userId": "11476954540008106843"
     },
     "user_tz": 300
    },
    "id": "0l5vLl37L6G9",
    "outputId": "4c949ae3-c021-44fc-acfb-a98f93ca3bea"
   },
   "outputs": [
    {
     "data": {
      "image/png": "[encoded data removed]",
      "text/plain": [
       "<Figure size 1800x720 with 1 Axes>"
      ]
     },
     "metadata": {
      "needs_background": "light"
     },
     "output_type": "display_data"
    }
   ],
   "source": [
    "histograma(dataset,col)"
   ]
  },
  {
   "cell_type": "code",
   "execution_count": 216,
   "metadata": {
    "colab": {
     "base_uri": "https://localhost:8080/",
     "height": 1000
    },
    "executionInfo": {
     "elapsed": 4,
     "status": "ok",
     "timestamp": 1632954012419,
     "user": {
      "displayName": "juan sebastian angarita torres",
      "photoUrl": "https://lh3.googleusercontent.com/a-/AOh14GgjiV1o_Xb2Ov2kAJhpXcHsgVLy47m-BxyXrYYMfw=s64",
      "userId": "11476954540008106843"
     },
     "user_tz": 300
    },
    "id": "ybMBZOSZS__Y",
    "outputId": "11840f75-60d6-4125-d225-794a642cdd25"
   },
   "outputs": [
    {
     "data": {
      "text/html": [
       "<div>\n",
       "<style scoped>\n",
       "    .dataframe tbody tr th:only-of-type {\n",
       "        vertical-align: middle;\n",
       "    }\n",
       "\n",
       "    .dataframe tbody tr th {\n",
       "        vertical-align: top;\n",
       "    }\n",
       "\n",
       "    .dataframe thead th {\n",
       "        text-align: right;\n",
       "    }\n",
       "</style>\n",
       "<table border=\"1\" class=\"dataframe\">\n",
       "  <thead>\n",
       "    <tr style=\"text-align: right;\">\n",
       "      <th>Copias</th>\n",
       "      <th>Procentaje (%)</th>\n",
       "    </tr>\n",
       "  </thead>\n",
       "  <tbody>\n",
       "    <tr>\n",
       "      <th>1</th>\n",
       "      <td>84.473327</td>\n",
       "    </tr>\n",
       "    <tr>\n",
       "      <th>2</th>\n",
       "      <td>11.746285</td>\n",
       "    </tr>\n",
       "    <tr>\n",
       "      <th>3</th>\n",
       "      <td>2.207156</td>\n",
       "    </tr>\n",
       "    <tr>\n",
       "      <th>4</th>\n",
       "      <td>0.735406</td>\n",
       "    </tr>\n",
       "    <tr>\n",
       "      <th>5</th>\n",
       "      <td>0.306988</td>\n",
       "    </tr>\n",
       "    <tr>\n",
       "      <th>6</th>\n",
       "      <td>0.162799</td>\n",
       "    </tr>\n",
       "    <tr>\n",
       "      <th>7</th>\n",
       "      <td>0.094118</td>\n",
       "    </tr>\n",
       "    <tr>\n",
       "      <th>8</th>\n",
       "      <td>0.064397</td>\n",
       "    </tr>\n",
       "    <tr>\n",
       "      <th>9</th>\n",
       "      <td>0.040566</td>\n",
       "    </tr>\n",
       "    <tr>\n",
       "      <th>10</th>\n",
       "      <td>0.033336</td>\n",
       "    </tr>\n",
       "    <tr>\n",
       "      <th>11</th>\n",
       "      <td>0.022492</td>\n",
       "    </tr>\n",
       "    <tr>\n",
       "      <th>12</th>\n",
       "      <td>0.020885</td>\n",
       "    </tr>\n",
       "    <tr>\n",
       "      <th>13</th>\n",
       "      <td>0.015396</td>\n",
       "    </tr>\n",
       "    <tr>\n",
       "      <th>14</th>\n",
       "      <td>0.012585</td>\n",
       "    </tr>\n",
       "    <tr>\n",
       "      <th>15</th>\n",
       "      <td>0.011781</td>\n",
       "    </tr>\n",
       "    <tr>\n",
       "      <th>16</th>\n",
       "      <td>0.009104</td>\n",
       "    </tr>\n",
       "    <tr>\n",
       "      <th>17</th>\n",
       "      <td>0.006560</td>\n",
       "    </tr>\n",
       "    <tr>\n",
       "      <th>18</th>\n",
       "      <td>0.005757</td>\n",
       "    </tr>\n",
       "    <tr>\n",
       "      <th>19</th>\n",
       "      <td>0.004552</td>\n",
       "    </tr>\n",
       "    <tr>\n",
       "      <th>20</th>\n",
       "      <td>0.003079</td>\n",
       "    </tr>\n",
       "    <tr>\n",
       "      <th>22</th>\n",
       "      <td>0.002678</td>\n",
       "    </tr>\n",
       "    <tr>\n",
       "      <th>21</th>\n",
       "      <td>0.002410</td>\n",
       "    </tr>\n",
       "    <tr>\n",
       "      <th>23</th>\n",
       "      <td>0.002008</td>\n",
       "    </tr>\n",
       "    <tr>\n",
       "      <th>24</th>\n",
       "      <td>0.001874</td>\n",
       "    </tr>\n",
       "    <tr>\n",
       "      <th>25</th>\n",
       "      <td>0.001607</td>\n",
       "    </tr>\n",
       "    <tr>\n",
       "      <th>26</th>\n",
       "      <td>0.001339</td>\n",
       "    </tr>\n",
       "    <tr>\n",
       "      <th>29</th>\n",
       "      <td>0.001205</td>\n",
       "    </tr>\n",
       "    <tr>\n",
       "      <th>27</th>\n",
       "      <td>0.001205</td>\n",
       "    </tr>\n",
       "    <tr>\n",
       "      <th>28</th>\n",
       "      <td>0.001205</td>\n",
       "    </tr>\n",
       "    <tr>\n",
       "      <th>30</th>\n",
       "      <td>0.001071</td>\n",
       "    </tr>\n",
       "    <tr>\n",
       "      <th>34</th>\n",
       "      <td>0.000803</td>\n",
       "    </tr>\n",
       "    <tr>\n",
       "      <th>32</th>\n",
       "      <td>0.000803</td>\n",
       "    </tr>\n",
       "    <tr>\n",
       "      <th>31</th>\n",
       "      <td>0.000669</td>\n",
       "    </tr>\n",
       "    <tr>\n",
       "      <th>33</th>\n",
       "      <td>0.000669</td>\n",
       "    </tr>\n",
       "    <tr>\n",
       "      <th>35</th>\n",
       "      <td>0.000669</td>\n",
       "    </tr>\n",
       "    <tr>\n",
       "      <th>36</th>\n",
       "      <td>0.000669</td>\n",
       "    </tr>\n",
       "    <tr>\n",
       "      <th>37</th>\n",
       "      <td>0.000669</td>\n",
       "    </tr>\n",
       "    <tr>\n",
       "      <th>38</th>\n",
       "      <td>0.000669</td>\n",
       "    </tr>\n",
       "    <tr>\n",
       "      <th>39</th>\n",
       "      <td>0.000669</td>\n",
       "    </tr>\n",
       "    <tr>\n",
       "      <th>40</th>\n",
       "      <td>0.000536</td>\n",
       "    </tr>\n",
       "  </tbody>\n",
       "</table>\n",
       "</div>"
      ],
      "text/plain": [
       "Copias  Procentaje (%)\n",
       "1            84.473327\n",
       "2            11.746285\n",
       "3             2.207156\n",
       "4             0.735406\n",
       "5             0.306988\n",
       "6             0.162799\n",
       "7             0.094118\n",
       "8             0.064397\n",
       "9             0.040566\n",
       "10            0.033336\n",
       "11            0.022492\n",
       "12            0.020885\n",
       "13            0.015396\n",
       "14            0.012585\n",
       "15            0.011781\n",
       "16            0.009104\n",
       "17            0.006560\n",
       "18            0.005757\n",
       "19            0.004552\n",
       "20            0.003079\n",
       "22            0.002678\n",
       "21            0.002410\n",
       "23            0.002008\n",
       "24            0.001874\n",
       "25            0.001607\n",
       "26            0.001339\n",
       "29            0.001205\n",
       "27            0.001205\n",
       "28            0.001205\n",
       "30            0.001071\n",
       "34            0.000803\n",
       "32            0.000803\n",
       "31            0.000669\n",
       "33            0.000669\n",
       "35            0.000669\n",
       "36            0.000669\n",
       "37            0.000669\n",
       "38            0.000669\n",
       "39            0.000669\n",
       "40            0.000536"
      ]
     },
     "metadata": {},
     "output_type": "display_data"
    }
   ],
   "source": [
    "frecuencias(dataset,col)\n"
   ]
  },
  {
   "cell_type": "markdown",
   "metadata": {
    "id": "TGCNppyScQgV"
   },
   "source": [
    "**Análisis:** El número de copias que tiene algún ítem no es de importancia para el sistema de recomendación(dado que no tenemos acceso para saber si un libro está siendo presttado o no). Este número de copias tampoco nos señala cuantas veces hay un ítem, dado que esto se puede hacer mirando el número de libros que tienen un mismo dewey. "
   ]
  },
  {
   "cell_type": "markdown",
   "metadata": {
    "id": "PbCWa-gFCpmC"
   },
   "source": [
    "### Col: Autor\n",
    "**Descripción:** Autor(es) del libro."
   ]
  },
  {
   "cell_type": "code",
   "execution_count": 217,
   "metadata": {
    "executionInfo": {
     "elapsed": 3,
     "status": "ok",
     "timestamp": 1632954012420,
     "user": {
      "displayName": "juan sebastian angarita torres",
      "photoUrl": "https://lh3.googleusercontent.com/a-/AOh14GgjiV1o_Xb2Ov2kAJhpXcHsgVLy47m-BxyXrYYMfw=s64",
      "userId": "11476954540008106843"
     },
     "user_tz": 300
    },
    "id": "0AS-BYNJdiBS"
   },
   "outputs": [],
   "source": [
    "##autor\n",
    "dataset.loc[dataset[\"Autor\"] == \"-\", \"Autor\"] = None"
   ]
  },
  {
   "cell_type": "code",
   "execution_count": 218,
   "metadata": {
    "colab": {
     "base_uri": "https://localhost:8080/"
    },
    "executionInfo": {
     "elapsed": 428,
     "status": "ok",
     "timestamp": 1632954012845,
     "user": {
      "displayName": "juan sebastian angarita torres",
      "photoUrl": "https://lh3.googleusercontent.com/a-/AOh14GgjiV1o_Xb2Ov2kAJhpXcHsgVLy47m-BxyXrYYMfw=s64",
      "userId": "11476954540008106843"
     },
     "user_tz": 300
    },
    "id": "n8vOk7vHKUp7",
    "outputId": "9efe981a-c3be-428b-9f2a-587742203fef"
   },
   "outputs": [
    {
     "name": "stdout",
     "output_type": "stream",
     "text": [
      "Número de datos nulos: 312348\n",
      "Número de datos únicos: 203363\n",
      "Tipo de dato: <class 'str'>\n",
      "Ejemplo: Álvarez Ríos, Baldomero 1924-\n"
     ]
    }
   ],
   "source": [
    "col = \"Autor\"\n",
    "descripcion(dataset,col)"
   ]
  },
  {
   "cell_type": "code",
   "execution_count": 219,
   "metadata": {
    "colab": {
     "base_uri": "https://localhost:8080/"
    },
    "executionInfo": {
     "elapsed": 249,
     "status": "ok",
     "timestamp": 1632954013093,
     "user": {
      "displayName": "juan sebastian angarita torres",
      "photoUrl": "https://lh3.googleusercontent.com/a-/AOh14GgjiV1o_Xb2Ov2kAJhpXcHsgVLy47m-BxyXrYYMfw=s64",
      "userId": "11476954540008106843"
     },
     "user_tz": 300
    },
    "id": "_KXRA0i1d9xS",
    "outputId": "f3e196f0-fe82-488c-9f96-c54aed7086f6"
   },
   "outputs": [
    {
     "name": "stdout",
     "output_type": "stream",
     "text": [
      "Porcentaje de libros sin autor 41.81734932403666 %\n"
     ]
    }
   ],
   "source": [
    "print(\"Porcentaje de libros sin autor\", len(dataset[dataset[\"Autor\"].isnull()]) / len(dataset[\"Autor\"])* 100, \"%\")"
   ]
  },
  {
   "cell_type": "code",
   "execution_count": 220,
   "metadata": {
    "colab": {
     "base_uri": "https://localhost:8080/",
     "height": 730
    },
    "executionInfo": {
     "elapsed": 675,
     "status": "ok",
     "timestamp": 1632954013767,
     "user": {
      "displayName": "juan sebastian angarita torres",
      "photoUrl": "https://lh3.googleusercontent.com/a-/AOh14GgjiV1o_Xb2Ov2kAJhpXcHsgVLy47m-BxyXrYYMfw=s64",
      "userId": "11476954540008106843"
     },
     "user_tz": 300
    },
    "id": "ikpi4mYKfP-h",
    "outputId": "8626e227-5bdb-496f-e8e0-f9026c983ada"
   },
   "outputs": [
    {
     "name": "stdout",
     "output_type": "stream",
     "text": [
      "Numero de autores diferentes 203363\n",
      "Número de libros sin autor 0\n"
     ]
    },
    {
     "data": {
      "text/html": [
       "<div>\n",
       "<style scoped>\n",
       "    .dataframe tbody tr th:only-of-type {\n",
       "        vertical-align: middle;\n",
       "    }\n",
       "\n",
       "    .dataframe tbody tr th {\n",
       "        vertical-align: top;\n",
       "    }\n",
       "\n",
       "    .dataframe thead th {\n",
       "        text-align: right;\n",
       "    }\n",
       "</style>\n",
       "<table border=\"1\" class=\"dataframe\">\n",
       "  <thead>\n",
       "    <tr style=\"text-align: right;\">\n",
       "      <th></th>\n",
       "      <th>Total de préstamos</th>\n",
       "    </tr>\n",
       "    <tr>\n",
       "      <th>Autor</th>\n",
       "      <th></th>\n",
       "    </tr>\n",
       "  </thead>\n",
       "  <tbody>\n",
       "    <tr>\n",
       "      <th>Tipler, Paul Allen 1933-</th>\n",
       "      <td>53244</td>\n",
       "    </tr>\n",
       "    <tr>\n",
       "      <th>Mankiw, Nicholas Gregory</th>\n",
       "      <td>42371</td>\n",
       "    </tr>\n",
       "    <tr>\n",
       "      <th>Foucault, Michel 1926-1984</th>\n",
       "      <td>24675</td>\n",
       "    </tr>\n",
       "    <tr>\n",
       "      <th>Robbins, Stephen Paul 1943-</th>\n",
       "      <td>24618</td>\n",
       "    </tr>\n",
       "    <tr>\n",
       "      <th>Thomas, George Brinton 1914-</th>\n",
       "      <td>20664</td>\n",
       "    </tr>\n",
       "    <tr>\n",
       "      <th>Kolman, Bernard 1932-</th>\n",
       "      <td>18277</td>\n",
       "    </tr>\n",
       "    <tr>\n",
       "      <th>Edwards, Charles Henry 1937-</th>\n",
       "      <td>17566</td>\n",
       "    </tr>\n",
       "    <tr>\n",
       "      <th>Guyton, Arthur Clifton 1919-2003</th>\n",
       "      <td>17241</td>\n",
       "    </tr>\n",
       "    <tr>\n",
       "      <th>Chiavenato, Idalberto 1929-</th>\n",
       "      <td>17047</td>\n",
       "    </tr>\n",
       "    <tr>\n",
       "      <th>Platón 428-347 a.C.</th>\n",
       "      <td>16273</td>\n",
       "    </tr>\n",
       "    <tr>\n",
       "      <th>Netter, Frank Henry 1906-1991</th>\n",
       "      <td>15751</td>\n",
       "    </tr>\n",
       "    <tr>\n",
       "      <th>Stewart, James 1941-</th>\n",
       "      <td>15602</td>\n",
       "    </tr>\n",
       "    <tr>\n",
       "      <th>Aristóteles 384-322 a.C.</th>\n",
       "      <td>15520</td>\n",
       "    </tr>\n",
       "    <tr>\n",
       "      <th>Harrison, Tinsley Randolph 1900-1978</th>\n",
       "      <td>15371</td>\n",
       "    </tr>\n",
       "    <tr>\n",
       "      <th>Moore, Keith L.</th>\n",
       "      <td>15235</td>\n",
       "    </tr>\n",
       "    <tr>\n",
       "      <th>Tortora, Gerard Jerry</th>\n",
       "      <td>14544</td>\n",
       "    </tr>\n",
       "    <tr>\n",
       "      <th>García Márquez, Gabriel 1927-2014</th>\n",
       "      <td>14517</td>\n",
       "    </tr>\n",
       "    <tr>\n",
       "      <th>Geneser, Finn</th>\n",
       "      <td>13830</td>\n",
       "    </tr>\n",
       "    <tr>\n",
       "      <th>Walpole, Ronald E.</th>\n",
       "      <td>13214</td>\n",
       "    </tr>\n",
       "    <tr>\n",
       "      <th>Mathews, Christopher K. 1937-</th>\n",
       "      <td>13111</td>\n",
       "    </tr>\n",
       "  </tbody>\n",
       "</table>\n",
       "</div>"
      ],
      "text/plain": [
       "                                      Total de préstamos\n",
       "Autor                                                   \n",
       "Tipler, Paul Allen 1933-                           53244\n",
       "Mankiw, Nicholas Gregory                           42371\n",
       "Foucault, Michel 1926-1984                         24675\n",
       "Robbins, Stephen Paul 1943-                        24618\n",
       "Thomas, George Brinton 1914-                       20664\n",
       "Kolman, Bernard 1932-                              18277\n",
       "Edwards, Charles Henry 1937-                       17566\n",
       "Guyton, Arthur Clifton 1919-2003                   17241\n",
       "Chiavenato, Idalberto 1929-                        17047\n",
       "Platón 428-347 a.C.                                16273\n",
       "Netter, Frank Henry 1906-1991                      15751\n",
       "Stewart, James 1941-                               15602\n",
       "Aristóteles 384-322 a.C.                           15520\n",
       "Harrison, Tinsley Randolph 1900-1978               15371\n",
       "Moore, Keith L.                                    15235\n",
       "Tortora, Gerard Jerry                              14544\n",
       "García Márquez, Gabriel 1927-2014                  14517\n",
       "Geneser, Finn                                      13830\n",
       "Walpole, Ronald E.                                 13214\n",
       "Mathews, Christopher K. 1937-                      13111"
      ]
     },
     "metadata": {},
     "output_type": "display_data"
    }
   ],
   "source": [
    "##Analizaremos cual el el autor que tiene mayor cantidad de prestamos\n",
    "columna = 'Autor'\n",
    "columnSize = dataset[columna].unique()\n",
    "print(\"Numero de autores diferentes\", len(columnSize))\n",
    "#hay más de 200 mil autores diferentes en la biblioteca\n",
    "#Vamos a buscar el número de libros si autor\n",
    "sinAutor = dataset.loc[datasetMaterial[columna] == '-', columna].count()\n",
    "print(\"Número de libros sin autor\", sinAutor)\n",
    "#Hay más de 300 mil libros de la biblioteca sin autor\n",
    "#finalmente vamos a mirar los autores mas prestados\n",
    "df = dataset[[columna,'Total de préstamos']]\n",
    "agrupacion = df.groupby([columna])['Total de préstamos'].sum()\n",
    "type(agrupacion)\n",
    "table = (agrupacion.nlargest(20)).to_frame()\n",
    "display(table)"
   ]
  },
  {
   "cell_type": "markdown",
   "metadata": {
    "id": "2dGO9NQfdJhL"
   },
   "source": [
    "**Analisis:** con más de 200.000 autores podemos notar la variedad de material que tiene la biblioteca. Notamos como 41.8% del material de la biblioteca no tiene un autor."
   ]
  },
  {
   "cell_type": "markdown",
   "metadata": {
    "id": "QtomXGgMCp0_"
   },
   "source": [
    "### Col: Autor corporativo\n",
    "**Descripción:** autor corporativo del material. "
   ]
  },
  {
   "cell_type": "code",
   "execution_count": 221,
   "metadata": {
    "executionInfo": {
     "elapsed": 256,
     "status": "ok",
     "timestamp": 1632954014019,
     "user": {
      "displayName": "juan sebastian angarita torres",
      "photoUrl": "https://lh3.googleusercontent.com/a-/AOh14GgjiV1o_Xb2Ov2kAJhpXcHsgVLy47m-BxyXrYYMfw=s64",
      "userId": "11476954540008106843"
     },
     "user_tz": 300
    },
    "id": "Rtyp0KA7evFl"
   },
   "outputs": [],
   "source": [
    "dataset.loc[dataset[\"Autor corporativo\"] == \"-\", \"Autor corporativo\"] = None\n"
   ]
  },
  {
   "cell_type": "code",
   "execution_count": 222,
   "metadata": {
    "colab": {
     "base_uri": "https://localhost:8080/",
     "height": 35
    },
    "executionInfo": {
     "elapsed": 4,
     "status": "ok",
     "timestamp": 1632954014020,
     "user": {
      "displayName": "juan sebastian angarita torres",
      "photoUrl": "https://lh3.googleusercontent.com/a-/AOh14GgjiV1o_Xb2Ov2kAJhpXcHsgVLy47m-BxyXrYYMfw=s64",
      "userId": "11476954540008106843"
     },
     "user_tz": 300
    },
    "id": "yQ-nuUJjlrKB",
    "outputId": "8d87e1bb-d3b0-4be5-e21f-a724f2c9833d"
   },
   "outputs": [
    {
     "data": {
      "text/plain": [
       "'Academia de Ciencias Médicas, Físicas y Naturales de La Habana'"
      ]
     },
     "execution_count": 222,
     "metadata": {},
     "output_type": "execute_result"
    }
   ],
   "source": [
    "dataset[\"Autor corporativo\"][1]"
   ]
  },
  {
   "cell_type": "code",
   "execution_count": 223,
   "metadata": {
    "colab": {
     "base_uri": "https://localhost:8080/"
    },
    "executionInfo": {
     "elapsed": 168,
     "status": "ok",
     "timestamp": 1632954014185,
     "user": {
      "displayName": "juan sebastian angarita torres",
      "photoUrl": "https://lh3.googleusercontent.com/a-/AOh14GgjiV1o_Xb2Ov2kAJhpXcHsgVLy47m-BxyXrYYMfw=s64",
      "userId": "11476954540008106843"
     },
     "user_tz": 300
    },
    "id": "EuD48NXJKVL1",
    "outputId": "31594cf3-79d3-4cd0-f2b1-bf16aee9336c"
   },
   "outputs": [
    {
     "name": "stdout",
     "output_type": "stream",
     "text": [
      "Número de datos nulos: 707112\n",
      "Número de datos únicos: 7692\n",
      "Tipo de dato: <class 'NoneType'>\n",
      "Ejemplo: None\n"
     ]
    }
   ],
   "source": [
    "col = \"Autor corporativo\"\n",
    "descripcion(dataset,col)"
   ]
  },
  {
   "cell_type": "markdown",
   "metadata": {
    "id": "NYKId5oWe0x_"
   },
   "source": [
    "**Análisis:** La mayoría del material de la biblioteca no cuenta con un autor corporativo. "
   ]
  },
  {
   "cell_type": "markdown",
   "metadata": {
    "id": "N2tsz5i-DQqu"
   },
   "source": [
    "### Col: Título\n",
    "**Descripción:** Título del material"
   ]
  },
  {
   "cell_type": "code",
   "execution_count": 224,
   "metadata": {
    "colab": {
     "base_uri": "https://localhost:8080/"
    },
    "executionInfo": {
     "elapsed": 537,
     "status": "ok",
     "timestamp": 1632954014721,
     "user": {
      "displayName": "juan sebastian angarita torres",
      "photoUrl": "https://lh3.googleusercontent.com/a-/AOh14GgjiV1o_Xb2Ov2kAJhpXcHsgVLy47m-BxyXrYYMfw=s64",
      "userId": "11476954540008106843"
     },
     "user_tz": 300
    },
    "id": "VBotH92oKVlG",
    "outputId": "b65c2769-d478-49ad-afc2-fe1c2d96d2af"
   },
   "outputs": [
    {
     "name": "stdout",
     "output_type": "stream",
     "text": [
      "Número de datos nulos: 2\n",
      "Número de datos únicos: 399701\n",
      "Tipo de dato: <class 'str'>\n",
      "Ejemplo: Copernico gigante del Renacimiento Baldomero Alvarez Ríos\n"
     ]
    }
   ],
   "source": [
    "col = \"Título\"\n",
    "dataset.loc[dataset[col] == \"#¿NOMBRE?\", col] = None\n",
    "descripcion(dataset,col)"
   ]
  },
  {
   "cell_type": "markdown",
   "metadata": {
    "id": "ZgKfOlpJf8nE"
   },
   "source": [
    "**Análisis**: de manera parecida los títulos nos dejan ver la cantidad de material diferente que tiene la biblioteca. La mayoría del material tiene asociado un título lo cual ayuda que al realizar una recomendación el usuario sepa a primera vista por el título que se le está recomendando."
   ]
  },
  {
   "cell_type": "markdown",
   "metadata": {
    "id": "eDuKaYYeDTSf"
   },
   "source": [
    "### Col: Tema 650\n",
    "**Descripción:** Contiene un tema especifico para el ítem. Es más especifico que valores como el Dewey."
   ]
  },
  {
   "cell_type": "code",
   "execution_count": 225,
   "metadata": {
    "colab": {
     "base_uri": "https://localhost:8080/"
    },
    "executionInfo": {
     "elapsed": 780,
     "status": "ok",
     "timestamp": 1632954015499,
     "user": {
      "displayName": "juan sebastian angarita torres",
      "photoUrl": "https://lh3.googleusercontent.com/a-/AOh14GgjiV1o_Xb2Ov2kAJhpXcHsgVLy47m-BxyXrYYMfw=s64",
      "userId": "11476954540008106843"
     },
     "user_tz": 300
    },
    "id": "KOWE0eapKWNq",
    "outputId": "85f6e349-dfec-493a-ab9b-fa611b0ce20e"
   },
   "outputs": [
    {
     "name": "stdout",
     "output_type": "stream",
     "text": [
      "Número de datos nulos: 0\n",
      "Número de datos únicos: 105450\n",
      "Tipo de dato: <class 'str'>\n",
      "Ejemplo: Astrónomos Polonia Biografías\n"
     ]
    }
   ],
   "source": [
    "col = \"Tema 650\"\n",
    "dataset.loc[dataset[col] == \"-\", col] = \"Desconocido\"\n",
    "descripcion(dataset,col)"
   ]
  },
  {
   "cell_type": "code",
   "execution_count": 226,
   "metadata": {
    "colab": {
     "base_uri": "https://localhost:8080/"
    },
    "executionInfo": {
     "elapsed": 171,
     "status": "ok",
     "timestamp": 1632954015668,
     "user": {
      "displayName": "juan sebastian angarita torres",
      "photoUrl": "https://lh3.googleusercontent.com/a-/AOh14GgjiV1o_Xb2Ov2kAJhpXcHsgVLy47m-BxyXrYYMfw=s64",
      "userId": "11476954540008106843"
     },
     "user_tz": 300
    },
    "id": "KueloquiJLub",
    "outputId": "12ac5c5d-2cb9-441b-b4b3-9bb01ac6064e"
   },
   "outputs": [
    {
     "name": "stdout",
     "output_type": "stream",
     "text": [
      "Número de datos desconocidos: 59984\n"
     ]
    }
   ],
   "source": [
    "print(\"Número de datos desconocidos:\", len(dataset.loc[dataset[col] == \"Desconocido\"]))\n"
   ]
  },
  {
   "cell_type": "markdown",
   "metadata": {
    "id": "CMY6nu7NgiBR"
   },
   "source": [
    "**Análisis**: tema 650 incluye un tema especifico para cada libro. Por otro lado hay demasiados temas por lo cual realizar un trabajo de recomendación con este atributo puede llevar a problemas de dispersión. "
   ]
  },
  {
   "cell_type": "markdown",
   "metadata": {
    "id": "KjxuZkmdDWoN"
   },
   "source": [
    "### Col: Año publicación\n",
    "**Descripción:** año en el cual originalmente se publica o crea el ítem"
   ]
  },
  {
   "cell_type": "code",
   "execution_count": 227,
   "metadata": {
    "executionInfo": {
     "elapsed": 12,
     "status": "ok",
     "timestamp": 1632954015668,
     "user": {
      "displayName": "juan sebastian angarita torres",
      "photoUrl": "https://lh3.googleusercontent.com/a-/AOh14GgjiV1o_Xb2Ov2kAJhpXcHsgVLy47m-BxyXrYYMfw=s64",
      "userId": "11476954540008106843"
     },
     "user_tz": 300
    },
    "id": "3WISLxbthKtQ"
   },
   "outputs": [],
   "source": [
    "dataset.loc[dataset[\"Año publicación\"] == \"-\", \"Año publicación\"] = None\n"
   ]
  },
  {
   "cell_type": "code",
   "execution_count": 228,
   "metadata": {
    "colab": {
     "base_uri": "https://localhost:8080/"
    },
    "executionInfo": {
     "elapsed": 12,
     "status": "ok",
     "timestamp": 1632954015668,
     "user": {
      "displayName": "juan sebastian angarita torres",
      "photoUrl": "https://lh3.googleusercontent.com/a-/AOh14GgjiV1o_Xb2Ov2kAJhpXcHsgVLy47m-BxyXrYYMfw=s64",
      "userId": "11476954540008106843"
     },
     "user_tz": 300
    },
    "id": "qkezSRinkhM5",
    "outputId": "4d412313-ae65-4fbb-ced3-b11bbc07f828"
   },
   "outputs": [
    {
     "name": "stdout",
     "output_type": "stream",
     "text": [
      "ítems con año 0: 32831\n",
      "ítems con año mayor al actual: 112\n"
     ]
    }
   ],
   "source": [
    "print(\"ítems con año 0:\" , dataset.loc[dataset[\"Año publicación\"] ==0].shape[0])\n",
    "print(\"ítems con año mayor al actual:\" , dataset.loc[dataset[\"Año publicación\"] >2021].shape[0])\n"
   ]
  },
  {
   "cell_type": "code",
   "execution_count": 229,
   "metadata": {
    "colab": {
     "base_uri": "https://localhost:8080/"
    },
    "executionInfo": {
     "elapsed": 9,
     "status": "ok",
     "timestamp": 1632954015668,
     "user": {
      "displayName": "juan sebastian angarita torres",
      "photoUrl": "https://lh3.googleusercontent.com/a-/AOh14GgjiV1o_Xb2Ov2kAJhpXcHsgVLy47m-BxyXrYYMfw=s64",
      "userId": "11476954540008106843"
     },
     "user_tz": 300
    },
    "id": "-UZopgOaKWxD",
    "outputId": "94e5892e-3af1-4656-81b3-fdf9cce2119e"
   },
   "outputs": [
    {
     "name": "stdout",
     "output_type": "stream",
     "text": [
      "Número de datos nulos: 70\n",
      "Número de datos únicos: 371\n",
      "Tipo de dato: <class 'numpy.float64'>\n",
      "Ejemplo: 1973.0\n"
     ]
    }
   ],
   "source": [
    "col = \"Año publicación\"\n",
    "descripcion(dataset,col)"
   ]
  },
  {
   "cell_type": "code",
   "execution_count": 230,
   "metadata": {
    "colab": {
     "base_uri": "https://localhost:8080/"
    },
    "executionInfo": {
     "elapsed": 6,
     "status": "ok",
     "timestamp": 1632954015668,
     "user": {
      "displayName": "juan sebastian angarita torres",
      "photoUrl": "https://lh3.googleusercontent.com/a-/AOh14GgjiV1o_Xb2Ov2kAJhpXcHsgVLy47m-BxyXrYYMfw=s64",
      "userId": "11476954540008106843"
     },
     "user_tz": 300
    },
    "id": "eVZR7QdKg-_W",
    "outputId": "97de6ebf-e0de-4645-8bce-df8577132a2a"
   },
   "outputs": [
    {
     "data": {
      "text/plain": [
       "count    746864.000000\n",
       "mean       1895.774059\n",
       "std         416.974491\n",
       "min           0.000000\n",
       "25%        1969.000000\n",
       "50%        1991.000000\n",
       "75%        2002.000000\n",
       "max        9999.000000\n",
       "Name: Año publicación, dtype: float64"
      ]
     },
     "execution_count": 230,
     "metadata": {},
     "output_type": "execute_result"
    }
   ],
   "source": [
    "dataset[col].describe()"
   ]
  },
  {
   "cell_type": "markdown",
   "metadata": {
    "id": "svzGBLYJheyI"
   },
   "source": [
    "**Análisis:** Notamos problemas de integridad de los datos para este atributo con más de 32000 ítems con año de publicación cero lo cual puede señalar que simplemente no se tiene información real sobre el año de publicación de dicho libro. Así mismo encontramos ítems con año de publicación mayor a la fecha actual lo cual también puede ser considerado como problemas de integridad de los datos."
   ]
  },
  {
   "cell_type": "markdown",
   "metadata": {
    "id": "LQ7sbmJjg6xC"
   },
   "source": [
    "**Análisis**"
   ]
  },
  {
   "cell_type": "markdown",
   "metadata": {
    "id": "Hs-dW54gDasR"
   },
   "source": [
    "### Col: Todas las temáticas\n",
    "**Descripción:** String que contiene diferentes tematicas que tiene el ítem. Más completo que categorías como Dewey más al mismo tiempo tiene problemas de integridad de datos al repetir ciertas palabras que están relacionadas a una misma categoría. "
   ]
  },
  {
   "cell_type": "code",
   "execution_count": 231,
   "metadata": {
    "colab": {
     "base_uri": "https://localhost:8080/"
    },
    "executionInfo": {
     "elapsed": 5,
     "status": "ok",
     "timestamp": 1632954015669,
     "user": {
      "displayName": "juan sebastian angarita torres",
      "photoUrl": "https://lh3.googleusercontent.com/a-/AOh14GgjiV1o_Xb2Ov2kAJhpXcHsgVLy47m-BxyXrYYMfw=s64",
      "userId": "11476954540008106843"
     },
     "user_tz": 300
    },
    "id": "fecrOCSLKXUi",
    "outputId": "adfb7202-2c18-4c80-a192-11c28f5d4265"
   },
   "outputs": [
    {
     "name": "stdout",
     "output_type": "stream",
     "text": [
      "Número de datos nulos: 0\n",
      "Número de datos únicos: 266624\n",
      "Tipo de dato: <class 'str'>\n",
      "Ejemplo: 24$aAstronomos$zPolonia$vBiografias\n"
     ]
    }
   ],
   "source": [
    "col = \"Todas las temáticas\"\n",
    "descripcion(dataset,col)"
   ]
  },
  {
   "cell_type": "code",
   "execution_count": 232,
   "metadata": {
    "colab": {
     "base_uri": "https://localhost:8080/"
    },
    "executionInfo": {
     "elapsed": 176,
     "status": "ok",
     "timestamp": 1632954015842,
     "user": {
      "displayName": "juan sebastian angarita torres",
      "photoUrl": "https://lh3.googleusercontent.com/a-/AOh14GgjiV1o_Xb2Ov2kAJhpXcHsgVLy47m-BxyXrYYMfw=s64",
      "userId": "11476954540008106843"
     },
     "user_tz": 300
    },
    "id": "SddVE05bn8Hl",
    "outputId": "aafbb35d-a09f-4021-d5f4-4639fa7dda9b"
   },
   "outputs": [
    {
     "data": {
      "text/plain": [
       "0"
      ]
     },
     "execution_count": 232,
     "metadata": {},
     "output_type": "execute_result"
    }
   ],
   "source": [
    "len(dataset.loc[dataset[col].str.len()==0])\n"
   ]
  },
  {
   "cell_type": "markdown",
   "metadata": {
    "id": "K7aOgeEerncY"
   },
   "source": [
    "**Análisis:** Todas las temáticas es una columna parecida a Tema 650, con la diferencia de que los temas se encuentran en único String. Esta columna tiene diferentes separadores, por lo cual tampoco es sencillo de tokenizar. Esta columna será descartada."
   ]
  },
  {
   "cell_type": "markdown",
   "metadata": {
    "id": "N13YkhqciXUg"
   },
   "source": [
    "# Limpieza"
   ]
  },
  {
   "cell_type": "markdown",
   "metadata": {
    "id": "CUYk5Tewn0tz"
   },
   "source": [
    "### Estandarización nombres columnas\n",
    "Comenzaremos estandirando los nombres de las columnas, así como cambiando el nombre de las columnas sobre las cuales se va a realizar joins. Todos los nombres se pondrán en minuscula, sin tildes, ni espacios, pasando al estandar de camelCase."
   ]
  },
  {
   "cell_type": "code",
   "execution_count": 233,
   "metadata": {
    "colab": {
     "base_uri": "https://localhost:8080/"
    },
    "executionInfo": {
     "elapsed": 4,
     "status": "ok",
     "timestamp": 1632954015842,
     "user": {
      "displayName": "juan sebastian angarita torres",
      "photoUrl": "https://lh3.googleusercontent.com/a-/AOh14GgjiV1o_Xb2Ov2kAJhpXcHsgVLy47m-BxyXrYYMfw=s64",
      "userId": "11476954540008106843"
     },
     "user_tz": 300
    },
    "id": "eqjaydq9ok23",
    "outputId": "0b09cdee-4868-49bd-be8d-e4dc2e302fc0"
   },
   "outputs": [
    {
     "data": {
      "text/plain": [
       "Index(['Signatura', 'Id de item', 'Ubicación Habitual', 'Ubicación Actual',\n",
       "       'Tipo de ítem', 'Biblioteca', 'Cat2', 'Fecha de creación',\n",
       "       'Total de préstamos', 'Llaves', 'Vol', 'Copias', 'Autor',\n",
       "       'Autor corporativo', 'Título', 'Tema 650', 'Año publicación',\n",
       "       'Todas las temáticas'],\n",
       "      dtype='object')"
      ]
     },
     "execution_count": 233,
     "metadata": {},
     "output_type": "execute_result"
    }
   ],
   "source": [
    "dataset.columns"
   ]
  },
  {
   "cell_type": "code",
   "execution_count": 234,
   "metadata": {
    "executionInfo": {
     "elapsed": 2,
     "status": "ok",
     "timestamp": 1632954015842,
     "user": {
      "displayName": "juan sebastian angarita torres",
      "photoUrl": "https://lh3.googleusercontent.com/a-/AOh14GgjiV1o_Xb2Ov2kAJhpXcHsgVLy47m-BxyXrYYMfw=s64",
      "userId": "11476954540008106843"
     },
     "user_tz": 300
    },
    "id": "L4JDB7bhotvn"
   },
   "outputs": [],
   "source": [
    "nombresNuevos = {'Id de item':'IDItem',\n",
    " 'Ubicación Habitual':'UbicacionHabitual',\n",
    "  'Llaves':'Llave',\n",
    " 'Ubicación Actual':'UbicacionActual',\n",
    "  'Fecha de creación':'FechaCreación',\n",
    "  'Numero de Ubicación':'NumeroUbicacion',\n",
    "  'Total de préstamos':'TotalPrestamos',\n",
    "  'Autor corporativo':'AutorCorporativo',\n",
    "  'Tipo de ítem':'TipoItem',\n",
    "  'Título':'Titulo',\n",
    " 'Tema 650':'Tema650',\n",
    " 'Todas las temáticas':'TodasTematicas',\n",
    " 'Año publicación':'AnioPublicacion'}"
   ]
  },
  {
   "cell_type": "code",
   "execution_count": 235,
   "metadata": {
    "executionInfo": {
     "elapsed": 175,
     "status": "ok",
     "timestamp": 1632954016016,
     "user": {
      "displayName": "juan sebastian angarita torres",
      "photoUrl": "https://lh3.googleusercontent.com/a-/AOh14GgjiV1o_Xb2Ov2kAJhpXcHsgVLy47m-BxyXrYYMfw=s64",
      "userId": "11476954540008106843"
     },
     "user_tz": 300
    },
    "id": "0snjymXPoRlU"
   },
   "outputs": [],
   "source": [
    "materialLimpio = dataset.rename(columns=nombresNuevos)"
   ]
  },
  {
   "cell_type": "code",
   "execution_count": 236,
   "metadata": {
    "colab": {
     "base_uri": "https://localhost:8080/"
    },
    "executionInfo": {
     "elapsed": 4,
     "status": "ok",
     "timestamp": 1632954016016,
     "user": {
      "displayName": "juan sebastian angarita torres",
      "photoUrl": "https://lh3.googleusercontent.com/a-/AOh14GgjiV1o_Xb2Ov2kAJhpXcHsgVLy47m-BxyXrYYMfw=s64",
      "userId": "11476954540008106843"
     },
     "user_tz": 300
    },
    "id": "I9RF5W15qC9K",
    "outputId": "04752511-98ba-42b1-9579-1bcecd3f0853"
   },
   "outputs": [
    {
     "data": {
      "text/plain": [
       "Index(['Signatura', 'IDItem', 'UbicacionHabitual', 'UbicacionActual',\n",
       "       'TipoItem', 'Biblioteca', 'Cat2', 'FechaCreación', 'TotalPrestamos',\n",
       "       'Llave', 'Vol', 'Copias', 'Autor', 'AutorCorporativo', 'Titulo',\n",
       "       'Tema650', 'AnioPublicacion', 'TodasTematicas'],\n",
       "      dtype='object')"
      ]
     },
     "execution_count": 236,
     "metadata": {},
     "output_type": "execute_result"
    }
   ],
   "source": [
    "materialLimpio.columns"
   ]
  },
  {
   "cell_type": "markdown",
   "metadata": {
    "id": "cPSsl4Z5qh8A"
   },
   "source": [
    "### Eliminacion Columnas\n",
    "Se eliminarán las columnas que nos nos ofrecen información útil para los algoritmos de recomendación ni ofrecen información que pueda ser útil para los usuarios.\n",
    "\n",
    "Las columnas a eliminar son:\n",
    "* UbicacionHabitual: No ofrece valor adicional para los algoritmos de recomendación.\n",
    "* Biblioteca: tiene único valor\n",
    "* TodasTematicas: Es un atributo derivado y tiene problemas para tokenizar.\n",
    "* AutorCorporativo:  No ofrece valor adicional para los algoritmos de recomendación ni para el usuario.\n",
    "* Cat2: No ofrece valor adicional para los algoritmos de recomendación ni para el usuario."
   ]
  },
  {
   "cell_type": "code",
   "execution_count": 237,
   "metadata": {
    "executionInfo": {
     "elapsed": 361,
     "status": "ok",
     "timestamp": 1632954016376,
     "user": {
      "displayName": "juan sebastian angarita torres",
      "photoUrl": "https://lh3.googleusercontent.com/a-/AOh14GgjiV1o_Xb2Ov2kAJhpXcHsgVLy47m-BxyXrYYMfw=s64",
      "userId": "11476954540008106843"
     },
     "user_tz": 300
    },
    "id": "44D18FI3q7Xm"
   },
   "outputs": [],
   "source": [
    "materialLimpio = materialLimpio.drop(['UbicacionHabitual',\n",
    "                                        'Biblioteca',\n",
    "                                        'TodasTematicas',\n",
    "                                        'AutorCorporativo',\n",
    "                                        'Cat2',\n",
    "                                      'Vol',\n",
    "                                      'FechaCreación'],axis=1)"
   ]
  },
  {
   "cell_type": "code",
   "execution_count": 238,
   "metadata": {
    "colab": {
     "base_uri": "https://localhost:8080/"
    },
    "executionInfo": {
     "elapsed": 4,
     "status": "ok",
     "timestamp": 1632954016376,
     "user": {
      "displayName": "juan sebastian angarita torres",
      "photoUrl": "https://lh3.googleusercontent.com/a-/AOh14GgjiV1o_Xb2Ov2kAJhpXcHsgVLy47m-BxyXrYYMfw=s64",
      "userId": "11476954540008106843"
     },
     "user_tz": 300
    },
    "id": "dCEc0S9CrKlu",
    "outputId": "4656a0e5-15f0-42ba-c568-3e2641a99365"
   },
   "outputs": [
    {
     "data": {
      "text/plain": [
       "Index(['Signatura', 'IDItem', 'UbicacionActual', 'TipoItem', 'TotalPrestamos',\n",
       "       'Llave', 'Copias', 'Autor', 'Titulo', 'Tema650', 'AnioPublicacion'],\n",
       "      dtype='object')"
      ]
     },
     "execution_count": 238,
     "metadata": {},
     "output_type": "execute_result"
    }
   ],
   "source": [
    "materialLimpio.columns"
   ]
  },
  {
   "cell_type": "markdown",
   "metadata": {
    "id": "B3HyTkg4vmBO"
   },
   "source": [
    "### Eliminación Tipos de ítems\n",
    "Para el contexto del material solo nos interesa recomendar cierto tipo de material bibliográfico. Como se pudo observar los prestamos están compuestos no solo de libros, sino también de video, grabaciones, mapas, entre otros.\n",
    "A partir del análisis con expertos se decidió por centrarnos únicamente en estos tipos de materiales:\n",
    "* 'LIBRO'\n",
    "* 'LITERATURA'\n",
    "* 'REFERENCIA'\n",
    "* 'RESERVA'"
   ]
  },
  {
   "cell_type": "code",
   "execution_count": 239,
   "metadata": {
    "colab": {
     "base_uri": "https://localhost:8080/"
    },
    "executionInfo": {
     "elapsed": 184,
     "status": "ok",
     "timestamp": 1632954016559,
     "user": {
      "displayName": "juan sebastian angarita torres",
      "photoUrl": "https://lh3.googleusercontent.com/a-/AOh14GgjiV1o_Xb2Ov2kAJhpXcHsgVLy47m-BxyXrYYMfw=s64",
      "userId": "11476954540008106843"
     },
     "user_tz": 300
    },
    "id": "7tQ036wI0id2",
    "outputId": "999b7209-bbdb-4a98-bf5d-f85c3d05483d"
   },
   "outputs": [
    {
     "data": {
      "text/plain": [
       "(340698, 11)"
      ]
     },
     "execution_count": 239,
     "metadata": {},
     "output_type": "execute_result"
    }
   ],
   "source": [
    "materialLimpio = materialLimpio[materialLimpio['TipoItem'].isin([\n",
    "'LIBRO',\n",
    "'LITERATURA',\n",
    "'REFERENCIA',\n",
    "'RESERVA',\n",
    "])]\n",
    "materialLimpio.shape"
   ]
  },
  {
   "cell_type": "code",
   "execution_count": 240,
   "metadata": {
    "colab": {
     "base_uri": "https://localhost:8080/",
     "height": 343
    },
    "executionInfo": {
     "elapsed": 350,
     "status": "ok",
     "timestamp": 1632954016908,
     "user": {
      "displayName": "juan sebastian angarita torres",
      "photoUrl": "https://lh3.googleusercontent.com/a-/AOh14GgjiV1o_Xb2Ov2kAJhpXcHsgVLy47m-BxyXrYYMfw=s64",
      "userId": "11476954540008106843"
     },
     "user_tz": 300
    },
    "id": "SXtxmhLG2tph",
    "outputId": "169b7db4-67b8-49e9-e674-03fcc0fee7b0"
   },
   "outputs": [
    {
     "data": {
      "image/png": "[encoded data removed]",
      "text/plain": [
       "<Figure size 1800x720 with 1 Axes>"
      ]
     },
     "metadata": {
      "needs_background": "light"
     },
     "output_type": "display_data"
    }
   ],
   "source": [
    "histograma(materialLimpio,'TipoItem')"
   ]
  },
  {
   "cell_type": "markdown",
   "metadata": {
    "id": "U_AvzUgYyS6v"
   },
   "source": [
    "## Atributo derivado(dewey)\n",
    "A partir del sistema de dewey propio de la biblioteca y del atributo Signatura obtendremos que significa cada dewey. "
   ]
  },
  {
   "cell_type": "code",
   "execution_count": 25,
   "metadata": {
    "executionInfo": {
     "elapsed": 844,
     "status": "ok",
     "timestamp": 1632954017749,
     "user": {
      "displayName": "juan sebastian angarita torres",
      "photoUrl": "https://lh3.googleusercontent.com/a-/AOh14GgjiV1o_Xb2Ov2kAJhpXcHsgVLy47m-BxyXrYYMfw=s64",
      "userId": "11476954540008106843"
     },
     "user_tz": 300
    },
    "id": "CMqhdiyGyt4B"
   },
   "outputs": [],
   "source": [
    "datasetDeweys = pd.read_excel('https://www.dropbox.com/scl/fi/87rzn3hw01a5weu45e12j/SistemaDewey.xlsx?dl=1&rlkey=8ey8kdgpyhdd6ktelmebmf6zj')"
   ]
  },
  {
   "cell_type": "code",
   "execution_count": 26,
   "metadata": {
    "colab": {
     "base_uri": "https://localhost:8080/",
     "height": 203
    },
    "executionInfo": {
     "elapsed": 10,
     "status": "ok",
     "timestamp": 1632954017750,
     "user": {
      "displayName": "juan sebastian angarita torres",
      "photoUrl": "https://lh3.googleusercontent.com/a-/AOh14GgjiV1o_Xb2Ov2kAJhpXcHsgVLy47m-BxyXrYYMfw=s64",
      "userId": "11476954540008106843"
     },
     "user_tz": 300
    },
    "id": "DeeYaCL7ziGU",
    "outputId": "de99dce1-bc95-44b9-b544-b3a5b3340924"
   },
   "outputs": [
    {
     "data": {
      "text/html": [
       "<div>\n",
       "<style scoped>\n",
       "    .dataframe tbody tr th:only-of-type {\n",
       "        vertical-align: middle;\n",
       "    }\n",
       "\n",
       "    .dataframe tbody tr th {\n",
       "        vertical-align: top;\n",
       "    }\n",
       "\n",
       "    .dataframe thead th {\n",
       "        text-align: right;\n",
       "    }\n",
       "</style>\n",
       "<table border=\"1\" class=\"dataframe\">\n",
       "  <thead>\n",
       "    <tr style=\"text-align: right;\">\n",
       "      <th></th>\n",
       "      <th>NO_DEWEY</th>\n",
       "      <th>EDICIÓN</th>\n",
       "      <th>ENCABEZAMIENTO</th>\n",
       "      <th>NOTA</th>\n",
       "    </tr>\n",
       "  </thead>\n",
       "  <tbody>\n",
       "    <tr>\n",
       "      <th>0</th>\n",
       "      <td>001</td>\n",
       "      <td>21</td>\n",
       "      <td>Conocimiento y erudición</td>\n",
       "      <td>OK - REVISADO</td>\n",
       "    </tr>\n",
       "    <tr>\n",
       "      <th>1</th>\n",
       "      <td>001.1</td>\n",
       "      <td>21</td>\n",
       "      <td>Vida intelectual</td>\n",
       "      <td>OK - REVISADO</td>\n",
       "    </tr>\n",
       "    <tr>\n",
       "      <th>2</th>\n",
       "      <td>001.2</td>\n",
       "      <td>19</td>\n",
       "      <td>Aproximación interdisciplinaria al conocimiento</td>\n",
       "      <td>OK - REVISADO</td>\n",
       "    </tr>\n",
       "    <tr>\n",
       "      <th>3</th>\n",
       "      <td>001.2</td>\n",
       "      <td>19</td>\n",
       "      <td>Investigación interdisciplinaria</td>\n",
       "      <td>OK - REVISADO</td>\n",
       "    </tr>\n",
       "    <tr>\n",
       "      <th>4</th>\n",
       "      <td>001.3</td>\n",
       "      <td>21</td>\n",
       "      <td>Humanidades</td>\n",
       "      <td>OK - REVISADO</td>\n",
       "    </tr>\n",
       "  </tbody>\n",
       "</table>\n",
       "</div>"
      ],
      "text/plain": [
       "  NO_DEWEY  EDICIÓN                                   ENCABEZAMIENTO  \\\n",
       "0      001       21                         Conocimiento y erudición   \n",
       "1    001.1       21                                 Vida intelectual   \n",
       "2    001.2       19  Aproximación interdisciplinaria al conocimiento   \n",
       "3    001.2       19                 Investigación interdisciplinaria   \n",
       "4    001.3       21                                      Humanidades   \n",
       "\n",
       "            NOTA  \n",
       "0  OK - REVISADO  \n",
       "1  OK - REVISADO  \n",
       "2  OK - REVISADO  \n",
       "3  OK - REVISADO  \n",
       "4  OK - REVISADO  "
      ]
     },
     "execution_count": 26,
     "metadata": {},
     "output_type": "execute_result"
    }
   ],
   "source": [
    "datasetDeweys.head()"
   ]
  },
  {
   "cell_type": "markdown",
   "metadata": {
    "id": "y_aT4ZjLzn0_"
   },
   "source": [
    "Dado que este archivo incluye los diferentes versionamientos de los deweys eliminamos duplicados y nos quedamos únicamente con el último dewey"
   ]
  },
  {
   "cell_type": "code",
   "execution_count": 243,
   "metadata": {
    "colab": {
     "base_uri": "https://localhost:8080/",
     "height": 417
    },
    "executionInfo": {
     "elapsed": 7,
     "status": "ok",
     "timestamp": 1632954017750,
     "user": {
      "displayName": "juan sebastian angarita torres",
      "photoUrl": "https://lh3.googleusercontent.com/a-/AOh14GgjiV1o_Xb2Ov2kAJhpXcHsgVLy47m-BxyXrYYMfw=s64",
      "userId": "11476954540008106843"
     },
     "user_tz": 300
    },
    "id": "9OFmoIDBzzZ-",
    "outputId": "bafef91f-6de9-4dc5-ece9-ce98bc600c94"
   },
   "outputs": [
    {
     "data": {
      "text/html": [
       "<div>\n",
       "<style scoped>\n",
       "    .dataframe tbody tr th:only-of-type {\n",
       "        vertical-align: middle;\n",
       "    }\n",
       "\n",
       "    .dataframe tbody tr th {\n",
       "        vertical-align: top;\n",
       "    }\n",
       "\n",
       "    .dataframe thead th {\n",
       "        text-align: right;\n",
       "    }\n",
       "</style>\n",
       "<table border=\"1\" class=\"dataframe\">\n",
       "  <thead>\n",
       "    <tr style=\"text-align: right;\">\n",
       "      <th></th>\n",
       "      <th>NO_DEWEY</th>\n",
       "      <th>EDICIÓN</th>\n",
       "      <th>ENCABEZAMIENTO</th>\n",
       "      <th>NOTA</th>\n",
       "    </tr>\n",
       "  </thead>\n",
       "  <tbody>\n",
       "    <tr>\n",
       "      <th>1</th>\n",
       "      <td>001.1</td>\n",
       "      <td>21</td>\n",
       "      <td>Vida intelectual</td>\n",
       "      <td>OK - REVISADO</td>\n",
       "    </tr>\n",
       "    <tr>\n",
       "      <th>3</th>\n",
       "      <td>001.2</td>\n",
       "      <td>19</td>\n",
       "      <td>Investigación interdisciplinaria</td>\n",
       "      <td>OK - REVISADO</td>\n",
       "    </tr>\n",
       "    <tr>\n",
       "      <th>4</th>\n",
       "      <td>001.3</td>\n",
       "      <td>21</td>\n",
       "      <td>Humanidades</td>\n",
       "      <td>OK - REVISADO</td>\n",
       "    </tr>\n",
       "    <tr>\n",
       "      <th>5</th>\n",
       "      <td>001.4</td>\n",
       "      <td>21</td>\n",
       "      <td>Investigación</td>\n",
       "      <td>OK - REVISADO</td>\n",
       "    </tr>\n",
       "    <tr>\n",
       "      <th>9</th>\n",
       "      <td>001.42</td>\n",
       "      <td>21</td>\n",
       "      <td>Proyectos de investigación</td>\n",
       "      <td>OK - REVISADO</td>\n",
       "    </tr>\n",
       "    <tr>\n",
       "      <th>...</th>\n",
       "      <td>...</td>\n",
       "      <td>...</td>\n",
       "      <td>...</td>\n",
       "      <td>...</td>\n",
       "    </tr>\n",
       "    <tr>\n",
       "      <th>11115</th>\n",
       "      <td>V863</td>\n",
       "      <td>21</td>\n",
       "      <td>Novela venezolana</td>\n",
       "      <td>OK - REVISADO</td>\n",
       "    </tr>\n",
       "    <tr>\n",
       "      <th>11116</th>\n",
       "      <td>V863.08</td>\n",
       "      <td>21</td>\n",
       "      <td>Cuentos venezolanos|vColecciones</td>\n",
       "      <td>OK - REVISADO</td>\n",
       "    </tr>\n",
       "    <tr>\n",
       "      <th>11117</th>\n",
       "      <td>V863.09</td>\n",
       "      <td>21</td>\n",
       "      <td>Novela venezolana|xHistoria y crítica</td>\n",
       "      <td>OK - REVISADO</td>\n",
       "    </tr>\n",
       "    <tr>\n",
       "      <th>11118</th>\n",
       "      <td>V864</td>\n",
       "      <td>21</td>\n",
       "      <td>Ensayos venezolanos</td>\n",
       "      <td>OK - REVISADO</td>\n",
       "    </tr>\n",
       "    <tr>\n",
       "      <th>11119</th>\n",
       "      <td>001</td>\n",
       "      <td>21</td>\n",
       "      <td>Conocimiento</td>\n",
       "      <td>OK - REVISADO</td>\n",
       "    </tr>\n",
       "  </tbody>\n",
       "</table>\n",
       "<p>7215 rows × 4 columns</p>\n",
       "</div>"
      ],
      "text/plain": [
       "      NO_DEWEY  EDICIÓN                         ENCABEZAMIENTO           NOTA\n",
       "1        001.1       21                       Vida intelectual  OK - REVISADO\n",
       "3        001.2       19       Investigación interdisciplinaria  OK - REVISADO\n",
       "4        001.3       21                            Humanidades  OK - REVISADO\n",
       "5        001.4       21                          Investigación  OK - REVISADO\n",
       "9       001.42       21             Proyectos de investigación  OK - REVISADO\n",
       "...        ...      ...                                    ...            ...\n",
       "11115     V863       21                      Novela venezolana  OK - REVISADO\n",
       "11116  V863.08       21       Cuentos venezolanos|vColecciones  OK - REVISADO\n",
       "11117  V863.09       21  Novela venezolana|xHistoria y crítica  OK - REVISADO\n",
       "11118     V864       21                    Ensayos venezolanos  OK - REVISADO\n",
       "11119      001       21                           Conocimiento  OK - REVISADO\n",
       "\n",
       "[7215 rows x 4 columns]"
      ]
     },
     "execution_count": 243,
     "metadata": {},
     "output_type": "execute_result"
    }
   ],
   "source": [
    "datasetDeweys = datasetDeweys.drop_duplicates(subset=['NO_DEWEY'], keep='last')\n",
    "datasetDeweys"
   ]
  },
  {
   "cell_type": "markdown",
   "metadata": {
    "id": "Osfhx6N40MfB"
   },
   "source": [
    "Extraemos el dewey de la columna Signatura."
   ]
  },
  {
   "cell_type": "code",
   "execution_count": 244,
   "metadata": {
    "executionInfo": {
     "elapsed": 899,
     "status": "ok",
     "timestamp": 1632954018643,
     "user": {
      "displayName": "juan sebastian angarita torres",
      "photoUrl": "https://lh3.googleusercontent.com/a-/AOh14GgjiV1o_Xb2Ov2kAJhpXcHsgVLy47m-BxyXrYYMfw=s64",
      "userId": "11476954540008106843"
     },
     "user_tz": 300
    },
    "id": "K7idp51tz95y"
   },
   "outputs": [],
   "source": [
    "materialLimpio[\"Signatura\"] = materialLimpio[\"Signatura\"].apply(lambda x: \n",
    "                       x.split())\n",
    "materialLimpio[\"Signatura\"] = materialLimpio[\"Signatura\"].apply(lambda x: \n",
    "                       x[0])"
   ]
  },
  {
   "cell_type": "markdown",
   "metadata": {
    "id": "ieuRjgaZ0XPa"
   },
   "source": [
    "Realizamos el join entre ambas tablas para poder entender de mejor manera cual es el dewey de cada ítem."
   ]
  },
  {
   "cell_type": "code",
   "execution_count": 245,
   "metadata": {
    "executionInfo": {
     "elapsed": 528,
     "status": "ok",
     "timestamp": 1632954019168,
     "user": {
      "displayName": "juan sebastian angarita torres",
      "photoUrl": "https://lh3.googleusercontent.com/a-/AOh14GgjiV1o_Xb2Ov2kAJhpXcHsgVLy47m-BxyXrYYMfw=s64",
      "userId": "11476954540008106843"
     },
     "user_tz": 300
    },
    "id": "Tt9Kq4WB0W4g"
   },
   "outputs": [],
   "source": [
    "data_material = pd.DataFrame(data=materialLimpio)\n",
    "data_deweys = pd.DataFrame(data=datasetDeweys)\n",
    "materialLimpio2 = pd.merge(data_material, data_deweys,left_on='Signatura', right_on='NO_DEWEY', how='left')"
   ]
  },
  {
   "cell_type": "code",
   "execution_count": 246,
   "metadata": {
    "colab": {
     "base_uri": "https://localhost:8080/",
     "height": 363
    },
    "executionInfo": {
     "elapsed": 6,
     "status": "ok",
     "timestamp": 1632954019168,
     "user": {
      "displayName": "juan sebastian angarita torres",
      "photoUrl": "https://lh3.googleusercontent.com/a-/AOh14GgjiV1o_Xb2Ov2kAJhpXcHsgVLy47m-BxyXrYYMfw=s64",
      "userId": "11476954540008106843"
     },
     "user_tz": 300
    },
    "id": "NEmekzPq0wiJ",
    "outputId": "3c26c559-80c2-4663-e3df-643b553afaa7"
   },
   "outputs": [
    {
     "data": {
      "text/html": [
       "<div>\n",
       "<style scoped>\n",
       "    .dataframe tbody tr th:only-of-type {\n",
       "        vertical-align: middle;\n",
       "    }\n",
       "\n",
       "    .dataframe tbody tr th {\n",
       "        vertical-align: top;\n",
       "    }\n",
       "\n",
       "    .dataframe thead th {\n",
       "        text-align: right;\n",
       "    }\n",
       "</style>\n",
       "<table border=\"1\" class=\"dataframe\">\n",
       "  <thead>\n",
       "    <tr style=\"text-align: right;\">\n",
       "      <th></th>\n",
       "      <th>Signatura</th>\n",
       "      <th>IDItem</th>\n",
       "      <th>UbicacionActual</th>\n",
       "      <th>TipoItem</th>\n",
       "      <th>TotalPrestamos</th>\n",
       "      <th>Llave</th>\n",
       "      <th>Copias</th>\n",
       "      <th>Autor</th>\n",
       "      <th>Titulo</th>\n",
       "      <th>Tema650</th>\n",
       "      <th>AnioPublicacion</th>\n",
       "      <th>NO_DEWEY</th>\n",
       "      <th>EDICIÓN</th>\n",
       "      <th>ENCABEZAMIENTO</th>\n",
       "      <th>NOTA</th>\n",
       "    </tr>\n",
       "  </thead>\n",
       "  <tbody>\n",
       "    <tr>\n",
       "      <th>0</th>\n",
       "      <td>925.2</td>\n",
       "      <td>60000000049754</td>\n",
       "      <td>A-BATEMAN</td>\n",
       "      <td>LIBRO</td>\n",
       "      <td>0</td>\n",
       "      <td>933604</td>\n",
       "      <td>1</td>\n",
       "      <td>Álvarez Ríos, Baldomero 1924-</td>\n",
       "      <td>Copernico gigante del Renacimiento Baldomero A...</td>\n",
       "      <td>Astrónomos Polonia Biografías</td>\n",
       "      <td>1973.0</td>\n",
       "      <td>925.2</td>\n",
       "      <td>21.0</td>\n",
       "      <td>Galilei, Galileo|d1564-1642</td>\n",
       "      <td>Obras biográficas, para crítica astronómica y ...</td>\n",
       "    </tr>\n",
       "    <tr>\n",
       "      <th>1</th>\n",
       "      <td>925.2</td>\n",
       "      <td>60000000049751</td>\n",
       "      <td>A-BATEMAN</td>\n",
       "      <td>LIBRO</td>\n",
       "      <td>0</td>\n",
       "      <td>933606</td>\n",
       "      <td>1</td>\n",
       "      <td>None</td>\n",
       "      <td>Nicolás Copérnico, 500 aniversario, 1473-1973</td>\n",
       "      <td>Astronomía Historia</td>\n",
       "      <td>1973.0</td>\n",
       "      <td>925.2</td>\n",
       "      <td>21.0</td>\n",
       "      <td>Galilei, Galileo|d1564-1642</td>\n",
       "      <td>Obras biográficas, para crítica astronómica y ...</td>\n",
       "    </tr>\n",
       "    <tr>\n",
       "      <th>2</th>\n",
       "      <td>925.2</td>\n",
       "      <td>60000000049753</td>\n",
       "      <td>A-BATEMAN</td>\n",
       "      <td>LIBRO</td>\n",
       "      <td>0</td>\n",
       "      <td>933606</td>\n",
       "      <td>1</td>\n",
       "      <td>None</td>\n",
       "      <td>Nicolás Copérnico, 500 aniversario, 1473-1973</td>\n",
       "      <td>Astronomía Historia</td>\n",
       "      <td>1973.0</td>\n",
       "      <td>925.2</td>\n",
       "      <td>21.0</td>\n",
       "      <td>Galilei, Galileo|d1564-1642</td>\n",
       "      <td>Obras biográficas, para crítica astronómica y ...</td>\n",
       "    </tr>\n",
       "  </tbody>\n",
       "</table>\n",
       "</div>"
      ],
      "text/plain": [
       "  Signatura          IDItem UbicacionActual TipoItem  TotalPrestamos   Llave  \\\n",
       "0     925.2  60000000049754       A-BATEMAN    LIBRO               0  933604   \n",
       "1     925.2  60000000049751       A-BATEMAN    LIBRO               0  933606   \n",
       "2     925.2  60000000049753       A-BATEMAN    LIBRO               0  933606   \n",
       "\n",
       "   Copias                          Autor  \\\n",
       "0       1  Álvarez Ríos, Baldomero 1924-   \n",
       "1       1                           None   \n",
       "2       1                           None   \n",
       "\n",
       "                                              Titulo  \\\n",
       "0  Copernico gigante del Renacimiento Baldomero A...   \n",
       "1      Nicolás Copérnico, 500 aniversario, 1473-1973   \n",
       "2      Nicolás Copérnico, 500 aniversario, 1473-1973   \n",
       "\n",
       "                         Tema650  AnioPublicacion NO_DEWEY  EDICIÓN  \\\n",
       "0  Astrónomos Polonia Biografías           1973.0    925.2     21.0   \n",
       "1            Astronomía Historia           1973.0    925.2     21.0   \n",
       "2            Astronomía Historia           1973.0    925.2     21.0   \n",
       "\n",
       "                ENCABEZAMIENTO  \\\n",
       "0  Galilei, Galileo|d1564-1642   \n",
       "1  Galilei, Galileo|d1564-1642   \n",
       "2  Galilei, Galileo|d1564-1642   \n",
       "\n",
       "                                                NOTA  \n",
       "0  Obras biográficas, para crítica astronómica y ...  \n",
       "1  Obras biográficas, para crítica astronómica y ...  \n",
       "2  Obras biográficas, para crítica astronómica y ...  "
      ]
     },
     "execution_count": 246,
     "metadata": {},
     "output_type": "execute_result"
    }
   ],
   "source": [
    "materialLimpio2.head(3)"
   ]
  },
  {
   "cell_type": "markdown",
   "metadata": {
    "id": "HBkCja0z2maY"
   },
   "source": [
    "Finalmente eliminamos columnas que no nos interesan para el enfoque del proyecto. "
   ]
  },
  {
   "cell_type": "code",
   "execution_count": 247,
   "metadata": {
    "executionInfo": {
     "elapsed": 258,
     "status": "ok",
     "timestamp": 1632954019422,
     "user": {
      "displayName": "juan sebastian angarita torres",
      "photoUrl": "https://lh3.googleusercontent.com/a-/AOh14GgjiV1o_Xb2Ov2kAJhpXcHsgVLy47m-BxyXrYYMfw=s64",
      "userId": "11476954540008106843"
     },
     "user_tz": 300
    },
    "id": "4FKIIblr2sXj"
   },
   "outputs": [],
   "source": [
    "materialLimpio2 = materialLimpio2.drop(['NOTA','EDICIÓN'], axis = 1)\n"
   ]
  },
  {
   "cell_type": "code",
   "execution_count": 248,
   "metadata": {
    "colab": {
     "base_uri": "https://localhost:8080/",
     "height": 1000
    },
    "executionInfo": {
     "elapsed": 3,
     "status": "ok",
     "timestamp": 1632954019423,
     "user": {
      "displayName": "juan sebastian angarita torres",
      "photoUrl": "https://lh3.googleusercontent.com/a-/AOh14GgjiV1o_Xb2Ov2kAJhpXcHsgVLy47m-BxyXrYYMfw=s64",
      "userId": "11476954540008106843"
     },
     "user_tz": 300
    },
    "id": "16jNJKjvmrp9",
    "outputId": "f97809c0-f07a-42c2-839b-dd7b9709915c"
   },
   "outputs": [
    {
     "data": {
      "text/html": [
       "<div>\n",
       "<style scoped>\n",
       "    .dataframe tbody tr th:only-of-type {\n",
       "        vertical-align: middle;\n",
       "    }\n",
       "\n",
       "    .dataframe tbody tr th {\n",
       "        vertical-align: top;\n",
       "    }\n",
       "\n",
       "    .dataframe thead th {\n",
       "        text-align: right;\n",
       "    }\n",
       "</style>\n",
       "<table border=\"1\" class=\"dataframe\">\n",
       "  <thead>\n",
       "    <tr style=\"text-align: right;\">\n",
       "      <th></th>\n",
       "      <th>Signatura</th>\n",
       "      <th>IDItem</th>\n",
       "      <th>UbicacionActual</th>\n",
       "      <th>TipoItem</th>\n",
       "      <th>TotalPrestamos</th>\n",
       "      <th>Llave</th>\n",
       "      <th>Copias</th>\n",
       "      <th>Autor</th>\n",
       "      <th>Titulo</th>\n",
       "      <th>Tema650</th>\n",
       "      <th>AnioPublicacion</th>\n",
       "      <th>NO_DEWEY</th>\n",
       "      <th>ENCABEZAMIENTO</th>\n",
       "    </tr>\n",
       "  </thead>\n",
       "  <tbody>\n",
       "    <tr>\n",
       "      <th>0</th>\n",
       "      <td>925.2</td>\n",
       "      <td>60000000049754</td>\n",
       "      <td>A-BATEMAN</td>\n",
       "      <td>LIBRO</td>\n",
       "      <td>0</td>\n",
       "      <td>933604</td>\n",
       "      <td>1</td>\n",
       "      <td>Álvarez Ríos, Baldomero 1924-</td>\n",
       "      <td>Copernico gigante del Renacimiento Baldomero A...</td>\n",
       "      <td>Astrónomos Polonia Biografías</td>\n",
       "      <td>1973.0</td>\n",
       "      <td>925.2</td>\n",
       "      <td>Galilei, Galileo|d1564-1642</td>\n",
       "    </tr>\n",
       "    <tr>\n",
       "      <th>1</th>\n",
       "      <td>925.2</td>\n",
       "      <td>60000000049751</td>\n",
       "      <td>A-BATEMAN</td>\n",
       "      <td>LIBRO</td>\n",
       "      <td>0</td>\n",
       "      <td>933606</td>\n",
       "      <td>1</td>\n",
       "      <td>None</td>\n",
       "      <td>Nicolás Copérnico, 500 aniversario, 1473-1973</td>\n",
       "      <td>Astronomía Historia</td>\n",
       "      <td>1973.0</td>\n",
       "      <td>925.2</td>\n",
       "      <td>Galilei, Galileo|d1564-1642</td>\n",
       "    </tr>\n",
       "    <tr>\n",
       "      <th>2</th>\n",
       "      <td>925.2</td>\n",
       "      <td>60000000049753</td>\n",
       "      <td>A-BATEMAN</td>\n",
       "      <td>LIBRO</td>\n",
       "      <td>0</td>\n",
       "      <td>933606</td>\n",
       "      <td>1</td>\n",
       "      <td>None</td>\n",
       "      <td>Nicolás Copérnico, 500 aniversario, 1473-1973</td>\n",
       "      <td>Astronomía Historia</td>\n",
       "      <td>1973.0</td>\n",
       "      <td>925.2</td>\n",
       "      <td>Galilei, Galileo|d1564-1642</td>\n",
       "    </tr>\n",
       "    <tr>\n",
       "      <th>3</th>\n",
       "      <td>925.2</td>\n",
       "      <td>60000000049765</td>\n",
       "      <td>A-BATEMAN</td>\n",
       "      <td>LIBRO</td>\n",
       "      <td>0</td>\n",
       "      <td>933606</td>\n",
       "      <td>2</td>\n",
       "      <td>None</td>\n",
       "      <td>Nicolás Copérnico, 500 aniversario, 1473-1973</td>\n",
       "      <td>Astronomía Historia</td>\n",
       "      <td>1973.0</td>\n",
       "      <td>925.2</td>\n",
       "      <td>Galilei, Galileo|d1564-1642</td>\n",
       "    </tr>\n",
       "    <tr>\n",
       "      <th>4</th>\n",
       "      <td>925.2</td>\n",
       "      <td>60000000049752</td>\n",
       "      <td>A-BATEMAN</td>\n",
       "      <td>LIBRO</td>\n",
       "      <td>0</td>\n",
       "      <td>933606</td>\n",
       "      <td>1</td>\n",
       "      <td>None</td>\n",
       "      <td>Nicolás Copérnico, 500 aniversario, 1473-1973</td>\n",
       "      <td>Astronomía Historia</td>\n",
       "      <td>1973.0</td>\n",
       "      <td>925.2</td>\n",
       "      <td>Galilei, Galileo|d1564-1642</td>\n",
       "    </tr>\n",
       "    <tr>\n",
       "      <th>...</th>\n",
       "      <td>...</td>\n",
       "      <td>...</td>\n",
       "      <td>...</td>\n",
       "      <td>...</td>\n",
       "      <td>...</td>\n",
       "      <td>...</td>\n",
       "      <td>...</td>\n",
       "      <td>...</td>\n",
       "      <td>...</td>\n",
       "      <td>...</td>\n",
       "      <td>...</td>\n",
       "      <td>...</td>\n",
       "      <td>...</td>\n",
       "    </tr>\n",
       "    <tr>\n",
       "      <th>340693</th>\n",
       "      <td>823</td>\n",
       "      <td>80000005587819</td>\n",
       "      <td>VALIOSOS</td>\n",
       "      <td>LIBRO</td>\n",
       "      <td>0</td>\n",
       "      <td>938650</td>\n",
       "      <td>1</td>\n",
       "      <td>Wells, Herbert George 1866-1946</td>\n",
       "      <td>Doce historias y un sueño Herbert George Wells...</td>\n",
       "      <td>Cuentos ingleses</td>\n",
       "      <td>1950.0</td>\n",
       "      <td>823</td>\n",
       "      <td>Novela tanzana (Inglés)</td>\n",
       "    </tr>\n",
       "    <tr>\n",
       "      <th>340694</th>\n",
       "      <td>894.5111</td>\n",
       "      <td>80000005590994</td>\n",
       "      <td>VALIOSOS</td>\n",
       "      <td>LIBRO</td>\n",
       "      <td>0</td>\n",
       "      <td>940346</td>\n",
       "      <td>1</td>\n",
       "      <td>Glatz, Jakob 1776-1831</td>\n",
       "      <td>Una familia africana ó La esclava convertida ;...</td>\n",
       "      <td>Literatura húngara</td>\n",
       "      <td>1886.0</td>\n",
       "      <td>894.5111</td>\n",
       "      <td>Poesía húngara</td>\n",
       "    </tr>\n",
       "    <tr>\n",
       "      <th>340695</th>\n",
       "      <td>843</td>\n",
       "      <td>80000005591002</td>\n",
       "      <td>VALIOSOS</td>\n",
       "      <td>LIBRO</td>\n",
       "      <td>0</td>\n",
       "      <td>940351</td>\n",
       "      <td>1</td>\n",
       "      <td>Gaboriau, Emile 1832-1873</td>\n",
       "      <td>El hijo falso segunda parte de \"El legajo núm....</td>\n",
       "      <td>Novela francesa</td>\n",
       "      <td>1900.0</td>\n",
       "      <td>843</td>\n",
       "      <td>Prosa francesa</td>\n",
       "    </tr>\n",
       "    <tr>\n",
       "      <th>340696</th>\n",
       "      <td>946.02</td>\n",
       "      <td>80000005591001</td>\n",
       "      <td>VALIOSOS</td>\n",
       "      <td>LIBRO</td>\n",
       "      <td>0</td>\n",
       "      <td>940352</td>\n",
       "      <td>1</td>\n",
       "      <td>Conde, José Antonio 1765-1820</td>\n",
       "      <td>Historia de la dominación de los árabes en Esp...</td>\n",
       "      <td>Árabes en España</td>\n",
       "      <td>1874.0</td>\n",
       "      <td>946.02</td>\n",
       "      <td>España|xHistoria|yDominación árabe, 711-1492</td>\n",
       "    </tr>\n",
       "    <tr>\n",
       "      <th>340697</th>\n",
       "      <td>L.V.</td>\n",
       "      <td>941371-1001</td>\n",
       "      <td>VALIOSOS</td>\n",
       "      <td>LIBRO</td>\n",
       "      <td>0</td>\n",
       "      <td>941371</td>\n",
       "      <td>1</td>\n",
       "      <td>None</td>\n",
       "      <td>Sanctum Iesu Christi Evangelium Secundum Matth...</td>\n",
       "      <td>Desconocido</td>\n",
       "      <td>0.0</td>\n",
       "      <td>NaN</td>\n",
       "      <td>NaN</td>\n",
       "    </tr>\n",
       "  </tbody>\n",
       "</table>\n",
       "<p>340698 rows × 13 columns</p>\n",
       "</div>"
      ],
      "text/plain": [
       "       Signatura            IDItem UbicacionActual TipoItem  TotalPrestamos  \\\n",
       "0          925.2    60000000049754       A-BATEMAN    LIBRO               0   \n",
       "1          925.2    60000000049751       A-BATEMAN    LIBRO               0   \n",
       "2          925.2    60000000049753       A-BATEMAN    LIBRO               0   \n",
       "3          925.2    60000000049765       A-BATEMAN    LIBRO               0   \n",
       "4          925.2    60000000049752       A-BATEMAN    LIBRO               0   \n",
       "...          ...               ...             ...      ...             ...   \n",
       "340693       823    80000005587819        VALIOSOS    LIBRO               0   \n",
       "340694  894.5111    80000005590994        VALIOSOS    LIBRO               0   \n",
       "340695       843    80000005591002        VALIOSOS    LIBRO               0   \n",
       "340696    946.02    80000005591001        VALIOSOS    LIBRO               0   \n",
       "340697      L.V.  941371-1001             VALIOSOS    LIBRO               0   \n",
       "\n",
       "         Llave  Copias                            Autor  \\\n",
       "0       933604       1    Álvarez Ríos, Baldomero 1924-   \n",
       "1       933606       1                             None   \n",
       "2       933606       1                             None   \n",
       "3       933606       2                             None   \n",
       "4       933606       1                             None   \n",
       "...        ...     ...                              ...   \n",
       "340693  938650       1  Wells, Herbert George 1866-1946   \n",
       "340694  940346       1           Glatz, Jakob 1776-1831   \n",
       "340695  940351       1        Gaboriau, Emile 1832-1873   \n",
       "340696  940352       1    Conde, José Antonio 1765-1820   \n",
       "340697  941371       1                             None   \n",
       "\n",
       "                                                   Titulo  \\\n",
       "0       Copernico gigante del Renacimiento Baldomero A...   \n",
       "1           Nicolás Copérnico, 500 aniversario, 1473-1973   \n",
       "2           Nicolás Copérnico, 500 aniversario, 1473-1973   \n",
       "3           Nicolás Copérnico, 500 aniversario, 1473-1973   \n",
       "4           Nicolás Copérnico, 500 aniversario, 1473-1973   \n",
       "...                                                   ...   \n",
       "340693  Doce historias y un sueño Herbert George Wells...   \n",
       "340694  Una familia africana ó La esclava convertida ;...   \n",
       "340695  El hijo falso segunda parte de \"El legajo núm....   \n",
       "340696  Historia de la dominación de los árabes en Esp...   \n",
       "340697  Sanctum Iesu Christi Evangelium Secundum Matth...   \n",
       "\n",
       "                              Tema650  AnioPublicacion  NO_DEWEY  \\\n",
       "0       Astrónomos Polonia Biografías           1973.0     925.2   \n",
       "1                 Astronomía Historia           1973.0     925.2   \n",
       "2                 Astronomía Historia           1973.0     925.2   \n",
       "3                 Astronomía Historia           1973.0     925.2   \n",
       "4                 Astronomía Historia           1973.0     925.2   \n",
       "...                               ...              ...       ...   \n",
       "340693               Cuentos ingleses           1950.0       823   \n",
       "340694             Literatura húngara           1886.0  894.5111   \n",
       "340695                Novela francesa           1900.0       843   \n",
       "340696               Árabes en España           1874.0    946.02   \n",
       "340697                    Desconocido              0.0       NaN   \n",
       "\n",
       "                                      ENCABEZAMIENTO  \n",
       "0                        Galilei, Galileo|d1564-1642  \n",
       "1                        Galilei, Galileo|d1564-1642  \n",
       "2                        Galilei, Galileo|d1564-1642  \n",
       "3                        Galilei, Galileo|d1564-1642  \n",
       "4                        Galilei, Galileo|d1564-1642  \n",
       "...                                              ...  \n",
       "340693                       Novela tanzana (Inglés)  \n",
       "340694                                Poesía húngara  \n",
       "340695                                Prosa francesa  \n",
       "340696  España|xHistoria|yDominación árabe, 711-1492  \n",
       "340697                                           NaN  \n",
       "\n",
       "[340698 rows x 13 columns]"
      ]
     },
     "execution_count": 248,
     "metadata": {},
     "output_type": "execute_result"
    }
   ],
   "source": [
    "materialLimpio2"
   ]
  },
  {
   "cell_type": "code",
   "execution_count": 249,
   "metadata": {
    "colab": {
     "base_uri": "https://localhost:8080/"
    },
    "executionInfo": {
     "elapsed": 253,
     "status": "ok",
     "timestamp": 1632954019674,
     "user": {
      "displayName": "juan sebastian angarita torres",
      "photoUrl": "https://lh3.googleusercontent.com/a-/AOh14GgjiV1o_Xb2Ov2kAJhpXcHsgVLy47m-BxyXrYYMfw=s64",
      "userId": "11476954540008106843"
     },
     "user_tz": 300
    },
    "id": "JgyL8N414qqZ",
    "outputId": "d057991e-5120-45c6-cef3-2652855b1233"
   },
   "outputs": [
    {
     "name": "stdout",
     "output_type": "stream",
     "text": [
      "Número de datos nulos: 95587\n",
      "Número de datos únicos: 6597\n",
      "Tipo de dato: <class 'str'>\n",
      "Ejemplo: Galilei, Galileo|d1564-1642\n"
     ]
    }
   ],
   "source": [
    "descripcion(materialLimpio2,'ENCABEZAMIENTO')"
   ]
  },
  {
   "cell_type": "code",
   "execution_count": 250,
   "metadata": {
    "colab": {
     "base_uri": "https://localhost:8080/"
    },
    "executionInfo": {
     "elapsed": 174,
     "status": "ok",
     "timestamp": 1632954019846,
     "user": {
      "displayName": "juan sebastian angarita torres",
      "photoUrl": "https://lh3.googleusercontent.com/a-/AOh14GgjiV1o_Xb2Ov2kAJhpXcHsgVLy47m-BxyXrYYMfw=s64",
      "userId": "11476954540008106843"
     },
     "user_tz": 300
    },
    "id": "wh4qlVxAGi1x",
    "outputId": "2c660a93-2228-474f-cb76-b83d9562c8d5"
   },
   "outputs": [
    {
     "name": "stdout",
     "output_type": "stream",
     "text": [
      "Número de datos nulos: 0\n",
      "Número de datos únicos: 20541\n",
      "Tipo de dato: <class 'str'>\n",
      "Ejemplo: 925.2\n"
     ]
    }
   ],
   "source": [
    "descripcion(materialLimpio2,'Signatura')"
   ]
  },
  {
   "cell_type": "code",
   "execution_count": 251,
   "metadata": {
    "colab": {
     "base_uri": "https://localhost:8080/"
    },
    "executionInfo": {
     "elapsed": 5,
     "status": "ok",
     "timestamp": 1632954019847,
     "user": {
      "displayName": "juan sebastian angarita torres",
      "photoUrl": "https://lh3.googleusercontent.com/a-/AOh14GgjiV1o_Xb2Ov2kAJhpXcHsgVLy47m-BxyXrYYMfw=s64",
      "userId": "11476954540008106843"
     },
     "user_tz": 300
    },
    "id": "9zYWMFXKq01l",
    "outputId": "8db5cd19-bd24-47d2-dcb1-f339ffc9a31f"
   },
   "outputs": [
    {
     "name": "stdout",
     "output_type": "stream",
     "text": [
      "Número de datos nulos: 95587\n",
      "Número de datos únicos: 6829\n",
      "Tipo de dato: <class 'str'>\n",
      "Ejemplo: 925.2\n"
     ]
    }
   ],
   "source": [
    "descripcion(materialLimpio2,'NO_DEWEY')"
   ]
  },
  {
   "cell_type": "markdown",
   "metadata": {
    "id": "NgcI0qAgm_sz"
   },
   "source": [
    "Antes de finalizar modificamos la columna Signatura nuevamente. Crearemos una expresión regular que identifique los 3 primeros números. En caso de que no haya 3 número en el String se dejará el valor original. "
   ]
  },
  {
   "cell_type": "code",
   "execution_count": 252,
   "metadata": {
    "executionInfo": {
     "elapsed": 2,
     "status": "ok",
     "timestamp": 1632954019847,
     "user": {
      "displayName": "juan sebastian angarita torres",
      "photoUrl": "https://lh3.googleusercontent.com/a-/AOh14GgjiV1o_Xb2Ov2kAJhpXcHsgVLy47m-BxyXrYYMfw=s64",
      "userId": "11476954540008106843"
     },
     "user_tz": 300
    },
    "id": "5TuSJOuHnRnv"
   },
   "outputs": [],
   "source": [
    "def estandarizarDeweys(signatura): \n",
    "  match = re.search(r'\\d{3}', signatura)\n",
    "  if match:\n",
    "    return match.group(0)\n",
    "  else: \n",
    "    return signatura\n"
   ]
  },
  {
   "cell_type": "code",
   "execution_count": 253,
   "metadata": {
    "executionInfo": {
     "elapsed": 583,
     "status": "ok",
     "timestamp": 1632954020428,
     "user": {
      "displayName": "juan sebastian angarita torres",
      "photoUrl": "https://lh3.googleusercontent.com/a-/AOh14GgjiV1o_Xb2Ov2kAJhpXcHsgVLy47m-BxyXrYYMfw=s64",
      "userId": "11476954540008106843"
     },
     "user_tz": 300
    },
    "id": "NjjiZv0HnpYa"
   },
   "outputs": [],
   "source": [
    "materialLimpio2[\"Signatura\"] = materialLimpio2[\"Signatura\"].apply(lambda signatura: estandarizarDeweys(signatura))"
   ]
  },
  {
   "cell_type": "markdown",
   "metadata": {
    "id": "B7oa30s846Qr"
   },
   "source": [
    "**Análisis:** aunque cada ítem tiene Signatura, y cada signatura tiene un dewey, notamos que no todo está mapeado de manera correcta con el documento de deweys de la biblioteca general. "
   ]
  },
  {
   "cell_type": "markdown",
   "metadata": {
    "id": "AkujHAkI_oLY"
   },
   "source": [
    "## Atributo derivado(Tema)\n",
    "A partir del tema 650 crearemos una nueva columna llamada tema, esta se obtendra a partir de la tokenización y estandarización del string de la columna. \n",
    "\n",
    "También quitaremos stopwords, esto lo realizamos en busca de que el atributo principal para los algoritmo de predicción sea esta nueva columna."
   ]
  },
  {
   "cell_type": "code",
   "execution_count": 254,
   "metadata": {
    "colab": {
     "base_uri": "https://localhost:8080/"
    },
    "executionInfo": {
     "elapsed": 6,
     "status": "ok",
     "timestamp": 1632954020428,
     "user": {
      "displayName": "juan sebastian angarita torres",
      "photoUrl": "https://lh3.googleusercontent.com/a-/AOh14GgjiV1o_Xb2Ov2kAJhpXcHsgVLy47m-BxyXrYYMfw=s64",
      "userId": "11476954540008106843"
     },
     "user_tz": 300
    },
    "id": "o1hEJsn2_nnf",
    "outputId": "a4b1c1f9-f3a4-4723-aebb-f853b565cac3"
   },
   "outputs": [
    {
     "data": {
      "text/plain": [
       "68148"
      ]
     },
     "execution_count": 254,
     "metadata": {},
     "output_type": "execute_result"
    }
   ],
   "source": [
    "len(materialLimpio2['Tema650'].unique())"
   ]
  },
  {
   "cell_type": "markdown",
   "metadata": {
    "id": "sNdsoNGAn4rQ"
   },
   "source": [
    "Pasamos primero todos los textos a minúscula."
   ]
  },
  {
   "cell_type": "code",
   "execution_count": 255,
   "metadata": {
    "executionInfo": {
     "elapsed": 254,
     "status": "ok",
     "timestamp": 1632954020681,
     "user": {
      "displayName": "juan sebastian angarita torres",
      "photoUrl": "https://lh3.googleusercontent.com/a-/AOh14GgjiV1o_Xb2Ov2kAJhpXcHsgVLy47m-BxyXrYYMfw=s64",
      "userId": "11476954540008106843"
     },
     "user_tz": 300
    },
    "id": "gh87Zl-DH5Qu"
   },
   "outputs": [],
   "source": [
    "materialLimpio2['Tema650'] = materialLimpio2['Tema650'].apply(lambda x: x.lower())"
   ]
  },
  {
   "cell_type": "code",
   "execution_count": 256,
   "metadata": {
    "colab": {
     "base_uri": "https://localhost:8080/"
    },
    "executionInfo": {
     "elapsed": 7,
     "status": "ok",
     "timestamp": 1632954020682,
     "user": {
      "displayName": "juan sebastian angarita torres",
      "photoUrl": "https://lh3.googleusercontent.com/a-/AOh14GgjiV1o_Xb2Ov2kAJhpXcHsgVLy47m-BxyXrYYMfw=s64",
      "userId": "11476954540008106843"
     },
     "user_tz": 300
    },
    "id": "_grjXGfJJ7fC",
    "outputId": "697df016-cdc5-464b-82c8-19c3150cc101"
   },
   "outputs": [
    {
     "data": {
      "text/plain": [
       "66330"
      ]
     },
     "execution_count": 256,
     "metadata": {},
     "output_type": "execute_result"
    }
   ],
   "source": [
    "len(materialLimpio2['Tema650'].unique())"
   ]
  },
  {
   "cell_type": "code",
   "execution_count": 257,
   "metadata": {
    "executionInfo": {
     "elapsed": 3,
     "status": "ok",
     "timestamp": 1632954020682,
     "user": {
      "displayName": "juan sebastian angarita torres",
      "photoUrl": "https://lh3.googleusercontent.com/a-/AOh14GgjiV1o_Xb2Ov2kAJhpXcHsgVLy47m-BxyXrYYMfw=s64",
      "userId": "11476954540008106843"
     },
     "user_tz": 300
    },
    "id": "cWx8KpUPoMOp"
   },
   "outputs": [],
   "source": [
    "import unicodedata\n",
    "def strip_accents(s):\n",
    "   # Retorna el string normalizado si la categoría es Mn es decir https://www.compart.com/en/unicode/category/Mn\n",
    "   return ''.join(c for c in unicodedata.normalize('NFD', s)\n",
    "                  if unicodedata.category(c) != 'Mn')"
   ]
  },
  {
   "cell_type": "code",
   "execution_count": 258,
   "metadata": {
    "executionInfo": {
     "elapsed": 2958,
     "status": "ok",
     "timestamp": 1632954023638,
     "user": {
      "displayName": "juan sebastian angarita torres",
      "photoUrl": "https://lh3.googleusercontent.com/a-/AOh14GgjiV1o_Xb2Ov2kAJhpXcHsgVLy47m-BxyXrYYMfw=s64",
      "userId": "11476954540008106843"
     },
     "user_tz": 300
    },
    "id": "x-bACoKUoRHX"
   },
   "outputs": [],
   "source": [
    " materialLimpio2['Tema650'] = materialLimpio2['Tema650'].apply(lambda x: strip_accents(x))"
   ]
  },
  {
   "cell_type": "code",
   "execution_count": 259,
   "metadata": {
    "colab": {
     "base_uri": "https://localhost:8080/"
    },
    "executionInfo": {
     "elapsed": 20,
     "status": "ok",
     "timestamp": 1632954023639,
     "user": {
      "displayName": "juan sebastian angarita torres",
      "photoUrl": "https://lh3.googleusercontent.com/a-/AOh14GgjiV1o_Xb2Ov2kAJhpXcHsgVLy47m-BxyXrYYMfw=s64",
      "userId": "11476954540008106843"
     },
     "user_tz": 300
    },
    "id": "VticT-65of_0",
    "outputId": "f2b2805b-09d5-4a36-d0f7-7b0df937b374"
   },
   "outputs": [
    {
     "data": {
      "text/plain": [
       "64783"
      ]
     },
     "execution_count": 259,
     "metadata": {},
     "output_type": "execute_result"
    }
   ],
   "source": [
    "len(materialLimpio2['Tema650'].unique())"
   ]
  },
  {
   "cell_type": "code",
   "execution_count": 260,
   "metadata": {
    "colab": {
     "base_uri": "https://localhost:8080/"
    },
    "executionInfo": {
     "elapsed": 11,
     "status": "ok",
     "timestamp": 1632954023639,
     "user": {
      "displayName": "juan sebastian angarita torres",
      "photoUrl": "https://lh3.googleusercontent.com/a-/AOh14GgjiV1o_Xb2Ov2kAJhpXcHsgVLy47m-BxyXrYYMfw=s64",
      "userId": "11476954540008106843"
     },
     "user_tz": 300
    },
    "id": "3y7FDyv_KgEU",
    "outputId": "b4597c07-9c0f-4731-bd9e-bcc1161d604a"
   },
   "outputs": [
    {
     "data": {
      "text/plain": [
       "array(['astronomos polonia biografias', 'astronomia historia',\n",
       "       'ciencia y civilizacion', ..., 'testamentos manuscritos colombia',\n",
       "       'poesia colombiana historia critica siglo xx',\n",
       "       'girondinos historia'], dtype=object)"
      ]
     },
     "execution_count": 260,
     "metadata": {},
     "output_type": "execute_result"
    }
   ],
   "source": [
    "tema650 = materialLimpio2['Tema650'].unique()\n",
    "tema650"
   ]
  },
  {
   "cell_type": "code",
   "execution_count": 261,
   "metadata": {
    "colab": {
     "base_uri": "https://localhost:8080/"
    },
    "executionInfo": {
     "elapsed": 321,
     "status": "ok",
     "timestamp": 1632954023953,
     "user": {
      "displayName": "juan sebastian angarita torres",
      "photoUrl": "https://lh3.googleusercontent.com/a-/AOh14GgjiV1o_Xb2Ov2kAJhpXcHsgVLy47m-BxyXrYYMfw=s64",
      "userId": "11476954540008106843"
     },
     "user_tz": 300
    },
    "id": "alJUzZfmbKY1",
    "outputId": "74ddd1e6-3a6f-4662-bb6a-68b82ff53de6"
   },
   "outputs": [
    {
     "name": "stderr",
     "output_type": "stream",
     "text": [
      "[nltk_data] Downloading package punkt to\n",
      "[nltk_data]     C:\\Users\\user\\AppData\\Roaming\\nltk_data...\n",
      "[nltk_data]   Package punkt is already up-to-date!\n",
      "[nltk_data] Downloading package stopwords to\n",
      "[nltk_data]     C:\\Users\\user\\AppData\\Roaming\\nltk_data...\n",
      "[nltk_data]   Package stopwords is already up-to-date!\n"
     ]
    }
   ],
   "source": [
    "from sklearn.feature_extraction.text import TfidfVectorizer, CountVectorizer\n",
    "\n",
    "import nltk \n",
    "from nltk.corpus import stopwords\n",
    "from nltk.tokenize import word_tokenize\n",
    "import nltk\n",
    "from nltk.stem.snowball import *\n",
    "stemmer = SnowballStemmer('spanish')\n",
    "nltk.download('punkt')\n",
    "nltk.download('stopwords')\n",
    "stop_words_sp = set(stopwords.words('spanish'))"
   ]
  },
  {
   "cell_type": "code",
   "execution_count": 262,
   "metadata": {
    "executionInfo": {
     "elapsed": 2,
     "status": "ok",
     "timestamp": 1632954023953,
     "user": {
      "displayName": "juan sebastian angarita torres",
      "photoUrl": "https://lh3.googleusercontent.com/a-/AOh14GgjiV1o_Xb2Ov2kAJhpXcHsgVLy47m-BxyXrYYMfw=s64",
      "userId": "11476954540008106843"
     },
     "user_tz": 300
    },
    "id": "qkkqeG5ZL983"
   },
   "outputs": [],
   "source": [
    "temas = pd.DataFrame(tema650,\n",
    "                   columns=['original'])"
   ]
  },
  {
   "cell_type": "markdown",
   "metadata": {
    "id": "gdN_8fJSqxrP"
   },
   "source": [
    "Eliminamos stopwords y aplicamos el tokenizador."
   ]
  },
  {
   "cell_type": "code",
   "execution_count": 263,
   "metadata": {
    "executionInfo": {
     "elapsed": 1,
     "status": "ok",
     "timestamp": 1632954023953,
     "user": {
      "displayName": "juan sebastian angarita torres",
      "photoUrl": "https://lh3.googleusercontent.com/a-/AOh14GgjiV1o_Xb2Ov2kAJhpXcHsgVLy47m-BxyXrYYMfw=s64",
      "userId": "11476954540008106843"
     },
     "user_tz": 300
    },
    "id": "XU8uMm0Kf0R1"
   },
   "outputs": [],
   "source": [
    "def preprocesamiento(words):\n",
    "    word_tokens = word_tokenize(words)\n",
    "    filtered_sentence = [w for w in word_tokens if not w.lower() in stop_words_sp]\n",
    "    words=[word.lower() for word in filtered_sentence if word.isalpha()]\n",
    "    return words"
   ]
  },
  {
   "cell_type": "code",
   "execution_count": 264,
   "metadata": {
    "executionInfo": {
     "elapsed": 5989,
     "status": "ok",
     "timestamp": 1632954029941,
     "user": {
      "displayName": "juan sebastian angarita torres",
      "photoUrl": "https://lh3.googleusercontent.com/a-/AOh14GgjiV1o_Xb2Ov2kAJhpXcHsgVLy47m-BxyXrYYMfw=s64",
      "userId": "11476954540008106843"
     },
     "user_tz": 300
    },
    "id": "mN3GBDncf3S4"
   },
   "outputs": [],
   "source": [
    "temas[\"tokenizado\"] = temas[\"original\"].apply(lambda x: preprocesamiento(x))"
   ]
  },
  {
   "cell_type": "code",
   "execution_count": 265,
   "metadata": {
    "colab": {
     "base_uri": "https://localhost:8080/",
     "height": 142
    },
    "executionInfo": {
     "elapsed": 10,
     "status": "ok",
     "timestamp": 1632954029941,
     "user": {
      "displayName": "juan sebastian angarita torres",
      "photoUrl": "https://lh3.googleusercontent.com/a-/AOh14GgjiV1o_Xb2Ov2kAJhpXcHsgVLy47m-BxyXrYYMfw=s64",
      "userId": "11476954540008106843"
     },
     "user_tz": 300
    },
    "id": "BN3MW37sbjvA",
    "outputId": "1665270c-2d18-4731-a62e-31d21715abb4"
   },
   "outputs": [
    {
     "data": {
      "text/html": [
       "<div>\n",
       "<style scoped>\n",
       "    .dataframe tbody tr th:only-of-type {\n",
       "        vertical-align: middle;\n",
       "    }\n",
       "\n",
       "    .dataframe tbody tr th {\n",
       "        vertical-align: top;\n",
       "    }\n",
       "\n",
       "    .dataframe thead th {\n",
       "        text-align: right;\n",
       "    }\n",
       "</style>\n",
       "<table border=\"1\" class=\"dataframe\">\n",
       "  <thead>\n",
       "    <tr style=\"text-align: right;\">\n",
       "      <th></th>\n",
       "      <th>original</th>\n",
       "      <th>tokenizado</th>\n",
       "    </tr>\n",
       "  </thead>\n",
       "  <tbody>\n",
       "    <tr>\n",
       "      <th>0</th>\n",
       "      <td>astronomos polonia biografias</td>\n",
       "      <td>[astronomos, polonia, biografias]</td>\n",
       "    </tr>\n",
       "    <tr>\n",
       "      <th>1</th>\n",
       "      <td>astronomia historia</td>\n",
       "      <td>[astronomia, historia]</td>\n",
       "    </tr>\n",
       "    <tr>\n",
       "      <th>2</th>\n",
       "      <td>ciencia y civilizacion</td>\n",
       "      <td>[ciencia, civilizacion]</td>\n",
       "    </tr>\n",
       "  </tbody>\n",
       "</table>\n",
       "</div>"
      ],
      "text/plain": [
       "                        original                         tokenizado\n",
       "0  astronomos polonia biografias  [astronomos, polonia, biografias]\n",
       "1            astronomia historia             [astronomia, historia]\n",
       "2         ciencia y civilizacion            [ciencia, civilizacion]"
      ]
     },
     "execution_count": 265,
     "metadata": {},
     "output_type": "execute_result"
    }
   ],
   "source": [
    "temas.head(3)"
   ]
  },
  {
   "cell_type": "code",
   "execution_count": 266,
   "metadata": {
    "executionInfo": {
     "elapsed": 7,
     "status": "ok",
     "timestamp": 1632954029942,
     "user": {
      "displayName": "juan sebastian angarita torres",
      "photoUrl": "https://lh3.googleusercontent.com/a-/AOh14GgjiV1o_Xb2Ov2kAJhpXcHsgVLy47m-BxyXrYYMfw=s64",
      "userId": "11476954540008106843"
     },
     "user_tz": 300
    },
    "id": "DYsikarcq54J"
   },
   "outputs": [],
   "source": [
    "def stemmizar(words):\n",
    "  result = []\n",
    "  for word in words:\n",
    "    result.append(stemmer.stem(word))\n",
    "  return result"
   ]
  },
  {
   "cell_type": "code",
   "execution_count": 267,
   "metadata": {
    "executionInfo": {
     "elapsed": 5594,
     "status": "ok",
     "timestamp": 1632954035530,
     "user": {
      "displayName": "juan sebastian angarita torres",
      "photoUrl": "https://lh3.googleusercontent.com/a-/AOh14GgjiV1o_Xb2Ov2kAJhpXcHsgVLy47m-BxyXrYYMfw=s64",
      "userId": "11476954540008106843"
     },
     "user_tz": 300
    },
    "id": "xSKj-k5yraK0"
   },
   "outputs": [],
   "source": [
    "temas[\"stemizado\"] = temas[\"tokenizado\"].apply(lambda x: stemmizar(x))"
   ]
  },
  {
   "cell_type": "code",
   "execution_count": 268,
   "metadata": {
    "colab": {
     "base_uri": "https://localhost:8080/",
     "height": 142
    },
    "executionInfo": {
     "elapsed": 20,
     "status": "ok",
     "timestamp": 1632954035531,
     "user": {
      "displayName": "juan sebastian angarita torres",
      "photoUrl": "https://lh3.googleusercontent.com/a-/AOh14GgjiV1o_Xb2Ov2kAJhpXcHsgVLy47m-BxyXrYYMfw=s64",
      "userId": "11476954540008106843"
     },
     "user_tz": 300
    },
    "id": "Rn5tBWzFrohP",
    "outputId": "5dab70bd-84e2-43d5-ede3-248366f36b9b"
   },
   "outputs": [
    {
     "data": {
      "text/html": [
       "<div>\n",
       "<style scoped>\n",
       "    .dataframe tbody tr th:only-of-type {\n",
       "        vertical-align: middle;\n",
       "    }\n",
       "\n",
       "    .dataframe tbody tr th {\n",
       "        vertical-align: top;\n",
       "    }\n",
       "\n",
       "    .dataframe thead th {\n",
       "        text-align: right;\n",
       "    }\n",
       "</style>\n",
       "<table border=\"1\" class=\"dataframe\">\n",
       "  <thead>\n",
       "    <tr style=\"text-align: right;\">\n",
       "      <th></th>\n",
       "      <th>original</th>\n",
       "      <th>tokenizado</th>\n",
       "      <th>stemizado</th>\n",
       "    </tr>\n",
       "  </thead>\n",
       "  <tbody>\n",
       "    <tr>\n",
       "      <th>0</th>\n",
       "      <td>astronomos polonia biografias</td>\n",
       "      <td>[astronomos, polonia, biografias]</td>\n",
       "      <td>[astronom, poloni, biografi]</td>\n",
       "    </tr>\n",
       "    <tr>\n",
       "      <th>1</th>\n",
       "      <td>astronomia historia</td>\n",
       "      <td>[astronomia, historia]</td>\n",
       "      <td>[astronomi, histori]</td>\n",
       "    </tr>\n",
       "    <tr>\n",
       "      <th>2</th>\n",
       "      <td>ciencia y civilizacion</td>\n",
       "      <td>[ciencia, civilizacion]</td>\n",
       "      <td>[cienci, civilizacion]</td>\n",
       "    </tr>\n",
       "  </tbody>\n",
       "</table>\n",
       "</div>"
      ],
      "text/plain": [
       "                        original                         tokenizado  \\\n",
       "0  astronomos polonia biografias  [astronomos, polonia, biografias]   \n",
       "1            astronomia historia             [astronomia, historia]   \n",
       "2         ciencia y civilizacion            [ciencia, civilizacion]   \n",
       "\n",
       "                      stemizado  \n",
       "0  [astronom, poloni, biografi]  \n",
       "1          [astronomi, histori]  \n",
       "2        [cienci, civilizacion]  "
      ]
     },
     "execution_count": 268,
     "metadata": {},
     "output_type": "execute_result"
    }
   ],
   "source": [
    "temas.head(3)"
   ]
  },
  {
   "cell_type": "code",
   "execution_count": 269,
   "metadata": {
    "executionInfo": {
     "elapsed": 18,
     "status": "ok",
     "timestamp": 1632954035531,
     "user": {
      "displayName": "juan sebastian angarita torres",
      "photoUrl": "https://lh3.googleusercontent.com/a-/AOh14GgjiV1o_Xb2Ov2kAJhpXcHsgVLy47m-BxyXrYYMfw=s64",
      "userId": "11476954540008106843"
     },
     "user_tz": 300
    },
    "id": "PBW70jHQRMrp"
   },
   "outputs": [],
   "source": [
    "from sklearn.feature_extraction.text import TfidfVectorizer, CountVectorizer"
   ]
  },
  {
   "cell_type": "code",
   "execution_count": 270,
   "metadata": {
    "executionInfo": {
     "elapsed": 17,
     "status": "ok",
     "timestamp": 1632954035531,
     "user": {
      "displayName": "juan sebastian angarita torres",
      "photoUrl": "https://lh3.googleusercontent.com/a-/AOh14GgjiV1o_Xb2Ov2kAJhpXcHsgVLy47m-BxyXrYYMfw=s64",
      "userId": "11476954540008106843"
     },
     "user_tz": 300
    },
    "id": "UydGJ_zXTkk5"
   },
   "outputs": [],
   "source": [
    "def union(s):\n",
    "  x=' '.join(c for c in s)\n",
    "  return x"
   ]
  },
  {
   "cell_type": "code",
   "execution_count": 271,
   "metadata": {
    "executionInfo": {
     "elapsed": 17,
     "status": "ok",
     "timestamp": 1632954035531,
     "user": {
      "displayName": "juan sebastian angarita torres",
      "photoUrl": "https://lh3.googleusercontent.com/a-/AOh14GgjiV1o_Xb2Ov2kAJhpXcHsgVLy47m-BxyXrYYMfw=s64",
      "userId": "11476954540008106843"
     },
     "user_tz": 300
    },
    "id": "zO5SikqFS6QA"
   },
   "outputs": [],
   "source": [
    "temas['union'] = temas[\"stemizado\"].apply(lambda x: union(x))"
   ]
  },
  {
   "cell_type": "code",
   "execution_count": 272,
   "metadata": {
    "colab": {
     "base_uri": "https://localhost:8080/"
    },
    "executionInfo": {
     "elapsed": 168,
     "status": "ok",
     "timestamp": 1632954035929,
     "user": {
      "displayName": "juan sebastian angarita torres",
      "photoUrl": "https://lh3.googleusercontent.com/a-/AOh14GgjiV1o_Xb2Ov2kAJhpXcHsgVLy47m-BxyXrYYMfw=s64",
      "userId": "11476954540008106843"
     },
     "user_tz": 300
    },
    "id": "_1-wKgP5WMPG",
    "outputId": "c9c947e8-c25e-4c52-de5e-74934d207e41"
   },
   "outputs": [
    {
     "data": {
      "text/plain": [
       "<64783x9460 sparse matrix of type '<class 'numpy.int64'>'\n",
       "\twith 207412 stored elements in Compressed Sparse Row format>"
      ]
     },
     "execution_count": 272,
     "metadata": {},
     "output_type": "execute_result"
    }
   ],
   "source": [
    "vectorizador1 = CountVectorizer(analyzer = \"word\")\n",
    "matrizCountVectorizer1 = vectorizador1.fit_transform(temas['union'])\n",
    "matrizCountVectorizer1"
   ]
  },
  {
   "cell_type": "markdown",
   "metadata": {
    "id": "QvELzBDWuYRu"
   },
   "source": [
    "Finalmente realizamos el join para poner a cada libro su listado de temas. "
   ]
  },
  {
   "cell_type": "code",
   "execution_count": 273,
   "metadata": {
    "executionInfo": {
     "elapsed": 1165,
     "status": "ok",
     "timestamp": 1632954037093,
     "user": {
      "displayName": "juan sebastian angarita torres",
      "photoUrl": "https://lh3.googleusercontent.com/a-/AOh14GgjiV1o_Xb2Ov2kAJhpXcHsgVLy47m-BxyXrYYMfw=s64",
      "userId": "11476954540008106843"
     },
     "user_tz": 300
    },
    "id": "KOMI7MYAub_9"
   },
   "outputs": [],
   "source": [
    "ds_items = pd.DataFrame(data=materialLimpio2)\n",
    "ds_temas = pd.DataFrame(data=temas)\n",
    "materialLimpio3 = pd.merge(ds_items, ds_temas, left_on='Tema650', right_on='original', how='left')\n",
    "materialLimpio3 = materialLimpio3.drop(['tokenizado'], axis = 1)"
   ]
  },
  {
   "cell_type": "code",
   "execution_count": 274,
   "metadata": {
    "colab": {
     "base_uri": "https://localhost:8080/",
     "height": 363
    },
    "executionInfo": {
     "elapsed": 13,
     "status": "ok",
     "timestamp": 1632954037094,
     "user": {
      "displayName": "juan sebastian angarita torres",
      "photoUrl": "https://lh3.googleusercontent.com/a-/AOh14GgjiV1o_Xb2Ov2kAJhpXcHsgVLy47m-BxyXrYYMfw=s64",
      "userId": "11476954540008106843"
     },
     "user_tz": 300
    },
    "id": "67ymy1ZcvgsD",
    "outputId": "a2c223de-807d-4ba1-dc6d-3258eebcb501"
   },
   "outputs": [
    {
     "data": {
      "text/html": [
       "<div>\n",
       "<style scoped>\n",
       "    .dataframe tbody tr th:only-of-type {\n",
       "        vertical-align: middle;\n",
       "    }\n",
       "\n",
       "    .dataframe tbody tr th {\n",
       "        vertical-align: top;\n",
       "    }\n",
       "\n",
       "    .dataframe thead th {\n",
       "        text-align: right;\n",
       "    }\n",
       "</style>\n",
       "<table border=\"1\" class=\"dataframe\">\n",
       "  <thead>\n",
       "    <tr style=\"text-align: right;\">\n",
       "      <th></th>\n",
       "      <th>Signatura</th>\n",
       "      <th>IDItem</th>\n",
       "      <th>UbicacionActual</th>\n",
       "      <th>TipoItem</th>\n",
       "      <th>TotalPrestamos</th>\n",
       "      <th>Llave</th>\n",
       "      <th>Copias</th>\n",
       "      <th>Autor</th>\n",
       "      <th>Titulo</th>\n",
       "      <th>Tema650</th>\n",
       "      <th>AnioPublicacion</th>\n",
       "      <th>NO_DEWEY</th>\n",
       "      <th>ENCABEZAMIENTO</th>\n",
       "      <th>original</th>\n",
       "      <th>stemizado</th>\n",
       "      <th>union</th>\n",
       "    </tr>\n",
       "  </thead>\n",
       "  <tbody>\n",
       "    <tr>\n",
       "      <th>0</th>\n",
       "      <td>925</td>\n",
       "      <td>60000000049754</td>\n",
       "      <td>A-BATEMAN</td>\n",
       "      <td>LIBRO</td>\n",
       "      <td>0</td>\n",
       "      <td>933604</td>\n",
       "      <td>1</td>\n",
       "      <td>Álvarez Ríos, Baldomero 1924-</td>\n",
       "      <td>Copernico gigante del Renacimiento Baldomero A...</td>\n",
       "      <td>astronomos polonia biografias</td>\n",
       "      <td>1973.0</td>\n",
       "      <td>925.2</td>\n",
       "      <td>Galilei, Galileo|d1564-1642</td>\n",
       "      <td>astronomos polonia biografias</td>\n",
       "      <td>[astronom, poloni, biografi]</td>\n",
       "      <td>astronom poloni biografi</td>\n",
       "    </tr>\n",
       "    <tr>\n",
       "      <th>1</th>\n",
       "      <td>925</td>\n",
       "      <td>60000000049751</td>\n",
       "      <td>A-BATEMAN</td>\n",
       "      <td>LIBRO</td>\n",
       "      <td>0</td>\n",
       "      <td>933606</td>\n",
       "      <td>1</td>\n",
       "      <td>None</td>\n",
       "      <td>Nicolás Copérnico, 500 aniversario, 1473-1973</td>\n",
       "      <td>astronomia historia</td>\n",
       "      <td>1973.0</td>\n",
       "      <td>925.2</td>\n",
       "      <td>Galilei, Galileo|d1564-1642</td>\n",
       "      <td>astronomia historia</td>\n",
       "      <td>[astronomi, histori]</td>\n",
       "      <td>astronomi histori</td>\n",
       "    </tr>\n",
       "    <tr>\n",
       "      <th>2</th>\n",
       "      <td>925</td>\n",
       "      <td>60000000049753</td>\n",
       "      <td>A-BATEMAN</td>\n",
       "      <td>LIBRO</td>\n",
       "      <td>0</td>\n",
       "      <td>933606</td>\n",
       "      <td>1</td>\n",
       "      <td>None</td>\n",
       "      <td>Nicolás Copérnico, 500 aniversario, 1473-1973</td>\n",
       "      <td>astronomia historia</td>\n",
       "      <td>1973.0</td>\n",
       "      <td>925.2</td>\n",
       "      <td>Galilei, Galileo|d1564-1642</td>\n",
       "      <td>astronomia historia</td>\n",
       "      <td>[astronomi, histori]</td>\n",
       "      <td>astronomi histori</td>\n",
       "    </tr>\n",
       "  </tbody>\n",
       "</table>\n",
       "</div>"
      ],
      "text/plain": [
       "  Signatura          IDItem UbicacionActual TipoItem  TotalPrestamos   Llave  \\\n",
       "0       925  60000000049754       A-BATEMAN    LIBRO               0  933604   \n",
       "1       925  60000000049751       A-BATEMAN    LIBRO               0  933606   \n",
       "2       925  60000000049753       A-BATEMAN    LIBRO               0  933606   \n",
       "\n",
       "   Copias                          Autor  \\\n",
       "0       1  Álvarez Ríos, Baldomero 1924-   \n",
       "1       1                           None   \n",
       "2       1                           None   \n",
       "\n",
       "                                              Titulo  \\\n",
       "0  Copernico gigante del Renacimiento Baldomero A...   \n",
       "1      Nicolás Copérnico, 500 aniversario, 1473-1973   \n",
       "2      Nicolás Copérnico, 500 aniversario, 1473-1973   \n",
       "\n",
       "                         Tema650  AnioPublicacion NO_DEWEY  \\\n",
       "0  astronomos polonia biografias           1973.0    925.2   \n",
       "1            astronomia historia           1973.0    925.2   \n",
       "2            astronomia historia           1973.0    925.2   \n",
       "\n",
       "                ENCABEZAMIENTO                       original  \\\n",
       "0  Galilei, Galileo|d1564-1642  astronomos polonia biografias   \n",
       "1  Galilei, Galileo|d1564-1642            astronomia historia   \n",
       "2  Galilei, Galileo|d1564-1642            astronomia historia   \n",
       "\n",
       "                      stemizado                     union  \n",
       "0  [astronom, poloni, biografi]  astronom poloni biografi  \n",
       "1          [astronomi, histori]         astronomi histori  \n",
       "2          [astronomi, histori]         astronomi histori  "
      ]
     },
     "execution_count": 274,
     "metadata": {},
     "output_type": "execute_result"
    }
   ],
   "source": [
    "materialLimpio3.head(3)"
   ]
  },
  {
   "cell_type": "code",
   "execution_count": 275,
   "metadata": {
    "executionInfo": {
     "elapsed": 11,
     "status": "ok",
     "timestamp": 1632954037094,
     "user": {
      "displayName": "juan sebastian angarita torres",
      "photoUrl": "https://lh3.googleusercontent.com/a-/AOh14GgjiV1o_Xb2Ov2kAJhpXcHsgVLy47m-BxyXrYYMfw=s64",
      "userId": "11476954540008106843"
     },
     "user_tz": 300
    },
    "id": "RnuJ8r3Ywqa3"
   },
   "outputs": [],
   "source": [
    "materialLimpio3 = materialLimpio3.rename(columns={'stemizado':'Temas', 'ENCABEZAMIENTO':'TemaDewey', 'NO_DEWEY':'Dewey','original':'Original','union':'Union'})"
   ]
  },
  {
   "cell_type": "markdown",
   "metadata": {
    "id": "Tehn3XWXuNGG"
   },
   "source": [
    "Al finalizar el proceso de procesamiento de lenguaje natural encontramos 9460 palabras o temas para nuestros libros. "
   ]
  },
  {
   "cell_type": "markdown",
   "metadata": {
    "id": "6J3K46uMimfN"
   },
   "source": [
    "## Estandandarización año publicación\n",
    "Finalmente, modificaremos los registros que tienen como año de publicación, una fecha mayor al año actual. Todos estos registros se podrán como año 0 al igual que el resto de registros sobre los cuales no se tiene información acerca de la fecha. "
   ]
  },
  {
   "cell_type": "code",
   "execution_count": 276,
   "metadata": {
    "colab": {
     "base_uri": "https://localhost:8080/"
    },
    "executionInfo": {
     "elapsed": 12,
     "status": "ok",
     "timestamp": 1632954037095,
     "user": {
      "displayName": "juan sebastian angarita torres",
      "photoUrl": "https://lh3.googleusercontent.com/a-/AOh14GgjiV1o_Xb2Ov2kAJhpXcHsgVLy47m-BxyXrYYMfw=s64",
      "userId": "11476954540008106843"
     },
     "user_tz": 300
    },
    "id": "l3WLKL2PimFY",
    "outputId": "f1cf08a9-67a6-4bb1-b2e4-25bfd20a99a0"
   },
   "outputs": [
    {
     "name": "stdout",
     "output_type": "stream",
     "text": [
      "Número de datos nulos: 11\n",
      "Número de datos únicos: 366\n",
      "Tipo de dato: <class 'numpy.float64'>\n",
      "Ejemplo: 1973.0\n"
     ]
    }
   ],
   "source": [
    "descripcion(materialLimpio3,\"AnioPublicacion\")"
   ]
  },
  {
   "cell_type": "code",
   "execution_count": 277,
   "metadata": {
    "executionInfo": {
     "elapsed": 6,
     "status": "ok",
     "timestamp": 1632954037264,
     "user": {
      "displayName": "juan sebastian angarita torres",
      "photoUrl": "https://lh3.googleusercontent.com/a-/AOh14GgjiV1o_Xb2Ov2kAJhpXcHsgVLy47m-BxyXrYYMfw=s64",
      "userId": "11476954540008106843"
     },
     "user_tz": 300
    },
    "id": "kmy4S_B2jaI5"
   },
   "outputs": [],
   "source": [
    "materialLimpio3.loc[materialLimpio3[\"AnioPublicacion\"] >2021,\"AnioPublicacion\"] = 0"
   ]
  },
  {
   "cell_type": "code",
   "execution_count": 278,
   "metadata": {
    "colab": {
     "base_uri": "https://localhost:8080/"
    },
    "executionInfo": {
     "elapsed": 6,
     "status": "ok",
     "timestamp": 1632954037264,
     "user": {
      "displayName": "juan sebastian angarita torres",
      "photoUrl": "https://lh3.googleusercontent.com/a-/AOh14GgjiV1o_Xb2Ov2kAJhpXcHsgVLy47m-BxyXrYYMfw=s64",
      "userId": "11476954540008106843"
     },
     "user_tz": 300
    },
    "id": "LwgoWtcBj0qV",
    "outputId": "2ec83838-a0bb-44f1-f39c-578a832b963d"
   },
   "outputs": [
    {
     "data": {
      "text/plain": [
       "count    340687.000000\n",
       "mean       1940.643001\n",
       "std         290.580538\n",
       "min           0.000000\n",
       "25%        1970.000000\n",
       "50%        1989.000000\n",
       "75%        2003.000000\n",
       "max        2021.000000\n",
       "Name: AnioPublicacion, dtype: float64"
      ]
     },
     "execution_count": 278,
     "metadata": {},
     "output_type": "execute_result"
    }
   ],
   "source": [
    "materialLimpio3[\"AnioPublicacion\"].describe()"
   ]
  },
  {
   "cell_type": "code",
   "execution_count": 279,
   "metadata": {
    "colab": {
     "base_uri": "https://localhost:8080/"
    },
    "executionInfo": {
     "elapsed": 3,
     "status": "ok",
     "timestamp": 1632954037264,
     "user": {
      "displayName": "juan sebastian angarita torres",
      "photoUrl": "https://lh3.googleusercontent.com/a-/AOh14GgjiV1o_Xb2Ov2kAJhpXcHsgVLy47m-BxyXrYYMfw=s64",
      "userId": "11476954540008106843"
     },
     "user_tz": 300
    },
    "id": "z-Uvy2K_puwF",
    "outputId": "c5a4f8ff-d5b5-4484-d6fd-567aa8e9f0eb"
   },
   "outputs": [
    {
     "data": {
      "text/plain": [
       "Index(['Signatura', 'IDItem', 'UbicacionActual', 'TipoItem', 'TotalPrestamos',\n",
       "       'Llave', 'Copias', 'Autor', 'Titulo', 'Tema650', 'AnioPublicacion',\n",
       "       'Dewey', 'TemaDewey', 'Original', 'Temas', 'Union'],\n",
       "      dtype='object')"
      ]
     },
     "execution_count": 279,
     "metadata": {},
     "output_type": "execute_result"
    }
   ],
   "source": [
    "materialLimpio3.columns"
   ]
  },
  {
   "cell_type": "markdown",
   "metadata": {
    "id": "d2VdtEKhVIwG"
   },
   "source": [
    "# Conclusiones y decisiones\n",
    "A nivel de la estrucuturación y problemas de integridad del dataset se tomaron las siguientes decisiones:\n",
    "* Eliminar tipo de items no asociados a libros.\n",
    "* Formatear columna Fecha de creación a un TimeStamp\n",
    "* Formatear el nombre de las columnas para seguir un mismo formato\n",
    "* Estandrizar la columna de Facultad\n",
    "* Eliminar columnas UbicacionHabitual','Biblioteca','TodasTematicas', 'AutorCorporativo','Cat2', 'Vol','FechaCreación'.\n",
    "* Crear la columna derivada Temas.\n",
    "* Crear la columna derivada Encabezamiento.\n",
    "* Limpieza del atributo año de lanzamiento.  \n",
    "\n",
    "El dataset de manera general no contenía problemas de integridad, nulos o datos faltantes lo cual ayudó en gran manera a que el proceso de limpieza fuera lo más sencillo posible. "
   ]
  },
  {
   "cell_type": "markdown",
   "metadata": {
    "id": "SaiqnDeLiwsr"
   },
   "source": [
    "#Exportación"
   ]
  },
  {
   "cell_type": "code",
   "execution_count": 280,
   "metadata": {
    "executionInfo": {
     "elapsed": 1990,
     "status": "ok",
     "timestamp": 1632954039253,
     "user": {
      "displayName": "juan sebastian angarita torres",
      "photoUrl": "https://lh3.googleusercontent.com/a-/AOh14GgjiV1o_Xb2Ov2kAJhpXcHsgVLy47m-BxyXrYYMfw=s64",
      "userId": "11476954540008106843"
     },
     "user_tz": 300
    },
    "id": "OmhXWE4bRJy5"
   },
   "outputs": [],
   "source": [
    "materialLimpio3.to_json('../data/Limpios/B-GENERAL-COLECCIONES-TEMATICAS.json')"
   ]
  }
 ],
 "metadata": {
  "colab": {
   "authorship_tag": "ABX9TyPSakt8LC4x1cJY1BxZHyWS",
   "collapsed_sections": [],
   "name": "Entendimiento-limpieza material.ipynb",
   "provenance": [],
   "toc_visible": true
  },
  "kernelspec": {
   "display_name": "Python 3",
   "language": "python",
   "name": "python3"
  },
  "language_info": {
   "codemirror_mode": {
    "name": "ipython",
    "version": 3
   },
   "file_extension": ".py",
   "mimetype": "text/x-python",
   "name": "python",
   "nbconvert_exporter": "python",
   "pygments_lexer": "ipython3",
   "version": "3.8.8"
  }
 },
 "nbformat": 4,
 "nbformat_minor": 1
}
