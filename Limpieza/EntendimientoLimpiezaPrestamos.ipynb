{
 "cells": [
  {
   "cell_type": "markdown",
   "metadata": {
    "id": "A6qICouoEqMI"
   },
   "source": [
    "# **Smart-UJ UAQUE**\n",
    "## Documento entendimiento de datos</br>\n",
    "Este documento busca exponer un primer acercamiento a los datos proveídos por la biblioteca. Procederemos a presentar la carga de los datos. Información básica de los archivos recibido. Descripción de las columnas para el dataset de préstamo de la biblioteca Alfonso Borrero Cabal S.J. Presentaremos gráficos que permitirán visualizar la relación entre los tipos de datos encontrados, junto a una breve descripción de las inferencias que se pueden realizar sobre estos. Evaluaremos la calidad de los datos con respecto al formato, estandarización y volumen de datos faltantes.\n",
    "\n",
    "Posteriormete se realizará una limpieza tanto de filas como columnas para trabajar solo con los datos necesarios para los algoritmos de agrupamiento y recomendación.\n",
    "\n",
    "**Integrantes:**</br>\n",
    "Johan Ortegón </br>\n",
    "Juan Angarita </br>\n",
    "Jorge Salgado </br>\n",
    "Daniel Tibaquira </br></br>\n",
    "**Directora de Proyecto de Grado:** </br>\n",
    "Viky Arias </br>"
   ]
  },
  {
   "cell_type": "markdown",
   "metadata": {
    "id": "0NuTMitOdomN"
   },
   "source": [
    "# Carga de datos"
   ]
  },
  {
   "cell_type": "code",
   "execution_count": 4,
   "metadata": {
    "colab": {
     "base_uri": "https://localhost:8080/"
    },
    "executionInfo": {
     "elapsed": 20529,
     "status": "ok",
     "timestamp": 1633064269784,
     "user": {
      "displayName": "juan sebastian angarita torres",
      "photoUrl": "https://lh3.googleusercontent.com/a-/AOh14GgjiV1o_Xb2Ov2kAJhpXcHsgVLy47m-BxyXrYYMfw=s64",
      "userId": "11476954540008106843"
     },
     "user_tz": 300
    },
    "id": "fjG45wWk3ISl",
    "outputId": "45fb00d3-fb22-49fc-e878-7f029f0f6a33"
   },
   "outputs": [],
   "source": [
    "#from google.colab import drive\n",
    "#drive.mount('/content/drive')"
   ]
  },
  {
   "cell_type": "markdown",
   "metadata": {
    "id": "wdvch-5zLSuX"
   },
   "source": [
    "Comenzamos importando la librerias necesarias para cargar los datos y hacer su respectiva exploración.<br/>\n",
    "\n",
    "* Pandas: Permite almacenar los datos en dataframes(matrices) y operación entre las celdas.<br/>\n",
    "\n",
    "* Plt(matplotlib.pyplot) y sns(seaborn): permiten visualizar los datos a través de diferentes gráficos. \n",
    "\n"
   ]
  },
  {
   "cell_type": "code",
   "execution_count": 5,
   "metadata": {
    "executionInfo": {
     "elapsed": 668,
     "status": "ok",
     "timestamp": 1633064270450,
     "user": {
      "displayName": "juan sebastian angarita torres",
      "photoUrl": "https://lh3.googleusercontent.com/a-/AOh14GgjiV1o_Xb2Ov2kAJhpXcHsgVLy47m-BxyXrYYMfw=s64",
      "userId": "11476954540008106843"
     },
     "user_tz": 300
    },
    "id": "mgKWeVlI3kTv"
   },
   "outputs": [],
   "source": [
    "import pandas as pd\n",
    "import matplotlib.pyplot as plt\n",
    "import seaborn as sn\n",
    "%matplotlib inline"
   ]
  },
  {
   "cell_type": "markdown",
   "metadata": {
    "id": "5-52XQMmMlnd"
   },
   "source": [
    "Importamos el dataset y los guardamos dentro de un dataframe.<br/>\n",
    "* datasetPrestamos: Corresponde a toda la información de prestamos de la Biblioteca Alfonso Borrero Cabal, S.J. (biblioteca general) entre los años 2018 y 2021. <br/>"
   ]
  },
  {
   "cell_type": "code",
   "execution_count": 6,
   "metadata": {
    "executionInfo": {
     "elapsed": 16013,
     "status": "ok",
     "timestamp": 1633064286462,
     "user": {
      "displayName": "juan sebastian angarita torres",
      "photoUrl": "https://lh3.googleusercontent.com/a-/AOh14GgjiV1o_Xb2Ov2kAJhpXcHsgVLy47m-BxyXrYYMfw=s64",
      "userId": "11476954540008106843"
     },
     "user_tz": 300
    },
    "id": "5PizksjT3r6i"
   },
   "outputs": [],
   "source": [
    "path =(\"https://www.dropbox.com/s/wpslbav7qanv4qt/PRESTAMOS-BGENERAL.json?dl=1\")\n",
    "datasetPrestamos = pd.read_json(path)"
   ]
  },
  {
   "cell_type": "markdown",
   "metadata": {
    "id": "ZV9FHvbQaBVf"
   },
   "source": [
    "Previo a cualquier tipo de análisis eliminaremos los datos no relacionados con la biblioteca Alfonso Borrero Cabal S.J. "
   ]
  },
  {
   "cell_type": "code",
   "execution_count": 7,
   "metadata": {
    "executionInfo": {
     "elapsed": 646,
     "status": "ok",
     "timestamp": 1633064287105,
     "user": {
      "displayName": "juan sebastian angarita torres",
      "photoUrl": "https://lh3.googleusercontent.com/a-/AOh14GgjiV1o_Xb2Ov2kAJhpXcHsgVLy47m-BxyXrYYMfw=s64",
      "userId": "11476954540008106843"
     },
     "user_tz": 300
    },
    "id": "il3yEfLXaQDR"
   },
   "outputs": [],
   "source": [
    "datasetPrestamos = datasetPrestamos[datasetPrestamos.Biblioteca == 'B-GENERAL']\n",
    "datasetPrestamos = datasetPrestamos[datasetPrestamos[\"Biblioteca Transacción\"] == 'B-GENERAL']"
   ]
  },
  {
   "cell_type": "markdown",
   "metadata": {
    "id": "pX8GUnLSNGzf"
   },
   "source": [
    "Hacemos una primera visualización de los datos el archivo."
   ]
  },
  {
   "cell_type": "code",
   "execution_count": 8,
   "metadata": {
    "colab": {
     "base_uri": "https://localhost:8080/",
     "height": 264
    },
    "executionInfo": {
     "elapsed": 13,
     "status": "ok",
     "timestamp": 1633064287106,
     "user": {
      "displayName": "juan sebastian angarita torres",
      "photoUrl": "https://lh3.googleusercontent.com/a-/AOh14GgjiV1o_Xb2Ov2kAJhpXcHsgVLy47m-BxyXrYYMfw=s64",
      "userId": "11476954540008106843"
     },
     "user_tz": 300
    },
    "id": "7gERNayP4olh",
    "outputId": "11ac89b9-b885-4447-8520-9124dfbe0c98"
   },
   "outputs": [
    {
     "data": {
      "text/html": [
       "<div>\n",
       "<style scoped>\n",
       "    .dataframe tbody tr th:only-of-type {\n",
       "        vertical-align: middle;\n",
       "    }\n",
       "\n",
       "    .dataframe tbody tr th {\n",
       "        vertical-align: top;\n",
       "    }\n",
       "\n",
       "    .dataframe thead th {\n",
       "        text-align: right;\n",
       "    }\n",
       "</style>\n",
       "<table border=\"1\" class=\"dataframe\">\n",
       "  <thead>\n",
       "    <tr style=\"text-align: right;\">\n",
       "      <th></th>\n",
       "      <th>row ID</th>\n",
       "      <th>Mes</th>\n",
       "      <th>Fecha</th>\n",
       "      <th>Hora</th>\n",
       "      <th>Transacción</th>\n",
       "      <th>Biblioteca Transacción</th>\n",
       "      <th>ID Ítem</th>\n",
       "      <th>Numero de Ubicación</th>\n",
       "      <th>Dewey</th>\n",
       "      <th>Biblioteca</th>\n",
       "      <th>Ubicación</th>\n",
       "      <th>Tipo de ítem</th>\n",
       "      <th>Llaves</th>\n",
       "      <th>Perfil</th>\n",
       "      <th>Categoría 1</th>\n",
       "      <th>Programa</th>\n",
       "      <th>Facultad</th>\n",
       "      <th>ID de usuario ok</th>\n",
       "    </tr>\n",
       "  </thead>\n",
       "  <tbody>\n",
       "    <tr>\n",
       "      <th>0</th>\n",
       "      <td>Row0</td>\n",
       "      <td>Enero</td>\n",
       "      <td>E201901091614570008R</td>\n",
       "      <td>16</td>\n",
       "      <td>Prestamos CyP</td>\n",
       "      <td>B-GENERAL</td>\n",
       "      <td>80000005327627</td>\n",
       "      <td>720.98 A71S</td>\n",
       "      <td>720</td>\n",
       "      <td>B-GENERAL</td>\n",
       "      <td>COL-GRAL-2</td>\n",
       "      <td>LIBRO</td>\n",
       "      <td>866245</td>\n",
       "      <td>A-EGRESADO</td>\n",
       "      <td>ARQUI</td>\n",
       "      <td>CARRERA DE ARQUITECTURA</td>\n",
       "      <td>Arquitectura y Diseño</td>\n",
       "      <td>c361c772cd0220bb16dcfb2ad803e4903334ab94</td>\n",
       "    </tr>\n",
       "    <tr>\n",
       "      <th>1</th>\n",
       "      <td>Row1</td>\n",
       "      <td>Enero</td>\n",
       "      <td>E201901091615000008R</td>\n",
       "      <td>16</td>\n",
       "      <td>Prestamos CyP</td>\n",
       "      <td>B-GENERAL</td>\n",
       "      <td>80000001191496</td>\n",
       "      <td>720.9861 A71</td>\n",
       "      <td>720</td>\n",
       "      <td>B-GENERAL</td>\n",
       "      <td>COL-GRAL-2</td>\n",
       "      <td>LIBRO</td>\n",
       "      <td>309945</td>\n",
       "      <td>A-EGRESADO</td>\n",
       "      <td>ARQUI</td>\n",
       "      <td>CARRERA DE ARQUITECTURA</td>\n",
       "      <td>Arquitectura y Diseño</td>\n",
       "      <td>c361c772cd0220bb16dcfb2ad803e4903334ab94</td>\n",
       "    </tr>\n",
       "    <tr>\n",
       "      <th>2</th>\n",
       "      <td>Row2</td>\n",
       "      <td>Enero</td>\n",
       "      <td>E201901101646030036R</td>\n",
       "      <td>16</td>\n",
       "      <td>Prestamos CyP</td>\n",
       "      <td>B-GENERAL</td>\n",
       "      <td>80000004979759</td>\n",
       "      <td>540 CH15Q 2010</td>\n",
       "      <td>540</td>\n",
       "      <td>B-GENERAL</td>\n",
       "      <td>COL-GRAL-3</td>\n",
       "      <td>LIBRO</td>\n",
       "      <td>822727</td>\n",
       "      <td>A-EGRESADO</td>\n",
       "      <td>ARQUI</td>\n",
       "      <td>CARRERA DE ARQUITECTURA</td>\n",
       "      <td>Arquitectura y Diseño</td>\n",
       "      <td>87b0e5a61ed712ddfaf5d478ad68c87c825997e9</td>\n",
       "    </tr>\n",
       "  </tbody>\n",
       "</table>\n",
       "</div>"
      ],
      "text/plain": [
       "  row ID    Mes                  Fecha  Hora    Transacción  \\\n",
       "0   Row0  Enero  E201901091614570008R     16  Prestamos CyP   \n",
       "1   Row1  Enero  E201901091615000008R     16  Prestamos CyP   \n",
       "2   Row2  Enero  E201901101646030036R     16  Prestamos CyP   \n",
       "\n",
       "  Biblioteca Transacción         ID Ítem Numero de Ubicación Dewey Biblioteca  \\\n",
       "0              B-GENERAL  80000005327627         720.98 A71S   720  B-GENERAL   \n",
       "1              B-GENERAL  80000001191496        720.9861 A71   720  B-GENERAL   \n",
       "2              B-GENERAL  80000004979759      540 CH15Q 2010   540  B-GENERAL   \n",
       "\n",
       "    Ubicación Tipo de ítem  Llaves      Perfil Categoría 1  \\\n",
       "0  COL-GRAL-2        LIBRO  866245  A-EGRESADO       ARQUI   \n",
       "1  COL-GRAL-2        LIBRO  309945  A-EGRESADO       ARQUI   \n",
       "2  COL-GRAL-3        LIBRO  822727  A-EGRESADO       ARQUI   \n",
       "\n",
       "                  Programa               Facultad  \\\n",
       "0  CARRERA DE ARQUITECTURA  Arquitectura y Diseño   \n",
       "1  CARRERA DE ARQUITECTURA  Arquitectura y Diseño   \n",
       "2  CARRERA DE ARQUITECTURA  Arquitectura y Diseño   \n",
       "\n",
       "                           ID de usuario ok  \n",
       "0  c361c772cd0220bb16dcfb2ad803e4903334ab94  \n",
       "1  c361c772cd0220bb16dcfb2ad803e4903334ab94  \n",
       "2  87b0e5a61ed712ddfaf5d478ad68c87c825997e9  "
      ]
     },
     "metadata": {},
     "output_type": "display_data"
    }
   ],
   "source": [
    "display(datasetPrestamos.head(3))"
   ]
  },
  {
   "cell_type": "markdown",
   "metadata": {
    "id": "0f8MX9W68cSQ"
   },
   "source": [
    "# 1. Reporte de recolección de datos \n",
    "En esta sección exponemos las principales características de los archivos (Propietario, Formato original, URL, Fecha de última actualziación, Tamaño del archivo, Nombre del almacenamiento físico, restricciones de uso y Número de atributos) junto con una breve descripción.\n",
    "* **Nombre conjunto de datos:** PRESTAMOS-BGENERAL-2019-2020-2021\n",
    "    * **Descripción:** ofrece información detallada de los prestamos realizados por parte de la comunidad educativa del material bibliográfico procedente de Biblioteca Alfonso Borrero Cabal S.J.. Ofrece información general del estudiante y detalles del préstamo.\n",
    "    * **Propietario:** Andrés Echavarria​\n",
    "    * **Formato original:** Texto Plano\n",
    "    * **URL u origen:** Proporcionados para el Proyecto Smart-UJ\n",
    "    * **Última actualización:** 24/09/2021\n",
    "    * **Tamaño orginal:** 141MB\n",
    "    * **Alamcenamiento físico:** Servidor Oracle 11G\n",
    "    * **Restricciones de uso:** Solo se utilizarán los datos de la biblioteca general.\n",
    "    * **Número de atributos:** 18.\n",
    "\n"
   ]
  },
  {
   "cell_type": "markdown",
   "metadata": {
    "id": "-xQQewjAiQEA"
   },
   "source": [
    "# Pre-Limpieza\n",
    "En esta sección elaboramos una descripción detallada de los atributos (columnas) que contienen los archivos.Así mismo se mostrarán gráficas que nos ayudarán a entender mejor la distribución de los datos. "
   ]
  },
  {
   "cell_type": "markdown",
   "metadata": {
    "id": "w2p5gIlxl2DO"
   },
   "source": [
    "Comenzamos creando algunas funciones auxiliares para describir los datos y gráficarlos. "
   ]
  },
  {
   "cell_type": "code",
   "execution_count": 9,
   "metadata": {
    "executionInfo": {
     "elapsed": 12,
     "status": "ok",
     "timestamp": 1633064287106,
     "user": {
      "displayName": "juan sebastian angarita torres",
      "photoUrl": "https://lh3.googleusercontent.com/a-/AOh14GgjiV1o_Xb2Ov2kAJhpXcHsgVLy47m-BxyXrYYMfw=s64",
      "userId": "11476954540008106843"
     },
     "user_tz": 300
    },
    "id": "tJcqIKn-05b8"
   },
   "outputs": [],
   "source": [
    "def descripcion(dataset, nombre):\n",
    "  nulos = len(dataset.loc[dataset[nombre].isnull()])\n",
    "  print(\"Número de datos nulos:\", nulos)\n",
    "  unicos = len(dataset[nombre].unique())\n",
    "  print(\"Número de datos únicos:\", unicos)\n",
    "  tipo = type(dataset[nombre][0])\n",
    "  print(\"Tipo de dato:\", tipo)\n",
    "  print(\"Ejemplo:\", dataset[nombre][0])"
   ]
  },
  {
   "cell_type": "code",
   "execution_count": 10,
   "metadata": {
    "executionInfo": {
     "elapsed": 11,
     "status": "ok",
     "timestamp": 1633064287106,
     "user": {
      "displayName": "juan sebastian angarita torres",
      "photoUrl": "https://lh3.googleusercontent.com/a-/AOh14GgjiV1o_Xb2Ov2kAJhpXcHsgVLy47m-BxyXrYYMfw=s64",
      "userId": "11476954540008106843"
     },
     "user_tz": 300
    },
    "id": "dKmq3gjNPoTh"
   },
   "outputs": [],
   "source": [
    "def histograma(dataset,nombre):\n",
    "  plt.figure(figsize=(25, 10))\n",
    "  plt.title(\"Frecuencia de préstamos por \" + nombre)\n",
    "  plt.xlabel(nombre)\n",
    "  plt.ylabel(\"Frecuencia\")\n",
    "  dataset[nombre].value_counts().plot(kind='bar') "
   ]
  },
  {
   "cell_type": "code",
   "execution_count": 11,
   "metadata": {
    "executionInfo": {
     "elapsed": 11,
     "status": "ok",
     "timestamp": 1633064287106,
     "user": {
      "displayName": "juan sebastian angarita torres",
      "photoUrl": "https://lh3.googleusercontent.com/a-/AOh14GgjiV1o_Xb2Ov2kAJhpXcHsgVLy47m-BxyXrYYMfw=s64",
      "userId": "11476954540008106843"
     },
     "user_tz": 300
    },
    "id": "fephdK4oPuV4"
   },
   "outputs": [],
   "source": [
    "def frecuencias(dataset,nombre):\n",
    "  table = (dataset[nombre].value_counts(normalize = True) * 100).to_frame()\n",
    "  table.columns = ['Procentaje (%)']\n",
    "  table.columns.name = nombre\n",
    "  display(table)"
   ]
  },
  {
   "cell_type": "markdown",
   "metadata": {
    "id": "2_ti7QMpiVM4"
   },
   "source": [
    "Mostramos el número de filas y columnas que componen el archivo correspondiente a los prestamos de los años  2018 - 2021"
   ]
  },
  {
   "cell_type": "code",
   "execution_count": 12,
   "metadata": {
    "colab": {
     "base_uri": "https://localhost:8080/"
    },
    "executionInfo": {
     "elapsed": 11,
     "status": "ok",
     "timestamp": 1633064287106,
     "user": {
      "displayName": "juan sebastian angarita torres",
      "photoUrl": "https://lh3.googleusercontent.com/a-/AOh14GgjiV1o_Xb2Ov2kAJhpXcHsgVLy47m-BxyXrYYMfw=s64",
      "userId": "11476954540008106843"
     },
     "user_tz": 300
    },
    "id": "Ok6p4bXAAZ__",
    "outputId": "20bf396b-949c-4c13-c30e-2686a0f8aeba"
   },
   "outputs": [
    {
     "name": "stdout",
     "output_type": "stream",
     "text": [
      "Número de Filas:  525869\n",
      "Número de Columnas:  18\n"
     ]
    }
   ],
   "source": [
    "print(\"Número de Filas: \", datasetPrestamos.shape[0])\n",
    "print(\"Número de Columnas: \", datasetPrestamos.shape[1])"
   ]
  },
  {
   "cell_type": "code",
   "execution_count": 13,
   "metadata": {
    "colab": {
     "base_uri": "https://localhost:8080/"
    },
    "executionInfo": {
     "elapsed": 6,
     "status": "ok",
     "timestamp": 1633064287107,
     "user": {
      "displayName": "juan sebastian angarita torres",
      "photoUrl": "https://lh3.googleusercontent.com/a-/AOh14GgjiV1o_Xb2Ov2kAJhpXcHsgVLy47m-BxyXrYYMfw=s64",
      "userId": "11476954540008106843"
     },
     "user_tz": 300
    },
    "id": "VKI_8C42B0b0",
    "outputId": "ead3e05e-e59e-4be8-aae8-e5236d44a446"
   },
   "outputs": [
    {
     "data": {
      "text/plain": [
       "Index(['row ID', 'Mes', 'Fecha', 'Hora', 'Transacción',\n",
       "       'Biblioteca Transacción', 'ID Ítem', 'Numero de Ubicación', 'Dewey',\n",
       "       'Biblioteca', 'Ubicación', 'Tipo de ítem', 'Llaves', 'Perfil',\n",
       "       'Categoría 1', 'Programa', 'Facultad', 'ID de usuario ok'],\n",
       "      dtype='object')"
      ]
     },
     "execution_count": 13,
     "metadata": {},
     "output_type": "execute_result"
    }
   ],
   "source": [
    "datasetPrestamos.columns"
   ]
  },
  {
   "cell_type": "code",
   "execution_count": 14,
   "metadata": {
    "executionInfo": {
     "elapsed": 4,
     "status": "ok",
     "timestamp": 1633064287107,
     "user": {
      "displayName": "juan sebastian angarita torres",
      "photoUrl": "https://lh3.googleusercontent.com/a-/AOh14GgjiV1o_Xb2Ov2kAJhpXcHsgVLy47m-BxyXrYYMfw=s64",
      "userId": "11476954540008106843"
     },
     "user_tz": 300
    },
    "id": "g3SnPwjlMnBT"
   },
   "outputs": [],
   "source": [
    "dataset = datasetPrestamos"
   ]
  },
  {
   "cell_type": "markdown",
   "metadata": {
    "id": "XPKsEvWjYUqu"
   },
   "source": [
    "### Col: row ID\n",
    "**Descripción**: ID único de cada prestamo realizado en la biblioteca."
   ]
  },
  {
   "cell_type": "code",
   "execution_count": 15,
   "metadata": {
    "colab": {
     "base_uri": "https://localhost:8080/"
    },
    "executionInfo": {
     "elapsed": 328,
     "status": "ok",
     "timestamp": 1633064287431,
     "user": {
      "displayName": "juan sebastian angarita torres",
      "photoUrl": "https://lh3.googleusercontent.com/a-/AOh14GgjiV1o_Xb2Ov2kAJhpXcHsgVLy47m-BxyXrYYMfw=s64",
      "userId": "11476954540008106843"
     },
     "user_tz": 300
    },
    "id": "WQKbRQfWCJP8",
    "outputId": "c9df0d17-7692-4715-f7cd-402461b13637"
   },
   "outputs": [
    {
     "name": "stdout",
     "output_type": "stream",
     "text": [
      "Número de datos nulos: 0\n",
      "Número de datos únicos: 525869\n",
      "Tipo de dato: <class 'str'>\n",
      "Ejemplo: Row0\n"
     ]
    }
   ],
   "source": [
    "col = \"row ID\"\n",
    "descripcion(dataset,col)"
   ]
  },
  {
   "cell_type": "markdown",
   "metadata": {
    "id": "XOjWFreRZHkc"
   },
   "source": [
    "### Col: Mes\n",
    "**Descripción**: Mes en el que se realizó el prestamo del material. Se puede entender como un atributo derivado de fecha."
   ]
  },
  {
   "cell_type": "code",
   "execution_count": 16,
   "metadata": {
    "colab": {
     "base_uri": "https://localhost:8080/"
    },
    "executionInfo": {
     "elapsed": 4,
     "status": "ok",
     "timestamp": 1633064287431,
     "user": {
      "displayName": "juan sebastian angarita torres",
      "photoUrl": "https://lh3.googleusercontent.com/a-/AOh14GgjiV1o_Xb2Ov2kAJhpXcHsgVLy47m-BxyXrYYMfw=s64",
      "userId": "11476954540008106843"
     },
     "user_tz": 300
    },
    "id": "OH3zzBIm1LOV",
    "outputId": "52a132b8-b5d9-46df-bbf8-b12be2ecf330"
   },
   "outputs": [
    {
     "name": "stdout",
     "output_type": "stream",
     "text": [
      "Número de datos nulos: 0\n",
      "Número de datos únicos: 12\n",
      "Tipo de dato: <class 'str'>\n",
      "Ejemplo: Enero\n"
     ]
    }
   ],
   "source": [
    "col = \"Mes\"\n",
    "descripcion(dataset,col)"
   ]
  },
  {
   "cell_type": "code",
   "execution_count": 17,
   "metadata": {
    "colab": {
     "base_uri": "https://localhost:8080/",
     "height": 421
    },
    "executionInfo": {
     "elapsed": 159,
     "status": "ok",
     "timestamp": 1633064287589,
     "user": {
      "displayName": "juan sebastian angarita torres",
      "photoUrl": "https://lh3.googleusercontent.com/a-/AOh14GgjiV1o_Xb2Ov2kAJhpXcHsgVLy47m-BxyXrYYMfw=s64",
      "userId": "11476954540008106843"
     },
     "user_tz": 300
    },
    "id": "x_x0VMa-P7u7",
    "outputId": "2a192090-7e96-4f06-dee5-36a3339986bc"
   },
   "outputs": [
    {
     "data": {
      "text/html": [
       "<div>\n",
       "<style scoped>\n",
       "    .dataframe tbody tr th:only-of-type {\n",
       "        vertical-align: middle;\n",
       "    }\n",
       "\n",
       "    .dataframe tbody tr th {\n",
       "        vertical-align: top;\n",
       "    }\n",
       "\n",
       "    .dataframe thead th {\n",
       "        text-align: right;\n",
       "    }\n",
       "</style>\n",
       "<table border=\"1\" class=\"dataframe\">\n",
       "  <thead>\n",
       "    <tr style=\"text-align: right;\">\n",
       "      <th>Mes</th>\n",
       "      <th>Procentaje (%)</th>\n",
       "    </tr>\n",
       "  </thead>\n",
       "  <tbody>\n",
       "    <tr>\n",
       "      <th>Febrero</th>\n",
       "      <td>13.108398</td>\n",
       "    </tr>\n",
       "    <tr>\n",
       "      <th>Marzo</th>\n",
       "      <td>11.594903</td>\n",
       "    </tr>\n",
       "    <tr>\n",
       "      <th>Abril</th>\n",
       "      <td>9.834579</td>\n",
       "    </tr>\n",
       "    <tr>\n",
       "      <th>Mayo</th>\n",
       "      <td>9.177000</td>\n",
       "    </tr>\n",
       "    <tr>\n",
       "      <th>Agosto</th>\n",
       "      <td>9.127749</td>\n",
       "    </tr>\n",
       "    <tr>\n",
       "      <th>Septiembre</th>\n",
       "      <td>8.912676</td>\n",
       "    </tr>\n",
       "    <tr>\n",
       "      <th>Enero</th>\n",
       "      <td>8.226383</td>\n",
       "    </tr>\n",
       "    <tr>\n",
       "      <th>Octubre</th>\n",
       "      <td>8.192535</td>\n",
       "    </tr>\n",
       "    <tr>\n",
       "      <th>Noviembre</th>\n",
       "      <td>7.143604</td>\n",
       "    </tr>\n",
       "    <tr>\n",
       "      <th>Julio</th>\n",
       "      <td>7.110706</td>\n",
       "    </tr>\n",
       "    <tr>\n",
       "      <th>Junio</th>\n",
       "      <td>4.981849</td>\n",
       "    </tr>\n",
       "    <tr>\n",
       "      <th>Diciembre</th>\n",
       "      <td>2.589618</td>\n",
       "    </tr>\n",
       "  </tbody>\n",
       "</table>\n",
       "</div>"
      ],
      "text/plain": [
       "Mes         Procentaje (%)\n",
       "Febrero          13.108398\n",
       "Marzo            11.594903\n",
       "Abril             9.834579\n",
       "Mayo              9.177000\n",
       "Agosto            9.127749\n",
       "Septiembre        8.912676\n",
       "Enero             8.226383\n",
       "Octubre           8.192535\n",
       "Noviembre         7.143604\n",
       "Julio             7.110706\n",
       "Junio             4.981849\n",
       "Diciembre         2.589618"
      ]
     },
     "metadata": {},
     "output_type": "display_data"
    }
   ],
   "source": [
    "frecuencias(dataset,col)"
   ]
  },
  {
   "cell_type": "code",
   "execution_count": 18,
   "metadata": {
    "colab": {
     "base_uri": "https://localhost:8080/",
     "height": 669
    },
    "executionInfo": {
     "elapsed": 542,
     "status": "ok",
     "timestamp": 1633064288130,
     "user": {
      "displayName": "juan sebastian angarita torres",
      "photoUrl": "https://lh3.googleusercontent.com/a-/AOh14GgjiV1o_Xb2Ov2kAJhpXcHsgVLy47m-BxyXrYYMfw=s64",
      "userId": "11476954540008106843"
     },
     "user_tz": 300
    },
    "id": "-OUsinXfZuTI",
    "outputId": "c3609e13-6ab1-41fc-c664-5a45f959c424"
   },
   "outputs": [
    {
     "data": {
      "image/png": "[encoded data removed]",
      "text/plain": [
       "<Figure size 1800x720 with 1 Axes>"
      ]
     },
     "metadata": {
      "needs_background": "light"
     },
     "output_type": "display_data"
    }
   ],
   "source": [
    "histograma(dataset,col)"
   ]
  },
  {
   "cell_type": "markdown",
   "metadata": {
    "id": "371_uQl8tcQz"
   },
   "source": [
    "**Análisis:**Podemos apreciar que Febrebro (**13.1%**) es el mes con la mayor cantidad de prestamos registrados, seguido por Marzo (**11.57%**) y Abril (**9.82%**), por lo que en inicio del año es el que más transacciones presenta (probablemente relacionado con el inicio de los ciclos académicos, según experto del negocio)"
   ]
  },
  {
   "cell_type": "markdown",
   "metadata": {
    "id": "5FGxRHt1eO7b"
   },
   "source": [
    "### Col: Fecha\n",
    "**Descripción:** Indica la fecha en la cual se realizó el prestamo. "
   ]
  },
  {
   "cell_type": "code",
   "execution_count": 19,
   "metadata": {
    "executionInfo": {
     "elapsed": 3,
     "status": "ok",
     "timestamp": 1633064288131,
     "user": {
      "displayName": "juan sebastian angarita torres",
      "photoUrl": "https://lh3.googleusercontent.com/a-/AOh14GgjiV1o_Xb2Ov2kAJhpXcHsgVLy47m-BxyXrYYMfw=s64",
      "userId": "11476954540008106843"
     },
     "user_tz": 300
    },
    "id": "QkNUxhAsDyPB"
   },
   "outputs": [],
   "source": [
    " import datetime"
   ]
  },
  {
   "cell_type": "code",
   "execution_count": 20,
   "metadata": {
    "colab": {
     "base_uri": "https://localhost:8080/",
     "height": 35
    },
    "executionInfo": {
     "elapsed": 3,
     "status": "ok",
     "timestamp": 1633064288131,
     "user": {
      "displayName": "juan sebastian angarita torres",
      "photoUrl": "https://lh3.googleusercontent.com/a-/AOh14GgjiV1o_Xb2Ov2kAJhpXcHsgVLy47m-BxyXrYYMfw=s64",
      "userId": "11476954540008106843"
     },
     "user_tz": 300
    },
    "id": "no-_wcnaefLl",
    "outputId": "67ea5534-4fc0-40cb-8873-902b42946d3e"
   },
   "outputs": [
    {
     "data": {
      "text/plain": [
       "'E201901091614570008R '"
      ]
     },
     "execution_count": 20,
     "metadata": {},
     "output_type": "execute_result"
    }
   ],
   "source": [
    "datasetPrestamos['Fecha'][0]"
   ]
  },
  {
   "cell_type": "markdown",
   "metadata": {
    "id": "oGM1UEweei5f"
   },
   "source": [
    "Convertimos la fecha a un formato estandar para el cual posteriormente se puedan derivar otros atributos. "
   ]
  },
  {
   "cell_type": "code",
   "execution_count": 21,
   "metadata": {
    "colab": {
     "base_uri": "https://localhost:8080/"
    },
    "executionInfo": {
     "elapsed": 6655,
     "status": "ok",
     "timestamp": 1633064294784,
     "user": {
      "displayName": "juan sebastian angarita torres",
      "photoUrl": "https://lh3.googleusercontent.com/a-/AOh14GgjiV1o_Xb2Ov2kAJhpXcHsgVLy47m-BxyXrYYMfw=s64",
      "userId": "11476954540008106843"
     },
     "user_tz": 300
    },
    "id": "-rFqRgGMfm2b",
    "outputId": "38cca31c-3c9d-4e88-aaba-13bb8c9dbab0"
   },
   "outputs": [
    {
     "data": {
      "text/plain": [
       "Timestamp('2019-01-09 16:14:57')"
      ]
     },
     "execution_count": 21,
     "metadata": {},
     "output_type": "execute_result"
    }
   ],
   "source": [
    "fechasFormat = datasetPrestamos['Fecha'].apply(lambda x: x[1:15])\n",
    "fechasSave = fechasFormat.apply(lambda x: datetime.datetime.strptime(x, '%Y%m%d%H%M%S'))\n",
    "datasetPrestamos['Fecha'] = fechasSave\n",
    "datasetPrestamos['Fecha'][0]"
   ]
  },
  {
   "cell_type": "code",
   "execution_count": 22,
   "metadata": {
    "colab": {
     "base_uri": "https://localhost:8080/"
    },
    "executionInfo": {
     "elapsed": 13,
     "status": "ok",
     "timestamp": 1633064294784,
     "user": {
      "displayName": "juan sebastian angarita torres",
      "photoUrl": "https://lh3.googleusercontent.com/a-/AOh14GgjiV1o_Xb2Ov2kAJhpXcHsgVLy47m-BxyXrYYMfw=s64",
      "userId": "11476954540008106843"
     },
     "user_tz": 300
    },
    "id": "DwgrQw9tjSqN",
    "outputId": "3160783f-3c61-4c00-afae-e3f1a7700de4"
   },
   "outputs": [
    {
     "name": "stdout",
     "output_type": "stream",
     "text": [
      "Número de datos nulos: 0\n",
      "Número de datos únicos: 413955\n",
      "Tipo de dato: <class 'pandas._libs.tslibs.timestamps.Timestamp'>\n",
      "Ejemplo: 2019-01-09 16:14:57\n"
     ]
    }
   ],
   "source": [
    "col = \"Fecha\"\n",
    "descripcion(dataset,col)"
   ]
  },
  {
   "cell_type": "code",
   "execution_count": 23,
   "metadata": {
    "colab": {
     "base_uri": "https://localhost:8080/"
    },
    "executionInfo": {
     "elapsed": 9,
     "status": "ok",
     "timestamp": 1633064294784,
     "user": {
      "displayName": "juan sebastian angarita torres",
      "photoUrl": "https://lh3.googleusercontent.com/a-/AOh14GgjiV1o_Xb2Ov2kAJhpXcHsgVLy47m-BxyXrYYMfw=s64",
      "userId": "11476954540008106843"
     },
     "user_tz": 300
    },
    "id": "NS3ehBMcnnmE",
    "outputId": "b36199ba-d575-4b2f-ce92-ddd69e740d4e"
   },
   "outputs": [
    {
     "data": {
      "text/plain": [
       "count                           525869\n",
       "mean     2019-02-15 09:11:42.152404992\n",
       "min                2018-01-01 03:32:09\n",
       "25%                2018-06-18 19:41:17\n",
       "50%                2019-01-29 18:04:56\n",
       "75%                2019-08-23 12:38:38\n",
       "max                2021-06-30 23:38:51\n",
       "Name: Fecha, dtype: object"
      ]
     },
     "execution_count": 23,
     "metadata": {},
     "output_type": "execute_result"
    }
   ],
   "source": [
    "datasetPrestamos['Fecha'].describe(datetime_is_numeric=True)"
   ]
  },
  {
   "cell_type": "markdown",
   "metadata": {
    "id": "CTlWtKWzo69y"
   },
   "source": [
    "**Análisis:**El dataset tiene como primera fecha el '2018-01-01' y como última fecha de actualización '2021-06-30'. Como se puede apreciar por los percentiles la mayoría de los datos pertenecen a los años 2019 y 2018."
   ]
  },
  {
   "cell_type": "markdown",
   "metadata": {
    "id": "SjUw9OoqjBVg"
   },
   "source": [
    "### Col: Hora\n",
    "**Descripción:** Hora en la que se realizó la transacción."
   ]
  },
  {
   "cell_type": "code",
   "execution_count": 24,
   "metadata": {
    "colab": {
     "base_uri": "https://localhost:8080/"
    },
    "executionInfo": {
     "elapsed": 8,
     "status": "ok",
     "timestamp": 1633064294785,
     "user": {
      "displayName": "juan sebastian angarita torres",
      "photoUrl": "https://lh3.googleusercontent.com/a-/AOh14GgjiV1o_Xb2Ov2kAJhpXcHsgVLy47m-BxyXrYYMfw=s64",
      "userId": "11476954540008106843"
     },
     "user_tz": 300
    },
    "id": "QLwqm2uV1VA5",
    "outputId": "df4c53b7-f1f6-4aca-d930-649a70e7cecb"
   },
   "outputs": [
    {
     "name": "stdout",
     "output_type": "stream",
     "text": [
      "Número de datos nulos: 0\n",
      "Número de datos únicos: 29\n",
      "Tipo de dato: <class 'numpy.int64'>\n",
      "Ejemplo: 16\n"
     ]
    }
   ],
   "source": [
    "col = \"Hora\"\n",
    "descripcion(dataset,col)"
   ]
  },
  {
   "cell_type": "code",
   "execution_count": 25,
   "metadata": {
    "colab": {
     "base_uri": "https://localhost:8080/"
    },
    "executionInfo": {
     "elapsed": 5,
     "status": "ok",
     "timestamp": 1633064294785,
     "user": {
      "displayName": "juan sebastian angarita torres",
      "photoUrl": "https://lh3.googleusercontent.com/a-/AOh14GgjiV1o_Xb2Ov2kAJhpXcHsgVLy47m-BxyXrYYMfw=s64",
      "userId": "11476954540008106843"
     },
     "user_tz": 300
    },
    "id": "tBtC3kDGju_r",
    "outputId": "a8d1b2ea-794c-4a61-d769-a7c1eaf6e499"
   },
   "outputs": [
    {
     "data": {
      "text/plain": [
       "array([16, 13, 11, 15, 19, 20,  8,  9, 10, 12, 14, 17, 18,  6, 21, 23,  7,\n",
       "        0,  1, 22,  4,  5,  3, 30, 24, 26, 25, 28, 27], dtype=int64)"
      ]
     },
     "execution_count": 25,
     "metadata": {},
     "output_type": "execute_result"
    }
   ],
   "source": [
    "datasetPrestamos['Hora'].unique()"
   ]
  },
  {
   "cell_type": "markdown",
   "metadata": {
    "id": "I1QVZtcFj9W6"
   },
   "source": [
    "Notamos que hay datos anormales en las horas(mayores a 24). Estos datos se cambiarán por datos nulos "
   ]
  },
  {
   "cell_type": "code",
   "execution_count": 26,
   "metadata": {
    "executionInfo": {
     "elapsed": 1252,
     "status": "ok",
     "timestamp": 1633064296033,
     "user": {
      "displayName": "juan sebastian angarita torres",
      "photoUrl": "https://lh3.googleusercontent.com/a-/AOh14GgjiV1o_Xb2Ov2kAJhpXcHsgVLy47m-BxyXrYYMfw=s64",
      "userId": "11476954540008106843"
     },
     "user_tz": 300
    },
    "id": "D0gGKweIkehV"
   },
   "outputs": [],
   "source": [
    "datasetPrestamos.loc[datasetPrestamos.Hora > 24, 'Hora'] = None\n"
   ]
  },
  {
   "cell_type": "code",
   "execution_count": 27,
   "metadata": {
    "colab": {
     "base_uri": "https://localhost:8080/"
    },
    "executionInfo": {
     "elapsed": 14,
     "status": "ok",
     "timestamp": 1633064296038,
     "user": {
      "displayName": "juan sebastian angarita torres",
      "photoUrl": "https://lh3.googleusercontent.com/a-/AOh14GgjiV1o_Xb2Ov2kAJhpXcHsgVLy47m-BxyXrYYMfw=s64",
      "userId": "11476954540008106843"
     },
     "user_tz": 300
    },
    "id": "sxEupb3Xk2pK",
    "outputId": "b94bb5d2-d04e-4aca-eabb-8f2f93d24f91"
   },
   "outputs": [
    {
     "name": "stdout",
     "output_type": "stream",
     "text": [
      "Número de valores nulos: 467\n"
     ]
    }
   ],
   "source": [
    "nulos = len(datasetPrestamos.loc[datasetPrestamos.Hora.isnull()])\n",
    "print(\"Número de valores nulos:\",nulos )"
   ]
  },
  {
   "cell_type": "code",
   "execution_count": 28,
   "metadata": {
    "colab": {
     "base_uri": "https://localhost:8080/"
    },
    "executionInfo": {
     "elapsed": 9,
     "status": "ok",
     "timestamp": 1633064296038,
     "user": {
      "displayName": "juan sebastian angarita torres",
      "photoUrl": "https://lh3.googleusercontent.com/a-/AOh14GgjiV1o_Xb2Ov2kAJhpXcHsgVLy47m-BxyXrYYMfw=s64",
      "userId": "11476954540008106843"
     },
     "user_tz": 300
    },
    "id": "BcSUhrNrj8Tu",
    "outputId": "b8ffee55-2462-4c1f-b6c0-5c75c431522a"
   },
   "outputs": [
    {
     "data": {
      "text/plain": [
       "count    525402.000000\n",
       "mean         13.373421\n",
       "std           4.612476\n",
       "min           0.000000\n",
       "25%          10.000000\n",
       "50%          13.000000\n",
       "75%          17.000000\n",
       "max          24.000000\n",
       "Name: Hora, dtype: float64"
      ]
     },
     "execution_count": 28,
     "metadata": {},
     "output_type": "execute_result"
    }
   ],
   "source": [
    "datasetPrestamos['Hora'].describe()"
   ]
  },
  {
   "cell_type": "code",
   "execution_count": 29,
   "metadata": {
    "colab": {
     "base_uri": "https://localhost:8080/",
     "height": 336
    },
    "executionInfo": {
     "elapsed": 8,
     "status": "ok",
     "timestamp": 1633064296039,
     "user": {
      "displayName": "juan sebastian angarita torres",
      "photoUrl": "https://lh3.googleusercontent.com/a-/AOh14GgjiV1o_Xb2Ov2kAJhpXcHsgVLy47m-BxyXrYYMfw=s64",
      "userId": "11476954540008106843"
     },
     "user_tz": 300
    },
    "id": "X4jpdYRwlYLC",
    "outputId": "41d6c5a6-0f32-4480-bb13-3e8a9a23c4cf"
   },
   "outputs": [
    {
     "data": {
      "image/png": "[encoded data removed]",
      "text/plain": [
       "<Figure size 504x360 with 1 Axes>"
      ]
     },
     "metadata": {
      "needs_background": "light"
     },
     "output_type": "display_data"
    }
   ],
   "source": [
    "plt.figure(figsize=(7, 5))\n",
    "plt.title(\"BoxPlot - Distribución de valores del atributo HORA\")\n",
    "plt.ylabel(\"Hora formato 24\")\n",
    "boxplot = datasetPrestamos.boxplot(column = ['Hora'])"
   ]
  },
  {
   "cell_type": "markdown",
   "metadata": {
    "id": "63tw1CyCmgcO"
   },
   "source": [
    "**Análisis:**Podemos apreciar que la hora promedio en la que se realizan los préstamos es la **1:36 PM**. El máximimo corresponde a 24 y el mínimo a 0 dado que este dato se almacena en sistema de 24 horas. Tras eliminar los valores ilogicos, podemos notar que no hay valores atípicos."
   ]
  },
  {
   "cell_type": "markdown",
   "metadata": {
    "id": "0HjK2DIspxhS"
   },
   "source": [
    "### Col: Transacción\n",
    "**Transacción**: describe la forma en la cual se realizó la transacción. "
   ]
  },
  {
   "cell_type": "markdown",
   "metadata": {
    "id": "B05QgR7pqgkk"
   },
   "source": [
    "Categoría(nombre)   | Descripción\n",
    "--------------------|------------------\n",
    "Javemovil| Préstamo realizado a través de la aplicación de la universidad JaveMovil.\n",
    "M. Autopréstamo| La transacción se realizó a través de una de las máquinas de autopréstamos de la biblioteca.\n",
    "Préstamos CyP| Préstamos realizados en el punto de cirulación y préstamo de la biblioteca.\n",
    "Renovación CyP| Renovaciones de préstamos realizadas en el punto de cirulación y préstamo de la biblioteca.\n",
    "Renovación M. Autopréstamo| Renovaciones de préstamos realizadas en la máquina de autopréstamos de la biblioteca.\n",
    "Renovación Web (Catálogo)|Renovaciones de préstamos realizadas a través del portal web de la biblioteca."
   ]
  },
  {
   "cell_type": "code",
   "execution_count": 30,
   "metadata": {
    "colab": {
     "base_uri": "https://localhost:8080/"
    },
    "executionInfo": {
     "elapsed": 426,
     "status": "ok",
     "timestamp": 1633064296458,
     "user": {
      "displayName": "juan sebastian angarita torres",
      "photoUrl": "https://lh3.googleusercontent.com/a-/AOh14GgjiV1o_Xb2Ov2kAJhpXcHsgVLy47m-BxyXrYYMfw=s64",
      "userId": "11476954540008106843"
     },
     "user_tz": 300
    },
    "id": "Ecv_OFkdq4TC",
    "outputId": "08308532-1ca0-47b4-c7ef-8402a13afada"
   },
   "outputs": [
    {
     "name": "stdout",
     "output_type": "stream",
     "text": [
      "Número de datos nulos: 0\n",
      "Número de datos únicos: 6\n",
      "Tipo de dato: <class 'str'>\n",
      "Ejemplo: Prestamos CyP\n"
     ]
    }
   ],
   "source": [
    "col = \"Transacción\"\n",
    "descripcion(dataset,col)"
   ]
  },
  {
   "cell_type": "code",
   "execution_count": 31,
   "metadata": {
    "colab": {
     "base_uri": "https://localhost:8080/",
     "height": 235
    },
    "executionInfo": {
     "elapsed": 15,
     "status": "ok",
     "timestamp": 1633064296459,
     "user": {
      "displayName": "juan sebastian angarita torres",
      "photoUrl": "https://lh3.googleusercontent.com/a-/AOh14GgjiV1o_Xb2Ov2kAJhpXcHsgVLy47m-BxyXrYYMfw=s64",
      "userId": "11476954540008106843"
     },
     "user_tz": 300
    },
    "id": "5xOmEvcjsZzA",
    "outputId": "18e73b77-7445-428d-b842-d8ecc14d994e"
   },
   "outputs": [
    {
     "data": {
      "text/html": [
       "<div>\n",
       "<style scoped>\n",
       "    .dataframe tbody tr th:only-of-type {\n",
       "        vertical-align: middle;\n",
       "    }\n",
       "\n",
       "    .dataframe tbody tr th {\n",
       "        vertical-align: top;\n",
       "    }\n",
       "\n",
       "    .dataframe thead th {\n",
       "        text-align: right;\n",
       "    }\n",
       "</style>\n",
       "<table border=\"1\" class=\"dataframe\">\n",
       "  <thead>\n",
       "    <tr style=\"text-align: right;\">\n",
       "      <th>Transacción</th>\n",
       "      <th>Procentaje (%)</th>\n",
       "    </tr>\n",
       "  </thead>\n",
       "  <tbody>\n",
       "    <tr>\n",
       "      <th>Prestamos CyP</th>\n",
       "      <td>47.703516</td>\n",
       "    </tr>\n",
       "    <tr>\n",
       "      <th>Renovación Web (Catálogo)</th>\n",
       "      <td>38.434097</td>\n",
       "    </tr>\n",
       "    <tr>\n",
       "      <th>Javemovil</th>\n",
       "      <td>7.241537</td>\n",
       "    </tr>\n",
       "    <tr>\n",
       "      <th>M. Autopréstamo</th>\n",
       "      <td>3.766527</td>\n",
       "    </tr>\n",
       "    <tr>\n",
       "      <th>Renovación CyP</th>\n",
       "      <td>2.527436</td>\n",
       "    </tr>\n",
       "    <tr>\n",
       "      <th>Renovación M. Autopréstamo</th>\n",
       "      <td>0.326887</td>\n",
       "    </tr>\n",
       "  </tbody>\n",
       "</table>\n",
       "</div>"
      ],
      "text/plain": [
       "Transacción                 Procentaje (%)\n",
       "Prestamos CyP                    47.703516\n",
       "Renovación Web (Catálogo)        38.434097\n",
       "Javemovil                         7.241537\n",
       "M. Autopréstamo                   3.766527\n",
       "Renovación CyP                    2.527436\n",
       "Renovación M. Autopréstamo        0.326887"
      ]
     },
     "metadata": {},
     "output_type": "display_data"
    }
   ],
   "source": [
    "frecuencias(dataset,col)\n"
   ]
  },
  {
   "cell_type": "code",
   "execution_count": 32,
   "metadata": {
    "colab": {
     "base_uri": "https://localhost:8080/",
     "height": 758
    },
    "executionInfo": {
     "elapsed": 13,
     "status": "ok",
     "timestamp": 1633064296459,
     "user": {
      "displayName": "juan sebastian angarita torres",
      "photoUrl": "https://lh3.googleusercontent.com/a-/AOh14GgjiV1o_Xb2Ov2kAJhpXcHsgVLy47m-BxyXrYYMfw=s64",
      "userId": "11476954540008106843"
     },
     "user_tz": 300
    },
    "id": "P1SbXob-rFQO",
    "outputId": "684ceb2e-9feb-4795-99a2-652906178565"
   },
   "outputs": [
    {
     "data": {
      "image/png": "[encoded data removed]",
      "text/plain": [
       "<Figure size 1800x720 with 1 Axes>"
      ]
     },
     "metadata": {
      "needs_background": "light"
     },
     "output_type": "display_data"
    }
   ],
   "source": [
    "histograma(dataset,col)"
   ]
  },
  {
   "cell_type": "markdown",
   "metadata": {
    "id": "K7aOgeEerncY"
   },
   "source": [
    "**Análisis:**Podemos notar que la mayoría de prestamos se realizan a través se realizan en los puntos de prestamos de la biblioteca. Así mismo que la renovación web es muy popular entre la comunidad educativa. Otros medios como la aplicación de javemovil o el autoprestamo no se usan de manera masiva."
   ]
  },
  {
   "cell_type": "markdown",
   "metadata": {
    "id": "SbK1hbdqs3VS"
   },
   "source": [
    "### Col: Biblioteca Transacción\n",
    "**Descripción:** Lugar al que pertenece la transacción. Tiene un único valor: B-GENERAL."
   ]
  },
  {
   "cell_type": "code",
   "execution_count": 33,
   "metadata": {
    "colab": {
     "base_uri": "https://localhost:8080/"
    },
    "executionInfo": {
     "elapsed": 13,
     "status": "ok",
     "timestamp": 1633064296459,
     "user": {
      "displayName": "juan sebastian angarita torres",
      "photoUrl": "https://lh3.googleusercontent.com/a-/AOh14GgjiV1o_Xb2Ov2kAJhpXcHsgVLy47m-BxyXrYYMfw=s64",
      "userId": "11476954540008106843"
     },
     "user_tz": 300
    },
    "id": "o1Zr1ucmNms9",
    "outputId": "65656072-0f42-4620-d21d-f670fec84e7f"
   },
   "outputs": [
    {
     "name": "stdout",
     "output_type": "stream",
     "text": [
      "Número de datos nulos: 0\n",
      "Número de datos únicos: 1\n",
      "Tipo de dato: <class 'str'>\n",
      "Ejemplo: B-GENERAL\n"
     ]
    }
   ],
   "source": [
    "col = \"Biblioteca Transacción\"\n",
    "descripcion(dataset,col)"
   ]
  },
  {
   "cell_type": "markdown",
   "metadata": {
    "id": "GDp_cuIatXAj"
   },
   "source": [
    "### Col: ID Ítem\n",
    "**Descripción:** es el ID único que tiene cada ítem de la biblioteca. Si un libro tiene varias copias en la biblioteca, cada copia tiene su propio ID."
   ]
  },
  {
   "cell_type": "code",
   "execution_count": 34,
   "metadata": {
    "colab": {
     "base_uri": "https://localhost:8080/"
    },
    "executionInfo": {
     "elapsed": 11,
     "status": "ok",
     "timestamp": 1633064296459,
     "user": {
      "displayName": "juan sebastian angarita torres",
      "photoUrl": "https://lh3.googleusercontent.com/a-/AOh14GgjiV1o_Xb2Ov2kAJhpXcHsgVLy47m-BxyXrYYMfw=s64",
      "userId": "11476954540008106843"
     },
     "user_tz": 300
    },
    "id": "h6CDCTemto0m",
    "outputId": "55e10897-743c-48bb-9c2f-17dd7b04fd31"
   },
   "outputs": [
    {
     "name": "stdout",
     "output_type": "stream",
     "text": [
      "Número de datos nulos: 0\n",
      "Número de datos únicos: 102370\n",
      "Tipo de dato: <class 'str'>\n",
      "Ejemplo: 80000005327627\n"
     ]
    }
   ],
   "source": [
    "col = \"ID Ítem\"\n",
    "descripcion(dataset,col)"
   ]
  },
  {
   "cell_type": "markdown",
   "metadata": {
    "id": "f4_2BP0xvHcT"
   },
   "source": [
    "### Col: Numero de Ubicación\n",
    "**Descripción:** Ubicación del ítem a partir del sistema Dewey que usa la biblioteca."
   ]
  },
  {
   "cell_type": "code",
   "execution_count": 35,
   "metadata": {
    "colab": {
     "base_uri": "https://localhost:8080/"
    },
    "executionInfo": {
     "elapsed": 10,
     "status": "ok",
     "timestamp": 1633064296460,
     "user": {
      "displayName": "juan sebastian angarita torres",
      "photoUrl": "https://lh3.googleusercontent.com/a-/AOh14GgjiV1o_Xb2Ov2kAJhpXcHsgVLy47m-BxyXrYYMfw=s64",
      "userId": "11476954540008106843"
     },
     "user_tz": 300
    },
    "id": "UHA1_3Pgvkm5",
    "outputId": "94688fc1-9cca-42a3-ad18-65cce1179c18"
   },
   "outputs": [
    {
     "name": "stdout",
     "output_type": "stream",
     "text": [
      "Número de datos nulos: 0\n",
      "Número de datos únicos: 132751\n",
      "Tipo de dato: <class 'str'>\n",
      "Ejemplo: 720.98 A71S\n"
     ]
    }
   ],
   "source": [
    "col = \"Numero de Ubicación\"\n",
    "descripcion(dataset,col)"
   ]
  },
  {
   "cell_type": "code",
   "execution_count": 36,
   "metadata": {
    "colab": {
     "base_uri": "https://localhost:8080/"
    },
    "executionInfo": {
     "elapsed": 9,
     "status": "ok",
     "timestamp": 1633064296460,
     "user": {
      "displayName": "juan sebastian angarita torres",
      "photoUrl": "https://lh3.googleusercontent.com/a-/AOh14GgjiV1o_Xb2Ov2kAJhpXcHsgVLy47m-BxyXrYYMfw=s64",
      "userId": "11476954540008106843"
     },
     "user_tz": 300
    },
    "id": "A9rYwn6ZKFPo",
    "outputId": "49439659-9189-4395-9488-2b74770f96ab"
   },
   "outputs": [
    {
     "data": {
      "text/plain": [
       "0            720.98 A71S\n",
       "1           720.9861 A71\n",
       "2         540 CH15Q 2010\n",
       "3               512 B151\n",
       "4               712 M17E\n",
       "               ...      \n",
       "543896        370.1 E47E\n",
       "543897        370.1 CH65\n",
       "543898      809 H182 V.1\n",
       "543899      658.0076 G51\n",
       "543900         833 Z83SN\n",
       "Name: Numero de Ubicación, Length: 525869, dtype: object"
      ]
     },
     "execution_count": 36,
     "metadata": {},
     "output_type": "execute_result"
    }
   ],
   "source": [
    "datasetPrestamos['Numero de Ubicación']"
   ]
  },
  {
   "cell_type": "markdown",
   "metadata": {
    "id": "-OGF3SGnKTO-"
   },
   "source": [
    "**Análisis:**Como se puede ver los valores aunque dispersos siguen una misma estructura. Con este dato podemos enteder de manera sencilla el piso en el que se encuentra el material. \n",
    "La siguiente tabla muestra la equivalencia entre los valores númericos y los pisos de la biblioteca:"
   ]
  },
  {
   "cell_type": "markdown",
   "metadata": {
    "id": "3sQhZcgJKtyY"
   },
   "source": [
    "Categoría(nombre)   | Descripción\n",
    "--------------------|------------------\n",
    "No. 800-90| Piso 0 - Literatura,Literatura Infantil y Juvenil.\n",
    "No. 600-799| Piso 2\n",
    "No. 330-599| Piso 3 - Colección de Jurisprudencia\n",
    "No. 000-329| Piso 4\n",
    "Colección de Referencia| Piso 1"
   ]
  },
  {
   "cell_type": "markdown",
   "metadata": {
    "id": "EjrSeQz8vyMc"
   },
   "source": [
    "Este dato nos puede servir para dar la localización del ítem una vez dada la recomendación. "
   ]
  },
  {
   "cell_type": "markdown",
   "metadata": {
    "id": "QJXAGeK0wVZV"
   },
   "source": [
    "### Col:Dewey\n",
    "**Dewey:**El dewey es un sistema númerico para la clasificación de material en bibliotecas a partir de temáticas. Aunque es un sistema generalizado y usado a nivel mundial, cada biblioteca lo personaliza para su beneficio. "
   ]
  },
  {
   "cell_type": "code",
   "execution_count": 37,
   "metadata": {
    "colab": {
     "base_uri": "https://localhost:8080/"
    },
    "executionInfo": {
     "elapsed": 9,
     "status": "ok",
     "timestamp": 1633064296461,
     "user": {
      "displayName": "juan sebastian angarita torres",
      "photoUrl": "https://lh3.googleusercontent.com/a-/AOh14GgjiV1o_Xb2Ov2kAJhpXcHsgVLy47m-BxyXrYYMfw=s64",
      "userId": "11476954540008106843"
     },
     "user_tz": 300
    },
    "id": "onIXvN4ByQa6",
    "outputId": "5eb7875b-683a-4cd5-db8b-ecc8e42181ac"
   },
   "outputs": [
    {
     "name": "stdout",
     "output_type": "stream",
     "text": [
      "Número de datos nulos: 14\n",
      "Número de datos únicos: 120\n",
      "Tipo de dato: <class 'str'>\n",
      "Ejemplo: 720\n"
     ]
    }
   ],
   "source": [
    "col = \"Dewey\"\n",
    "descripcion(dataset,col)"
   ]
  },
  {
   "cell_type": "code",
   "execution_count": 38,
   "metadata": {
    "colab": {
     "base_uri": "https://localhost:8080/"
    },
    "executionInfo": {
     "elapsed": 7,
     "status": "ok",
     "timestamp": 1633064296461,
     "user": {
      "displayName": "juan sebastian angarita torres",
      "photoUrl": "https://lh3.googleusercontent.com/a-/AOh14GgjiV1o_Xb2Ov2kAJhpXcHsgVLy47m-BxyXrYYMfw=s64",
      "userId": "11476954540008106843"
     },
     "user_tz": 300
    },
    "id": "6RoeCrq2yYlL",
    "outputId": "09f5eb8c-79ac-4a9b-9cda-15b1a49ea629"
   },
   "outputs": [
    {
     "data": {
      "text/plain": [
       "array(['720', '540', '510', '710', '740', '810', '820', '330', '860',\n",
       "       '690', '620', '150', '940', '570', '840', '800', 'Tesis', '300',\n",
       "       '350', '380', '130', 'Mapa', '340', '980', 'Revista', 'Video',\n",
       "       '700', 'Interbibliotecario', '360', '920', '750', '890', '420',\n",
       "       '650', 'Partitura', '0', '910', '680', '120', '370', '610', '450',\n",
       "       '790', '110', 'Grabación Sonora', '730', '580', '520', '590',\n",
       "       '930', '850', '500', '880', '900', '320', '240', '410', '70',\n",
       "       '490', '190', '260', '290', '970', 'Folleto', '770', '550', '530',\n",
       "       '630', '560', '670', '640', '830', '950', '440', '20', '250',\n",
       "       '660', '760', '170', '600', '780', '230', '140', '390', '180',\n",
       "       '270', '870', '430', '100', '10', '160', '220', '210', '470',\n",
       "       '400', '460', '60', '200', '480', '960', '310', '280', None,\n",
       "       'Tablet', 'Diapositiva', 'Xbox', '50', '90', 'Juego', '30',\n",
       "       'Video Juego', 'GRABACIÓN SONORA', 'TESIS', 'VIDEO', 'PARTITURA',\n",
       "       'INTERBIBLIOTECARIO', 'REVISTA', 'FOLLETO', 'MAPA', '990'],\n",
       "      dtype=object)"
      ]
     },
     "execution_count": 38,
     "metadata": {},
     "output_type": "execute_result"
    }
   ],
   "source": [
    "datasetPrestamos['Dewey'].unique()"
   ]
  },
  {
   "cell_type": "code",
   "execution_count": 39,
   "metadata": {
    "colab": {
     "base_uri": "https://localhost:8080/",
     "height": 717
    },
    "executionInfo": {
     "elapsed": 1858,
     "status": "ok",
     "timestamp": 1633064298313,
     "user": {
      "displayName": "juan sebastian angarita torres",
      "photoUrl": "https://lh3.googleusercontent.com/a-/AOh14GgjiV1o_Xb2Ov2kAJhpXcHsgVLy47m-BxyXrYYMfw=s64",
      "userId": "11476954540008106843"
     },
     "user_tz": 300
    },
    "id": "fTBsMURgy0hk",
    "outputId": "6867a386-cbf2-4b42-8c45-226f183dabf6"
   },
   "outputs": [
    {
     "data": {
      "image/png": "[encoded data removed]",
      "text/plain": [
       "<Figure size 1800x720 with 1 Axes>"
      ]
     },
     "metadata": {
      "needs_background": "light"
     },
     "output_type": "display_data"
    }
   ],
   "source": [
    "histograma(dataset,col)"
   ]
  },
  {
   "cell_type": "markdown",
   "metadata": {
    "id": "dUBGHPTlyfrn"
   },
   "source": [
    "**Análisis:**Los deweys en el dataset llegan hasta la decena(en comparación a los sistemas tradicionales que llegan hasta la unidad). Así mismo encontramos Deweys no númericos los cuales señalan el material bibliográfico diferentes a libros con los cuales cuenta la biblioteca y ofrece a la comunidad educativa. \n",
    "\n",
    "El conjunto de deweys no númericos es el siguiente: {\n",
    "* Categoría(nombre)   Descripción\n",
    "* Video\n",
    "* Partitura\n",
    "* Revista\n",
    "* interbibliotecario\n",
    "* Grabación Sonora\n",
    "* Revista \n",
    "* Partitura \n",
    "* Folleto \n",
    "* Diapositiva \n",
    "* Mapa \n",
    "* Juego \n",
    "* Tablet\n",
    "\n",
    "}\n",
    "De estos ítems el único que no hace referencia a un tipo de material especial es \"interbibliotecario\" que hace referencia a un tipo de prestamo, donde el material prestado es solicitado a otra biblioteca."
   ]
  },
  {
   "cell_type": "markdown",
   "metadata": {
    "id": "vJNVFq-Aglby"
   },
   "source": [
    "Las categorías asociadas al Dewey se pueden consultar en el siguiente enlace: https://www.oclc.org/content/dam/oclc/dewey/resources/summaries/deweysummaries.pdf"
   ]
  },
  {
   "cell_type": "markdown",
   "metadata": {
    "id": "AvoKzQ05F1rJ"
   },
   "source": [
    "### Col: Biblioteca\n",
    "**Descripción:** Lugar al que pertenece el material. Dado que solo se trabaja con el material bibliográfico de la biblioteca general esta columna tiene un único dato. "
   ]
  },
  {
   "cell_type": "code",
   "execution_count": 40,
   "metadata": {
    "colab": {
     "base_uri": "https://localhost:8080/"
    },
    "executionInfo": {
     "elapsed": 9,
     "status": "ok",
     "timestamp": 1633064298313,
     "user": {
      "displayName": "juan sebastian angarita torres",
      "photoUrl": "https://lh3.googleusercontent.com/a-/AOh14GgjiV1o_Xb2Ov2kAJhpXcHsgVLy47m-BxyXrYYMfw=s64",
      "userId": "11476954540008106843"
     },
     "user_tz": 300
    },
    "id": "LLycQElVpqmB",
    "outputId": "d7497972-cd75-4e5b-db14-97c217bc84e9"
   },
   "outputs": [
    {
     "name": "stdout",
     "output_type": "stream",
     "text": [
      "Número de datos nulos: 0\n",
      "Número de datos únicos: 1\n",
      "Tipo de dato: <class 'str'>\n",
      "Ejemplo: B-GENERAL\n"
     ]
    }
   ],
   "source": [
    "col = \"Biblioteca\"\n",
    "descripcion(dataset,col)"
   ]
  },
  {
   "cell_type": "markdown",
   "metadata": {
    "id": "_4LDtBwMGKzx"
   },
   "source": [
    "### Col:Ubicación\n",
    "**Descripción:** Ubicación del material bibliográfico  al interior de la biblioteca. Es el nombre del lugar físico. \n"
   ]
  },
  {
   "cell_type": "code",
   "execution_count": 41,
   "metadata": {
    "colab": {
     "base_uri": "https://localhost:8080/"
    },
    "executionInfo": {
     "elapsed": 5,
     "status": "ok",
     "timestamp": 1633064298313,
     "user": {
      "displayName": "juan sebastian angarita torres",
      "photoUrl": "https://lh3.googleusercontent.com/a-/AOh14GgjiV1o_Xb2Ov2kAJhpXcHsgVLy47m-BxyXrYYMfw=s64",
      "userId": "11476954540008106843"
     },
     "user_tz": 300
    },
    "id": "Ts885VM2Gypb",
    "outputId": "444f464f-8b1f-449d-b666-6c0c087654b8"
   },
   "outputs": [
    {
     "name": "stdout",
     "output_type": "stream",
     "text": [
      "Número de datos nulos: 0\n",
      "Número de datos únicos: 48\n",
      "Tipo de dato: <class 'str'>\n",
      "Ejemplo: COL-GRAL-2\n"
     ]
    }
   ],
   "source": [
    "col = \"Ubicación\"\n",
    "descripcion(dataset,col)"
   ]
  },
  {
   "cell_type": "code",
   "execution_count": 42,
   "metadata": {
    "colab": {
     "base_uri": "https://localhost:8080/"
    },
    "executionInfo": {
     "elapsed": 4,
     "status": "ok",
     "timestamp": 1633064298314,
     "user": {
      "displayName": "juan sebastian angarita torres",
      "photoUrl": "https://lh3.googleusercontent.com/a-/AOh14GgjiV1o_Xb2Ov2kAJhpXcHsgVLy47m-BxyXrYYMfw=s64",
      "userId": "11476954540008106843"
     },
     "user_tz": 300
    },
    "id": "CcdxxEnjImMg",
    "outputId": "c4030b80-176f-40fe-adb0-aa5d825bdda2"
   },
   "outputs": [
    {
     "data": {
      "text/plain": [
       "array(['COL-GRAL-2', 'COL-GRAL-3', 'COL-GRAL-0', 'COL-GRAL-4',\n",
       "       'SALA-TESIS', 'REFERENCIA', 'HEMEROTECA', 'AUDIOVISUA',\n",
       "       'COL-ALTERN', 'P-INTERBIB', 'SALA-MUSIC', 'LIT-INFANT',\n",
       "       'LIT-JUVENI', 'RESERVA-2', 'DEPOSITO1', 'RESERVA-3', 'JURISPRUDE',\n",
       "       'PERDIDO', 'TABLET', 'PRESTADO', 'SALAEXPO', 'VALIOSOS',\n",
       "       'EN-ENCUADE', 'RESERVADO', 'RESERVA', 'RESERVA-0', 'SALA-VIDEO',\n",
       "       'SALAPISOMU', 'SALAPISO', 'SALAEXPO-0', 'SALAEXPO-2', 'NOVEDADES',\n",
       "       'CATALOGA', 'RESERVA-4', 'SALA-VIRTU', 'PAGOXOTRO', 'REPOSICION',\n",
       "       'SALAPISO-2', 'DESCARTADO', 'DEPOSITO4', 'LIT-INFANTIL',\n",
       "       'DEPOSITO3', 'LABORAT-BI', 'TESIS-REST', 'SALAESCRIT',\n",
       "       'COLEC-GRAL', 'EN-LINEA', 'SALAEXPO-4'], dtype=object)"
      ]
     },
     "execution_count": 42,
     "metadata": {},
     "output_type": "execute_result"
    }
   ],
   "source": [
    "datasetPrestamos[\"Ubicación\"].unique()"
   ]
  },
  {
   "cell_type": "markdown",
   "metadata": {
    "id": "fC2uq8gwHFZG"
   },
   "source": [
    "La descripción de cada uno de los valores de este atributo se describen en la siguiente tabla: \n",
    "\n",
    "Categoría(nombre)   | Descripción\n",
    "--------------------|------------------\n",
    "Colección de Referencia| Piso 1\n",
    "AUDIOVISUA| Sótano 2 (alberga videos, blu-ray, videos beta y vhs, películas).\n",
    "CATALOGA| Indica que el registro está en proceso de Catalogación y aún no está disponible para préstamo\n",
    "COL-ALTERN| Indica que son ítems que se enviarán a Depósito\n",
    "COL-GRAL-0, COL-GRAL-1, COL-GRAL-2, COL-GRAL-3, COL-GRAL-4| Ubicaciones de las Colecciones de los pisos 0 al 4.\n",
    "DEPÓSITO| Ítems que no están disponibles en la Colección\n",
    "HEMEROTECA| Ubicación donde se encuentran las Revistas. Sótano 2\n",
    "JURISPRUDE| Colección del área de Ciencias Jurídicas\n",
    "LIT-INFANT| Literatura Infantil\n",
    "LIT-JUVENI| Literatura Juvenil.\n",
    "PERDIDO| Ítems reportados como perdidos.\n",
    "P-INTERBIB| Significa Préstamos Interbibliotecarios. Estos ítems no hacen parte de la Biblioteca General.<br/> Son ítems solicitados a otras bibliotecas en calidad de préstamo.\n",
    "REFERENCIA| Colección de Referencia Piso 1\n",
    "RESERVA-2, RESERVA-3| Ítems solicitados como Reserva Académica de los piso 2 y 3.\n",
    "SALA-MUSIC| Sala de Música\n",
    "SALAPISOMU| Consulta en Sala de Música.\n",
    "SALA-TESIS| Sala de Tesis. Sótano 2.\n",
    "VALIOSOS| Colección de Libros Valiosos."
   ]
  },
  {
   "cell_type": "markdown",
   "metadata": {
    "id": "0keWZji3H2Xe"
   },
   "source": [
    "**Análisis:**Al igual que el atributo de \"Numero de ubicacion\" el atributo \"Ubicacion\" nos puede servir para ayudar a que el usuario ubique de manera sencilla el material recomendado. "
   ]
  },
  {
   "cell_type": "markdown",
   "metadata": {
    "id": "b7V5k6ktLrei"
   },
   "source": [
    "### Col: Tipo de Ítem\n",
    "**Descripción:** Describe el tipo de material. "
   ]
  },
  {
   "cell_type": "code",
   "execution_count": 43,
   "metadata": {
    "colab": {
     "base_uri": "https://localhost:8080/"
    },
    "executionInfo": {
     "elapsed": 251,
     "status": "ok",
     "timestamp": 1633064298563,
     "user": {
      "displayName": "juan sebastian angarita torres",
      "photoUrl": "https://lh3.googleusercontent.com/a-/AOh14GgjiV1o_Xb2Ov2kAJhpXcHsgVLy47m-BxyXrYYMfw=s64",
      "userId": "11476954540008106843"
     },
     "user_tz": 300
    },
    "id": "uKtJXd2vL3ZZ",
    "outputId": "8996e775-16e8-4c26-8733-72e2b6f12ab1"
   },
   "outputs": [
    {
     "name": "stdout",
     "output_type": "stream",
     "text": [
      "Número de datos nulos: 0\n",
      "Número de datos únicos: 25\n",
      "Tipo de dato: <class 'str'>\n",
      "Ejemplo: LIBRO\n"
     ]
    }
   ],
   "source": [
    "col = \"Tipo de ítem\"\n",
    "descripcion(dataset,col)"
   ]
  },
  {
   "cell_type": "code",
   "execution_count": 44,
   "metadata": {
    "colab": {
     "base_uri": "https://localhost:8080/"
    },
    "executionInfo": {
     "elapsed": 3,
     "status": "ok",
     "timestamp": 1633064298563,
     "user": {
      "displayName": "juan sebastian angarita torres",
      "photoUrl": "https://lh3.googleusercontent.com/a-/AOh14GgjiV1o_Xb2Ov2kAJhpXcHsgVLy47m-BxyXrYYMfw=s64",
      "userId": "11476954540008106843"
     },
     "user_tz": 300
    },
    "id": "oYdSHo4OMCR_",
    "outputId": "6a063354-4989-4aa7-b0ab-2b3e08bdb72b"
   },
   "outputs": [
    {
     "data": {
      "text/plain": [
       "array(['LIBRO', 'LITERATURA', 'TESIS', 'REFERENCIA', 'MAPA', 'REVISTA',\n",
       "       'VIDEO', 'P-INTJAVER', 'PARTITURA', 'GRAB-SONOR', 'FOLLETO',\n",
       "       'RESERVA', 'TABLET', 'RESERVAVID', 'CD-ROM', 'INVESTIGA',\n",
       "       'MAT-GRAFI', 'JUEGO', 'DAõNA-PERDI', 'DIAPOSITIV', 'XBOX',\n",
       "       'PELICULA', 'OBJ-TRIDI', 'DVD-ROM', 'VIDEOJUEGO'], dtype=object)"
      ]
     },
     "execution_count": 44,
     "metadata": {},
     "output_type": "execute_result"
    }
   ],
   "source": [
    "datasetPrestamos[\"Tipo de ítem\"].unique()"
   ]
  },
  {
   "cell_type": "code",
   "execution_count": 45,
   "metadata": {
    "colab": {
     "base_uri": "https://localhost:8080/",
     "height": 680
    },
    "executionInfo": {
     "elapsed": 1344,
     "status": "ok",
     "timestamp": 1633064299906,
     "user": {
      "displayName": "juan sebastian angarita torres",
      "photoUrl": "https://lh3.googleusercontent.com/a-/AOh14GgjiV1o_Xb2Ov2kAJhpXcHsgVLy47m-BxyXrYYMfw=s64",
      "userId": "11476954540008106843"
     },
     "user_tz": 300
    },
    "id": "vzVyvv3dMev4",
    "outputId": "73420d3e-ae11-4d7e-b262-740477d19a51"
   },
   "outputs": [
    {
     "data": {
      "image/png": "[encoded data removed]",
      "text/plain": [
       "<Figure size 1800x720 with 1 Axes>"
      ]
     },
     "metadata": {
      "needs_background": "light"
     },
     "output_type": "display_data"
    }
   ],
   "source": [
    "histograma(dataset,col)"
   ]
  },
  {
   "cell_type": "code",
   "execution_count": 46,
   "metadata": {
    "colab": {
     "base_uri": "https://localhost:8080/",
     "height": 824
    },
    "executionInfo": {
     "elapsed": 18,
     "status": "ok",
     "timestamp": 1633064300131,
     "user": {
      "displayName": "juan sebastian angarita torres",
      "photoUrl": "https://lh3.googleusercontent.com/a-/AOh14GgjiV1o_Xb2Ov2kAJhpXcHsgVLy47m-BxyXrYYMfw=s64",
      "userId": "11476954540008106843"
     },
     "user_tz": 300
    },
    "id": "-KE2PhveS3f5",
    "outputId": "5f58c8d0-53db-4931-f6ea-adb37da1307a"
   },
   "outputs": [
    {
     "data": {
      "text/html": [
       "<div>\n",
       "<style scoped>\n",
       "    .dataframe tbody tr th:only-of-type {\n",
       "        vertical-align: middle;\n",
       "    }\n",
       "\n",
       "    .dataframe tbody tr th {\n",
       "        vertical-align: top;\n",
       "    }\n",
       "\n",
       "    .dataframe thead th {\n",
       "        text-align: right;\n",
       "    }\n",
       "</style>\n",
       "<table border=\"1\" class=\"dataframe\">\n",
       "  <thead>\n",
       "    <tr style=\"text-align: right;\">\n",
       "      <th>Tipo de ítem</th>\n",
       "      <th>Procentaje (%)</th>\n",
       "    </tr>\n",
       "  </thead>\n",
       "  <tbody>\n",
       "    <tr>\n",
       "      <th>LIBRO</th>\n",
       "      <td>77.773552</td>\n",
       "    </tr>\n",
       "    <tr>\n",
       "      <th>LITERATURA</th>\n",
       "      <td>13.786704</td>\n",
       "    </tr>\n",
       "    <tr>\n",
       "      <th>VIDEO</th>\n",
       "      <td>2.172975</td>\n",
       "    </tr>\n",
       "    <tr>\n",
       "      <th>PARTITURA</th>\n",
       "      <td>1.193643</td>\n",
       "    </tr>\n",
       "    <tr>\n",
       "      <th>RESERVA</th>\n",
       "      <td>1.147054</td>\n",
       "    </tr>\n",
       "    <tr>\n",
       "      <th>REFERENCIA</th>\n",
       "      <td>1.058819</td>\n",
       "    </tr>\n",
       "    <tr>\n",
       "      <th>REVISTA</th>\n",
       "      <td>0.785367</td>\n",
       "    </tr>\n",
       "    <tr>\n",
       "      <th>P-INTJAVER</th>\n",
       "      <td>0.638942</td>\n",
       "    </tr>\n",
       "    <tr>\n",
       "      <th>TESIS</th>\n",
       "      <td>0.588740</td>\n",
       "    </tr>\n",
       "    <tr>\n",
       "      <th>GRAB-SONOR</th>\n",
       "      <td>0.490616</td>\n",
       "    </tr>\n",
       "    <tr>\n",
       "      <th>FOLLETO</th>\n",
       "      <td>0.141480</td>\n",
       "    </tr>\n",
       "    <tr>\n",
       "      <th>CD-ROM</th>\n",
       "      <td>0.126648</td>\n",
       "    </tr>\n",
       "    <tr>\n",
       "      <th>TABLET</th>\n",
       "      <td>0.021678</td>\n",
       "    </tr>\n",
       "    <tr>\n",
       "      <th>RESERVAVID</th>\n",
       "      <td>0.015593</td>\n",
       "    </tr>\n",
       "    <tr>\n",
       "      <th>VIDEOJUEGO</th>\n",
       "      <td>0.013311</td>\n",
       "    </tr>\n",
       "    <tr>\n",
       "      <th>MAPA</th>\n",
       "      <td>0.012931</td>\n",
       "    </tr>\n",
       "    <tr>\n",
       "      <th>JUEGO</th>\n",
       "      <td>0.010839</td>\n",
       "    </tr>\n",
       "    <tr>\n",
       "      <th>MAT-GRAFI</th>\n",
       "      <td>0.006846</td>\n",
       "    </tr>\n",
       "    <tr>\n",
       "      <th>DIAPOSITIV</th>\n",
       "      <td>0.004184</td>\n",
       "    </tr>\n",
       "    <tr>\n",
       "      <th>DVD-ROM</th>\n",
       "      <td>0.003613</td>\n",
       "    </tr>\n",
       "    <tr>\n",
       "      <th>DAõNA-PERDI</th>\n",
       "      <td>0.002662</td>\n",
       "    </tr>\n",
       "    <tr>\n",
       "      <th>OBJ-TRIDI</th>\n",
       "      <td>0.001902</td>\n",
       "    </tr>\n",
       "    <tr>\n",
       "      <th>INVESTIGA</th>\n",
       "      <td>0.001521</td>\n",
       "    </tr>\n",
       "    <tr>\n",
       "      <th>XBOX</th>\n",
       "      <td>0.000190</td>\n",
       "    </tr>\n",
       "    <tr>\n",
       "      <th>PELICULA</th>\n",
       "      <td>0.000190</td>\n",
       "    </tr>\n",
       "  </tbody>\n",
       "</table>\n",
       "</div>"
      ],
      "text/plain": [
       "Tipo de ítem  Procentaje (%)\n",
       "LIBRO              77.773552\n",
       "LITERATURA         13.786704\n",
       "VIDEO               2.172975\n",
       "PARTITURA           1.193643\n",
       "RESERVA             1.147054\n",
       "REFERENCIA          1.058819\n",
       "REVISTA             0.785367\n",
       "P-INTJAVER          0.638942\n",
       "TESIS               0.588740\n",
       "GRAB-SONOR          0.490616\n",
       "FOLLETO             0.141480\n",
       "CD-ROM              0.126648\n",
       "TABLET              0.021678\n",
       "RESERVAVID          0.015593\n",
       "VIDEOJUEGO          0.013311\n",
       "MAPA                0.012931\n",
       "JUEGO               0.010839\n",
       "MAT-GRAFI           0.006846\n",
       "DIAPOSITIV          0.004184\n",
       "DVD-ROM             0.003613\n",
       "DAõNA-PERDI         0.002662\n",
       "OBJ-TRIDI           0.001902\n",
       "INVESTIGA           0.001521\n",
       "XBOX                0.000190\n",
       "PELICULA            0.000190"
      ]
     },
     "metadata": {},
     "output_type": "display_data"
    }
   ],
   "source": [
    "frecuencias(dataset,col)\n"
   ]
  },
  {
   "cell_type": "markdown",
   "metadata": {
    "id": "u0DDHbezNe01"
   },
   "source": [
    "**Análisis:**Podemos encontrar que la mayoría del material de la biblioteca están en la categría \"Libro\" seguido de \"Literatura\". El resto de categorías no tienen un alto número de prestamos y corresponden en su mayoría a otro tipo de material bibliográfico que presta la biblioteca. Notar los tipos de deweys no númericos están directamente asociados con el tipo de ítem al que pertenecen teniendo el mismo valor en ambas columnas. "
   ]
  },
  {
   "cell_type": "markdown",
   "metadata": {
    "id": "4-qOz6I4YbIY"
   },
   "source": [
    "### Col: Llaves\n",
    "**Descripción:** Las llaves desginan un id a los libros no por copia física sino por el libro en sí. Si un libro tiene varias copias, todas las copias tienen diferente ID más tendrán la misma llave. "
   ]
  },
  {
   "cell_type": "code",
   "execution_count": 47,
   "metadata": {
    "colab": {
     "base_uri": "https://localhost:8080/"
    },
    "executionInfo": {
     "elapsed": 19,
     "status": "ok",
     "timestamp": 1633064300132,
     "user": {
      "displayName": "juan sebastian angarita torres",
      "photoUrl": "https://lh3.googleusercontent.com/a-/AOh14GgjiV1o_Xb2Ov2kAJhpXcHsgVLy47m-BxyXrYYMfw=s64",
      "userId": "11476954540008106843"
     },
     "user_tz": 300
    },
    "id": "f96vl8stX-uz",
    "outputId": "190ccc90-c365-4c0d-ba3f-c53a93697148"
   },
   "outputs": [
    {
     "name": "stdout",
     "output_type": "stream",
     "text": [
      "Número de datos nulos: 0\n",
      "Número de datos únicos: 102171\n",
      "Tipo de dato: <class 'str'>\n",
      "Ejemplo: 866245\n"
     ]
    }
   ],
   "source": [
    "col = \"Llaves\"\n",
    "descripcion(dataset,col)"
   ]
  },
  {
   "cell_type": "markdown",
   "metadata": {
    "id": "quuyWVdUZaUH"
   },
   "source": [
    "**Análisis:**Encontramos que hay más de 100.000 ítems diferentes prestados en la biblioteca general. "
   ]
  },
  {
   "cell_type": "markdown",
   "metadata": {
    "id": "BiZ5pr-Mfh7s"
   },
   "source": [
    "### Col: Perfil\n",
    "**Descripción:** categoría de la persona que realizó el prestamos. \n",
    "La siguiente tabla resume las diferentes categorías que tiene esta atributo: \n",
    "\n"
   ]
  },
  {
   "cell_type": "markdown",
   "metadata": {
    "id": "tFvjG3ROZ4Qc"
   },
   "source": [
    "\n",
    "Categoría  | Descripción\n",
    "--------------------|------------------\n",
    "A-EGRESADO| Egresado Afiliado\n",
    "EP| Estudiante de pregrado\n",
    "EC| Estudiante de cursos libres\n",
    "EG| Estudiante de postgrado\n",
    "ET| Estudiante en Tesis\n",
    "EJ| Empleado Javeriano\n",
    "JE| Jesuita\n",
    "PA| Profesor Ad Honorem\n",
    "PH| Profesor hora cátedra\n",
    "PP| Profesor\n",
    "PM| Profesor medio tiempo\n",
    "PT| Profesor titular / tiempo completo\n",
    "UP| Usuario con préstamo\n",
    "UV| Usuario visitante\n",
    "UPHUSI| Usuario Hospital San Ignacio"
   ]
  },
  {
   "cell_type": "code",
   "execution_count": 48,
   "metadata": {
    "colab": {
     "base_uri": "https://localhost:8080/"
    },
    "executionInfo": {
     "elapsed": 13,
     "status": "ok",
     "timestamp": 1633064300132,
     "user": {
      "displayName": "juan sebastian angarita torres",
      "photoUrl": "https://lh3.googleusercontent.com/a-/AOh14GgjiV1o_Xb2Ov2kAJhpXcHsgVLy47m-BxyXrYYMfw=s64",
      "userId": "11476954540008106843"
     },
     "user_tz": 300
    },
    "id": "kJ5hLii2ODnn",
    "outputId": "ac60888e-9a05-4344-f56c-17bc929efd22"
   },
   "outputs": [
    {
     "name": "stdout",
     "output_type": "stream",
     "text": [
      "Número de datos nulos: 0\n",
      "Número de datos únicos: 26\n",
      "Tipo de dato: <class 'str'>\n",
      "Ejemplo: A-EGRESADO\n"
     ]
    }
   ],
   "source": [
    "col = \"Perfil\"\n",
    "descripcion(dataset,col)"
   ]
  },
  {
   "cell_type": "code",
   "execution_count": 49,
   "metadata": {
    "colab": {
     "base_uri": "https://localhost:8080/",
     "height": 682
    },
    "executionInfo": {
     "elapsed": 11,
     "status": "ok",
     "timestamp": 1633064300132,
     "user": {
      "displayName": "juan sebastian angarita torres",
      "photoUrl": "https://lh3.googleusercontent.com/a-/AOh14GgjiV1o_Xb2Ov2kAJhpXcHsgVLy47m-BxyXrYYMfw=s64",
      "userId": "11476954540008106843"
     },
     "user_tz": 300
    },
    "id": "5w585L9-hFzK",
    "outputId": "752cc3f7-888d-4194-a404-969cf3952356"
   },
   "outputs": [
    {
     "data": {
      "image/png": "[encoded data removed]",
      "text/plain": [
       "<Figure size 1800x720 with 1 Axes>"
      ]
     },
     "metadata": {
      "needs_background": "light"
     },
     "output_type": "display_data"
    }
   ],
   "source": [
    "histograma(dataset,col)"
   ]
  },
  {
   "cell_type": "code",
   "execution_count": 50,
   "metadata": {
    "colab": {
     "base_uri": "https://localhost:8080/",
     "height": 855
    },
    "executionInfo": {
     "elapsed": 10,
     "status": "ok",
     "timestamp": 1633064300132,
     "user": {
      "displayName": "juan sebastian angarita torres",
      "photoUrl": "https://lh3.googleusercontent.com/a-/AOh14GgjiV1o_Xb2Ov2kAJhpXcHsgVLy47m-BxyXrYYMfw=s64",
      "userId": "11476954540008106843"
     },
     "user_tz": 300
    },
    "id": "tCS2Jf2yS4vc",
    "outputId": "67e7c2de-9398-493a-80c1-542f23316450"
   },
   "outputs": [
    {
     "data": {
      "text/html": [
       "<div>\n",
       "<style scoped>\n",
       "    .dataframe tbody tr th:only-of-type {\n",
       "        vertical-align: middle;\n",
       "    }\n",
       "\n",
       "    .dataframe tbody tr th {\n",
       "        vertical-align: top;\n",
       "    }\n",
       "\n",
       "    .dataframe thead th {\n",
       "        text-align: right;\n",
       "    }\n",
       "</style>\n",
       "<table border=\"1\" class=\"dataframe\">\n",
       "  <thead>\n",
       "    <tr style=\"text-align: right;\">\n",
       "      <th>Perfil</th>\n",
       "      <th>Procentaje (%)</th>\n",
       "    </tr>\n",
       "  </thead>\n",
       "  <tbody>\n",
       "    <tr>\n",
       "      <th>EP</th>\n",
       "      <td>56.337795</td>\n",
       "    </tr>\n",
       "    <tr>\n",
       "      <th>A-EGRESADO</th>\n",
       "      <td>15.074667</td>\n",
       "    </tr>\n",
       "    <tr>\n",
       "      <th>EG</th>\n",
       "      <td>9.572726</td>\n",
       "    </tr>\n",
       "    <tr>\n",
       "      <th>PH</th>\n",
       "      <td>4.953135</td>\n",
       "    </tr>\n",
       "    <tr>\n",
       "      <th>PT</th>\n",
       "      <td>4.545619</td>\n",
       "    </tr>\n",
       "    <tr>\n",
       "      <th>EJ</th>\n",
       "      <td>4.296888</td>\n",
       "    </tr>\n",
       "    <tr>\n",
       "      <th>EX</th>\n",
       "      <td>2.231925</td>\n",
       "    </tr>\n",
       "    <tr>\n",
       "      <th>ENCUADERNA</th>\n",
       "      <td>0.682109</td>\n",
       "    </tr>\n",
       "    <tr>\n",
       "      <th>ET</th>\n",
       "      <td>0.617644</td>\n",
       "    </tr>\n",
       "    <tr>\n",
       "      <th>PM</th>\n",
       "      <td>0.519521</td>\n",
       "    </tr>\n",
       "    <tr>\n",
       "      <th>PIO</th>\n",
       "      <td>0.426152</td>\n",
       "    </tr>\n",
       "    <tr>\n",
       "      <th>E-PREU</th>\n",
       "      <td>0.170575</td>\n",
       "    </tr>\n",
       "    <tr>\n",
       "      <th>UPHUSI</th>\n",
       "      <td>0.162778</td>\n",
       "    </tr>\n",
       "    <tr>\n",
       "      <th>CUARENTENA</th>\n",
       "      <td>0.107631</td>\n",
       "    </tr>\n",
       "    <tr>\n",
       "      <th>PP</th>\n",
       "      <td>0.094700</td>\n",
       "    </tr>\n",
       "    <tr>\n",
       "      <th>EC</th>\n",
       "      <td>0.056668</td>\n",
       "    </tr>\n",
       "    <tr>\n",
       "      <th>JE</th>\n",
       "      <td>0.050203</td>\n",
       "    </tr>\n",
       "    <tr>\n",
       "      <th>PICOLEGIO</th>\n",
       "      <td>0.044117</td>\n",
       "    </tr>\n",
       "    <tr>\n",
       "      <th>UP</th>\n",
       "      <td>0.031567</td>\n",
       "    </tr>\n",
       "    <tr>\n",
       "      <th>UV</th>\n",
       "      <td>0.013121</td>\n",
       "    </tr>\n",
       "    <tr>\n",
       "      <th>PA</th>\n",
       "      <td>0.005515</td>\n",
       "    </tr>\n",
       "    <tr>\n",
       "      <th>CIRC</th>\n",
       "      <td>0.002472</td>\n",
       "    </tr>\n",
       "    <tr>\n",
       "      <th>PI</th>\n",
       "      <td>0.001141</td>\n",
       "    </tr>\n",
       "    <tr>\n",
       "      <th>PUBLIC</th>\n",
       "      <td>0.000570</td>\n",
       "    </tr>\n",
       "    <tr>\n",
       "      <th>LCDUENAS</th>\n",
       "      <td>0.000380</td>\n",
       "    </tr>\n",
       "    <tr>\n",
       "      <th>ADMIN</th>\n",
       "      <td>0.000380</td>\n",
       "    </tr>\n",
       "  </tbody>\n",
       "</table>\n",
       "</div>"
      ],
      "text/plain": [
       "Perfil      Procentaje (%)\n",
       "EP               56.337795\n",
       "A-EGRESADO       15.074667\n",
       "EG                9.572726\n",
       "PH                4.953135\n",
       "PT                4.545619\n",
       "EJ                4.296888\n",
       "EX                2.231925\n",
       "ENCUADERNA        0.682109\n",
       "ET                0.617644\n",
       "PM                0.519521\n",
       "PIO               0.426152\n",
       "E-PREU            0.170575\n",
       "UPHUSI            0.162778\n",
       "CUARENTENA        0.107631\n",
       "PP                0.094700\n",
       "EC                0.056668\n",
       "JE                0.050203\n",
       "PICOLEGIO         0.044117\n",
       "UP                0.031567\n",
       "UV                0.013121\n",
       "PA                0.005515\n",
       "CIRC              0.002472\n",
       "PI                0.001141\n",
       "PUBLIC            0.000570\n",
       "LCDUENAS          0.000380\n",
       "ADMIN             0.000380"
      ]
     },
     "metadata": {},
     "output_type": "display_data"
    }
   ],
   "source": [
    "frecuencias(dataset,col)\n"
   ]
  },
  {
   "cell_type": "markdown",
   "metadata": {
    "id": "ctDY5Wb2heNp"
   },
   "source": [
    "**Análisis:**Notamos que la mayoría de prestamos están distribuidos entre los estudiantes(pregrado y posgrado), egresados y profesores(catedra y de planta)."
   ]
  },
  {
   "cell_type": "markdown",
   "metadata": {
    "id": "GFGILA_th08E"
   },
   "source": [
    "### Col: Categoría 1\n",
    "**Descripción:** Incluye información relativa a los usuarios. "
   ]
  },
  {
   "cell_type": "code",
   "execution_count": 51,
   "metadata": {
    "colab": {
     "base_uri": "https://localhost:8080/"
    },
    "executionInfo": {
     "elapsed": 9,
     "status": "ok",
     "timestamp": 1633064300132,
     "user": {
      "displayName": "juan sebastian angarita torres",
      "photoUrl": "https://lh3.googleusercontent.com/a-/AOh14GgjiV1o_Xb2Ov2kAJhpXcHsgVLy47m-BxyXrYYMfw=s64",
      "userId": "11476954540008106843"
     },
     "user_tz": 300
    },
    "id": "ZJgRt-1qh-wk",
    "outputId": "01c834e4-58f4-4758-a792-9b55dbbd2258"
   },
   "outputs": [
    {
     "name": "stdout",
     "output_type": "stream",
     "text": [
      "Número de datos nulos: 0\n",
      "Número de datos únicos: 483\n",
      "Tipo de dato: <class 'str'>\n",
      "Ejemplo: ARQUI\n"
     ]
    }
   ],
   "source": [
    "col = \"Categoría 1\"\n",
    "descripcion(dataset,col)"
   ]
  },
  {
   "cell_type": "code",
   "execution_count": 52,
   "metadata": {
    "colab": {
     "base_uri": "https://localhost:8080/"
    },
    "executionInfo": {
     "elapsed": 8,
     "status": "ok",
     "timestamp": 1633064300133,
     "user": {
      "displayName": "juan sebastian angarita torres",
      "photoUrl": "https://lh3.googleusercontent.com/a-/AOh14GgjiV1o_Xb2Ov2kAJhpXcHsgVLy47m-BxyXrYYMfw=s64",
      "userId": "11476954540008106843"
     },
     "user_tz": 300
    },
    "id": "zmAd8sGkiFCx",
    "outputId": "4222ec28-b33e-452e-ca68-45ec18ece636"
   },
   "outputs": [
    {
     "data": {
      "text/plain": [
       "0         ARQUI\n",
       "1         ARQUI\n",
       "2         ARQUI\n",
       "3         ARQUI\n",
       "4         ARQUI\n",
       "          ...  \n",
       "543896    ARTVI\n",
       "543897    ARTVI\n",
       "543898    ARTVI\n",
       "543899    RLINT\n",
       "543900    MESAL\n",
       "Name: Categoría 1, Length: 525869, dtype: object"
      ]
     },
     "execution_count": 52,
     "metadata": {},
     "output_type": "execute_result"
    }
   ],
   "source": [
    "datasetPrestamos[\"Categoría 1\"]"
   ]
  },
  {
   "cell_type": "markdown",
   "metadata": {
    "id": "NdVanUX0VwiR"
   },
   "source": [
    "**Análisis:** Este atributo no ofrece información que nos pueda ser útil para los sistemas de recomendación. Logramos encontrar información más detallada sobre la temática de los libros en atributos como Dewey. "
   ]
  },
  {
   "cell_type": "markdown",
   "metadata": {
    "id": "We6Ju9trimNL"
   },
   "source": [
    "### Col: Programa\n",
    "**Descripción:** Describe el programa al cuál pertenece la persona."
   ]
  },
  {
   "cell_type": "code",
   "execution_count": 53,
   "metadata": {
    "colab": {
     "base_uri": "https://localhost:8080/"
    },
    "executionInfo": {
     "elapsed": 7,
     "status": "ok",
     "timestamp": 1633064300133,
     "user": {
      "displayName": "juan sebastian angarita torres",
      "photoUrl": "https://lh3.googleusercontent.com/a-/AOh14GgjiV1o_Xb2Ov2kAJhpXcHsgVLy47m-BxyXrYYMfw=s64",
      "userId": "11476954540008106843"
     },
     "user_tz": 300
    },
    "id": "6tb_P1zEit6J",
    "outputId": "9f2048f2-c78e-4620-8e9a-9def7cc55afe"
   },
   "outputs": [
    {
     "name": "stdout",
     "output_type": "stream",
     "text": [
      "Número de datos nulos: 0\n",
      "Número de datos únicos: 473\n",
      "Tipo de dato: <class 'str'>\n",
      "Ejemplo: CARRERA DE ARQUITECTURA\n"
     ]
    }
   ],
   "source": [
    "col = \"Programa\"\n",
    "descripcion(dataset,col)"
   ]
  },
  {
   "cell_type": "code",
   "execution_count": 54,
   "metadata": {
    "colab": {
     "base_uri": "https://localhost:8080/",
     "height": 845
    },
    "executionInfo": {
     "elapsed": 505,
     "status": "ok",
     "timestamp": 1633064300633,
     "user": {
      "displayName": "juan sebastian angarita torres",
      "photoUrl": "https://lh3.googleusercontent.com/a-/AOh14GgjiV1o_Xb2Ov2kAJhpXcHsgVLy47m-BxyXrYYMfw=s64",
      "userId": "11476954540008106843"
     },
     "user_tz": 300
    },
    "id": "2BclFOo8jGWr",
    "outputId": "60956faa-0459-41b0-c2a5-110e8e6c9493"
   },
   "outputs": [
    {
     "data": {
      "text/plain": [
       "<AxesSubplot:title={'center':'Frecuencia de préstamos por perfil de usuario'}, xlabel='Perfil de usuario', ylabel='N de préstamos'>"
      ]
     },
     "execution_count": 54,
     "metadata": {},
     "output_type": "execute_result"
    },
    {
     "data": {
      "image/png": "[encoded data removed]",
      "text/plain": [
       "<Figure size 1800x720 with 1 Axes>"
      ]
     },
     "metadata": {
      "needs_background": "light"
     },
     "output_type": "display_data"
    }
   ],
   "source": [
    "plt.figure(figsize=(25, 10))\n",
    "plt.title(\"Frecuencia de préstamos por perfil de usuario\")\n",
    "plt.xlabel(\"Perfil de usuario\")\n",
    "plt.ylabel(\"N de préstamos\")\n",
    "datasetPrestamos[\"Programa\"].value_counts()[0:12].plot(kind='bar')"
   ]
  },
  {
   "cell_type": "code",
   "execution_count": 55,
   "metadata": {
    "colab": {
     "base_uri": "https://localhost:8080/",
     "height": 419
    },
    "executionInfo": {
     "elapsed": 11,
     "status": "ok",
     "timestamp": 1633064300805,
     "user": {
      "displayName": "juan sebastian angarita torres",
      "photoUrl": "https://lh3.googleusercontent.com/a-/AOh14GgjiV1o_Xb2Ov2kAJhpXcHsgVLy47m-BxyXrYYMfw=s64",
      "userId": "11476954540008106843"
     },
     "user_tz": 300
    },
    "id": "QKp07hltS52d",
    "outputId": "b9bc75ac-16dc-4f8f-a7b8-5368ffdfb4b8"
   },
   "outputs": [
    {
     "data": {
      "text/html": [
       "<div>\n",
       "<style scoped>\n",
       "    .dataframe tbody tr th:only-of-type {\n",
       "        vertical-align: middle;\n",
       "    }\n",
       "\n",
       "    .dataframe tbody tr th {\n",
       "        vertical-align: top;\n",
       "    }\n",
       "\n",
       "    .dataframe thead th {\n",
       "        text-align: right;\n",
       "    }\n",
       "</style>\n",
       "<table border=\"1\" class=\"dataframe\">\n",
       "  <thead>\n",
       "    <tr style=\"text-align: right;\">\n",
       "      <th>Programa</th>\n",
       "      <th>Procentaje (%)</th>\n",
       "    </tr>\n",
       "  </thead>\n",
       "  <tbody>\n",
       "    <tr>\n",
       "      <th>CARRERA DE COMUNICACIÓN SOCIAL</th>\n",
       "      <td>5.126372</td>\n",
       "    </tr>\n",
       "    <tr>\n",
       "      <th>CARRERA DE DERECHO</th>\n",
       "      <td>4.294225</td>\n",
       "    </tr>\n",
       "    <tr>\n",
       "      <th>CARRERA DE ESTUDIOS LITERARIOS</th>\n",
       "      <td>3.904775</td>\n",
       "    </tr>\n",
       "    <tr>\n",
       "      <th>CARRERA DE ARTES VISUALES</th>\n",
       "      <td>3.655283</td>\n",
       "    </tr>\n",
       "    <tr>\n",
       "      <th>LICENCIATURA EN LENGUAS MODERNAS</th>\n",
       "      <td>3.055704</td>\n",
       "    </tr>\n",
       "    <tr>\n",
       "      <th>...</th>\n",
       "      <td>...</td>\n",
       "    </tr>\n",
       "    <tr>\n",
       "      <th>ESPECIALIZACIÓN EN DERECHO DE LA COMUNICACIÓN</th>\n",
       "      <td>0.000190</td>\n",
       "    </tr>\n",
       "    <tr>\n",
       "      <th>RECTORÍA</th>\n",
       "      <td>0.000190</td>\n",
       "    </tr>\n",
       "    <tr>\n",
       "      <th>Estudiantes de Cursos Libres</th>\n",
       "      <td>0.000190</td>\n",
       "    </tr>\n",
       "    <tr>\n",
       "      <th>DIRECCION DE SERVICIOS UNIVERSITARIOS --</th>\n",
       "      <td>0.000190</td>\n",
       "    </tr>\n",
       "    <tr>\n",
       "      <th>Preuniversitario de Ciencia Política</th>\n",
       "      <td>0.000190</td>\n",
       "    </tr>\n",
       "  </tbody>\n",
       "</table>\n",
       "<p>473 rows × 1 columns</p>\n",
       "</div>"
      ],
      "text/plain": [
       "Programa                                       Procentaje (%)\n",
       "CARRERA DE COMUNICACIÓN SOCIAL                       5.126372\n",
       "CARRERA DE DERECHO                                   4.294225\n",
       "CARRERA DE ESTUDIOS LITERARIOS                       3.904775\n",
       "CARRERA DE ARTES VISUALES                            3.655283\n",
       "LICENCIATURA EN LENGUAS MODERNAS                     3.055704\n",
       "...                                                       ...\n",
       "ESPECIALIZACIÓN EN DERECHO DE LA COMUNICACIÓN        0.000190\n",
       "RECTORÍA                                             0.000190\n",
       "Estudiantes de Cursos Libres                         0.000190\n",
       "DIRECCION DE SERVICIOS UNIVERSITARIOS --             0.000190\n",
       "Preuniversitario de Ciencia Política                 0.000190\n",
       "\n",
       "[473 rows x 1 columns]"
      ]
     },
     "metadata": {},
     "output_type": "display_data"
    }
   ],
   "source": [
    "frecuencias(dataset,col)\n"
   ]
  },
  {
   "cell_type": "markdown",
   "metadata": {
    "id": "2s_lX1tfUgRI"
   },
   "source": [
    "**Análisis:** En primer lugar resaltar que nos encontramos con más de 400 programas educativos entre carreras de pregrado y posgrado que ofrece la PUJ. Encontramos así mismo que las carreraas que realizan mayor cantidad de prestamos en la biblioteca son \"Comunicación social\" y \"Derecho\". "
   ]
  },
  {
   "cell_type": "markdown",
   "metadata": {
    "id": "14x60BTSjuWs"
   },
   "source": [
    "### Col: Facultad\n",
    "**Descripción:** Carrera a la cual pertenece la persona que realizó el prestamo."
   ]
  },
  {
   "cell_type": "code",
   "execution_count": 56,
   "metadata": {
    "colab": {
     "base_uri": "https://localhost:8080/"
    },
    "executionInfo": {
     "elapsed": 10,
     "status": "ok",
     "timestamp": 1633064300805,
     "user": {
      "displayName": "juan sebastian angarita torres",
      "photoUrl": "https://lh3.googleusercontent.com/a-/AOh14GgjiV1o_Xb2Ov2kAJhpXcHsgVLy47m-BxyXrYYMfw=s64",
      "userId": "11476954540008106843"
     },
     "user_tz": 300
    },
    "id": "kkKd5gEkj3Zg",
    "outputId": "2472eff9-04fe-4ad6-eae3-c229923051f7"
   },
   "outputs": [
    {
     "name": "stdout",
     "output_type": "stream",
     "text": [
      "Número de datos nulos: 0\n",
      "Número de datos únicos: 48\n",
      "Tipo de dato: <class 'str'>\n",
      "Ejemplo: Arquitectura y Diseño\n"
     ]
    }
   ],
   "source": [
    "col = \"Facultad\"\n",
    "descripcion(dataset,col)"
   ]
  },
  {
   "cell_type": "code",
   "execution_count": 57,
   "metadata": {
    "colab": {
     "base_uri": "https://localhost:8080/"
    },
    "executionInfo": {
     "elapsed": 5,
     "status": "ok",
     "timestamp": 1633064300806,
     "user": {
      "displayName": "juan sebastian angarita torres",
      "photoUrl": "https://lh3.googleusercontent.com/a-/AOh14GgjiV1o_Xb2Ov2kAJhpXcHsgVLy47m-BxyXrYYMfw=s64",
      "userId": "11476954540008106843"
     },
     "user_tz": 300
    },
    "id": "PJM7xZdokBAS",
    "outputId": "111816d1-f09e-4bc5-e42e-5dbda01c74b4"
   },
   "outputs": [
    {
     "data": {
      "text/plain": [
       "array(['Arquitectura y Diseño', 'ARQUITECTURA Y DISEÑO', 'Artes', 'ARTES',\n",
       "       'Ciencias', 'CIENCIAS', 'Ciencias Económicas y Administrativas',\n",
       "       'CIENCIAS ECONÓMICAS Y ADMINISTRATIVAS',\n",
       "       'Ciencias ECONÓMICAS Y ADMINISTRATIVAS', 'Ciencias Jurídicas',\n",
       "       'CIENCIAS JURÍDICAS',\n",
       "       'Ciencias Políticas y Relaciones Internacionales',\n",
       "       'CIENCIAS POLÍTICAS Y RELACIONES INTERNACIONALES',\n",
       "       'Ciencias POLÍTICAS Y RELACIONES INTERNACIONALES',\n",
       "       'Ciencias Sociales', 'CIENCIAS SOCIALES',\n",
       "       'Comunicación y Lenguaje', 'COMUNICACIÓN Y LENGUAJE',\n",
       "       'Derecho Canónico', 'DERECHO CANÓNICO', 'Educación', 'EDUCACIÓN',\n",
       "       'Empleado', 'Enfermería', 'ENFERMERÍA',\n",
       "       'Estudios Ambientales y Rurales', 'ESTUDIOS AMBIENTALES Y RURALES',\n",
       "       'Filosofía', 'FILOSOFÍA', 'Ingeniería', 'INGENIERÍA', 'Medicina',\n",
       "       'MEDICINA', 'Odontología', 'ODONTOLOGÍA', 'Psicología',\n",
       "       'PSICOLOGÍA', 'Teología', 'TEOLOGÍA', 'Usuarios Especiales',\n",
       "       'Cursos Libres', 'Instituto de Salud Pública',\n",
       "       'Instituciones PI-Colegios', 'Instituciones PI',\n",
       "       'Instituto de Bioética', 'Convenios Javerianos',\n",
       "       'Instituto Pensar', 'Proveedores Editoriales y Librerias'],\n",
       "      dtype=object)"
      ]
     },
     "execution_count": 57,
     "metadata": {},
     "output_type": "execute_result"
    }
   ],
   "source": [
    "datasetPrestamos[\"Facultad\"].unique()"
   ]
  },
  {
   "cell_type": "markdown",
   "metadata": {
    "id": "mO1r4AQziyzk"
   },
   "source": [
    "Notamos que hay un problema de integridad de los datos. Se corregirá este defecto para tener un mejor entendimiento de los datos."
   ]
  },
  {
   "cell_type": "code",
   "execution_count": 58,
   "metadata": {
    "executionInfo": {
     "elapsed": 158,
     "status": "ok",
     "timestamp": 1633064301121,
     "user": {
      "displayName": "juan sebastian angarita torres",
      "photoUrl": "https://lh3.googleusercontent.com/a-/AOh14GgjiV1o_Xb2Ov2kAJhpXcHsgVLy47m-BxyXrYYMfw=s64",
      "userId": "11476954540008106843"
     },
     "user_tz": 300
    },
    "id": "24yCw8_-k1Fn"
   },
   "outputs": [],
   "source": [
    "#Pasamos todo a minuscula\n",
    "datasetPrestamos[\"Facultad\"] = datasetPrestamos[\"Facultad\"].str.lower();"
   ]
  },
  {
   "cell_type": "code",
   "execution_count": 59,
   "metadata": {
    "colab": {
     "base_uri": "https://localhost:8080/",
     "height": 840
    },
    "executionInfo": {
     "elapsed": 817,
     "status": "ok",
     "timestamp": 1633064301937,
     "user": {
      "displayName": "juan sebastian angarita torres",
      "photoUrl": "https://lh3.googleusercontent.com/a-/AOh14GgjiV1o_Xb2Ov2kAJhpXcHsgVLy47m-BxyXrYYMfw=s64",
      "userId": "11476954540008106843"
     },
     "user_tz": 300
    },
    "id": "s62Zm1Hgk33C",
    "outputId": "b29174bc-a2b6-4aa7-c0a0-00247c0c6324"
   },
   "outputs": [
    {
     "data": {
      "image/png": "[encoded data removed]",
      "text/plain": [
       "<Figure size 1800x720 with 1 Axes>"
      ]
     },
     "metadata": {
      "needs_background": "light"
     },
     "output_type": "display_data"
    }
   ],
   "source": [
    "histograma(dataset,col)"
   ]
  },
  {
   "cell_type": "code",
   "execution_count": 60,
   "metadata": {
    "colab": {
     "base_uri": "https://localhost:8080/"
    },
    "executionInfo": {
     "elapsed": 5,
     "status": "ok",
     "timestamp": 1633064301937,
     "user": {
      "displayName": "juan sebastian angarita torres",
      "photoUrl": "https://lh3.googleusercontent.com/a-/AOh14GgjiV1o_Xb2Ov2kAJhpXcHsgVLy47m-BxyXrYYMfw=s64",
      "userId": "11476954540008106843"
     },
     "user_tz": 300
    },
    "id": "35fDvKuqlRpy",
    "outputId": "3d162b89-4c93-4b24-b44a-4826d2ea4079"
   },
   "outputs": [
    {
     "name": "stdout",
     "output_type": "stream",
     "text": [
      "Número de datos nulos: 0\n",
      "Número de datos únicos: 28\n",
      "Tipo de dato: <class 'str'>\n",
      "Ejemplo: arquitectura y diseño\n"
     ]
    }
   ],
   "source": [
    "col = \"Facultad\"\n",
    "descripcion(dataset,col)"
   ]
  },
  {
   "cell_type": "markdown",
   "metadata": {
    "id": "fR_1G3xglS5_"
   },
   "source": [
    "**Análisis:**Encontramos 28 valores diferentes, la mayoría relacionada con los programas de estudio que ofrece la universidad. La facultad con mayor número de prestamos es ciencias sociales seguida por comunicación y lenguaje. De manera contraria odontología y enfermería no tienen un amplio número de prestamos."
   ]
  },
  {
   "cell_type": "markdown",
   "metadata": {
    "id": "Qh8ZA5ULl3gt"
   },
   "source": [
    "### Col: ID de usuario ok\n",
    "**Descripción:** ID único para cada usuario. este fue generado usando una función Hash para anonimizar los datos."
   ]
  },
  {
   "cell_type": "code",
   "execution_count": 61,
   "metadata": {
    "colab": {
     "base_uri": "https://localhost:8080/"
    },
    "executionInfo": {
     "elapsed": 332,
     "status": "ok",
     "timestamp": 1633064302267,
     "user": {
      "displayName": "juan sebastian angarita torres",
      "photoUrl": "https://lh3.googleusercontent.com/a-/AOh14GgjiV1o_Xb2Ov2kAJhpXcHsgVLy47m-BxyXrYYMfw=s64",
      "userId": "11476954540008106843"
     },
     "user_tz": 300
    },
    "id": "AG7fketimDt5",
    "outputId": "1ad4af42-ae9c-465d-e1e4-49a99df017e3"
   },
   "outputs": [
    {
     "name": "stdout",
     "output_type": "stream",
     "text": [
      "Número de datos nulos: 0\n",
      "Número de datos únicos: 25363\n",
      "Tipo de dato: <class 'str'>\n",
      "Ejemplo: c361c772cd0220bb16dcfb2ad803e4903334ab94\n"
     ]
    }
   ],
   "source": [
    "col = \"ID de usuario ok\"\n",
    "descripcion(dataset,col)"
   ]
  },
  {
   "cell_type": "markdown",
   "metadata": {
    "id": "N13YkhqciXUg"
   },
   "source": [
    "# Limpieza"
   ]
  },
  {
   "cell_type": "markdown",
   "metadata": {
    "id": "CUYk5Tewn0tz"
   },
   "source": [
    "### Estandarización nombres columnas\n",
    "Comenzaremos estandirando los nombres de las columnas, así como cambiando el nombre de las columnas sobre las cuales se va a realizar joins. Todos los nombres se pondrán en minuscula, sin tildes, ni espacios, pasando al estandar de camelCase."
   ]
  },
  {
   "cell_type": "code",
   "execution_count": 62,
   "metadata": {
    "colab": {
     "base_uri": "https://localhost:8080/"
    },
    "executionInfo": {
     "elapsed": 8,
     "status": "ok",
     "timestamp": 1633064302268,
     "user": {
      "displayName": "juan sebastian angarita torres",
      "photoUrl": "https://lh3.googleusercontent.com/a-/AOh14GgjiV1o_Xb2Ov2kAJhpXcHsgVLy47m-BxyXrYYMfw=s64",
      "userId": "11476954540008106843"
     },
     "user_tz": 300
    },
    "id": "eqjaydq9ok23",
    "outputId": "52a42c31-2f0b-401d-ad3e-5e486167d371"
   },
   "outputs": [
    {
     "data": {
      "text/plain": [
       "Index(['row ID', 'Mes', 'Fecha', 'Hora', 'Transacción',\n",
       "       'Biblioteca Transacción', 'ID Ítem', 'Numero de Ubicación', 'Dewey',\n",
       "       'Biblioteca', 'Ubicación', 'Tipo de ítem', 'Llaves', 'Perfil',\n",
       "       'Categoría 1', 'Programa', 'Facultad', 'ID de usuario ok'],\n",
       "      dtype='object')"
      ]
     },
     "execution_count": 62,
     "metadata": {},
     "output_type": "execute_result"
    }
   ],
   "source": [
    "datasetPrestamos.columns"
   ]
  },
  {
   "cell_type": "code",
   "execution_count": 63,
   "metadata": {
    "executionInfo": {
     "elapsed": 5,
     "status": "ok",
     "timestamp": 1633064302268,
     "user": {
      "displayName": "juan sebastian angarita torres",
      "photoUrl": "https://lh3.googleusercontent.com/a-/AOh14GgjiV1o_Xb2Ov2kAJhpXcHsgVLy47m-BxyXrYYMfw=s64",
      "userId": "11476954540008106843"
     },
     "user_tz": 300
    },
    "id": "L4JDB7bhotvn"
   },
   "outputs": [],
   "source": [
    "nombresNuevos = {'row ID':'RowID',\n",
    " 'Transacción':'Transaccion',\n",
    " 'Biblioteca Transacción':'BibliotecaTransaccion',\n",
    "  'ID Ítem':'IDItem',\n",
    "  'Numero de Ubicación':'NumeroUbicacion',\n",
    "  'Ubicación':'Ubicacion',\n",
    "  'Tipo de ítem':'TipoItem',\n",
    "  'Llaves':'Llave',\n",
    " 'Categoría 1':'Caterogoria1',\n",
    " 'ID de usuario ok':'IDUsuario'}"
   ]
  },
  {
   "cell_type": "code",
   "execution_count": 64,
   "metadata": {
    "executionInfo": {
     "elapsed": 5,
     "status": "ok",
     "timestamp": 1633064302268,
     "user": {
      "displayName": "juan sebastian angarita torres",
      "photoUrl": "https://lh3.googleusercontent.com/a-/AOh14GgjiV1o_Xb2Ov2kAJhpXcHsgVLy47m-BxyXrYYMfw=s64",
      "userId": "11476954540008106843"
     },
     "user_tz": 300
    },
    "id": "0snjymXPoRlU"
   },
   "outputs": [],
   "source": [
    "prestamosLimpio = datasetPrestamos.rename(columns=nombresNuevos)"
   ]
  },
  {
   "cell_type": "code",
   "execution_count": 65,
   "metadata": {
    "colab": {
     "base_uri": "https://localhost:8080/"
    },
    "executionInfo": {
     "elapsed": 5,
     "status": "ok",
     "timestamp": 1633064302268,
     "user": {
      "displayName": "juan sebastian angarita torres",
      "photoUrl": "https://lh3.googleusercontent.com/a-/AOh14GgjiV1o_Xb2Ov2kAJhpXcHsgVLy47m-BxyXrYYMfw=s64",
      "userId": "11476954540008106843"
     },
     "user_tz": 300
    },
    "id": "I9RF5W15qC9K",
    "outputId": "50725816-3c60-4bab-c747-46adfa72eb01"
   },
   "outputs": [
    {
     "data": {
      "text/plain": [
       "Index(['RowID', 'Mes', 'Fecha', 'Hora', 'Transaccion', 'BibliotecaTransaccion',\n",
       "       'IDItem', 'NumeroUbicacion', 'Dewey', 'Biblioteca', 'Ubicacion',\n",
       "       'TipoItem', 'Llave', 'Perfil', 'Caterogoria1', 'Programa', 'Facultad',\n",
       "       'IDUsuario'],\n",
       "      dtype='object')"
      ]
     },
     "execution_count": 65,
     "metadata": {},
     "output_type": "execute_result"
    }
   ],
   "source": [
    "prestamosLimpio.columns"
   ]
  },
  {
   "cell_type": "markdown",
   "metadata": {
    "id": "cPSsl4Z5qh8A"
   },
   "source": [
    "### Eliminacion Columnas\n",
    "Se eliminarán las columnas que nos nos ofrecen información útil para los algoritmos de recomendación ni ofrecen información que pueda ser útil para los usuarios.\n",
    "\n",
    "Las columnas a eliminar son:\n",
    "* BibliotecaTransaccion: tiene único valor\n",
    "* Biblioteca: tiene único valor\n",
    "* Hora: No ofrece información útil\n",
    "* Transaccion: No ofrece información útil\n",
    "* Caterogoria1: No ofrece información adicional"
   ]
  },
  {
   "cell_type": "code",
   "execution_count": 66,
   "metadata": {
    "executionInfo": {
     "elapsed": 180,
     "status": "ok",
     "timestamp": 1633064302445,
     "user": {
      "displayName": "juan sebastian angarita torres",
      "photoUrl": "https://lh3.googleusercontent.com/a-/AOh14GgjiV1o_Xb2Ov2kAJhpXcHsgVLy47m-BxyXrYYMfw=s64",
      "userId": "11476954540008106843"
     },
     "user_tz": 300
    },
    "id": "44D18FI3q7Xm"
   },
   "outputs": [],
   "source": [
    "prestamosLimpio = prestamosLimpio.drop(['BibliotecaTransaccion',\n",
    "                                        'Biblioteca',\n",
    "                                        'Hora',\n",
    "                                        'Transaccion',\n",
    "                                        'Caterogoria1'],axis=1)"
   ]
  },
  {
   "cell_type": "code",
   "execution_count": 67,
   "metadata": {
    "colab": {
     "base_uri": "https://localhost:8080/"
    },
    "executionInfo": {
     "elapsed": 11,
     "status": "ok",
     "timestamp": 1633064302446,
     "user": {
      "displayName": "juan sebastian angarita torres",
      "photoUrl": "https://lh3.googleusercontent.com/a-/AOh14GgjiV1o_Xb2Ov2kAJhpXcHsgVLy47m-BxyXrYYMfw=s64",
      "userId": "11476954540008106843"
     },
     "user_tz": 300
    },
    "id": "dCEc0S9CrKlu",
    "outputId": "bba6bfa2-3323-407e-a4db-9a198f44d109"
   },
   "outputs": [
    {
     "data": {
      "text/plain": [
       "Index(['RowID', 'Mes', 'Fecha', 'IDItem', 'NumeroUbicacion', 'Dewey',\n",
       "       'Ubicacion', 'TipoItem', 'Llave', 'Perfil', 'Programa', 'Facultad',\n",
       "       'IDUsuario'],\n",
       "      dtype='object')"
      ]
     },
     "execution_count": 67,
     "metadata": {},
     "output_type": "execute_result"
    }
   ],
   "source": [
    "prestamosLimpio.columns"
   ]
  },
  {
   "cell_type": "markdown",
   "metadata": {
    "id": "B3HyTkg4vmBO"
   },
   "source": [
    "### Eliminación Tipos de ítems\n",
    "Para el contexto del material solo nos interesa recomendar cierto tipo de material bibliográfico. Como se pudo observar los prestamos están compuestos no solo de libros, sino también de video, grabaciones, mapas, entre otros.\n",
    "A partir del análisis con expertos se decidió por centrarnos únicamente en estos tipos de materiales:\n",
    "* 'LIBRO'\n",
    "* 'LITERATURA'\n",
    "* 'REFERENCIA'\n",
    "* 'RESERVA'"
   ]
  },
  {
   "cell_type": "code",
   "execution_count": 68,
   "metadata": {
    "colab": {
     "base_uri": "https://localhost:8080/"
    },
    "executionInfo": {
     "elapsed": 263,
     "status": "ok",
     "timestamp": 1633064302707,
     "user": {
      "displayName": "juan sebastian angarita torres",
      "photoUrl": "https://lh3.googleusercontent.com/a-/AOh14GgjiV1o_Xb2Ov2kAJhpXcHsgVLy47m-BxyXrYYMfw=s64",
      "userId": "11476954540008106843"
     },
     "user_tz": 300
    },
    "id": "7tQ036wI0id2",
    "outputId": "e2bc38ab-2355-421e-bd81-58e83817e68e"
   },
   "outputs": [
    {
     "data": {
      "text/plain": [
       "(493087, 13)"
      ]
     },
     "execution_count": 68,
     "metadata": {},
     "output_type": "execute_result"
    }
   ],
   "source": [
    "prestamosLimpio = prestamosLimpio[prestamosLimpio['TipoItem'].isin([\n",
    "'LIBRO',\n",
    "'LITERATURA',\n",
    "'REFERENCIA',\n",
    "'RESERVA',\n",
    "])]\n",
    "prestamosLimpio.shape"
   ]
  },
  {
   "cell_type": "code",
   "execution_count": 69,
   "metadata": {
    "colab": {
     "base_uri": "https://localhost:8080/",
     "height": 674
    },
    "executionInfo": {
     "elapsed": 507,
     "status": "ok",
     "timestamp": 1633064303214,
     "user": {
      "displayName": "juan sebastian angarita torres",
      "photoUrl": "https://lh3.googleusercontent.com/a-/AOh14GgjiV1o_Xb2Ov2kAJhpXcHsgVLy47m-BxyXrYYMfw=s64",
      "userId": "11476954540008106843"
     },
     "user_tz": 300
    },
    "id": "SXtxmhLG2tph",
    "outputId": "62978917-3678-4601-b22f-cbea75c96e3a"
   },
   "outputs": [
    {
     "data": {
      "image/png": "[encoded data removed]",
      "text/plain": [
       "<Figure size 1800x720 with 1 Axes>"
      ]
     },
     "metadata": {
      "needs_background": "light"
     },
     "output_type": "display_data"
    }
   ],
   "source": [
    "histograma(prestamosLimpio,'TipoItem')"
   ]
  },
  {
   "cell_type": "code",
   "execution_count": 70,
   "metadata": {
    "colab": {
     "base_uri": "https://localhost:8080/",
     "height": 655
    },
    "executionInfo": {
     "elapsed": 1344,
     "status": "ok",
     "timestamp": 1633064304556,
     "user": {
      "displayName": "juan sebastian angarita torres",
      "photoUrl": "https://lh3.googleusercontent.com/a-/AOh14GgjiV1o_Xb2Ov2kAJhpXcHsgVLy47m-BxyXrYYMfw=s64",
      "userId": "11476954540008106843"
     },
     "user_tz": 300
    },
    "id": "DCERM7F53t7H",
    "outputId": "fec46515-ff1e-47cf-ba98-a255569441ea"
   },
   "outputs": [
    {
     "data": {
      "image/png": "[encoded data removed]",
      "text/plain": [
       "<Figure size 1800x720 with 1 Axes>"
      ]
     },
     "metadata": {
      "needs_background": "light"
     },
     "output_type": "display_data"
    }
   ],
   "source": [
    "histograma(prestamosLimpio,'Dewey')"
   ]
  },
  {
   "cell_type": "markdown",
   "metadata": {
    "id": "UtPWuXy71-cW"
   },
   "source": [
    "## Columna derivada: year\n",
    "Obtenedremos una nueva columan a partir de fecha que nos indique solamente el año en el que se realizó el prestamo. "
   ]
  },
  {
   "cell_type": "code",
   "execution_count": 71,
   "metadata": {
    "executionInfo": {
     "elapsed": 3167,
     "status": "ok",
     "timestamp": 1633064307722,
     "user": {
      "displayName": "juan sebastian angarita torres",
      "photoUrl": "https://lh3.googleusercontent.com/a-/AOh14GgjiV1o_Xb2Ov2kAJhpXcHsgVLy47m-BxyXrYYMfw=s64",
      "userId": "11476954540008106843"
     },
     "user_tz": 300
    },
    "id": "GHotuXuc2B_G"
   },
   "outputs": [],
   "source": [
    "prestamosLimpio['Year']=prestamosLimpio['Fecha'].apply(lambda x: str(x)[0:4])"
   ]
  },
  {
   "cell_type": "code",
   "execution_count": 72,
   "metadata": {
    "colab": {
     "base_uri": "https://localhost:8080/"
    },
    "executionInfo": {
     "elapsed": 948,
     "status": "ok",
     "timestamp": 1633064308668,
     "user": {
      "displayName": "juan sebastian angarita torres",
      "photoUrl": "https://lh3.googleusercontent.com/a-/AOh14GgjiV1o_Xb2Ov2kAJhpXcHsgVLy47m-BxyXrYYMfw=s64",
      "userId": "11476954540008106843"
     },
     "user_tz": 300
    },
    "id": "039xiMcl2mhr",
    "outputId": "5a783c2b-62f8-4e3a-bed2-1d96f150252c"
   },
   "outputs": [
    {
     "name": "stdout",
     "output_type": "stream",
     "text": [
      "Número de datos nulos: 0\n",
      "Número de datos únicos: 4\n",
      "Tipo de dato: <class 'str'>\n",
      "Ejemplo: 2019\n"
     ]
    }
   ],
   "source": [
    "col = \"Year\"\n",
    "descripcion(prestamosLimpio,col)"
   ]
  },
  {
   "cell_type": "code",
   "execution_count": 73,
   "metadata": {
    "colab": {
     "base_uri": "https://localhost:8080/",
     "height": 637
    },
    "executionInfo": {
     "elapsed": 11,
     "status": "ok",
     "timestamp": 1633064308668,
     "user": {
      "displayName": "juan sebastian angarita torres",
      "photoUrl": "https://lh3.googleusercontent.com/a-/AOh14GgjiV1o_Xb2Ov2kAJhpXcHsgVLy47m-BxyXrYYMfw=s64",
      "userId": "11476954540008106843"
     },
     "user_tz": 300
    },
    "id": "jZhVpOpe2osc",
    "outputId": "07b10735-e1c4-4e18-dfda-49cba75cf038"
   },
   "outputs": [
    {
     "data": {
      "image/png": "[encoded data removed]",
      "text/plain": [
       "<Figure size 1800x720 with 1 Axes>"
      ]
     },
     "metadata": {
      "needs_background": "light"
     },
     "output_type": "display_data"
    }
   ],
   "source": [
    "histograma(prestamosLimpio,col)"
   ]
  },
  {
   "cell_type": "code",
   "execution_count": 74,
   "metadata": {
    "colab": {
     "base_uri": "https://localhost:8080/",
     "height": 173
    },
    "executionInfo": {
     "elapsed": 11,
     "status": "ok",
     "timestamp": 1633064308669,
     "user": {
      "displayName": "juan sebastian angarita torres",
      "photoUrl": "https://lh3.googleusercontent.com/a-/AOh14GgjiV1o_Xb2Ov2kAJhpXcHsgVLy47m-BxyXrYYMfw=s64",
      "userId": "11476954540008106843"
     },
     "user_tz": 300
    },
    "id": "TzSi1ckk2qmp",
    "outputId": "03514570-0f1a-4ee7-ad50-88ed9ca217be"
   },
   "outputs": [
    {
     "data": {
      "text/html": [
       "<div>\n",
       "<style scoped>\n",
       "    .dataframe tbody tr th:only-of-type {\n",
       "        vertical-align: middle;\n",
       "    }\n",
       "\n",
       "    .dataframe tbody tr th {\n",
       "        vertical-align: top;\n",
       "    }\n",
       "\n",
       "    .dataframe thead th {\n",
       "        text-align: right;\n",
       "    }\n",
       "</style>\n",
       "<table border=\"1\" class=\"dataframe\">\n",
       "  <thead>\n",
       "    <tr style=\"text-align: right;\">\n",
       "      <th>Year</th>\n",
       "      <th>Procentaje (%)</th>\n",
       "    </tr>\n",
       "  </thead>\n",
       "  <tbody>\n",
       "    <tr>\n",
       "      <th>2018</th>\n",
       "      <td>47.214386</td>\n",
       "    </tr>\n",
       "    <tr>\n",
       "      <th>2019</th>\n",
       "      <td>39.350459</td>\n",
       "    </tr>\n",
       "    <tr>\n",
       "      <th>2020</th>\n",
       "      <td>10.697098</td>\n",
       "    </tr>\n",
       "    <tr>\n",
       "      <th>2021</th>\n",
       "      <td>2.738056</td>\n",
       "    </tr>\n",
       "  </tbody>\n",
       "</table>\n",
       "</div>"
      ],
      "text/plain": [
       "Year  Procentaje (%)\n",
       "2018       47.214386\n",
       "2019       39.350459\n",
       "2020       10.697098\n",
       "2021        2.738056"
      ]
     },
     "metadata": {},
     "output_type": "display_data"
    }
   ],
   "source": [
    "frecuencias(prestamosLimpio,col)"
   ]
  },
  {
   "cell_type": "markdown",
   "metadata": {
    "id": "-9ro2gXL210x"
   },
   "source": [
    "* *Podemos apreciar que los años 2020 y 2021 tienen un número de prestamos mucho menor (por debajo de la mitad) de los prestamos registrados en el 2019, resultados esperados debido a la influencia de la pandemia y sus restricciones (consultado con experto del negocio)*"
   ]
  },
  {
   "cell_type": "markdown",
   "metadata": {
    "id": "IUdd9NZb9Tcq"
   },
   "source": [
    "#Análisis pos-limpieza\n",
    "Finalmente realizaremos algunos análisis adicionales agrupando por cierto atributo o tratando de entender la correlación que puede haber entre dos o más atributos del dataset."
   ]
  },
  {
   "cell_type": "code",
   "execution_count": 75,
   "metadata": {
    "colab": {
     "base_uri": "https://localhost:8080/"
    },
    "executionInfo": {
     "elapsed": 9,
     "status": "ok",
     "timestamp": 1633064308669,
     "user": {
      "displayName": "juan sebastian angarita torres",
      "photoUrl": "https://lh3.googleusercontent.com/a-/AOh14GgjiV1o_Xb2Ov2kAJhpXcHsgVLy47m-BxyXrYYMfw=s64",
      "userId": "11476954540008106843"
     },
     "user_tz": 300
    },
    "id": "W3ZzSPVs9kup",
    "outputId": "0a0e04b4-b799-41b2-d3c6-534ffc70c16f"
   },
   "outputs": [
    {
     "data": {
      "text/plain": [
       "Index(['RowID', 'Mes', 'Fecha', 'IDItem', 'NumeroUbicacion', 'Dewey',\n",
       "       'Ubicacion', 'TipoItem', 'Llave', 'Perfil', 'Programa', 'Facultad',\n",
       "       'IDUsuario', 'Year'],\n",
       "      dtype='object')"
      ]
     },
     "execution_count": 75,
     "metadata": {},
     "output_type": "execute_result"
    }
   ],
   "source": [
    "prestamosLimpio.columns"
   ]
  },
  {
   "cell_type": "markdown",
   "metadata": {
    "id": "qREnhPhP9rwq"
   },
   "source": [
    "## IDUsuario vs Número de prestamos\n",
    "Análizaremos cuales son los usuarios que más piden prestado material de la biblioteca así como las frecuencias y usuarios atípicos debido al número total de prestamos."
   ]
  },
  {
   "cell_type": "code",
   "execution_count": 76,
   "metadata": {
    "colab": {
     "base_uri": "https://localhost:8080/",
     "height": 419
    },
    "executionInfo": {
     "elapsed": 165,
     "status": "ok",
     "timestamp": 1633064339693,
     "user": {
      "displayName": "juan sebastian angarita torres",
      "photoUrl": "https://lh3.googleusercontent.com/a-/AOh14GgjiV1o_Xb2Ov2kAJhpXcHsgVLy47m-BxyXrYYMfw=s64",
      "userId": "11476954540008106843"
     },
     "user_tz": 300
    },
    "id": "PmVAIVNq9rXr",
    "outputId": "1592a032-e0db-43f5-eca7-b4616e012c24"
   },
   "outputs": [
    {
     "data": {
      "text/html": [
       "<div>\n",
       "<style scoped>\n",
       "    .dataframe tbody tr th:only-of-type {\n",
       "        vertical-align: middle;\n",
       "    }\n",
       "\n",
       "    .dataframe tbody tr th {\n",
       "        vertical-align: top;\n",
       "    }\n",
       "\n",
       "    .dataframe thead th {\n",
       "        text-align: right;\n",
       "    }\n",
       "</style>\n",
       "<table border=\"1\" class=\"dataframe\">\n",
       "  <thead>\n",
       "    <tr style=\"text-align: right;\">\n",
       "      <th></th>\n",
       "      <th>IDUsuario</th>\n",
       "      <th>count</th>\n",
       "    </tr>\n",
       "  </thead>\n",
       "  <tbody>\n",
       "    <tr>\n",
       "      <th>10188</th>\n",
       "      <td>69c8887e954b39caa50b2ad21c66bad0b1c7715a</td>\n",
       "      <td>3350</td>\n",
       "    </tr>\n",
       "    <tr>\n",
       "      <th>17938</th>\n",
       "      <td>bb5bf4c8c0fe905ef90e3631b859f06e1ade76dc</td>\n",
       "      <td>1355</td>\n",
       "    </tr>\n",
       "    <tr>\n",
       "      <th>10954</th>\n",
       "      <td>723aa8e7571542402d55e90f6f74ccecc5a2ae3d</td>\n",
       "      <td>918</td>\n",
       "    </tr>\n",
       "    <tr>\n",
       "      <th>13626</th>\n",
       "      <td>8e51720745342c49a4cb16170f79681a956800f3</td>\n",
       "      <td>873</td>\n",
       "    </tr>\n",
       "    <tr>\n",
       "      <th>2746</th>\n",
       "      <td>1d40e1bd4bd75e8a262640b1e6f1cc62c2de2548</td>\n",
       "      <td>873</td>\n",
       "    </tr>\n",
       "    <tr>\n",
       "      <th>...</th>\n",
       "      <td>...</td>\n",
       "      <td>...</td>\n",
       "    </tr>\n",
       "    <tr>\n",
       "      <th>17623</th>\n",
       "      <td>b82594b5bf02ffa4baa35f5e173283a14095e3d5</td>\n",
       "      <td>1</td>\n",
       "    </tr>\n",
       "    <tr>\n",
       "      <th>17621</th>\n",
       "      <td>b81f019cb9393e730c1d09ac2696634611015234</td>\n",
       "      <td>1</td>\n",
       "    </tr>\n",
       "    <tr>\n",
       "      <th>10783</th>\n",
       "      <td>7028a175fac8b40b9f06859aa467659658126de4</td>\n",
       "      <td>1</td>\n",
       "    </tr>\n",
       "    <tr>\n",
       "      <th>10784</th>\n",
       "      <td>7029603853af4631c8f52fd2f1187a56fb5d1d1b</td>\n",
       "      <td>1</td>\n",
       "    </tr>\n",
       "    <tr>\n",
       "      <th>0</th>\n",
       "      <td>00063d52cf68c65d2a569e95c40345c4a305ccc7</td>\n",
       "      <td>1</td>\n",
       "    </tr>\n",
       "  </tbody>\n",
       "</table>\n",
       "<p>24415 rows × 2 columns</p>\n",
       "</div>"
      ],
      "text/plain": [
       "                                      IDUsuario  count\n",
       "10188  69c8887e954b39caa50b2ad21c66bad0b1c7715a   3350\n",
       "17938  bb5bf4c8c0fe905ef90e3631b859f06e1ade76dc   1355\n",
       "10954  723aa8e7571542402d55e90f6f74ccecc5a2ae3d    918\n",
       "13626  8e51720745342c49a4cb16170f79681a956800f3    873\n",
       "2746   1d40e1bd4bd75e8a262640b1e6f1cc62c2de2548    873\n",
       "...                                         ...    ...\n",
       "17623  b82594b5bf02ffa4baa35f5e173283a14095e3d5      1\n",
       "17621  b81f019cb9393e730c1d09ac2696634611015234      1\n",
       "10783  7028a175fac8b40b9f06859aa467659658126de4      1\n",
       "10784  7029603853af4631c8f52fd2f1187a56fb5d1d1b      1\n",
       "0      00063d52cf68c65d2a569e95c40345c4a305ccc7      1\n",
       "\n",
       "[24415 rows x 2 columns]"
      ]
     },
     "execution_count": 76,
     "metadata": {},
     "output_type": "execute_result"
    }
   ],
   "source": [
    "prestamosUsuario = prestamosLimpio.groupby(['IDUsuario'])['RowID'].count().reset_index(name='count').sort_values(['count'], ascending=False)\n",
    "prestamosUsuario"
   ]
  },
  {
   "cell_type": "code",
   "execution_count": 77,
   "metadata": {
    "colab": {
     "base_uri": "https://localhost:8080/",
     "height": 336
    },
    "executionInfo": {
     "elapsed": 573,
     "status": "ok",
     "timestamp": 1633064341694,
     "user": {
      "displayName": "juan sebastian angarita torres",
      "photoUrl": "https://lh3.googleusercontent.com/a-/AOh14GgjiV1o_Xb2Ov2kAJhpXcHsgVLy47m-BxyXrYYMfw=s64",
      "userId": "11476954540008106843"
     },
     "user_tz": 300
    },
    "id": "jXppH1qx9Sp6",
    "outputId": "0acf9748-2024-43b3-a443-8e0a02a96d07"
   },
   "outputs": [
    {
     "data": {
      "image/png": "[encoded data removed]",
      "text/plain": [
       "<Figure size 504x360 with 1 Axes>"
      ]
     },
     "metadata": {
      "needs_background": "light"
     },
     "output_type": "display_data"
    }
   ],
   "source": [
    "plt.figure(figsize=(7, 5))\n",
    "plt.title(\"BoxPlot - Distribución del número de prestamos por usuario\")\n",
    "plt.ylabel(\"Número de prestamos\")\n",
    "boxplot = prestamosUsuario.boxplot(column = ['count'])"
   ]
  },
  {
   "cell_type": "markdown",
   "metadata": {
    "id": "-n86v2RaBRUJ"
   },
   "source": [
    "Como se puede notar en la gráfico hay un usuario en especifico que tiene más de 3000 prestamos. Esto se tomará como un dato atípico y se borrará del set de datos."
   ]
  },
  {
   "cell_type": "code",
   "execution_count": 78,
   "metadata": {
    "executionInfo": {
     "elapsed": 163,
     "status": "ok",
     "timestamp": 1633064346100,
     "user": {
      "displayName": "juan sebastian angarita torres",
      "photoUrl": "https://lh3.googleusercontent.com/a-/AOh14GgjiV1o_Xb2Ov2kAJhpXcHsgVLy47m-BxyXrYYMfw=s64",
      "userId": "11476954540008106843"
     },
     "user_tz": 300
    },
    "id": "N53E6ZnMBlZ4"
   },
   "outputs": [],
   "source": [
    "prestamosLimpio = prestamosLimpio[prestamosLimpio['IDUsuario'] != \"69c8887e954b39caa50b2ad21c66bad0b1c7715a\"]"
   ]
  },
  {
   "cell_type": "code",
   "execution_count": 79,
   "metadata": {
    "colab": {
     "base_uri": "https://localhost:8080/",
     "height": 336
    },
    "executionInfo": {
     "elapsed": 563,
     "status": "ok",
     "timestamp": 1633064347686,
     "user": {
      "displayName": "juan sebastian angarita torres",
      "photoUrl": "https://lh3.googleusercontent.com/a-/AOh14GgjiV1o_Xb2Ov2kAJhpXcHsgVLy47m-BxyXrYYMfw=s64",
      "userId": "11476954540008106843"
     },
     "user_tz": 300
    },
    "id": "uaeQjna4CAav",
    "outputId": "63d3dc97-25cf-4a47-ee10-e5290aa5e131"
   },
   "outputs": [
    {
     "data": {
      "image/png": "[encoded data removed]",
      "text/plain": [
       "<Figure size 504x360 with 1 Axes>"
      ]
     },
     "metadata": {
      "needs_background": "light"
     },
     "output_type": "display_data"
    }
   ],
   "source": [
    "prestamosUsuario = prestamosLimpio.groupby(['IDUsuario'])['RowID'].count().reset_index(name='count').sort_values(['count'], ascending=False)\n",
    "prestamosUsuario\n",
    "plt.figure(figsize=(7, 5))\n",
    "plt.title(\"BoxPlot - Distribución del número de prestamos por usuario\")\n",
    "plt.ylabel(\"Número de prestamos\")\n",
    "boxplot = prestamosUsuario.boxplot(column = ['count'])"
   ]
  },
  {
   "cell_type": "code",
   "execution_count": 80,
   "metadata": {
    "colab": {
     "base_uri": "https://localhost:8080/",
     "height": 336
    },
    "executionInfo": {
     "elapsed": 480,
     "status": "ok",
     "timestamp": 1633064350302,
     "user": {
      "displayName": "juan sebastian angarita torres",
      "photoUrl": "https://lh3.googleusercontent.com/a-/AOh14GgjiV1o_Xb2Ov2kAJhpXcHsgVLy47m-BxyXrYYMfw=s64",
      "userId": "11476954540008106843"
     },
     "user_tz": 300
    },
    "id": "g4x7WZoCCl7s",
    "outputId": "3ce1b678-4cff-4b34-9885-2734059ab9a0"
   },
   "outputs": [
    {
     "data": {
      "image/png": "[encoded data removed]",
      "text/plain": [
       "<Figure size 504x360 with 1 Axes>"
      ]
     },
     "metadata": {
      "needs_background": "light"
     },
     "output_type": "display_data"
    }
   ],
   "source": [
    "plt.figure(figsize=(7, 5))\n",
    "plt.title(\"BoxPlot - Distribución del número de prestamos por usuario\")\n",
    "plt.ylabel(\"Número de prestamos\")\n",
    "boxplot = prestamosUsuario.boxplot(column = ['count'], showfliers=False)"
   ]
  },
  {
   "cell_type": "code",
   "execution_count": 81,
   "metadata": {
    "colab": {
     "base_uri": "https://localhost:8080/",
     "height": 297
    },
    "executionInfo": {
     "elapsed": 173,
     "status": "ok",
     "timestamp": 1633064352036,
     "user": {
      "displayName": "juan sebastian angarita torres",
      "photoUrl": "https://lh3.googleusercontent.com/a-/AOh14GgjiV1o_Xb2Ov2kAJhpXcHsgVLy47m-BxyXrYYMfw=s64",
      "userId": "11476954540008106843"
     },
     "user_tz": 300
    },
    "id": "6_oATiYDCASG",
    "outputId": "a988e901-ef69-4c35-969f-021b431ab29c"
   },
   "outputs": [
    {
     "data": {
      "text/html": [
       "<div>\n",
       "<style scoped>\n",
       "    .dataframe tbody tr th:only-of-type {\n",
       "        vertical-align: middle;\n",
       "    }\n",
       "\n",
       "    .dataframe tbody tr th {\n",
       "        vertical-align: top;\n",
       "    }\n",
       "\n",
       "    .dataframe thead th {\n",
       "        text-align: right;\n",
       "    }\n",
       "</style>\n",
       "<table border=\"1\" class=\"dataframe\">\n",
       "  <thead>\n",
       "    <tr style=\"text-align: right;\">\n",
       "      <th></th>\n",
       "      <th>count</th>\n",
       "    </tr>\n",
       "  </thead>\n",
       "  <tbody>\n",
       "    <tr>\n",
       "      <th>count</th>\n",
       "      <td>24414.000000</td>\n",
       "    </tr>\n",
       "    <tr>\n",
       "      <th>mean</th>\n",
       "      <td>20.059679</td>\n",
       "    </tr>\n",
       "    <tr>\n",
       "      <th>std</th>\n",
       "      <td>43.702920</td>\n",
       "    </tr>\n",
       "    <tr>\n",
       "      <th>min</th>\n",
       "      <td>1.000000</td>\n",
       "    </tr>\n",
       "    <tr>\n",
       "      <th>25%</th>\n",
       "      <td>2.000000</td>\n",
       "    </tr>\n",
       "    <tr>\n",
       "      <th>50%</th>\n",
       "      <td>6.000000</td>\n",
       "    </tr>\n",
       "    <tr>\n",
       "      <th>75%</th>\n",
       "      <td>19.000000</td>\n",
       "    </tr>\n",
       "    <tr>\n",
       "      <th>max</th>\n",
       "      <td>1355.000000</td>\n",
       "    </tr>\n",
       "  </tbody>\n",
       "</table>\n",
       "</div>"
      ],
      "text/plain": [
       "              count\n",
       "count  24414.000000\n",
       "mean      20.059679\n",
       "std       43.702920\n",
       "min        1.000000\n",
       "25%        2.000000\n",
       "50%        6.000000\n",
       "75%       19.000000\n",
       "max     1355.000000"
      ]
     },
     "execution_count": 81,
     "metadata": {},
     "output_type": "execute_result"
    }
   ],
   "source": [
    "prestamosUsuario.describe()"
   ]
  },
  {
   "cell_type": "markdown",
   "metadata": {
    "id": "6FgQrq0_DJbi"
   },
   "source": [
    "**Análisis**: al agrupar por usuarios y realizar el conteo de cuantos prestamos tienen podemos notar una media de 20 prestamos en el periodo de 4 años, aunque el 50% de los estudiantes solo cuentan con 6 prestamos o menos. También podemos notar que hay estudiantes con un número elevado de prestamos. Se eligió eliminar el primero de estos para no introducir ruido a los datos ni experimentos. "
   ]
  },
  {
   "cell_type": "markdown",
   "metadata": {
    "id": "LfAwLFMqDl_L"
   },
   "source": [
    "## Libros más prestados "
   ]
  },
  {
   "cell_type": "code",
   "execution_count": 82,
   "metadata": {
    "colab": {
     "base_uri": "https://localhost:8080/",
     "height": 0
    },
    "executionInfo": {
     "elapsed": 531,
     "status": "ok",
     "timestamp": 1633064355429,
     "user": {
      "displayName": "juan sebastian angarita torres",
      "photoUrl": "https://lh3.googleusercontent.com/a-/AOh14GgjiV1o_Xb2Ov2kAJhpXcHsgVLy47m-BxyXrYYMfw=s64",
      "userId": "11476954540008106843"
     },
     "user_tz": 300
    },
    "id": "g7hYOU6DD6UR",
    "outputId": "d2e0db92-7ca6-41f9-ba4e-a255a67241ed"
   },
   "outputs": [
    {
     "data": {
      "text/html": [
       "<div>\n",
       "<style scoped>\n",
       "    .dataframe tbody tr th:only-of-type {\n",
       "        vertical-align: middle;\n",
       "    }\n",
       "\n",
       "    .dataframe tbody tr th {\n",
       "        vertical-align: top;\n",
       "    }\n",
       "\n",
       "    .dataframe thead th {\n",
       "        text-align: right;\n",
       "    }\n",
       "</style>\n",
       "<table border=\"1\" class=\"dataframe\">\n",
       "  <thead>\n",
       "    <tr style=\"text-align: right;\">\n",
       "      <th></th>\n",
       "      <th>Llave</th>\n",
       "      <th>count</th>\n",
       "    </tr>\n",
       "  </thead>\n",
       "  <tbody>\n",
       "    <tr>\n",
       "      <th>58039</th>\n",
       "      <td>893295</td>\n",
       "      <td>675</td>\n",
       "    </tr>\n",
       "    <tr>\n",
       "      <th>9146</th>\n",
       "      <td>312287</td>\n",
       "      <td>450</td>\n",
       "    </tr>\n",
       "    <tr>\n",
       "      <th>53183</th>\n",
       "      <td>861744</td>\n",
       "      <td>430</td>\n",
       "    </tr>\n",
       "    <tr>\n",
       "      <th>44659</th>\n",
       "      <td>806204</td>\n",
       "      <td>345</td>\n",
       "    </tr>\n",
       "    <tr>\n",
       "      <th>28637</th>\n",
       "      <td>682862</td>\n",
       "      <td>325</td>\n",
       "    </tr>\n",
       "    <tr>\n",
       "      <th>...</th>\n",
       "      <td>...</td>\n",
       "      <td>...</td>\n",
       "    </tr>\n",
       "    <tr>\n",
       "      <th>70324</th>\n",
       "      <td>341812</td>\n",
       "      <td>1</td>\n",
       "    </tr>\n",
       "    <tr>\n",
       "      <th>10310</th>\n",
       "      <td>317622</td>\n",
       "      <td>1</td>\n",
       "    </tr>\n",
       "    <tr>\n",
       "      <th>25651</th>\n",
       "      <td>639152</td>\n",
       "      <td>1</td>\n",
       "    </tr>\n",
       "    <tr>\n",
       "      <th>70321</th>\n",
       "      <td>341802</td>\n",
       "      <td>1</td>\n",
       "    </tr>\n",
       "    <tr>\n",
       "      <th>64052</th>\n",
       "      <td>926150</td>\n",
       "      <td>1</td>\n",
       "    </tr>\n",
       "  </tbody>\n",
       "</table>\n",
       "<p>91334 rows × 2 columns</p>\n",
       "</div>"
      ],
      "text/plain": [
       "        Llave  count\n",
       "58039  893295    675\n",
       "9146   312287    450\n",
       "53183  861744    430\n",
       "44659  806204    345\n",
       "28637  682862    325\n",
       "...       ...    ...\n",
       "70324  341812      1\n",
       "10310  317622      1\n",
       "25651  639152      1\n",
       "70321  341802      1\n",
       "64052  926150      1\n",
       "\n",
       "[91334 rows x 2 columns]"
      ]
     },
     "execution_count": 82,
     "metadata": {},
     "output_type": "execute_result"
    }
   ],
   "source": [
    "frecuenciaItem = prestamosLimpio.groupby(['Llave'])['RowID'].count().reset_index(name='count').sort_values(['count'], ascending=False)\n",
    "frecuenciaItem"
   ]
  },
  {
   "cell_type": "code",
   "execution_count": 83,
   "metadata": {
    "colab": {
     "base_uri": "https://localhost:8080/",
     "height": 0
    },
    "executionInfo": {
     "elapsed": 195,
     "status": "ok",
     "timestamp": 1633064355622,
     "user": {
      "displayName": "juan sebastian angarita torres",
      "photoUrl": "https://lh3.googleusercontent.com/a-/AOh14GgjiV1o_Xb2Ov2kAJhpXcHsgVLy47m-BxyXrYYMfw=s64",
      "userId": "11476954540008106843"
     },
     "user_tz": 300
    },
    "id": "FWVOQ3PnEY9R",
    "outputId": "d132b0a4-d0c5-4eb8-9f58-680555a2fb4d"
   },
   "outputs": [
    {
     "data": {
      "image/png": "[encoded data removed]",
      "text/plain": [
       "<Figure size 504x360 with 1 Axes>"
      ]
     },
     "metadata": {
      "needs_background": "light"
     },
     "output_type": "display_data"
    }
   ],
   "source": [
    "plt.figure(figsize=(7, 5))\n",
    "plt.title(\"BoxPlot - Distribución de valores del atributo HORA\")\n",
    "plt.ylabel(\"Hora formato 24\")\n",
    "boxplot = frecuenciaItem.boxplot(column = ['count'])"
   ]
  },
  {
   "cell_type": "code",
   "execution_count": 84,
   "metadata": {
    "colab": {
     "base_uri": "https://localhost:8080/",
     "height": 0
    },
    "executionInfo": {
     "elapsed": 272,
     "status": "ok",
     "timestamp": 1633064355892,
     "user": {
      "displayName": "juan sebastian angarita torres",
      "photoUrl": "https://lh3.googleusercontent.com/a-/AOh14GgjiV1o_Xb2Ov2kAJhpXcHsgVLy47m-BxyXrYYMfw=s64",
      "userId": "11476954540008106843"
     },
     "user_tz": 300
    },
    "id": "XWE8hKfvEcuQ",
    "outputId": "c268d75c-e28f-441d-9af7-0b80440250fb"
   },
   "outputs": [
    {
     "data": {
      "image/png": "[encoded data removed]",
      "text/plain": [
       "<Figure size 504x360 with 1 Axes>"
      ]
     },
     "metadata": {
      "needs_background": "light"
     },
     "output_type": "display_data"
    }
   ],
   "source": [
    "plt.figure(figsize=(7, 5))\n",
    "plt.title(\"BoxPlot - Distribución de valores del atributo HORA\")\n",
    "plt.ylabel(\"Hora formato 24\")\n",
    "boxplot = frecuenciaItem.boxplot(column = ['count'], showfliers=False)"
   ]
  },
  {
   "cell_type": "code",
   "execution_count": 85,
   "metadata": {
    "colab": {
     "base_uri": "https://localhost:8080/",
     "height": 0
    },
    "executionInfo": {
     "elapsed": 3,
     "status": "ok",
     "timestamp": 1633064355893,
     "user": {
      "displayName": "juan sebastian angarita torres",
      "photoUrl": "https://lh3.googleusercontent.com/a-/AOh14GgjiV1o_Xb2Ov2kAJhpXcHsgVLy47m-BxyXrYYMfw=s64",
      "userId": "11476954540008106843"
     },
     "user_tz": 300
    },
    "id": "-vWnVP_YEhtf",
    "outputId": "45c8cf0b-f604-4f8d-f7d4-e842eedf413b"
   },
   "outputs": [
    {
     "data": {
      "text/html": [
       "<div>\n",
       "<style scoped>\n",
       "    .dataframe tbody tr th:only-of-type {\n",
       "        vertical-align: middle;\n",
       "    }\n",
       "\n",
       "    .dataframe tbody tr th {\n",
       "        vertical-align: top;\n",
       "    }\n",
       "\n",
       "    .dataframe thead th {\n",
       "        text-align: right;\n",
       "    }\n",
       "</style>\n",
       "<table border=\"1\" class=\"dataframe\">\n",
       "  <thead>\n",
       "    <tr style=\"text-align: right;\">\n",
       "      <th></th>\n",
       "      <th>count</th>\n",
       "    </tr>\n",
       "  </thead>\n",
       "  <tbody>\n",
       "    <tr>\n",
       "      <th>count</th>\n",
       "      <td>91334.000000</td>\n",
       "    </tr>\n",
       "    <tr>\n",
       "      <th>mean</th>\n",
       "      <td>5.362045</td>\n",
       "    </tr>\n",
       "    <tr>\n",
       "      <th>std</th>\n",
       "      <td>9.688578</td>\n",
       "    </tr>\n",
       "    <tr>\n",
       "      <th>min</th>\n",
       "      <td>1.000000</td>\n",
       "    </tr>\n",
       "    <tr>\n",
       "      <th>25%</th>\n",
       "      <td>1.000000</td>\n",
       "    </tr>\n",
       "    <tr>\n",
       "      <th>50%</th>\n",
       "      <td>3.000000</td>\n",
       "    </tr>\n",
       "    <tr>\n",
       "      <th>75%</th>\n",
       "      <td>6.000000</td>\n",
       "    </tr>\n",
       "    <tr>\n",
       "      <th>max</th>\n",
       "      <td>675.000000</td>\n",
       "    </tr>\n",
       "  </tbody>\n",
       "</table>\n",
       "</div>"
      ],
      "text/plain": [
       "              count\n",
       "count  91334.000000\n",
       "mean       5.362045\n",
       "std        9.688578\n",
       "min        1.000000\n",
       "25%        1.000000\n",
       "50%        3.000000\n",
       "75%        6.000000\n",
       "max      675.000000"
      ]
     },
     "execution_count": 85,
     "metadata": {},
     "output_type": "execute_result"
    }
   ],
   "source": [
    "frecuenciaItem.describe()"
   ]
  },
  {
   "cell_type": "code",
   "execution_count": 86,
   "metadata": {
    "colab": {
     "base_uri": "https://localhost:8080/",
     "height": 0
    },
    "executionInfo": {
     "elapsed": 342,
     "status": "ok",
     "timestamp": 1633064356232,
     "user": {
      "displayName": "juan sebastian angarita torres",
      "photoUrl": "https://lh3.googleusercontent.com/a-/AOh14GgjiV1o_Xb2Ov2kAJhpXcHsgVLy47m-BxyXrYYMfw=s64",
      "userId": "11476954540008106843"
     },
     "user_tz": 300
    },
    "id": "cG2-PimZFcei",
    "outputId": "79dd63d6-eb13-46ac-bdd3-e0091769c293"
   },
   "outputs": [
    {
     "data": {
      "text/html": [
       "<div>\n",
       "<style scoped>\n",
       "    .dataframe tbody tr th:only-of-type {\n",
       "        vertical-align: middle;\n",
       "    }\n",
       "\n",
       "    .dataframe tbody tr th {\n",
       "        vertical-align: top;\n",
       "    }\n",
       "\n",
       "    .dataframe thead th {\n",
       "        text-align: right;\n",
       "    }\n",
       "</style>\n",
       "<table border=\"1\" class=\"dataframe\">\n",
       "  <thead>\n",
       "    <tr style=\"text-align: right;\">\n",
       "      <th></th>\n",
       "      <th>Llave</th>\n",
       "      <th>Dewey</th>\n",
       "      <th>count</th>\n",
       "    </tr>\n",
       "  </thead>\n",
       "  <tbody>\n",
       "    <tr>\n",
       "      <th>59423</th>\n",
       "      <td>893295</td>\n",
       "      <td>610</td>\n",
       "      <td>675</td>\n",
       "    </tr>\n",
       "    <tr>\n",
       "      <th>9295</th>\n",
       "      <td>312287</td>\n",
       "      <td>180</td>\n",
       "      <td>450</td>\n",
       "    </tr>\n",
       "    <tr>\n",
       "      <th>54402</th>\n",
       "      <td>861744</td>\n",
       "      <td>330</td>\n",
       "      <td>429</td>\n",
       "    </tr>\n",
       "    <tr>\n",
       "      <th>45654</th>\n",
       "      <td>806204</td>\n",
       "      <td>530</td>\n",
       "      <td>345</td>\n",
       "    </tr>\n",
       "    <tr>\n",
       "      <th>29213</th>\n",
       "      <td>682862</td>\n",
       "      <td>530</td>\n",
       "      <td>324</td>\n",
       "    </tr>\n",
       "    <tr>\n",
       "      <th>...</th>\n",
       "      <td>...</td>\n",
       "      <td>...</td>\n",
       "      <td>...</td>\n",
       "    </tr>\n",
       "    <tr>\n",
       "      <th>29699</th>\n",
       "      <td>687113</td>\n",
       "      <td>980</td>\n",
       "      <td>1</td>\n",
       "    </tr>\n",
       "    <tr>\n",
       "      <th>70320</th>\n",
       "      <td>313132</td>\n",
       "      <td>900</td>\n",
       "      <td>1</td>\n",
       "    </tr>\n",
       "    <tr>\n",
       "      <th>29700</th>\n",
       "      <td>687117</td>\n",
       "      <td>350</td>\n",
       "      <td>1</td>\n",
       "    </tr>\n",
       "    <tr>\n",
       "      <th>70317</th>\n",
       "      <td>313014</td>\n",
       "      <td>920</td>\n",
       "      <td>1</td>\n",
       "    </tr>\n",
       "    <tr>\n",
       "      <th>46582</th>\n",
       "      <td>813683</td>\n",
       "      <td>340</td>\n",
       "      <td>1</td>\n",
       "    </tr>\n",
       "  </tbody>\n",
       "</table>\n",
       "<p>93165 rows × 3 columns</p>\n",
       "</div>"
      ],
      "text/plain": [
       "        Llave Dewey  count\n",
       "59423  893295   610    675\n",
       "9295   312287   180    450\n",
       "54402  861744   330    429\n",
       "45654  806204   530    345\n",
       "29213  682862   530    324\n",
       "...       ...   ...    ...\n",
       "29699  687113   980      1\n",
       "70320  313132   900      1\n",
       "29700  687117   350      1\n",
       "70317  313014   920      1\n",
       "46582  813683   340      1\n",
       "\n",
       "[93165 rows x 3 columns]"
      ]
     },
     "execution_count": 86,
     "metadata": {},
     "output_type": "execute_result"
    }
   ],
   "source": [
    "frecuenciaItem = prestamosLimpio.groupby(['Llave','Dewey'])['RowID'].count().reset_index(name='count').sort_values(['count'], ascending=False)\n",
    "frecuenciaItem"
   ]
  },
  {
   "cell_type": "markdown",
   "metadata": {
    "id": "mvkyAUGHEout"
   },
   "source": [
    "**Análisis:** Al agrupar por llave de libros podemos notar que hay libros que son más populares que otros en la comunidad educativa. No se eliminará ningún outliers ya que simplemente se trata de libros con gran popularidad. \n",
    "\n",
    "Los deweys a los cuales pertenecen estos libros son el 610(medicina), 180(filosofía oriental) y 330(economía)."
   ]
  },
  {
   "cell_type": "markdown",
   "metadata": {
    "id": "NgV7OxX_JwH8"
   },
   "source": [
    "## Facultad vs Dewey"
   ]
  },
  {
   "cell_type": "code",
   "execution_count": 87,
   "metadata": {
    "colab": {
     "base_uri": "https://localhost:8080/",
     "height": 0
    },
    "executionInfo": {
     "elapsed": 2,
     "status": "ok",
     "timestamp": 1633064357298,
     "user": {
      "displayName": "juan sebastian angarita torres",
      "photoUrl": "https://lh3.googleusercontent.com/a-/AOh14GgjiV1o_Xb2Ov2kAJhpXcHsgVLy47m-BxyXrYYMfw=s64",
      "userId": "11476954540008106843"
     },
     "user_tz": 300
    },
    "id": "Iczp0B2TM5RZ",
    "outputId": "602329f9-f576-498c-db7e-236cb01d5274"
   },
   "outputs": [
    {
     "data": {
      "text/html": [
       "<div>\n",
       "<style scoped>\n",
       "    .dataframe tbody tr th:only-of-type {\n",
       "        vertical-align: middle;\n",
       "    }\n",
       "\n",
       "    .dataframe tbody tr th {\n",
       "        vertical-align: top;\n",
       "    }\n",
       "\n",
       "    .dataframe thead th {\n",
       "        text-align: right;\n",
       "    }\n",
       "</style>\n",
       "<table border=\"1\" class=\"dataframe\">\n",
       "  <thead>\n",
       "    <tr style=\"text-align: right;\">\n",
       "      <th></th>\n",
       "      <th>Facultad</th>\n",
       "      <th>Dewey</th>\n",
       "      <th>count</th>\n",
       "    </tr>\n",
       "  </thead>\n",
       "  <tbody>\n",
       "    <tr>\n",
       "      <th>399</th>\n",
       "      <td>ciencias jurídicas</td>\n",
       "      <td>340</td>\n",
       "      <td>19074</td>\n",
       "    </tr>\n",
       "    <tr>\n",
       "      <th>582</th>\n",
       "      <td>ciencias sociales</td>\n",
       "      <td>300</td>\n",
       "      <td>11067</td>\n",
       "    </tr>\n",
       "    <tr>\n",
       "      <th>338</th>\n",
       "      <td>ciencias económicas y administrativas</td>\n",
       "      <td>650</td>\n",
       "      <td>9940</td>\n",
       "    </tr>\n",
       "    <tr>\n",
       "      <th>1391</th>\n",
       "      <td>ingeniería</td>\n",
       "      <td>620</td>\n",
       "      <td>8683</td>\n",
       "    </tr>\n",
       "    <tr>\n",
       "      <th>305</th>\n",
       "      <td>ciencias económicas y administrativas</td>\n",
       "      <td>330</td>\n",
       "      <td>7861</td>\n",
       "    </tr>\n",
       "    <tr>\n",
       "      <th>641</th>\n",
       "      <td>ciencias sociales</td>\n",
       "      <td>860</td>\n",
       "      <td>7749</td>\n",
       "    </tr>\n",
       "    <tr>\n",
       "      <th>1686</th>\n",
       "      <td>medicina</td>\n",
       "      <td>610</td>\n",
       "      <td>7405</td>\n",
       "    </tr>\n",
       "    <tr>\n",
       "      <th>241</th>\n",
       "      <td>ciencias</td>\n",
       "      <td>610</td>\n",
       "      <td>6942</td>\n",
       "    </tr>\n",
       "    <tr>\n",
       "      <th>1766</th>\n",
       "      <td>odontología</td>\n",
       "      <td>610</td>\n",
       "      <td>6862</td>\n",
       "    </tr>\n",
       "    <tr>\n",
       "      <th>679</th>\n",
       "      <td>comunicación y lenguaje</td>\n",
       "      <td>300</td>\n",
       "      <td>6721</td>\n",
       "    </tr>\n",
       "  </tbody>\n",
       "</table>\n",
       "</div>"
      ],
      "text/plain": [
       "                                   Facultad Dewey  count\n",
       "399                      ciencias jurídicas   340  19074\n",
       "582                       ciencias sociales   300  11067\n",
       "338   ciencias económicas y administrativas   650   9940\n",
       "1391                             ingeniería   620   8683\n",
       "305   ciencias económicas y administrativas   330   7861\n",
       "641                       ciencias sociales   860   7749\n",
       "1686                               medicina   610   7405\n",
       "241                                ciencias   610   6942\n",
       "1766                            odontología   610   6862\n",
       "679                 comunicación y lenguaje   300   6721"
      ]
     },
     "execution_count": 87,
     "metadata": {},
     "output_type": "execute_result"
    }
   ],
   "source": [
    "facultadDewey = prestamosLimpio.groupby(['Facultad','Dewey'])['RowID'].count().reset_index(name='count').sort_values(['count'], ascending=False)\n",
    "facultadDewey.head(10)"
   ]
  },
  {
   "cell_type": "markdown",
   "metadata": {
    "id": "PR4e5stQNLip"
   },
   "source": [
    "**Análisis:** Podemos notar  que cada facultad está más o menos sesgada hacia un dewey en especifico. \n",
    "* ciencias jurídicas -> leyes\n",
    "* ciencias sociales -> ciencias sociales, socialogía y antropología. \n",
    "* ciencias económicas y administrativas -> administración y relaciones públicas. \n"
   ]
  },
  {
   "cell_type": "markdown",
   "metadata": {
    "id": "vbVaDQBrJt4w"
   },
   "source": [
    "## Dewey vs Año\n",
    "Se analizará cuales son los deweys más populares por año. "
   ]
  },
  {
   "cell_type": "code",
   "execution_count": 88,
   "metadata": {
    "colab": {
     "base_uri": "https://localhost:8080/",
     "height": 0
    },
    "executionInfo": {
     "elapsed": 255,
     "status": "ok",
     "timestamp": 1633064359190,
     "user": {
      "displayName": "juan sebastian angarita torres",
      "photoUrl": "https://lh3.googleusercontent.com/a-/AOh14GgjiV1o_Xb2Ov2kAJhpXcHsgVLy47m-BxyXrYYMfw=s64",
      "userId": "11476954540008106843"
     },
     "user_tz": 300
    },
    "id": "3B0RM-g1OIhv",
    "outputId": "2a9ac361-c88f-4764-e8ac-f2e5de31c30f"
   },
   "outputs": [
    {
     "data": {
      "text/html": [
       "<div>\n",
       "<style scoped>\n",
       "    .dataframe tbody tr th:only-of-type {\n",
       "        vertical-align: middle;\n",
       "    }\n",
       "\n",
       "    .dataframe tbody tr th {\n",
       "        vertical-align: top;\n",
       "    }\n",
       "\n",
       "    .dataframe thead th {\n",
       "        text-align: right;\n",
       "    }\n",
       "</style>\n",
       "<table border=\"1\" class=\"dataframe\">\n",
       "  <thead>\n",
       "    <tr style=\"text-align: right;\">\n",
       "      <th></th>\n",
       "      <th>Year</th>\n",
       "      <th>Dewey</th>\n",
       "      <th>count</th>\n",
       "    </tr>\n",
       "  </thead>\n",
       "  <tbody>\n",
       "    <tr>\n",
       "      <th>24</th>\n",
       "      <td>2018</td>\n",
       "      <td>300</td>\n",
       "      <td>17832</td>\n",
       "    </tr>\n",
       "    <tr>\n",
       "      <th>56</th>\n",
       "      <td>2018</td>\n",
       "      <td>610</td>\n",
       "      <td>17429</td>\n",
       "    </tr>\n",
       "    <tr>\n",
       "      <th>28</th>\n",
       "      <td>2018</td>\n",
       "      <td>340</td>\n",
       "      <td>14364</td>\n",
       "    </tr>\n",
       "  </tbody>\n",
       "</table>\n",
       "</div>"
      ],
      "text/plain": [
       "    Year Dewey  count\n",
       "24  2018   300  17832\n",
       "56  2018   610  17429\n",
       "28  2018   340  14364"
      ]
     },
     "metadata": {},
     "output_type": "display_data"
    },
    {
     "data": {
      "text/html": [
       "<div>\n",
       "<style scoped>\n",
       "    .dataframe tbody tr th:only-of-type {\n",
       "        vertical-align: middle;\n",
       "    }\n",
       "\n",
       "    .dataframe tbody tr th {\n",
       "        vertical-align: top;\n",
       "    }\n",
       "\n",
       "    .dataframe thead th {\n",
       "        text-align: right;\n",
       "    }\n",
       "</style>\n",
       "<table border=\"1\" class=\"dataframe\">\n",
       "  <thead>\n",
       "    <tr style=\"text-align: right;\">\n",
       "      <th></th>\n",
       "      <th>Year</th>\n",
       "      <th>Dewey</th>\n",
       "      <th>count</th>\n",
       "    </tr>\n",
       "  </thead>\n",
       "  <tbody>\n",
       "    <tr>\n",
       "      <th>123</th>\n",
       "      <td>2019</td>\n",
       "      <td>300</td>\n",
       "      <td>14634</td>\n",
       "    </tr>\n",
       "    <tr>\n",
       "      <th>156</th>\n",
       "      <td>2019</td>\n",
       "      <td>610</td>\n",
       "      <td>13363</td>\n",
       "    </tr>\n",
       "    <tr>\n",
       "      <th>127</th>\n",
       "      <td>2019</td>\n",
       "      <td>340</td>\n",
       "      <td>13012</td>\n",
       "    </tr>\n",
       "  </tbody>\n",
       "</table>\n",
       "</div>"
      ],
      "text/plain": [
       "     Year Dewey  count\n",
       "123  2019   300  14634\n",
       "156  2019   610  13363\n",
       "127  2019   340  13012"
      ]
     },
     "metadata": {},
     "output_type": "display_data"
    },
    {
     "data": {
      "text/html": [
       "<div>\n",
       "<style scoped>\n",
       "    .dataframe tbody tr th:only-of-type {\n",
       "        vertical-align: middle;\n",
       "    }\n",
       "\n",
       "    .dataframe tbody tr th {\n",
       "        vertical-align: top;\n",
       "    }\n",
       "\n",
       "    .dataframe thead th {\n",
       "        text-align: right;\n",
       "    }\n",
       "</style>\n",
       "<table border=\"1\" class=\"dataframe\">\n",
       "  <thead>\n",
       "    <tr style=\"text-align: right;\">\n",
       "      <th></th>\n",
       "      <th>Year</th>\n",
       "      <th>Dewey</th>\n",
       "      <th>count</th>\n",
       "    </tr>\n",
       "  </thead>\n",
       "  <tbody>\n",
       "    <tr>\n",
       "      <th>252</th>\n",
       "      <td>2020</td>\n",
       "      <td>610</td>\n",
       "      <td>4120</td>\n",
       "    </tr>\n",
       "    <tr>\n",
       "      <th>220</th>\n",
       "      <td>2020</td>\n",
       "      <td>300</td>\n",
       "      <td>4081</td>\n",
       "    </tr>\n",
       "    <tr>\n",
       "      <th>224</th>\n",
       "      <td>2020</td>\n",
       "      <td>340</td>\n",
       "      <td>3596</td>\n",
       "    </tr>\n",
       "  </tbody>\n",
       "</table>\n",
       "</div>"
      ],
      "text/plain": [
       "     Year Dewey  count\n",
       "252  2020   610   4120\n",
       "220  2020   300   4081\n",
       "224  2020   340   3596"
      ]
     },
     "metadata": {},
     "output_type": "display_data"
    },
    {
     "data": {
      "text/html": [
       "<div>\n",
       "<style scoped>\n",
       "    .dataframe tbody tr th:only-of-type {\n",
       "        vertical-align: middle;\n",
       "    }\n",
       "\n",
       "    .dataframe tbody tr th {\n",
       "        vertical-align: top;\n",
       "    }\n",
       "\n",
       "    .dataframe thead th {\n",
       "        text-align: right;\n",
       "    }\n",
       "</style>\n",
       "<table border=\"1\" class=\"dataframe\">\n",
       "  <thead>\n",
       "    <tr style=\"text-align: right;\">\n",
       "      <th></th>\n",
       "      <th>Year</th>\n",
       "      <th>Dewey</th>\n",
       "      <th>count</th>\n",
       "    </tr>\n",
       "  </thead>\n",
       "  <tbody>\n",
       "    <tr>\n",
       "      <th>317</th>\n",
       "      <td>2021</td>\n",
       "      <td>340</td>\n",
       "      <td>1238</td>\n",
       "    </tr>\n",
       "    <tr>\n",
       "      <th>313</th>\n",
       "      <td>2021</td>\n",
       "      <td>300</td>\n",
       "      <td>1114</td>\n",
       "    </tr>\n",
       "    <tr>\n",
       "      <th>344</th>\n",
       "      <td>2021</td>\n",
       "      <td>610</td>\n",
       "      <td>877</td>\n",
       "    </tr>\n",
       "  </tbody>\n",
       "</table>\n",
       "</div>"
      ],
      "text/plain": [
       "     Year Dewey  count\n",
       "317  2021   340   1238\n",
       "313  2021   300   1114\n",
       "344  2021   610    877"
      ]
     },
     "metadata": {},
     "output_type": "display_data"
    }
   ],
   "source": [
    "deweyanio = prestamosLimpio.groupby(['Year','Dewey'])['RowID'].count().reset_index(name='count').sort_values(['count'], ascending=False)\n",
    "display(deweyanio[deweyanio.Year == \"2018\"].head(3))\n",
    "display(deweyanio[deweyanio.Year == \"2019\"].head(3))\n",
    "display(deweyanio[deweyanio.Year == \"2020\"].head(3))\n",
    "display(deweyanio[deweyanio.Year == \"2021\"].head(3))"
   ]
  },
  {
   "cell_type": "markdown",
   "metadata": {
    "id": "Y5mAwiC1O7ir"
   },
   "source": [
    "**Análisis:** Notamos que cada año hay diferentes tendencias frente a las temáticas en que la comunidad educativa está interesada. Igual se aprecia que deweys como el 610(medicina) o 300(ciencias sociales) se mantienen en el top 3 sin importar el año. "
   ]
  },
  {
   "cell_type": "markdown",
   "metadata": {
    "id": "d2VdtEKhVIwG"
   },
   "source": [
    "# Conclusiones y decisiones\n",
    "A nivel de la estrucutración y problemas de integridad del dataset se tomaron las siguientes decisiones:\n",
    "* Eliminar tipo de items no asociados a libros.\n",
    "* Formatear columna Fecha a un TimeStamp\n",
    "* Formatear el nombre de las columnas para seguir un mismo formato\n",
    "* Estandrizar la columna de Facultad\n",
    "* Eliminar columnas 'BibliotecaTransaccion','Biblioteca','Hora','Transaccion',  'Caterogoria1'.\n",
    "* Crear la columna derivada Year.\n",
    "\n",
    "Algunas conclusiones que podemos sacar del dataset fueron:\n",
    "* La mayoría de los prestamos pertenecen a los años 2018 y 2019.\n",
    "* Las facultades están cesgadas a sacar material relacionado con su disciplina academica. \n",
    "* La popularidad del material por dewey de manetiene a través de los años. \n",
    "* Hay un desbalance en la cantidad de material prestado por cada facultad o programa de la universidad. \n",
    "* La mayoría de usuarios prestan alrededor de 6 libros en un periodo de 4 años. \n",
    "\n",
    "El dataset de manera general no contenía problemas de integridad, nulos o datos faltantes lo cual ayudó en gran manera a que el proceso de limpieza fuera lo más sencillo posible. Así \n"
   ]
  },
  {
   "cell_type": "markdown",
   "metadata": {
    "id": "SaiqnDeLiwsr"
   },
   "source": [
    "# Exportación"
   ]
  },
  {
   "cell_type": "code",
   "execution_count": 89,
   "metadata": {
    "executionInfo": {
     "elapsed": 3491,
     "status": "ok",
     "timestamp": 1633064364180,
     "user": {
      "displayName": "juan sebastian angarita torres",
      "photoUrl": "https://lh3.googleusercontent.com/a-/AOh14GgjiV1o_Xb2Ov2kAJhpXcHsgVLy47m-BxyXrYYMfw=s64",
      "userId": "11476954540008106843"
     },
     "user_tz": 300
    },
    "id": "OmhXWE4bRJy5"
   },
   "outputs": [],
   "source": [
    "prestamosLimpio.to_json(r'C:\\Users\\johan\\Desktop\\GitKraken\\DataOutOfGit\\Limpieza\\PRESTAMOS-BGENERAL.json')"
   ]
  }
 ],
 "metadata": {
  "colab": {
   "authorship_tag": "ABX9TyPgvZGsLAR1IjVCNdi0AoLW",
   "collapsed_sections": [],
   "name": "Entendimiento-limpieza prestamos.ipynb",
   "provenance": [],
   "toc_visible": true
  },
  "kernelspec": {
   "display_name": "Python 3 (ipykernel)",
   "language": "python",
   "name": "python3"
  },
  "language_info": {
   "codemirror_mode": {
    "name": "ipython",
    "version": 3
   },
   "file_extension": ".py",
   "mimetype": "text/x-python",
   "name": "python",
   "nbconvert_exporter": "python",
   "pygments_lexer": "ipython3",
   "version": "3.7.10"
  }
 },
 "nbformat": 4,
 "nbformat_minor": 1
}
