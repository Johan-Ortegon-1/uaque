{
 "cells": [
  {
   "cell_type": "markdown",
   "id": "9e09dd2c-9055-4e21-aa04-409ce30b0819",
   "metadata": {
    "tags": []
   },
   "source": [
    "# Carga de datos"
   ]
  },
  {
   "cell_type": "code",
   "execution_count": 1,
   "id": "0927d745",
   "metadata": {
    "gather": {
     "logged": 1633736047515
    }
   },
   "outputs": [],
   "source": [
    "import pandas as pd\n",
    "import numpy as np\n",
    "import gzip, pickle, pickletools\n",
    "import time"
   ]
  },
  {
   "cell_type": "code",
   "execution_count": 2,
   "id": "afd562b4-54b3-47d1-aac2-9e1eb799611e",
   "metadata": {
    "gather": {
     "logged": 1633736047845
    },
    "jupyter": {
     "outputs_hidden": false,
     "source_hidden": false
    },
    "nteract": {
     "transient": {
      "deleting": false
     }
    }
   },
   "outputs": [],
   "source": [
    "basepath = \"https://www.dropbox.com/s/\""
   ]
  },
  {
   "cell_type": "code",
   "execution_count": 3,
   "id": "a20c7ca0",
   "metadata": {
    "gather": {
     "logged": 1633736069988
    }
   },
   "outputs": [],
   "source": [
    "# Archivo de prestamos\n",
    "df_prestamos = pd.read_json(basepath + \"q38zr341seq7rkf/joinTablas.json?dl=1\")"
   ]
  },
  {
   "cell_type": "code",
   "execution_count": 5,
   "id": "570abe72",
   "metadata": {},
   "outputs": [
    {
     "data": {
      "text/plain": [
       "Index(['RowID', 'Fecha', 'IDItem', 'NumeroUbicacion', 'Dewey', 'Ubicacion',\n",
       "       'Llave', 'Programa', 'Facultad', 'IDUsuario', 'Year', 'Signatura',\n",
       "       'TipoItem', 'FechaCreacion', 'Autor', 'Titulo', 'AnioPublicacion',\n",
       "       'DeweyEspecifico', 'TemaDewey', 'DeweyUnidad', 'DeweyDecena',\n",
       "       'DeweyCentena', 'Temas', 'Union'],\n",
       "      dtype='object')"
      ]
     },
     "execution_count": 5,
     "metadata": {},
     "output_type": "execute_result"
    }
   ],
   "source": [
    "df_prestamos.columns"
   ]
  },
  {
   "cell_type": "code",
   "execution_count": 11,
   "id": "91f50d9b",
   "metadata": {},
   "outputs": [
    {
     "data": {
      "text/plain": [
       "0                     [arquitectur, histori, amer, latin]\n",
       "1               [arquitectur, colonial, histori, colombi]\n",
       "2                                                [quimic]\n",
       "3                                                [algebr]\n",
       "4                                   [arquitectur, paisaj]\n",
       "                               ...                       \n",
       "489732                              [filosofi, educacion]\n",
       "489733                              [filosofi, educacion]\n",
       "489734                                    [arte, histori]\n",
       "489735    [exam, admision, gradu, administracion, empres]\n",
       "489736                                  [cuent, austriac]\n",
       "Name: Temas, Length: 489474, dtype: object"
      ]
     },
     "execution_count": 11,
     "metadata": {},
     "output_type": "execute_result"
    }
   ],
   "source": [
    "df_prestamos['Temas']"
   ]
  },
  {
   "cell_type": "code",
   "execution_count": null,
   "id": "771957df",
   "metadata": {
    "gather": {
     "logged": 1633736070763
    }
   },
   "outputs": [],
   "source": [
    "df_temas = pd.read_json(basepath + 'a2wops7yxdjd2ea/Libros.json?dl=1')"
   ]
  },
  {
   "cell_type": "code",
   "execution_count": null,
   "id": "1ac18f4d",
   "metadata": {},
   "outputs": [],
   "source": [
    "df_pesos =  pd.read_json(basepath + 've3qvkt0s6aymzp/pesos_dewey_unidad_difusa.json?dl=1')"
   ]
  },
  {
   "cell_type": "code",
   "execution_count": null,
   "id": "09b0b143",
   "metadata": {},
   "outputs": [],
   "source": [
    "df_pesos.rename(columns={'Llave':'Llaves', 'DeweyUnidad': 'cluster', 'Fecha': 'timestamp', 'pesos': 'Peso del prestamos'}, inplace=True)"
   ]
  },
  {
   "cell_type": "code",
   "execution_count": null,
   "id": "12f520e8",
   "metadata": {},
   "outputs": [],
   "source": [
    "df_pesos.loc[df_pesos['Llaves'] =='#XL_EVAL_ERROR#', 'Llaves'] = 0"
   ]
  },
  {
   "cell_type": "code",
   "execution_count": null,
   "id": "c41cccb7",
   "metadata": {
    "scrolled": true
   },
   "outputs": [],
   "source": [
    "df_pesos"
   ]
  },
  {
   "cell_type": "code",
   "execution_count": null,
   "id": "6d6e1876",
   "metadata": {
    "scrolled": true
   },
   "outputs": [],
   "source": [
    "df_pesos_full =  pd.read_json(basepath + 'zuwne8aii9dknvs/pesos_clustering_unidad.json?dl=1')"
   ]
  },
  {
   "cell_type": "markdown",
   "id": "8d7c1bb8",
   "metadata": {
    "tags": []
   },
   "source": [
    "# Funciones auxiliares"
   ]
  },
  {
   "cell_type": "code",
   "execution_count": null,
   "id": "ef1b6b8c",
   "metadata": {
    "executionInfo": {
     "elapsed": 7,
     "status": "ok",
     "timestamp": 1632277059310,
     "user": {
      "displayName": "Daniel Tibaquira",
      "photoUrl": "https://lh3.googleusercontent.com/a-/AOh14Gj_hZUg1m9LeLQwBq4WOlx9a8aogZwxWo0xpAdZ6g=s64",
      "userId": "07934439656358572853"
     },
     "user_tz": 300
    },
    "id": "SdVW4ma2TrVn"
   },
   "outputs": [],
   "source": []
  },
  {
   "cell_type": "code",
   "execution_count": null,
   "id": "cb4b93ee",
   "metadata": {
    "executionInfo": {
     "elapsed": 5,
     "status": "ok",
     "timestamp": 1632277059311,
     "user": {
      "displayName": "Daniel Tibaquira",
      "photoUrl": "https://lh3.googleusercontent.com/a-/AOh14Gj_hZUg1m9LeLQwBq4WOlx9a8aogZwxWo0xpAdZ6g=s64",
      "userId": "07934439656358572853"
     },
     "user_tz": 300
    },
    "gather": {
     "logged": 1633736070925
    },
    "id": "CkPiL4BGgaun"
   },
   "outputs": [],
   "source": [
    "#Para obtener el nombre de un material a partir del título\n",
    "def itemIdToMaterial(id):\n",
    "    return df_prestamos.loc[df_prestamos['Llave'] == id]['Titulo'].unique()"
   ]
  },
  {
   "cell_type": "code",
   "execution_count": null,
   "id": "7b0c56e6",
   "metadata": {
    "executionInfo": {
     "elapsed": 255,
     "status": "ok",
     "timestamp": 1632277059562,
     "user": {
      "displayName": "Daniel Tibaquira",
      "photoUrl": "https://lh3.googleusercontent.com/a-/AOh14Gj_hZUg1m9LeLQwBq4WOlx9a8aogZwxWo0xpAdZ6g=s64",
      "userId": "07934439656358572853"
     },
     "user_tz": 300
    },
    "gather": {
     "logged": 1633736071089
    },
    "id": "kZOmdkObD4DO"
   },
   "outputs": [],
   "source": [
    "\n",
    "def itemIdToDewey(id):\n",
    "    item = (df_prestamos.loc[df_prestamos['Llave'] == id]['Dewey'].unique())\n",
    "    if len(item) == 0:\n",
    "        return  (df_prestamos.loc[df_prestamos['Llave'] == str(id)]['Dewey'].unique())[0]\n",
    "    else:\n",
    "        return item[0]"
   ]
  },
  {
   "cell_type": "code",
   "execution_count": null,
   "id": "525252aa",
   "metadata": {
    "gather": {
     "logged": 1633736071264
    }
   },
   "outputs": [],
   "source": [
    "def itemIdToThemes(id):\n",
    "    tematicas = df_temas.loc[df_temas['Llaves'] == str(id)]['Tema 670'].values\n",
    "    if len(tematicas) == 0:\n",
    "        return []\n",
    "    else:\n",
    "        return tematicas"
   ]
  },
  {
   "cell_type": "code",
   "execution_count": null,
   "id": "2471c18f",
   "metadata": {
    "gather": {
     "logged": 1633736072317
    }
   },
   "outputs": [],
   "source": [
    "\n",
    "def generateClusterInfo(cluster_eval, df_eval):\n",
    "    dfP = df_eval.copy()\n",
    "    user_p = dfP.loc[dfP['cluster'] == cluster_eval]\n",
    "    tematicas =[]\n",
    "    for llave in user_p['Llaves'].unique():\n",
    "        tematicas.append(itemIdToThemes((llave)))\n",
    "\n",
    "    user_p['Tematicas'] = tematicas\n",
    "    display(user_p)\n",
    "    deweys = ((dfP.loc[dfP['cluster'] == cluster_eval]['Dewey'].unique()))\n",
    "    print((dfP.loc[dfP['cluster'] == cluster_eval]['Dewey'].unique()))\n",
    "\n",
    "    tematicas = []\n",
    "    for tems in user_p['Tematicas']:\n",
    "        for tema in tems:\n",
    "            for temasub in tema:\n",
    "                if temasub in tematicas:\n",
    "                    continue\n",
    "                else:\n",
    "                    tematicas.append(temasub)\n",
    "\n",
    "    return user_p, deweys, set(tematicas)"
   ]
  },
  {
   "cell_type": "code",
   "execution_count": null,
   "id": "7b936629",
   "metadata": {
    "gather": {
     "logged": 1633736072465
    }
   },
   "outputs": [],
   "source": [
    "def generateRecsInfopreds(preds):\n",
    "    recs = preds\n",
    "    data_recs_asr = []\n",
    "    for ids in recs:\n",
    "        data_recs_asr.append({'Titulo':itemIdToMaterial(ids), \n",
    "                         #'Rating':ratings[1], \n",
    "                          'Dewey':itemIdToDewey(ids), \n",
    "                         'Tematicas':itemIdToThemes(ids),\n",
    "                          'Llave': ids})\n",
    "\n",
    "    df_recs_asr = pd.DataFrame(data_recs_asr)\n",
    "    display(df_recs_asr)\n",
    "    deweys = print((df_recs_asr['Dewey'].unique()))\n",
    "    print((df_recs_asr['Dewey'].unique()))\n",
    "\n",
    "    tematicas = []\n",
    "    for tems in df_recs_asr['Tematicas']:\n",
    "        for tema in tems:\n",
    "            for temasub in tema:\n",
    "                if temasub in tematicas:\n",
    "                    continue\n",
    "                else:\n",
    "                    tematicas.append(temasub)\n",
    "\n",
    "    return df_recs_asr, deweys, set(tematicas)"
   ]
  },
  {
   "cell_type": "code",
   "execution_count": null,
   "id": "d2253115",
   "metadata": {
    "executionInfo": {
     "elapsed": 661,
     "status": "ok",
     "timestamp": 1632277060220,
     "user": {
      "displayName": "Daniel Tibaquira",
      "photoUrl": "https://lh3.googleusercontent.com/a-/AOh14Gj_hZUg1m9LeLQwBq4WOlx9a8aogZwxWo0xpAdZ6g=s64",
      "userId": "07934439656358572853"
     },
     "user_tz": 300
    },
    "gather": {
     "logged": 1633736072810
    },
    "id": "7vak2A-KuxT0"
   },
   "outputs": [],
   "source": [
    "import sys\n",
    "# sys.path.append(basePath + 'UAQUE/Recommendations')\n",
    "# sys.path.append(basePath + 'UAQUE')\n",
    "sys.path.append('./')"
   ]
  },
  {
   "cell_type": "code",
   "execution_count": null,
   "id": "e50a426b-1d02-474b-92f1-dd0d1f02fbf1",
   "metadata": {},
   "outputs": [],
   "source": [
    "import math\n",
    "import numpy as np\n",
    "    \n",
    "def generate_recommendations_for_user(id_user, predictor):\n",
    "    pertenencias = df_pesos_full.loc[df_pesos_full[\"IDUsuario\"] == id_user]\n",
    "    grupos = pertenencias[\"Cluster\"].unique()\n",
    "    preds = {}\n",
    "    for gr in grupos:\n",
    "        preds[gr] = predictor.predict_for_cluster(cluster=gr).values\n",
    "        \n",
    "    final_preds = []\n",
    "    for key, value in preds.items():\n",
    "        pert = pertenencias.loc[pertenencias[\"Cluster\"] == key][\"Pertenencia\"].values[0]\n",
    "        if pert < 0.1:\n",
    "            pert = 0.1\n",
    "        else:\n",
    "            pert = round(pert,1)\n",
    "\n",
    "        many_to_take = int(10 * pert)\n",
    "        recs_to_add = np.random.choice(preds[key], many_to_take)\n",
    "        final_preds.extend(recs_to_add)\n",
    "        \n",
    "    return final_preds"
   ]
  },
  {
   "cell_type": "code",
   "execution_count": 19,
   "id": "d321030c",
   "metadata": {},
   "outputs": [],
   "source": [
    "pertenencias = df_pesos_full.loc[df_pesos_full[\"IDUsuario\"] == \"6466dbb15c41fdacb59eb1179817958de2c57191\"]\n",
    "grupos = pertenencias[\"Cluster\"].unique()"
   ]
  },
  {
   "cell_type": "code",
   "execution_count": 20,
   "id": "502f976d",
   "metadata": {},
   "outputs": [
    {
     "data": {
      "text/plain": [
       "array([813, 823, 621, 833])"
      ]
     },
     "execution_count": 20,
     "metadata": {},
     "output_type": "execute_result"
    }
   ],
   "source": [
    "grupos"
   ]
  },
  {
   "cell_type": "markdown",
   "id": "bac4fa00",
   "metadata": {
    "tags": []
   },
   "source": [
    "# SAR"
   ]
  },
  {
   "cell_type": "code",
   "execution_count": 17,
   "id": "1c420c41",
   "metadata": {
    "gather": {
     "logged": 1633736074965
    }
   },
   "outputs": [
    {
     "name": "stderr",
     "output_type": "stream",
     "text": [
      "/opt/anaconda3/envs/reco_base/lib/python3.7/site-packages/papermill/iorw.py:50: FutureWarning: pyarrow.HadoopFileSystem is deprecated as of 2.0.0, please use pyarrow.fs.HadoopFileSystem instead.\n",
      "  from pyarrow import HadoopFileSystem\n"
     ]
    }
   ],
   "source": [
    "from sar_recommeder import SarRecommeder"
   ]
  },
  {
   "cell_type": "code",
   "execution_count": 18,
   "id": "2a49c1a4",
   "metadata": {},
   "outputs": [],
   "source": [
    "model_path = \"sar_predictor150k_10211610.pkl\""
   ]
  },
  {
   "cell_type": "code",
   "execution_count": 19,
   "id": "5ef2d410",
   "metadata": {},
   "outputs": [],
   "source": [
    "with gzip.open(model_path, 'rb') as f:\n",
    "    p = pickle.Unpickler(f)\n",
    "    sar = p.load()\n",
    "sar_predictor = sar\n"
   ]
  },
  {
   "cell_type": "code",
   "execution_count": 21,
   "id": "2ab2b341",
   "metadata": {},
   "outputs": [],
   "source": [
    "import gzip, pickle, pickletools\n",
    "filepath = \"sar_trained_model_du.pkl\"\n",
    "with gzip.open(filepath, \"wb\") as f:\n",
    "    pickled = pickle.dumps(sar_predictor, protocol=4)\n",
    "    optimized_pickle = pickletools.optimize(pickled)\n",
    "    f.write(optimized_pickle)"
   ]
  },
  {
   "cell_type": "code",
   "execution_count": 37,
   "id": "9536410a",
   "metadata": {},
   "outputs": [
    {
     "name": "stdout",
     "output_type": "stream",
     "text": [
      "Collecting blosc\n",
      "  Downloading blosc-1.10.6-cp37-cp37m-macosx_10_9_x86_64.whl (3.2 MB)\n",
      "\u001B[K     |████████████████████████████████| 3.2 MB 3.2 MB/s eta 0:00:01\n",
      "\u001B[33mWARNING: Error parsing requirements for google-pasta: [Errno 2] No such file or directory: '/opt/anaconda3/envs/rec_base/lib/python3.7/site-packages/google_pasta-0.2.0.dist-info/METADATA'\u001B[0m\n",
      "\u001B[33mWARNING: Error parsing requirements for absl-py: [Errno 2] No such file or directory: '/opt/anaconda3/envs/rec_base/lib/python3.7/site-packages/absl_py-0.14.0.dist-info/METADATA'\u001B[0m\n",
      "\u001B[?25hInstalling collected packages: blosc\n",
      "Successfully installed blosc-1.10.6\n"
     ]
    }
   ],
   "source": [
    "!pip3 install blosc"
   ]
  },
  {
   "cell_type": "code",
   "execution_count": 40,
   "id": "42a69f7c",
   "metadata": {},
   "outputs": [],
   "source": [
    "import _pickle as pickle"
   ]
  },
  {
   "cell_type": "code",
   "execution_count": null,
   "id": "3eb17874",
   "metadata": {},
   "outputs": [],
   "source": []
  },
  {
   "cell_type": "code",
   "execution_count": 30,
   "id": "c60d9cf0",
   "metadata": {},
   "outputs": [
    {
     "name": "stdout",
     "output_type": "stream",
     "text": [
      "The autoreload extension is already loaded. To reload it, use:\n",
      "  %reload_ext autoreload\n"
     ]
    }
   ],
   "source": [
    "%load_ext autoreload\n",
    "%autoreload 2"
   ]
  },
  {
   "cell_type": "code",
   "execution_count": 73,
   "id": "bae4b3b4",
   "metadata": {
    "gather": {
     "logged": 1633115577829
    }
   },
   "outputs": [],
   "source": [
    "sar_predictor_temas = SarRecommeder(df_pesos, n=df_pesos.shape[0])"
   ]
  },
  {
   "cell_type": "code",
   "execution_count": null,
   "id": "52c2b32d",
   "metadata": {
    "gather": {
     "logged": 1633115663226
    }
   },
   "outputs": [
    {
     "name": "stderr",
     "output_type": "stream",
     "text": [
      "2021-10-22 22:29:03,041 INFO     Collecting user affinity matrix\n",
      "2021-10-22 22:29:03,045 INFO     Calculating time-decayed affinities\n",
      "2021-10-22 22:29:03,071 INFO     Creating index columns\n",
      "2021-10-22 22:29:03,153 INFO     Calculating normalization factors\n",
      "2021-10-22 22:29:03,179 INFO     Building user affinity sparse matrix\n",
      "2021-10-22 22:29:03,183 INFO     Calculating item co-occurrence\n",
      "2021-10-22 22:29:04,309 INFO     Calculating item similarity\n",
      "2021-10-22 22:29:04,310 INFO     Using jaccard based similarity\n"
     ]
    }
   ],
   "source": [
    "# Entrenando modelo\n",
    "sar_predictor_temas.fit()"
   ]
  },
  {
   "cell_type": "code",
   "execution_count": null,
   "id": "14132e89",
   "metadata": {
    "gather": {
     "logged": 1633115670835
    }
   },
   "outputs": [],
   "source": [
    "# Obteniendo Predicciones\n",
    "top_k_temas = sar_predictor_temas.predict()"
   ]
  },
  {
   "cell_type": "code",
   "execution_count": 22,
   "id": "0163b88f",
   "metadata": {},
   "outputs": [
    {
     "name": "stdout",
     "output_type": "stream",
     "text": [
      "Model:\t\n",
      "Top K:\t10\n",
      "MAP:\t0.001990\n",
      "NDCG:\t0.023119\n",
      "Precision@K:\t0.021002\n",
      "Recall@K:\t0.005584\n",
      "RMSE:\t3.704958\n",
      "MAE:\t3.687443\n",
      "R2:\t-5227.756267\n",
      "Exp var:\t-48.720965\n"
     ]
    }
   ],
   "source": [
    "sar_predictor_temas.evaluate_model()"
   ]
  },
  {
   "cell_type": "code",
   "execution_count": null,
   "id": "3a05a6da-345e-4483-b3c2-ae702cd0adc6",
   "metadata": {},
   "outputs": [],
   "source": [
    "final_preds = generate_recommendations_for_user(id_user=\"6466dbb15c41fdacb59eb1179817958de2c57191\", predictor=sar_predictor)"
   ]
  },
  {
   "cell_type": "code",
   "execution_count": 52,
   "id": "10efde85",
   "metadata": {
    "gather": {
     "logged": 1633115671765
    }
   },
   "outputs": [
    {
     "data": {
      "text/html": [
       "<div>\n",
       "<style scoped>\n",
       "    .dataframe tbody tr th:only-of-type {\n",
       "        vertical-align: middle;\n",
       "    }\n",
       "\n",
       "    .dataframe tbody tr th {\n",
       "        vertical-align: top;\n",
       "    }\n",
       "\n",
       "    .dataframe thead th {\n",
       "        text-align: right;\n",
       "    }\n",
       "</style>\n",
       "<table border=\"1\" class=\"dataframe\">\n",
       "  <thead>\n",
       "    <tr style=\"text-align: right;\">\n",
       "      <th></th>\n",
       "      <th>Titulo</th>\n",
       "      <th>Dewey</th>\n",
       "      <th>Tematicas</th>\n",
       "      <th>Llave</th>\n",
       "    </tr>\n",
       "  </thead>\n",
       "  <tbody>\n",
       "    <tr>\n",
       "      <th>0</th>\n",
       "      <td>[Adiós a las armas Ernest Hemingway ; traducci...</td>\n",
       "      <td>810</td>\n",
       "      <td>[[novela, estadounidense]]</td>\n",
       "      <td>906848</td>\n",
       "    </tr>\n",
       "    <tr>\n",
       "      <th>1</th>\n",
       "      <td>[La torre oscura II la llegada de los tres Ste...</td>\n",
       "      <td>810</td>\n",
       "      <td>[[novela, estadounidense]]</td>\n",
       "      <td>824586</td>\n",
       "    </tr>\n",
       "    <tr>\n",
       "      <th>2</th>\n",
       "      <td>[El horror de Dunwich Howard Phillips Lovecraf...</td>\n",
       "      <td>810</td>\n",
       "      <td>[[literatura, estadounidense]]</td>\n",
       "      <td>860720</td>\n",
       "    </tr>\n",
       "    <tr>\n",
       "      <th>3</th>\n",
       "      <td>[La habitación cerrada y otros cuentos de terr...</td>\n",
       "      <td>810</td>\n",
       "      <td>[[cuento, estadounidense]]</td>\n",
       "      <td>551719</td>\n",
       "    </tr>\n",
       "    <tr>\n",
       "      <th>4</th>\n",
       "      <td>[La torre oscura II la llegada de los tres Ste...</td>\n",
       "      <td>810</td>\n",
       "      <td>[[novela, estadounidense]]</td>\n",
       "      <td>824586</td>\n",
       "    </tr>\n",
       "    <tr>\n",
       "      <th>5</th>\n",
       "      <td>[Patriot games Thomas Leo Clancy]</td>\n",
       "      <td>810</td>\n",
       "      <td>[[novela, estadounidense]]</td>\n",
       "      <td>850455</td>\n",
       "    </tr>\n",
       "    <tr>\n",
       "      <th>6</th>\n",
       "      <td>[La torre oscura II la llegada de los tres Ste...</td>\n",
       "      <td>810</td>\n",
       "      <td>[[novela, estadounidense]]</td>\n",
       "      <td>824586</td>\n",
       "    </tr>\n",
       "    <tr>\n",
       "      <th>7</th>\n",
       "      <td>[The cleft Doris May Lessing]</td>\n",
       "      <td>820</td>\n",
       "      <td>[]</td>\n",
       "      <td>747541</td>\n",
       "    </tr>\n",
       "    <tr>\n",
       "      <th>8</th>\n",
       "      <td>[Un espía perfecto John Le Carré ; traducción ...</td>\n",
       "      <td>820</td>\n",
       "      <td>[[novela, inglés]]</td>\n",
       "      <td>710677</td>\n",
       "    </tr>\n",
       "    <tr>\n",
       "      <th>9</th>\n",
       "      <td>[Digital communications fundamentals and appli...</td>\n",
       "      <td>620</td>\n",
       "      <td>[[comunicación, digital]]</td>\n",
       "      <td>709655</td>\n",
       "    </tr>\n",
       "    <tr>\n",
       "      <th>10</th>\n",
       "      <td>[El quinto evangelio Philipp Vandenberg ; trad...</td>\n",
       "      <td>830</td>\n",
       "      <td>[[novela, alemán]]</td>\n",
       "      <td>733592</td>\n",
       "    </tr>\n",
       "  </tbody>\n",
       "</table>\n",
       "</div>"
      ],
      "text/plain": [
       "                                               Titulo Dewey  \\\n",
       "0   [Adiós a las armas Ernest Hemingway ; traducci...   810   \n",
       "1   [La torre oscura II la llegada de los tres Ste...   810   \n",
       "2   [El horror de Dunwich Howard Phillips Lovecraf...   810   \n",
       "3   [La habitación cerrada y otros cuentos de terr...   810   \n",
       "4   [La torre oscura II la llegada de los tres Ste...   810   \n",
       "5                   [Patriot games Thomas Leo Clancy]   810   \n",
       "6   [La torre oscura II la llegada de los tres Ste...   810   \n",
       "7                       [The cleft Doris May Lessing]   820   \n",
       "8   [Un espía perfecto John Le Carré ; traducción ...   820   \n",
       "9   [Digital communications fundamentals and appli...   620   \n",
       "10  [El quinto evangelio Philipp Vandenberg ; trad...   830   \n",
       "\n",
       "                         Tematicas   Llave  \n",
       "0       [[novela, estadounidense]]  906848  \n",
       "1       [[novela, estadounidense]]  824586  \n",
       "2   [[literatura, estadounidense]]  860720  \n",
       "3       [[cuento, estadounidense]]  551719  \n",
       "4       [[novela, estadounidense]]  824586  \n",
       "5       [[novela, estadounidense]]  850455  \n",
       "6       [[novela, estadounidense]]  824586  \n",
       "7                               []  747541  \n",
       "8               [[novela, inglés]]  710677  \n",
       "9        [[comunicación, digital]]  709655  \n",
       "10              [[novela, alemán]]  733592  "
      ]
     },
     "metadata": {},
     "output_type": "display_data"
    },
    {
     "name": "stdout",
     "output_type": "stream",
     "text": [
      "['810' '820' '620' '830']\n",
      "['810' '820' '620' '830']\n"
     ]
    },
    {
     "data": {
      "text/plain": [
       "(                                               Titulo Dewey  \\\n",
       " 0   [Adiós a las armas Ernest Hemingway ; traducci...   810   \n",
       " 1   [La torre oscura II la llegada de los tres Ste...   810   \n",
       " 2   [El horror de Dunwich Howard Phillips Lovecraf...   810   \n",
       " 3   [La habitación cerrada y otros cuentos de terr...   810   \n",
       " 4   [La torre oscura II la llegada de los tres Ste...   810   \n",
       " 5                   [Patriot games Thomas Leo Clancy]   810   \n",
       " 6   [La torre oscura II la llegada de los tres Ste...   810   \n",
       " 7                       [The cleft Doris May Lessing]   820   \n",
       " 8   [Un espía perfecto John Le Carré ; traducción ...   820   \n",
       " 9   [Digital communications fundamentals and appli...   620   \n",
       " 10  [El quinto evangelio Philipp Vandenberg ; trad...   830   \n",
       " \n",
       "                          Tematicas   Llave  \n",
       " 0       [[novela, estadounidense]]  906848  \n",
       " 1       [[novela, estadounidense]]  824586  \n",
       " 2   [[literatura, estadounidense]]  860720  \n",
       " 3       [[cuento, estadounidense]]  551719  \n",
       " 4       [[novela, estadounidense]]  824586  \n",
       " 5       [[novela, estadounidense]]  850455  \n",
       " 6       [[novela, estadounidense]]  824586  \n",
       " 7                               []  747541  \n",
       " 8               [[novela, inglés]]  710677  \n",
       " 9        [[comunicación, digital]]  709655  \n",
       " 10              [[novela, alemán]]  733592  ,\n",
       " None,\n",
       " {'alemán',\n",
       "  'comunicación',\n",
       "  'cuento',\n",
       "  'digital',\n",
       "  'estadounidense',\n",
       "  'inglés',\n",
       "  'literatura',\n",
       "  'novela'})"
      ]
     },
     "execution_count": 52,
     "metadata": {},
     "output_type": "execute_result"
    }
   ],
   "source": [
    "# Info Recomendaciones\n",
    "generateRecsInfopreds(final_preds)"
   ]
  },
  {
   "cell_type": "code",
   "execution_count": null,
   "id": "eb9454cd",
   "metadata": {
    "gather": {
     "logged": 1633115671890
    },
    "scrolled": true
   },
   "outputs": [],
   "source": [
    "# Exportando el modelo\n",
    "# sar_predictor_temas.export_model()"
   ]
  },
  {
   "cell_type": "code",
   "execution_count": null,
   "id": "6202ca84-f075-4648-94af-bf9613591391",
   "metadata": {},
   "outputs": [],
   "source": [
    "now_time = time.strftime(\"%m%d%H%m\")\n",
    "filepath = \"./sar_predictor_\"+\"+now_time\"+\".pkl\"\n",
    "with gzip.open(filepath, \"wb\") as f:\n",
    "    pickled = pickle.dumps(sar_predictor, protocol=-1)\n",
    "    optimized_pickle = pickletools.optimize(pickled)\n",
    "    f.write(optimized_pickle)"
   ]
  },
  {
   "cell_type": "markdown",
   "id": "61b4e286",
   "metadata": {
    "jp-MarkdownHeadingCollapsed": true,
    "tags": []
   },
   "source": [
    "# Content based KNN Clusters Temáticas"
   ]
  },
  {
   "cell_type": "code",
   "execution_count": 17,
   "id": "34f09831",
   "metadata": {
    "gather": {
     "logged": 1633744842830
    }
   },
   "outputs": [],
   "source": [
    "from content_knn_recommender import ContentKNNRecommender"
   ]
  },
  {
   "cell_type": "code",
   "execution_count": 18,
   "id": "bc164801",
   "metadata": {
    "gather": {
     "logged": 1633115856318
    }
   },
   "outputs": [
    {
     "name": "stdout",
     "output_type": "stream",
     "text": [
      "Estimating biases using als...\n",
      "Computing the cosine similarity matrix...\n",
      "Done computing similarity matrix.\n"
     ]
    }
   ],
   "source": [
    "content_predictor_temas = ContentKNNRecommender(df_pesos, n=50000, scale=5)"
   ]
  },
  {
   "cell_type": "code",
   "execution_count": 19,
   "id": "67780ff2",
   "metadata": {
    "gather": {
     "logged": 1633115873238
    }
   },
   "outputs": [
    {
     "name": "stdout",
     "output_type": "stream",
     "text": [
      "Evaluando el algoritmo  ContentKNN ...\n",
      "Calculando Precisión...\n",
      "Pre fit base\n",
      "Post fit base\n",
      "Calculando matriz de similaridad basada en contenido...\n",
      "...done.\n",
      "Análisis Completado\n",
      "\n",
      "\n",
      "Algorithm  RMSE       MAE       \n",
      "ContentKNN 0.3704     0.1665    \n",
      "\n",
      "Resumen:\n",
      "\n",
      "RMSE:      Root Mean Squared Error. Valores más bajos significa mejor precisión.\n",
      "MAE:       Mean Absolute Error. Valores más bajos significa mejor precisión.\n"
     ]
    }
   ],
   "source": [
    "content_predictor_temas.fit_evaluate()"
   ]
  },
  {
   "cell_type": "code",
   "execution_count": null,
   "id": "71f665c5",
   "metadata": {
    "gather": {
     "logged": 1633115873493
    }
   },
   "outputs": [],
   "source": [
    "# Prediciendo para un usuario \n",
    "# cluster_eval = 92\n",
    "# preds_temas_cb = content_predictor_temas.predict_for_cluster(cluster=cluster_eval)"
   ]
  },
  {
   "cell_type": "code",
   "execution_count": null,
   "id": "e472465f",
   "metadata": {
    "gather": {
     "logged": 1633115873628
    }
   },
   "outputs": [],
   "source": [
    "# Info cluster\n",
    "# generateClusterInfo(cluster_eval)"
   ]
  },
  {
   "cell_type": "code",
   "execution_count": null,
   "id": "b5906f8b",
   "metadata": {
    "gather": {
     "logged": 1633115873872
    }
   },
   "outputs": [],
   "source": [
    "# Info Recomendaciones\n",
    "# generateRecsInfopreds(preds_temas_cb)"
   ]
  },
  {
   "cell_type": "code",
   "execution_count": null,
   "id": "afa42af5-17ee-4e75-b585-2238c3234fb0",
   "metadata": {
    "gather": {
     "logged": 1633115874002
    },
    "jupyter": {
     "outputs_hidden": false
    },
    "nteract": {
     "transient": {
      "deleting": false
     }
    }
   },
   "outputs": [],
   "source": [
    "# content_predictor_temas.evaluator.algorithms[0].algorithm"
   ]
  },
  {
   "cell_type": "code",
   "execution_count": 168,
   "id": "3f63df07-f7ba-42b9-9edb-f94fa614309f",
   "metadata": {
    "collapsed": true,
    "gather": {
     "logged": 1633123933103
    },
    "jupyter": {
     "outputs_hidden": true
    },
    "nteract": {
     "transient": {
      "deleting": false
     }
    }
   },
   "outputs": [
    {
     "ename": "FileNotFoundError",
     "evalue": "[Errno 2] No such file or directory: './Models/content_predictor_temas_150k_10192210.pkl'",
     "output_type": "error",
     "traceback": [
      "\u001B[0;31m---------------------------------------------------------------------------\u001B[0m",
      "\u001B[0;31mFileNotFoundError\u001B[0m                         Traceback (most recent call last)",
      "\u001B[0;32m/var/folders/pk/3mfh7qx1111czrm27qywf15m0000gn/T/ipykernel_64678/1337352735.py\u001B[0m in \u001B[0;36m<module>\u001B[0;34m\u001B[0m\n\u001B[1;32m      3\u001B[0m \u001B[0mnow_time\u001B[0m \u001B[0;34m=\u001B[0m \u001B[0mtime\u001B[0m\u001B[0;34m.\u001B[0m\u001B[0mstrftime\u001B[0m\u001B[0;34m(\u001B[0m\u001B[0;34m\"%m%d%H%m\"\u001B[0m\u001B[0;34m)\u001B[0m\u001B[0;34m\u001B[0m\u001B[0;34m\u001B[0m\u001B[0m\n\u001B[1;32m      4\u001B[0m \u001B[0mfilepath\u001B[0m \u001B[0;34m=\u001B[0m \u001B[0;34m\"./Models/content_predictor_temas_\"\u001B[0m\u001B[0;34m+\u001B[0m\u001B[0mstr\u001B[0m\u001B[0;34m(\u001B[0m\u001B[0;36m150\u001B[0m\u001B[0;34m)\u001B[0m\u001B[0;34m+\u001B[0m\u001B[0;34m\"k_\"\u001B[0m\u001B[0;34m+\u001B[0m\u001B[0mnow_time\u001B[0m\u001B[0;34m+\u001B[0m\u001B[0;34m\".pkl\"\u001B[0m\u001B[0;34m\u001B[0m\u001B[0;34m\u001B[0m\u001B[0m\n\u001B[0;32m----> 5\u001B[0;31m \u001B[0;32mwith\u001B[0m \u001B[0mgzip\u001B[0m\u001B[0;34m.\u001B[0m\u001B[0mopen\u001B[0m\u001B[0;34m(\u001B[0m\u001B[0mfilepath\u001B[0m\u001B[0;34m,\u001B[0m \u001B[0;34m\"wb\"\u001B[0m\u001B[0;34m)\u001B[0m \u001B[0;32mas\u001B[0m \u001B[0mf\u001B[0m\u001B[0;34m:\u001B[0m\u001B[0;34m\u001B[0m\u001B[0;34m\u001B[0m\u001B[0m\n\u001B[0m\u001B[1;32m      6\u001B[0m     \u001B[0;31m# pickled = pickle.dumps(content_predictor_temas.evaluator.algorithms[0].algorithm, protocol=4)\u001B[0m\u001B[0;34m\u001B[0m\u001B[0;34m\u001B[0m\u001B[0;34m\u001B[0m\u001B[0m\n\u001B[1;32m      7\u001B[0m     \u001B[0mpickled\u001B[0m \u001B[0;34m=\u001B[0m \u001B[0mpickle\u001B[0m\u001B[0;34m.\u001B[0m\u001B[0mdumps\u001B[0m\u001B[0;34m(\u001B[0m\u001B[0mcontent_predictor_temas\u001B[0m\u001B[0;34m,\u001B[0m \u001B[0mprotocol\u001B[0m\u001B[0;34m=\u001B[0m\u001B[0;36m4\u001B[0m\u001B[0;34m)\u001B[0m\u001B[0;34m\u001B[0m\u001B[0;34m\u001B[0m\u001B[0m\n",
      "\u001B[0;32m/opt/anaconda3/envs/reco_base/lib/python3.7/gzip.py\u001B[0m in \u001B[0;36mopen\u001B[0;34m(filename, mode, compresslevel, encoding, errors, newline)\u001B[0m\n\u001B[1;32m     56\u001B[0m     \u001B[0mgz_mode\u001B[0m \u001B[0;34m=\u001B[0m \u001B[0mmode\u001B[0m\u001B[0;34m.\u001B[0m\u001B[0mreplace\u001B[0m\u001B[0;34m(\u001B[0m\u001B[0;34m\"t\"\u001B[0m\u001B[0;34m,\u001B[0m \u001B[0;34m\"\"\u001B[0m\u001B[0;34m)\u001B[0m\u001B[0;34m\u001B[0m\u001B[0;34m\u001B[0m\u001B[0m\n\u001B[1;32m     57\u001B[0m     \u001B[0;32mif\u001B[0m \u001B[0misinstance\u001B[0m\u001B[0;34m(\u001B[0m\u001B[0mfilename\u001B[0m\u001B[0;34m,\u001B[0m \u001B[0;34m(\u001B[0m\u001B[0mstr\u001B[0m\u001B[0;34m,\u001B[0m \u001B[0mbytes\u001B[0m\u001B[0;34m,\u001B[0m \u001B[0mos\u001B[0m\u001B[0;34m.\u001B[0m\u001B[0mPathLike\u001B[0m\u001B[0;34m)\u001B[0m\u001B[0;34m)\u001B[0m\u001B[0;34m:\u001B[0m\u001B[0;34m\u001B[0m\u001B[0;34m\u001B[0m\u001B[0m\n\u001B[0;32m---> 58\u001B[0;31m         \u001B[0mbinary_file\u001B[0m \u001B[0;34m=\u001B[0m \u001B[0mGzipFile\u001B[0m\u001B[0;34m(\u001B[0m\u001B[0mfilename\u001B[0m\u001B[0;34m,\u001B[0m \u001B[0mgz_mode\u001B[0m\u001B[0;34m,\u001B[0m \u001B[0mcompresslevel\u001B[0m\u001B[0;34m)\u001B[0m\u001B[0;34m\u001B[0m\u001B[0;34m\u001B[0m\u001B[0m\n\u001B[0m\u001B[1;32m     59\u001B[0m     \u001B[0;32melif\u001B[0m \u001B[0mhasattr\u001B[0m\u001B[0;34m(\u001B[0m\u001B[0mfilename\u001B[0m\u001B[0;34m,\u001B[0m \u001B[0;34m\"read\"\u001B[0m\u001B[0;34m)\u001B[0m \u001B[0;32mor\u001B[0m \u001B[0mhasattr\u001B[0m\u001B[0;34m(\u001B[0m\u001B[0mfilename\u001B[0m\u001B[0;34m,\u001B[0m \u001B[0;34m\"write\"\u001B[0m\u001B[0;34m)\u001B[0m\u001B[0;34m:\u001B[0m\u001B[0;34m\u001B[0m\u001B[0;34m\u001B[0m\u001B[0m\n\u001B[1;32m     60\u001B[0m         \u001B[0mbinary_file\u001B[0m \u001B[0;34m=\u001B[0m \u001B[0mGzipFile\u001B[0m\u001B[0;34m(\u001B[0m\u001B[0;32mNone\u001B[0m\u001B[0;34m,\u001B[0m \u001B[0mgz_mode\u001B[0m\u001B[0;34m,\u001B[0m \u001B[0mcompresslevel\u001B[0m\u001B[0;34m,\u001B[0m \u001B[0mfilename\u001B[0m\u001B[0;34m)\u001B[0m\u001B[0;34m\u001B[0m\u001B[0;34m\u001B[0m\u001B[0m\n",
      "\u001B[0;32m/opt/anaconda3/envs/reco_base/lib/python3.7/gzip.py\u001B[0m in \u001B[0;36m__init__\u001B[0;34m(self, filename, mode, compresslevel, fileobj, mtime)\u001B[0m\n\u001B[1;32m    166\u001B[0m             \u001B[0mmode\u001B[0m \u001B[0;34m+=\u001B[0m \u001B[0;34m'b'\u001B[0m\u001B[0;34m\u001B[0m\u001B[0;34m\u001B[0m\u001B[0m\n\u001B[1;32m    167\u001B[0m         \u001B[0;32mif\u001B[0m \u001B[0mfileobj\u001B[0m \u001B[0;32mis\u001B[0m \u001B[0;32mNone\u001B[0m\u001B[0;34m:\u001B[0m\u001B[0;34m\u001B[0m\u001B[0;34m\u001B[0m\u001B[0m\n\u001B[0;32m--> 168\u001B[0;31m             \u001B[0mfileobj\u001B[0m \u001B[0;34m=\u001B[0m \u001B[0mself\u001B[0m\u001B[0;34m.\u001B[0m\u001B[0mmyfileobj\u001B[0m \u001B[0;34m=\u001B[0m \u001B[0mbuiltins\u001B[0m\u001B[0;34m.\u001B[0m\u001B[0mopen\u001B[0m\u001B[0;34m(\u001B[0m\u001B[0mfilename\u001B[0m\u001B[0;34m,\u001B[0m \u001B[0mmode\u001B[0m \u001B[0;32mor\u001B[0m \u001B[0;34m'rb'\u001B[0m\u001B[0;34m)\u001B[0m\u001B[0;34m\u001B[0m\u001B[0;34m\u001B[0m\u001B[0m\n\u001B[0m\u001B[1;32m    169\u001B[0m         \u001B[0;32mif\u001B[0m \u001B[0mfilename\u001B[0m \u001B[0;32mis\u001B[0m \u001B[0;32mNone\u001B[0m\u001B[0;34m:\u001B[0m\u001B[0;34m\u001B[0m\u001B[0;34m\u001B[0m\u001B[0m\n\u001B[1;32m    170\u001B[0m             \u001B[0mfilename\u001B[0m \u001B[0;34m=\u001B[0m \u001B[0mgetattr\u001B[0m\u001B[0;34m(\u001B[0m\u001B[0mfileobj\u001B[0m\u001B[0;34m,\u001B[0m \u001B[0;34m'name'\u001B[0m\u001B[0;34m,\u001B[0m \u001B[0;34m''\u001B[0m\u001B[0;34m)\u001B[0m\u001B[0;34m\u001B[0m\u001B[0;34m\u001B[0m\u001B[0m\n",
      "\u001B[0;31mFileNotFoundError\u001B[0m: [Errno 2] No such file or directory: './Models/content_predictor_temas_150k_10192210.pkl'"
     ]
    }
   ],
   "source": [
    "import gzip, pickle, pickletools\n",
    "import time\n",
    "now_time = time.strftime(\"%m%d%H%m\")\n",
    "filepath = \"./Models/content_predictor_temas_\"+str(150)+\"k_\"+now_time+\".pkl\"\n",
    "with gzip.open(filepath, \"wb\") as f:\n",
    "    # pickled = pickle.dumps(content_predictor_temas.evaluator.algorithms[0].algorithm, protocol=4)\n",
    "    pickled = pickle.dumps(content_predictor_temas, protocol=4)\n",
    "    optimized_pickle = pickletools.optimize(pickled)\n",
    "    f.write(optimized_pickle)"
   ]
  },
  {
   "cell_type": "markdown",
   "id": "b9cfeb1b-e0b8-4a14-ba32-869c9f2fd7ae",
   "metadata": {
    "jp-MarkdownHeadingCollapsed": true,
    "nteract": {
     "transient": {
      "deleting": false
     }
    },
    "tags": []
   },
   "source": [
    "# RBM Temáticas"
   ]
  },
  {
   "cell_type": "code",
   "execution_count": null,
   "id": "82c6864e-401c-4450-8299-e6558b68b639",
   "metadata": {
    "gather": {
     "logged": 1633736087476
    },
    "jupyter": {
     "outputs_hidden": false
    },
    "nteract": {
     "transient": {
      "deleting": false
     }
    }
   },
   "outputs": [],
   "source": [
    "from rbm_recommender import RBMRecommender"
   ]
  },
  {
   "cell_type": "code",
   "execution_count": null,
   "id": "3e5e5fc1-3f5b-4971-b76d-e88db2406aa0",
   "metadata": {
    "gather": {
     "logged": 1633736088990
    },
    "jupyter": {
     "outputs_hidden": false
    },
    "nteract": {
     "transient": {
      "deleting": false
     }
    }
   },
   "outputs": [],
   "source": [
    "rbm_predictor_temas = RBMRecommender(df_pesos.copy())"
   ]
  },
  {
   "cell_type": "code",
   "execution_count": null,
   "id": "94ca1d13-ef30-45d9-b159-025b548d11b5",
   "metadata": {
    "gather": {
     "logged": 1633736126541
    },
    "jupyter": {
     "outputs_hidden": false
    },
    "nteract": {
     "transient": {
      "deleting": false
     }
    }
   },
   "outputs": [],
   "source": [
    "rbm_predictor_temas.fit()"
   ]
  },
  {
   "cell_type": "code",
   "execution_count": null,
   "id": "3f89683a-7fba-43b6-b912-0224854d4e1c",
   "metadata": {
    "gather": {
     "logged": 1633736128494
    },
    "jupyter": {
     "outputs_hidden": false
    },
    "nteract": {
     "transient": {
      "deleting": false
     }
    }
   },
   "outputs": [],
   "source": [
    "#rbm_predictor_temas.predict()"
   ]
  },
  {
   "cell_type": "code",
   "execution_count": null,
   "id": "426dab06-1e44-4259-851b-aad2ecdebeb2",
   "metadata": {
    "gather": {
     "logged": 1633736275622
    },
    "jupyter": {
     "outputs_hidden": false
    },
    "nteract": {
     "transient": {
      "deleting": false
     }
    }
   },
   "outputs": [],
   "source": [
    "# Prediciendo para un usuario \n",
    "cluster_eval = 92\n",
    "preds_temas_rbm = rbm_predictor_temas.predict_for_cluster(cluster=cluster_eval)"
   ]
  },
  {
   "cell_type": "code",
   "execution_count": null,
   "id": "9a844a82-3268-489c-8240-b0f30a006d4d",
   "metadata": {
    "gather": {
     "logged": 1633736279022
    },
    "jupyter": {
     "outputs_hidden": false
    },
    "nteract": {
     "transient": {
      "deleting": false
     }
    }
   },
   "outputs": [],
   "source": [
    "# Info cluster\n",
    "df_info_clus, df_clus_deweys, df_clus_tems = generateClusterInfo(cluster_eval)"
   ]
  },
  {
   "cell_type": "code",
   "execution_count": null,
   "id": "b5705a3f-17fb-49c3-974d-722f33f53393",
   "metadata": {
    "gather": {
     "logged": 1633736305109
    },
    "jupyter": {
     "outputs_hidden": false
    },
    "nteract": {
     "transient": {
      "deleting": false
     }
    }
   },
   "outputs": [],
   "source": [
    "# Info Recomendaciones\n",
    "df_info_pred_rbm_temas, df_pred_rbm_temas_deweys, df_pred_rbm_temas_tems = generateRecsInfopreds(preds_temas_rbm)"
   ]
  },
  {
   "cell_type": "code",
   "execution_count": null,
   "id": "1e570b85-b3a6-4e14-a47c-93330038b9d1",
   "metadata": {
    "gather": {
     "logged": 1633736305720
    },
    "jupyter": {
     "outputs_hidden": false
    },
    "nteract": {
     "transient": {
      "deleting": false
     }
    }
   },
   "outputs": [],
   "source": [
    "intersection = df_clus_tems & df_pred_rbm_temas_tems\n",
    "intersection"
   ]
  },
  {
   "cell_type": "code",
   "execution_count": null,
   "id": "0ed137bd-851f-4a31-9ef8-6bba6f5b0fac",
   "metadata": {
    "gather": {
     "logged": 1633736306060
    },
    "jupyter": {
     "outputs_hidden": false
    },
    "nteract": {
     "transient": {
      "deleting": false
     }
    }
   },
   "outputs": [],
   "source": [
    "difference = df_pred_rbm_temas_tems - df_clus_tems\n",
    "difference"
   ]
  },
  {
   "cell_type": "code",
   "execution_count": null,
   "id": "ec4541a7-caa4-4d9d-a362-16ef9f0cb8eb",
   "metadata": {
    "gather": {
     "logged": 1633115922766
    },
    "jupyter": {
     "outputs_hidden": false
    },
    "nteract": {
     "transient": {
      "deleting": false
     }
    }
   },
   "outputs": [],
   "source": [
    "# rbm_predictor_temas.export_model()"
   ]
  },
  {
   "cell_type": "code",
   "execution_count": null,
   "id": "f0f4b10e-ddac-4a54-8aa8-b04b942a2850",
   "metadata": {
    "gather": {
     "logged": 1633122281599
    },
    "jupyter": {
     "outputs_hidden": false
    },
    "nteract": {
     "transient": {
      "deleting": false
     }
    }
   },
   "outputs": [],
   "source": [
    "import dill"
   ]
  },
  {
   "cell_type": "code",
   "execution_count": 2,
   "id": "41941742-a222-45c2-86b8-ef5f1c094595",
   "metadata": {
    "gather": {
     "logged": 1633115922889
    },
    "jupyter": {
     "outputs_hidden": false
    },
    "nteract": {
     "transient": {
      "deleting": false
     }
    }
   },
   "outputs": [],
   "source": [
    "# import gzip, pickle, pickletools\n",
    "# import time\n",
    "# now_time = time.strftime(\"%m%d%H%m\")\n",
    "# filepath = basePath + \"UAQUE/Models/rbm_predictor_temas\"+str(100)+\"k_\"+now_time+\".pkl\"\n",
    "# with gzip.open(filepath, \"wb\") as f:\n",
    "#     # pickled = pickle.dumps(rbm_predictor_temas, protocol=4)\n",
    "#     pickled = dill.dumps(rbm_predictor_temas, protocol=4)\n",
    "#     # optimized_pickle = pickletools.optimize(pickled)\n",
    "#     # f.write(optimized_pickle)"
   ]
  },
  {
   "cell_type": "markdown",
   "id": "8ccc3d5c-b895-4186-aeae-1fa837c2e467",
   "metadata": {
    "nteract": {
     "transient": {
      "deleting": false
     }
    }
   },
   "source": [
    "# SVD"
   ]
  },
  {
   "cell_type": "code",
   "execution_count": 17,
   "id": "f85af1bf-3b3a-4b6a-91ba-99addf8cd3c2",
   "metadata": {
    "gather": {
     "logged": 1633115936634
    },
    "jupyter": {
     "outputs_hidden": false
    },
    "nteract": {
     "transient": {
      "deleting": false
     }
    }
   },
   "outputs": [
    {
     "name": "stdout",
     "output_type": "stream",
     "text": [
      "System version: 3.7.11 (default, Jul 27 2021, 07:03:16) \n",
      "[Clang 10.0.0 ]\n",
      "Surprise version: 1.1.1\n"
     ]
    }
   ],
   "source": [
    "from svd_recommender import SVDRecommender"
   ]
  },
  {
   "cell_type": "code",
   "execution_count": 18,
   "id": "70536d2d-4f01-41e1-991a-ea59591db280",
   "metadata": {
    "gather": {
     "logged": 1633115936883
    },
    "jupyter": {
     "outputs_hidden": false
    },
    "nteract": {
     "transient": {
      "deleting": false
     }
    }
   },
   "outputs": [],
   "source": [
    "svd_predictor = SVDRecommender(df_pesos.copy())"
   ]
  },
  {
   "cell_type": "code",
   "execution_count": 19,
   "id": "8e0542a6-7c37-45b7-bb6a-b0ae5581dc14",
   "metadata": {
    "gather": {
     "logged": 1633115957727
    },
    "jupyter": {
     "outputs_hidden": false
    },
    "nteract": {
     "transient": {
      "deleting": false
     }
    }
   },
   "outputs": [
    {
     "name": "stdout",
     "output_type": "stream",
     "text": [
      "Processing epoch 0\n",
      "Processing epoch 1\n",
      "Processing epoch 2\n",
      "Processing epoch 3\n",
      "Processing epoch 4\n",
      "Processing epoch 5\n",
      "Processing epoch 6\n",
      "Processing epoch 7\n",
      "Processing epoch 8\n",
      "Processing epoch 9\n",
      "Processing epoch 10\n",
      "Processing epoch 11\n",
      "Processing epoch 12\n",
      "Processing epoch 13\n",
      "Processing epoch 14\n",
      "Processing epoch 15\n",
      "Processing epoch 16\n",
      "Processing epoch 17\n",
      "Processing epoch 18\n",
      "Processing epoch 19\n",
      "Processing epoch 20\n",
      "Processing epoch 21\n",
      "Processing epoch 22\n",
      "Processing epoch 23\n",
      "Processing epoch 24\n",
      "Processing epoch 25\n",
      "Processing epoch 26\n",
      "Processing epoch 27\n",
      "Processing epoch 28\n",
      "Processing epoch 29\n",
      "Took 8.964098457999995 seconds for training.\n"
     ]
    }
   ],
   "source": [
    "svd_predictor.fit()"
   ]
  },
  {
   "cell_type": "code",
   "execution_count": 20,
   "id": "d5125eff-6e97-4578-b93c-dbd1b54add23",
   "metadata": {
    "gather": {
     "logged": 1633116073730
    },
    "jupyter": {
     "outputs_hidden": false
    },
    "nteract": {
     "transient": {
      "deleting": false
     }
    }
   },
   "outputs": [
    {
     "name": "stdout",
     "output_type": "stream",
     "text": [
      "Took 375.24603912500004 seconds for prediction.\n"
     ]
    }
   ],
   "source": [
    "svd_predictor.predict()"
   ]
  },
  {
   "cell_type": "code",
   "execution_count": 21,
   "id": "7842b3e4-9484-4098-b346-cadad73516ce",
   "metadata": {
    "gather": {
     "logged": 1633315523331
    },
    "jupyter": {
     "outputs_hidden": false
    },
    "nteract": {
     "transient": {
      "deleting": false
     }
    }
   },
   "outputs": [],
   "source": [
    "# Prediciendo para un usuario \n",
    "cluster_eval = 110\n",
    "preds_svd = svd_predictor.predict_for_cluster(cluster=cluster_eval)"
   ]
  },
  {
   "cell_type": "code",
   "execution_count": null,
   "id": "eb851592-cbeb-4f1b-bc1e-1027bd12df67",
   "metadata": {
    "gather": {
     "logged": 1633315528514
    },
    "jupyter": {
     "outputs_hidden": false
    },
    "nteract": {
     "transient": {
      "deleting": false
     }
    }
   },
   "outputs": [],
   "source": [
    "# df_info_clus, df_clus_deweys, df_clus_tems = generateClusterInfo(cluster_eval)"
   ]
  },
  {
   "cell_type": "code",
   "execution_count": 22,
   "id": "a865ca37-b0bd-4926-a87d-4e6b4e58031b",
   "metadata": {
    "gather": {
     "logged": 1633315540402
    },
    "jupyter": {
     "outputs_hidden": false
    },
    "nteract": {
     "transient": {
      "deleting": false
     }
    }
   },
   "outputs": [
    {
     "data": {
      "text/html": [
       "<div>\n",
       "<style scoped>\n",
       "    .dataframe tbody tr th:only-of-type {\n",
       "        vertical-align: middle;\n",
       "    }\n",
       "\n",
       "    .dataframe tbody tr th {\n",
       "        vertical-align: top;\n",
       "    }\n",
       "\n",
       "    .dataframe thead th {\n",
       "        text-align: right;\n",
       "    }\n",
       "</style>\n",
       "<table border=\"1\" class=\"dataframe\">\n",
       "  <thead>\n",
       "    <tr style=\"text-align: right;\">\n",
       "      <th></th>\n",
       "      <th>Titulo</th>\n",
       "      <th>Dewey</th>\n",
       "      <th>Tematicas</th>\n",
       "      <th>Llave</th>\n",
       "    </tr>\n",
       "  </thead>\n",
       "  <tbody>\n",
       "    <tr>\n",
       "      <th>0</th>\n",
       "      <td>[Infancia Adolescencia Juventud León N. Tolstoi]</td>\n",
       "      <td>920</td>\n",
       "      <td>[[none]]</td>\n",
       "      <td>922502</td>\n",
       "    </tr>\n",
       "    <tr>\n",
       "      <th>1</th>\n",
       "      <td>[Gabo memorias de una vida mágica guión Óscar ...</td>\n",
       "      <td>740</td>\n",
       "      <td>[[novela, gráfico, colombia]]</td>\n",
       "      <td>913393</td>\n",
       "    </tr>\n",
       "    <tr>\n",
       "      <th>2</th>\n",
       "      <td>[Los modelos pedagógicos Julián de Zubiría Sam...</td>\n",
       "      <td>370</td>\n",
       "      <td>[[metodología, pedagogía]]</td>\n",
       "      <td>352812</td>\n",
       "    </tr>\n",
       "    <tr>\n",
       "      <th>3</th>\n",
       "      <td>[The architect reconstructing her practice edi...</td>\n",
       "      <td>720</td>\n",
       "      <td>[[mujer, arquitecta]]</td>\n",
       "      <td>732373</td>\n",
       "    </tr>\n",
       "    <tr>\n",
       "      <th>4</th>\n",
       "      <td>[La inteligencia de una máquina una filosofía ...</td>\n",
       "      <td>790</td>\n",
       "      <td>[[cine]]</td>\n",
       "      <td>899023</td>\n",
       "    </tr>\n",
       "    <tr>\n",
       "      <th>5</th>\n",
       "      <td>[Symposium on J. L. Austin edited by K. T. Fann]</td>\n",
       "      <td>190</td>\n",
       "      <td>[[filosofía, inglés]]</td>\n",
       "      <td>867805</td>\n",
       "    </tr>\n",
       "    <tr>\n",
       "      <th>6</th>\n",
       "      <td>[Alimentación y nutrición manual teórico-práct...</td>\n",
       "      <td>610</td>\n",
       "      <td>[[nutrición, manual]]</td>\n",
       "      <td>873478</td>\n",
       "    </tr>\n",
       "    <tr>\n",
       "      <th>7</th>\n",
       "      <td>[Guía para la identificación y el cultivo de a...</td>\n",
       "      <td>580</td>\n",
       "      <td>[[orquídea, cultivo, cundinamarca, colombia]]</td>\n",
       "      <td>921502</td>\n",
       "    </tr>\n",
       "    <tr>\n",
       "      <th>8</th>\n",
       "      <td>[Tendencias actuales de la profesión contable ...</td>\n",
       "      <td>650</td>\n",
       "      <td>[[contabilidad, financiero], [contabilidad, fi...</td>\n",
       "      <td>345639</td>\n",
       "    </tr>\n",
       "    <tr>\n",
       "      <th>9</th>\n",
       "      <td>[Como ayudar a los preescolares pasivos y agre...</td>\n",
       "      <td>370</td>\n",
       "      <td>[]</td>\n",
       "      <td>287639</td>\n",
       "    </tr>\n",
       "  </tbody>\n",
       "</table>\n",
       "</div>"
      ],
      "text/plain": [
       "                                              Titulo Dewey  \\\n",
       "0   [Infancia Adolescencia Juventud León N. Tolstoi]   920   \n",
       "1  [Gabo memorias de una vida mágica guión Óscar ...   740   \n",
       "2  [Los modelos pedagógicos Julián de Zubiría Sam...   370   \n",
       "3  [The architect reconstructing her practice edi...   720   \n",
       "4  [La inteligencia de una máquina una filosofía ...   790   \n",
       "5   [Symposium on J. L. Austin edited by K. T. Fann]   190   \n",
       "6  [Alimentación y nutrición manual teórico-práct...   610   \n",
       "7  [Guía para la identificación y el cultivo de a...   580   \n",
       "8  [Tendencias actuales de la profesión contable ...   650   \n",
       "9  [Como ayudar a los preescolares pasivos y agre...   370   \n",
       "\n",
       "                                           Tematicas   Llave  \n",
       "0                                           [[none]]  922502  \n",
       "1                      [[novela, gráfico, colombia]]  913393  \n",
       "2                         [[metodología, pedagogía]]  352812  \n",
       "3                              [[mujer, arquitecta]]  732373  \n",
       "4                                           [[cine]]  899023  \n",
       "5                              [[filosofía, inglés]]  867805  \n",
       "6                              [[nutrición, manual]]  873478  \n",
       "7      [[orquídea, cultivo, cundinamarca, colombia]]  921502  \n",
       "8  [[contabilidad, financiero], [contabilidad, fi...  345639  \n",
       "9                                                 []  287639  "
      ]
     },
     "metadata": {},
     "output_type": "display_data"
    },
    {
     "name": "stdout",
     "output_type": "stream",
     "text": [
      "['920' '740' '370' '720' '790' '190' '610' '580' '650']\n",
      "['920' '740' '370' '720' '790' '190' '610' '580' '650']\n"
     ]
    }
   ],
   "source": [
    "# Info Recomendaciones\n",
    "df_info_pred_svd, df_pred_svd_deweys, df_pred_svd_tems = generateRecsInfopreds(preds_svd)"
   ]
  },
  {
   "cell_type": "code",
   "execution_count": 4,
   "id": "57bc6851-57c0-4d7f-a050-531408917570",
   "metadata": {
    "gather": {
     "logged": 1633116074541
    },
    "jupyter": {
     "outputs_hidden": false
    },
    "nteract": {
     "transient": {
      "deleting": false
     }
    }
   },
   "outputs": [],
   "source": [
    "# intersection = df_clus_tems & df_pred_svd_tems\n",
    "# intersection"
   ]
  },
  {
   "cell_type": "code",
   "execution_count": 5,
   "id": "4c3bdf2f-0413-46bc-912f-988a38f5d84d",
   "metadata": {
    "gather": {
     "logged": 1633116074669
    },
    "jupyter": {
     "outputs_hidden": false
    },
    "nteract": {
     "transient": {
      "deleting": false
     }
    }
   },
   "outputs": [],
   "source": [
    "# difference = df_pred_svd_tems - \n",
    "# difference"
   ]
  },
  {
   "cell_type": "code",
   "execution_count": 6,
   "id": "ae07ed37-80a2-4302-b6a2-9717461ec02c",
   "metadata": {
    "gather": {
     "logged": 1633116074940
    },
    "jupyter": {
     "outputs_hidden": false
    },
    "nteract": {
     "transient": {
      "deleting": false
     }
    }
   },
   "outputs": [],
   "source": [
    "#svd_predictor.export_model()"
   ]
  },
  {
   "cell_type": "code",
   "execution_count": 23,
   "id": "a527a49f-c2a5-438f-89bc-821b3149b1b7",
   "metadata": {
    "gather": {
     "logged": 1633121179280
    },
    "jupyter": {
     "outputs_hidden": false
    },
    "nteract": {
     "transient": {
      "deleting": false
     }
    }
   },
   "outputs": [],
   "source": [
    "import gzip, pickle, pickletools\n",
    "import time\n",
    "now_time = time.strftime(\"%m%d%H%m\")\n",
    "filepath = \"./svd_predictor\"+str(100)+\"k_\"+now_time+\".pkl\"\n",
    "with gzip.open(filepath, \"wb\") as f:\n",
    "    pickled = pickle.dumps(svd_predictor, protocol=4)\n",
    "    optimized_pickle = pickletools.optimize(pickled)\n",
    "    f.write(optimized_pickle)"
   ]
  },
  {
   "cell_type": "markdown",
   "id": "21eee0c8-647a-42c4-b6c8-8f5c1a7e01e4",
   "metadata": {
    "nteract": {
     "transient": {
      "deleting": false
     }
    }
   },
   "source": [
    "# Vowpal Wabbit"
   ]
  },
  {
   "cell_type": "code",
   "execution_count": null,
   "id": "fe53dd5a-3889-4840-823f-9ce2b4729ffb",
   "metadata": {
    "gather": {
     "logged": 1633372549850
    },
    "jupyter": {
     "outputs_hidden": false
    },
    "nteract": {
     "transient": {
      "deleting": false
     }
    }
   },
   "outputs": [],
   "source": [
    "%load_ext autoreload\n",
    "%autoreload 2\n",
    "from vowpal_recommender import VowpalRecommender"
   ]
  },
  {
   "cell_type": "code",
   "execution_count": null,
   "id": "ea9f9e99-2a97-4d83-a198-5455d5c0db49",
   "metadata": {
    "gather": {
     "logged": 1633372550768
    },
    "jupyter": {
     "outputs_hidden": false
    },
    "nteract": {
     "transient": {
      "deleting": false
     }
    }
   },
   "outputs": [],
   "source": [
    "data_pred = df_pesos.copy()"
   ]
  },
  {
   "cell_type": "code",
   "execution_count": null,
   "id": "4cb6c99f-4227-47a9-9b8e-d29c6967d193",
   "metadata": {
    "gather": {
     "logged": 1633372705235
    },
    "jupyter": {
     "outputs_hidden": false
    },
    "nteract": {
     "transient": {
      "deleting": false
     }
    }
   },
   "outputs": [],
   "source": [
    "vowpal_predictor = VowpalRecommender(data_pred)"
   ]
  },
  {
   "cell_type": "code",
   "execution_count": null,
   "id": "a38530f2-2a97-49e6-bc6a-9ef90e03213e",
   "metadata": {
    "jupyter": {
     "outputs_hidden": false
    },
    "nteract": {
     "transient": {
      "deleting": false
     }
    }
   },
   "outputs": [],
   "source": [
    "vowpal_predictor.fit()"
   ]
  },
  {
   "cell_type": "code",
   "execution_count": null,
   "id": "b4097004-3b55-443d-b729-6a6c118a24f7",
   "metadata": {
    "jupyter": {
     "outputs_hidden": false
    },
    "nteract": {
     "transient": {
      "deleting": false
     }
    }
   },
   "outputs": [],
   "source": [
    "vowpal_predictor.predict()"
   ]
  },
  {
   "cell_type": "code",
   "execution_count": null,
   "id": "21aad1d5-8993-45eb-82f1-9bbecb62bc71",
   "metadata": {
    "jupyter": {
     "outputs_hidden": false
    },
    "nteract": {
     "transient": {
      "deleting": false
     }
    }
   },
   "outputs": [],
   "source": [
    "# Prediciendo para un usuario \n",
    "cluster_eval = 92\n",
    "preds_vowpal = vowpal_predictor.predict_for_cluster(cluster=cluster_eval)"
   ]
  },
  {
   "cell_type": "code",
   "execution_count": null,
   "id": "23a94c9f-5d0a-4fdc-8c06-4b0ba6da8293",
   "metadata": {
    "jupyter": {
     "outputs_hidden": false
    },
    "nteract": {
     "transient": {
      "deleting": false
     }
    }
   },
   "outputs": [],
   "source": [
    "df_info_clus, df_clus_deweys, df_clus_tems = generateClusterInfo(cluster_eval)"
   ]
  },
  {
   "cell_type": "code",
   "execution_count": null,
   "id": "4a8689f2-3057-43d0-a547-efae82e5dde8",
   "metadata": {
    "jupyter": {
     "outputs_hidden": false
    },
    "nteract": {
     "transient": {
      "deleting": false
     }
    }
   },
   "outputs": [],
   "source": [
    "# Info Recomendaciones\n",
    "df_info_pred_vowpal, df_pred_vowpal_deweys, df_pred_vowpal_tems = generateRecsInfopreds(preds_vowpal)"
   ]
  },
  {
   "cell_type": "code",
   "execution_count": null,
   "id": "a226e0e3-dd5d-4edf-8e29-6f6cb178efe0",
   "metadata": {
    "jupyter": {
     "outputs_hidden": false
    },
    "nteract": {
     "transient": {
      "deleting": false
     }
    }
   },
   "outputs": [],
   "source": [
    "intersection = df_clus_tems & df_pred_vowpal_tems\n",
    "intersection"
   ]
  },
  {
   "cell_type": "code",
   "execution_count": null,
   "id": "ff16ed46-2a20-436d-bc26-2ccd68c6cfa5",
   "metadata": {
    "jupyter": {
     "outputs_hidden": false
    },
    "nteract": {
     "transient": {
      "deleting": false
     }
    }
   },
   "outputs": [],
   "source": [
    "difference = df_pred_vowpal_tems - df_clus_tems\n",
    "difference"
   ]
  },
  {
   "cell_type": "code",
   "execution_count": null,
   "id": "95c8f3c8-dd11-4a43-a914-532661107f2f",
   "metadata": {
    "jupyter": {
     "outputs_hidden": false
    },
    "nteract": {
     "transient": {
      "deleting": false
     }
    }
   },
   "outputs": [],
   "source": [
    "import gzip, pickle, pickletools\n",
    "import time\n",
    "now_time = time.strftime(\"%m%d%H%m\")\n",
    "filepath = basePath + \"UAQUE/Models/vowpal_predictor\"+str(100)+\"k_\"+now_time+\".pkl\"\n",
    "with gzip.open(filepath, \"wb\") as f:\n",
    "    pickled = pickle.dumps(svd_predictor, protocol=4)\n",
    "    optimized_pickle = pickletools.optimize(pickled)\n",
    "    f.write(optimized_pickle)"
   ]
  },
  {
   "cell_type": "code",
   "execution_count": null,
   "id": "241a92f3-dd70-4b04-b2bb-0435f8ef93bf",
   "metadata": {
    "jupyter": {
     "outputs_hidden": false
    },
    "nteract": {
     "transient": {
      "deleting": false
     }
    }
   },
   "outputs": [],
   "source": []
  },
  {
   "cell_type": "code",
   "execution_count": null,
   "id": "05cf7896-1383-4adf-b544-db664751755d",
   "metadata": {},
   "outputs": [],
   "source": []
  }
 ],
 "metadata": {
  "kernel_info": {
   "name": "reco_gpu"
  },
  "kernelspec": {
   "display_name": "Python (reco_base)",
   "language": "python",
   "name": "reco_base"
  },
  "language_info": {
   "codemirror_mode": {
    "name": "ipython",
    "version": 3
   },
   "file_extension": ".py",
   "mimetype": "text/x-python",
   "name": "python",
   "nbconvert_exporter": "python",
   "pygments_lexer": "ipython3",
   "version": "3.7.11"
  },
  "microsoft": {
   "host": {
    "AzureML": {
     "notebookHasBeenCompleted": true
    }
   }
  },
  "nteract": {
   "version": "nteract-front-end@1.0.0"
  }
 },
 "nbformat": 4,
 "nbformat_minor": 5
}