{
 "cells": [
  {
   "cell_type": "markdown",
   "metadata": {
    "id": "AFConYFt8c8I"
   },
   "source": [
    "# **Smart-UJ UAQUE**\n",
    "Este Notebook hace parte del servicio inteligente \"perfil grupal\" y tiene como objetivo la generación de clusters de usuarios a partir de el alquiler de ítems de la biblioteca Alfonso Borrero Cabal. Previamente se estrajeron los temas de cada ítem y en este notebook se generarán matrices dispersas que serán consumidad por el algoritmo de k-means para generar los clusters que posteriormente serán consumidos por los diferentes algoritmo de recomendación.\n",
    "\n",
    "**Entrada**: Tabla_join.json\n",
    "\n",
    "**Integrantes:**</br>\n",
    "Johan Ortegón </br>\n",
    "Juan Angarita </br>\n",
    "Jorge Salgado </br>\n",
    "Daniel Tibaquira </br></br>\n",
    "**Directora de Proyecto de Grado:** </br>\n",
    "Viky Arias </br>"
   ]
  },
  {
   "cell_type": "markdown",
   "metadata": {
    "id": "BI4KMpm69eJw"
   },
   "source": [
    "# Importación de datos"
   ]
  },
  {
   "cell_type": "code",
   "execution_count": 1,
   "metadata": {
    "colab": {
     "base_uri": "https://localhost:8080/"
    },
    "executionInfo": {
     "elapsed": 146,
     "status": "ok",
     "timestamp": 1632502517219,
     "user": {
      "displayName": "juan sebastian angarita torres",
      "photoUrl": "https://lh3.googleusercontent.com/a-/AOh14GgjiV1o_Xb2Ov2kAJhpXcHsgVLy47m-BxyXrYYMfw=s64",
      "userId": "11476954540008106843"
     },
     "user_tz": 300
    },
    "id": "z9CHYqkd068R",
    "outputId": "25ffdf97-7e62-4672-8dfa-e8603bfad1f1"
   },
   "outputs": [
    {
     "name": "stdout",
     "output_type": "stream",
     "text": [
      "Drive already mounted at /content/drive; to attempt to forcibly remount, call drive.mount(\"/content/drive\", force_remount=True).\n"
     ]
    }
   ],
   "source": [
    "# from google.colab import drive\n",
    "# drive.mount('/content/drive')"
   ]
  },
  {
   "cell_type": "markdown",
   "metadata": {
    "id": "W3TpO1sAa_bN"
   },
   "source": [
    "Estas son las librerias que vamos a usar para hacer el join de ambas tablas y poder hacer las diferentes agrupaciones de estudiantes. \n",
    "\n",
    "* pandas(pd): Permite almacenar los datos en dataframes(matrices) y operación entre las celdas."
   ]
  },
  {
   "cell_type": "code",
   "execution_count": 1,
   "metadata": {
    "executionInfo": {
     "elapsed": 1375,
     "status": "ok",
     "timestamp": 1632502519841,
     "user": {
      "displayName": "juan sebastian angarita torres",
      "photoUrl": "https://lh3.googleusercontent.com/a-/AOh14GgjiV1o_Xb2Ov2kAJhpXcHsgVLy47m-BxyXrYYMfw=s64",
      "userId": "11476954540008106843"
     },
     "user_tz": 300
    },
    "id": "nrQmfmCQlOv7"
   },
   "outputs": [],
   "source": [
    "import pandas as pd\n",
    "import numpy as np\n",
    "from sklearn.cluster import KMeans\n",
    "from sklearn.preprocessing import StandardScaler\n",
    "from sklearn.metrics import silhouette_score\n",
    "from sklearn.preprocessing import MinMaxScaler\n",
    "from sklearn.preprocessing import Normalizer\n",
    "from sklearn.decomposition import PCA"
   ]
  },
  {
   "cell_type": "markdown",
   "metadata": {
    "id": "I0npqeca97fu"
   },
   "source": [
    "Importamos el archivo. Este proviene del join entre las tablas de material bibliográfico de la biblioteca y la información de prestamos de la biblioteca. "
   ]
  },
  {
   "cell_type": "code",
   "execution_count": 2,
   "metadata": {
    "id": "dYbiqF7K8A6B"
   },
   "outputs": [],
   "source": [
    "df = pd.read_json('./TABLA_JOIN.json')"
   ]
  },
  {
   "cell_type": "code",
   "execution_count": null,
   "metadata": {
    "colab": {
     "base_uri": "https://localhost:8080/",
     "height": 363
    },
    "executionInfo": {
     "elapsed": 15,
     "status": "ok",
     "timestamp": 1632448074944,
     "user": {
      "displayName": "juan sebastian angarita torres",
      "photoUrl": "https://lh3.googleusercontent.com/a-/AOh14GgjiV1o_Xb2Ov2kAJhpXcHsgVLy47m-BxyXrYYMfw=s64",
      "userId": "11476954540008106843"
     },
     "user_tz": 300
    },
    "id": "ZSgp4hEi-DWT",
    "outputId": "298936f7-6c6b-4b77-8a60-c86b4079440f"
   },
   "outputs": [
    {
     "data": {
      "text/html": [
       "<div>\n",
       "<style scoped>\n",
       "    .dataframe tbody tr th:only-of-type {\n",
       "        vertical-align: middle;\n",
       "    }\n",
       "\n",
       "    .dataframe tbody tr th {\n",
       "        vertical-align: top;\n",
       "    }\n",
       "\n",
       "    .dataframe thead th {\n",
       "        text-align: right;\n",
       "    }\n",
       "</style>\n",
       "<table border=\"1\" class=\"dataframe\">\n",
       "  <thead>\n",
       "    <tr style=\"text-align: right;\">\n",
       "      <th></th>\n",
       "      <th>RowID</th>\n",
       "      <th>Mes</th>\n",
       "      <th>Fecha</th>\n",
       "      <th>IDItem</th>\n",
       "      <th>NumeroUbicacion</th>\n",
       "      <th>Dewey</th>\n",
       "      <th>Ubicacion</th>\n",
       "      <th>TipoItem_x</th>\n",
       "      <th>Llave_x</th>\n",
       "      <th>Perfil</th>\n",
       "      <th>Programa</th>\n",
       "      <th>Facultad</th>\n",
       "      <th>IDUsario</th>\n",
       "      <th>Year</th>\n",
       "      <th>Signatura</th>\n",
       "      <th>UbicacionActual</th>\n",
       "      <th>TipoItem_y</th>\n",
       "      <th>TotalPrestamos</th>\n",
       "      <th>Llave_y</th>\n",
       "      <th>Copias</th>\n",
       "      <th>Autor</th>\n",
       "      <th>Titulo</th>\n",
       "      <th>Tema650</th>\n",
       "      <th>AnioPublicación</th>\n",
       "      <th>NO_DEWEY</th>\n",
       "      <th>ENCABEZAMIENTO</th>\n",
       "      <th>original</th>\n",
       "      <th>Temas</th>\n",
       "      <th>union</th>\n",
       "    </tr>\n",
       "  </thead>\n",
       "  <tbody>\n",
       "    <tr>\n",
       "      <th>0</th>\n",
       "      <td>Row0</td>\n",
       "      <td>Enero</td>\n",
       "      <td>1546992000000</td>\n",
       "      <td>80000005327627</td>\n",
       "      <td>720.98 A71S</td>\n",
       "      <td>720</td>\n",
       "      <td>COL-GRAL-2</td>\n",
       "      <td>LIBRO</td>\n",
       "      <td>866245</td>\n",
       "      <td>A-EGRESADO</td>\n",
       "      <td>CARRERA DE ARQUITECTURA</td>\n",
       "      <td>arquitectura y diseño</td>\n",
       "      <td>c361c772cd0220bb16dcfb2ad803e4903334ab94</td>\n",
       "      <td>2019</td>\n",
       "      <td>720.98</td>\n",
       "      <td>COL-GRAL-2</td>\n",
       "      <td>LIBRO</td>\n",
       "      <td>33</td>\n",
       "      <td>866245</td>\n",
       "      <td>1</td>\n",
       "      <td>Arango Cardinal, Silvia 1948-</td>\n",
       "      <td>Ciudad y arquitectura seis generaciones que co...</td>\n",
       "      <td>arquitectura historia america latina</td>\n",
       "      <td>2012.0</td>\n",
       "      <td>720.98</td>\n",
       "      <td>Arquitectura latinoamericana</td>\n",
       "      <td>arquitectura historia america latina</td>\n",
       "      <td>[arquitectur, histori, amer, latin]</td>\n",
       "      <td>arquitectur histori amer latin</td>\n",
       "    </tr>\n",
       "    <tr>\n",
       "      <th>1</th>\n",
       "      <td>Row1</td>\n",
       "      <td>Enero</td>\n",
       "      <td>1546992000000</td>\n",
       "      <td>80000001191496</td>\n",
       "      <td>720.9861 A71</td>\n",
       "      <td>720</td>\n",
       "      <td>COL-GRAL-2</td>\n",
       "      <td>LIBRO</td>\n",
       "      <td>309945</td>\n",
       "      <td>A-EGRESADO</td>\n",
       "      <td>CARRERA DE ARQUITECTURA</td>\n",
       "      <td>arquitectura y diseño</td>\n",
       "      <td>c361c772cd0220bb16dcfb2ad803e4903334ab94</td>\n",
       "      <td>2019</td>\n",
       "      <td>720.9861</td>\n",
       "      <td>COL-GRAL-2</td>\n",
       "      <td>LIBRO</td>\n",
       "      <td>367</td>\n",
       "      <td>309945</td>\n",
       "      <td>2</td>\n",
       "      <td>Arango Cardinal, Silvia 1948-</td>\n",
       "      <td>Historia de la arquitectura en Colombia Silvia...</td>\n",
       "      <td>arquitectura colonial historia colombia</td>\n",
       "      <td>1993.0</td>\n",
       "      <td>720.9861</td>\n",
       "      <td>Arquitectura colombiana</td>\n",
       "      <td>arquitectura colonial historia colombia</td>\n",
       "      <td>[arquitectur, colonial, histori, colombi]</td>\n",
       "      <td>arquitectur colonial histori colombi</td>\n",
       "    </tr>\n",
       "    <tr>\n",
       "      <th>2</th>\n",
       "      <td>Row2</td>\n",
       "      <td>Enero</td>\n",
       "      <td>1547078400000</td>\n",
       "      <td>80000004979759</td>\n",
       "      <td>540 CH15Q 2010</td>\n",
       "      <td>540</td>\n",
       "      <td>COL-GRAL-3</td>\n",
       "      <td>LIBRO</td>\n",
       "      <td>822727</td>\n",
       "      <td>A-EGRESADO</td>\n",
       "      <td>CARRERA DE ARQUITECTURA</td>\n",
       "      <td>arquitectura y diseño</td>\n",
       "      <td>87b0e5a61ed712ddfaf5d478ad68c87c825997e9</td>\n",
       "      <td>2019</td>\n",
       "      <td>540</td>\n",
       "      <td>PRESTADO</td>\n",
       "      <td>LIBRO</td>\n",
       "      <td>330</td>\n",
       "      <td>822727</td>\n",
       "      <td>2</td>\n",
       "      <td>Chang, Raymond</td>\n",
       "      <td>Química Raymond Chang ; revisión técnica Rosa ...</td>\n",
       "      <td>quimica</td>\n",
       "      <td>2010.0</td>\n",
       "      <td>540</td>\n",
       "      <td>Química</td>\n",
       "      <td>quimica</td>\n",
       "      <td>[quimic]</td>\n",
       "      <td>quimic</td>\n",
       "    </tr>\n",
       "  </tbody>\n",
       "</table>\n",
       "</div>"
      ],
      "text/plain": [
       "  RowID  ...                                 union\n",
       "0  Row0  ...        arquitectur histori amer latin\n",
       "1  Row1  ...  arquitectur colonial histori colombi\n",
       "2  Row2  ...                                quimic\n",
       "\n",
       "[3 rows x 29 columns]"
      ]
     },
     "execution_count": 4,
     "metadata": {},
     "output_type": "execute_result"
    }
   ],
   "source": [
    "df.head(3)"
   ]
  },
  {
   "cell_type": "markdown",
   "metadata": {
    "id": "0Pa2sORf-xFk"
   },
   "source": [
    "Anotamos la estructura del archivo. "
   ]
  },
  {
   "cell_type": "code",
   "execution_count": 3,
   "metadata": {
    "colab": {
     "base_uri": "https://localhost:8080/"
    },
    "executionInfo": {
     "elapsed": 12,
     "status": "ok",
     "timestamp": 1632448074944,
     "user": {
      "displayName": "juan sebastian angarita torres",
      "photoUrl": "https://lh3.googleusercontent.com/a-/AOh14GgjiV1o_Xb2Ov2kAJhpXcHsgVLy47m-BxyXrYYMfw=s64",
      "userId": "11476954540008106843"
     },
     "user_tz": 300
    },
    "id": "-uxQOfDb-cVZ",
    "outputId": "6b42ee5f-c637-4d44-e740-63adc7c8568d"
   },
   "outputs": [
    {
     "name": "stdout",
     "output_type": "stream",
     "text": [
      "Numero de filas: 516850\n",
      "Numero de columnas: 29\n"
     ]
    }
   ],
   "source": [
    "print(\"Numero de filas:\", df.shape[0])\n",
    "print(\"Numero de columnas:\", df.shape[1])"
   ]
  },
  {
   "cell_type": "markdown",
   "metadata": {
    "id": "baFBI-2q-zoD"
   },
   "source": [
    "El clustering para este experimento se realizará sobre el \"union\". No todas las columnas tienen este dato. En caso del que dato falta aparece la palabra \"desconoc\"."
   ]
  },
  {
   "cell_type": "code",
   "execution_count": 4,
   "metadata": {
    "colab": {
     "base_uri": "https://localhost:8080/"
    },
    "executionInfo": {
     "elapsed": 421,
     "status": "ok",
     "timestamp": 1632448075356,
     "user": {
      "displayName": "juan sebastian angarita torres",
      "photoUrl": "https://lh3.googleusercontent.com/a-/AOh14GgjiV1o_Xb2Ov2kAJhpXcHsgVLy47m-BxyXrYYMfw=s64",
      "userId": "11476954540008106843"
     },
     "user_tz": 300
    },
    "id": "DvXv_Fw0_ZvO",
    "outputId": "09b8012d-7161-466e-b6df-43a7a9dad9eb"
   },
   "outputs": [
    {
     "name": "stdout",
     "output_type": "stream",
     "text": [
      "Numero de datos sin temas: 14075\n"
     ]
    }
   ],
   "source": [
    "eliminar = df.loc[df[\"union\"]==\"desconoc\"]\n",
    "print(\"Numero de datos sin temas:\" , df.loc[df[\"union\"]==\"desconoc\"].shape[0])\n",
    "df = df[~df.index.isin(eliminar.index)]"
   ]
  },
  {
   "cell_type": "markdown",
   "metadata": {
    "id": "FmTwajglDNFP"
   },
   "source": [
    "Actualmente la tabla representa todos los prestamos. Agruparemos por usuarios y se realizará un append de los strings que están en la columna \"union\". "
   ]
  },
  {
   "cell_type": "code",
   "execution_count": 5,
   "metadata": {
    "id": "wr-akRpfD5qo"
   },
   "outputs": [],
   "source": [
    "grouped = df.groupby(\"IDUsario\").agg({'union': lambda x: ' '.join(x)})"
   ]
  },
  {
   "cell_type": "code",
   "execution_count": 13,
   "metadata": {},
   "outputs": [
    {
     "data": {
      "text/plain": [
       "25091"
      ]
     },
     "execution_count": 13,
     "metadata": {},
     "output_type": "execute_result"
    }
   ],
   "source": [
    "len(list(grouped.index))"
   ]
  },
  {
   "cell_type": "markdown",
   "metadata": {
    "id": "9h85SOs_E7Uh"
   },
   "source": [
    "Realizamos un proceso para generar una matriz dispersa a partir de la columnas union. Esto equivale a realizar una operación de bag of words para cada usuario."
   ]
  },
  {
   "cell_type": "code",
   "execution_count": 6,
   "metadata": {
    "id": "U-ksQ2EbFfGv"
   },
   "outputs": [],
   "source": [
    "from sklearn.feature_extraction.text import TfidfVectorizer, CountVectorizer"
   ]
  },
  {
   "cell_type": "code",
   "execution_count": 20,
   "metadata": {
    "colab": {
     "base_uri": "https://localhost:8080/",
     "height": 454
    },
    "executionInfo": {
     "elapsed": 1842,
     "status": "ok",
     "timestamp": 1632448077795,
     "user": {
      "displayName": "juan sebastian angarita torres",
      "photoUrl": "https://lh3.googleusercontent.com/a-/AOh14GgjiV1o_Xb2Ov2kAJhpXcHsgVLy47m-BxyXrYYMfw=s64",
      "userId": "11476954540008106843"
     },
     "user_tz": 300
    },
    "id": "n2m2qlJZFSr0",
    "outputId": "c108b4f9-2739-4300-df9e-892a9199a4fa"
   },
   "outputs": [
    {
     "data": {
      "text/html": [
       "<div>\n",
       "<style scoped>\n",
       "    .dataframe tbody tr th:only-of-type {\n",
       "        vertical-align: middle;\n",
       "    }\n",
       "\n",
       "    .dataframe tbody tr th {\n",
       "        vertical-align: top;\n",
       "    }\n",
       "\n",
       "    .dataframe thead th {\n",
       "        text-align: right;\n",
       "    }\n",
       "</style>\n",
       "<table border=\"1\" class=\"dataframe\">\n",
       "  <thead>\n",
       "    <tr style=\"text-align: right;\">\n",
       "      <th></th>\n",
       "      <th>aac</th>\n",
       "      <th>aafric</th>\n",
       "      <th>aalgebr</th>\n",
       "      <th>aandin</th>\n",
       "      <th>aar</th>\n",
       "      <th>abandon</th>\n",
       "      <th>abastec</th>\n",
       "      <th>abdom</th>\n",
       "      <th>abej</th>\n",
       "      <th>abelian</th>\n",
       "      <th>...</th>\n",
       "      <th>zombis</th>\n",
       "      <th>zombism</th>\n",
       "      <th>zon</th>\n",
       "      <th>zoolog</th>\n",
       "      <th>zoologi</th>\n",
       "      <th>zoonosis</th>\n",
       "      <th>zootecni</th>\n",
       "      <th>zorr</th>\n",
       "      <th>zost</th>\n",
       "      <th>zuli</th>\n",
       "    </tr>\n",
       "  </thead>\n",
       "  <tbody>\n",
       "    <tr>\n",
       "      <th>0</th>\n",
       "      <td>0</td>\n",
       "      <td>0</td>\n",
       "      <td>0</td>\n",
       "      <td>0</td>\n",
       "      <td>0</td>\n",
       "      <td>0</td>\n",
       "      <td>0</td>\n",
       "      <td>0</td>\n",
       "      <td>0</td>\n",
       "      <td>0</td>\n",
       "      <td>...</td>\n",
       "      <td>0</td>\n",
       "      <td>0</td>\n",
       "      <td>0</td>\n",
       "      <td>0</td>\n",
       "      <td>0</td>\n",
       "      <td>0</td>\n",
       "      <td>0</td>\n",
       "      <td>0</td>\n",
       "      <td>0</td>\n",
       "      <td>0</td>\n",
       "    </tr>\n",
       "    <tr>\n",
       "      <th>1</th>\n",
       "      <td>0</td>\n",
       "      <td>0</td>\n",
       "      <td>0</td>\n",
       "      <td>0</td>\n",
       "      <td>0</td>\n",
       "      <td>0</td>\n",
       "      <td>0</td>\n",
       "      <td>0</td>\n",
       "      <td>0</td>\n",
       "      <td>0</td>\n",
       "      <td>...</td>\n",
       "      <td>0</td>\n",
       "      <td>0</td>\n",
       "      <td>0</td>\n",
       "      <td>0</td>\n",
       "      <td>0</td>\n",
       "      <td>0</td>\n",
       "      <td>0</td>\n",
       "      <td>0</td>\n",
       "      <td>0</td>\n",
       "      <td>0</td>\n",
       "    </tr>\n",
       "    <tr>\n",
       "      <th>2</th>\n",
       "      <td>0</td>\n",
       "      <td>0</td>\n",
       "      <td>0</td>\n",
       "      <td>0</td>\n",
       "      <td>0</td>\n",
       "      <td>0</td>\n",
       "      <td>0</td>\n",
       "      <td>0</td>\n",
       "      <td>0</td>\n",
       "      <td>0</td>\n",
       "      <td>...</td>\n",
       "      <td>0</td>\n",
       "      <td>0</td>\n",
       "      <td>0</td>\n",
       "      <td>0</td>\n",
       "      <td>0</td>\n",
       "      <td>0</td>\n",
       "      <td>0</td>\n",
       "      <td>0</td>\n",
       "      <td>0</td>\n",
       "      <td>0</td>\n",
       "    </tr>\n",
       "    <tr>\n",
       "      <th>3</th>\n",
       "      <td>0</td>\n",
       "      <td>0</td>\n",
       "      <td>0</td>\n",
       "      <td>0</td>\n",
       "      <td>0</td>\n",
       "      <td>0</td>\n",
       "      <td>0</td>\n",
       "      <td>0</td>\n",
       "      <td>0</td>\n",
       "      <td>0</td>\n",
       "      <td>...</td>\n",
       "      <td>0</td>\n",
       "      <td>0</td>\n",
       "      <td>0</td>\n",
       "      <td>0</td>\n",
       "      <td>0</td>\n",
       "      <td>0</td>\n",
       "      <td>0</td>\n",
       "      <td>0</td>\n",
       "      <td>0</td>\n",
       "      <td>0</td>\n",
       "    </tr>\n",
       "    <tr>\n",
       "      <th>4</th>\n",
       "      <td>0</td>\n",
       "      <td>0</td>\n",
       "      <td>0</td>\n",
       "      <td>0</td>\n",
       "      <td>0</td>\n",
       "      <td>0</td>\n",
       "      <td>0</td>\n",
       "      <td>0</td>\n",
       "      <td>0</td>\n",
       "      <td>0</td>\n",
       "      <td>...</td>\n",
       "      <td>0</td>\n",
       "      <td>0</td>\n",
       "      <td>0</td>\n",
       "      <td>0</td>\n",
       "      <td>0</td>\n",
       "      <td>0</td>\n",
       "      <td>0</td>\n",
       "      <td>0</td>\n",
       "      <td>0</td>\n",
       "      <td>0</td>\n",
       "    </tr>\n",
       "    <tr>\n",
       "      <th>...</th>\n",
       "      <td>...</td>\n",
       "      <td>...</td>\n",
       "      <td>...</td>\n",
       "      <td>...</td>\n",
       "      <td>...</td>\n",
       "      <td>...</td>\n",
       "      <td>...</td>\n",
       "      <td>...</td>\n",
       "      <td>...</td>\n",
       "      <td>...</td>\n",
       "      <td>...</td>\n",
       "      <td>...</td>\n",
       "      <td>...</td>\n",
       "      <td>...</td>\n",
       "      <td>...</td>\n",
       "      <td>...</td>\n",
       "      <td>...</td>\n",
       "      <td>...</td>\n",
       "      <td>...</td>\n",
       "      <td>...</td>\n",
       "      <td>...</td>\n",
       "    </tr>\n",
       "    <tr>\n",
       "      <th>95</th>\n",
       "      <td>0</td>\n",
       "      <td>0</td>\n",
       "      <td>0</td>\n",
       "      <td>0</td>\n",
       "      <td>0</td>\n",
       "      <td>0</td>\n",
       "      <td>0</td>\n",
       "      <td>0</td>\n",
       "      <td>0</td>\n",
       "      <td>0</td>\n",
       "      <td>...</td>\n",
       "      <td>0</td>\n",
       "      <td>0</td>\n",
       "      <td>0</td>\n",
       "      <td>0</td>\n",
       "      <td>0</td>\n",
       "      <td>0</td>\n",
       "      <td>0</td>\n",
       "      <td>0</td>\n",
       "      <td>0</td>\n",
       "      <td>0</td>\n",
       "    </tr>\n",
       "    <tr>\n",
       "      <th>96</th>\n",
       "      <td>0</td>\n",
       "      <td>0</td>\n",
       "      <td>0</td>\n",
       "      <td>0</td>\n",
       "      <td>0</td>\n",
       "      <td>0</td>\n",
       "      <td>0</td>\n",
       "      <td>0</td>\n",
       "      <td>0</td>\n",
       "      <td>0</td>\n",
       "      <td>...</td>\n",
       "      <td>0</td>\n",
       "      <td>0</td>\n",
       "      <td>0</td>\n",
       "      <td>0</td>\n",
       "      <td>0</td>\n",
       "      <td>0</td>\n",
       "      <td>0</td>\n",
       "      <td>0</td>\n",
       "      <td>0</td>\n",
       "      <td>0</td>\n",
       "    </tr>\n",
       "    <tr>\n",
       "      <th>97</th>\n",
       "      <td>0</td>\n",
       "      <td>0</td>\n",
       "      <td>0</td>\n",
       "      <td>0</td>\n",
       "      <td>0</td>\n",
       "      <td>0</td>\n",
       "      <td>0</td>\n",
       "      <td>0</td>\n",
       "      <td>0</td>\n",
       "      <td>0</td>\n",
       "      <td>...</td>\n",
       "      <td>0</td>\n",
       "      <td>0</td>\n",
       "      <td>1</td>\n",
       "      <td>0</td>\n",
       "      <td>0</td>\n",
       "      <td>0</td>\n",
       "      <td>0</td>\n",
       "      <td>0</td>\n",
       "      <td>0</td>\n",
       "      <td>0</td>\n",
       "    </tr>\n",
       "    <tr>\n",
       "      <th>98</th>\n",
       "      <td>0</td>\n",
       "      <td>0</td>\n",
       "      <td>0</td>\n",
       "      <td>0</td>\n",
       "      <td>0</td>\n",
       "      <td>0</td>\n",
       "      <td>0</td>\n",
       "      <td>0</td>\n",
       "      <td>0</td>\n",
       "      <td>0</td>\n",
       "      <td>...</td>\n",
       "      <td>0</td>\n",
       "      <td>0</td>\n",
       "      <td>0</td>\n",
       "      <td>0</td>\n",
       "      <td>0</td>\n",
       "      <td>0</td>\n",
       "      <td>0</td>\n",
       "      <td>0</td>\n",
       "      <td>0</td>\n",
       "      <td>0</td>\n",
       "    </tr>\n",
       "    <tr>\n",
       "      <th>99</th>\n",
       "      <td>0</td>\n",
       "      <td>0</td>\n",
       "      <td>0</td>\n",
       "      <td>0</td>\n",
       "      <td>0</td>\n",
       "      <td>0</td>\n",
       "      <td>0</td>\n",
       "      <td>0</td>\n",
       "      <td>0</td>\n",
       "      <td>0</td>\n",
       "      <td>...</td>\n",
       "      <td>0</td>\n",
       "      <td>0</td>\n",
       "      <td>0</td>\n",
       "      <td>0</td>\n",
       "      <td>0</td>\n",
       "      <td>0</td>\n",
       "      <td>0</td>\n",
       "      <td>0</td>\n",
       "      <td>0</td>\n",
       "      <td>0</td>\n",
       "    </tr>\n",
       "  </tbody>\n",
       "</table>\n",
       "<p>100 rows × 5593 columns</p>\n",
       "</div>"
      ],
      "text/plain": [
       "    aac  aafric  aalgebr  aandin  aar  abandon  abastec  abdom  abej  abelian  \\\n",
       "0     0       0        0       0    0        0        0      0     0        0   \n",
       "1     0       0        0       0    0        0        0      0     0        0   \n",
       "2     0       0        0       0    0        0        0      0     0        0   \n",
       "3     0       0        0       0    0        0        0      0     0        0   \n",
       "4     0       0        0       0    0        0        0      0     0        0   \n",
       "..  ...     ...      ...     ...  ...      ...      ...    ...   ...      ...   \n",
       "95    0       0        0       0    0        0        0      0     0        0   \n",
       "96    0       0        0       0    0        0        0      0     0        0   \n",
       "97    0       0        0       0    0        0        0      0     0        0   \n",
       "98    0       0        0       0    0        0        0      0     0        0   \n",
       "99    0       0        0       0    0        0        0      0     0        0   \n",
       "\n",
       "    ...  zombis  zombism  zon  zoolog  zoologi  zoonosis  zootecni  zorr  \\\n",
       "0   ...       0        0    0       0        0         0         0     0   \n",
       "1   ...       0        0    0       0        0         0         0     0   \n",
       "2   ...       0        0    0       0        0         0         0     0   \n",
       "3   ...       0        0    0       0        0         0         0     0   \n",
       "4   ...       0        0    0       0        0         0         0     0   \n",
       "..  ...     ...      ...  ...     ...      ...       ...       ...   ...   \n",
       "95  ...       0        0    0       0        0         0         0     0   \n",
       "96  ...       0        0    0       0        0         0         0     0   \n",
       "97  ...       0        0    1       0        0         0         0     0   \n",
       "98  ...       0        0    0       0        0         0         0     0   \n",
       "99  ...       0        0    0       0        0         0         0     0   \n",
       "\n",
       "    zost  zuli  \n",
       "0      0     0  \n",
       "1      0     0  \n",
       "2      0     0  \n",
       "3      0     0  \n",
       "4      0     0  \n",
       "..   ...   ...  \n",
       "95     0     0  \n",
       "96     0     0  \n",
       "97     0     0  \n",
       "98     0     0  \n",
       "99     0     0  \n",
       "\n",
       "[100 rows x 5593 columns]"
      ]
     },
     "metadata": {},
     "output_type": "display_data"
    },
    {
     "name": "stdout",
     "output_type": "stream",
     "text": [
      "(25091, 5593)\n"
     ]
    }
   ],
   "source": [
    "vectorizador1 = CountVectorizer(analyzer = \"word\" )\n",
    "# Acá está la documentación https://scikit-learn.org/stable/modules/generated/sklearn.feature_extraction.text.CountVectorizer.html#sklearn.feature_extraction.text.CountVectorizer\n",
    "matrizCountVectorizer = vectorizador1.fit_transform(grouped['union'])\n",
    "type(matrizCountVectorizer)\n",
    "\n",
    "# Ahora veremos el resultado generando un dataframe a partir del conteo\n",
    "count_array = matrizCountVectorizer.toarray()\n",
    "dfCount = pd.DataFrame(data = count_array, columns = vectorizador1.get_feature_names())\n",
    "final = dfCount\n",
    "display(final.head(100))\n",
    "print(final.shape)"
   ]
  },
  {
   "cell_type": "markdown",
   "metadata": {
    "id": "diJY0bMJVI_g"
   },
   "source": [
    "# Configuración Modelos\n",
    "A partir del archivo \"Comparación modelos\" se puede concluir que el modelo que ayuda en mayor medida a agrupar los datos, minimizando el número de clusters con tamaño menor a 20 y la desviación estandar es kmeans con los siguiente parámetros:\n",
    "* Filas normalizadas = true\n",
    "* Columnas normalizadas = true\n",
    "* PCA = 0.95\n",
    "* Número de clusters = 150\n",
    "* Número de iteraciones = 500"
   ]
  },
  {
   "cell_type": "code",
   "execution_count": 21,
   "metadata": {
    "id": "9-I-8OKF_KMn"
   },
   "outputs": [],
   "source": [
    "resumen = pd.DataFrame(columns = [\"Tecnica\",\"PCA\", \"Norm_filas\", \"Norm_col\", \"Precision\", \"Desviacion_estandar\", \"Media\", \"Coeficiente_variacion\", \"Clusters\",\"Grupo_mas_grande\", \"Grupos<10\", \"Grupos<20\"])\n"
   ]
  },
  {
   "cell_type": "code",
   "execution_count": 22,
   "metadata": {
    "id": "4metPqHb6UGM"
   },
   "outputs": [],
   "source": [
    "def std_dev_cluster(data, labs):\n",
    "    sizes_labels = []\n",
    "    for label in np.unique(labs):\n",
    "        sizes_labels.append(len(data.loc[data[\"cluster\"] == label]))\n",
    "    \n",
    "    return np.std(sizes_labels)"
   ]
  },
  {
   "cell_type": "code",
   "execution_count": 23,
   "metadata": {
    "id": "cfZFueYQhFIQ"
   },
   "outputs": [],
   "source": [
    "def mean_cluster(data, labs):\n",
    "    sizes_labels = []\n",
    "    for label in np.unique(labs):\n",
    "        sizes_labels.append(len(data.loc[data[\"cluster\"] == label]))\n",
    "    \n",
    "    return np.mean(sizes_labels)"
   ]
  },
  {
   "cell_type": "code",
   "execution_count": 24,
   "metadata": {
    "id": "KscSkW-o_R-N"
   },
   "outputs": [],
   "source": [
    "#\n",
    "PCA = 0.95\n",
    "num_clusters = 150\n",
    "num_iter = 3"
   ]
  },
  {
   "cell_type": "markdown",
   "metadata": {
    "id": "MVjLyTJ__r8Q"
   },
   "source": [
    "# Algoritmo kmeans"
   ]
  },
  {
   "cell_type": "code",
   "execution_count": 25,
   "metadata": {
    "colab": {
     "base_uri": "https://localhost:8080/",
     "height": 308
    },
    "executionInfo": {
     "elapsed": 678666,
     "status": "ok",
     "timestamp": 1632448756459,
     "user": {
      "displayName": "juan sebastian angarita torres",
      "photoUrl": "https://lh3.googleusercontent.com/a-/AOh14GgjiV1o_Xb2Ov2kAJhpXcHsgVLy47m-BxyXrYYMfw=s64",
      "userId": "11476954540008106843"
     },
     "user_tz": 300
    },
    "id": "oBYgDn75XB50",
    "outputId": "31530c2f-a607-498c-b7bc-8bc100e8fc3d"
   },
   "outputs": [
    {
     "name": "stdout",
     "output_type": "stream",
     "text": [
      "silhouette_score:  0.03336792558760567\n"
     ]
    },
    {
     "data": {
      "text/plain": [
       "<AxesSubplot:>"
      ]
     },
     "metadata": {},
     "output_type": "display_data"
    },
    {
     "data": {
      "image/png": "[encoded data removed]",
      "text/plain": [
       "<Figure size 432x288 with 1 Axes>"
      ]
     },
     "metadata": {
      "needs_background": "light"
     },
     "output_type": "display_data"
    }
   ],
   "source": [
    "##Exportamos los datos del modelo que nos dio mejores resultados\n",
    "#Normalización\n",
    "sumatoria = final.sum(axis=1)\n",
    "pesos_norm = final.div(sumatoria, axis=0).fillna(0)\n",
    "\n",
    "scaler = MinMaxScaler()\n",
    "pesos_norm = scaler.fit_transform(pesos_norm.values)\n",
    "\n",
    "  #Kmeans\n",
    "k_means = KMeans(init = \"k-means++\", n_clusters = num_clusters, n_init = num_iter)\n",
    "k_means.fit_predict(pesos_norm)\n",
    "labels = k_means.labels_\n",
    "\n",
    "  #Desempeño\n",
    "pres = silhouette_score(pesos_norm, labels)\n",
    "print(\"silhouette_score: \", pres)\n",
    "\n",
    "  #copiamos el dataframe y agregamos los clusters para gráficar la distribución\n",
    "df2 = final.copy()\n",
    "df2[\"cluster\"] = labels\n",
    "df2.groupby(\"cluster\")[\"cluster\"].count()\n",
    "display(df2[\"cluster\"].value_counts().plot(kind='bar'))\n",
    "\n",
    "  #Cálculo de métricas\n",
    "media = mean_cluster(df2,labels)\n",
    "desviacion = std_dev_cluster(df2,labels)\n",
    "data = df2.groupby('cluster')['union'].count()\n",
    "peque10 = len(data[data<=10])\n",
    "peque20 = len(data[data<=20])\n",
    "masGrande = data.max()\n",
    "#Agregamos los datos a nuestra tabla de resumen para comparar\n",
    "resumen = resumen.append({'Tecnica':\"K-MEANS\",\n",
    "                              'PCA':0.95,\n",
    "                              'Norm_filas':True,\n",
    "                              'Norm_col':True,\n",
    "                              'Precision':pres,\n",
    "                              'Desviacion_estandar':desviacion,\n",
    "                              'Media':media,\n",
    "                              'Coeficiente_variacion':desviacion/media, \n",
    "                              'Clusters': num_clusters,\n",
    "                              \"Grupos<20\":peque20,\n",
    "                              \"Grupos<10\":peque10 , \n",
    "                              \"Grupo_mas_grande\":masGrande}, ignore_index=True)"
   ]
  },
  {
   "cell_type": "markdown",
   "metadata": {
    "id": "5ZE-q8HfXBg1"
   },
   "source": [
    "Este sería el mismo modelo pero con PCA"
   ]
  },
  {
   "cell_type": "code",
   "execution_count": null,
   "metadata": {
    "id": "OcGxTiXL_vS8"
   },
   "outputs": [],
   "source": [
    "##Exportamos los datos del modelo que nos dio mejores resultados\n",
    "#Normalización\n",
    "'''sumatoria = final.sum(axis=1)\n",
    "pesos_norm = final.div(sumatoria, axis=0).fillna(0)\n",
    "\n",
    "scaler = MinMaxScaler()\n",
    "pesos_norm = scaler.fit_transform(pesos_norm.values)\n",
    "\n",
    "#PCA\n",
    "pca = PCA().fit(pesos_norm)\n",
    "\n",
    "pca = PCA(n_components=0.95)\n",
    "pesos_pca = pca.fit_transform(pesos_norm)\n",
    "\n",
    "print(\"Número de componentes: \",pca.n_components_)\n",
    "  #Kmeans\n",
    "k_means = KMeans(init = \"k-means++\", n_clusters = num_clusters, n_init = num_iter)\n",
    "k_means.fit_predict(pesos_pca)\n",
    "labels = k_means.labels_\n",
    "\n",
    "  #Desempeño\n",
    "pres = silhouette_score(pesos_pca, labels)\n",
    "print(\"silhouette_score: \", pres)\n",
    "\n",
    "  #copiamos el dataframe y agregamos los clusters para gráficar la distribución\n",
    "df2 = pesos_usuarios.copy()\n",
    "df2[\"cluster\"] = labels\n",
    "df2.groupby(\"cluster\")[\"cluster\"].count()\n",
    "display(df2[\"cluster\"].value_counts().plot(kind='bar'))\n",
    "\n",
    "  #Cálculo de métricas\n",
    "media = mean_cluster(df2,labels)\n",
    "desviacion = std_dev_cluster(df2,labels)\n",
    "data = df2.groupby('cluster')['720'].count()\n",
    "peque10 = len(data[data<=10])\n",
    "peque20 = len(data[data<=20])\n",
    "masGrande = data.max()\n",
    "#Agregamos los datos a nuestra tabla de resumen para comparar\n",
    "resumen = resumen.append({'Tecnica':\"K-MEANS\",\n",
    "                              'PCA':0.95,\n",
    "                              'Norm_filas':True,\n",
    "                              'Norm_col':True,\n",
    "                              'Precision':pres,\n",
    "                              'Desviacion_estandar':desviacion,\n",
    "                              'Media':media,\n",
    "                              'Coeficiente_variacion':desviacion/media, \n",
    "                              'Clusters': num_clusters,\n",
    "                              \"Grupos<20\":peque20,\n",
    "                              \"Grupos<10\":peque10 , \n",
    "                              \"Grupo_mas_grande\":masGrande}, ignore_index=True)'''"
   ]
  },
  {
   "cell_type": "code",
   "execution_count": null,
   "metadata": {
    "colab": {
     "base_uri": "https://localhost:8080/",
     "height": 80
    },
    "executionInfo": {
     "elapsed": 177,
     "status": "ok",
     "timestamp": 1632448999275,
     "user": {
      "displayName": "juan sebastian angarita torres",
      "photoUrl": "https://lh3.googleusercontent.com/a-/AOh14GgjiV1o_Xb2Ov2kAJhpXcHsgVLy47m-BxyXrYYMfw=s64",
      "userId": "11476954540008106843"
     },
     "user_tz": 300
    },
    "id": "MDvuWOySBTyh",
    "outputId": "dc29e699-8b8d-4b3c-d5ad-13cafb877c34"
   },
   "outputs": [
    {
     "data": {
      "text/html": [
       "<div>\n",
       "<style scoped>\n",
       "    .dataframe tbody tr th:only-of-type {\n",
       "        vertical-align: middle;\n",
       "    }\n",
       "\n",
       "    .dataframe tbody tr th {\n",
       "        vertical-align: top;\n",
       "    }\n",
       "\n",
       "    .dataframe thead th {\n",
       "        text-align: right;\n",
       "    }\n",
       "</style>\n",
       "<table border=\"1\" class=\"dataframe\">\n",
       "  <thead>\n",
       "    <tr style=\"text-align: right;\">\n",
       "      <th></th>\n",
       "      <th>Tecnica</th>\n",
       "      <th>PCA</th>\n",
       "      <th>Norm_filas</th>\n",
       "      <th>Norm_col</th>\n",
       "      <th>Precision</th>\n",
       "      <th>Desviacion_estandar</th>\n",
       "      <th>Media</th>\n",
       "      <th>Coeficiente_variacion</th>\n",
       "      <th>Clusters</th>\n",
       "      <th>Grupo_mas_grande</th>\n",
       "      <th>Grupos&lt;10</th>\n",
       "      <th>Grupos&lt;20</th>\n",
       "    </tr>\n",
       "  </thead>\n",
       "  <tbody>\n",
       "    <tr>\n",
       "      <th>0</th>\n",
       "      <td>K-MEANS</td>\n",
       "      <td>0.95</td>\n",
       "      <td>True</td>\n",
       "      <td>True</td>\n",
       "      <td>0.02552</td>\n",
       "      <td>508.443348</td>\n",
       "      <td>167.273333</td>\n",
       "      <td>3.039596</td>\n",
       "      <td>150</td>\n",
       "      <td>5860</td>\n",
       "      <td>9</td>\n",
       "      <td>18</td>\n",
       "    </tr>\n",
       "  </tbody>\n",
       "</table>\n",
       "</div>"
      ],
      "text/plain": [
       "   Tecnica   PCA Norm_filas  ... Grupo_mas_grande  Grupos<10  Grupos<20\n",
       "0  K-MEANS  0.95       True  ...             5860          9         18\n",
       "\n",
       "[1 rows x 12 columns]"
      ]
     },
     "execution_count": 15,
     "metadata": {},
     "output_type": "execute_result"
    }
   ],
   "source": [
    "resumen"
   ]
  },
  {
   "cell_type": "markdown",
   "metadata": {
    "id": "4FwTk6-ammsv"
   },
   "source": [
    "Podemos analizar los temas más importantes que tiene cada cluster. "
   ]
  },
  {
   "cell_type": "code",
   "execution_count": null,
   "metadata": {
    "id": "sq5YOnvGVh5U"
   },
   "outputs": [],
   "source": [
    "cluster = df2.loc[df2.cluster == 70]\n",
    "aux=cluster.astype(bool).sum(axis=0)\n",
    "df3 = aux[aux > 0]\n",
    "df3.sort_values(ascending=False).head(10)"
   ]
  },
  {
   "cell_type": "code",
   "execution_count": 26,
   "metadata": {},
   "outputs": [],
   "source": [
    "df2['id usuario'] = list(grouped.index)"
   ]
  },
  {
   "cell_type": "code",
   "execution_count": 27,
   "metadata": {},
   "outputs": [
    {
     "data": {
      "text/html": [
       "<div>\n",
       "<style scoped>\n",
       "    .dataframe tbody tr th:only-of-type {\n",
       "        vertical-align: middle;\n",
       "    }\n",
       "\n",
       "    .dataframe tbody tr th {\n",
       "        vertical-align: top;\n",
       "    }\n",
       "\n",
       "    .dataframe thead th {\n",
       "        text-align: right;\n",
       "    }\n",
       "</style>\n",
       "<table border=\"1\" class=\"dataframe\">\n",
       "  <thead>\n",
       "    <tr style=\"text-align: right;\">\n",
       "      <th></th>\n",
       "      <th>aac</th>\n",
       "      <th>aafric</th>\n",
       "      <th>aalgebr</th>\n",
       "      <th>aandin</th>\n",
       "      <th>aar</th>\n",
       "      <th>abandon</th>\n",
       "      <th>abastec</th>\n",
       "      <th>abdom</th>\n",
       "      <th>abej</th>\n",
       "      <th>abelian</th>\n",
       "      <th>...</th>\n",
       "      <th>zon</th>\n",
       "      <th>zoolog</th>\n",
       "      <th>zoologi</th>\n",
       "      <th>zoonosis</th>\n",
       "      <th>zootecni</th>\n",
       "      <th>zorr</th>\n",
       "      <th>zost</th>\n",
       "      <th>zuli</th>\n",
       "      <th>cluster</th>\n",
       "      <th>id usuario</th>\n",
       "    </tr>\n",
       "  </thead>\n",
       "  <tbody>\n",
       "    <tr>\n",
       "      <th>0</th>\n",
       "      <td>0</td>\n",
       "      <td>0</td>\n",
       "      <td>0</td>\n",
       "      <td>0</td>\n",
       "      <td>0</td>\n",
       "      <td>0</td>\n",
       "      <td>0</td>\n",
       "      <td>0</td>\n",
       "      <td>0</td>\n",
       "      <td>0</td>\n",
       "      <td>...</td>\n",
       "      <td>0</td>\n",
       "      <td>0</td>\n",
       "      <td>0</td>\n",
       "      <td>0</td>\n",
       "      <td>0</td>\n",
       "      <td>0</td>\n",
       "      <td>0</td>\n",
       "      <td>0</td>\n",
       "      <td>78</td>\n",
       "      <td>00063d52cf68c65d2a569e95c40345c4a305ccc7</td>\n",
       "    </tr>\n",
       "    <tr>\n",
       "      <th>1</th>\n",
       "      <td>0</td>\n",
       "      <td>0</td>\n",
       "      <td>0</td>\n",
       "      <td>0</td>\n",
       "      <td>0</td>\n",
       "      <td>0</td>\n",
       "      <td>0</td>\n",
       "      <td>0</td>\n",
       "      <td>0</td>\n",
       "      <td>0</td>\n",
       "      <td>...</td>\n",
       "      <td>0</td>\n",
       "      <td>0</td>\n",
       "      <td>0</td>\n",
       "      <td>0</td>\n",
       "      <td>0</td>\n",
       "      <td>0</td>\n",
       "      <td>0</td>\n",
       "      <td>0</td>\n",
       "      <td>9</td>\n",
       "      <td>0006b3bdabeaa5389b211c8487bd67d339c97ef7</td>\n",
       "    </tr>\n",
       "    <tr>\n",
       "      <th>2</th>\n",
       "      <td>0</td>\n",
       "      <td>0</td>\n",
       "      <td>0</td>\n",
       "      <td>0</td>\n",
       "      <td>0</td>\n",
       "      <td>0</td>\n",
       "      <td>0</td>\n",
       "      <td>0</td>\n",
       "      <td>0</td>\n",
       "      <td>0</td>\n",
       "      <td>...</td>\n",
       "      <td>0</td>\n",
       "      <td>0</td>\n",
       "      <td>0</td>\n",
       "      <td>0</td>\n",
       "      <td>0</td>\n",
       "      <td>0</td>\n",
       "      <td>0</td>\n",
       "      <td>0</td>\n",
       "      <td>32</td>\n",
       "      <td>000a0630c32a437052696f6921e3181f155291d0</td>\n",
       "    </tr>\n",
       "    <tr>\n",
       "      <th>3</th>\n",
       "      <td>0</td>\n",
       "      <td>0</td>\n",
       "      <td>0</td>\n",
       "      <td>0</td>\n",
       "      <td>0</td>\n",
       "      <td>0</td>\n",
       "      <td>0</td>\n",
       "      <td>0</td>\n",
       "      <td>0</td>\n",
       "      <td>0</td>\n",
       "      <td>...</td>\n",
       "      <td>0</td>\n",
       "      <td>0</td>\n",
       "      <td>0</td>\n",
       "      <td>0</td>\n",
       "      <td>0</td>\n",
       "      <td>0</td>\n",
       "      <td>0</td>\n",
       "      <td>0</td>\n",
       "      <td>9</td>\n",
       "      <td>000c040064aedd76057c5309064a3823db970644</td>\n",
       "    </tr>\n",
       "    <tr>\n",
       "      <th>4</th>\n",
       "      <td>0</td>\n",
       "      <td>0</td>\n",
       "      <td>0</td>\n",
       "      <td>0</td>\n",
       "      <td>0</td>\n",
       "      <td>0</td>\n",
       "      <td>0</td>\n",
       "      <td>0</td>\n",
       "      <td>0</td>\n",
       "      <td>0</td>\n",
       "      <td>...</td>\n",
       "      <td>0</td>\n",
       "      <td>0</td>\n",
       "      <td>0</td>\n",
       "      <td>0</td>\n",
       "      <td>0</td>\n",
       "      <td>0</td>\n",
       "      <td>0</td>\n",
       "      <td>0</td>\n",
       "      <td>37</td>\n",
       "      <td>000f23e62e6d4995ede7090c6447ad6736edc4de</td>\n",
       "    </tr>\n",
       "  </tbody>\n",
       "</table>\n",
       "<p>5 rows × 5595 columns</p>\n",
       "</div>"
      ],
      "text/plain": [
       "   aac  aafric  aalgebr  aandin  aar  abandon  abastec  abdom  abej  abelian  \\\n",
       "0    0       0        0       0    0        0        0      0     0        0   \n",
       "1    0       0        0       0    0        0        0      0     0        0   \n",
       "2    0       0        0       0    0        0        0      0     0        0   \n",
       "3    0       0        0       0    0        0        0      0     0        0   \n",
       "4    0       0        0       0    0        0        0      0     0        0   \n",
       "\n",
       "   ...  zon  zoolog  zoologi  zoonosis  zootecni  zorr  zost  zuli  cluster  \\\n",
       "0  ...    0       0        0         0         0     0     0     0       78   \n",
       "1  ...    0       0        0         0         0     0     0     0        9   \n",
       "2  ...    0       0        0         0         0     0     0     0       32   \n",
       "3  ...    0       0        0         0         0     0     0     0        9   \n",
       "4  ...    0       0        0         0         0     0     0     0       37   \n",
       "\n",
       "                                 id usuario  \n",
       "0  00063d52cf68c65d2a569e95c40345c4a305ccc7  \n",
       "1  0006b3bdabeaa5389b211c8487bd67d339c97ef7  \n",
       "2  000a0630c32a437052696f6921e3181f155291d0  \n",
       "3  000c040064aedd76057c5309064a3823db970644  \n",
       "4  000f23e62e6d4995ede7090c6447ad6736edc4de  \n",
       "\n",
       "[5 rows x 5595 columns]"
      ]
     },
     "execution_count": 27,
     "metadata": {},
     "output_type": "execute_result"
    }
   ],
   "source": [
    "df2.head()"
   ]
  },
  {
   "cell_type": "code",
   "execution_count": 28,
   "metadata": {},
   "outputs": [],
   "source": [
    "import gzip, pickle, pickletools\n",
    "filepath = \"Cluster_temas.pkl\"\n",
    "with gzip.open(filepath, \"wb\") as f:\n",
    "    pickled = pickle.dumps(df2, protocol=4)\n",
    "    optimized_pickle = pickletools.optimize(pickled)\n",
    "    f.write(optimized_pickle)"
   ]
  },
  {
   "cell_type": "code",
   "execution_count": 29,
   "metadata": {},
   "outputs": [],
   "source": [
    "with gzip.open(filepath, 'rb') as f:\n",
    "    p = pickle.Unpickler(f)\n",
    "    df_cl = p.load()"
   ]
  },
  {
   "cell_type": "code",
   "execution_count": 32,
   "metadata": {},
   "outputs": [
    {
     "data": {
      "text/plain": [
       "25091"
      ]
     },
     "execution_count": 32,
     "metadata": {},
     "output_type": "execute_result"
    }
   ],
   "source": [
    "len(df_cl)"
   ]
  },
  {
   "cell_type": "markdown",
   "metadata": {
    "id": "UgFeX2R3mqvm"
   },
   "source": [
    "Finalmente exportamos el modelo para pasarlo como parámetro a los algoritmos de recomendación."
   ]
  },
  {
   "cell_type": "code",
   "execution_count": 31,
   "metadata": {
    "colab": {
     "base_uri": "https://localhost:8080/",
     "height": 162
    },
    "executionInfo": {
     "elapsed": 171,
     "status": "error",
     "timestamp": 1632502417930,
     "user": {
      "displayName": "juan sebastian angarita torres",
      "photoUrl": "https://lh3.googleusercontent.com/a-/AOh14GgjiV1o_Xb2Ov2kAJhpXcHsgVLy47m-BxyXrYYMfw=s64",
      "userId": "11476954540008106843"
     },
     "user_tz": 300
    },
    "id": "pc5CFJG4mxWR",
    "outputId": "9282c264-d01c-4ef9-e5e6-24ae6fd1282e"
   },
   "outputs": [
    {
     "ename": "FileNotFoundError",
     "evalue": "[Errno 2] No such file or directory: '/content/drive/MyDrive/UAQUE/PerfilGrupal/Cluster_temas.json'",
     "output_type": "error",
     "traceback": [
      "\u001b[0;31m---------------------------------------------------------------------------\u001b[0m",
      "\u001b[0;31mFileNotFoundError\u001b[0m                         Traceback (most recent call last)",
      "\u001b[0;32m/var/folders/pk/3mfh7qx1111czrm27qywf15m0000gn/T/ipykernel_7338/452873738.py\u001b[0m in \u001b[0;36m<module>\u001b[0;34m\u001b[0m\n\u001b[0;32m----> 1\u001b[0;31m \u001b[0mdf2\u001b[0m\u001b[0;34m.\u001b[0m\u001b[0mto_json\u001b[0m\u001b[0;34m(\u001b[0m\u001b[0;34m'/content/drive/MyDrive/UAQUE/PerfilGrupal/Cluster_temas.json'\u001b[0m\u001b[0;34m)\u001b[0m\u001b[0;34m\u001b[0m\u001b[0;34m\u001b[0m\u001b[0m\n\u001b[0m",
      "\u001b[0;32m/opt/anaconda3/envs/rec_base/lib/python3.7/site-packages/pandas/core/generic.py\u001b[0m in \u001b[0;36mto_json\u001b[0;34m(self, path_or_buf, orient, date_format, double_precision, force_ascii, date_unit, default_handler, lines, compression, index, indent, storage_options)\u001b[0m\n\u001b[1;32m   2569\u001b[0m             \u001b[0mindex\u001b[0m\u001b[0;34m=\u001b[0m\u001b[0mindex\u001b[0m\u001b[0;34m,\u001b[0m\u001b[0;34m\u001b[0m\u001b[0;34m\u001b[0m\u001b[0m\n\u001b[1;32m   2570\u001b[0m             \u001b[0mindent\u001b[0m\u001b[0;34m=\u001b[0m\u001b[0mindent\u001b[0m\u001b[0;34m,\u001b[0m\u001b[0;34m\u001b[0m\u001b[0;34m\u001b[0m\u001b[0m\n\u001b[0;32m-> 2571\u001b[0;31m             \u001b[0mstorage_options\u001b[0m\u001b[0;34m=\u001b[0m\u001b[0mstorage_options\u001b[0m\u001b[0;34m,\u001b[0m\u001b[0;34m\u001b[0m\u001b[0;34m\u001b[0m\u001b[0m\n\u001b[0m\u001b[1;32m   2572\u001b[0m         )\n\u001b[1;32m   2573\u001b[0m \u001b[0;34m\u001b[0m\u001b[0m\n",
      "\u001b[0;32m/opt/anaconda3/envs/rec_base/lib/python3.7/site-packages/pandas/io/json/_json.py\u001b[0m in \u001b[0;36mto_json\u001b[0;34m(path_or_buf, obj, orient, date_format, double_precision, force_ascii, date_unit, default_handler, lines, compression, index, indent, storage_options)\u001b[0m\n\u001b[1;32m    129\u001b[0m         \u001b[0;31m# apply compression and byte/text conversion\u001b[0m\u001b[0;34m\u001b[0m\u001b[0;34m\u001b[0m\u001b[0;34m\u001b[0m\u001b[0m\n\u001b[1;32m    130\u001b[0m         with get_handle(\n\u001b[0;32m--> 131\u001b[0;31m             \u001b[0mpath_or_buf\u001b[0m\u001b[0;34m,\u001b[0m \u001b[0;34m\"w\"\u001b[0m\u001b[0;34m,\u001b[0m \u001b[0mcompression\u001b[0m\u001b[0;34m=\u001b[0m\u001b[0mcompression\u001b[0m\u001b[0;34m,\u001b[0m \u001b[0mstorage_options\u001b[0m\u001b[0;34m=\u001b[0m\u001b[0mstorage_options\u001b[0m\u001b[0;34m\u001b[0m\u001b[0;34m\u001b[0m\u001b[0m\n\u001b[0m\u001b[1;32m    132\u001b[0m         ) as handles:\n\u001b[1;32m    133\u001b[0m             \u001b[0mhandles\u001b[0m\u001b[0;34m.\u001b[0m\u001b[0mhandle\u001b[0m\u001b[0;34m.\u001b[0m\u001b[0mwrite\u001b[0m\u001b[0;34m(\u001b[0m\u001b[0ms\u001b[0m\u001b[0;34m)\u001b[0m\u001b[0;34m\u001b[0m\u001b[0;34m\u001b[0m\u001b[0m\n",
      "\u001b[0;32m/opt/anaconda3/envs/rec_base/lib/python3.7/site-packages/pandas/io/common.py\u001b[0m in \u001b[0;36mget_handle\u001b[0;34m(path_or_buf, mode, encoding, compression, memory_map, is_text, errors, storage_options)\u001b[0m\n\u001b[1;32m    705\u001b[0m                 \u001b[0mencoding\u001b[0m\u001b[0;34m=\u001b[0m\u001b[0mioargs\u001b[0m\u001b[0;34m.\u001b[0m\u001b[0mencoding\u001b[0m\u001b[0;34m,\u001b[0m\u001b[0;34m\u001b[0m\u001b[0;34m\u001b[0m\u001b[0m\n\u001b[1;32m    706\u001b[0m                 \u001b[0merrors\u001b[0m\u001b[0;34m=\u001b[0m\u001b[0merrors\u001b[0m\u001b[0;34m,\u001b[0m\u001b[0;34m\u001b[0m\u001b[0;34m\u001b[0m\u001b[0m\n\u001b[0;32m--> 707\u001b[0;31m                 \u001b[0mnewline\u001b[0m\u001b[0;34m=\u001b[0m\u001b[0;34m\"\"\u001b[0m\u001b[0;34m,\u001b[0m\u001b[0;34m\u001b[0m\u001b[0;34m\u001b[0m\u001b[0m\n\u001b[0m\u001b[1;32m    708\u001b[0m             )\n\u001b[1;32m    709\u001b[0m         \u001b[0;32melse\u001b[0m\u001b[0;34m:\u001b[0m\u001b[0;34m\u001b[0m\u001b[0;34m\u001b[0m\u001b[0m\n",
      "\u001b[0;31mFileNotFoundError\u001b[0m: [Errno 2] No such file or directory: '/content/drive/MyDrive/UAQUE/PerfilGrupal/Cluster_temas.json'"
     ]
    }
   ],
   "source": [
    "df2.to_json('/content/drive/MyDrive/UAQUE/PerfilGrupal/Cluster_temas.json')"
   ]
  },
  {
   "cell_type": "code",
   "execution_count": null,
   "metadata": {
    "id": "d6pfXcs8ukh3"
   },
   "outputs": [],
   "source": [
    "df2 = pd.read_json('/content/drive/MyDrive/UAQUE/PerfilGrupal/Cluster_temas.json')"
   ]
  }
 ],
 "metadata": {
  "colab": {
   "authorship_tag": "ABX9TyMnVeGSIbDFYC6j91kpC8V/",
   "name": "Clustering temas.ipynb",
   "provenance": []
  },
  "kernelspec": {
   "display_name": "Python 3 (ipykernel)",
   "language": "python",
   "name": "python3"
  },
  "language_info": {
   "codemirror_mode": {
    "name": "ipython",
    "version": 3
   },
   "file_extension": ".py",
   "mimetype": "text/x-python",
   "name": "python",
   "nbconvert_exporter": "python",
   "pygments_lexer": "ipython3",
   "version": "3.7.10"
  }
 },
 "nbformat": 4,
 "nbformat_minor": 1
}
