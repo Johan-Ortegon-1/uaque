{
 "cells": [
  {
   "cell_type": "code",
   "execution_count": 149,
   "id": "0927d745",
   "metadata": {
    "gather": {
     "logged": 1633736047515
    }
   },
   "outputs": [],
   "source": [
    "import pandas as pd\n",
    "import numpy as np\n",
    "import gzip, pickle, pickletools\n",
    "import time"
   ]
  },
  {
   "cell_type": "code",
   "execution_count": 150,
   "id": "afd562b4-54b3-47d1-aac2-9e1eb799611e",
   "metadata": {
    "gather": {
     "logged": 1633736047845
    },
    "jupyter": {
     "outputs_hidden": false,
     "source_hidden": false
    },
    "nteract": {
     "transient": {
      "deleting": false
     }
    }
   },
   "outputs": [],
   "source": [
    "basePath =  '/mnt/batch/tasks/shared/LS_root/mounts/clusters/danieltibaquira1/code/Users/danieltibaquira/'"
   ]
  },
  {
   "cell_type": "code",
   "execution_count": 151,
   "id": "a20c7ca0",
   "metadata": {
    "gather": {
     "logged": 1633736069988
    }
   },
   "outputs": [],
   "source": [
    "# Archivo donde se calcularon los pesos para cada prestamo\n",
    "\n",
    "# Para colab\n",
    "# df_prestamos = pd.read_json('/content/drive/MyDrive/UAQUE/TABLA_JOIN.json')\n",
    "\n",
    "# Para local\n",
    "# df_prestamos = pd.read_json(basePath + 'UAQUE/data/TABLA_JOIN.json')\n",
    "df_prestamos = pd.read_json('./data/TABLA_JOIN.json')"
   ]
  },
  {
   "cell_type": "code",
   "execution_count": 152,
   "id": "771957df",
   "metadata": {
    "gather": {
     "logged": 1633736070763
    }
   },
   "outputs": [],
   "source": [
    "\n",
    "# df_temas = pd.read_json(basePath + 'UAQUE/data/Libros.json')\n",
    "df_temas = pd.read_json('./data/Libros.json')"
   ]
  },
  {
   "cell_type": "markdown",
   "id": "8d7c1bb8",
   "metadata": {},
   "source": [
    "# Funciones auxiliares"
   ]
  },
  {
   "cell_type": "code",
   "execution_count": null,
   "id": "ef1b6b8c",
   "metadata": {
    "executionInfo": {
     "elapsed": 7,
     "status": "ok",
     "timestamp": 1632277059310,
     "user": {
      "displayName": "Daniel Tibaquira",
      "photoUrl": "https://lh3.googleusercontent.com/a-/AOh14Gj_hZUg1m9LeLQwBq4WOlx9a8aogZwxWo0xpAdZ6g=s64",
      "userId": "07934439656358572853"
     },
     "user_tz": 300
    },
    "id": "SdVW4ma2TrVn"
   },
   "outputs": [],
   "source": []
  },
  {
   "cell_type": "code",
   "execution_count": 153,
   "id": "cb4b93ee",
   "metadata": {
    "executionInfo": {
     "elapsed": 5,
     "status": "ok",
     "timestamp": 1632277059311,
     "user": {
      "displayName": "Daniel Tibaquira",
      "photoUrl": "https://lh3.googleusercontent.com/a-/AOh14Gj_hZUg1m9LeLQwBq4WOlx9a8aogZwxWo0xpAdZ6g=s64",
      "userId": "07934439656358572853"
     },
     "user_tz": 300
    },
    "gather": {
     "logged": 1633736070925
    },
    "id": "CkPiL4BGgaun"
   },
   "outputs": [],
   "source": [
    "#Para obtener el nombre de un material a partir del título\n",
    "def itemIdToMaterial(id):\n",
    "    return df_prestamos.loc[df_prestamos['Llave_x'] == id]['Titulo'].unique()"
   ]
  },
  {
   "cell_type": "code",
   "execution_count": 154,
   "id": "7b0c56e6",
   "metadata": {
    "executionInfo": {
     "elapsed": 255,
     "status": "ok",
     "timestamp": 1632277059562,
     "user": {
      "displayName": "Daniel Tibaquira",
      "photoUrl": "https://lh3.googleusercontent.com/a-/AOh14Gj_hZUg1m9LeLQwBq4WOlx9a8aogZwxWo0xpAdZ6g=s64",
      "userId": "07934439656358572853"
     },
     "user_tz": 300
    },
    "gather": {
     "logged": 1633736071089
    },
    "id": "kZOmdkObD4DO"
   },
   "outputs": [],
   "source": [
    "\n",
    "def itemIdToDewey(id):\n",
    "    item = (df_prestamos.loc[df_prestamos['Llave_x'] == id]['Dewey'].unique())\n",
    "    if len(item) == 0:\n",
    "        return  (df_prestamos.loc[df_prestamos['Llave_x'] == str(id)]['Dewey'].unique())[0]\n",
    "    else:\n",
    "        return item[0]"
   ]
  },
  {
   "cell_type": "code",
   "execution_count": 155,
   "id": "525252aa",
   "metadata": {
    "gather": {
     "logged": 1633736071264
    }
   },
   "outputs": [],
   "source": [
    "def itemIdToThemes(id):\n",
    "    tematicas = df_temas.loc[df_temas['Llaves'] == str(id)]['Tema 670'].values\n",
    "    if len(tematicas) == 0:\n",
    "        return []\n",
    "    else:\n",
    "        return tematicas"
   ]
  },
  {
   "cell_type": "code",
   "execution_count": 156,
   "id": "bf7f1c01",
   "metadata": {
    "executionInfo": {
     "elapsed": 6,
     "status": "ok",
     "timestamp": 1632277059563,
     "user": {
      "displayName": "Daniel Tibaquira",
      "photoUrl": "https://lh3.googleusercontent.com/a-/AOh14Gj_hZUg1m9LeLQwBq4WOlx9a8aogZwxWo0xpAdZ6g=s64",
      "userId": "07934439656358572853"
     },
     "user_tz": 300
    },
    "gather": {
     "logged": 1633736071776
    },
    "id": "ZdbgqjxNoi_p"
   },
   "outputs": [],
   "source": [
    "# Función para obtener el diccionario de Deweys\n",
    "import json\n",
    "from collections import defaultdict\n",
    "\n",
    "def getAllDeweys():\n",
    "    with open('../data/deweys.json') as json_file:\n",
    "        data = json.load(json_file)\n",
    "    return defaultdict(list, data)"
   ]
  },
  {
   "cell_type": "code",
   "execution_count": 157,
   "id": "a16a0188",
   "metadata": {
    "executionInfo": {
     "elapsed": 5,
     "status": "ok",
     "timestamp": 1632277059563,
     "user": {
      "displayName": "Daniel Tibaquira",
      "photoUrl": "https://lh3.googleusercontent.com/a-/AOh14Gj_hZUg1m9LeLQwBq4WOlx9a8aogZwxWo0xpAdZ6g=s64",
      "userId": "07934439656358572853"
     },
     "user_tz": 300
    },
    "gather": {
     "logged": 1633736072001
    },
    "id": "17XpypU0XxeN"
   },
   "outputs": [],
   "source": [
    "# Función para obtener el diccionario de Años de publicación\n",
    "import json\n",
    "from collections import defaultdict\n",
    "\n",
    "def getAllPublishedYears():\n",
    "    with open('../data/years.json') as json_file:\n",
    "        data = json.load(json_file)\n",
    "    return defaultdict(int, data)"
   ]
  },
  {
   "cell_type": "code",
   "execution_count": 158,
   "id": "6dfed6cb",
   "metadata": {
    "executionInfo": {
     "elapsed": 5,
     "status": "ok",
     "timestamp": 1632277059563,
     "user": {
      "displayName": "Daniel Tibaquira",
      "photoUrl": "https://lh3.googleusercontent.com/a-/AOh14Gj_hZUg1m9LeLQwBq4WOlx9a8aogZwxWo0xpAdZ6g=s64",
      "userId": "07934439656358572853"
     },
     "user_tz": 300
    },
    "gather": {
     "logged": 1633736072166
    },
    "id": "xb3pEBpfWZRN"
   },
   "outputs": [],
   "source": [
    "# Función para obtener el diccionario de temáticas\n",
    "import json\n",
    "from collections import defaultdict\n",
    "\n",
    "def getAllThemes():\n",
    "    with open('../data/themes.json') as json_file:\n",
    "        data = json.load(json_file)\n",
    "    return defaultdict(list, data)"
   ]
  },
  {
   "cell_type": "code",
   "execution_count": 159,
   "id": "2471c18f",
   "metadata": {
    "gather": {
     "logged": 1633736072317
    }
   },
   "outputs": [],
   "source": [
    "\n",
    "def generateClusterInfo(cluster_eval, df_eval):\n",
    "    dfP = df_eval.copy()\n",
    "    user_p = dfP.loc[dfP['cluster'] == cluster_eval]\n",
    "    tematicas =[]\n",
    "    for llave in user_p['Llaves'].unique():\n",
    "        tematicas.append(itemIdToThemes((llave)))\n",
    "\n",
    "    user_p['Tematicas'] = tematicas\n",
    "    display(user_p)\n",
    "    deweys = ((dfP.loc[dfP['cluster'] == cluster_eval]['Dewey'].unique()))\n",
    "    print((dfP.loc[dfP['cluster'] == cluster_eval]['Dewey'].unique()))\n",
    "\n",
    "    tematicas = []\n",
    "    for tems in user_p['Tematicas']:\n",
    "        for tema in tems:\n",
    "            for temasub in tema:\n",
    "                if temasub in tematicas:\n",
    "                    continue\n",
    "                else:\n",
    "                    tematicas.append(temasub)\n",
    "\n",
    "    return user_p, deweys, set(tematicas)"
   ]
  },
  {
   "cell_type": "code",
   "execution_count": 160,
   "id": "7b936629",
   "metadata": {
    "gather": {
     "logged": 1633736072465
    }
   },
   "outputs": [],
   "source": [
    "def generateRecsInfopreds(preds):\n",
    "    recs = preds\n",
    "    data_recs_asr = []\n",
    "    for ids in recs:\n",
    "        data_recs_asr.append({'Titulo':itemIdToMaterial(ids), \n",
    "                         #'Rating':ratings[1], \n",
    "                          'Dewey':itemIdToDewey(ids), \n",
    "                         'Tematicas':itemIdToThemes(ids),\n",
    "                          'Llave': ids})\n",
    "\n",
    "    df_recs_asr = pd.DataFrame(data_recs_asr)\n",
    "    display(df_recs_asr)\n",
    "    deweys = print((df_recs_asr['Dewey'].unique()))\n",
    "    print((df_recs_asr['Dewey'].unique()))\n",
    "\n",
    "    tematicas = []\n",
    "    for tems in df_recs_asr['Tematicas']:\n",
    "        for tema in tems:\n",
    "            for temasub in tema:\n",
    "                if temasub in tematicas:\n",
    "                    continue\n",
    "                else:\n",
    "                    tematicas.append(temasub)\n",
    "\n",
    "    return df_recs_asr, deweys, set(tematicas)"
   ]
  },
  {
   "cell_type": "code",
   "execution_count": 161,
   "id": "6e9bc2b0",
   "metadata": {
    "gather": {
     "logged": 1633736072653
    }
   },
   "outputs": [],
   "source": [
    "def loadSimilarities():\n",
    "    return np.load('similarities_rec.npy')"
   ]
  },
  {
   "cell_type": "code",
   "execution_count": 162,
   "id": "d2253115",
   "metadata": {
    "executionInfo": {
     "elapsed": 661,
     "status": "ok",
     "timestamp": 1632277060220,
     "user": {
      "displayName": "Daniel Tibaquira",
      "photoUrl": "https://lh3.googleusercontent.com/a-/AOh14Gj_hZUg1m9LeLQwBq4WOlx9a8aogZwxWo0xpAdZ6g=s64",
      "userId": "07934439656358572853"
     },
     "user_tz": 300
    },
    "gather": {
     "logged": 1633736072810
    },
    "id": "7vak2A-KuxT0"
   },
   "outputs": [],
   "source": [
    "import sys\n",
    "# sys.path.append(basePath + 'UAQUE/Recommendations')\n",
    "# sys.path.append(basePath + 'UAQUE')\n",
    "sys.path.append('./')"
   ]
  },
  {
   "cell_type": "code",
   "execution_count": 163,
   "id": "1c420c41",
   "metadata": {
    "gather": {
     "logged": 1633736074965
    }
   },
   "outputs": [],
   "source": [
    "from sar_recommeder import SarRecommeder"
   ]
  },
  {
   "cell_type": "code",
   "execution_count": 164,
   "id": "fbe9415c",
   "metadata": {
    "gather": {
     "logged": 1633736076031
    }
   },
   "outputs": [],
   "source": [
    "# df_pesos_cluster_temas = pd.read_json(basePath + 'UAQUE/data/pesos_cluster_temas.json')\n",
    "df_pesos_cluster_temas = pd.read_json('./data/pesos_cluster_temas.json')"
   ]
  },
  {
   "cell_type": "code",
   "execution_count": 165,
   "id": "3cb150d9",
   "metadata": {
    "gather": {
     "logged": 1633736077213
    }
   },
   "outputs": [],
   "source": [
    "# df_pesos_cluster_deweys = pd.read_json(basePath + 'UAQUE/data/pesos_cluster_deweys.json')\n",
    "df_pesos_cluster_deweys = pd.read_json('./data/pesos_cluster_deweys.json')"
   ]
  },
  {
   "cell_type": "markdown",
   "id": "bac4fa00",
   "metadata": {},
   "source": [
    "# SAR Clusters Temáticas"
   ]
  },
  {
   "cell_type": "code",
   "execution_count": 166,
   "id": "c60d9cf0",
   "metadata": {},
   "outputs": [
    {
     "name": "stdout",
     "output_type": "stream",
     "text": [
      "The autoreload extension is already loaded. To reload it, use:\n",
      "  %reload_ext autoreload\n"
     ]
    }
   ],
   "source": [
    "%load_ext autoreload\n",
    "%autoreload 2"
   ]
  },
  {
   "cell_type": "code",
   "execution_count": 173,
   "id": "bae4b3b4",
   "metadata": {
    "gather": {
     "logged": 1633115577829
    }
   },
   "outputs": [],
   "source": [
    "sar_predictor_temas = SarRecommeder(df_pesos_cluster_temas, n=120000)"
   ]
  },
  {
   "cell_type": "code",
   "execution_count": 174,
   "id": "52c2b32d",
   "metadata": {
    "gather": {
     "logged": 1633115663226
    }
   },
   "outputs": [
    {
     "name": "stderr",
     "output_type": "stream",
     "text": [
      "2021-10-19 22:25:21,438 INFO     Collecting user affinity matrix\n",
      "2021-10-19 22:25:21,440 INFO     Calculating time-decayed affinities\n",
      "2021-10-19 22:25:21,469 INFO     Creating index columns\n",
      "2021-10-19 22:25:21,570 INFO     Calculating normalization factors\n",
      "2021-10-19 22:25:21,604 INFO     Building user affinity sparse matrix\n",
      "2021-10-19 22:25:21,611 INFO     Calculating item co-occurrence\n",
      "2021-10-19 22:26:02,360 INFO     Calculating item similarity\n",
      "2021-10-19 22:26:02,362 INFO     Using jaccard based similarity\n",
      "2021-10-19 22:29:46,078 INFO     Done training\n"
     ]
    }
   ],
   "source": [
    "# Entrenando modelo\n",
    "sar_predictor_temas.fit()"
   ]
  },
  {
   "cell_type": "code",
   "execution_count": 175,
   "id": "14132e89",
   "metadata": {
    "gather": {
     "logged": 1633115670835
    }
   },
   "outputs": [
    {
     "name": "stderr",
     "output_type": "stream",
     "text": [
      "2021-10-19 22:29:46,225 INFO     Calculating recommendation scores\n"
     ]
    }
   ],
   "source": [
    "# Obteniendo Predicciones\n",
    "top_k_temas = sar_predictor_temas.predict()"
   ]
  },
  {
   "cell_type": "code",
   "execution_count": 176,
   "id": "0163b88f",
   "metadata": {},
   "outputs": [
    {
     "name": "stdout",
     "output_type": "stream",
     "text": [
      "Model:\t\n",
      "Top K:\t10\n",
      "MAP:\t0.000000\n",
      "NDCG:\t0.000000\n",
      "Precision@K:\t0.000000\n",
      "Recall@K:\t0.000000\n"
     ]
    }
   ],
   "source": [
    "sar_predictor_temas.evaluate_model()"
   ]
  },
  {
   "cell_type": "code",
   "execution_count": 124,
   "id": "c4980e19",
   "metadata": {},
   "outputs": [],
   "source": [
    "# from sklearn.metrics import (\n",
    "#     mean_squared_error,\n",
    "#     mean_absolute_error,\n",
    "#     r2_score,\n",
    "#     explained_variance_score,\n",
    "#     roc_auc_score,\n",
    "#     log_loss,\n",
    "# )\n",
    "\n",
    "# def merge_rating_true_pred(\n",
    "#     rating_true,\n",
    "#     rating_pred,\n",
    "#     col_user='userID',\n",
    "#     col_item='itemID',\n",
    "#     col_rating='rating',\n",
    "#     col_prediction='prediction',\n",
    "# ):\n",
    "\n",
    "#     # pd.merge will apply suffixes to columns which have the same name across both dataframes\n",
    "#     suffixes = [\"_true\", \"_pred\"]\n",
    "\n",
    "#     rating_true[col_user] = rating_true[col_user].astype(np.int64)\n",
    "#     rating_true[col_item] = rating_true[col_item].astype(np.int64)\n",
    "#     rating_true.rename(columns={col_user: \"userID\", col_item:\"itemID\"}, inplace=True)\n",
    "    \n",
    "#     rating_pred[col_user] = rating_pred[col_user].astype(np.int64)\n",
    "#     rating_pred[col_item] = rating_pred[col_item].astype(np.int64)\n",
    "#     rating_pred.rename(columns={col_user: \"userID\", col_item:\"itemID\"}, inplace=True)\n",
    "    \n",
    "#     rating_pred[col_rating] = \"\"\n",
    "#     ratings = []\n",
    "#     for index, row in rating_pred.iterrows():\n",
    "#         rating_user = rating_true.loc[rating_true[\"userID\"] == row[\"userID\"]]\n",
    "#         rating_item = rating_true.loc[rating_true[\"itemID\"] == row[\"itemID\"]]\n",
    "#         print(\"rating_item\", rating_item)\n",
    "#         rating = rating_item[\"rating\"].values\n",
    "# #         print(\"rating\", rating)\n",
    "#         ratings.append(rating)\n",
    "    \n",
    "        \n",
    "    \n",
    "\n",
    "# #     print(pd.merge(rating_true.assign(userID=rating_true.userID.astype(np.int64)), \n",
    "# #                    rating_pred.assign(userID=rating_pred.userID.astype(np.int64)), \n",
    "# #                    on=[\"userID\", \"itemID\"]))\n",
    "# #     rating_true_pred = rating_true.merge(\n",
    "# # #         rating_true, rating_pred, on=[col_user, col_item], suffixes=suffixes\n",
    "# #           rating_pred, on=[col_user, col_item]\n",
    "# #     )\n",
    "    \n",
    "#     if col_rating in rating_pred.columns:\n",
    "#         col_rating = col_rating + suffixes[0]\n",
    "#     if col_prediction in rating_true.columns:\n",
    "#         col_prediction = col_prediction + suffixes[1]\n",
    "#     return rating_true_pred[col_rating], rating_true_pred[col_prediction]\n",
    "\n",
    "\n",
    "# def rmse(\n",
    "#     rating_true,\n",
    "#     rating_pred,\n",
    "#     col_user='userID',\n",
    "#     col_item='itemID',\n",
    "#     col_rating='rating',\n",
    "#     col_prediction='prediction',\n",
    "# ):\n",
    "\n",
    "#     y_true, y_pred = merge_rating_true_pred(\n",
    "#         rating_true=rating_true.drop(columns=[\"timestamp\"]),\n",
    "#         rating_pred=rating_pred,\n",
    "#     )\n",
    "    \n",
    "# #     display(y_true)\n",
    "# #     display(y_pred)\n",
    "#     return np.sqrt(mean_squared_error(y_true, y_pred))\n"
   ]
  },
  {
   "cell_type": "code",
   "execution_count": 143,
   "id": "468fa007",
   "metadata": {
    "gather": {
     "logged": 1633115671352
    }
   },
   "outputs": [],
   "source": [
    "# Prediciendo para un usuario \n",
    "cluster_eval = 92\n",
    "# preds_temas = sar_predictor_temas.predict_for_cluster(cluster=cluster_eval)\n",
    "preds_temas =[341300, 318893, 364006, 844823, 678233, 282234, 345199, 343067, 797150, 272620]\n"
   ]
  },
  {
   "cell_type": "code",
   "execution_count": 144,
   "id": "36376f76",
   "metadata": {
    "gather": {
     "logged": 1633115671522
    }
   },
   "outputs": [
    {
     "ename": "TypeError",
     "evalue": "generateClusterInfo() missing 1 required positional argument: 'df_eval'",
     "output_type": "error",
     "traceback": [
      "\u001b[0;31m---------------------------------------------------------------------------\u001b[0m",
      "\u001b[0;31mTypeError\u001b[0m                                 Traceback (most recent call last)",
      "\u001b[0;32m/var/folders/pk/3mfh7qx1111czrm27qywf15m0000gn/T/ipykernel_64678/3343284310.py\u001b[0m in \u001b[0;36m<module>\u001b[0;34m\u001b[0m\n\u001b[1;32m      1\u001b[0m \u001b[0;31m# Info cluster\u001b[0m\u001b[0;34m\u001b[0m\u001b[0;34m\u001b[0m\u001b[0;34m\u001b[0m\u001b[0m\n\u001b[0;32m----> 2\u001b[0;31m \u001b[0mgenerateClusterInfo\u001b[0m\u001b[0;34m(\u001b[0m\u001b[0mcluster_eval\u001b[0m\u001b[0;34m)\u001b[0m\u001b[0;34m\u001b[0m\u001b[0;34m\u001b[0m\u001b[0m\n\u001b[0m",
      "\u001b[0;31mTypeError\u001b[0m: generateClusterInfo() missing 1 required positional argument: 'df_eval'"
     ]
    }
   ],
   "source": [
    "# Info cluster\n",
    "generateClusterInfo(cluster_eval)"
   ]
  },
  {
   "cell_type": "code",
   "execution_count": 145,
   "id": "10efde85",
   "metadata": {
    "gather": {
     "logged": 1633115671765
    }
   },
   "outputs": [
    {
     "data": {
      "text/html": [
       "<div>\n",
       "<style scoped>\n",
       "    .dataframe tbody tr th:only-of-type {\n",
       "        vertical-align: middle;\n",
       "    }\n",
       "\n",
       "    .dataframe tbody tr th {\n",
       "        vertical-align: top;\n",
       "    }\n",
       "\n",
       "    .dataframe thead th {\n",
       "        text-align: right;\n",
       "    }\n",
       "</style>\n",
       "<table border=\"1\" class=\"dataframe\">\n",
       "  <thead>\n",
       "    <tr style=\"text-align: right;\">\n",
       "      <th></th>\n",
       "      <th>Titulo</th>\n",
       "      <th>Dewey</th>\n",
       "      <th>Tematicas</th>\n",
       "      <th>Llave</th>\n",
       "    </tr>\n",
       "  </thead>\n",
       "  <tbody>\n",
       "    <tr>\n",
       "      <th>0</th>\n",
       "      <td>[Entre nosotros ensayos para pensar en otro Em...</td>\n",
       "      <td>190</td>\n",
       "      <td>[[filosofía, francés]]</td>\n",
       "      <td>341300</td>\n",
       "    </tr>\n",
       "    <tr>\n",
       "      <th>1</th>\n",
       "      <td>[Mentira romantica y verdad novelesca René Gir...</td>\n",
       "      <td>190</td>\n",
       "      <td>[[filosofía, francés]]</td>\n",
       "      <td>318893</td>\n",
       "    </tr>\n",
       "    <tr>\n",
       "      <th>2</th>\n",
       "      <td>[Cuando empiecen a suceder estas cosas... conv...</td>\n",
       "      <td>190</td>\n",
       "      <td>[[filosofía, francés]]</td>\n",
       "      <td>364006</td>\n",
       "    </tr>\n",
       "    <tr>\n",
       "      <th>3</th>\n",
       "      <td>[La violencia y lo sagrado René Girard ; tradu...</td>\n",
       "      <td>190</td>\n",
       "      <td>[[filosofía, francés]]</td>\n",
       "      <td>844823</td>\n",
       "    </tr>\n",
       "    <tr>\n",
       "      <th>4</th>\n",
       "      <td>[Deshoras Julio Cortázar]</td>\n",
       "      <td>860</td>\n",
       "      <td>[[cuento, argentino]]</td>\n",
       "      <td>678233</td>\n",
       "    </tr>\n",
       "    <tr>\n",
       "      <th>5</th>\n",
       "      <td>[De otro modo que ser, o más allá de la esenci...</td>\n",
       "      <td>190</td>\n",
       "      <td>[[filosofía, francés]]</td>\n",
       "      <td>282234</td>\n",
       "    </tr>\n",
       "    <tr>\n",
       "      <th>6</th>\n",
       "      <td>[Sistemas financieros fundamentos jurídicos y ...</td>\n",
       "      <td>330</td>\n",
       "      <td>[[finanza], [finanza], [arte, historio]]</td>\n",
       "      <td>345199</td>\n",
       "    </tr>\n",
       "    <tr>\n",
       "      <th>7</th>\n",
       "      <td>[El tiempo y el otro Emmanuel Levinas ; introd...</td>\n",
       "      <td>190</td>\n",
       "      <td>[[filosofía, francés]]</td>\n",
       "      <td>343067</td>\n",
       "    </tr>\n",
       "    <tr>\n",
       "      <th>8</th>\n",
       "      <td>[Gilles Deleuze Claire Colebrook]</td>\n",
       "      <td>190</td>\n",
       "      <td>[[filosofía, francés]]</td>\n",
       "      <td>797150</td>\n",
       "    </tr>\n",
       "    <tr>\n",
       "      <th>9</th>\n",
       "      <td>[Obras filosoficas Discurso del metodo, Tratad...</td>\n",
       "      <td>190</td>\n",
       "      <td>[[filosofía, francés]]</td>\n",
       "      <td>272620</td>\n",
       "    </tr>\n",
       "  </tbody>\n",
       "</table>\n",
       "</div>"
      ],
      "text/plain": [
       "                                              Titulo Dewey  \\\n",
       "0  [Entre nosotros ensayos para pensar en otro Em...   190   \n",
       "1  [Mentira romantica y verdad novelesca René Gir...   190   \n",
       "2  [Cuando empiecen a suceder estas cosas... conv...   190   \n",
       "3  [La violencia y lo sagrado René Girard ; tradu...   190   \n",
       "4                          [Deshoras Julio Cortázar]   860   \n",
       "5  [De otro modo que ser, o más allá de la esenci...   190   \n",
       "6  [Sistemas financieros fundamentos jurídicos y ...   330   \n",
       "7  [El tiempo y el otro Emmanuel Levinas ; introd...   190   \n",
       "8                  [Gilles Deleuze Claire Colebrook]   190   \n",
       "9  [Obras filosoficas Discurso del metodo, Tratad...   190   \n",
       "\n",
       "                                  Tematicas   Llave  \n",
       "0                    [[filosofía, francés]]  341300  \n",
       "1                    [[filosofía, francés]]  318893  \n",
       "2                    [[filosofía, francés]]  364006  \n",
       "3                    [[filosofía, francés]]  844823  \n",
       "4                     [[cuento, argentino]]  678233  \n",
       "5                    [[filosofía, francés]]  282234  \n",
       "6  [[finanza], [finanza], [arte, historio]]  345199  \n",
       "7                    [[filosofía, francés]]  343067  \n",
       "8                    [[filosofía, francés]]  797150  \n",
       "9                    [[filosofía, francés]]  272620  "
      ]
     },
     "metadata": {},
     "output_type": "display_data"
    },
    {
     "name": "stdout",
     "output_type": "stream",
     "text": [
      "['190' '860' '330']\n",
      "['190' '860' '330']\n"
     ]
    },
    {
     "data": {
      "text/plain": [
       "(                                              Titulo Dewey  \\\n",
       " 0  [Entre nosotros ensayos para pensar en otro Em...   190   \n",
       " 1  [Mentira romantica y verdad novelesca René Gir...   190   \n",
       " 2  [Cuando empiecen a suceder estas cosas... conv...   190   \n",
       " 3  [La violencia y lo sagrado René Girard ; tradu...   190   \n",
       " 4                          [Deshoras Julio Cortázar]   860   \n",
       " 5  [De otro modo que ser, o más allá de la esenci...   190   \n",
       " 6  [Sistemas financieros fundamentos jurídicos y ...   330   \n",
       " 7  [El tiempo y el otro Emmanuel Levinas ; introd...   190   \n",
       " 8                  [Gilles Deleuze Claire Colebrook]   190   \n",
       " 9  [Obras filosoficas Discurso del metodo, Tratad...   190   \n",
       " \n",
       "                                   Tematicas   Llave  \n",
       " 0                    [[filosofía, francés]]  341300  \n",
       " 1                    [[filosofía, francés]]  318893  \n",
       " 2                    [[filosofía, francés]]  364006  \n",
       " 3                    [[filosofía, francés]]  844823  \n",
       " 4                     [[cuento, argentino]]  678233  \n",
       " 5                    [[filosofía, francés]]  282234  \n",
       " 6  [[finanza], [finanza], [arte, historio]]  345199  \n",
       " 7                    [[filosofía, francés]]  343067  \n",
       " 8                    [[filosofía, francés]]  797150  \n",
       " 9                    [[filosofía, francés]]  272620  ,\n",
       " None,\n",
       " {'argentino',\n",
       "  'arte',\n",
       "  'cuento',\n",
       "  'filosofía',\n",
       "  'finanza',\n",
       "  'francés',\n",
       "  'historio'})"
      ]
     },
     "execution_count": 145,
     "metadata": {},
     "output_type": "execute_result"
    }
   ],
   "source": [
    "# Info Recomendaciones\n",
    "generateRecsInfopreds(preds_temas)"
   ]
  },
  {
   "cell_type": "code",
   "execution_count": null,
   "id": "eb9454cd",
   "metadata": {
    "gather": {
     "logged": 1633115671890
    },
    "scrolled": true
   },
   "outputs": [],
   "source": [
    "# Exportando el modelo\n",
    "#sar_predictor_temas.export_model()"
   ]
  },
  {
   "cell_type": "code",
   "execution_count": 177,
   "id": "68e35090",
   "metadata": {
    "gather": {
     "logged": 1633117985173
    }
   },
   "outputs": [],
   "source": [
    "now_time = time.strftime(\"%m%d%H%m\")\n",
    "filepath = \"sar_predictor\"+str(150)+\"k_\"+now_time+\".pkl\"\n",
    "with gzip.open(filepath, \"wb\") as f:\n",
    "    pickled = pickle.dumps(sar_predictor_temas, protocol=4)\n",
    "    optimized_pickle = pickletools.optimize(pickled)\n",
    "    f.write(optimized_pickle)"
   ]
  },
  {
   "cell_type": "markdown",
   "id": "10f1ccbf",
   "metadata": {},
   "source": [
    "# SAR Clusters Carreras"
   ]
  },
  {
   "cell_type": "code",
   "execution_count": null,
   "id": "8016ba55",
   "metadata": {},
   "outputs": [],
   "source": [
    "df_pesos_cluster_carreras = pd.read_json('./data/pesos_cluster_carreras.json')"
   ]
  },
  {
   "cell_type": "code",
   "execution_count": null,
   "id": "d4a9dcac",
   "metadata": {},
   "outputs": [],
   "source": [
    "df_pesos_cluster_carreras"
   ]
  },
  {
   "cell_type": "code",
   "execution_count": null,
   "id": "e3b911e9",
   "metadata": {
    "gather": {
     "logged": 1633115672228
    }
   },
   "outputs": [],
   "source": [
    "sar_predictor_carreras = SarRecommeder(df_pesos_cluster_carreras, n=100000)"
   ]
  },
  {
   "cell_type": "code",
   "execution_count": null,
   "id": "d033c054",
   "metadata": {
    "gather": {
     "logged": 1633115672650
    }
   },
   "outputs": [],
   "source": [
    "# Entrenando modelo\n",
    "sar_predictor_carreras.fit()"
   ]
  },
  {
   "cell_type": "code",
   "execution_count": null,
   "id": "03bdf81e",
   "metadata": {},
   "outputs": [],
   "source": [
    "sar_predictor_carreras.dataset"
   ]
  },
  {
   "cell_type": "code",
   "execution_count": null,
   "id": "bd5f1da0",
   "metadata": {
    "gather": {
     "logged": 1633115672874
    }
   },
   "outputs": [],
   "source": [
    "# Obteniendo Predicciones\n",
    "top_k_carreras = sar_predictor_carreras.predict()"
   ]
  },
  {
   "cell_type": "code",
   "execution_count": null,
   "id": "d09accbb",
   "metadata": {
    "gather": {
     "logged": 1633115673402
    }
   },
   "outputs": [],
   "source": [
    "# Prediciendo para un usuario \n",
    "cluster_eval = 'CARRERA DE INGENIERÍA DE SISTEMAS'\n",
    "preds_carreras = sar_predictor_carreras.predict_for_cluster(cluster=cluster_eval)"
   ]
  },
  {
   "cell_type": "code",
   "execution_count": null,
   "id": "201744a1",
   "metadata": {
    "gather": {
     "logged": 1633115674190
    },
    "scrolled": true
   },
   "outputs": [],
   "source": [
    "# Exportando el modelo\n",
    "# sar_predictor_deweys.export_model()"
   ]
  },
  {
   "cell_type": "code",
   "execution_count": null,
   "id": "986ff0db",
   "metadata": {},
   "outputs": [],
   "source": [
    "now_time = time.strftime(\"%m%d%H%m\")\n",
    "filepath = \"./sar_predictor_carreras_\"+str(100)+\"k_\"+now_time+\".pkl\"\n",
    "with gzip.open(filepath, \"wb\") as f:\n",
    "    pickled = pickle.dumps(sar_predictor_carreras, protocol=4)\n",
    "    optimized_pickle = pickletools.optimize(pickled)\n",
    "    f.write(optimized_pickle)"
   ]
  },
  {
   "cell_type": "markdown",
   "id": "61b4e286",
   "metadata": {},
   "source": [
    "# Content based KNN Clusters Temáticas"
   ]
  },
  {
   "cell_type": "code",
   "execution_count": null,
   "id": "34f09831",
   "metadata": {
    "gather": {
     "logged": 1633744842830
    }
   },
   "outputs": [],
   "source": [
    "from content_knn_recommender import ContentKNNRecommender"
   ]
  },
  {
   "cell_type": "code",
   "execution_count": null,
   "id": "bc164801",
   "metadata": {
    "gather": {
     "logged": 1633115856318
    }
   },
   "outputs": [],
   "source": [
    "content_predictor_temas = ContentKNNRecommender(df_pesos_cluster_temas, n=60000, scale=5)"
   ]
  },
  {
   "cell_type": "code",
   "execution_count": null,
   "id": "67780ff2",
   "metadata": {
    "gather": {
     "logged": 1633115873238
    }
   },
   "outputs": [],
   "source": [
    "content_predictor_temas.fit_evaluate()"
   ]
  },
  {
   "cell_type": "code",
   "execution_count": null,
   "id": "71f665c5",
   "metadata": {
    "gather": {
     "logged": 1633115873493
    }
   },
   "outputs": [],
   "source": [
    "# Prediciendo para un usuario \n",
    "# cluster_eval = 92\n",
    "# preds_temas_cb = content_predictor_temas.predict_for_cluster(cluster=cluster_eval)"
   ]
  },
  {
   "cell_type": "code",
   "execution_count": null,
   "id": "e472465f",
   "metadata": {
    "gather": {
     "logged": 1633115873628
    }
   },
   "outputs": [],
   "source": [
    "# Info cluster\n",
    "# generateClusterInfo(cluster_eval)"
   ]
  },
  {
   "cell_type": "code",
   "execution_count": null,
   "id": "b5906f8b",
   "metadata": {
    "gather": {
     "logged": 1633115873872
    }
   },
   "outputs": [],
   "source": [
    "# Info Recomendaciones\n",
    "# generateRecsInfopreds(preds_temas_cb)"
   ]
  },
  {
   "cell_type": "code",
   "execution_count": null,
   "id": "afa42af5-17ee-4e75-b585-2238c3234fb0",
   "metadata": {
    "gather": {
     "logged": 1633115874002
    },
    "jupyter": {
     "outputs_hidden": false,
     "source_hidden": false
    },
    "nteract": {
     "transient": {
      "deleting": false
     }
    }
   },
   "outputs": [],
   "source": [
    "# content_predictor_temas.evaluator.algorithms[0].algorithm"
   ]
  },
  {
   "cell_type": "code",
   "execution_count": 168,
   "id": "3f63df07-f7ba-42b9-9edb-f94fa614309f",
   "metadata": {
    "gather": {
     "logged": 1633123933103
    },
    "jupyter": {
     "outputs_hidden": false,
     "source_hidden": false
    },
    "nteract": {
     "transient": {
      "deleting": false
     }
    }
   },
   "outputs": [
    {
     "ename": "FileNotFoundError",
     "evalue": "[Errno 2] No such file or directory: './Models/content_predictor_temas_150k_10192210.pkl'",
     "output_type": "error",
     "traceback": [
      "\u001b[0;31m---------------------------------------------------------------------------\u001b[0m",
      "\u001b[0;31mFileNotFoundError\u001b[0m                         Traceback (most recent call last)",
      "\u001b[0;32m/var/folders/pk/3mfh7qx1111czrm27qywf15m0000gn/T/ipykernel_64678/1337352735.py\u001b[0m in \u001b[0;36m<module>\u001b[0;34m\u001b[0m\n\u001b[1;32m      3\u001b[0m \u001b[0mnow_time\u001b[0m \u001b[0;34m=\u001b[0m \u001b[0mtime\u001b[0m\u001b[0;34m.\u001b[0m\u001b[0mstrftime\u001b[0m\u001b[0;34m(\u001b[0m\u001b[0;34m\"%m%d%H%m\"\u001b[0m\u001b[0;34m)\u001b[0m\u001b[0;34m\u001b[0m\u001b[0;34m\u001b[0m\u001b[0m\n\u001b[1;32m      4\u001b[0m \u001b[0mfilepath\u001b[0m \u001b[0;34m=\u001b[0m \u001b[0;34m\"./Models/content_predictor_temas_\"\u001b[0m\u001b[0;34m+\u001b[0m\u001b[0mstr\u001b[0m\u001b[0;34m(\u001b[0m\u001b[0;36m150\u001b[0m\u001b[0;34m)\u001b[0m\u001b[0;34m+\u001b[0m\u001b[0;34m\"k_\"\u001b[0m\u001b[0;34m+\u001b[0m\u001b[0mnow_time\u001b[0m\u001b[0;34m+\u001b[0m\u001b[0;34m\".pkl\"\u001b[0m\u001b[0;34m\u001b[0m\u001b[0;34m\u001b[0m\u001b[0m\n\u001b[0;32m----> 5\u001b[0;31m \u001b[0;32mwith\u001b[0m \u001b[0mgzip\u001b[0m\u001b[0;34m.\u001b[0m\u001b[0mopen\u001b[0m\u001b[0;34m(\u001b[0m\u001b[0mfilepath\u001b[0m\u001b[0;34m,\u001b[0m \u001b[0;34m\"wb\"\u001b[0m\u001b[0;34m)\u001b[0m \u001b[0;32mas\u001b[0m \u001b[0mf\u001b[0m\u001b[0;34m:\u001b[0m\u001b[0;34m\u001b[0m\u001b[0;34m\u001b[0m\u001b[0m\n\u001b[0m\u001b[1;32m      6\u001b[0m     \u001b[0;31m# pickled = pickle.dumps(content_predictor_temas.evaluator.algorithms[0].algorithm, protocol=4)\u001b[0m\u001b[0;34m\u001b[0m\u001b[0;34m\u001b[0m\u001b[0;34m\u001b[0m\u001b[0m\n\u001b[1;32m      7\u001b[0m     \u001b[0mpickled\u001b[0m \u001b[0;34m=\u001b[0m \u001b[0mpickle\u001b[0m\u001b[0;34m.\u001b[0m\u001b[0mdumps\u001b[0m\u001b[0;34m(\u001b[0m\u001b[0mcontent_predictor_temas\u001b[0m\u001b[0;34m,\u001b[0m \u001b[0mprotocol\u001b[0m\u001b[0;34m=\u001b[0m\u001b[0;36m4\u001b[0m\u001b[0;34m)\u001b[0m\u001b[0;34m\u001b[0m\u001b[0;34m\u001b[0m\u001b[0m\n",
      "\u001b[0;32m/opt/anaconda3/envs/reco_base/lib/python3.7/gzip.py\u001b[0m in \u001b[0;36mopen\u001b[0;34m(filename, mode, compresslevel, encoding, errors, newline)\u001b[0m\n\u001b[1;32m     56\u001b[0m     \u001b[0mgz_mode\u001b[0m \u001b[0;34m=\u001b[0m \u001b[0mmode\u001b[0m\u001b[0;34m.\u001b[0m\u001b[0mreplace\u001b[0m\u001b[0;34m(\u001b[0m\u001b[0;34m\"t\"\u001b[0m\u001b[0;34m,\u001b[0m \u001b[0;34m\"\"\u001b[0m\u001b[0;34m)\u001b[0m\u001b[0;34m\u001b[0m\u001b[0;34m\u001b[0m\u001b[0m\n\u001b[1;32m     57\u001b[0m     \u001b[0;32mif\u001b[0m \u001b[0misinstance\u001b[0m\u001b[0;34m(\u001b[0m\u001b[0mfilename\u001b[0m\u001b[0;34m,\u001b[0m \u001b[0;34m(\u001b[0m\u001b[0mstr\u001b[0m\u001b[0;34m,\u001b[0m \u001b[0mbytes\u001b[0m\u001b[0;34m,\u001b[0m \u001b[0mos\u001b[0m\u001b[0;34m.\u001b[0m\u001b[0mPathLike\u001b[0m\u001b[0;34m)\u001b[0m\u001b[0;34m)\u001b[0m\u001b[0;34m:\u001b[0m\u001b[0;34m\u001b[0m\u001b[0;34m\u001b[0m\u001b[0m\n\u001b[0;32m---> 58\u001b[0;31m         \u001b[0mbinary_file\u001b[0m \u001b[0;34m=\u001b[0m \u001b[0mGzipFile\u001b[0m\u001b[0;34m(\u001b[0m\u001b[0mfilename\u001b[0m\u001b[0;34m,\u001b[0m \u001b[0mgz_mode\u001b[0m\u001b[0;34m,\u001b[0m \u001b[0mcompresslevel\u001b[0m\u001b[0;34m)\u001b[0m\u001b[0;34m\u001b[0m\u001b[0;34m\u001b[0m\u001b[0m\n\u001b[0m\u001b[1;32m     59\u001b[0m     \u001b[0;32melif\u001b[0m \u001b[0mhasattr\u001b[0m\u001b[0;34m(\u001b[0m\u001b[0mfilename\u001b[0m\u001b[0;34m,\u001b[0m \u001b[0;34m\"read\"\u001b[0m\u001b[0;34m)\u001b[0m \u001b[0;32mor\u001b[0m \u001b[0mhasattr\u001b[0m\u001b[0;34m(\u001b[0m\u001b[0mfilename\u001b[0m\u001b[0;34m,\u001b[0m \u001b[0;34m\"write\"\u001b[0m\u001b[0;34m)\u001b[0m\u001b[0;34m:\u001b[0m\u001b[0;34m\u001b[0m\u001b[0;34m\u001b[0m\u001b[0m\n\u001b[1;32m     60\u001b[0m         \u001b[0mbinary_file\u001b[0m \u001b[0;34m=\u001b[0m \u001b[0mGzipFile\u001b[0m\u001b[0;34m(\u001b[0m\u001b[0;32mNone\u001b[0m\u001b[0;34m,\u001b[0m \u001b[0mgz_mode\u001b[0m\u001b[0;34m,\u001b[0m \u001b[0mcompresslevel\u001b[0m\u001b[0;34m,\u001b[0m \u001b[0mfilename\u001b[0m\u001b[0;34m)\u001b[0m\u001b[0;34m\u001b[0m\u001b[0;34m\u001b[0m\u001b[0m\n",
      "\u001b[0;32m/opt/anaconda3/envs/reco_base/lib/python3.7/gzip.py\u001b[0m in \u001b[0;36m__init__\u001b[0;34m(self, filename, mode, compresslevel, fileobj, mtime)\u001b[0m\n\u001b[1;32m    166\u001b[0m             \u001b[0mmode\u001b[0m \u001b[0;34m+=\u001b[0m \u001b[0;34m'b'\u001b[0m\u001b[0;34m\u001b[0m\u001b[0;34m\u001b[0m\u001b[0m\n\u001b[1;32m    167\u001b[0m         \u001b[0;32mif\u001b[0m \u001b[0mfileobj\u001b[0m \u001b[0;32mis\u001b[0m \u001b[0;32mNone\u001b[0m\u001b[0;34m:\u001b[0m\u001b[0;34m\u001b[0m\u001b[0;34m\u001b[0m\u001b[0m\n\u001b[0;32m--> 168\u001b[0;31m             \u001b[0mfileobj\u001b[0m \u001b[0;34m=\u001b[0m \u001b[0mself\u001b[0m\u001b[0;34m.\u001b[0m\u001b[0mmyfileobj\u001b[0m \u001b[0;34m=\u001b[0m \u001b[0mbuiltins\u001b[0m\u001b[0;34m.\u001b[0m\u001b[0mopen\u001b[0m\u001b[0;34m(\u001b[0m\u001b[0mfilename\u001b[0m\u001b[0;34m,\u001b[0m \u001b[0mmode\u001b[0m \u001b[0;32mor\u001b[0m \u001b[0;34m'rb'\u001b[0m\u001b[0;34m)\u001b[0m\u001b[0;34m\u001b[0m\u001b[0;34m\u001b[0m\u001b[0m\n\u001b[0m\u001b[1;32m    169\u001b[0m         \u001b[0;32mif\u001b[0m \u001b[0mfilename\u001b[0m \u001b[0;32mis\u001b[0m \u001b[0;32mNone\u001b[0m\u001b[0;34m:\u001b[0m\u001b[0;34m\u001b[0m\u001b[0;34m\u001b[0m\u001b[0m\n\u001b[1;32m    170\u001b[0m             \u001b[0mfilename\u001b[0m \u001b[0;34m=\u001b[0m \u001b[0mgetattr\u001b[0m\u001b[0;34m(\u001b[0m\u001b[0mfileobj\u001b[0m\u001b[0;34m,\u001b[0m \u001b[0;34m'name'\u001b[0m\u001b[0;34m,\u001b[0m \u001b[0;34m''\u001b[0m\u001b[0;34m)\u001b[0m\u001b[0;34m\u001b[0m\u001b[0;34m\u001b[0m\u001b[0m\n",
      "\u001b[0;31mFileNotFoundError\u001b[0m: [Errno 2] No such file or directory: './Models/content_predictor_temas_150k_10192210.pkl'"
     ]
    }
   ],
   "source": [
    "import gzip, pickle, pickletools\n",
    "import time\n",
    "now_time = time.strftime(\"%m%d%H%m\")\n",
    "filepath = \"./Models/content_predictor_temas_\"+str(150)+\"k_\"+now_time+\".pkl\"\n",
    "with gzip.open(filepath, \"wb\") as f:\n",
    "    # pickled = pickle.dumps(content_predictor_temas.evaluator.algorithms[0].algorithm, protocol=4)\n",
    "    pickled = pickle.dumps(content_predictor_temas, protocol=4)\n",
    "    optimized_pickle = pickletools.optimize(pickled)\n",
    "    f.write(optimized_pickle)"
   ]
  },
  {
   "cell_type": "markdown",
   "id": "05b06c32",
   "metadata": {},
   "source": [
    "# Content bases KNN Clusters Deweys"
   ]
  },
  {
   "cell_type": "code",
   "execution_count": null,
   "id": "8be4cbf7",
   "metadata": {
    "gather": {
     "logged": 1633115874479
    }
   },
   "outputs": [],
   "source": [
    "#content_predictor_deweys = ContentKNNRecommender(df_pesos_cluster_deweys, n=80000, scale=5)"
   ]
  },
  {
   "cell_type": "code",
   "execution_count": null,
   "id": "be95a920",
   "metadata": {
    "gather": {
     "logged": 1633115874628
    }
   },
   "outputs": [],
   "source": [
    "# content_predictor_deweys.fit_evaluate()"
   ]
  },
  {
   "cell_type": "code",
   "execution_count": null,
   "id": "cc0758b2",
   "metadata": {
    "gather": {
     "logged": 1633115874862
    }
   },
   "outputs": [],
   "source": [
    "# Prediciendo para un usuario \n",
    "# cluster_eval = 92\n",
    "# preds_deweys_cb = content_predictor_deweys.predict_for_cluster(cluster=cluster_eval)"
   ]
  },
  {
   "cell_type": "code",
   "execution_count": null,
   "id": "7551bb29",
   "metadata": {
    "gather": {
     "logged": 1633115874993
    }
   },
   "outputs": [],
   "source": [
    "# Info cluster\n",
    "# generateClusterInfo(cluster_eval)"
   ]
  },
  {
   "cell_type": "code",
   "execution_count": null,
   "id": "28f941e8",
   "metadata": {
    "gather": {
     "logged": 1633115875229
    }
   },
   "outputs": [],
   "source": [
    "# Info Recomendaciones\n",
    "# preds_tems_cb = ['30225']\n",
    "# generateRecsInfopreds(preds_tems_cb)"
   ]
  },
  {
   "cell_type": "code",
   "execution_count": null,
   "id": "53d01b60",
   "metadata": {},
   "outputs": [],
   "source": []
  },
  {
   "cell_type": "markdown",
   "id": "b9cfeb1b-e0b8-4a14-ba32-869c9f2fd7ae",
   "metadata": {
    "nteract": {
     "transient": {
      "deleting": false
     }
    }
   },
   "source": [
    "# RBM Temáticas"
   ]
  },
  {
   "cell_type": "code",
   "execution_count": null,
   "id": "82c6864e-401c-4450-8299-e6558b68b639",
   "metadata": {
    "gather": {
     "logged": 1633736087476
    },
    "jupyter": {
     "outputs_hidden": false,
     "source_hidden": false
    },
    "nteract": {
     "transient": {
      "deleting": false
     }
    }
   },
   "outputs": [],
   "source": [
    "from rbm_recommender import RBMRecommender"
   ]
  },
  {
   "cell_type": "code",
   "execution_count": null,
   "id": "3e5e5fc1-3f5b-4971-b76d-e88db2406aa0",
   "metadata": {
    "gather": {
     "logged": 1633736088990
    },
    "jupyter": {
     "outputs_hidden": false,
     "source_hidden": false
    },
    "nteract": {
     "transient": {
      "deleting": false
     }
    }
   },
   "outputs": [],
   "source": [
    "rbm_predictor_temas = RBMRecommender(df_pesos_cluster_temas.copy())"
   ]
  },
  {
   "cell_type": "code",
   "execution_count": null,
   "id": "94ca1d13-ef30-45d9-b159-025b548d11b5",
   "metadata": {
    "gather": {
     "logged": 1633736126541
    },
    "jupyter": {
     "outputs_hidden": false,
     "source_hidden": false
    },
    "nteract": {
     "transient": {
      "deleting": false
     }
    }
   },
   "outputs": [],
   "source": [
    "rbm_predictor_temas.fit()"
   ]
  },
  {
   "cell_type": "code",
   "execution_count": null,
   "id": "3f89683a-7fba-43b6-b912-0224854d4e1c",
   "metadata": {
    "gather": {
     "logged": 1633736128494
    },
    "jupyter": {
     "outputs_hidden": false,
     "source_hidden": false
    },
    "nteract": {
     "transient": {
      "deleting": false
     }
    }
   },
   "outputs": [],
   "source": [
    "#rbm_predictor_temas.predict()"
   ]
  },
  {
   "cell_type": "code",
   "execution_count": null,
   "id": "426dab06-1e44-4259-851b-aad2ecdebeb2",
   "metadata": {
    "gather": {
     "logged": 1633736275622
    },
    "jupyter": {
     "outputs_hidden": false,
     "source_hidden": false
    },
    "nteract": {
     "transient": {
      "deleting": false
     }
    }
   },
   "outputs": [],
   "source": [
    "# Prediciendo para un usuario \n",
    "cluster_eval = 92\n",
    "preds_temas_rbm = rbm_predictor_temas.predict_for_cluster(cluster=cluster_eval)"
   ]
  },
  {
   "cell_type": "code",
   "execution_count": null,
   "id": "9a844a82-3268-489c-8240-b0f30a006d4d",
   "metadata": {
    "gather": {
     "logged": 1633736279022
    },
    "jupyter": {
     "outputs_hidden": false,
     "source_hidden": false
    },
    "nteract": {
     "transient": {
      "deleting": false
     }
    }
   },
   "outputs": [],
   "source": [
    "# Info cluster\n",
    "df_info_clus, df_clus_deweys, df_clus_tems = generateClusterInfo(cluster_eval)"
   ]
  },
  {
   "cell_type": "code",
   "execution_count": null,
   "id": "b5705a3f-17fb-49c3-974d-722f33f53393",
   "metadata": {
    "gather": {
     "logged": 1633736305109
    },
    "jupyter": {
     "outputs_hidden": false,
     "source_hidden": false
    },
    "nteract": {
     "transient": {
      "deleting": false
     }
    }
   },
   "outputs": [],
   "source": [
    "# Info Recomendaciones\n",
    "df_info_pred_rbm_temas, df_pred_rbm_temas_deweys, df_pred_rbm_temas_tems = generateRecsInfopreds(preds_temas_rbm)"
   ]
  },
  {
   "cell_type": "code",
   "execution_count": null,
   "id": "1e570b85-b3a6-4e14-a47c-93330038b9d1",
   "metadata": {
    "gather": {
     "logged": 1633736305720
    },
    "jupyter": {
     "outputs_hidden": false,
     "source_hidden": false
    },
    "nteract": {
     "transient": {
      "deleting": false
     }
    }
   },
   "outputs": [],
   "source": [
    "intersection = df_clus_tems & df_pred_rbm_temas_tems\n",
    "intersection"
   ]
  },
  {
   "cell_type": "code",
   "execution_count": null,
   "id": "0ed137bd-851f-4a31-9ef8-6bba6f5b0fac",
   "metadata": {
    "gather": {
     "logged": 1633736306060
    },
    "jupyter": {
     "outputs_hidden": false,
     "source_hidden": false
    },
    "nteract": {
     "transient": {
      "deleting": false
     }
    }
   },
   "outputs": [],
   "source": [
    "difference = df_pred_rbm_temas_tems - df_clus_tems\n",
    "difference"
   ]
  },
  {
   "cell_type": "code",
   "execution_count": null,
   "id": "ec4541a7-caa4-4d9d-a362-16ef9f0cb8eb",
   "metadata": {
    "gather": {
     "logged": 1633115922766
    },
    "jupyter": {
     "outputs_hidden": false,
     "source_hidden": false
    },
    "nteract": {
     "transient": {
      "deleting": false
     }
    }
   },
   "outputs": [],
   "source": [
    "# rbm_predictor_temas.export_model()"
   ]
  },
  {
   "cell_type": "code",
   "execution_count": null,
   "id": "f0f4b10e-ddac-4a54-8aa8-b04b942a2850",
   "metadata": {
    "gather": {
     "logged": 1633122281599
    },
    "jupyter": {
     "outputs_hidden": false,
     "source_hidden": false
    },
    "nteract": {
     "transient": {
      "deleting": false
     }
    }
   },
   "outputs": [],
   "source": [
    "import dill"
   ]
  },
  {
   "cell_type": "code",
   "execution_count": 2,
   "id": "41941742-a222-45c2-86b8-ef5f1c094595",
   "metadata": {
    "gather": {
     "logged": 1633115922889
    },
    "jupyter": {
     "outputs_hidden": false,
     "source_hidden": false
    },
    "nteract": {
     "transient": {
      "deleting": false
     }
    }
   },
   "outputs": [],
   "source": [
    "# import gzip, pickle, pickletools\n",
    "# import time\n",
    "# now_time = time.strftime(\"%m%d%H%m\")\n",
    "# filepath = basePath + \"UAQUE/Models/rbm_predictor_temas\"+str(100)+\"k_\"+now_time+\".pkl\"\n",
    "# with gzip.open(filepath, \"wb\") as f:\n",
    "#     # pickled = pickle.dumps(rbm_predictor_temas, protocol=4)\n",
    "#     pickled = dill.dumps(rbm_predictor_temas, protocol=4)\n",
    "#     # optimized_pickle = pickletools.optimize(pickled)\n",
    "#     # f.write(optimized_pickle)"
   ]
  },
  {
   "cell_type": "code",
   "execution_count": null,
   "id": "2c94da48-3134-4c38-b604-14573305958b",
   "metadata": {
    "jupyter": {
     "outputs_hidden": false,
     "source_hidden": false
    },
    "nteract": {
     "transient": {
      "deleting": false
     }
    }
   },
   "outputs": [],
   "source": []
  },
  {
   "cell_type": "markdown",
   "id": "df1319cc-4678-4d46-915e-1d85f14e7ed9",
   "metadata": {
    "nteract": {
     "transient": {
      "deleting": false
     }
    }
   },
   "source": [
    "# RBM Deweys"
   ]
  },
  {
   "cell_type": "code",
   "execution_count": 3,
   "id": "bbf63ae8-c0e3-470a-928a-bfde077f6697",
   "metadata": {
    "gather": {
     "logged": 1633115923431
    },
    "jupyter": {
     "outputs_hidden": false,
     "source_hidden": false
    },
    "nteract": {
     "transient": {
      "deleting": false
     }
    }
   },
   "outputs": [
    {
     "ename": "NameError",
     "evalue": "name 'RBMRecommender' is not defined",
     "output_type": "error",
     "traceback": [
      "\u001b[0;31m---------------------------------------------------------------------------\u001b[0m",
      "\u001b[0;31mNameError\u001b[0m                                 Traceback (most recent call last)",
      "\u001b[0;32m/var/folders/pk/3mfh7qx1111czrm27qywf15m0000gn/T/ipykernel_49561/3758166564.py\u001b[0m in \u001b[0;36m<module>\u001b[0;34m\u001b[0m\n\u001b[0;32m----> 1\u001b[0;31m \u001b[0mrbm_predictor_deweys\u001b[0m \u001b[0;34m=\u001b[0m \u001b[0mRBMRecommender\u001b[0m\u001b[0;34m(\u001b[0m\u001b[0mdf_pesos_cluster_deweys\u001b[0m\u001b[0;34m.\u001b[0m\u001b[0mcopy\u001b[0m\u001b[0;34m(\u001b[0m\u001b[0;34m)\u001b[0m\u001b[0;34m)\u001b[0m\u001b[0;34m\u001b[0m\u001b[0;34m\u001b[0m\u001b[0m\n\u001b[0m",
      "\u001b[0;31mNameError\u001b[0m: name 'RBMRecommender' is not defined"
     ]
    }
   ],
   "source": [
    "rbm_predictor_deweys = RBMRecommender(df_pesos_cluster_deweys.copy())"
   ]
  },
  {
   "cell_type": "code",
   "execution_count": null,
   "id": "dbc436b4-3b52-45ee-a190-9897a762a4dc",
   "metadata": {
    "gather": {
     "logged": 1633115933376
    },
    "jupyter": {
     "outputs_hidden": false,
     "source_hidden": false
    },
    "nteract": {
     "transient": {
      "deleting": false
     }
    }
   },
   "outputs": [],
   "source": [
    "rbm_predictor_deweys.fit()"
   ]
  },
  {
   "cell_type": "code",
   "execution_count": null,
   "id": "7bd24546-bbdd-408f-9607-fe9622cf8225",
   "metadata": {
    "gather": {
     "logged": 1633115935069
    },
    "jupyter": {
     "outputs_hidden": false,
     "source_hidden": false
    },
    "nteract": {
     "transient": {
      "deleting": false
     }
    }
   },
   "outputs": [],
   "source": [
    "rbm_predictor_deweys.predict()"
   ]
  },
  {
   "cell_type": "code",
   "execution_count": null,
   "id": "7d853182-e22c-4c24-a826-265f2a1cd7ee",
   "metadata": {
    "gather": {
     "logged": 1633115935222
    },
    "jupyter": {
     "outputs_hidden": false,
     "source_hidden": false
    },
    "nteract": {
     "transient": {
      "deleting": false
     }
    }
   },
   "outputs": [],
   "source": [
    "# Prediciendo para un usuario \n",
    "# cluster_eval = 92\n",
    "# preds_deweys_rbm = rbm_predictor_deweys.predict_for_cluster(cluster=cluster_eval)"
   ]
  },
  {
   "cell_type": "code",
   "execution_count": null,
   "id": "a5193d33-8c87-4098-8794-c31ccba1cb82",
   "metadata": {
    "gather": {
     "logged": 1633115935517
    },
    "jupyter": {
     "outputs_hidden": false,
     "source_hidden": false
    },
    "nteract": {
     "transient": {
      "deleting": false
     }
    }
   },
   "outputs": [],
   "source": [
    "# Info cluster\n",
    "# df_info_clus, df_clus_deweys, df_clus_tems = generateClusterInfo(cluster_eval)"
   ]
  },
  {
   "cell_type": "code",
   "execution_count": null,
   "id": "0dc15957-c571-4941-a17e-5794218fdc14",
   "metadata": {
    "gather": {
     "logged": 1633115935652
    },
    "jupyter": {
     "outputs_hidden": false,
     "source_hidden": false
    },
    "nteract": {
     "transient": {
      "deleting": false
     }
    }
   },
   "outputs": [],
   "source": [
    "# preds_deweys_rbm"
   ]
  },
  {
   "cell_type": "code",
   "execution_count": null,
   "id": "d3f614cf-1701-4643-8a12-b3e732ab4bca",
   "metadata": {
    "gather": {
     "logged": 1633115935889
    },
    "jupyter": {
     "outputs_hidden": false,
     "source_hidden": false
    },
    "nteract": {
     "transient": {
      "deleting": false
     }
    }
   },
   "outputs": [],
   "source": [
    "# Info Recomendaciones\n",
    "# df_info_pred_rbm_deweys, df_pred_rbm_deweys_deweys, df_pred_rbm_deweys_tems = generateRecsInfopreds(preds_deweys_rbm)"
   ]
  },
  {
   "cell_type": "code",
   "execution_count": null,
   "id": "cbae7326-0ce2-4ece-b97c-6d8f41720c68",
   "metadata": {
    "gather": {
     "logged": 1633115936007
    },
    "jupyter": {
     "outputs_hidden": false,
     "source_hidden": false
    },
    "nteract": {
     "transient": {
      "deleting": false
     }
    }
   },
   "outputs": [],
   "source": [
    "# intersection = df_clus_tems & df_pred_rbm_deweys_tems\n",
    "# intersection"
   ]
  },
  {
   "cell_type": "code",
   "execution_count": null,
   "id": "2b3d9fdc-7b99-4021-97b6-72c4d20a6578",
   "metadata": {
    "gather": {
     "logged": 1633115936228
    },
    "jupyter": {
     "outputs_hidden": false,
     "source_hidden": false
    },
    "nteract": {
     "transient": {
      "deleting": false
     }
    }
   },
   "outputs": [],
   "source": [
    "# difference = df_pred_rbm_deweys_tems - df_clus_tems\n",
    "# difference"
   ]
  },
  {
   "cell_type": "code",
   "execution_count": null,
   "id": "ac5c1ccc-3f27-4e89-9f1f-c6a0f2497061",
   "metadata": {
    "gather": {
     "logged": 1633115936349
    },
    "jupyter": {
     "outputs_hidden": false,
     "source_hidden": false
    },
    "nteract": {
     "transient": {
      "deleting": false
     }
    }
   },
   "outputs": [],
   "source": [
    "# import gzip, pickle, pickletools\n",
    "# import time\n",
    "# now_time = time.strftime(\"%m%d%H%m\")\n",
    "# filepath = \"../Models/rbm_predictor_deweys\"+str(100)+\"k_\"+now_time+\".pkl\"\n",
    "# with gzip.open(filepath, \"wb\") as f:\n",
    "#     pickled = pickle.dumps(rbm_predictor_deweys, protocol=4)\n",
    "#     optimized_pickle = pickletools.optimize(pickled)\n",
    "#     f.write(optimized_pickle)"
   ]
  },
  {
   "cell_type": "markdown",
   "id": "8ccc3d5c-b895-4186-aeae-1fa837c2e467",
   "metadata": {
    "nteract": {
     "transient": {
      "deleting": false
     }
    }
   },
   "source": [
    "# SVD"
   ]
  },
  {
   "cell_type": "code",
   "execution_count": null,
   "id": "f85af1bf-3b3a-4b6a-91ba-99addf8cd3c2",
   "metadata": {
    "gather": {
     "logged": 1633115936634
    },
    "jupyter": {
     "outputs_hidden": false,
     "source_hidden": false
    },
    "nteract": {
     "transient": {
      "deleting": false
     }
    }
   },
   "outputs": [],
   "source": [
    "from svd_recommender import SVDRecommender"
   ]
  },
  {
   "cell_type": "code",
   "execution_count": null,
   "id": "70536d2d-4f01-41e1-991a-ea59591db280",
   "metadata": {
    "gather": {
     "logged": 1633115936883
    },
    "jupyter": {
     "outputs_hidden": false,
     "source_hidden": false
    },
    "nteract": {
     "transient": {
      "deleting": false
     }
    }
   },
   "outputs": [],
   "source": [
    "svd_predictor = SVDRecommender(df_pesos_cluster_temas.copy())"
   ]
  },
  {
   "cell_type": "code",
   "execution_count": null,
   "id": "8e0542a6-7c37-45b7-bb6a-b0ae5581dc14",
   "metadata": {
    "gather": {
     "logged": 1633115957727
    },
    "jupyter": {
     "outputs_hidden": false,
     "source_hidden": false
    },
    "nteract": {
     "transient": {
      "deleting": false
     }
    }
   },
   "outputs": [],
   "source": [
    "svd_predictor.fit()"
   ]
  },
  {
   "cell_type": "code",
   "execution_count": null,
   "id": "d5125eff-6e97-4578-b93c-dbd1b54add23",
   "metadata": {
    "gather": {
     "logged": 1633116073730
    },
    "jupyter": {
     "outputs_hidden": false,
     "source_hidden": false
    },
    "nteract": {
     "transient": {
      "deleting": false
     }
    }
   },
   "outputs": [],
   "source": [
    "svd_predictor.predict()"
   ]
  },
  {
   "cell_type": "code",
   "execution_count": null,
   "id": "7842b3e4-9484-4098-b346-cadad73516ce",
   "metadata": {
    "gather": {
     "logged": 1633315523331
    },
    "jupyter": {
     "outputs_hidden": false,
     "source_hidden": false
    },
    "nteract": {
     "transient": {
      "deleting": false
     }
    }
   },
   "outputs": [],
   "source": [
    "# Prediciendo para un usuario \n",
    "# cluster_eval = 92\n",
    "# preds_svd = svd_predictor.predict_for_cluster(cluster=cluster_eval)"
   ]
  },
  {
   "cell_type": "code",
   "execution_count": null,
   "id": "eb851592-cbeb-4f1b-bc1e-1027bd12df67",
   "metadata": {
    "gather": {
     "logged": 1633315528514
    },
    "jupyter": {
     "outputs_hidden": false,
     "source_hidden": false
    },
    "nteract": {
     "transient": {
      "deleting": false
     }
    }
   },
   "outputs": [],
   "source": [
    "# df_info_clus, df_clus_deweys, df_clus_tems = generateClusterInfo(cluster_eval)"
   ]
  },
  {
   "cell_type": "code",
   "execution_count": null,
   "id": "a865ca37-b0bd-4926-a87d-4e6b4e58031b",
   "metadata": {
    "gather": {
     "logged": 1633315540402
    },
    "jupyter": {
     "outputs_hidden": false,
     "source_hidden": false
    },
    "nteract": {
     "transient": {
      "deleting": false
     }
    }
   },
   "outputs": [],
   "source": [
    "# Info Recomendaciones\n",
    "# df_info_pred_svd, df_pred_svd_deweys, df_pred_svd_tems = generateRecsInfopreds(preds_svd)"
   ]
  },
  {
   "cell_type": "code",
   "execution_count": 4,
   "id": "57bc6851-57c0-4d7f-a050-531408917570",
   "metadata": {
    "gather": {
     "logged": 1633116074541
    },
    "jupyter": {
     "outputs_hidden": false,
     "source_hidden": false
    },
    "nteract": {
     "transient": {
      "deleting": false
     }
    }
   },
   "outputs": [],
   "source": [
    "# intersection = df_clus_tems & df_pred_svd_tems\n",
    "# intersection"
   ]
  },
  {
   "cell_type": "code",
   "execution_count": 5,
   "id": "4c3bdf2f-0413-46bc-912f-988a38f5d84d",
   "metadata": {
    "gather": {
     "logged": 1633116074669
    },
    "jupyter": {
     "outputs_hidden": false,
     "source_hidden": false
    },
    "nteract": {
     "transient": {
      "deleting": false
     }
    }
   },
   "outputs": [],
   "source": [
    "# difference = df_pred_svd_tems - \n",
    "# difference"
   ]
  },
  {
   "cell_type": "code",
   "execution_count": 6,
   "id": "ae07ed37-80a2-4302-b6a2-9717461ec02c",
   "metadata": {
    "gather": {
     "logged": 1633116074940
    },
    "jupyter": {
     "outputs_hidden": false,
     "source_hidden": false
    },
    "nteract": {
     "transient": {
      "deleting": false
     }
    }
   },
   "outputs": [],
   "source": [
    "#svd_predictor.export_model()"
   ]
  },
  {
   "cell_type": "code",
   "execution_count": 7,
   "id": "a527a49f-c2a5-438f-89bc-821b3149b1b7",
   "metadata": {
    "gather": {
     "logged": 1633121179280
    },
    "jupyter": {
     "outputs_hidden": false,
     "source_hidden": false
    },
    "nteract": {
     "transient": {
      "deleting": false
     }
    }
   },
   "outputs": [],
   "source": [
    "# import gzip, pickle, pickletools\n",
    "# import time\n",
    "# now_time = time.strftime(\"%m%d%H%m\")\n",
    "# filepath = basePath + \"UAQUE/Models/svd_predictor\"+str(100)+\"k_\"+now_time+\".pkl\"\n",
    "# with gzip.open(filepath, \"wb\") as f:\n",
    "#     pickled = pickle.dumps(svd_predictor, protocol=4)\n",
    "#     optimized_pickle = pickletools.optimize(pickled)\n",
    "#     f.write(optimized_pickle)"
   ]
  },
  {
   "cell_type": "markdown",
   "id": "21eee0c8-647a-42c4-b6c8-8f5c1a7e01e4",
   "metadata": {
    "nteract": {
     "transient": {
      "deleting": false
     }
    }
   },
   "source": [
    "# Vowpal Wabbit"
   ]
  },
  {
   "cell_type": "code",
   "execution_count": 8,
   "id": "fe53dd5a-3889-4840-823f-9ce2b4729ffb",
   "metadata": {
    "gather": {
     "logged": 1633372549850
    },
    "jupyter": {
     "outputs_hidden": false,
     "source_hidden": false
    },
    "nteract": {
     "transient": {
      "deleting": false
     }
    }
   },
   "outputs": [
    {
     "name": "stderr",
     "output_type": "stream",
     "text": [
      "/opt/anaconda3/envs/reco_base/lib/python3.7/site-packages/papermill/iorw.py:50: FutureWarning: pyarrow.HadoopFileSystem is deprecated as of 2.0.0, please use pyarrow.fs.HadoopFileSystem instead.\n",
      "  from pyarrow import HadoopFileSystem\n"
     ]
    },
    {
     "name": "stdout",
     "output_type": "stream",
     "text": [
      "System version: 3.7.11 (default, Jul 27 2021, 07:03:16) \n",
      "[Clang 10.0.0 ]\n",
      "Pandas version: 1.2.2\n"
     ]
    }
   ],
   "source": [
    "%load_ext autoreload\n",
    "%autoreload 2\n",
    "from vowpal_recommender import VowpalRecommender"
   ]
  },
  {
   "cell_type": "code",
   "execution_count": 9,
   "id": "ea9f9e99-2a97-4d83-a198-5455d5c0db49",
   "metadata": {
    "gather": {
     "logged": 1633372550768
    },
    "jupyter": {
     "outputs_hidden": false,
     "source_hidden": false
    },
    "nteract": {
     "transient": {
      "deleting": false
     }
    }
   },
   "outputs": [
    {
     "ename": "NameError",
     "evalue": "name 'df_pesos_cluster_temas' is not defined",
     "output_type": "error",
     "traceback": [
      "\u001b[0;31m---------------------------------------------------------------------------\u001b[0m",
      "\u001b[0;31mNameError\u001b[0m                                 Traceback (most recent call last)",
      "\u001b[0;32m/var/folders/pk/3mfh7qx1111czrm27qywf15m0000gn/T/ipykernel_49561/3385937084.py\u001b[0m in \u001b[0;36m<module>\u001b[0;34m\u001b[0m\n\u001b[0;32m----> 1\u001b[0;31m \u001b[0mdata_pred\u001b[0m \u001b[0;34m=\u001b[0m \u001b[0mdf_pesos_cluster_temas\u001b[0m\u001b[0;34m.\u001b[0m\u001b[0mcopy\u001b[0m\u001b[0;34m(\u001b[0m\u001b[0;34m)\u001b[0m\u001b[0;34m\u001b[0m\u001b[0;34m\u001b[0m\u001b[0m\n\u001b[0m",
      "\u001b[0;31mNameError\u001b[0m: name 'df_pesos_cluster_temas' is not defined"
     ]
    }
   ],
   "source": [
    "data_pred = df_pesos_cluster_temas.copy()"
   ]
  },
  {
   "cell_type": "code",
   "execution_count": null,
   "id": "4cb6c99f-4227-47a9-9b8e-d29c6967d193",
   "metadata": {
    "gather": {
     "logged": 1633372705235
    },
    "jupyter": {
     "outputs_hidden": false,
     "source_hidden": false
    },
    "nteract": {
     "transient": {
      "deleting": false
     }
    }
   },
   "outputs": [],
   "source": [
    "vowpal_predictor = VowpalRecommender(data_pred)"
   ]
  },
  {
   "cell_type": "code",
   "execution_count": null,
   "id": "a38530f2-2a97-49e6-bc6a-9ef90e03213e",
   "metadata": {
    "jupyter": {
     "outputs_hidden": false,
     "source_hidden": false
    },
    "nteract": {
     "transient": {
      "deleting": false
     }
    }
   },
   "outputs": [],
   "source": [
    "vowpal_predictor.fit()"
   ]
  },
  {
   "cell_type": "code",
   "execution_count": null,
   "id": "b4097004-3b55-443d-b729-6a6c118a24f7",
   "metadata": {
    "jupyter": {
     "outputs_hidden": false,
     "source_hidden": false
    },
    "nteract": {
     "transient": {
      "deleting": false
     }
    }
   },
   "outputs": [],
   "source": [
    "vowpal_predictor.predict()"
   ]
  },
  {
   "cell_type": "code",
   "execution_count": null,
   "id": "21aad1d5-8993-45eb-82f1-9bbecb62bc71",
   "metadata": {
    "jupyter": {
     "outputs_hidden": false,
     "source_hidden": false
    },
    "nteract": {
     "transient": {
      "deleting": false
     }
    }
   },
   "outputs": [],
   "source": [
    "# Prediciendo para un usuario \n",
    "cluster_eval = 92\n",
    "preds_vowpal = vowpal_predictor.predict_for_cluster(cluster=cluster_eval)"
   ]
  },
  {
   "cell_type": "code",
   "execution_count": null,
   "id": "23a94c9f-5d0a-4fdc-8c06-4b0ba6da8293",
   "metadata": {
    "jupyter": {
     "outputs_hidden": false,
     "source_hidden": false
    },
    "nteract": {
     "transient": {
      "deleting": false
     }
    }
   },
   "outputs": [],
   "source": [
    "df_info_clus, df_clus_deweys, df_clus_tems = generateClusterInfo(cluster_eval)"
   ]
  },
  {
   "cell_type": "code",
   "execution_count": null,
   "id": "4a8689f2-3057-43d0-a547-efae82e5dde8",
   "metadata": {
    "jupyter": {
     "outputs_hidden": false,
     "source_hidden": false
    },
    "nteract": {
     "transient": {
      "deleting": false
     }
    }
   },
   "outputs": [],
   "source": [
    "# Info Recomendaciones\n",
    "df_info_pred_vowpal, df_pred_vowpal_deweys, df_pred_vowpal_tems = generateRecsInfopreds(preds_vowpal)"
   ]
  },
  {
   "cell_type": "code",
   "execution_count": null,
   "id": "a226e0e3-dd5d-4edf-8e29-6f6cb178efe0",
   "metadata": {
    "jupyter": {
     "outputs_hidden": false,
     "source_hidden": false
    },
    "nteract": {
     "transient": {
      "deleting": false
     }
    }
   },
   "outputs": [],
   "source": [
    "intersection = df_clus_tems & df_pred_vowpal_tems\n",
    "intersection"
   ]
  },
  {
   "cell_type": "code",
   "execution_count": null,
   "id": "ff16ed46-2a20-436d-bc26-2ccd68c6cfa5",
   "metadata": {
    "jupyter": {
     "outputs_hidden": false,
     "source_hidden": false
    },
    "nteract": {
     "transient": {
      "deleting": false
     }
    }
   },
   "outputs": [],
   "source": [
    "difference = df_pred_vowpal_tems - df_clus_tems\n",
    "difference"
   ]
  },
  {
   "cell_type": "code",
   "execution_count": null,
   "id": "95c8f3c8-dd11-4a43-a914-532661107f2f",
   "metadata": {
    "jupyter": {
     "outputs_hidden": false,
     "source_hidden": false
    },
    "nteract": {
     "transient": {
      "deleting": false
     }
    }
   },
   "outputs": [],
   "source": [
    "import gzip, pickle, pickletools\n",
    "import time\n",
    "now_time = time.strftime(\"%m%d%H%m\")\n",
    "filepath = basePath + \"UAQUE/Models/vowpal_predictor\"+str(100)+\"k_\"+now_time+\".pkl\"\n",
    "with gzip.open(filepath, \"wb\") as f:\n",
    "    pickled = pickle.dumps(svd_predictor, protocol=4)\n",
    "    optimized_pickle = pickletools.optimize(pickled)\n",
    "    f.write(optimized_pickle)"
   ]
  },
  {
   "cell_type": "code",
   "execution_count": null,
   "id": "241a92f3-dd70-4b04-b2bb-0435f8ef93bf",
   "metadata": {
    "jupyter": {
     "outputs_hidden": false,
     "source_hidden": false
    },
    "nteract": {
     "transient": {
      "deleting": false
     }
    }
   },
   "outputs": [],
   "source": []
  }
 ],
 "metadata": {
  "kernel_info": {
   "name": "reco_gpu"
  },
  "kernelspec": {
   "display_name": "Python (reco_base)",
   "language": "python",
   "name": "reco_base"
  },
  "language_info": {
   "codemirror_mode": {
    "name": "ipython",
    "version": 3
   },
   "file_extension": ".py",
   "mimetype": "text/x-python",
   "name": "python",
   "nbconvert_exporter": "python",
   "pygments_lexer": "ipython3",
   "version": "3.7.11"
  },
  "microsoft": {
   "host": {
    "AzureML": {
     "notebookHasBeenCompleted": true
    }
   }
  },
  "nteract": {
   "version": "nteract-front-end@1.0.0"
  }
 },
 "nbformat": 4,
 "nbformat_minor": 5
}
