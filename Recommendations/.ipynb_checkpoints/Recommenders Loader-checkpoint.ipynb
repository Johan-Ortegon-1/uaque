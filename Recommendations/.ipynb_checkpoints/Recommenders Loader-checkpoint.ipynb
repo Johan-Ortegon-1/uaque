{
 "cells": [
  {
   "cell_type": "markdown",
   "metadata": {
    "nteract": {
     "transient": {
      "deleting": false
     }
    }
   },
   "source": [
    "# Carga de datos"
   ]
  },
  {
   "cell_type": "code",
   "execution_count": 1,
   "metadata": {
    "gather": {
     "logged": 1633393346808
    },
    "jupyter": {
     "outputs_hidden": false,
     "source_hidden": false
    },
    "nteract": {
     "transient": {
      "deleting": false
     }
    }
   },
   "outputs": [],
   "source": [
    "CLUSTER_EVAL = 92"
   ]
  },
  {
   "cell_type": "code",
   "execution_count": 48,
   "metadata": {
    "gather": {
     "logged": 1633394861293
    },
    "jupyter": {
     "outputs_hidden": false,
     "source_hidden": false
    },
    "nteract": {
     "transient": {
      "deleting": false
     }
    }
   },
   "outputs": [],
   "source": [
    "import pandas as pd\n",
    "import numpy as np\n",
    "import gzip, pickle, pickletools\n",
    "import time\n",
    "import cloudpickle as cp\n",
    "import urllib.request"
   ]
  },
  {
   "cell_type": "code",
   "execution_count": 3,
   "metadata": {
    "gather": {
     "logged": 1633393349232
    },
    "jupyter": {
     "outputs_hidden": false,
     "source_hidden": false
    },
    "nteract": {
     "transient": {
      "deleting": false
     }
    }
   },
   "outputs": [],
   "source": [
    "basePath =  'https://www.dropbox.com/s/'"
   ]
  },
  {
   "cell_type": "code",
   "execution_count": 4,
   "metadata": {
    "gather": {
     "logged": 1633393367481
    },
    "jupyter": {
     "outputs_hidden": false,
     "source_hidden": false
    },
    "nteract": {
     "transient": {
      "deleting": false
     }
    }
   },
   "outputs": [],
   "source": [
    "# Dataframe de préstamos\n",
    "df_prestamos = pd.read_json(basePath + 'chk4h90xgm48adm/joinTablas.json?dl=1')"
   ]
  },
  {
   "cell_type": "code",
   "execution_count": 39,
   "metadata": {
    "gather": {
     "logged": 1633394612454
    },
    "jupyter": {
     "outputs_hidden": false,
     "source_hidden": false
    },
    "nteract": {
     "transient": {
      "deleting": false
     }
    }
   },
   "outputs": [
    {
     "data": {
      "text/html": [
       "<div>\n",
       "<style scoped>\n",
       "    .dataframe tbody tr th:only-of-type {\n",
       "        vertical-align: middle;\n",
       "    }\n",
       "\n",
       "    .dataframe tbody tr th {\n",
       "        vertical-align: top;\n",
       "    }\n",
       "\n",
       "    .dataframe thead th {\n",
       "        text-align: right;\n",
       "    }\n",
       "</style>\n",
       "<table border=\"1\" class=\"dataframe\">\n",
       "  <thead>\n",
       "    <tr style=\"text-align: right;\">\n",
       "      <th></th>\n",
       "      <th>RowID</th>\n",
       "      <th>Fecha</th>\n",
       "      <th>IDItem</th>\n",
       "      <th>NumeroUbicacion</th>\n",
       "      <th>Dewey</th>\n",
       "      <th>Ubicacion</th>\n",
       "      <th>Llave</th>\n",
       "      <th>Programa</th>\n",
       "      <th>Facultad</th>\n",
       "      <th>IDUsuario</th>\n",
       "      <th>Year</th>\n",
       "      <th>Signatura</th>\n",
       "      <th>TipoItem</th>\n",
       "      <th>Autor</th>\n",
       "      <th>Titulo</th>\n",
       "      <th>AnioPublicacion</th>\n",
       "      <th>DeweyEspecifico</th>\n",
       "      <th>TemaDewey</th>\n",
       "      <th>Temas</th>\n",
       "      <th>Union</th>\n",
       "    </tr>\n",
       "  </thead>\n",
       "  <tbody>\n",
       "    <tr>\n",
       "      <th>0</th>\n",
       "      <td>Row0</td>\n",
       "      <td>1547050497000</td>\n",
       "      <td>80000005327627</td>\n",
       "      <td>720.98 A71S</td>\n",
       "      <td>720</td>\n",
       "      <td>COL-GRAL-2</td>\n",
       "      <td>866245</td>\n",
       "      <td>CARRERA DE ARQUITECTURA</td>\n",
       "      <td>arquitectura y diseño</td>\n",
       "      <td>c361c772cd0220bb16dcfb2ad803e4903334ab94</td>\n",
       "      <td>2019</td>\n",
       "      <td>720</td>\n",
       "      <td>LIBRO</td>\n",
       "      <td>Arango Cardinal, Silvia 1948-</td>\n",
       "      <td>Ciudad y arquitectura seis generaciones que co...</td>\n",
       "      <td>2012.0</td>\n",
       "      <td>720.98</td>\n",
       "      <td>Arquitectura latinoamericana</td>\n",
       "      <td>[arquitectur, histori, amer, latin]</td>\n",
       "      <td>arquitectur histori amer latin</td>\n",
       "    </tr>\n",
       "    <tr>\n",
       "      <th>1</th>\n",
       "      <td>Row1</td>\n",
       "      <td>1547050500000</td>\n",
       "      <td>80000001191496</td>\n",
       "      <td>720.9861 A71</td>\n",
       "      <td>720</td>\n",
       "      <td>COL-GRAL-2</td>\n",
       "      <td>309945</td>\n",
       "      <td>CARRERA DE ARQUITECTURA</td>\n",
       "      <td>arquitectura y diseño</td>\n",
       "      <td>c361c772cd0220bb16dcfb2ad803e4903334ab94</td>\n",
       "      <td>2019</td>\n",
       "      <td>720</td>\n",
       "      <td>LIBRO</td>\n",
       "      <td>Arango Cardinal, Silvia 1948-</td>\n",
       "      <td>Historia de la arquitectura en Colombia Silvia...</td>\n",
       "      <td>1993.0</td>\n",
       "      <td>720.9861</td>\n",
       "      <td>Arquitectura colombiana</td>\n",
       "      <td>[arquitectur, colonial, histori, colombi]</td>\n",
       "      <td>arquitectur colonial histori colombi</td>\n",
       "    </tr>\n",
       "    <tr>\n",
       "      <th>2</th>\n",
       "      <td>Row2</td>\n",
       "      <td>1547138763000</td>\n",
       "      <td>80000004979759</td>\n",
       "      <td>540 CH15Q 2010</td>\n",
       "      <td>540</td>\n",
       "      <td>COL-GRAL-3</td>\n",
       "      <td>822727</td>\n",
       "      <td>CARRERA DE ARQUITECTURA</td>\n",
       "      <td>arquitectura y diseño</td>\n",
       "      <td>87b0e5a61ed712ddfaf5d478ad68c87c825997e9</td>\n",
       "      <td>2019</td>\n",
       "      <td>540</td>\n",
       "      <td>LIBRO</td>\n",
       "      <td>Chang, Raymond</td>\n",
       "      <td>Química Raymond Chang ; revisión técnica Rosa ...</td>\n",
       "      <td>2010.0</td>\n",
       "      <td>540</td>\n",
       "      <td>Química</td>\n",
       "      <td>[quimic]</td>\n",
       "      <td>quimic</td>\n",
       "    </tr>\n",
       "    <tr>\n",
       "      <th>3</th>\n",
       "      <td>Row3</td>\n",
       "      <td>1547138765000</td>\n",
       "      <td>80000004509512</td>\n",
       "      <td>512 B151</td>\n",
       "      <td>510</td>\n",
       "      <td>COL-GRAL-3</td>\n",
       "      <td>784541</td>\n",
       "      <td>CARRERA DE ARQUITECTURA</td>\n",
       "      <td>arquitectura y diseño</td>\n",
       "      <td>87b0e5a61ed712ddfaf5d478ad68c87c825997e9</td>\n",
       "      <td>2019</td>\n",
       "      <td>512</td>\n",
       "      <td>LIBRO</td>\n",
       "      <td>Baldor, J. Aurelio</td>\n",
       "      <td>Álgebra con gráficos y 6523 ejercicios y probl...</td>\n",
       "      <td>2009.0</td>\n",
       "      <td>512</td>\n",
       "      <td>Álgebra</td>\n",
       "      <td>[algebr]</td>\n",
       "      <td>algebr</td>\n",
       "    </tr>\n",
       "    <tr>\n",
       "      <th>4</th>\n",
       "      <td>Row4</td>\n",
       "      <td>1547300269000</td>\n",
       "      <td>80000005270756</td>\n",
       "      <td>712 M17E</td>\n",
       "      <td>710</td>\n",
       "      <td>COL-GRAL-2</td>\n",
       "      <td>858473</td>\n",
       "      <td>CARRERA DE ARQUITECTURA</td>\n",
       "      <td>arquitectura y diseño</td>\n",
       "      <td>afe8c17ba351d274fc5671978918f0c93032d88f</td>\n",
       "      <td>2019</td>\n",
       "      <td>712</td>\n",
       "      <td>LIBRO</td>\n",
       "      <td>Martínez de Pisón, Eduardo 1937-</td>\n",
       "      <td>Miradas sobre el paisaje Eduardo Martínez de P...</td>\n",
       "      <td>2009.0</td>\n",
       "      <td>712</td>\n",
       "      <td>Arquitectura del paisaje</td>\n",
       "      <td>[arquitectur, paisaj]</td>\n",
       "      <td>arquitectur paisaj</td>\n",
       "    </tr>\n",
       "    <tr>\n",
       "      <th>...</th>\n",
       "      <td>...</td>\n",
       "      <td>...</td>\n",
       "      <td>...</td>\n",
       "      <td>...</td>\n",
       "      <td>...</td>\n",
       "      <td>...</td>\n",
       "      <td>...</td>\n",
       "      <td>...</td>\n",
       "      <td>...</td>\n",
       "      <td>...</td>\n",
       "      <td>...</td>\n",
       "      <td>...</td>\n",
       "      <td>...</td>\n",
       "      <td>...</td>\n",
       "      <td>...</td>\n",
       "      <td>...</td>\n",
       "      <td>...</td>\n",
       "      <td>...</td>\n",
       "      <td>...</td>\n",
       "      <td>...</td>\n",
       "    </tr>\n",
       "    <tr>\n",
       "      <th>489732</th>\n",
       "      <td>Row543896</td>\n",
       "      <td>1546275870000</td>\n",
       "      <td>80000005573398</td>\n",
       "      <td>370.1 E47E</td>\n",
       "      <td>370</td>\n",
       "      <td>COL-GRAL-3</td>\n",
       "      <td>914491</td>\n",
       "      <td>CARRERA DE ARTES VISUALES</td>\n",
       "      <td>artes</td>\n",
       "      <td>7544d4d6cf0b97aa221bcefdb69d3c8be2b4e2d4</td>\n",
       "      <td>2018</td>\n",
       "      <td>370</td>\n",
       "      <td>LIBRO</td>\n",
       "      <td>Eisner, Elliot W.</td>\n",
       "      <td>La escuela que necesitamos ensayos personales ...</td>\n",
       "      <td>2002.0</td>\n",
       "      <td>370.1</td>\n",
       "      <td>Filosofía de la educación</td>\n",
       "      <td>[filosofi, educacion]</td>\n",
       "      <td>filosofi educacion</td>\n",
       "    </tr>\n",
       "    <tr>\n",
       "      <th>489733</th>\n",
       "      <td>Row543897</td>\n",
       "      <td>1546275870000</td>\n",
       "      <td>60000000046504</td>\n",
       "      <td>370.1 CH65</td>\n",
       "      <td>370</td>\n",
       "      <td>COL-GRAL-3</td>\n",
       "      <td>747839</td>\n",
       "      <td>CARRERA DE ARTES VISUALES</td>\n",
       "      <td>artes</td>\n",
       "      <td>7544d4d6cf0b97aa221bcefdb69d3c8be2b4e2d4</td>\n",
       "      <td>2018</td>\n",
       "      <td>370</td>\n",
       "      <td>LIBRO</td>\n",
       "      <td>Chomsky, Noam 1928-</td>\n",
       "      <td>La (des) educación Noam Chomsky ; edición e in...</td>\n",
       "      <td>2007.0</td>\n",
       "      <td>370.1</td>\n",
       "      <td>Filosofía de la educación</td>\n",
       "      <td>[filosofi, educacion]</td>\n",
       "      <td>filosofi educacion</td>\n",
       "    </tr>\n",
       "    <tr>\n",
       "      <th>489734</th>\n",
       "      <td>Row543898</td>\n",
       "      <td>1546275870000</td>\n",
       "      <td>80000002767872</td>\n",
       "      <td>809 H182 V.1</td>\n",
       "      <td>800</td>\n",
       "      <td>COL-GRAL-0</td>\n",
       "      <td>522997</td>\n",
       "      <td>CARRERA DE ARTES VISUALES</td>\n",
       "      <td>artes</td>\n",
       "      <td>7544d4d6cf0b97aa221bcefdb69d3c8be2b4e2d4</td>\n",
       "      <td>2018</td>\n",
       "      <td>809</td>\n",
       "      <td>LIBRO</td>\n",
       "      <td>Hauser, Arnold 1892-1978</td>\n",
       "      <td>Historia social de la literatura y el arte Arn...</td>\n",
       "      <td>1998.0</td>\n",
       "      <td>809</td>\n",
       "      <td>Literatura europea|xHistoria y crítica</td>\n",
       "      <td>[arte, histori]</td>\n",
       "      <td>arte histori</td>\n",
       "    </tr>\n",
       "    <tr>\n",
       "      <th>489735</th>\n",
       "      <td>Row543899</td>\n",
       "      <td>1546284470000</td>\n",
       "      <td>80000004114631</td>\n",
       "      <td>658.0076 G51</td>\n",
       "      <td>650</td>\n",
       "      <td>COL-GRAL-2</td>\n",
       "      <td>743895</td>\n",
       "      <td>CARRERA DE RELACIONES INTERNACIONALES</td>\n",
       "      <td>ciencias políticas y relaciones internacionales</td>\n",
       "      <td>9203547282e98eb313fa78461c3530828f04bb4b</td>\n",
       "      <td>2018</td>\n",
       "      <td>658</td>\n",
       "      <td>LIBRO</td>\n",
       "      <td>None</td>\n",
       "      <td>GMAT premier program the staff of kaplan test ...</td>\n",
       "      <td>2007.0</td>\n",
       "      <td>658.0076</td>\n",
       "      <td>Examen de admisión para graduados en administr...</td>\n",
       "      <td>[exam, admision, gradu, administracion, empres]</td>\n",
       "      <td>exam admision gradu administracion empres</td>\n",
       "    </tr>\n",
       "    <tr>\n",
       "      <th>489736</th>\n",
       "      <td>Row543900</td>\n",
       "      <td>1546286746000</td>\n",
       "      <td>80000005104167</td>\n",
       "      <td>833 Z83SN</td>\n",
       "      <td>830</td>\n",
       "      <td>COL-GRAL-0</td>\n",
       "      <td>841120</td>\n",
       "      <td>MAESTRÍA EN ECONOMÍA DE LA SALUD</td>\n",
       "      <td>ciencias económicas y administrativas</td>\n",
       "      <td>052322d5b8657f7aac756808fe724ea96c272882</td>\n",
       "      <td>2018</td>\n",
       "      <td>833</td>\n",
       "      <td>LITERATURA</td>\n",
       "      <td>Zweig, Stefan 1881-1942</td>\n",
       "      <td>Noche fantástica Stefan Zweig ; traducción de ...</td>\n",
       "      <td>2009.0</td>\n",
       "      <td>833</td>\n",
       "      <td>Novela suiza (Alemán)</td>\n",
       "      <td>[cuent, austriac]</td>\n",
       "      <td>cuent austriac</td>\n",
       "    </tr>\n",
       "  </tbody>\n",
       "</table>\n",
       "<p>489474 rows × 20 columns</p>\n",
       "</div>"
      ],
      "text/plain": [
       "            RowID          Fecha          IDItem NumeroUbicacion Dewey  \\\n",
       "0            Row0  1547050497000  80000005327627     720.98 A71S   720   \n",
       "1            Row1  1547050500000  80000001191496    720.9861 A71   720   \n",
       "2            Row2  1547138763000  80000004979759  540 CH15Q 2010   540   \n",
       "3            Row3  1547138765000  80000004509512        512 B151   510   \n",
       "4            Row4  1547300269000  80000005270756        712 M17E   710   \n",
       "...           ...            ...             ...             ...   ...   \n",
       "489732  Row543896  1546275870000  80000005573398      370.1 E47E   370   \n",
       "489733  Row543897  1546275870000  60000000046504      370.1 CH65   370   \n",
       "489734  Row543898  1546275870000  80000002767872    809 H182 V.1   800   \n",
       "489735  Row543899  1546284470000  80000004114631    658.0076 G51   650   \n",
       "489736  Row543900  1546286746000  80000005104167       833 Z83SN   830   \n",
       "\n",
       "         Ubicacion   Llave                               Programa  \\\n",
       "0       COL-GRAL-2  866245                CARRERA DE ARQUITECTURA   \n",
       "1       COL-GRAL-2  309945                CARRERA DE ARQUITECTURA   \n",
       "2       COL-GRAL-3  822727                CARRERA DE ARQUITECTURA   \n",
       "3       COL-GRAL-3  784541                CARRERA DE ARQUITECTURA   \n",
       "4       COL-GRAL-2  858473                CARRERA DE ARQUITECTURA   \n",
       "...            ...     ...                                    ...   \n",
       "489732  COL-GRAL-3  914491              CARRERA DE ARTES VISUALES   \n",
       "489733  COL-GRAL-3  747839              CARRERA DE ARTES VISUALES   \n",
       "489734  COL-GRAL-0  522997              CARRERA DE ARTES VISUALES   \n",
       "489735  COL-GRAL-2  743895  CARRERA DE RELACIONES INTERNACIONALES   \n",
       "489736  COL-GRAL-0  841120       MAESTRÍA EN ECONOMÍA DE LA SALUD   \n",
       "\n",
       "                                               Facultad  \\\n",
       "0                                 arquitectura y diseño   \n",
       "1                                 arquitectura y diseño   \n",
       "2                                 arquitectura y diseño   \n",
       "3                                 arquitectura y diseño   \n",
       "4                                 arquitectura y diseño   \n",
       "...                                                 ...   \n",
       "489732                                            artes   \n",
       "489733                                            artes   \n",
       "489734                                            artes   \n",
       "489735  ciencias políticas y relaciones internacionales   \n",
       "489736            ciencias económicas y administrativas   \n",
       "\n",
       "                                       IDUsuario  Year Signatura    TipoItem  \\\n",
       "0       c361c772cd0220bb16dcfb2ad803e4903334ab94  2019       720       LIBRO   \n",
       "1       c361c772cd0220bb16dcfb2ad803e4903334ab94  2019       720       LIBRO   \n",
       "2       87b0e5a61ed712ddfaf5d478ad68c87c825997e9  2019       540       LIBRO   \n",
       "3       87b0e5a61ed712ddfaf5d478ad68c87c825997e9  2019       512       LIBRO   \n",
       "4       afe8c17ba351d274fc5671978918f0c93032d88f  2019       712       LIBRO   \n",
       "...                                          ...   ...       ...         ...   \n",
       "489732  7544d4d6cf0b97aa221bcefdb69d3c8be2b4e2d4  2018       370       LIBRO   \n",
       "489733  7544d4d6cf0b97aa221bcefdb69d3c8be2b4e2d4  2018       370       LIBRO   \n",
       "489734  7544d4d6cf0b97aa221bcefdb69d3c8be2b4e2d4  2018       809       LIBRO   \n",
       "489735  9203547282e98eb313fa78461c3530828f04bb4b  2018       658       LIBRO   \n",
       "489736  052322d5b8657f7aac756808fe724ea96c272882  2018       833  LITERATURA   \n",
       "\n",
       "                                   Autor  \\\n",
       "0          Arango Cardinal, Silvia 1948-   \n",
       "1          Arango Cardinal, Silvia 1948-   \n",
       "2                         Chang, Raymond   \n",
       "3                     Baldor, J. Aurelio   \n",
       "4       Martínez de Pisón, Eduardo 1937-   \n",
       "...                                  ...   \n",
       "489732                 Eisner, Elliot W.   \n",
       "489733               Chomsky, Noam 1928-   \n",
       "489734          Hauser, Arnold 1892-1978   \n",
       "489735                              None   \n",
       "489736           Zweig, Stefan 1881-1942   \n",
       "\n",
       "                                                   Titulo  AnioPublicacion  \\\n",
       "0       Ciudad y arquitectura seis generaciones que co...           2012.0   \n",
       "1       Historia de la arquitectura en Colombia Silvia...           1993.0   \n",
       "2       Química Raymond Chang ; revisión técnica Rosa ...           2010.0   \n",
       "3       Álgebra con gráficos y 6523 ejercicios y probl...           2009.0   \n",
       "4       Miradas sobre el paisaje Eduardo Martínez de P...           2009.0   \n",
       "...                                                   ...              ...   \n",
       "489732  La escuela que necesitamos ensayos personales ...           2002.0   \n",
       "489733  La (des) educación Noam Chomsky ; edición e in...           2007.0   \n",
       "489734  Historia social de la literatura y el arte Arn...           1998.0   \n",
       "489735  GMAT premier program the staff of kaplan test ...           2007.0   \n",
       "489736  Noche fantástica Stefan Zweig ; traducción de ...           2009.0   \n",
       "\n",
       "       DeweyEspecifico                                          TemaDewey  \\\n",
       "0               720.98                       Arquitectura latinoamericana   \n",
       "1             720.9861                            Arquitectura colombiana   \n",
       "2                  540                                            Química   \n",
       "3                  512                                            Álgebra   \n",
       "4                  712                           Arquitectura del paisaje   \n",
       "...                ...                                                ...   \n",
       "489732           370.1                          Filosofía de la educación   \n",
       "489733           370.1                          Filosofía de la educación   \n",
       "489734             809             Literatura europea|xHistoria y crítica   \n",
       "489735        658.0076  Examen de admisión para graduados en administr...   \n",
       "489736             833                              Novela suiza (Alemán)   \n",
       "\n",
       "                                                  Temas  \\\n",
       "0                   [arquitectur, histori, amer, latin]   \n",
       "1             [arquitectur, colonial, histori, colombi]   \n",
       "2                                              [quimic]   \n",
       "3                                              [algebr]   \n",
       "4                                 [arquitectur, paisaj]   \n",
       "...                                                 ...   \n",
       "489732                            [filosofi, educacion]   \n",
       "489733                            [filosofi, educacion]   \n",
       "489734                                  [arte, histori]   \n",
       "489735  [exam, admision, gradu, administracion, empres]   \n",
       "489736                                [cuent, austriac]   \n",
       "\n",
       "                                            Union  \n",
       "0                  arquitectur histori amer latin  \n",
       "1            arquitectur colonial histori colombi  \n",
       "2                                          quimic  \n",
       "3                                          algebr  \n",
       "4                              arquitectur paisaj  \n",
       "...                                           ...  \n",
       "489732                         filosofi educacion  \n",
       "489733                         filosofi educacion  \n",
       "489734                               arte histori  \n",
       "489735  exam admision gradu administracion empres  \n",
       "489736                             cuent austriac  \n",
       "\n",
       "[489474 rows x 20 columns]"
      ]
     },
     "execution_count": 39,
     "metadata": {},
     "output_type": "execute_result"
    }
   ],
   "source": [
    "df_prestamos"
   ]
  },
  {
   "cell_type": "code",
   "execution_count": 5,
   "metadata": {
    "gather": {
     "logged": 1633393369153
    },
    "jupyter": {
     "outputs_hidden": false,
     "source_hidden": false
    },
    "nteract": {
     "transient": {
      "deleting": false
     }
    }
   },
   "outputs": [],
   "source": [
    "# Dataframe de datos de material\n",
    "df_temas = pd.read_json(basePath + 'a2wops7yxdjd2ea/Libros.json?dl=1')"
   ]
  },
  {
   "cell_type": "code",
   "execution_count": 15,
   "metadata": {
    "gather": {
     "logged": 1633393912331
    },
    "jupyter": {
     "outputs_hidden": false,
     "source_hidden": false
    },
    "nteract": {
     "transient": {
      "deleting": false
     }
    }
   },
   "outputs": [],
   "source": [
    "# Dataframe de pesos por los temas de cada cluster6\n",
    "df_pesos_cluster_temas = pd.read_json(basePath + 'nbz30whibx2r67s/pesos_cluster_temas.json?dl=1')"
   ]
  },
  {
   "cell_type": "code",
   "execution_count": 16,
   "metadata": {
    "gather": {
     "logged": 1633393915154
    },
    "jupyter": {
     "outputs_hidden": false,
     "source_hidden": false
    },
    "nteract": {
     "transient": {
      "deleting": false
     }
    }
   },
   "outputs": [],
   "source": [
    "# Dataframe de pesos por los deweys de cada cluster\n",
    "df_pesos_cluster_deweys = pd.read_json(basePath + 'f5ixzg087pd8gca/pesos_cluster_deweys.json?dl=1')"
   ]
  },
  {
   "cell_type": "markdown",
   "metadata": {
    "nteract": {
     "transient": {
      "deleting": false
     }
    }
   },
   "source": [
    "# Funciones auxiliares"
   ]
  },
  {
   "cell_type": "code",
   "execution_count": 40,
   "metadata": {
    "gather": {
     "logged": 1633394662259
    },
    "jupyter": {
     "outputs_hidden": false,
     "source_hidden": false
    },
    "nteract": {
     "transient": {
      "deleting": false
     }
    }
   },
   "outputs": [],
   "source": [
    "#Para obtener el nombre de un material a partir del título\n",
    "def itemIdToMaterial(id):\n",
    "    return df_prestamos.loc[df_prestamos['Llave'] == id]['Titulo'].unique()"
   ]
  },
  {
   "cell_type": "code",
   "execution_count": 41,
   "metadata": {
    "gather": {
     "logged": 1633394662597
    },
    "jupyter": {
     "outputs_hidden": false,
     "source_hidden": false
    },
    "nteract": {
     "transient": {
      "deleting": false
     }
    }
   },
   "outputs": [],
   "source": [
    "def itemIdToDewey(id):\n",
    "    item = (df_prestamos.loc[df_prestamos['Llave'] == id]['Dewey'].unique())\n",
    "    if len(item) == 0:\n",
    "        return  (df_prestamos.loc[df_prestamos['Llave'] == str(id)]['Dewey'].unique())[0]\n",
    "    else:\n",
    "        return item[0]"
   ]
  },
  {
   "cell_type": "code",
   "execution_count": 42,
   "metadata": {
    "gather": {
     "logged": 1633394663907
    },
    "jupyter": {
     "outputs_hidden": false,
     "source_hidden": false
    },
    "nteract": {
     "transient": {
      "deleting": false
     }
    }
   },
   "outputs": [],
   "source": [
    "def itemIdToThemes(id):\n",
    "    tematicas = df_temas.loc[df_temas['Llaves'] == str(id)]['Tema 670'].values\n",
    "    if len(tematicas) == 0:\n",
    "        return []\n",
    "    else:\n",
    "        return tematicas"
   ]
  },
  {
   "cell_type": "code",
   "execution_count": 43,
   "metadata": {
    "gather": {
     "logged": 1633394664416
    },
    "jupyter": {
     "outputs_hidden": false,
     "source_hidden": false
    },
    "nteract": {
     "transient": {
      "deleting": false
     }
    }
   },
   "outputs": [],
   "source": [
    "def generateClusterInfo(cluster_eval):\n",
    "    dfP = df_pesos_cluster_temas.copy()\n",
    "    user_p = dfP.loc[dfP['cluster'] == cluster_eval]\n",
    "    tematicas =[]\n",
    "    for llave in user_p['Llaves'].unique():\n",
    "        tematicas.append(itemIdToThemes((llave)))\n",
    "\n",
    "    user_p['Tematicas'] = tematicas\n",
    "    display(user_p)\n",
    "    deweys = ((dfP.loc[dfP['cluster'] == cluster_eval]['Dewey'].unique()))\n",
    "    print((dfP.loc[dfP['cluster'] == cluster_eval]['Dewey'].unique()))\n",
    "\n",
    "    tematicas = []\n",
    "    for tems in user_p['Tematicas']:\n",
    "        for tema in tems:\n",
    "            for temasub in tema:\n",
    "                if temasub in tematicas:\n",
    "                    continue\n",
    "                else:\n",
    "                    tematicas.append(temasub)\n",
    "\n",
    "    return user_p, deweys, set(tematicas)"
   ]
  },
  {
   "cell_type": "code",
   "execution_count": 44,
   "metadata": {
    "gather": {
     "logged": 1633394665439
    },
    "jupyter": {
     "outputs_hidden": false,
     "source_hidden": false
    },
    "nteract": {
     "transient": {
      "deleting": false
     }
    }
   },
   "outputs": [],
   "source": [
    "def generateRecsInfopreds(preds):\n",
    "    recs = preds\n",
    "    data_recs_asr = []\n",
    "    for ids in recs:\n",
    "        data_recs_asr.append({'Titulo':itemIdToMaterial(ids), \n",
    "                         #'Rating':ratings[1], \n",
    "                          'Dewey':itemIdToDewey(ids), \n",
    "                         'Tematicas':itemIdToThemes(ids),\n",
    "                          'Llave': ids})\n",
    "\n",
    "    df_recs_asr = pd.DataFrame(data_recs_asr)\n",
    "    display(df_recs_asr)\n",
    "    deweys = print((df_recs_asr['Dewey'].unique()))\n",
    "    print((df_recs_asr['Dewey'].unique()))\n",
    "\n",
    "    tematicas = []\n",
    "    for tems in df_recs_asr['Tematicas']:\n",
    "        for tema in tems:\n",
    "            for temasub in tema:\n",
    "                if temasub in tematicas:\n",
    "                    continue\n",
    "                else:\n",
    "                    tematicas.append(temasub)\n",
    "\n",
    "    return df_recs_asr, deweys, set(tematicas)"
   ]
  },
  {
   "cell_type": "code",
   "execution_count": 45,
   "metadata": {
    "gather": {
     "logged": 1633394667262
    },
    "jupyter": {
     "outputs_hidden": false,
     "source_hidden": false
    },
    "nteract": {
     "transient": {
      "deleting": false
     }
    }
   },
   "outputs": [],
   "source": [
    "# Compara las tematicas de los ítems recomendados con respecto a los prestamos que ha realizado el cluster\n",
    "def compare_recs(setRecs, setPrest):\n",
    "    difference = setRecs - setPrest\n",
    "    intersection = setRecs & setPrest\n",
    "    print(\"Diferencia: \", difference)\n",
    "    print(\"Intersección: \", intersection)\n",
    "    return difference, intersection"
   ]
  },
  {
   "cell_type": "code",
   "execution_count": 23,
   "metadata": {
    "gather": {
     "logged": 1633393923247
    },
    "jupyter": {
     "outputs_hidden": false,
     "source_hidden": false
    },
    "nteract": {
     "transient": {
      "deleting": false
     }
    }
   },
   "outputs": [
    {
     "name": "stderr",
     "output_type": "stream",
     "text": [
      "/anaconda/envs/reco_gpu/lib/python3.7/site-packages/ipykernel_launcher.py:8: SettingWithCopyWarning: \n",
      "A value is trying to be set on a copy of a slice from a DataFrame.\n",
      "Try using .loc[row_indexer,col_indexer] = value instead\n",
      "\n",
      "See the caveats in the documentation: https://pandas.pydata.org/pandas-docs/stable/user_guide/indexing.html#returning-a-view-versus-a-copy\n",
      "  \n"
     ]
    },
    {
     "data": {
      "text/html": [
       "<div>\n",
       "<style scoped>\n",
       "    .dataframe tbody tr th:only-of-type {\n",
       "        vertical-align: middle;\n",
       "    }\n",
       "\n",
       "    .dataframe tbody tr th {\n",
       "        vertical-align: top;\n",
       "    }\n",
       "\n",
       "    .dataframe thead th {\n",
       "        text-align: right;\n",
       "    }\n",
       "</style>\n",
       "<table border=\"1\" class=\"dataframe\">\n",
       "  <thead>\n",
       "    <tr style=\"text-align: right;\">\n",
       "      <th></th>\n",
       "      <th>Llaves</th>\n",
       "      <th>cluster</th>\n",
       "      <th>Dewey</th>\n",
       "      <th>Peso del prestamos</th>\n",
       "      <th>timestamp</th>\n",
       "      <th>Tematicas</th>\n",
       "    </tr>\n",
       "  </thead>\n",
       "  <tbody>\n",
       "    <tr>\n",
       "      <th>1692</th>\n",
       "      <td>255776</td>\n",
       "      <td>92</td>\n",
       "      <td>190</td>\n",
       "      <td>0.250</td>\n",
       "      <td>2018-08-03</td>\n",
       "      <td>[]</td>\n",
       "    </tr>\n",
       "    <tr>\n",
       "      <th>1695</th>\n",
       "      <td>255779</td>\n",
       "      <td>92</td>\n",
       "      <td>190</td>\n",
       "      <td>0.250</td>\n",
       "      <td>2019-03-19</td>\n",
       "      <td>[[filosofía, francés]]</td>\n",
       "    </tr>\n",
       "    <tr>\n",
       "      <th>1701</th>\n",
       "      <td>255783</td>\n",
       "      <td>92</td>\n",
       "      <td>800</td>\n",
       "      <td>0.250</td>\n",
       "      <td>2019-02-13</td>\n",
       "      <td>[[literatura, moral]]</td>\n",
       "    </tr>\n",
       "    <tr>\n",
       "      <th>1850</th>\n",
       "      <td>256000</td>\n",
       "      <td>92</td>\n",
       "      <td>190</td>\n",
       "      <td>0.125</td>\n",
       "      <td>2019-05-22</td>\n",
       "      <td>[[filosofía, alemán], [filosofía, alemán]]</td>\n",
       "    </tr>\n",
       "    <tr>\n",
       "      <th>1864</th>\n",
       "      <td>256034</td>\n",
       "      <td>92</td>\n",
       "      <td>130</td>\n",
       "      <td>0.125</td>\n",
       "      <td>2018-11-08</td>\n",
       "      <td>[]</td>\n",
       "    </tr>\n",
       "    <tr>\n",
       "      <th>...</th>\n",
       "      <td>...</td>\n",
       "      <td>...</td>\n",
       "      <td>...</td>\n",
       "      <td>...</td>\n",
       "      <td>...</td>\n",
       "      <td>...</td>\n",
       "    </tr>\n",
       "    <tr>\n",
       "      <th>179612</th>\n",
       "      <td>885340</td>\n",
       "      <td>92</td>\n",
       "      <td>840</td>\n",
       "      <td>1.000</td>\n",
       "      <td>2019-11-19</td>\n",
       "      <td>[[poesía, francés]]</td>\n",
       "    </tr>\n",
       "    <tr>\n",
       "      <th>179635</th>\n",
       "      <td>885617</td>\n",
       "      <td>92</td>\n",
       "      <td>840</td>\n",
       "      <td>0.500</td>\n",
       "      <td>2019-01-21</td>\n",
       "      <td>[[cuento, francés]]</td>\n",
       "    </tr>\n",
       "    <tr>\n",
       "      <th>182378</th>\n",
       "      <td>908913</td>\n",
       "      <td>92</td>\n",
       "      <td>270</td>\n",
       "      <td>0.250</td>\n",
       "      <td>2019-01-21</td>\n",
       "      <td>[[cristianismo, historia]]</td>\n",
       "    </tr>\n",
       "    <tr>\n",
       "      <th>183156</th>\n",
       "      <td>915537</td>\n",
       "      <td>92</td>\n",
       "      <td>110</td>\n",
       "      <td>0.750</td>\n",
       "      <td>2019-02-06</td>\n",
       "      <td>[[filosofía, naturaleza]]</td>\n",
       "    </tr>\n",
       "    <tr>\n",
       "      <th>184382</th>\n",
       "      <td>922339</td>\n",
       "      <td>92</td>\n",
       "      <td>190</td>\n",
       "      <td>0.750</td>\n",
       "      <td>2019-03-25</td>\n",
       "      <td>[[filosofía, francés]]</td>\n",
       "    </tr>\n",
       "  </tbody>\n",
       "</table>\n",
       "<p>364 rows × 6 columns</p>\n",
       "</div>"
      ],
      "text/plain": [
       "        Llaves  cluster Dewey  Peso del prestamos  timestamp  \\\n",
       "1692    255776       92   190               0.250 2018-08-03   \n",
       "1695    255779       92   190               0.250 2019-03-19   \n",
       "1701    255783       92   800               0.250 2019-02-13   \n",
       "1850    256000       92   190               0.125 2019-05-22   \n",
       "1864    256034       92   130               0.125 2018-11-08   \n",
       "...        ...      ...   ...                 ...        ...   \n",
       "179612  885340       92   840               1.000 2019-11-19   \n",
       "179635  885617       92   840               0.500 2019-01-21   \n",
       "182378  908913       92   270               0.250 2019-01-21   \n",
       "183156  915537       92   110               0.750 2019-02-06   \n",
       "184382  922339       92   190               0.750 2019-03-25   \n",
       "\n",
       "                                         Tematicas  \n",
       "1692                                            []  \n",
       "1695                        [[filosofía, francés]]  \n",
       "1701                         [[literatura, moral]]  \n",
       "1850    [[filosofía, alemán], [filosofía, alemán]]  \n",
       "1864                                            []  \n",
       "...                                            ...  \n",
       "179612                         [[poesía, francés]]  \n",
       "179635                         [[cuento, francés]]  \n",
       "182378                  [[cristianismo, historia]]  \n",
       "183156                   [[filosofía, naturaleza]]  \n",
       "184382                      [[filosofía, francés]]  \n",
       "\n",
       "[364 rows x 6 columns]"
      ]
     },
     "metadata": {},
     "output_type": "display_data"
    },
    {
     "name": "stdout",
     "output_type": "stream",
     "text": [
      "['190' '800' '130' '880' '740' '110' '140' '180' '840' '260' '710' '810'\n",
      " '720' '860' '330' '920' '400' '750' '150' '890' '370' '820' '300' '320'\n",
      " '780' '170' '520' '590' '20' '500' '120' '830' '0' '460' 'Video' '700'\n",
      " '570' '900' '580' '850' '440' '270' '340' '610' '980']\n"
     ]
    }
   ],
   "source": [
    "df_info_clus, df_clus_deweys, df_clus_tems = generateClusterInfo(CLUSTER_EVAL)"
   ]
  },
  {
   "cell_type": "markdown",
   "metadata": {
    "nteract": {
     "transient": {
      "deleting": false
     }
    }
   },
   "source": [
    "# Modelos"
   ]
  },
  {
   "cell_type": "markdown",
   "metadata": {
    "nteract": {
     "transient": {
      "deleting": false
     }
    }
   },
   "source": [
    "## SAR"
   ]
  },
  {
   "cell_type": "code",
   "execution_count": 24,
   "metadata": {
    "gather": {
     "logged": 1633393934347
    },
    "jupyter": {
     "outputs_hidden": false,
     "source_hidden": false
    },
    "nteract": {
     "transient": {
      "deleting": false
     }
    }
   },
   "outputs": [],
   "source": [
    "sar_model_path = basePath + \"5brcaex6fdqs3yc/sar_predictor_temas_100k_10011910.pkl?dl=1\""
   ]
  },
  {
   "cell_type": "code",
   "execution_count": 35,
   "metadata": {
    "gather": {
     "logged": 1633394271288
    },
    "jupyter": {
     "outputs_hidden": false,
     "source_hidden": false
    },
    "nteract": {
     "transient": {
      "deleting": false
     }
    }
   },
   "outputs": [
    {
     "name": "stderr",
     "output_type": "stream",
     "text": [
      "/anaconda/envs/reco_gpu/lib/python3.7/site-packages/papermill/iorw.py:50: FutureWarning: pyarrow.HadoopFileSystem is deprecated as of 2.0.0, please use pyarrow.fs.HadoopFileSystem instead.\n",
      "  from pyarrow import HadoopFileSystem\n"
     ]
    }
   ],
   "source": [
    "with gzip.open(urllib.request.urlopen(sar_model_path), 'rb') as f:\n",
    "    p = pickle.Unpickler(f)\n",
    "    sar_predictor = p.load()"
   ]
  },
  {
   "cell_type": "code",
   "execution_count": 37,
   "metadata": {
    "gather": {
     "logged": 1633394532405
    },
    "jupyter": {
     "outputs_hidden": false,
     "source_hidden": false
    },
    "nteract": {
     "transient": {
      "deleting": false
     }
    }
   },
   "outputs": [],
   "source": [
    "sar_preds = sar_predictor.predict_for_cluster(cluster=CLUSTER_EVAL)"
   ]
  },
  {
   "cell_type": "code",
   "execution_count": 46,
   "metadata": {
    "gather": {
     "logged": 1633394672213
    },
    "jupyter": {
     "outputs_hidden": false,
     "source_hidden": false
    },
    "nteract": {
     "transient": {
      "deleting": false
     }
    }
   },
   "outputs": [
    {
     "data": {
      "text/html": [
       "<div>\n",
       "<style scoped>\n",
       "    .dataframe tbody tr th:only-of-type {\n",
       "        vertical-align: middle;\n",
       "    }\n",
       "\n",
       "    .dataframe tbody tr th {\n",
       "        vertical-align: top;\n",
       "    }\n",
       "\n",
       "    .dataframe thead th {\n",
       "        text-align: right;\n",
       "    }\n",
       "</style>\n",
       "<table border=\"1\" class=\"dataframe\">\n",
       "  <thead>\n",
       "    <tr style=\"text-align: right;\">\n",
       "      <th></th>\n",
       "      <th>Titulo</th>\n",
       "      <th>Dewey</th>\n",
       "      <th>Tematicas</th>\n",
       "      <th>Llave</th>\n",
       "    </tr>\n",
       "  </thead>\n",
       "  <tbody>\n",
       "    <tr>\n",
       "      <th>0</th>\n",
       "      <td>[Entre nosotros ensayos para pensar en otro Em...</td>\n",
       "      <td>190</td>\n",
       "      <td>[[filosofía, francés]]</td>\n",
       "      <td>341300</td>\n",
       "    </tr>\n",
       "    <tr>\n",
       "      <th>1</th>\n",
       "      <td>[La filosofía de Martín Heidegger Alfonso de W...</td>\n",
       "      <td>190</td>\n",
       "      <td>[[filosofía, alemán]]</td>\n",
       "      <td>271907</td>\n",
       "    </tr>\n",
       "    <tr>\n",
       "      <th>2</th>\n",
       "      <td>[Deleuze, Whitehead, Bergson rhizomatic connec...</td>\n",
       "      <td>190</td>\n",
       "      <td>[[filosofía, francés]]</td>\n",
       "      <td>795173</td>\n",
       "    </tr>\n",
       "    <tr>\n",
       "      <th>3</th>\n",
       "      <td>[Deshoras Julio Cortázar]</td>\n",
       "      <td>860</td>\n",
       "      <td>[[cuento, argentino]]</td>\n",
       "      <td>678233</td>\n",
       "    </tr>\n",
       "    <tr>\n",
       "      <th>4</th>\n",
       "      <td>[Rizoma introducción Gilles Deleuze y Pierre F...</td>\n",
       "      <td>190</td>\n",
       "      <td>[[filosofía, francés]]</td>\n",
       "      <td>341323</td>\n",
       "    </tr>\n",
       "    <tr>\n",
       "      <th>5</th>\n",
       "      <td>[Memorias del subsuelo Fédor Mikhailovitch Dos...</td>\n",
       "      <td>890</td>\n",
       "      <td>[[novela, ruso]]</td>\n",
       "      <td>725775</td>\n",
       "    </tr>\n",
       "    <tr>\n",
       "      <th>6</th>\n",
       "      <td>[Compendio de psicología William James]</td>\n",
       "      <td>150</td>\n",
       "      <td>[[psicología]]</td>\n",
       "      <td>330489</td>\n",
       "    </tr>\n",
       "    <tr>\n",
       "      <th>7</th>\n",
       "      <td>[Obras filosoficas Discurso del metodo, Tratad...</td>\n",
       "      <td>190</td>\n",
       "      <td>[[filosofía, francés]]</td>\n",
       "      <td>272620</td>\n",
       "    </tr>\n",
       "    <tr>\n",
       "      <th>8</th>\n",
       "      <td>[Gilles Deleuze Claire Colebrook]</td>\n",
       "      <td>190</td>\n",
       "      <td>[[filosofía, francés]]</td>\n",
       "      <td>797150</td>\n",
       "    </tr>\n",
       "    <tr>\n",
       "      <th>9</th>\n",
       "      <td>[El multiculturalismo y \"la política del recon...</td>\n",
       "      <td>300</td>\n",
       "      <td>[[multiculturalismo]]</td>\n",
       "      <td>347754</td>\n",
       "    </tr>\n",
       "  </tbody>\n",
       "</table>\n",
       "</div>"
      ],
      "text/plain": [
       "                                              Titulo Dewey  \\\n",
       "0  [Entre nosotros ensayos para pensar en otro Em...   190   \n",
       "1  [La filosofía de Martín Heidegger Alfonso de W...   190   \n",
       "2  [Deleuze, Whitehead, Bergson rhizomatic connec...   190   \n",
       "3                          [Deshoras Julio Cortázar]   860   \n",
       "4  [Rizoma introducción Gilles Deleuze y Pierre F...   190   \n",
       "5  [Memorias del subsuelo Fédor Mikhailovitch Dos...   890   \n",
       "6            [Compendio de psicología William James]   150   \n",
       "7  [Obras filosoficas Discurso del metodo, Tratad...   190   \n",
       "8                  [Gilles Deleuze Claire Colebrook]   190   \n",
       "9  [El multiculturalismo y \"la política del recon...   300   \n",
       "\n",
       "                Tematicas   Llave  \n",
       "0  [[filosofía, francés]]  341300  \n",
       "1   [[filosofía, alemán]]  271907  \n",
       "2  [[filosofía, francés]]  795173  \n",
       "3   [[cuento, argentino]]  678233  \n",
       "4  [[filosofía, francés]]  341323  \n",
       "5        [[novela, ruso]]  725775  \n",
       "6          [[psicología]]  330489  \n",
       "7  [[filosofía, francés]]  272620  \n",
       "8  [[filosofía, francés]]  797150  \n",
       "9   [[multiculturalismo]]  347754  "
      ]
     },
     "metadata": {},
     "output_type": "display_data"
    },
    {
     "name": "stdout",
     "output_type": "stream",
     "text": [
      "['190' '860' '890' '150' '300']\n",
      "['190' '860' '890' '150' '300']\n"
     ]
    }
   ],
   "source": [
    "df_info_pred_sar, df_pred_sar_deweys, df_pred_sar_tems = generateRecsInfopreds(sar_preds)"
   ]
  },
  {
   "cell_type": "code",
   "execution_count": 47,
   "metadata": {
    "gather": {
     "logged": 1633394678300
    },
    "jupyter": {
     "outputs_hidden": false,
     "source_hidden": false
    },
    "nteract": {
     "transient": {
      "deleting": false
     }
    }
   },
   "outputs": [
    {
     "name": "stdout",
     "output_type": "stream",
     "text": [
      "Diferencia:  set()\n",
      "Intersección:  {'alemán', 'multiculturalismo', 'psicología', 'filosofía', 'novela', 'francés', 'cuento', 'ruso', 'argentino'}\n"
     ]
    },
    {
     "data": {
      "text/plain": [
       "(set(),\n",
       " {'alemán',\n",
       "  'argentino',\n",
       "  'cuento',\n",
       "  'filosofía',\n",
       "  'francés',\n",
       "  'multiculturalismo',\n",
       "  'novela',\n",
       "  'psicología',\n",
       "  'ruso'})"
      ]
     },
     "execution_count": 47,
     "metadata": {},
     "output_type": "execute_result"
    }
   ],
   "source": [
    "compare_recs(df_pred_sar_tems, df_clus_tems)"
   ]
  },
  {
   "cell_type": "markdown",
   "metadata": {
    "nteract": {
     "transient": {
      "deleting": false
     }
    }
   },
   "source": [
    "## Content Based"
   ]
  },
  {
   "cell_type": "code",
   "execution_count": 53,
   "metadata": {
    "gather": {
     "logged": 1633395398935
    },
    "jupyter": {
     "outputs_hidden": false,
     "source_hidden": false
    },
    "nteract": {
     "transient": {
      "deleting": false
     }
    }
   },
   "outputs": [],
   "source": [
    "content_model_path = basePath + \"jejvttr9i0xfl2w/content_predictor_temas_60k_10012110.pkl?dl=1\""
   ]
  },
  {
   "cell_type": "code",
   "execution_count": 54,
   "metadata": {
    "gather": {
     "logged": 1633395427465
    },
    "jupyter": {
     "outputs_hidden": false,
     "source_hidden": false
    },
    "nteract": {
     "transient": {
      "deleting": false
     }
    }
   },
   "outputs": [],
   "source": [
    "with gzip.open(urllib.request.urlopen(content_model_path), 'rb') as f:\n",
    "    p = pickle.Unpickler(f)\n",
    "    content_predictor = p.load()"
   ]
  },
  {
   "cell_type": "code",
   "execution_count": 55,
   "metadata": {
    "gather": {
     "logged": 1633395430664
    },
    "jupyter": {
     "outputs_hidden": false,
     "source_hidden": false
    },
    "nteract": {
     "transient": {
      "deleting": false
     }
    }
   },
   "outputs": [
    {
     "name": "stdout",
     "output_type": "stream",
     "text": [
      "1\n",
      "\n",
      "Usando el recomendador:  ContentKNN\n",
      "Computing recommendations...\n"
     ]
    }
   ],
   "source": [
    "content_preds = content_predictor.predict_for_cluster(cluster=CLUSTER_EVAL)"
   ]
  },
  {
   "cell_type": "code",
   "execution_count": 56,
   "metadata": {
    "gather": {
     "logged": 1633395431351
    },
    "jupyter": {
     "outputs_hidden": false,
     "source_hidden": false
    },
    "nteract": {
     "transient": {
      "deleting": false
     }
    }
   },
   "outputs": [
    {
     "data": {
      "text/html": [
       "<div>\n",
       "<style scoped>\n",
       "    .dataframe tbody tr th:only-of-type {\n",
       "        vertical-align: middle;\n",
       "    }\n",
       "\n",
       "    .dataframe tbody tr th {\n",
       "        vertical-align: top;\n",
       "    }\n",
       "\n",
       "    .dataframe thead th {\n",
       "        text-align: right;\n",
       "    }\n",
       "</style>\n",
       "<table border=\"1\" class=\"dataframe\">\n",
       "  <thead>\n",
       "    <tr style=\"text-align: right;\">\n",
       "      <th></th>\n",
       "      <th>Titulo</th>\n",
       "      <th>Dewey</th>\n",
       "      <th>Tematicas</th>\n",
       "      <th>Llave</th>\n",
       "    </tr>\n",
       "  </thead>\n",
       "  <tbody>\n",
       "    <tr>\n",
       "      <th>0</th>\n",
       "      <td>[La situación en el mundo un informe del World...</td>\n",
       "      <td>330</td>\n",
       "      <td>[]</td>\n",
       "      <td>342352</td>\n",
       "    </tr>\n",
       "    <tr>\n",
       "      <th>1</th>\n",
       "      <td>[Experiencia e historia escritos de juventud F...</td>\n",
       "      <td>190</td>\n",
       "      <td>[]</td>\n",
       "      <td>350219</td>\n",
       "    </tr>\n",
       "    <tr>\n",
       "      <th>2</th>\n",
       "      <td>[Historia de la lengua española Rafael Lapesa]</td>\n",
       "      <td>460</td>\n",
       "      <td>[[español, historia]]</td>\n",
       "      <td>275733</td>\n",
       "    </tr>\n",
       "    <tr>\n",
       "      <th>3</th>\n",
       "      <td>[Desmovilizar a los paramilitares en Colombia ...</td>\n",
       "      <td>320</td>\n",
       "      <td>[[paramilitar, colombia]]</td>\n",
       "      <td>677027</td>\n",
       "    </tr>\n",
       "    <tr>\n",
       "      <th>4</th>\n",
       "      <td>[Teoría de juegos una introducción no técnica ...</td>\n",
       "      <td>510</td>\n",
       "      <td>[[teoría, juegos]]</td>\n",
       "      <td>266159</td>\n",
       "    </tr>\n",
       "    <tr>\n",
       "      <th>5</th>\n",
       "      <td>[Manual de urbanidad y buenas maneras de consu...</td>\n",
       "      <td>390</td>\n",
       "      <td>[]</td>\n",
       "      <td>318787</td>\n",
       "    </tr>\n",
       "    <tr>\n",
       "      <th>6</th>\n",
       "      <td>[Les chants de maldoror Comte de Lautreamont]</td>\n",
       "      <td>840</td>\n",
       "      <td>[[poesía, francés]]</td>\n",
       "      <td>346966</td>\n",
       "    </tr>\n",
       "    <tr>\n",
       "      <th>7</th>\n",
       "      <td>[Guerras justas e injustas un razonamiento mor...</td>\n",
       "      <td>350</td>\n",
       "      <td>[[guerrar, aspecto, moral, ético]]</td>\n",
       "      <td>635877</td>\n",
       "    </tr>\n",
       "    <tr>\n",
       "      <th>8</th>\n",
       "      <td>[Clinical nutrición Victoria F. Thiele]</td>\n",
       "      <td>610</td>\n",
       "      <td>[]</td>\n",
       "      <td>264237</td>\n",
       "    </tr>\n",
       "    <tr>\n",
       "      <th>9</th>\n",
       "      <td>[Entre nosotros ensayos para pensar en otro Em...</td>\n",
       "      <td>190</td>\n",
       "      <td>[[filosofía, francés]]</td>\n",
       "      <td>341300</td>\n",
       "    </tr>\n",
       "  </tbody>\n",
       "</table>\n",
       "</div>"
      ],
      "text/plain": [
       "                                              Titulo Dewey  \\\n",
       "0  [La situación en el mundo un informe del World...   330   \n",
       "1  [Experiencia e historia escritos de juventud F...   190   \n",
       "2     [Historia de la lengua española Rafael Lapesa]   460   \n",
       "3  [Desmovilizar a los paramilitares en Colombia ...   320   \n",
       "4  [Teoría de juegos una introducción no técnica ...   510   \n",
       "5  [Manual de urbanidad y buenas maneras de consu...   390   \n",
       "6      [Les chants de maldoror Comte de Lautreamont]   840   \n",
       "7  [Guerras justas e injustas un razonamiento mor...   350   \n",
       "8            [Clinical nutrición Victoria F. Thiele]   610   \n",
       "9  [Entre nosotros ensayos para pensar en otro Em...   190   \n",
       "\n",
       "                            Tematicas   Llave  \n",
       "0                                  []  342352  \n",
       "1                                  []  350219  \n",
       "2               [[español, historia]]  275733  \n",
       "3           [[paramilitar, colombia]]  677027  \n",
       "4                  [[teoría, juegos]]  266159  \n",
       "5                                  []  318787  \n",
       "6                 [[poesía, francés]]  346966  \n",
       "7  [[guerrar, aspecto, moral, ético]]  635877  \n",
       "8                                  []  264237  \n",
       "9              [[filosofía, francés]]  341300  "
      ]
     },
     "metadata": {},
     "output_type": "display_data"
    },
    {
     "name": "stdout",
     "output_type": "stream",
     "text": [
      "['330' '190' '460' '320' '510' '390' '840' '350' '610']\n",
      "['330' '190' '460' '320' '510' '390' '840' '350' '610']\n"
     ]
    }
   ],
   "source": [
    "df_info_content_sar, df_pred_content_deweys, df_pred_content_tems = generateRecsInfopreds(content_preds)"
   ]
  },
  {
   "cell_type": "code",
   "execution_count": 57,
   "metadata": {
    "gather": {
     "logged": 1633395431449
    },
    "jupyter": {
     "outputs_hidden": false,
     "source_hidden": false
    },
    "nteract": {
     "transient": {
      "deleting": false
     }
    }
   },
   "outputs": [
    {
     "name": "stdout",
     "output_type": "stream",
     "text": [
      "Diferencia:  {'guerrar', 'paramilitar', 'juegos', 'teoría'}\n",
      "Intersección:  {'moral', 'aspecto', 'poesía', 'español', 'francés', 'historia', 'colombia', 'ético', 'filosofía'}\n"
     ]
    },
    {
     "data": {
      "text/plain": [
       "({'guerrar', 'juegos', 'paramilitar', 'teoría'},\n",
       " {'aspecto',\n",
       "  'colombia',\n",
       "  'español',\n",
       "  'filosofía',\n",
       "  'francés',\n",
       "  'historia',\n",
       "  'moral',\n",
       "  'poesía',\n",
       "  'ético'})"
      ]
     },
     "execution_count": 57,
     "metadata": {},
     "output_type": "execute_result"
    }
   ],
   "source": [
    "compare_recs(df_pred_content_tems, df_clus_tems)"
   ]
  },
  {
   "cell_type": "markdown",
   "metadata": {
    "nteract": {
     "transient": {
      "deleting": false
     }
    }
   },
   "source": [
    "## SVD"
   ]
  },
  {
   "cell_type": "code",
   "execution_count": 58,
   "metadata": {
    "gather": {
     "logged": 1633395431661
    },
    "jupyter": {
     "outputs_hidden": false,
     "source_hidden": false
    },
    "nteract": {
     "transient": {
      "deleting": false
     }
    }
   },
   "outputs": [],
   "source": [
    "svd_model_path = basePath + \"x6kp4sm4rnu7h7y/svd_predictor100k_10012010.pkl?dl=1\""
   ]
  },
  {
   "cell_type": "code",
   "execution_count": 59,
   "metadata": {
    "gather": {
     "logged": 1633395439715
    },
    "jupyter": {
     "outputs_hidden": false,
     "source_hidden": false
    },
    "nteract": {
     "transient": {
      "deleting": false
     }
    }
   },
   "outputs": [
    {
     "name": "stdout",
     "output_type": "stream",
     "text": [
      "System version: 3.7.11 (default, Jul 27 2021, 14:32:16) \n",
      "[GCC 7.5.0]\n",
      "Surprise version: 1.1.1\n"
     ]
    }
   ],
   "source": [
    "with gzip.open(urllib.request.urlopen(svd_model_path), 'rb') as f:\n",
    "    p = pickle.Unpickler(f)\n",
    "    svd_predictor = p.load()"
   ]
  },
  {
   "cell_type": "code",
   "execution_count": 60,
   "metadata": {
    "gather": {
     "logged": 1633395439802
    },
    "jupyter": {
     "outputs_hidden": false,
     "source_hidden": false
    },
    "nteract": {
     "transient": {
      "deleting": false
     }
    }
   },
   "outputs": [],
   "source": [
    "svd_preds = svd_predictor.predict_for_cluster(cluster=CLUSTER_EVAL)"
   ]
  },
  {
   "cell_type": "code",
   "execution_count": 61,
   "metadata": {
    "gather": {
     "logged": 1633395440414
    },
    "jupyter": {
     "outputs_hidden": false,
     "source_hidden": false
    },
    "nteract": {
     "transient": {
      "deleting": false
     }
    }
   },
   "outputs": [
    {
     "data": {
      "text/html": [
       "<div>\n",
       "<style scoped>\n",
       "    .dataframe tbody tr th:only-of-type {\n",
       "        vertical-align: middle;\n",
       "    }\n",
       "\n",
       "    .dataframe tbody tr th {\n",
       "        vertical-align: top;\n",
       "    }\n",
       "\n",
       "    .dataframe thead th {\n",
       "        text-align: right;\n",
       "    }\n",
       "</style>\n",
       "<table border=\"1\" class=\"dataframe\">\n",
       "  <thead>\n",
       "    <tr style=\"text-align: right;\">\n",
       "      <th></th>\n",
       "      <th>Titulo</th>\n",
       "      <th>Dewey</th>\n",
       "      <th>Tematicas</th>\n",
       "      <th>Llave</th>\n",
       "    </tr>\n",
       "  </thead>\n",
       "  <tbody>\n",
       "    <tr>\n",
       "      <th>0</th>\n",
       "      <td>[Neuroanatomía clínica Richard S. Snell]</td>\n",
       "      <td>610</td>\n",
       "      <td>[[neuroanatomía]]</td>\n",
       "      <td>801231</td>\n",
       "    </tr>\n",
       "    <tr>\n",
       "      <th>1</th>\n",
       "      <td>[Microbiología de las infecciones humanas edit...</td>\n",
       "      <td>610</td>\n",
       "      <td>[[microbiología, médico]]</td>\n",
       "      <td>725351</td>\n",
       "    </tr>\n",
       "    <tr>\n",
       "      <th>2</th>\n",
       "      <td>[El embrujo de Shanghái Juan Marsé]</td>\n",
       "      <td>860</td>\n",
       "      <td>[[novela, español]]</td>\n",
       "      <td>855109</td>\n",
       "    </tr>\n",
       "    <tr>\n",
       "      <th>3</th>\n",
       "      <td>[New critical legal thinking law and the polit...</td>\n",
       "      <td>340</td>\n",
       "      <td>[[estudio, crítico, derecho]]</td>\n",
       "      <td>861995</td>\n",
       "    </tr>\n",
       "    <tr>\n",
       "      <th>4</th>\n",
       "      <td>[Convivir con tu embarazo y con tu bebé Franci...</td>\n",
       "      <td>610</td>\n",
       "      <td>[]</td>\n",
       "      <td>833865</td>\n",
       "    </tr>\n",
       "    <tr>\n",
       "      <th>5</th>\n",
       "      <td>[La evaluación de la acción y de las políticas...</td>\n",
       "      <td>350</td>\n",
       "      <td>[[política, público, evaluación]]</td>\n",
       "      <td>718174</td>\n",
       "    </tr>\n",
       "    <tr>\n",
       "      <th>6</th>\n",
       "      <td>[Hacia una sociología del discurso pedagogico ...</td>\n",
       "      <td>370</td>\n",
       "      <td>[[sociolingüístico]]</td>\n",
       "      <td>534834</td>\n",
       "    </tr>\n",
       "    <tr>\n",
       "      <th>7</th>\n",
       "      <td>[Las claves del ensayo Fernando Vásquez Rodríg...</td>\n",
       "      <td>800</td>\n",
       "      <td>[[ensayo, técnico]]</td>\n",
       "      <td>918213</td>\n",
       "    </tr>\n",
       "    <tr>\n",
       "      <th>8</th>\n",
       "      <td>[Reglamento colombiano de construcción sismo r...</td>\n",
       "      <td>690</td>\n",
       "      <td>[[construcción, antisísmica, norma, técnico], ...</td>\n",
       "      <td>919896</td>\n",
       "    </tr>\n",
       "    <tr>\n",
       "      <th>9</th>\n",
       "      <td>[Introducción a la macroeconomía colombiana Co...</td>\n",
       "      <td>330</td>\n",
       "      <td>[[macroeconomía, colombia]]</td>\n",
       "      <td>345661</td>\n",
       "    </tr>\n",
       "  </tbody>\n",
       "</table>\n",
       "</div>"
      ],
      "text/plain": [
       "                                              Titulo Dewey  \\\n",
       "0           [Neuroanatomía clínica Richard S. Snell]   610   \n",
       "1  [Microbiología de las infecciones humanas edit...   610   \n",
       "2                [El embrujo de Shanghái Juan Marsé]   860   \n",
       "3  [New critical legal thinking law and the polit...   340   \n",
       "4  [Convivir con tu embarazo y con tu bebé Franci...   610   \n",
       "5  [La evaluación de la acción y de las políticas...   350   \n",
       "6  [Hacia una sociología del discurso pedagogico ...   370   \n",
       "7  [Las claves del ensayo Fernando Vásquez Rodríg...   800   \n",
       "8  [Reglamento colombiano de construcción sismo r...   690   \n",
       "9  [Introducción a la macroeconomía colombiana Co...   330   \n",
       "\n",
       "                                           Tematicas   Llave  \n",
       "0                                  [[neuroanatomía]]  801231  \n",
       "1                          [[microbiología, médico]]  725351  \n",
       "2                                [[novela, español]]  855109  \n",
       "3                      [[estudio, crítico, derecho]]  861995  \n",
       "4                                                 []  833865  \n",
       "5                  [[política, público, evaluación]]  718174  \n",
       "6                               [[sociolingüístico]]  534834  \n",
       "7                                [[ensayo, técnico]]  918213  \n",
       "8  [[construcción, antisísmica, norma, técnico], ...  919896  \n",
       "9                        [[macroeconomía, colombia]]  345661  "
      ]
     },
     "metadata": {},
     "output_type": "display_data"
    },
    {
     "name": "stdout",
     "output_type": "stream",
     "text": [
      "['610' '860' '340' '350' '370' '800' '690' '330']\n",
      "['610' '860' '340' '350' '370' '800' '690' '330']\n"
     ]
    }
   ],
   "source": [
    "df_info_svd_sar, df_pred_svd_deweys, df_pred_svd_tems = generateRecsInfopreds(svd_preds)"
   ]
  },
  {
   "cell_type": "code",
   "execution_count": 62,
   "metadata": {
    "gather": {
     "logged": 1633395440538
    },
    "jupyter": {
     "outputs_hidden": false,
     "source_hidden": false
    },
    "nteract": {
     "transient": {
      "deleting": false
     }
    }
   },
   "outputs": [
    {
     "name": "stdout",
     "output_type": "stream",
     "text": [
      "Diferencia:  {'evaluación', 'antisísmica', 'público', 'construcción', 'derecho', 'microbiología', 'médico', 'economía', 'macroeconomía', 'estudio', 'norma', 'neuroanatomía', 'política', 'sociolingüístico'}\n",
      "Intersección:  {'ensayo', 'español', 'novela', 'crítico', 'colombia', 'técnico', 'ética'}\n"
     ]
    },
    {
     "data": {
      "text/plain": [
       "({'antisísmica',\n",
       "  'construcción',\n",
       "  'derecho',\n",
       "  'economía',\n",
       "  'estudio',\n",
       "  'evaluación',\n",
       "  'macroeconomía',\n",
       "  'microbiología',\n",
       "  'médico',\n",
       "  'neuroanatomía',\n",
       "  'norma',\n",
       "  'política',\n",
       "  'público',\n",
       "  'sociolingüístico'},\n",
       " {'colombia', 'crítico', 'ensayo', 'español', 'novela', 'técnico', 'ética'})"
      ]
     },
     "execution_count": 62,
     "metadata": {},
     "output_type": "execute_result"
    }
   ],
   "source": [
    "compare_recs(df_pred_svd_tems, df_clus_tems)"
   ]
  },
  {
   "cell_type": "code",
   "execution_count": null,
   "metadata": {
    "jupyter": {
     "outputs_hidden": false,
     "source_hidden": false
    },
    "nteract": {
     "transient": {
      "deleting": false
     }
    }
   },
   "outputs": [],
   "source": []
  }
 ],
 "metadata": {
  "kernel_info": {
   "name": "reco_gpu"
  },
  "kernelspec": {
   "display_name": "Python (reco_base)",
   "language": "python",
   "name": "reco_base"
  },
  "language_info": {
   "codemirror_mode": {
    "name": "ipython",
    "version": 3
   },
   "file_extension": ".py",
   "mimetype": "text/x-python",
   "name": "python",
   "nbconvert_exporter": "python",
   "pygments_lexer": "ipython3",
   "version": "3.7.11"
  },
  "microsoft": {
   "host": {
    "AzureML": {
     "notebookHasBeenCompleted": true
    }
   }
  },
  "nteract": {
   "version": "nteract-front-end@1.0.0"
  }
 },
 "nbformat": 4,
 "nbformat_minor": 2
}
