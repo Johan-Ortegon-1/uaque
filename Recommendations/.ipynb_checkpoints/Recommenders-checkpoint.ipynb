{
 "cells": [
  {
   "cell_type": "code",
   "execution_count": 3,
   "id": "0927d745",
   "metadata": {},
   "outputs": [],
   "source": [
    "import pandas as pd\n",
    "import numpy as np"
   ]
  },
  {
   "cell_type": "code",
   "execution_count": 5,
   "id": "a20c7ca0",
   "metadata": {},
   "outputs": [],
   "source": [
    "# Archivo donde se calcularon los pesos para cada prestamo\n",
    "\n",
    "# Para colab\n",
    "# df_prestamos = pd.read_json('/content/drive/MyDrive/UAQUE/TABLA_JOIN.json')\n",
    "\n",
    "# Para local\n",
    "df_prestamos = pd.read_json('../data/TABLA_JOIN.json')"
   ]
  },
  {
   "cell_type": "markdown",
   "id": "8d0088c0",
   "metadata": {},
   "source": [
    "# Funcij"
   ]
  },
  {
   "cell_type": "markdown",
   "id": "de41d464",
   "metadata": {},
   "source": [
    "# SAR Clusters Temáticas"
   ]
  },
  {
   "cell_type": "markdown",
   "id": "d7dad865",
   "metadata": {},
   "source": [
    "# SAR Clusters Deweys"
   ]
  },
  {
   "cell_type": "code",
   "execution_count": null,
   "id": "7291811c",
   "metadata": {},
   "outputs": [],
   "source": []
  }
 ],
 "metadata": {
  "kernelspec": {
   "display_name": "Python 3 (ipykernel)",
   "language": "python",
   "name": "python3"
  },
  "language_info": {
   "codemirror_mode": {
    "name": "ipython",
    "version": 3
   },
   "file_extension": ".py",
   "mimetype": "text/x-python",
   "name": "python",
   "nbconvert_exporter": "python",
   "pygments_lexer": "ipython3",
   "version": "3.7.10"
  }
 },
 "nbformat": 4,
 "nbformat_minor": 5
}
