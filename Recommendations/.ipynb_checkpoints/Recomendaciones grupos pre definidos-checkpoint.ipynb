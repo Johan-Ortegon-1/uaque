{
 "cells": [
  {
   "cell_type": "markdown",
   "id": "2a12a065",
   "metadata": {
    "nteract": {
     "transient": {
      "deleting": false
     }
    }
   },
   "source": [
    "# Carga de datos"
   ]
  },
  {
   "cell_type": "code",
   "execution_count": 1,
   "id": "7b76ee7d",
   "metadata": {},
   "outputs": [],
   "source": [
    "CLUSTER_EVAL=92"
   ]
  },
  {
   "cell_type": "code",
   "execution_count": 2,
   "id": "95d2fdac",
   "metadata": {},
   "outputs": [
    {
     "name": "stdout",
     "output_type": "stream",
     "text": [
      "Requirement already satisfied: pip in /opt/anaconda3/envs/rec_base/lib/python3.7/site-packages (21.2.4)\n",
      "Requirement already satisfied: install in /opt/anaconda3/envs/rec_base/lib/python3.7/site-packages (1.3.4)\n",
      "Requirement already satisfied: cloudpickle in /opt/anaconda3/envs/rec_base/lib/python3.7/site-packages (2.0.0)\n",
      "\u001b[33mWARNING: Error parsing requirements for google-pasta: [Errno 2] No such file or directory: '/opt/anaconda3/envs/rec_base/lib/python3.7/site-packages/google_pasta-0.2.0.dist-info/METADATA'\u001b[0m\n",
      "\u001b[33mWARNING: Error parsing requirements for absl-py: [Errno 2] No such file or directory: '/opt/anaconda3/envs/rec_base/lib/python3.7/site-packages/absl_py-0.14.0.dist-info/METADATA'\u001b[0m\n"
     ]
    }
   ],
   "source": [
    "!pip install pip install cloudpickle"
   ]
  },
  {
   "cell_type": "code",
   "execution_count": 3,
   "id": "0d46633f",
   "metadata": {
    "gather": {
     "logged": 1633394861293
    },
    "jupyter": {
     "outputs_hidden": false,
     "source_hidden": false
    },
    "nteract": {
     "transient": {
      "deleting": false
     }
    }
   },
   "outputs": [],
   "source": [
    "import pandas as pd\n",
    "import numpy as np\n",
    "import gzip, pickle, pickletools\n",
    "import time\n",
    "import cloudpickle as cp\n",
    "import urllib.request"
   ]
  },
  {
   "cell_type": "code",
   "execution_count": 4,
   "id": "0179acad",
   "metadata": {
    "gather": {
     "logged": 1633393349232
    },
    "jupyter": {
     "outputs_hidden": false,
     "source_hidden": false
    },
    "nteract": {
     "transient": {
      "deleting": false
     }
    }
   },
   "outputs": [],
   "source": [
    "basePath =  'https://www.dropbox.com/s/'"
   ]
  },
  {
   "cell_type": "code",
   "execution_count": 5,
   "id": "25298dfb",
   "metadata": {
    "gather": {
     "logged": 1633393367481
    },
    "jupyter": {
     "outputs_hidden": false,
     "source_hidden": false
    },
    "nteract": {
     "transient": {
      "deleting": false
     }
    }
   },
   "outputs": [],
   "source": [
    "# Dataframe de préstamos\n",
    "basePath =  'https://www.dropbox.com/s/'\n",
    "df_prestamos = pd.read_json(basePath + 'q38zr341seq7rkf/joinTablas.json?dl=1')"
   ]
  },
  {
   "cell_type": "code",
   "execution_count": 6,
   "id": "ed9a8308",
   "metadata": {
    "gather": {
     "logged": 1633393369153
    },
    "jupyter": {
     "outputs_hidden": false,
     "source_hidden": false
    },
    "nteract": {
     "transient": {
      "deleting": false
     }
    }
   },
   "outputs": [],
   "source": [
    "# Dataframe de datos de material\n",
    "basePath =  'https://www.dropbox.com/s/'\n",
    "df_temas = pd.read_json(basePath + 'a2wops7yxdjd2ea/Libros.json?dl=1')"
   ]
  },
  {
   "cell_type": "code",
   "execution_count": 7,
   "id": "9f5b0771",
   "metadata": {
    "gather": {
     "logged": 1633393912331
    },
    "jupyter": {
     "outputs_hidden": false,
     "source_hidden": false
    },
    "nteract": {
     "transient": {
      "deleting": false
     }
    }
   },
   "outputs": [],
   "source": [
    "# Dataframe de pesos por los temas de cada cluster6\n",
    "basePath =  'https://www.dropbox.com/s/'\n",
    "df_pesos_cluster_temas = pd.read_json(basePath + 'nbz30whibx2r67s/pesos_cluster_temas.json?dl=1')"
   ]
  },
  {
   "cell_type": "code",
   "execution_count": 8,
   "id": "f838ab2f",
   "metadata": {
    "gather": {
     "logged": 1633393915154
    },
    "jupyter": {
     "outputs_hidden": false,
     "source_hidden": false
    },
    "nteract": {
     "transient": {
      "deleting": false
     }
    }
   },
   "outputs": [],
   "source": [
    "# Dataframe de pesos por los deweys de cada cluster\n",
    "basePath =  'https://www.dropbox.com/s/'\n",
    "df_pesos_cluster_deweys = pd.read_json(basePath + 'f5ixzg087pd8gca/pesos_cluster_deweys.json?dl=1')"
   ]
  },
  {
   "cell_type": "code",
   "execution_count": 46,
   "id": "7da0b323",
   "metadata": {},
   "outputs": [],
   "source": [
    "# Dataframe de pesos por los deweys de cada cluster\n",
    "basePath =  'https://www.dropbox.com/s/'\n",
    "df_pesos_cluster_carreras = pd.read_json(basePath + '4vilvuxp4svg230/pesos_cluster_carreras.json?dl=1')"
   ]
  },
  {
   "cell_type": "markdown",
   "id": "f1712b61",
   "metadata": {
    "nteract": {
     "transient": {
      "deleting": false
     }
    }
   },
   "source": [
    "# Funciones auxiliares"
   ]
  },
  {
   "cell_type": "code",
   "execution_count": 9,
   "id": "06cbb8de",
   "metadata": {
    "gather": {
     "logged": 1633394662259
    },
    "jupyter": {
     "outputs_hidden": false,
     "source_hidden": false
    },
    "nteract": {
     "transient": {
      "deleting": false
     }
    }
   },
   "outputs": [],
   "source": [
    "#Para obtener el nombre de un material a partir del título\n",
    "def itemIdToMaterial(id):\n",
    "    return df_prestamos.loc[df_prestamos['Llave'] == id]['Titulo'].unique()"
   ]
  },
  {
   "cell_type": "code",
   "execution_count": 10,
   "id": "97233980",
   "metadata": {
    "gather": {
     "logged": 1633394662597
    },
    "jupyter": {
     "outputs_hidden": false,
     "source_hidden": false
    },
    "nteract": {
     "transient": {
      "deleting": false
     }
    }
   },
   "outputs": [],
   "source": [
    "def itemIdToDewey(id):\n",
    "    item = (df_prestamos.loc[df_prestamos['Llave'] == id]['Dewey'].unique())\n",
    "    if len(item) == 0:\n",
    "        item = (df_prestamos.loc[df_prestamos['Llave'] == str(id)]['Dewey'].unique())\n",
    "        if len(item) == 0:\n",
    "            return -1\n",
    "        else:\n",
    "            return item[0]\n",
    "    else:\n",
    "        return item[0]"
   ]
  },
  {
   "cell_type": "code",
   "execution_count": 11,
   "id": "b3a0054f",
   "metadata": {
    "gather": {
     "logged": 1633394663907
    },
    "jupyter": {
     "outputs_hidden": false,
     "source_hidden": false
    },
    "nteract": {
     "transient": {
      "deleting": false
     }
    }
   },
   "outputs": [],
   "source": [
    "def itemIdToThemes(id):\n",
    "    tematicas = df_temas.loc[df_temas['Llaves'] == str(id)]['Tema 670'].values\n",
    "    if len(tematicas) == 0:\n",
    "        return []\n",
    "    else:\n",
    "        return tematicas"
   ]
  },
  {
   "cell_type": "code",
   "execution_count": 12,
   "id": "67ca7e4d",
   "metadata": {
    "gather": {
     "logged": 1633394664416
    },
    "jupyter": {
     "outputs_hidden": false,
     "source_hidden": false
    },
    "nteract": {
     "transient": {
      "deleting": false
     }
    }
   },
   "outputs": [],
   "source": [
    "def generateClusterInfo(cluster_eval):\n",
    "    dfP = df_pesos_cluster_temas.copy()\n",
    "    user_p = dfP.loc[dfP['cluster'] == cluster_eval]\n",
    "    tematicas =[]\n",
    "    for llave in user_p['Llaves'].unique():\n",
    "        tematicas.append(itemIdToThemes((llave)))\n",
    "\n",
    "    user_p['Tematicas'] = tematicas\n",
    "    display(user_p)\n",
    "    deweys = ((dfP.loc[dfP['cluster'] == cluster_eval]['Dewey'].unique()))\n",
    "    print((dfP.loc[dfP['cluster'] == cluster_eval]['Dewey'].unique()))\n",
    "\n",
    "    tematicas = []\n",
    "    for tems in user_p['Tematicas']:\n",
    "        for tema in tems:\n",
    "            for temasub in tema:\n",
    "                if temasub in tematicas:\n",
    "                    continue\n",
    "                else:\n",
    "                    tematicas.append(temasub)\n",
    "\n",
    "    return user_p, deweys, set(tematicas)"
   ]
  },
  {
   "cell_type": "code",
   "execution_count": 36,
   "id": "1b5056ca",
   "metadata": {
    "gather": {
     "logged": 1633394665439
    },
    "jupyter": {
     "outputs_hidden": false,
     "source_hidden": false
    },
    "nteract": {
     "transient": {
      "deleting": false
     }
    }
   },
   "outputs": [],
   "source": [
    "def generateRecsInfopreds(preds):\n",
    "    recs = preds\n",
    "    data_recs_asr = []\n",
    "    for ids in recs:\n",
    "        data_recs_asr.append({'Titulo':itemIdToMaterial(ids), \n",
    "                         #'Rating':ratings[1], \n",
    "                          #'Dewey':itemIdToDewey(ids), \n",
    "                         'Tematicas':itemIdToThemes(ids),\n",
    "                          'Llave': ids})\n",
    "\n",
    "    df_recs_asr = pd.DataFrame(data_recs_asr)\n",
    "    display(df_recs_asr)\n",
    "    #deweys = print((df_recs_asr['Dewey'].unique()))\n",
    "    #print((df_recs_asr['Dewey'].unique()))\n",
    "\n",
    "    tematicas = []\n",
    "    for tems in df_recs_asr['Tematicas']:\n",
    "        for tema in tems:\n",
    "            for temasub in tema:\n",
    "                if temasub in tematicas:\n",
    "                    continue\n",
    "                else:\n",
    "                    tematicas.append(temasub)\n",
    "\n",
    "    #return df_recs_asr, deweys, set(tematicas)\n",
    "    return df_recs_asr, set(tematicas)"
   ]
  },
  {
   "cell_type": "code",
   "execution_count": 14,
   "id": "054893c7",
   "metadata": {
    "gather": {
     "logged": 1633394667262
    },
    "jupyter": {
     "outputs_hidden": false,
     "source_hidden": false
    },
    "nteract": {
     "transient": {
      "deleting": false
     }
    }
   },
   "outputs": [],
   "source": [
    "# Compara las tematicas de los ítems recomendados con respecto a los prestamos que ha realizado el cluster\n",
    "def compare_recs(setRecs, setPrest):\n",
    "    difference = setRecs - setPrest\n",
    "    intersection = setRecs & setPrest\n",
    "    print(\"Diferencia: \", difference)\n",
    "    print(\"Intersección: \", intersection)\n",
    "    return difference, intersection"
   ]
  },
  {
   "cell_type": "code",
   "execution_count": 15,
   "id": "c2819d2c",
   "metadata": {
    "gather": {
     "logged": 1633393923247
    },
    "jupyter": {
     "outputs_hidden": false,
     "source_hidden": false
    },
    "nteract": {
     "transient": {
      "deleting": false
     }
    }
   },
   "outputs": [
    {
     "name": "stderr",
     "output_type": "stream",
     "text": [
      "/opt/anaconda3/envs/rec_base/lib/python3.7/site-packages/ipykernel_launcher.py:8: SettingWithCopyWarning: \n",
      "A value is trying to be set on a copy of a slice from a DataFrame.\n",
      "Try using .loc[row_indexer,col_indexer] = value instead\n",
      "\n",
      "See the caveats in the documentation: https://pandas.pydata.org/pandas-docs/stable/user_guide/indexing.html#returning-a-view-versus-a-copy\n",
      "  \n"
     ]
    },
    {
     "data": {
      "text/html": [
       "<div>\n",
       "<style scoped>\n",
       "    .dataframe tbody tr th:only-of-type {\n",
       "        vertical-align: middle;\n",
       "    }\n",
       "\n",
       "    .dataframe tbody tr th {\n",
       "        vertical-align: top;\n",
       "    }\n",
       "\n",
       "    .dataframe thead th {\n",
       "        text-align: right;\n",
       "    }\n",
       "</style>\n",
       "<table border=\"1\" class=\"dataframe\">\n",
       "  <thead>\n",
       "    <tr style=\"text-align: right;\">\n",
       "      <th></th>\n",
       "      <th>Llaves</th>\n",
       "      <th>cluster</th>\n",
       "      <th>Dewey</th>\n",
       "      <th>Peso del prestamos</th>\n",
       "      <th>timestamp</th>\n",
       "      <th>Tematicas</th>\n",
       "    </tr>\n",
       "  </thead>\n",
       "  <tbody>\n",
       "    <tr>\n",
       "      <th>1692</th>\n",
       "      <td>255776</td>\n",
       "      <td>92</td>\n",
       "      <td>190</td>\n",
       "      <td>0.250</td>\n",
       "      <td>2018-08-03</td>\n",
       "      <td>[]</td>\n",
       "    </tr>\n",
       "    <tr>\n",
       "      <th>1695</th>\n",
       "      <td>255779</td>\n",
       "      <td>92</td>\n",
       "      <td>190</td>\n",
       "      <td>0.250</td>\n",
       "      <td>2019-03-19</td>\n",
       "      <td>[[filosofía, francés]]</td>\n",
       "    </tr>\n",
       "    <tr>\n",
       "      <th>1701</th>\n",
       "      <td>255783</td>\n",
       "      <td>92</td>\n",
       "      <td>800</td>\n",
       "      <td>0.250</td>\n",
       "      <td>2019-02-13</td>\n",
       "      <td>[[literatura, moral]]</td>\n",
       "    </tr>\n",
       "    <tr>\n",
       "      <th>1850</th>\n",
       "      <td>256000</td>\n",
       "      <td>92</td>\n",
       "      <td>190</td>\n",
       "      <td>0.125</td>\n",
       "      <td>2019-05-22</td>\n",
       "      <td>[[filosofía, alemán], [filosofía, alemán]]</td>\n",
       "    </tr>\n",
       "    <tr>\n",
       "      <th>1864</th>\n",
       "      <td>256034</td>\n",
       "      <td>92</td>\n",
       "      <td>130</td>\n",
       "      <td>0.125</td>\n",
       "      <td>2018-11-08</td>\n",
       "      <td>[]</td>\n",
       "    </tr>\n",
       "    <tr>\n",
       "      <th>...</th>\n",
       "      <td>...</td>\n",
       "      <td>...</td>\n",
       "      <td>...</td>\n",
       "      <td>...</td>\n",
       "      <td>...</td>\n",
       "      <td>...</td>\n",
       "    </tr>\n",
       "    <tr>\n",
       "      <th>179612</th>\n",
       "      <td>885340</td>\n",
       "      <td>92</td>\n",
       "      <td>840</td>\n",
       "      <td>1.000</td>\n",
       "      <td>2019-11-19</td>\n",
       "      <td>[[poesía, francés]]</td>\n",
       "    </tr>\n",
       "    <tr>\n",
       "      <th>179635</th>\n",
       "      <td>885617</td>\n",
       "      <td>92</td>\n",
       "      <td>840</td>\n",
       "      <td>0.500</td>\n",
       "      <td>2019-01-21</td>\n",
       "      <td>[[cuento, francés]]</td>\n",
       "    </tr>\n",
       "    <tr>\n",
       "      <th>182378</th>\n",
       "      <td>908913</td>\n",
       "      <td>92</td>\n",
       "      <td>270</td>\n",
       "      <td>0.250</td>\n",
       "      <td>2019-01-21</td>\n",
       "      <td>[[cristianismo, historia]]</td>\n",
       "    </tr>\n",
       "    <tr>\n",
       "      <th>183156</th>\n",
       "      <td>915537</td>\n",
       "      <td>92</td>\n",
       "      <td>110</td>\n",
       "      <td>0.750</td>\n",
       "      <td>2019-02-06</td>\n",
       "      <td>[[filosofía, naturaleza]]</td>\n",
       "    </tr>\n",
       "    <tr>\n",
       "      <th>184382</th>\n",
       "      <td>922339</td>\n",
       "      <td>92</td>\n",
       "      <td>190</td>\n",
       "      <td>0.750</td>\n",
       "      <td>2019-03-25</td>\n",
       "      <td>[[filosofía, francés]]</td>\n",
       "    </tr>\n",
       "  </tbody>\n",
       "</table>\n",
       "<p>364 rows × 6 columns</p>\n",
       "</div>"
      ],
      "text/plain": [
       "        Llaves  cluster Dewey  Peso del prestamos  timestamp  \\\n",
       "1692    255776       92   190               0.250 2018-08-03   \n",
       "1695    255779       92   190               0.250 2019-03-19   \n",
       "1701    255783       92   800               0.250 2019-02-13   \n",
       "1850    256000       92   190               0.125 2019-05-22   \n",
       "1864    256034       92   130               0.125 2018-11-08   \n",
       "...        ...      ...   ...                 ...        ...   \n",
       "179612  885340       92   840               1.000 2019-11-19   \n",
       "179635  885617       92   840               0.500 2019-01-21   \n",
       "182378  908913       92   270               0.250 2019-01-21   \n",
       "183156  915537       92   110               0.750 2019-02-06   \n",
       "184382  922339       92   190               0.750 2019-03-25   \n",
       "\n",
       "                                         Tematicas  \n",
       "1692                                            []  \n",
       "1695                        [[filosofía, francés]]  \n",
       "1701                         [[literatura, moral]]  \n",
       "1850    [[filosofía, alemán], [filosofía, alemán]]  \n",
       "1864                                            []  \n",
       "...                                            ...  \n",
       "179612                         [[poesía, francés]]  \n",
       "179635                         [[cuento, francés]]  \n",
       "182378                  [[cristianismo, historia]]  \n",
       "183156                   [[filosofía, naturaleza]]  \n",
       "184382                      [[filosofía, francés]]  \n",
       "\n",
       "[364 rows x 6 columns]"
      ]
     },
     "metadata": {},
     "output_type": "display_data"
    },
    {
     "name": "stdout",
     "output_type": "stream",
     "text": [
      "['190' '800' '130' '880' '740' '110' '140' '180' '840' '260' '710' '810'\n",
      " '720' '860' '330' '920' '400' '750' '150' '890' '370' '820' '300' '320'\n",
      " '780' '170' '520' '590' '20' '500' '120' '830' '0' '460' 'Video' '700'\n",
      " '570' '900' '580' '850' '440' '270' '340' '610' '980']\n"
     ]
    }
   ],
   "source": [
    "df_info_clus, df_clus_deweys, df_clus_tems = generateClusterInfo(CLUSTER_EVAL)"
   ]
  },
  {
   "cell_type": "markdown",
   "id": "4fc27f5f",
   "metadata": {
    "nteract": {
     "transient": {
      "deleting": false
     }
    }
   },
   "source": [
    "# Modelos"
   ]
  },
  {
   "cell_type": "markdown",
   "id": "39ad13aa",
   "metadata": {
    "nteract": {
     "transient": {
      "deleting": false
     }
    }
   },
   "source": [
    "## SAR Temáticas"
   ]
  },
  {
   "cell_type": "code",
   "execution_count": 16,
   "id": "4457d5dc",
   "metadata": {
    "gather": {
     "logged": 1633393934347
    },
    "jupyter": {
     "outputs_hidden": false,
     "source_hidden": false
    },
    "nteract": {
     "transient": {
      "deleting": false
     }
    }
   },
   "outputs": [],
   "source": [
    "sar_model_path = basePath + \"5brcaex6fdqs3yc/sar_predictor_temas_100k_10011910.pkl?dl=1\""
   ]
  },
  {
   "cell_type": "code",
   "execution_count": 17,
   "id": "e3a3b51d",
   "metadata": {
    "gather": {
     "logged": 1633394271288
    },
    "jupyter": {
     "outputs_hidden": false,
     "source_hidden": false
    },
    "nteract": {
     "transient": {
      "deleting": false
     }
    }
   },
   "outputs": [
    {
     "name": "stderr",
     "output_type": "stream",
     "text": [
      "/opt/anaconda3/envs/rec_base/lib/python3.7/site-packages/papermill/iorw.py:50: FutureWarning: pyarrow.HadoopFileSystem is deprecated as of 2.0.0, please use pyarrow.fs.HadoopFileSystem instead.\n",
      "  from pyarrow import HadoopFileSystem\n"
     ]
    }
   ],
   "source": [
    "with gzip.open(urllib.request.urlopen(sar_model_path), 'rb') as f:\n",
    "    p = pickle.Unpickler(f)\n",
    "    sar_predictor = p.load()"
   ]
  },
  {
   "cell_type": "code",
   "execution_count": 18,
   "id": "113c47ed",
   "metadata": {
    "gather": {
     "logged": 1633394532405
    },
    "jupyter": {
     "outputs_hidden": false,
     "source_hidden": false
    },
    "nteract": {
     "transient": {
      "deleting": false
     }
    }
   },
   "outputs": [],
   "source": [
    "sar_preds = sar_predictor.predict_for_cluster(cluster=CLUSTER_EVAL)"
   ]
  },
  {
   "cell_type": "code",
   "execution_count": 19,
   "id": "0e3126af",
   "metadata": {
    "gather": {
     "logged": 1633394672213
    },
    "jupyter": {
     "outputs_hidden": false,
     "source_hidden": false
    },
    "nteract": {
     "transient": {
      "deleting": false
     }
    }
   },
   "outputs": [
    {
     "data": {
      "text/html": [
       "<div>\n",
       "<style scoped>\n",
       "    .dataframe tbody tr th:only-of-type {\n",
       "        vertical-align: middle;\n",
       "    }\n",
       "\n",
       "    .dataframe tbody tr th {\n",
       "        vertical-align: top;\n",
       "    }\n",
       "\n",
       "    .dataframe thead th {\n",
       "        text-align: right;\n",
       "    }\n",
       "</style>\n",
       "<table border=\"1\" class=\"dataframe\">\n",
       "  <thead>\n",
       "    <tr style=\"text-align: right;\">\n",
       "      <th></th>\n",
       "      <th>Titulo</th>\n",
       "      <th>Dewey</th>\n",
       "      <th>Tematicas</th>\n",
       "      <th>Llave</th>\n",
       "    </tr>\n",
       "  </thead>\n",
       "  <tbody>\n",
       "    <tr>\n",
       "      <th>0</th>\n",
       "      <td>[Entre nosotros ensayos para pensar en otro Em...</td>\n",
       "      <td>190</td>\n",
       "      <td>[[filosofía, francés]]</td>\n",
       "      <td>341300</td>\n",
       "    </tr>\n",
       "    <tr>\n",
       "      <th>1</th>\n",
       "      <td>[La filosofía de Martín Heidegger Alfonso de W...</td>\n",
       "      <td>190</td>\n",
       "      <td>[[filosofía, alemán]]</td>\n",
       "      <td>271907</td>\n",
       "    </tr>\n",
       "    <tr>\n",
       "      <th>2</th>\n",
       "      <td>[Deleuze, Whitehead, Bergson rhizomatic connec...</td>\n",
       "      <td>190</td>\n",
       "      <td>[[filosofía, francés]]</td>\n",
       "      <td>795173</td>\n",
       "    </tr>\n",
       "    <tr>\n",
       "      <th>3</th>\n",
       "      <td>[Deshoras Julio Cortázar]</td>\n",
       "      <td>860</td>\n",
       "      <td>[[cuento, argentino]]</td>\n",
       "      <td>678233</td>\n",
       "    </tr>\n",
       "    <tr>\n",
       "      <th>4</th>\n",
       "      <td>[Rizoma introducción Gilles Deleuze y Pierre F...</td>\n",
       "      <td>190</td>\n",
       "      <td>[[filosofía, francés]]</td>\n",
       "      <td>341323</td>\n",
       "    </tr>\n",
       "    <tr>\n",
       "      <th>5</th>\n",
       "      <td>[Memorias del subsuelo Fédor Mikhailovitch Dos...</td>\n",
       "      <td>890</td>\n",
       "      <td>[[novela, ruso]]</td>\n",
       "      <td>725775</td>\n",
       "    </tr>\n",
       "    <tr>\n",
       "      <th>6</th>\n",
       "      <td>[Compendio de psicología William James]</td>\n",
       "      <td>150</td>\n",
       "      <td>[[psicología]]</td>\n",
       "      <td>330489</td>\n",
       "    </tr>\n",
       "    <tr>\n",
       "      <th>7</th>\n",
       "      <td>[Obras filosoficas Discurso del metodo, Tratad...</td>\n",
       "      <td>190</td>\n",
       "      <td>[[filosofía, francés]]</td>\n",
       "      <td>272620</td>\n",
       "    </tr>\n",
       "    <tr>\n",
       "      <th>8</th>\n",
       "      <td>[Gilles Deleuze Claire Colebrook]</td>\n",
       "      <td>190</td>\n",
       "      <td>[[filosofía, francés]]</td>\n",
       "      <td>797150</td>\n",
       "    </tr>\n",
       "    <tr>\n",
       "      <th>9</th>\n",
       "      <td>[El multiculturalismo y \"la política del recon...</td>\n",
       "      <td>300</td>\n",
       "      <td>[[multiculturalismo]]</td>\n",
       "      <td>347754</td>\n",
       "    </tr>\n",
       "  </tbody>\n",
       "</table>\n",
       "</div>"
      ],
      "text/plain": [
       "                                              Titulo Dewey  \\\n",
       "0  [Entre nosotros ensayos para pensar en otro Em...   190   \n",
       "1  [La filosofía de Martín Heidegger Alfonso de W...   190   \n",
       "2  [Deleuze, Whitehead, Bergson rhizomatic connec...   190   \n",
       "3                          [Deshoras Julio Cortázar]   860   \n",
       "4  [Rizoma introducción Gilles Deleuze y Pierre F...   190   \n",
       "5  [Memorias del subsuelo Fédor Mikhailovitch Dos...   890   \n",
       "6            [Compendio de psicología William James]   150   \n",
       "7  [Obras filosoficas Discurso del metodo, Tratad...   190   \n",
       "8                  [Gilles Deleuze Claire Colebrook]   190   \n",
       "9  [El multiculturalismo y \"la política del recon...   300   \n",
       "\n",
       "                Tematicas   Llave  \n",
       "0  [[filosofía, francés]]  341300  \n",
       "1   [[filosofía, alemán]]  271907  \n",
       "2  [[filosofía, francés]]  795173  \n",
       "3   [[cuento, argentino]]  678233  \n",
       "4  [[filosofía, francés]]  341323  \n",
       "5        [[novela, ruso]]  725775  \n",
       "6          [[psicología]]  330489  \n",
       "7  [[filosofía, francés]]  272620  \n",
       "8  [[filosofía, francés]]  797150  \n",
       "9   [[multiculturalismo]]  347754  "
      ]
     },
     "metadata": {},
     "output_type": "display_data"
    },
    {
     "name": "stdout",
     "output_type": "stream",
     "text": [
      "['190' '860' '890' '150' '300']\n",
      "['190' '860' '890' '150' '300']\n"
     ]
    }
   ],
   "source": [
    "df_info_pred_sar, df_pred_sar_deweys, df_pred_sar_tems = generateRecsInfopreds(sar_preds)"
   ]
  },
  {
   "cell_type": "code",
   "execution_count": 20,
   "id": "fe91ccb7",
   "metadata": {
    "gather": {
     "logged": 1633394678300
    },
    "jupyter": {
     "outputs_hidden": false,
     "source_hidden": false
    },
    "nteract": {
     "transient": {
      "deleting": false
     }
    },
    "scrolled": true
   },
   "outputs": [
    {
     "name": "stdout",
     "output_type": "stream",
     "text": [
      "Diferencia:  set()\n",
      "Intersección:  {'filosofía', 'multiculturalismo', 'novela', 'argentino', 'cuento', 'psicología', 'francés', 'alemán', 'ruso'}\n"
     ]
    },
    {
     "data": {
      "text/plain": [
       "(set(),\n",
       " {'alemán',\n",
       "  'argentino',\n",
       "  'cuento',\n",
       "  'filosofía',\n",
       "  'francés',\n",
       "  'multiculturalismo',\n",
       "  'novela',\n",
       "  'psicología',\n",
       "  'ruso'})"
      ]
     },
     "execution_count": 20,
     "metadata": {},
     "output_type": "execute_result"
    }
   ],
   "source": [
    "compare_recs(df_pred_sar_tems, df_clus_tems)"
   ]
  },
  {
   "cell_type": "markdown",
   "id": "6d53d837",
   "metadata": {},
   "source": [
    "## SAR Carreras"
   ]
  },
  {
   "cell_type": "code",
   "execution_count": 21,
   "id": "1eaa0ae6",
   "metadata": {},
   "outputs": [],
   "source": [
    "CARRERA_EVAL = \"CARRERA DE INGENIERÍA DE SISTEMAS\""
   ]
  },
  {
   "cell_type": "code",
   "execution_count": 22,
   "id": "9e7b2c53",
   "metadata": {
    "gather": {
     "logged": 1633393934347
    },
    "jupyter": {
     "outputs_hidden": false,
     "source_hidden": false
    },
    "nteract": {
     "transient": {
      "deleting": false
     }
    }
   },
   "outputs": [],
   "source": [
    "sar_model_carreras_path = basePath + \"t5rzulbabu7ca0y/sar_predictor_carreras_100k_10120810.pkl?dl=1\""
   ]
  },
  {
   "cell_type": "code",
   "execution_count": 30,
   "id": "e3a3b51d",
   "metadata": {
    "gather": {
     "logged": 1633394271288
    },
    "jupyter": {
     "outputs_hidden": false,
     "source_hidden": false
    },
    "nteract": {
     "transient": {
      "deleting": false
     }
    }
   },
   "outputs": [],
   "source": [
    "with gzip.open(urllib.request.urlopen(sar_model_carreras_path), 'rb') as f:\n",
    "    p = pickle.Unpickler(f)\n",
    "    sar_predictor_carreras = p.load()"
   ]
  },
  {
   "cell_type": "code",
   "execution_count": 31,
   "id": "113c47ed",
   "metadata": {
    "gather": {
     "logged": 1633394532405
    },
    "jupyter": {
     "outputs_hidden": false,
     "source_hidden": false
    },
    "nteract": {
     "transient": {
      "deleting": false
     }
    }
   },
   "outputs": [],
   "source": [
    "sar_preds_carreras = sar_predictor_carreras.predict_for_cluster(cluster=CARRERA_EVAL)"
   ]
  },
  {
   "cell_type": "code",
   "execution_count": 32,
   "id": "920e25af",
   "metadata": {},
   "outputs": [
    {
     "data": {
      "text/html": [
       "<div>\n",
       "<style scoped>\n",
       "    .dataframe tbody tr th:only-of-type {\n",
       "        vertical-align: middle;\n",
       "    }\n",
       "\n",
       "    .dataframe tbody tr th {\n",
       "        vertical-align: top;\n",
       "    }\n",
       "\n",
       "    .dataframe thead th {\n",
       "        text-align: right;\n",
       "    }\n",
       "</style>\n",
       "<table border=\"1\" class=\"dataframe\">\n",
       "  <thead>\n",
       "    <tr style=\"text-align: right;\">\n",
       "      <th></th>\n",
       "      <th>userID</th>\n",
       "      <th>itemID</th>\n",
       "      <th>rating</th>\n",
       "      <th>timestamp</th>\n",
       "    </tr>\n",
       "  </thead>\n",
       "  <tbody>\n",
       "    <tr>\n",
       "      <th>0</th>\n",
       "      <td>CARRERA DE DERECHO</td>\n",
       "      <td>199645</td>\n",
       "      <td>0.084746</td>\n",
       "      <td>1.566259e+09</td>\n",
       "    </tr>\n",
       "    <tr>\n",
       "      <th>1</th>\n",
       "      <td>CARRERA DE RELACIONES INTERNACIONALES</td>\n",
       "      <td>199645</td>\n",
       "      <td>0.084746</td>\n",
       "      <td>1.554941e+09</td>\n",
       "    </tr>\n",
       "    <tr>\n",
       "      <th>2</th>\n",
       "      <td>CARRERA DE CIENCIA DE LA INFORMACIÓN - BIBLIOT...</td>\n",
       "      <td>199810</td>\n",
       "      <td>0.042373</td>\n",
       "      <td>1.525738e+09</td>\n",
       "    </tr>\n",
       "    <tr>\n",
       "      <th>3</th>\n",
       "      <td>CARRERA DE CIENCIA DE LA INFORMACIÓN - BIBLIOT...</td>\n",
       "      <td>199825</td>\n",
       "      <td>0.042373</td>\n",
       "      <td>1.583280e+09</td>\n",
       "    </tr>\n",
       "    <tr>\n",
       "      <th>4</th>\n",
       "      <td>CARRERA DE ESTUDIOS MUSICALES</td>\n",
       "      <td>200299</td>\n",
       "      <td>0.021186</td>\n",
       "      <td>1.546430e+09</td>\n",
       "    </tr>\n",
       "    <tr>\n",
       "      <th>...</th>\n",
       "      <td>...</td>\n",
       "      <td>...</td>\n",
       "      <td>...</td>\n",
       "      <td>...</td>\n",
       "    </tr>\n",
       "    <tr>\n",
       "      <th>99995</th>\n",
       "      <td>MAESTRÍA EN Filosofía</td>\n",
       "      <td>796341</td>\n",
       "      <td>0.084746</td>\n",
       "      <td>1.569888e+09</td>\n",
       "    </tr>\n",
       "    <tr>\n",
       "      <th>99996</th>\n",
       "      <td>CARRERA DE ECOLOGÍA</td>\n",
       "      <td>796343</td>\n",
       "      <td>0.042373</td>\n",
       "      <td>1.548115e+09</td>\n",
       "    </tr>\n",
       "    <tr>\n",
       "      <th>99997</th>\n",
       "      <td>DEPARTAMENTO DE INGENIERÍA CIVIL</td>\n",
       "      <td>796343</td>\n",
       "      <td>0.127119</td>\n",
       "      <td>1.563322e+09</td>\n",
       "    </tr>\n",
       "    <tr>\n",
       "      <th>99998</th>\n",
       "      <td>LICENCIATURA EN TEOLOGÍA</td>\n",
       "      <td>796346</td>\n",
       "      <td>0.127119</td>\n",
       "      <td>1.563840e+09</td>\n",
       "    </tr>\n",
       "    <tr>\n",
       "      <th>99999</th>\n",
       "      <td>CARRERA DE INGENIERÍA CIVIL</td>\n",
       "      <td>796347</td>\n",
       "      <td>0.042373</td>\n",
       "      <td>1.562112e+09</td>\n",
       "    </tr>\n",
       "  </tbody>\n",
       "</table>\n",
       "<p>100000 rows × 4 columns</p>\n",
       "</div>"
      ],
      "text/plain": [
       "                                                  userID  itemID    rating  \\\n",
       "0                                     CARRERA DE DERECHO  199645  0.084746   \n",
       "1                  CARRERA DE RELACIONES INTERNACIONALES  199645  0.084746   \n",
       "2      CARRERA DE CIENCIA DE LA INFORMACIÓN - BIBLIOT...  199810  0.042373   \n",
       "3      CARRERA DE CIENCIA DE LA INFORMACIÓN - BIBLIOT...  199825  0.042373   \n",
       "4                          CARRERA DE ESTUDIOS MUSICALES  200299  0.021186   \n",
       "...                                                  ...     ...       ...   \n",
       "99995                              MAESTRÍA EN Filosofía  796341  0.084746   \n",
       "99996                                CARRERA DE ECOLOGÍA  796343  0.042373   \n",
       "99997                   DEPARTAMENTO DE INGENIERÍA CIVIL  796343  0.127119   \n",
       "99998                           LICENCIATURA EN TEOLOGÍA  796346  0.127119   \n",
       "99999                        CARRERA DE INGENIERÍA CIVIL  796347  0.042373   \n",
       "\n",
       "          timestamp  \n",
       "0      1.566259e+09  \n",
       "1      1.554941e+09  \n",
       "2      1.525738e+09  \n",
       "3      1.583280e+09  \n",
       "4      1.546430e+09  \n",
       "...             ...  \n",
       "99995  1.569888e+09  \n",
       "99996  1.548115e+09  \n",
       "99997  1.563322e+09  \n",
       "99998  1.563840e+09  \n",
       "99999  1.562112e+09  \n",
       "\n",
       "[100000 rows x 4 columns]"
      ]
     },
     "execution_count": 32,
     "metadata": {},
     "output_type": "execute_result"
    }
   ],
   "source": [
    "sar_predictor_carreras.dataset"
   ]
  },
  {
   "cell_type": "code",
   "execution_count": 33,
   "id": "cf5d88b6",
   "metadata": {},
   "outputs": [
    {
     "data": {
      "text/plain": [
       "72057    713692\n",
       "58739    668826\n",
       "10569    279206\n",
       "89746    762003\n",
       "16830    301931\n",
       "15236    296025\n",
       "74685    722029\n",
       "13622    288369\n",
       "72141    714070\n",
       "8235     274655\n",
       "Name: itemID, dtype: object"
      ]
     },
     "execution_count": 33,
     "metadata": {},
     "output_type": "execute_result"
    }
   ],
   "source": [
    "sar_preds_carreras"
   ]
  },
  {
   "cell_type": "code",
   "execution_count": 37,
   "id": "0e3126af",
   "metadata": {
    "gather": {
     "logged": 1633394672213
    },
    "jupyter": {
     "outputs_hidden": false,
     "source_hidden": false
    },
    "nteract": {
     "transient": {
      "deleting": false
     }
    }
   },
   "outputs": [
    {
     "data": {
      "text/html": [
       "<div>\n",
       "<style scoped>\n",
       "    .dataframe tbody tr th:only-of-type {\n",
       "        vertical-align: middle;\n",
       "    }\n",
       "\n",
       "    .dataframe tbody tr th {\n",
       "        vertical-align: top;\n",
       "    }\n",
       "\n",
       "    .dataframe thead th {\n",
       "        text-align: right;\n",
       "    }\n",
       "</style>\n",
       "<table border=\"1\" class=\"dataframe\">\n",
       "  <thead>\n",
       "    <tr style=\"text-align: right;\">\n",
       "      <th></th>\n",
       "      <th>Titulo</th>\n",
       "      <th>Tematicas</th>\n",
       "      <th>Llave</th>\n",
       "    </tr>\n",
       "  </thead>\n",
       "  <tbody>\n",
       "    <tr>\n",
       "      <th>0</th>\n",
       "      <td>[[Shin Bunka Nihongo]]</td>\n",
       "      <td>[[japonés, enseñanza], [japonés, enseñanza]]</td>\n",
       "      <td>713692</td>\n",
       "    </tr>\n",
       "    <tr>\n",
       "      <th>1</th>\n",
       "      <td>[IELTS practice tests James Milton, Huw Bell a...</td>\n",
       "      <td>[[inglés, enseñanza, estudiante, extranjero], ...</td>\n",
       "      <td>668826</td>\n",
       "    </tr>\n",
       "    <tr>\n",
       "      <th>2</th>\n",
       "      <td>[Gargantua Francois Rebelais]</td>\n",
       "      <td>[[novela, francés]]</td>\n",
       "      <td>279206</td>\n",
       "    </tr>\n",
       "    <tr>\n",
       "      <th>3</th>\n",
       "      <td>[[Dulce de queso] Konami Kanata]</td>\n",
       "      <td>[[japonés, libro, lectura], [japonés, libro, l...</td>\n",
       "      <td>762003</td>\n",
       "    </tr>\n",
       "    <tr>\n",
       "      <th>4</th>\n",
       "      <td>[Curso de títulos valores jurisprudencia-doctr...</td>\n",
       "      <td>[[documento, negociable]]</td>\n",
       "      <td>301931</td>\n",
       "    </tr>\n",
       "    <tr>\n",
       "      <th>5</th>\n",
       "      <td>[Tus zonas erroneas Wayne W. Dyer, Datos sobre...</td>\n",
       "      <td>[[seguridad, psicología]]</td>\n",
       "      <td>296025</td>\n",
       "    </tr>\n",
       "    <tr>\n",
       "      <th>6</th>\n",
       "      <td>[Comedia Dante Alighieri ; traducción, prólogo...</td>\n",
       "      <td>[[poesía, italiano], [poesía, italiano], [poes...</td>\n",
       "      <td>722029</td>\n",
       "    </tr>\n",
       "    <tr>\n",
       "      <th>7</th>\n",
       "      <td>[Introducción a la astronomia el sistema solar...</td>\n",
       "      <td>[[mecánico, celeste]]</td>\n",
       "      <td>288369</td>\n",
       "    </tr>\n",
       "    <tr>\n",
       "      <th>8</th>\n",
       "      <td>[Tratado de fisiología médica Arthur Clifton G...</td>\n",
       "      <td>[[fisiología, humano]]</td>\n",
       "      <td>714070</td>\n",
       "    </tr>\n",
       "    <tr>\n",
       "      <th>9</th>\n",
       "      <td>[Punto y  línea sobre el plano contribución al...</td>\n",
       "      <td>[[pintura, investigación]]</td>\n",
       "      <td>274655</td>\n",
       "    </tr>\n",
       "  </tbody>\n",
       "</table>\n",
       "</div>"
      ],
      "text/plain": [
       "                                              Titulo  \\\n",
       "0                             [[Shin Bunka Nihongo]]   \n",
       "1  [IELTS practice tests James Milton, Huw Bell a...   \n",
       "2                      [Gargantua Francois Rebelais]   \n",
       "3                   [[Dulce de queso] Konami Kanata]   \n",
       "4  [Curso de títulos valores jurisprudencia-doctr...   \n",
       "5  [Tus zonas erroneas Wayne W. Dyer, Datos sobre...   \n",
       "6  [Comedia Dante Alighieri ; traducción, prólogo...   \n",
       "7  [Introducción a la astronomia el sistema solar...   \n",
       "8  [Tratado de fisiología médica Arthur Clifton G...   \n",
       "9  [Punto y  línea sobre el plano contribución al...   \n",
       "\n",
       "                                           Tematicas   Llave  \n",
       "0       [[japonés, enseñanza], [japonés, enseñanza]]  713692  \n",
       "1  [[inglés, enseñanza, estudiante, extranjero], ...  668826  \n",
       "2                                [[novela, francés]]  279206  \n",
       "3  [[japonés, libro, lectura], [japonés, libro, l...  762003  \n",
       "4                          [[documento, negociable]]  301931  \n",
       "5                          [[seguridad, psicología]]  296025  \n",
       "6  [[poesía, italiano], [poesía, italiano], [poes...  722029  \n",
       "7                              [[mecánico, celeste]]  288369  \n",
       "8                             [[fisiología, humano]]  714070  \n",
       "9                         [[pintura, investigación]]  274655  "
      ]
     },
     "metadata": {},
     "output_type": "display_data"
    }
   ],
   "source": [
    "df_info_pred_carreras_sar, df_pred_carreras_sar_tems = generateRecsInfopreds(sar_preds_carreras)"
   ]
  },
  {
   "cell_type": "code",
   "execution_count": 38,
   "id": "fe91ccb7",
   "metadata": {
    "gather": {
     "logged": 1633394678300
    },
    "jupyter": {
     "outputs_hidden": false,
     "source_hidden": false
    },
    "nteract": {
     "transient": {
      "deleting": false
     }
    },
    "scrolled": true
   },
   "outputs": [
    {
     "name": "stdout",
     "output_type": "stream",
     "text": [
      "Diferencia:  {'enseñanza', 'humano', 'estudiante', 'japonés', 'negociable', 'fisiología', 'seguridad', 'libro', 'celeste', 'extranjero', 'lectura', 'mecánico', 'documento'}\n",
      "Intersección:  {'novela', 'italiano', 'psicología', 'francés', 'poesía', 'pintura', 'investigación', 'inglés'}\n"
     ]
    },
    {
     "data": {
      "text/plain": [
       "({'celeste',\n",
       "  'documento',\n",
       "  'enseñanza',\n",
       "  'estudiante',\n",
       "  'extranjero',\n",
       "  'fisiología',\n",
       "  'humano',\n",
       "  'japonés',\n",
       "  'lectura',\n",
       "  'libro',\n",
       "  'mecánico',\n",
       "  'negociable',\n",
       "  'seguridad'},\n",
       " {'francés',\n",
       "  'inglés',\n",
       "  'investigación',\n",
       "  'italiano',\n",
       "  'novela',\n",
       "  'pintura',\n",
       "  'poesía',\n",
       "  'psicología'})"
      ]
     },
     "execution_count": 38,
     "metadata": {},
     "output_type": "execute_result"
    }
   ],
   "source": [
    "compare_recs(df_pred_carreras_sar_tems, df_clus_tems)"
   ]
  },
  {
   "cell_type": "code",
   "execution_count": null,
   "id": "d6a1f4b5",
   "metadata": {},
   "outputs": [],
   "source": []
  },
  {
   "cell_type": "code",
   "execution_count": 40,
   "id": "80693b41",
   "metadata": {},
   "outputs": [],
   "source": [
    "%load_ext autoreload\n",
    "%autoreload 2"
   ]
  },
  {
   "cell_type": "markdown",
   "id": "4378f6a7",
   "metadata": {},
   "source": [
    "# Dash app"
   ]
  },
  {
   "cell_type": "code",
   "execution_count": 57,
   "id": "c98239d4",
   "metadata": {},
   "outputs": [
    {
     "name": "stdout",
     "output_type": "stream",
     "text": [
      "Requirement already satisfied: jupyter-dash in /opt/anaconda3/envs/rec_base/lib/python3.7/site-packages (0.4.0)\n",
      "Requirement already satisfied: ipython in /opt/anaconda3/envs/rec_base/lib/python3.7/site-packages (from jupyter-dash) (7.27.0)\n",
      "Requirement already satisfied: retrying in /opt/anaconda3/envs/rec_base/lib/python3.7/site-packages (from jupyter-dash) (1.3.3)\n",
      "Requirement already satisfied: dash in /opt/anaconda3/envs/rec_base/lib/python3.7/site-packages (from jupyter-dash) (2.0.0)\n",
      "Requirement already satisfied: requests in /opt/anaconda3/envs/rec_base/lib/python3.7/site-packages (from jupyter-dash) (2.26.0)\n",
      "Requirement already satisfied: flask in /opt/anaconda3/envs/rec_base/lib/python3.7/site-packages (from jupyter-dash) (2.0.2)\n",
      "Requirement already satisfied: ipykernel in /opt/anaconda3/envs/rec_base/lib/python3.7/site-packages (from jupyter-dash) (6.4.0)\n",
      "Requirement already satisfied: ansi2html in /opt/anaconda3/envs/rec_base/lib/python3.7/site-packages (from jupyter-dash) (1.6.0)\n",
      "Requirement already satisfied: dash-table==5.0.0 in /opt/anaconda3/envs/rec_base/lib/python3.7/site-packages (from dash->jupyter-dash) (5.0.0)\n",
      "Requirement already satisfied: plotly>=5.0.0 in /opt/anaconda3/envs/rec_base/lib/python3.7/site-packages (from dash->jupyter-dash) (5.3.1)\n",
      "Requirement already satisfied: dash-core-components==2.0.0 in /opt/anaconda3/envs/rec_base/lib/python3.7/site-packages (from dash->jupyter-dash) (2.0.0)\n",
      "Requirement already satisfied: dash-html-components==2.0.0 in /opt/anaconda3/envs/rec_base/lib/python3.7/site-packages (from dash->jupyter-dash) (2.0.0)\n",
      "Requirement already satisfied: flask-compress in /opt/anaconda3/envs/rec_base/lib/python3.7/site-packages (from dash->jupyter-dash) (1.10.1)\n",
      "Requirement already satisfied: itsdangerous>=2.0 in /opt/anaconda3/envs/rec_base/lib/python3.7/site-packages (from flask->jupyter-dash) (2.0.1)\n",
      "Requirement already satisfied: Jinja2>=3.0 in /opt/anaconda3/envs/rec_base/lib/python3.7/site-packages (from flask->jupyter-dash) (3.0.1)\n",
      "Requirement already satisfied: click>=7.1.2 in /opt/anaconda3/envs/rec_base/lib/python3.7/site-packages (from flask->jupyter-dash) (8.0.1)\n",
      "Requirement already satisfied: Werkzeug>=2.0 in /opt/anaconda3/envs/rec_base/lib/python3.7/site-packages (from flask->jupyter-dash) (2.0.2)\n",
      "Requirement already satisfied: importlib-metadata in /opt/anaconda3/envs/rec_base/lib/python3.7/site-packages (from click>=7.1.2->flask->jupyter-dash) (4.8.1)\n",
      "Requirement already satisfied: MarkupSafe>=2.0 in /opt/anaconda3/envs/rec_base/lib/python3.7/site-packages (from Jinja2>=3.0->flask->jupyter-dash) (2.0.1)\n",
      "Requirement already satisfied: six in /opt/anaconda3/envs/rec_base/lib/python3.7/site-packages (from plotly>=5.0.0->dash->jupyter-dash) (1.16.0)\n",
      "Requirement already satisfied: tenacity>=6.2.0 in /opt/anaconda3/envs/rec_base/lib/python3.7/site-packages (from plotly>=5.0.0->dash->jupyter-dash) (8.0.1)\n",
      "Requirement already satisfied: brotli in /opt/anaconda3/envs/rec_base/lib/python3.7/site-packages (from flask-compress->dash->jupyter-dash) (1.0.9)\n",
      "Requirement already satisfied: typing-extensions>=3.6.4 in /opt/anaconda3/envs/rec_base/lib/python3.7/site-packages (from importlib-metadata->click>=7.1.2->flask->jupyter-dash) (3.10.0.2)\n",
      "Requirement already satisfied: zipp>=0.5 in /opt/anaconda3/envs/rec_base/lib/python3.7/site-packages (from importlib-metadata->click>=7.1.2->flask->jupyter-dash) (3.5.0)\n",
      "Requirement already satisfied: debugpy<2.0,>=1.0.0 in /opt/anaconda3/envs/rec_base/lib/python3.7/site-packages (from ipykernel->jupyter-dash) (1.4.1)\n",
      "Requirement already satisfied: matplotlib-inline<0.2.0,>=0.1.0 in /opt/anaconda3/envs/rec_base/lib/python3.7/site-packages (from ipykernel->jupyter-dash) (0.1.3)\n",
      "Requirement already satisfied: appnope in /opt/anaconda3/envs/rec_base/lib/python3.7/site-packages (from ipykernel->jupyter-dash) (0.1.2)\n",
      "Requirement already satisfied: traitlets<6.0,>=4.1.0 in /opt/anaconda3/envs/rec_base/lib/python3.7/site-packages (from ipykernel->jupyter-dash) (5.1.0)\n",
      "Requirement already satisfied: jupyter-client<8.0 in /opt/anaconda3/envs/rec_base/lib/python3.7/site-packages (from ipykernel->jupyter-dash) (7.0.3)\n",
      "Requirement already satisfied: tornado<7.0,>=4.2 in /opt/anaconda3/envs/rec_base/lib/python3.7/site-packages (from ipykernel->jupyter-dash) (6.1)\n",
      "Requirement already satisfied: ipython-genutils in /opt/anaconda3/envs/rec_base/lib/python3.7/site-packages (from ipykernel->jupyter-dash) (0.2.0)\n",
      "Requirement already satisfied: argcomplete>=1.12.3 in /opt/anaconda3/envs/rec_base/lib/python3.7/site-packages (from ipykernel->jupyter-dash) (1.12.3)\n",
      "Requirement already satisfied: prompt-toolkit!=3.0.0,!=3.0.1,<3.1.0,>=2.0.0 in /opt/anaconda3/envs/rec_base/lib/python3.7/site-packages (from ipython->jupyter-dash) (3.0.20)\n",
      "Requirement already satisfied: pickleshare in /opt/anaconda3/envs/rec_base/lib/python3.7/site-packages (from ipython->jupyter-dash) (0.7.5)\n",
      "Requirement already satisfied: decorator in /opt/anaconda3/envs/rec_base/lib/python3.7/site-packages (from ipython->jupyter-dash) (5.1.0)\n",
      "Requirement already satisfied: pygments in /opt/anaconda3/envs/rec_base/lib/python3.7/site-packages (from ipython->jupyter-dash) (2.10.0)\n",
      "Requirement already satisfied: backcall in /opt/anaconda3/envs/rec_base/lib/python3.7/site-packages (from ipython->jupyter-dash) (0.2.0)\n",
      "Requirement already satisfied: setuptools>=18.5 in /opt/anaconda3/envs/rec_base/lib/python3.7/site-packages (from ipython->jupyter-dash) (58.0.4)\n",
      "Requirement already satisfied: pexpect>4.3 in /opt/anaconda3/envs/rec_base/lib/python3.7/site-packages (from ipython->jupyter-dash) (4.8.0)\n",
      "Requirement already satisfied: jedi>=0.16 in /opt/anaconda3/envs/rec_base/lib/python3.7/site-packages (from ipython->jupyter-dash) (0.18.0)\n",
      "Requirement already satisfied: parso<0.9.0,>=0.8.0 in /opt/anaconda3/envs/rec_base/lib/python3.7/site-packages (from jedi>=0.16->ipython->jupyter-dash) (0.8.2)\n",
      "Requirement already satisfied: pyzmq>=13 in /opt/anaconda3/envs/rec_base/lib/python3.7/site-packages (from jupyter-client<8.0->ipykernel->jupyter-dash) (22.3.0)\n",
      "Requirement already satisfied: python-dateutil>=2.1 in /opt/anaconda3/envs/rec_base/lib/python3.7/site-packages (from jupyter-client<8.0->ipykernel->jupyter-dash) (2.8.2)\n",
      "Requirement already satisfied: entrypoints in /opt/anaconda3/envs/rec_base/lib/python3.7/site-packages (from jupyter-client<8.0->ipykernel->jupyter-dash) (0.3)\n",
      "Requirement already satisfied: nest-asyncio>=1.5 in /opt/anaconda3/envs/rec_base/lib/python3.7/site-packages (from jupyter-client<8.0->ipykernel->jupyter-dash) (1.5.1)\n",
      "Requirement already satisfied: jupyter-core>=4.6.0 in /opt/anaconda3/envs/rec_base/lib/python3.7/site-packages (from jupyter-client<8.0->ipykernel->jupyter-dash) (4.8.1)\n",
      "Requirement already satisfied: ptyprocess>=0.5 in /opt/anaconda3/envs/rec_base/lib/python3.7/site-packages (from pexpect>4.3->ipython->jupyter-dash) (0.7.0)\n",
      "Requirement already satisfied: wcwidth in /opt/anaconda3/envs/rec_base/lib/python3.7/site-packages (from prompt-toolkit!=3.0.0,!=3.0.1,<3.1.0,>=2.0.0->ipython->jupyter-dash) (0.2.5)\n",
      "Requirement already satisfied: idna<4,>=2.5 in /opt/anaconda3/envs/rec_base/lib/python3.7/site-packages (from requests->jupyter-dash) (3.2)\n",
      "Requirement already satisfied: charset-normalizer~=2.0.0 in /opt/anaconda3/envs/rec_base/lib/python3.7/site-packages (from requests->jupyter-dash) (2.0.6)\n",
      "Requirement already satisfied: certifi>=2017.4.17 in /opt/anaconda3/envs/rec_base/lib/python3.7/site-packages (from requests->jupyter-dash) (2021.10.8)\n",
      "Requirement already satisfied: urllib3<1.27,>=1.21.1 in /opt/anaconda3/envs/rec_base/lib/python3.7/site-packages (from requests->jupyter-dash) (1.26.7)\n",
      "\u001b[33mWARNING: Error parsing requirements for google-pasta: [Errno 2] No such file or directory: '/opt/anaconda3/envs/rec_base/lib/python3.7/site-packages/google_pasta-0.2.0.dist-info/METADATA'\u001b[0m\n",
      "\u001b[33mWARNING: Error parsing requirements for absl-py: [Errno 2] No such file or directory: '/opt/anaconda3/envs/rec_base/lib/python3.7/site-packages/absl_py-0.14.0.dist-info/METADATA'\u001b[0m\n"
     ]
    }
   ],
   "source": [
    "!pip install jupyter-dash"
   ]
  },
  {
   "cell_type": "code",
   "execution_count": 58,
   "id": "c6017d09",
   "metadata": {},
   "outputs": [],
   "source": [
    "from jupyter_dash import JupyterDash"
   ]
  },
  {
   "cell_type": "code",
   "execution_count": 59,
   "id": "14e7a000",
   "metadata": {},
   "outputs": [],
   "source": [
    "import dash\n",
    "import dash_core_components as dcc\n",
    "import dash_html_components as html\n",
    "import dash_table\n",
    "from dash.dependencies import Input, Output"
   ]
  },
  {
   "cell_type": "code",
   "execution_count": 65,
   "id": "95a2d175",
   "metadata": {},
   "outputs": [],
   "source": [
    "available_list = ['Cluster por temáticas', 'Programas académicos']"
   ]
  },
  {
   "cell_type": "code",
   "execution_count": 66,
   "id": "2f35fe28",
   "metadata": {},
   "outputs": [],
   "source": [
    "available_groups_temas = df_pesos_cluster_temas['cluster'].unique()"
   ]
  },
  {
   "cell_type": "code",
   "execution_count": 67,
   "id": "bb429fed",
   "metadata": {},
   "outputs": [],
   "source": [
    "available_groups_carreras = df_pesos_cluster_carreras['cluster'].unique()"
   ]
  },
  {
   "cell_type": "code",
   "execution_count": 68,
   "id": "4ac7f80a",
   "metadata": {},
   "outputs": [
    {
     "data": {
      "text/html": [
       "<div>\n",
       "<style scoped>\n",
       "    .dataframe tbody tr th:only-of-type {\n",
       "        vertical-align: middle;\n",
       "    }\n",
       "\n",
       "    .dataframe tbody tr th {\n",
       "        vertical-align: top;\n",
       "    }\n",
       "\n",
       "    .dataframe thead th {\n",
       "        text-align: right;\n",
       "    }\n",
       "</style>\n",
       "<table border=\"1\" class=\"dataframe\">\n",
       "  <thead>\n",
       "    <tr style=\"text-align: right;\">\n",
       "      <th></th>\n",
       "      <th>Titulo</th>\n",
       "      <th>Dewey</th>\n",
       "      <th>Tematicas</th>\n",
       "      <th>Llave</th>\n",
       "    </tr>\n",
       "  </thead>\n",
       "  <tbody>\n",
       "    <tr>\n",
       "      <th>0</th>\n",
       "      <td>[Entre nosotros ensayos para pensar en otro Em...</td>\n",
       "      <td>190</td>\n",
       "      <td>[[filosofía, francés]]</td>\n",
       "      <td>341300</td>\n",
       "    </tr>\n",
       "    <tr>\n",
       "      <th>1</th>\n",
       "      <td>[La filosofía de Martín Heidegger Alfonso de W...</td>\n",
       "      <td>190</td>\n",
       "      <td>[[filosofía, alemán]]</td>\n",
       "      <td>271907</td>\n",
       "    </tr>\n",
       "    <tr>\n",
       "      <th>2</th>\n",
       "      <td>[Deleuze, Whitehead, Bergson rhizomatic connec...</td>\n",
       "      <td>190</td>\n",
       "      <td>[[filosofía, francés]]</td>\n",
       "      <td>795173</td>\n",
       "    </tr>\n",
       "    <tr>\n",
       "      <th>3</th>\n",
       "      <td>[Deshoras Julio Cortázar]</td>\n",
       "      <td>860</td>\n",
       "      <td>[[cuento, argentino]]</td>\n",
       "      <td>678233</td>\n",
       "    </tr>\n",
       "    <tr>\n",
       "      <th>4</th>\n",
       "      <td>[Rizoma introducción Gilles Deleuze y Pierre F...</td>\n",
       "      <td>190</td>\n",
       "      <td>[[filosofía, francés]]</td>\n",
       "      <td>341323</td>\n",
       "    </tr>\n",
       "    <tr>\n",
       "      <th>5</th>\n",
       "      <td>[Memorias del subsuelo Fédor Mikhailovitch Dos...</td>\n",
       "      <td>890</td>\n",
       "      <td>[[novela, ruso]]</td>\n",
       "      <td>725775</td>\n",
       "    </tr>\n",
       "    <tr>\n",
       "      <th>6</th>\n",
       "      <td>[Compendio de psicología William James]</td>\n",
       "      <td>150</td>\n",
       "      <td>[[psicología]]</td>\n",
       "      <td>330489</td>\n",
       "    </tr>\n",
       "    <tr>\n",
       "      <th>7</th>\n",
       "      <td>[Obras filosoficas Discurso del metodo, Tratad...</td>\n",
       "      <td>190</td>\n",
       "      <td>[[filosofía, francés]]</td>\n",
       "      <td>272620</td>\n",
       "    </tr>\n",
       "    <tr>\n",
       "      <th>8</th>\n",
       "      <td>[Gilles Deleuze Claire Colebrook]</td>\n",
       "      <td>190</td>\n",
       "      <td>[[filosofía, francés]]</td>\n",
       "      <td>797150</td>\n",
       "    </tr>\n",
       "    <tr>\n",
       "      <th>9</th>\n",
       "      <td>[El multiculturalismo y \"la política del recon...</td>\n",
       "      <td>300</td>\n",
       "      <td>[[multiculturalismo]]</td>\n",
       "      <td>347754</td>\n",
       "    </tr>\n",
       "  </tbody>\n",
       "</table>\n",
       "</div>"
      ],
      "text/plain": [
       "                                              Titulo Dewey  \\\n",
       "0  [Entre nosotros ensayos para pensar en otro Em...   190   \n",
       "1  [La filosofía de Martín Heidegger Alfonso de W...   190   \n",
       "2  [Deleuze, Whitehead, Bergson rhizomatic connec...   190   \n",
       "3                          [Deshoras Julio Cortázar]   860   \n",
       "4  [Rizoma introducción Gilles Deleuze y Pierre F...   190   \n",
       "5  [Memorias del subsuelo Fédor Mikhailovitch Dos...   890   \n",
       "6            [Compendio de psicología William James]   150   \n",
       "7  [Obras filosoficas Discurso del metodo, Tratad...   190   \n",
       "8                  [Gilles Deleuze Claire Colebrook]   190   \n",
       "9  [El multiculturalismo y \"la política del recon...   300   \n",
       "\n",
       "                Tematicas   Llave  \n",
       "0  [[filosofía, francés]]  341300  \n",
       "1   [[filosofía, alemán]]  271907  \n",
       "2  [[filosofía, francés]]  795173  \n",
       "3   [[cuento, argentino]]  678233  \n",
       "4  [[filosofía, francés]]  341323  \n",
       "5        [[novela, ruso]]  725775  \n",
       "6          [[psicología]]  330489  \n",
       "7  [[filosofía, francés]]  272620  \n",
       "8  [[filosofía, francés]]  797150  \n",
       "9   [[multiculturalismo]]  347754  "
      ]
     },
     "execution_count": 68,
     "metadata": {},
     "output_type": "execute_result"
    }
   ],
   "source": [
    "df_info_pred_sar"
   ]
  },
  {
   "cell_type": "code",
   "execution_count": 71,
   "id": "ac3ccf69",
   "metadata": {},
   "outputs": [],
   "source": [
    "# Build App\n",
    "app = JupyterDash(__name__)\n",
    "app.layout = html.Div([\n",
    "    html.H1(\"Recomendaciones para grupos definidos\"),\n",
    "    dash_table.DataTable(\n",
    "        id='table',\n",
    "        columns=[{\"name\": i, \"id\": i} for i in df_info_pred_sar.columns],\n",
    "        data=df_info_pred_sar.to_dict('records'),\n",
    "    ),\n",
    "    html.Label([\n",
    "        \"Lista a la que recomendar\",\n",
    "        dcc.Dropdown(\n",
    "            id='list-dropdown', clearable=False,\n",
    "            value = available_list, options=[\n",
    "                {'label': i, 'value': i}\n",
    "                for i in available_list\n",
    "                \n",
    "            ])\n",
    "    ]),\n",
    "    html.Label([\n",
    "        \"Grupo al que recomendar\",\n",
    "        dcc.Dropdown(\n",
    "            id='group-dropdown', clearable=False,\n",
    "            value = available_groups_temas, options=[\n",
    "                {'label': i, 'value': i}\n",
    "                for i in available_groups_temas\n",
    "                \n",
    "            ])\n",
    "    ]),\n",
    "])\n",
    "# Define callback to update graph\n",
    "@app.callback(\n",
    "    Output('table', 'data'),\n",
    "    [Input(\"list-dropdown\", \"value\"),\n",
    "    Input(\"group-dropdown\", \"value\"),]\n",
    ")\n",
    "def update_figure(lista, grupo):\n",
    "    print(\"Valor seleccionado 1: \", lista)\n",
    "    print(\"Valor seleccionado 2: \", grupo)\n",
    "    if(lista == 'Cluster por temáticas'):\n",
    "        grupo = available_groups_temas\n",
    "    else:\n",
    "        grupo = available_groups_carreras\n",
    "#     sar_preds = sar_predictor.predict_for_cluster(cluster=value)\n",
    "#     df_info_pred_sar, df_pred_sar_deweys, df_pred_sar_tems = generateRecsInfopreds(sar_preds)\n",
    "#     columns=[{\"name\": i, \"id\": i} for i in df_info_pred_sar.columns]\n",
    "#     data=df_info_pred_sar.to_dict('records')\n",
    "#     print(data)\n",
    "#     return data\n"
   ]
  },
  {
   "cell_type": "code",
   "execution_count": 72,
   "id": "2ba50246",
   "metadata": {},
   "outputs": [
    {
     "name": "stdout",
     "output_type": "stream",
     "text": [
      "Dash app running on http://127.0.0.1:8050/\n"
     ]
    },
    {
     "ename": "NameError",
     "evalue": "name 'JupyterDash' is not defined",
     "output_type": "error",
     "traceback": [
      "\u001b[0;31m---------------------------------------------------------------------------\u001b[0m",
      "\u001b[0;31mNameError\u001b[0m                                 Traceback (most recent call last)",
      "\u001b[0;32m/var/folders/pk/3mfh7qx1111czrm27qywf15m0000gn/T/ipykernel_41601/1262337620.py\u001b[0m in \u001b[0;36m<module>\u001b[0;34m\u001b[0m\n\u001b[1;32m      1\u001b[0m \u001b[0;31m# Build App\u001b[0m\u001b[0;34m\u001b[0m\u001b[0;34m\u001b[0m\u001b[0;34m\u001b[0m\u001b[0m\n\u001b[0;32m----> 2\u001b[0;31m \u001b[0mapp\u001b[0m \u001b[0;34m=\u001b[0m \u001b[0mJupyterDash\u001b[0m\u001b[0;34m(\u001b[0m\u001b[0m__name__\u001b[0m\u001b[0;34m)\u001b[0m\u001b[0;34m\u001b[0m\u001b[0;34m\u001b[0m\u001b[0m\n\u001b[0m\u001b[1;32m      3\u001b[0m app.layout = html.Div([\n\u001b[1;32m      4\u001b[0m     \u001b[0mhtml\u001b[0m\u001b[0;34m.\u001b[0m\u001b[0mH1\u001b[0m\u001b[0;34m(\u001b[0m\u001b[0;34m\"Recomendaciones para grupos definidos\"\u001b[0m\u001b[0;34m)\u001b[0m\u001b[0;34m,\u001b[0m\u001b[0;34m\u001b[0m\u001b[0;34m\u001b[0m\u001b[0m\n\u001b[1;32m      5\u001b[0m     dash_table.DataTable(\n",
      "\u001b[0;31mNameError\u001b[0m: name 'JupyterDash' is not defined"
     ]
    },
    {
     "name": "stdout",
     "output_type": "stream",
     "text": [
      "Valor seleccionado 1:  ['Cluster por temáticas', 'Programas académicos']\n",
      "Valor seleccionado 2:  [53, 143, 130, 14, 25, 9, 58, 0, 148, 109, 10, 111, 28, 117, 84, 54, 104, 19, 48, 34, 107, 147, 67, 110, 32, 41, 35, 26, 43, 45, 136, 71, 12, 88, 49, 106, 112, 144, 141, 80, 37, 18, 93, 102, 13, 65, 122, 69, 15, 72, 105, 2, 134, 3, 21, 46, 116, 79, 8, 24, 100, 78, 61, 56, 89, 38, 86, 113, 97, 11, 137, 22, 23, 51, 70, 36, 30, 101, 124, 126, 139, 99, 44, 64, 133, 125, 95, 83, 87, 6, 39, 96, 7, 29, 63, 77, 115, 120, 119, 123, 59, 103, 131, 118, 98, 73, 33, 92, 91, 47, 128, 82, 121, 66, 27, 16, 75, 108, 114, 1, 74, 132, 5, 40, 20, 76, 85, 42, 31, 52, 138, 50, 135, 140, 127, 90, 62, 81, 17, 129, 149, 4, 57, 94, 68, 145, 55, 146, 60, 142]\n",
      "Valor seleccionado 1:  Programas académicos\n",
      "Valor seleccionado 2:  [53, 143, 130, 14, 25, 9, 58, 0, 148, 109, 10, 111, 28, 117, 84, 54, 104, 19, 48, 34, 107, 147, 67, 110, 32, 41, 35, 26, 43, 45, 136, 71, 12, 88, 49, 106, 112, 144, 141, 80, 37, 18, 93, 102, 13, 65, 122, 69, 15, 72, 105, 2, 134, 3, 21, 46, 116, 79, 8, 24, 100, 78, 61, 56, 89, 38, 86, 113, 97, 11, 137, 22, 23, 51, 70, 36, 30, 101, 124, 126, 139, 99, 44, 64, 133, 125, 95, 83, 87, 6, 39, 96, 7, 29, 63, 77, 115, 120, 119, 123, 59, 103, 131, 118, 98, 73, 33, 92, 91, 47, 128, 82, 121, 66, 27, 16, 75, 108, 114, 1, 74, 132, 5, 40, 20, 76, 85, 42, 31, 52, 138, 50, 135, 140, 127, 90, 62, 81, 17, 129, 149, 4, 57, 94, 68, 145, 55, 146, 60, 142]\n",
      "Valor seleccionado 1:  Programas académicos\n",
      "Valor seleccionado 2:  25\n"
     ]
    }
   ],
   "source": [
    "app.run_server(mode='external')\n",
    "%tb"
   ]
  },
  {
   "cell_type": "code",
   "execution_count": null,
   "id": "07651f81",
   "metadata": {},
   "outputs": [],
   "source": []
  },
  {
   "cell_type": "code",
   "execution_count": null,
   "id": "dd84a056",
   "metadata": {},
   "outputs": [],
   "source": []
  }
 ],
 "metadata": {
  "kernelspec": {
   "display_name": "Python 3 (ipykernel)",
   "language": "python",
   "name": "python3"
  },
  "language_info": {
   "codemirror_mode": {
    "name": "ipython",
    "version": 3
   },
   "file_extension": ".py",
   "mimetype": "text/x-python",
   "name": "python",
   "nbconvert_exporter": "python",
   "pygments_lexer": "ipython3",
   "version": "3.7.10"
  }
 },
 "nbformat": 4,
 "nbformat_minor": 5
}
