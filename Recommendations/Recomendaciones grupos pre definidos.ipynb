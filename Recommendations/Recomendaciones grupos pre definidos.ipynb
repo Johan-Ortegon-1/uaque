{
 "cells": [
  {
   "cell_type": "markdown",
   "id": "2a12a065",
   "metadata": {
    "nteract": {
     "transient": {
      "deleting": false
     }
    }
   },
   "source": [
    "# Carga de datos"
   ]
  },
  {
   "cell_type": "code",
   "execution_count": 1,
   "id": "7b76ee7d",
   "metadata": {},
   "outputs": [],
   "source": [
    "CLUSTER_EVAL=92"
   ]
  },
  {
   "cell_type": "code",
   "execution_count": 2,
   "id": "830bf823",
   "metadata": {},
   "outputs": [
    {
     "name": "stdout",
     "output_type": "stream",
     "text": [
      "Requirement already satisfied: pip in /opt/anaconda3/envs/rec_base/lib/python3.7/site-packages (21.2.4)\n",
      "Requirement already satisfied: install in /opt/anaconda3/envs/rec_base/lib/python3.7/site-packages (1.3.4)\n",
      "Requirement already satisfied: cloudpickle in /opt/anaconda3/envs/rec_base/lib/python3.7/site-packages (2.0.0)\n",
      "\u001b[33mWARNING: Error parsing requirements for google-pasta: [Errno 2] No such file or directory: '/opt/anaconda3/envs/rec_base/lib/python3.7/site-packages/google_pasta-0.2.0.dist-info/METADATA'\u001b[0m\n",
      "\u001b[33mWARNING: Error parsing requirements for absl-py: [Errno 2] No such file or directory: '/opt/anaconda3/envs/rec_base/lib/python3.7/site-packages/absl_py-0.14.0.dist-info/METADATA'\u001b[0m\n"
     ]
    }
   ],
   "source": [
    "!pip install pip install cloudpickle"
   ]
  },
  {
   "cell_type": "code",
   "execution_count": 3,
   "id": "0d46633f",
   "metadata": {
    "gather": {
     "logged": 1633394861293
    },
    "jupyter": {
     "outputs_hidden": false,
     "source_hidden": false
    },
    "nteract": {
     "transient": {
      "deleting": false
     }
    }
   },
   "outputs": [],
   "source": [
    "import pandas as pd\n",
    "import numpy as np\n",
    "import gzip, pickle, pickletools\n",
    "import time\n",
    "import cloudpickle as cp\n",
    "import urllib.request"
   ]
  },
  {
   "cell_type": "code",
   "execution_count": 4,
   "id": "0179acad",
   "metadata": {
    "gather": {
     "logged": 1633393349232
    },
    "jupyter": {
     "outputs_hidden": false,
     "source_hidden": false
    },
    "nteract": {
     "transient": {
      "deleting": false
     }
    }
   },
   "outputs": [],
   "source": [
    "basePath =  'https://www.dropbox.com/s/'"
   ]
  },
  {
   "cell_type": "code",
   "execution_count": 5,
   "id": "25298dfb",
   "metadata": {
    "gather": {
     "logged": 1633393367481
    },
    "jupyter": {
     "outputs_hidden": false,
     "source_hidden": false
    },
    "nteract": {
     "transient": {
      "deleting": false
     }
    }
   },
   "outputs": [],
   "source": [
    "# Dataframe de préstamos\n",
    "basePath =  'https://www.dropbox.com/s/'\n",
    "df_prestamos = pd.read_json(basePath + 'q38zr341seq7rkf/joinTablas.json?dl=1')"
   ]
  },
  {
   "cell_type": "code",
   "execution_count": 6,
   "id": "ed9a8308",
   "metadata": {
    "gather": {
     "logged": 1633393369153
    },
    "jupyter": {
     "outputs_hidden": false,
     "source_hidden": false
    },
    "nteract": {
     "transient": {
      "deleting": false
     }
    }
   },
   "outputs": [],
   "source": [
    "# Dataframe de datos de material\n",
    "basePath =  'https://www.dropbox.com/s/'\n",
    "df_temas = pd.read_json(basePath + 'a2wops7yxdjd2ea/Libros.json?dl=1')"
   ]
  },
  {
   "cell_type": "code",
   "execution_count": 7,
   "id": "9f5b0771",
   "metadata": {
    "gather": {
     "logged": 1633393912331
    },
    "jupyter": {
     "outputs_hidden": false,
     "source_hidden": false
    },
    "nteract": {
     "transient": {
      "deleting": false
     }
    }
   },
   "outputs": [],
   "source": [
    "# Dataframe de pesos por los temas de cada cluster6\n",
    "basePath =  'https://www.dropbox.com/s/'\n",
    "df_pesos_cluster_temas = pd.read_json(basePath + 'nbz30whibx2r67s/pesos_cluster_temas.json?dl=1')"
   ]
  },
  {
   "cell_type": "code",
   "execution_count": 8,
   "id": "f838ab2f",
   "metadata": {
    "gather": {
     "logged": 1633393915154
    },
    "jupyter": {
     "outputs_hidden": false,
     "source_hidden": false
    },
    "nteract": {
     "transient": {
      "deleting": false
     }
    }
   },
   "outputs": [],
   "source": [
    "# Dataframe de pesos por los deweys de cada cluster\n",
    "basePath =  'https://www.dropbox.com/s/'\n",
    "df_pesos_cluster_deweys = pd.read_json(basePath + 'f5ixzg087pd8gca/pesos_cluster_deweys.json?dl=1')"
   ]
  },
  {
   "cell_type": "code",
   "execution_count": 9,
   "id": "1dd3b0a8",
   "metadata": {},
   "outputs": [],
   "source": [
    "# Dataframe de pesos por los deweys de cada cluster\n",
    "basePath =  'https://www.dropbox.com/s/'\n",
    "df_pesos_cluster_carreras = pd.read_json(basePath + '4vilvuxp4svg230/pesos_cluster_carreras.json?dl=1')"
   ]
  },
  {
   "cell_type": "markdown",
   "id": "f1712b61",
   "metadata": {
    "nteract": {
     "transient": {
      "deleting": false
     }
    }
   },
   "source": [
    "# Funciones auxiliares"
   ]
  },
  {
   "cell_type": "code",
   "execution_count": 10,
   "id": "06cbb8de",
   "metadata": {
    "gather": {
     "logged": 1633394662259
    },
    "jupyter": {
     "outputs_hidden": false,
     "source_hidden": false
    },
    "nteract": {
     "transient": {
      "deleting": false
     }
    }
   },
   "outputs": [],
   "source": [
    "#Para obtener el nombre de un material a partir del título\n",
    "def itemIdToMaterial(id):\n",
    "    return df_prestamos.loc[df_prestamos['Llave'] == id]['Titulo'].unique()"
   ]
  },
  {
   "cell_type": "code",
   "execution_count": 11,
   "id": "97233980",
   "metadata": {
    "gather": {
     "logged": 1633394662597
    },
    "jupyter": {
     "outputs_hidden": false,
     "source_hidden": false
    },
    "nteract": {
     "transient": {
      "deleting": false
     }
    }
   },
   "outputs": [],
   "source": [
    "def itemIdToDewey(id):\n",
    "    item = (df_prestamos.loc[df_prestamos['Llave'] == id]['Dewey'].unique())\n",
    "    if len(item) == 0:\n",
    "        item = (df_prestamos.loc[df_prestamos['Llave'] == str(id)]['Dewey'].unique())\n",
    "        if len(item) == 0:\n",
    "            return -1\n",
    "        else:\n",
    "            return item[0]\n",
    "    else:\n",
    "        return item[0]"
   ]
  },
  {
   "cell_type": "code",
   "execution_count": 12,
   "id": "b3a0054f",
   "metadata": {
    "gather": {
     "logged": 1633394663907
    },
    "jupyter": {
     "outputs_hidden": false,
     "source_hidden": false
    },
    "nteract": {
     "transient": {
      "deleting": false
     }
    }
   },
   "outputs": [],
   "source": [
    "def itemIdToThemes(id):\n",
    "    tematicas = df_temas.loc[df_temas['Llaves'] == str(id)]['Tema 670'].values\n",
    "    if len(tematicas) == 0:\n",
    "        return []\n",
    "    else:\n",
    "        return tematicas"
   ]
  },
  {
   "cell_type": "code",
   "execution_count": 13,
   "id": "67ca7e4d",
   "metadata": {
    "gather": {
     "logged": 1633394664416
    },
    "jupyter": {
     "outputs_hidden": false,
     "source_hidden": false
    },
    "nteract": {
     "transient": {
      "deleting": false
     }
    }
   },
   "outputs": [],
   "source": [
    "def generateClusterInfo(cluster_eval):\n",
    "    dfP = df_pesos_cluster_temas.copy()\n",
    "    user_p = dfP.loc[dfP['cluster'] == cluster_eval]\n",
    "    tematicas =[]\n",
    "    for llave in user_p['Llaves'].unique():\n",
    "        tematicas.append(itemIdToThemes((llave)))\n",
    "\n",
    "    user_p['Tematicas'] = tematicas\n",
    "    display(user_p)\n",
    "    deweys = ((dfP.loc[dfP['cluster'] == cluster_eval]['Dewey'].unique()))\n",
    "    print((dfP.loc[dfP['cluster'] == cluster_eval]['Dewey'].unique()))\n",
    "\n",
    "    tematicas = []\n",
    "    for tems in user_p['Tematicas']:\n",
    "        for tema in tems:\n",
    "            for temasub in tema:\n",
    "                if temasub in tematicas:\n",
    "                    continue\n",
    "                else:\n",
    "                    tematicas.append(temasub)\n",
    "\n",
    "    return user_p, deweys, set(tematicas)"
   ]
  },
  {
   "cell_type": "code",
   "execution_count": 14,
   "id": "1b5056ca",
   "metadata": {
    "gather": {
     "logged": 1633394665439
    },
    "jupyter": {
     "outputs_hidden": false,
     "source_hidden": false
    },
    "nteract": {
     "transient": {
      "deleting": false
     }
    }
   },
   "outputs": [],
   "source": [
    "def generateRecsInfopreds(preds):\n",
    "    recs = preds\n",
    "    data_recs_asr = []\n",
    "    for ids in recs:\n",
    "        data_recs_asr.append({'Titulo':itemIdToMaterial(ids), \n",
    "                         #'Rating':ratings[1], \n",
    "                          #'Dewey':itemIdToDewey(ids), \n",
    "                         'Tematicas':itemIdToThemes(ids),\n",
    "                          'Llave': ids})\n",
    "\n",
    "    df_recs_asr = pd.DataFrame(data_recs_asr)\n",
    "    display(df_recs_asr)\n",
    "    #deweys = print((df_recs_asr['Dewey'].unique()))\n",
    "    #print((df_recs_asr['Dewey'].unique()))\n",
    "\n",
    "    tematicas = []\n",
    "    for tems in df_recs_asr['Tematicas']:\n",
    "        for tema in tems:\n",
    "            for temasub in tema:\n",
    "                if temasub in tematicas:\n",
    "                    continue\n",
    "                else:\n",
    "                    tematicas.append(temasub)\n",
    "\n",
    "    #return df_recs_asr, deweys, set(tematicas)\n",
    "    return df_recs_asr, set(tematicas)"
   ]
  },
  {
   "cell_type": "code",
   "execution_count": 15,
   "id": "054893c7",
   "metadata": {
    "gather": {
     "logged": 1633394667262
    },
    "jupyter": {
     "outputs_hidden": false,
     "source_hidden": false
    },
    "nteract": {
     "transient": {
      "deleting": false
     }
    }
   },
   "outputs": [],
   "source": [
    "# Compara las tematicas de los ítems recomendados con respecto a los prestamos que ha realizado el cluster\n",
    "def compare_recs(setRecs, setPrest):\n",
    "    difference = setRecs - setPrest\n",
    "    intersection = setRecs & setPrest\n",
    "    print(\"Diferencia: \", difference)\n",
    "    print(\"Intersección: \", intersection)\n",
    "    return difference, intersection"
   ]
  },
  {
   "cell_type": "code",
   "execution_count": 16,
   "id": "c2819d2c",
   "metadata": {
    "gather": {
     "logged": 1633393923247
    },
    "jupyter": {
     "outputs_hidden": false,
     "source_hidden": false
    },
    "nteract": {
     "transient": {
      "deleting": false
     }
    }
   },
   "outputs": [
    {
     "name": "stderr",
     "output_type": "stream",
     "text": [
      "/opt/anaconda3/envs/rec_base/lib/python3.7/site-packages/ipykernel_launcher.py:8: SettingWithCopyWarning: \n",
      "A value is trying to be set on a copy of a slice from a DataFrame.\n",
      "Try using .loc[row_indexer,col_indexer] = value instead\n",
      "\n",
      "See the caveats in the documentation: https://pandas.pydata.org/pandas-docs/stable/user_guide/indexing.html#returning-a-view-versus-a-copy\n",
      "  \n"
     ]
    },
    {
     "data": {
      "text/html": [
       "<div>\n",
       "<style scoped>\n",
       "    .dataframe tbody tr th:only-of-type {\n",
       "        vertical-align: middle;\n",
       "    }\n",
       "\n",
       "    .dataframe tbody tr th {\n",
       "        vertical-align: top;\n",
       "    }\n",
       "\n",
       "    .dataframe thead th {\n",
       "        text-align: right;\n",
       "    }\n",
       "</style>\n",
       "<table border=\"1\" class=\"dataframe\">\n",
       "  <thead>\n",
       "    <tr style=\"text-align: right;\">\n",
       "      <th></th>\n",
       "      <th>Llaves</th>\n",
       "      <th>cluster</th>\n",
       "      <th>Dewey</th>\n",
       "      <th>Peso del prestamos</th>\n",
       "      <th>timestamp</th>\n",
       "      <th>Tematicas</th>\n",
       "    </tr>\n",
       "  </thead>\n",
       "  <tbody>\n",
       "    <tr>\n",
       "      <th>1692</th>\n",
       "      <td>255776</td>\n",
       "      <td>92</td>\n",
       "      <td>190</td>\n",
       "      <td>0.250</td>\n",
       "      <td>2018-08-03</td>\n",
       "      <td>[]</td>\n",
       "    </tr>\n",
       "    <tr>\n",
       "      <th>1695</th>\n",
       "      <td>255779</td>\n",
       "      <td>92</td>\n",
       "      <td>190</td>\n",
       "      <td>0.250</td>\n",
       "      <td>2019-03-19</td>\n",
       "      <td>[[filosofía, francés]]</td>\n",
       "    </tr>\n",
       "    <tr>\n",
       "      <th>1701</th>\n",
       "      <td>255783</td>\n",
       "      <td>92</td>\n",
       "      <td>800</td>\n",
       "      <td>0.250</td>\n",
       "      <td>2019-02-13</td>\n",
       "      <td>[[literatura, moral]]</td>\n",
       "    </tr>\n",
       "    <tr>\n",
       "      <th>1850</th>\n",
       "      <td>256000</td>\n",
       "      <td>92</td>\n",
       "      <td>190</td>\n",
       "      <td>0.125</td>\n",
       "      <td>2019-05-22</td>\n",
       "      <td>[[filosofía, alemán], [filosofía, alemán]]</td>\n",
       "    </tr>\n",
       "    <tr>\n",
       "      <th>1864</th>\n",
       "      <td>256034</td>\n",
       "      <td>92</td>\n",
       "      <td>130</td>\n",
       "      <td>0.125</td>\n",
       "      <td>2018-11-08</td>\n",
       "      <td>[]</td>\n",
       "    </tr>\n",
       "    <tr>\n",
       "      <th>...</th>\n",
       "      <td>...</td>\n",
       "      <td>...</td>\n",
       "      <td>...</td>\n",
       "      <td>...</td>\n",
       "      <td>...</td>\n",
       "      <td>...</td>\n",
       "    </tr>\n",
       "    <tr>\n",
       "      <th>179612</th>\n",
       "      <td>885340</td>\n",
       "      <td>92</td>\n",
       "      <td>840</td>\n",
       "      <td>1.000</td>\n",
       "      <td>2019-11-19</td>\n",
       "      <td>[[poesía, francés]]</td>\n",
       "    </tr>\n",
       "    <tr>\n",
       "      <th>179635</th>\n",
       "      <td>885617</td>\n",
       "      <td>92</td>\n",
       "      <td>840</td>\n",
       "      <td>0.500</td>\n",
       "      <td>2019-01-21</td>\n",
       "      <td>[[cuento, francés]]</td>\n",
       "    </tr>\n",
       "    <tr>\n",
       "      <th>182378</th>\n",
       "      <td>908913</td>\n",
       "      <td>92</td>\n",
       "      <td>270</td>\n",
       "      <td>0.250</td>\n",
       "      <td>2019-01-21</td>\n",
       "      <td>[[cristianismo, historia]]</td>\n",
       "    </tr>\n",
       "    <tr>\n",
       "      <th>183156</th>\n",
       "      <td>915537</td>\n",
       "      <td>92</td>\n",
       "      <td>110</td>\n",
       "      <td>0.750</td>\n",
       "      <td>2019-02-06</td>\n",
       "      <td>[[filosofía, naturaleza]]</td>\n",
       "    </tr>\n",
       "    <tr>\n",
       "      <th>184382</th>\n",
       "      <td>922339</td>\n",
       "      <td>92</td>\n",
       "      <td>190</td>\n",
       "      <td>0.750</td>\n",
       "      <td>2019-03-25</td>\n",
       "      <td>[[filosofía, francés]]</td>\n",
       "    </tr>\n",
       "  </tbody>\n",
       "</table>\n",
       "<p>364 rows × 6 columns</p>\n",
       "</div>"
      ],
      "text/plain": [
       "        Llaves  cluster Dewey  Peso del prestamos  timestamp  \\\n",
       "1692    255776       92   190               0.250 2018-08-03   \n",
       "1695    255779       92   190               0.250 2019-03-19   \n",
       "1701    255783       92   800               0.250 2019-02-13   \n",
       "1850    256000       92   190               0.125 2019-05-22   \n",
       "1864    256034       92   130               0.125 2018-11-08   \n",
       "...        ...      ...   ...                 ...        ...   \n",
       "179612  885340       92   840               1.000 2019-11-19   \n",
       "179635  885617       92   840               0.500 2019-01-21   \n",
       "182378  908913       92   270               0.250 2019-01-21   \n",
       "183156  915537       92   110               0.750 2019-02-06   \n",
       "184382  922339       92   190               0.750 2019-03-25   \n",
       "\n",
       "                                         Tematicas  \n",
       "1692                                            []  \n",
       "1695                        [[filosofía, francés]]  \n",
       "1701                         [[literatura, moral]]  \n",
       "1850    [[filosofía, alemán], [filosofía, alemán]]  \n",
       "1864                                            []  \n",
       "...                                            ...  \n",
       "179612                         [[poesía, francés]]  \n",
       "179635                         [[cuento, francés]]  \n",
       "182378                  [[cristianismo, historia]]  \n",
       "183156                   [[filosofía, naturaleza]]  \n",
       "184382                      [[filosofía, francés]]  \n",
       "\n",
       "[364 rows x 6 columns]"
      ]
     },
     "metadata": {},
     "output_type": "display_data"
    },
    {
     "name": "stdout",
     "output_type": "stream",
     "text": [
      "['190' '800' '130' '880' '740' '110' '140' '180' '840' '260' '710' '810'\n",
      " '720' '860' '330' '920' '400' '750' '150' '890' '370' '820' '300' '320'\n",
      " '780' '170' '520' '590' '20' '500' '120' '830' '0' '460' 'Video' '700'\n",
      " '570' '900' '580' '850' '440' '270' '340' '610' '980']\n"
     ]
    }
   ],
   "source": [
    "df_info_clus, df_clus_deweys, df_clus_tems = generateClusterInfo(CLUSTER_EVAL)"
   ]
  },
  {
   "cell_type": "markdown",
   "id": "4fc27f5f",
   "metadata": {
    "nteract": {
     "transient": {
      "deleting": false
     }
    }
   },
   "source": [
    "# Modelos"
   ]
  },
  {
   "cell_type": "markdown",
   "id": "39ad13aa",
   "metadata": {
    "nteract": {
     "transient": {
      "deleting": false
     }
    }
   },
   "source": [
    "## SAR Temáticas"
   ]
  },
  {
   "cell_type": "code",
   "execution_count": 17,
   "id": "4457d5dc",
   "metadata": {
    "gather": {
     "logged": 1633393934347
    },
    "jupyter": {
     "outputs_hidden": false,
     "source_hidden": false
    },
    "nteract": {
     "transient": {
      "deleting": false
     }
    }
   },
   "outputs": [],
   "source": [
    "sar_model_path = basePath + \"5brcaex6fdqs3yc/sar_predictor_temas_100k_10011910.pkl?dl=1\""
   ]
  },
  {
   "cell_type": "code",
   "execution_count": 18,
   "id": "e3a3b51d",
   "metadata": {
    "gather": {
     "logged": 1633394271288
    },
    "jupyter": {
     "outputs_hidden": false,
     "source_hidden": false
    },
    "nteract": {
     "transient": {
      "deleting": false
     }
    }
   },
   "outputs": [
    {
     "name": "stderr",
     "output_type": "stream",
     "text": [
      "/opt/anaconda3/envs/rec_base/lib/python3.7/site-packages/papermill/iorw.py:50: FutureWarning: pyarrow.HadoopFileSystem is deprecated as of 2.0.0, please use pyarrow.fs.HadoopFileSystem instead.\n",
      "  from pyarrow import HadoopFileSystem\n"
     ]
    }
   ],
   "source": [
    "with gzip.open(urllib.request.urlopen(sar_model_path), 'rb') as f:\n",
    "    p = pickle.Unpickler(f)\n",
    "    sar_predictor = p.load()"
   ]
  },
  {
   "cell_type": "code",
   "execution_count": 19,
   "id": "113c47ed",
   "metadata": {
    "gather": {
     "logged": 1633394532405
    },
    "jupyter": {
     "outputs_hidden": false,
     "source_hidden": false
    },
    "nteract": {
     "transient": {
      "deleting": false
     }
    }
   },
   "outputs": [],
   "source": [
    "sar_preds = sar_predictor.predict_for_cluster(cluster=CLUSTER_EVAL)"
   ]
  },
  {
   "cell_type": "code",
   "execution_count": 20,
   "id": "0e3126af",
   "metadata": {
    "gather": {
     "logged": 1633394672213
    },
    "jupyter": {
     "outputs_hidden": false,
     "source_hidden": false
    },
    "nteract": {
     "transient": {
      "deleting": false
     }
    }
   },
   "outputs": [
    {
     "data": {
      "text/html": [
       "<div>\n",
       "<style scoped>\n",
       "    .dataframe tbody tr th:only-of-type {\n",
       "        vertical-align: middle;\n",
       "    }\n",
       "\n",
       "    .dataframe tbody tr th {\n",
       "        vertical-align: top;\n",
       "    }\n",
       "\n",
       "    .dataframe thead th {\n",
       "        text-align: right;\n",
       "    }\n",
       "</style>\n",
       "<table border=\"1\" class=\"dataframe\">\n",
       "  <thead>\n",
       "    <tr style=\"text-align: right;\">\n",
       "      <th></th>\n",
       "      <th>Titulo</th>\n",
       "      <th>Tematicas</th>\n",
       "      <th>Llave</th>\n",
       "    </tr>\n",
       "  </thead>\n",
       "  <tbody>\n",
       "    <tr>\n",
       "      <th>0</th>\n",
       "      <td>[Entre nosotros ensayos para pensar en otro Em...</td>\n",
       "      <td>[[filosofía, francés]]</td>\n",
       "      <td>341300</td>\n",
       "    </tr>\n",
       "    <tr>\n",
       "      <th>1</th>\n",
       "      <td>[La filosofía de Martín Heidegger Alfonso de W...</td>\n",
       "      <td>[[filosofía, alemán]]</td>\n",
       "      <td>271907</td>\n",
       "    </tr>\n",
       "    <tr>\n",
       "      <th>2</th>\n",
       "      <td>[Deleuze, Whitehead, Bergson rhizomatic connec...</td>\n",
       "      <td>[[filosofía, francés]]</td>\n",
       "      <td>795173</td>\n",
       "    </tr>\n",
       "    <tr>\n",
       "      <th>3</th>\n",
       "      <td>[Deshoras Julio Cortázar]</td>\n",
       "      <td>[[cuento, argentino]]</td>\n",
       "      <td>678233</td>\n",
       "    </tr>\n",
       "    <tr>\n",
       "      <th>4</th>\n",
       "      <td>[Rizoma introducción Gilles Deleuze y Pierre F...</td>\n",
       "      <td>[[filosofía, francés]]</td>\n",
       "      <td>341323</td>\n",
       "    </tr>\n",
       "    <tr>\n",
       "      <th>5</th>\n",
       "      <td>[Memorias del subsuelo Fédor Mikhailovitch Dos...</td>\n",
       "      <td>[[novela, ruso]]</td>\n",
       "      <td>725775</td>\n",
       "    </tr>\n",
       "    <tr>\n",
       "      <th>6</th>\n",
       "      <td>[Compendio de psicología William James]</td>\n",
       "      <td>[[psicología]]</td>\n",
       "      <td>330489</td>\n",
       "    </tr>\n",
       "    <tr>\n",
       "      <th>7</th>\n",
       "      <td>[Obras filosoficas Discurso del metodo, Tratad...</td>\n",
       "      <td>[[filosofía, francés]]</td>\n",
       "      <td>272620</td>\n",
       "    </tr>\n",
       "    <tr>\n",
       "      <th>8</th>\n",
       "      <td>[Gilles Deleuze Claire Colebrook]</td>\n",
       "      <td>[[filosofía, francés]]</td>\n",
       "      <td>797150</td>\n",
       "    </tr>\n",
       "    <tr>\n",
       "      <th>9</th>\n",
       "      <td>[El multiculturalismo y \"la política del recon...</td>\n",
       "      <td>[[multiculturalismo]]</td>\n",
       "      <td>347754</td>\n",
       "    </tr>\n",
       "  </tbody>\n",
       "</table>\n",
       "</div>"
      ],
      "text/plain": [
       "                                              Titulo               Tematicas  \\\n",
       "0  [Entre nosotros ensayos para pensar en otro Em...  [[filosofía, francés]]   \n",
       "1  [La filosofía de Martín Heidegger Alfonso de W...   [[filosofía, alemán]]   \n",
       "2  [Deleuze, Whitehead, Bergson rhizomatic connec...  [[filosofía, francés]]   \n",
       "3                          [Deshoras Julio Cortázar]   [[cuento, argentino]]   \n",
       "4  [Rizoma introducción Gilles Deleuze y Pierre F...  [[filosofía, francés]]   \n",
       "5  [Memorias del subsuelo Fédor Mikhailovitch Dos...        [[novela, ruso]]   \n",
       "6            [Compendio de psicología William James]          [[psicología]]   \n",
       "7  [Obras filosoficas Discurso del metodo, Tratad...  [[filosofía, francés]]   \n",
       "8                  [Gilles Deleuze Claire Colebrook]  [[filosofía, francés]]   \n",
       "9  [El multiculturalismo y \"la política del recon...   [[multiculturalismo]]   \n",
       "\n",
       "    Llave  \n",
       "0  341300  \n",
       "1  271907  \n",
       "2  795173  \n",
       "3  678233  \n",
       "4  341323  \n",
       "5  725775  \n",
       "6  330489  \n",
       "7  272620  \n",
       "8  797150  \n",
       "9  347754  "
      ]
     },
     "metadata": {},
     "output_type": "display_data"
    }
   ],
   "source": [
    "df_info_pred_sar, df_pred_sar_tems = generateRecsInfopreds(sar_preds)"
   ]
  },
  {
   "cell_type": "code",
   "execution_count": 21,
   "id": "fe91ccb7",
   "metadata": {
    "gather": {
     "logged": 1633394678300
    },
    "jupyter": {
     "outputs_hidden": false,
     "source_hidden": false
    },
    "nteract": {
     "transient": {
      "deleting": false
     }
    },
    "scrolled": true
   },
   "outputs": [
    {
     "name": "stdout",
     "output_type": "stream",
     "text": [
      "Diferencia:  set()\n",
      "Intersección:  {'ruso', 'francés', 'filosofía', 'psicología', 'argentino', 'multiculturalismo', 'alemán', 'cuento', 'novela'}\n"
     ]
    },
    {
     "data": {
      "text/plain": [
       "(set(),\n",
       " {'alemán',\n",
       "  'argentino',\n",
       "  'cuento',\n",
       "  'filosofía',\n",
       "  'francés',\n",
       "  'multiculturalismo',\n",
       "  'novela',\n",
       "  'psicología',\n",
       "  'ruso'})"
      ]
     },
     "execution_count": 21,
     "metadata": {},
     "output_type": "execute_result"
    }
   ],
   "source": [
    "compare_recs(df_pred_sar_tems, df_clus_tems)"
   ]
  },
  {
   "cell_type": "markdown",
   "id": "450b8b11",
   "metadata": {},
   "source": [
    "## SAR Carreras"
   ]
  },
  {
   "cell_type": "code",
   "execution_count": 22,
   "id": "4163485a",
   "metadata": {},
   "outputs": [],
   "source": [
    "CARRERA_EVAL = \"CARRERA DE INGENIERÍA DE SISTEMAS\""
   ]
  },
  {
   "cell_type": "code",
   "execution_count": 23,
   "id": "67701b2a",
   "metadata": {
    "gather": {
     "logged": 1633393934347
    },
    "jupyter": {
     "outputs_hidden": false,
     "source_hidden": false
    },
    "nteract": {
     "transient": {
      "deleting": false
     }
    }
   },
   "outputs": [],
   "source": [
    "sar_model_carreras_path = basePath + \"t5rzulbabu7ca0y/sar_predictor_carreras_100k_10120810.pkl?dl=1\""
   ]
  },
  {
   "cell_type": "code",
   "execution_count": 24,
   "id": "7f2c802c",
   "metadata": {
    "gather": {
     "logged": 1633394271288
    },
    "jupyter": {
     "outputs_hidden": false,
     "source_hidden": false
    },
    "nteract": {
     "transient": {
      "deleting": false
     }
    }
   },
   "outputs": [],
   "source": [
    "with gzip.open(urllib.request.urlopen(sar_model_carreras_path), 'rb') as f:\n",
    "    p = pickle.Unpickler(f)\n",
    "    sar_predictor_carreras = p.load()"
   ]
  },
  {
   "cell_type": "code",
   "execution_count": 25,
   "id": "20ee1fcc",
   "metadata": {
    "gather": {
     "logged": 1633394532405
    },
    "jupyter": {
     "outputs_hidden": false,
     "source_hidden": false
    },
    "nteract": {
     "transient": {
      "deleting": false
     }
    }
   },
   "outputs": [],
   "source": [
    "sar_preds_carreras = sar_predictor_carreras.predict_for_cluster(cluster=CARRERA_EVAL)"
   ]
  },
  {
   "cell_type": "code",
   "execution_count": 26,
   "id": "e99e057d",
   "metadata": {},
   "outputs": [
    {
     "data": {
      "text/html": [
       "<div>\n",
       "<style scoped>\n",
       "    .dataframe tbody tr th:only-of-type {\n",
       "        vertical-align: middle;\n",
       "    }\n",
       "\n",
       "    .dataframe tbody tr th {\n",
       "        vertical-align: top;\n",
       "    }\n",
       "\n",
       "    .dataframe thead th {\n",
       "        text-align: right;\n",
       "    }\n",
       "</style>\n",
       "<table border=\"1\" class=\"dataframe\">\n",
       "  <thead>\n",
       "    <tr style=\"text-align: right;\">\n",
       "      <th></th>\n",
       "      <th>userID</th>\n",
       "      <th>itemID</th>\n",
       "      <th>rating</th>\n",
       "      <th>timestamp</th>\n",
       "    </tr>\n",
       "  </thead>\n",
       "  <tbody>\n",
       "    <tr>\n",
       "      <th>0</th>\n",
       "      <td>CARRERA DE DERECHO</td>\n",
       "      <td>199645</td>\n",
       "      <td>0.084746</td>\n",
       "      <td>1.566259e+09</td>\n",
       "    </tr>\n",
       "    <tr>\n",
       "      <th>1</th>\n",
       "      <td>CARRERA DE RELACIONES INTERNACIONALES</td>\n",
       "      <td>199645</td>\n",
       "      <td>0.084746</td>\n",
       "      <td>1.554941e+09</td>\n",
       "    </tr>\n",
       "    <tr>\n",
       "      <th>2</th>\n",
       "      <td>CARRERA DE CIENCIA DE LA INFORMACIÓN - BIBLIOT...</td>\n",
       "      <td>199810</td>\n",
       "      <td>0.042373</td>\n",
       "      <td>1.525738e+09</td>\n",
       "    </tr>\n",
       "    <tr>\n",
       "      <th>3</th>\n",
       "      <td>CARRERA DE CIENCIA DE LA INFORMACIÓN - BIBLIOT...</td>\n",
       "      <td>199825</td>\n",
       "      <td>0.042373</td>\n",
       "      <td>1.583280e+09</td>\n",
       "    </tr>\n",
       "    <tr>\n",
       "      <th>4</th>\n",
       "      <td>CARRERA DE ESTUDIOS MUSICALES</td>\n",
       "      <td>200299</td>\n",
       "      <td>0.021186</td>\n",
       "      <td>1.546430e+09</td>\n",
       "    </tr>\n",
       "    <tr>\n",
       "      <th>...</th>\n",
       "      <td>...</td>\n",
       "      <td>...</td>\n",
       "      <td>...</td>\n",
       "      <td>...</td>\n",
       "    </tr>\n",
       "    <tr>\n",
       "      <th>99995</th>\n",
       "      <td>MAESTRÍA EN Filosofía</td>\n",
       "      <td>796341</td>\n",
       "      <td>0.084746</td>\n",
       "      <td>1.569888e+09</td>\n",
       "    </tr>\n",
       "    <tr>\n",
       "      <th>99996</th>\n",
       "      <td>CARRERA DE ECOLOGÍA</td>\n",
       "      <td>796343</td>\n",
       "      <td>0.042373</td>\n",
       "      <td>1.548115e+09</td>\n",
       "    </tr>\n",
       "    <tr>\n",
       "      <th>99997</th>\n",
       "      <td>DEPARTAMENTO DE INGENIERÍA CIVIL</td>\n",
       "      <td>796343</td>\n",
       "      <td>0.127119</td>\n",
       "      <td>1.563322e+09</td>\n",
       "    </tr>\n",
       "    <tr>\n",
       "      <th>99998</th>\n",
       "      <td>LICENCIATURA EN TEOLOGÍA</td>\n",
       "      <td>796346</td>\n",
       "      <td>0.127119</td>\n",
       "      <td>1.563840e+09</td>\n",
       "    </tr>\n",
       "    <tr>\n",
       "      <th>99999</th>\n",
       "      <td>CARRERA DE INGENIERÍA CIVIL</td>\n",
       "      <td>796347</td>\n",
       "      <td>0.042373</td>\n",
       "      <td>1.562112e+09</td>\n",
       "    </tr>\n",
       "  </tbody>\n",
       "</table>\n",
       "<p>100000 rows × 4 columns</p>\n",
       "</div>"
      ],
      "text/plain": [
       "                                                  userID  itemID    rating  \\\n",
       "0                                     CARRERA DE DERECHO  199645  0.084746   \n",
       "1                  CARRERA DE RELACIONES INTERNACIONALES  199645  0.084746   \n",
       "2      CARRERA DE CIENCIA DE LA INFORMACIÓN - BIBLIOT...  199810  0.042373   \n",
       "3      CARRERA DE CIENCIA DE LA INFORMACIÓN - BIBLIOT...  199825  0.042373   \n",
       "4                          CARRERA DE ESTUDIOS MUSICALES  200299  0.021186   \n",
       "...                                                  ...     ...       ...   \n",
       "99995                              MAESTRÍA EN Filosofía  796341  0.084746   \n",
       "99996                                CARRERA DE ECOLOGÍA  796343  0.042373   \n",
       "99997                   DEPARTAMENTO DE INGENIERÍA CIVIL  796343  0.127119   \n",
       "99998                           LICENCIATURA EN TEOLOGÍA  796346  0.127119   \n",
       "99999                        CARRERA DE INGENIERÍA CIVIL  796347  0.042373   \n",
       "\n",
       "          timestamp  \n",
       "0      1.566259e+09  \n",
       "1      1.554941e+09  \n",
       "2      1.525738e+09  \n",
       "3      1.583280e+09  \n",
       "4      1.546430e+09  \n",
       "...             ...  \n",
       "99995  1.569888e+09  \n",
       "99996  1.548115e+09  \n",
       "99997  1.563322e+09  \n",
       "99998  1.563840e+09  \n",
       "99999  1.562112e+09  \n",
       "\n",
       "[100000 rows x 4 columns]"
      ]
     },
     "execution_count": 26,
     "metadata": {},
     "output_type": "execute_result"
    }
   ],
   "source": [
    "sar_predictor_carreras.dataset"
   ]
  },
  {
   "cell_type": "code",
   "execution_count": 27,
   "id": "0f8c35c5",
   "metadata": {},
   "outputs": [
    {
     "data": {
      "text/plain": [
       "72057    713692\n",
       "58739    668826\n",
       "10569    279206\n",
       "89746    762003\n",
       "16830    301931\n",
       "15236    296025\n",
       "74685    722029\n",
       "13622    288369\n",
       "72141    714070\n",
       "8235     274655\n",
       "Name: itemID, dtype: object"
      ]
     },
     "execution_count": 27,
     "metadata": {},
     "output_type": "execute_result"
    }
   ],
   "source": [
    "sar_preds_carreras"
   ]
  },
  {
   "cell_type": "code",
   "execution_count": 28,
   "id": "4cc5d7af",
   "metadata": {
    "gather": {
     "logged": 1633394672213
    },
    "jupyter": {
     "outputs_hidden": false,
     "source_hidden": false
    },
    "nteract": {
     "transient": {
      "deleting": false
     }
    }
   },
   "outputs": [
    {
     "data": {
      "text/html": [
       "<div>\n",
       "<style scoped>\n",
       "    .dataframe tbody tr th:only-of-type {\n",
       "        vertical-align: middle;\n",
       "    }\n",
       "\n",
       "    .dataframe tbody tr th {\n",
       "        vertical-align: top;\n",
       "    }\n",
       "\n",
       "    .dataframe thead th {\n",
       "        text-align: right;\n",
       "    }\n",
       "</style>\n",
       "<table border=\"1\" class=\"dataframe\">\n",
       "  <thead>\n",
       "    <tr style=\"text-align: right;\">\n",
       "      <th></th>\n",
       "      <th>Titulo</th>\n",
       "      <th>Tematicas</th>\n",
       "      <th>Llave</th>\n",
       "    </tr>\n",
       "  </thead>\n",
       "  <tbody>\n",
       "    <tr>\n",
       "      <th>0</th>\n",
       "      <td>[[Shin Bunka Nihongo]]</td>\n",
       "      <td>[[japonés, enseñanza], [japonés, enseñanza]]</td>\n",
       "      <td>713692</td>\n",
       "    </tr>\n",
       "    <tr>\n",
       "      <th>1</th>\n",
       "      <td>[IELTS practice tests James Milton, Huw Bell a...</td>\n",
       "      <td>[[inglés, enseñanza, estudiante, extranjero], ...</td>\n",
       "      <td>668826</td>\n",
       "    </tr>\n",
       "    <tr>\n",
       "      <th>2</th>\n",
       "      <td>[Gargantua Francois Rebelais]</td>\n",
       "      <td>[[novela, francés]]</td>\n",
       "      <td>279206</td>\n",
       "    </tr>\n",
       "    <tr>\n",
       "      <th>3</th>\n",
       "      <td>[[Dulce de queso] Konami Kanata]</td>\n",
       "      <td>[[japonés, libro, lectura], [japonés, libro, l...</td>\n",
       "      <td>762003</td>\n",
       "    </tr>\n",
       "    <tr>\n",
       "      <th>4</th>\n",
       "      <td>[Curso de títulos valores jurisprudencia-doctr...</td>\n",
       "      <td>[[documento, negociable]]</td>\n",
       "      <td>301931</td>\n",
       "    </tr>\n",
       "    <tr>\n",
       "      <th>5</th>\n",
       "      <td>[Tus zonas erroneas Wayne W. Dyer, Datos sobre...</td>\n",
       "      <td>[[seguridad, psicología]]</td>\n",
       "      <td>296025</td>\n",
       "    </tr>\n",
       "    <tr>\n",
       "      <th>6</th>\n",
       "      <td>[Comedia Dante Alighieri ; traducción, prólogo...</td>\n",
       "      <td>[[poesía, italiano], [poesía, italiano], [poes...</td>\n",
       "      <td>722029</td>\n",
       "    </tr>\n",
       "    <tr>\n",
       "      <th>7</th>\n",
       "      <td>[Introducción a la astronomia el sistema solar...</td>\n",
       "      <td>[[mecánico, celeste]]</td>\n",
       "      <td>288369</td>\n",
       "    </tr>\n",
       "    <tr>\n",
       "      <th>8</th>\n",
       "      <td>[Tratado de fisiología médica Arthur Clifton G...</td>\n",
       "      <td>[[fisiología, humano]]</td>\n",
       "      <td>714070</td>\n",
       "    </tr>\n",
       "    <tr>\n",
       "      <th>9</th>\n",
       "      <td>[Punto y  línea sobre el plano contribución al...</td>\n",
       "      <td>[[pintura, investigación]]</td>\n",
       "      <td>274655</td>\n",
       "    </tr>\n",
       "  </tbody>\n",
       "</table>\n",
       "</div>"
      ],
      "text/plain": [
       "                                              Titulo  \\\n",
       "0                             [[Shin Bunka Nihongo]]   \n",
       "1  [IELTS practice tests James Milton, Huw Bell a...   \n",
       "2                      [Gargantua Francois Rebelais]   \n",
       "3                   [[Dulce de queso] Konami Kanata]   \n",
       "4  [Curso de títulos valores jurisprudencia-doctr...   \n",
       "5  [Tus zonas erroneas Wayne W. Dyer, Datos sobre...   \n",
       "6  [Comedia Dante Alighieri ; traducción, prólogo...   \n",
       "7  [Introducción a la astronomia el sistema solar...   \n",
       "8  [Tratado de fisiología médica Arthur Clifton G...   \n",
       "9  [Punto y  línea sobre el plano contribución al...   \n",
       "\n",
       "                                           Tematicas   Llave  \n",
       "0       [[japonés, enseñanza], [japonés, enseñanza]]  713692  \n",
       "1  [[inglés, enseñanza, estudiante, extranjero], ...  668826  \n",
       "2                                [[novela, francés]]  279206  \n",
       "3  [[japonés, libro, lectura], [japonés, libro, l...  762003  \n",
       "4                          [[documento, negociable]]  301931  \n",
       "5                          [[seguridad, psicología]]  296025  \n",
       "6  [[poesía, italiano], [poesía, italiano], [poes...  722029  \n",
       "7                              [[mecánico, celeste]]  288369  \n",
       "8                             [[fisiología, humano]]  714070  \n",
       "9                         [[pintura, investigación]]  274655  "
      ]
     },
     "metadata": {},
     "output_type": "display_data"
    }
   ],
   "source": [
    "df_info_pred_carreras_sar, df_pred_carreras_sar_tems = generateRecsInfopreds(sar_preds_carreras)"
   ]
  },
  {
   "cell_type": "code",
   "execution_count": 29,
   "id": "fe91ccb7",
   "metadata": {
    "gather": {
     "logged": 1633394678300
    },
    "jupyter": {
     "outputs_hidden": false,
     "source_hidden": false
    },
    "nteract": {
     "transient": {
      "deleting": false
     }
    }
   },
   "outputs": [
    {
     "name": "stdout",
     "output_type": "stream",
     "text": [
      "Diferencia:  {'negociable', 'extranjero', 'documento', 'seguridad', 'fisiología', 'japonés', 'lectura', 'humano', 'mecánico', 'estudiante', 'celeste', 'enseñanza', 'libro'}\n",
      "Intersección:  {'inglés', 'francés', 'italiano', 'psicología', 'pintura', 'investigación', 'poesía', 'novela'}\n"
     ]
    },
    {
     "data": {
      "text/plain": [
       "({'celeste',\n",
       "  'documento',\n",
       "  'enseñanza',\n",
       "  'estudiante',\n",
       "  'extranjero',\n",
       "  'fisiología',\n",
       "  'humano',\n",
       "  'japonés',\n",
       "  'lectura',\n",
       "  'libro',\n",
       "  'mecánico',\n",
       "  'negociable',\n",
       "  'seguridad'},\n",
       " {'francés',\n",
       "  'inglés',\n",
       "  'investigación',\n",
       "  'italiano',\n",
       "  'novela',\n",
       "  'pintura',\n",
       "  'poesía',\n",
       "  'psicología'})"
      ]
     },
     "execution_count": 29,
     "metadata": {},
     "output_type": "execute_result"
    }
   ],
   "source": [
    "compare_recs(df_pred_carreras_sar_tems, df_clus_tems)"
   ]
  },
  {
   "cell_type": "code",
   "execution_count": null,
   "id": "af252bed",
   "metadata": {},
   "outputs": [],
   "source": []
  },
  {
   "cell_type": "code",
   "execution_count": 30,
   "id": "80693b41",
   "metadata": {},
   "outputs": [],
   "source": [
    "%load_ext autoreload\n",
    "%autoreload 2"
   ]
  },
  {
   "cell_type": "markdown",
   "id": "4378f6a7",
   "metadata": {},
   "source": [
    "# Dash app"
   ]
  },
  {
   "cell_type": "code",
   "execution_count": 31,
   "id": "72ba147e",
   "metadata": {},
   "outputs": [
    {
     "name": "stdout",
     "output_type": "stream",
     "text": [
      "Requirement already satisfied: jupyter-dash in /opt/anaconda3/envs/rec_base/lib/python3.7/site-packages (0.4.0)\n",
      "Requirement already satisfied: ipykernel in /opt/anaconda3/envs/rec_base/lib/python3.7/site-packages (from jupyter-dash) (6.4.0)\n",
      "Requirement already satisfied: retrying in /opt/anaconda3/envs/rec_base/lib/python3.7/site-packages (from jupyter-dash) (1.3.3)\n",
      "Requirement already satisfied: ansi2html in /opt/anaconda3/envs/rec_base/lib/python3.7/site-packages (from jupyter-dash) (1.6.0)\n",
      "Requirement already satisfied: ipython in /opt/anaconda3/envs/rec_base/lib/python3.7/site-packages (from jupyter-dash) (7.27.0)\n",
      "Requirement already satisfied: requests in /opt/anaconda3/envs/rec_base/lib/python3.7/site-packages (from jupyter-dash) (2.26.0)\n",
      "Requirement already satisfied: dash in /opt/anaconda3/envs/rec_base/lib/python3.7/site-packages (from jupyter-dash) (2.0.0)\n",
      "Requirement already satisfied: flask in /opt/anaconda3/envs/rec_base/lib/python3.7/site-packages (from jupyter-dash) (2.0.2)\n",
      "Requirement already satisfied: dash-core-components==2.0.0 in /opt/anaconda3/envs/rec_base/lib/python3.7/site-packages (from dash->jupyter-dash) (2.0.0)\n",
      "Requirement already satisfied: dash-html-components==2.0.0 in /opt/anaconda3/envs/rec_base/lib/python3.7/site-packages (from dash->jupyter-dash) (2.0.0)\n",
      "Requirement already satisfied: dash-table==5.0.0 in /opt/anaconda3/envs/rec_base/lib/python3.7/site-packages (from dash->jupyter-dash) (5.0.0)\n",
      "Requirement already satisfied: plotly>=5.0.0 in /opt/anaconda3/envs/rec_base/lib/python3.7/site-packages (from dash->jupyter-dash) (5.3.1)\n",
      "Requirement already satisfied: flask-compress in /opt/anaconda3/envs/rec_base/lib/python3.7/site-packages (from dash->jupyter-dash) (1.10.1)\n",
      "Requirement already satisfied: click>=7.1.2 in /opt/anaconda3/envs/rec_base/lib/python3.7/site-packages (from flask->jupyter-dash) (8.0.1)\n",
      "Requirement already satisfied: Jinja2>=3.0 in /opt/anaconda3/envs/rec_base/lib/python3.7/site-packages (from flask->jupyter-dash) (3.0.1)\n",
      "Requirement already satisfied: Werkzeug>=2.0 in /opt/anaconda3/envs/rec_base/lib/python3.7/site-packages (from flask->jupyter-dash) (2.0.2)\n",
      "Requirement already satisfied: itsdangerous>=2.0 in /opt/anaconda3/envs/rec_base/lib/python3.7/site-packages (from flask->jupyter-dash) (2.0.1)\n",
      "Requirement already satisfied: importlib-metadata in /opt/anaconda3/envs/rec_base/lib/python3.7/site-packages (from click>=7.1.2->flask->jupyter-dash) (4.8.1)\n",
      "Requirement already satisfied: MarkupSafe>=2.0 in /opt/anaconda3/envs/rec_base/lib/python3.7/site-packages (from Jinja2>=3.0->flask->jupyter-dash) (2.0.1)\n",
      "Requirement already satisfied: tenacity>=6.2.0 in /opt/anaconda3/envs/rec_base/lib/python3.7/site-packages (from plotly>=5.0.0->dash->jupyter-dash) (8.0.1)\n",
      "Requirement already satisfied: six in /opt/anaconda3/envs/rec_base/lib/python3.7/site-packages (from plotly>=5.0.0->dash->jupyter-dash) (1.16.0)\n",
      "Requirement already satisfied: brotli in /opt/anaconda3/envs/rec_base/lib/python3.7/site-packages (from flask-compress->dash->jupyter-dash) (1.0.9)\n",
      "Requirement already satisfied: zipp>=0.5 in /opt/anaconda3/envs/rec_base/lib/python3.7/site-packages (from importlib-metadata->click>=7.1.2->flask->jupyter-dash) (3.5.0)\n",
      "Requirement already satisfied: typing-extensions>=3.6.4 in /opt/anaconda3/envs/rec_base/lib/python3.7/site-packages (from importlib-metadata->click>=7.1.2->flask->jupyter-dash) (3.10.0.2)\n",
      "Requirement already satisfied: jupyter-client<8.0 in /opt/anaconda3/envs/rec_base/lib/python3.7/site-packages (from ipykernel->jupyter-dash) (7.0.3)\n",
      "Requirement already satisfied: debugpy<2.0,>=1.0.0 in /opt/anaconda3/envs/rec_base/lib/python3.7/site-packages (from ipykernel->jupyter-dash) (1.4.1)\n",
      "Requirement already satisfied: ipython-genutils in /opt/anaconda3/envs/rec_base/lib/python3.7/site-packages (from ipykernel->jupyter-dash) (0.2.0)\n",
      "Requirement already satisfied: tornado<7.0,>=4.2 in /opt/anaconda3/envs/rec_base/lib/python3.7/site-packages (from ipykernel->jupyter-dash) (6.1)\n",
      "Requirement already satisfied: argcomplete>=1.12.3 in /opt/anaconda3/envs/rec_base/lib/python3.7/site-packages (from ipykernel->jupyter-dash) (1.12.3)\n",
      "Requirement already satisfied: traitlets<6.0,>=4.1.0 in /opt/anaconda3/envs/rec_base/lib/python3.7/site-packages (from ipykernel->jupyter-dash) (5.1.0)\n",
      "Requirement already satisfied: appnope in /opt/anaconda3/envs/rec_base/lib/python3.7/site-packages (from ipykernel->jupyter-dash) (0.1.2)\n",
      "Requirement already satisfied: matplotlib-inline<0.2.0,>=0.1.0 in /opt/anaconda3/envs/rec_base/lib/python3.7/site-packages (from ipykernel->jupyter-dash) (0.1.3)\n",
      "Requirement already satisfied: pygments in /opt/anaconda3/envs/rec_base/lib/python3.7/site-packages (from ipython->jupyter-dash) (2.10.0)\n",
      "Requirement already satisfied: setuptools>=18.5 in /opt/anaconda3/envs/rec_base/lib/python3.7/site-packages (from ipython->jupyter-dash) (58.0.4)\n",
      "Requirement already satisfied: pickleshare in /opt/anaconda3/envs/rec_base/lib/python3.7/site-packages (from ipython->jupyter-dash) (0.7.5)\n",
      "Requirement already satisfied: jedi>=0.16 in /opt/anaconda3/envs/rec_base/lib/python3.7/site-packages (from ipython->jupyter-dash) (0.18.0)\n",
      "Requirement already satisfied: decorator in /opt/anaconda3/envs/rec_base/lib/python3.7/site-packages (from ipython->jupyter-dash) (5.1.0)\n",
      "Requirement already satisfied: prompt-toolkit!=3.0.0,!=3.0.1,<3.1.0,>=2.0.0 in /opt/anaconda3/envs/rec_base/lib/python3.7/site-packages (from ipython->jupyter-dash) (3.0.20)\n",
      "Requirement already satisfied: backcall in /opt/anaconda3/envs/rec_base/lib/python3.7/site-packages (from ipython->jupyter-dash) (0.2.0)\n",
      "Requirement already satisfied: pexpect>4.3 in /opt/anaconda3/envs/rec_base/lib/python3.7/site-packages (from ipython->jupyter-dash) (4.8.0)\n",
      "Requirement already satisfied: parso<0.9.0,>=0.8.0 in /opt/anaconda3/envs/rec_base/lib/python3.7/site-packages (from jedi>=0.16->ipython->jupyter-dash) (0.8.2)\n",
      "Requirement already satisfied: nest-asyncio>=1.5 in /opt/anaconda3/envs/rec_base/lib/python3.7/site-packages (from jupyter-client<8.0->ipykernel->jupyter-dash) (1.5.1)\n",
      "Requirement already satisfied: jupyter-core>=4.6.0 in /opt/anaconda3/envs/rec_base/lib/python3.7/site-packages (from jupyter-client<8.0->ipykernel->jupyter-dash) (4.8.1)\n",
      "Requirement already satisfied: pyzmq>=13 in /opt/anaconda3/envs/rec_base/lib/python3.7/site-packages (from jupyter-client<8.0->ipykernel->jupyter-dash) (22.3.0)\n",
      "Requirement already satisfied: entrypoints in /opt/anaconda3/envs/rec_base/lib/python3.7/site-packages (from jupyter-client<8.0->ipykernel->jupyter-dash) (0.3)\n",
      "Requirement already satisfied: python-dateutil>=2.1 in /opt/anaconda3/envs/rec_base/lib/python3.7/site-packages (from jupyter-client<8.0->ipykernel->jupyter-dash) (2.8.2)\n",
      "Requirement already satisfied: ptyprocess>=0.5 in /opt/anaconda3/envs/rec_base/lib/python3.7/site-packages (from pexpect>4.3->ipython->jupyter-dash) (0.7.0)\n",
      "Requirement already satisfied: wcwidth in /opt/anaconda3/envs/rec_base/lib/python3.7/site-packages (from prompt-toolkit!=3.0.0,!=3.0.1,<3.1.0,>=2.0.0->ipython->jupyter-dash) (0.2.5)\n",
      "Requirement already satisfied: certifi>=2017.4.17 in /opt/anaconda3/envs/rec_base/lib/python3.7/site-packages (from requests->jupyter-dash) (2021.10.8)\n",
      "Requirement already satisfied: urllib3<1.27,>=1.21.1 in /opt/anaconda3/envs/rec_base/lib/python3.7/site-packages (from requests->jupyter-dash) (1.26.7)\n",
      "Requirement already satisfied: idna<4,>=2.5 in /opt/anaconda3/envs/rec_base/lib/python3.7/site-packages (from requests->jupyter-dash) (3.2)\n",
      "Requirement already satisfied: charset-normalizer~=2.0.0 in /opt/anaconda3/envs/rec_base/lib/python3.7/site-packages (from requests->jupyter-dash) (2.0.6)\n",
      "\u001b[33mWARNING: Error parsing requirements for google-pasta: [Errno 2] No such file or directory: '/opt/anaconda3/envs/rec_base/lib/python3.7/site-packages/google_pasta-0.2.0.dist-info/METADATA'\u001b[0m\n",
      "\u001b[33mWARNING: Error parsing requirements for absl-py: [Errno 2] No such file or directory: '/opt/anaconda3/envs/rec_base/lib/python3.7/site-packages/absl_py-0.14.0.dist-info/METADATA'\u001b[0m\n"
     ]
    }
   ],
   "source": [
    "!pip install jupyter-dash"
   ]
  },
  {
   "cell_type": "code",
   "execution_count": 32,
   "id": "c6017d09",
   "metadata": {},
   "outputs": [],
   "source": [
    "from jupyter_dash import JupyterDash"
   ]
  },
  {
   "cell_type": "code",
   "execution_count": 33,
   "id": "14e7a000",
   "metadata": {},
   "outputs": [
    {
     "name": "stderr",
     "output_type": "stream",
     "text": [
      "/opt/anaconda3/envs/rec_base/lib/python3.7/site-packages/ipykernel_launcher.py:2: UserWarning: \n",
      "The dash_core_components package is deprecated. Please replace\n",
      "`import dash_core_components as dcc` with `from dash import dcc`\n",
      "  \n",
      "/opt/anaconda3/envs/rec_base/lib/python3.7/site-packages/ipykernel_launcher.py:3: UserWarning: \n",
      "The dash_html_components package is deprecated. Please replace\n",
      "`import dash_html_components as html` with `from dash import html`\n",
      "  This is separate from the ipykernel package so we can avoid doing imports until\n",
      "/opt/anaconda3/envs/rec_base/lib/python3.7/site-packages/ipykernel_launcher.py:4: UserWarning: \n",
      "The dash_table package is deprecated. Please replace\n",
      "`import dash_table` with `from dash import dash_table`\n",
      "\n",
      "Also, if you're using any of the table format helpers (e.g. Group), replace \n",
      "`from dash_table.Format import Group` with \n",
      "`from dash.dash_table.Format import Group`\n",
      "  after removing the cwd from sys.path.\n"
     ]
    }
   ],
   "source": [
    "import dash\n",
    "import dash_core_components as dcc\n",
    "import dash_html_components as html\n",
    "import dash_table\n",
    "from dash.dependencies import Input, Output"
   ]
  },
  {
   "cell_type": "code",
   "execution_count": 34,
   "id": "9d8d7628",
   "metadata": {},
   "outputs": [],
   "source": [
    "available_list = ['Cluster por temáticas', 'Programas académicos']"
   ]
  },
  {
   "cell_type": "code",
   "execution_count": 35,
   "id": "2f35fe28",
   "metadata": {},
   "outputs": [],
   "source": [
    "available_groups_temas = df_pesos_cluster_temas['cluster'].unique()"
   ]
  },
  {
   "cell_type": "code",
   "execution_count": 36,
   "id": "4a3bb07f",
   "metadata": {},
   "outputs": [],
   "source": [
    "available_groups_carreras = df_pesos_cluster_carreras['cluster'].unique()"
   ]
  },
  {
   "cell_type": "code",
   "execution_count": 37,
   "id": "fab365f1",
   "metadata": {},
   "outputs": [
    {
     "data": {
      "text/html": [
       "<div>\n",
       "<style scoped>\n",
       "    .dataframe tbody tr th:only-of-type {\n",
       "        vertical-align: middle;\n",
       "    }\n",
       "\n",
       "    .dataframe tbody tr th {\n",
       "        vertical-align: top;\n",
       "    }\n",
       "\n",
       "    .dataframe thead th {\n",
       "        text-align: right;\n",
       "    }\n",
       "</style>\n",
       "<table border=\"1\" class=\"dataframe\">\n",
       "  <thead>\n",
       "    <tr style=\"text-align: right;\">\n",
       "      <th></th>\n",
       "      <th>Titulo</th>\n",
       "      <th>Tematicas</th>\n",
       "      <th>Llave</th>\n",
       "    </tr>\n",
       "  </thead>\n",
       "  <tbody>\n",
       "    <tr>\n",
       "      <th>0</th>\n",
       "      <td>[Entre nosotros ensayos para pensar en otro Em...</td>\n",
       "      <td>[[filosofía, francés]]</td>\n",
       "      <td>341300</td>\n",
       "    </tr>\n",
       "    <tr>\n",
       "      <th>1</th>\n",
       "      <td>[La filosofía de Martín Heidegger Alfonso de W...</td>\n",
       "      <td>[[filosofía, alemán]]</td>\n",
       "      <td>271907</td>\n",
       "    </tr>\n",
       "    <tr>\n",
       "      <th>2</th>\n",
       "      <td>[Deleuze, Whitehead, Bergson rhizomatic connec...</td>\n",
       "      <td>[[filosofía, francés]]</td>\n",
       "      <td>795173</td>\n",
       "    </tr>\n",
       "    <tr>\n",
       "      <th>3</th>\n",
       "      <td>[Deshoras Julio Cortázar]</td>\n",
       "      <td>[[cuento, argentino]]</td>\n",
       "      <td>678233</td>\n",
       "    </tr>\n",
       "    <tr>\n",
       "      <th>4</th>\n",
       "      <td>[Rizoma introducción Gilles Deleuze y Pierre F...</td>\n",
       "      <td>[[filosofía, francés]]</td>\n",
       "      <td>341323</td>\n",
       "    </tr>\n",
       "    <tr>\n",
       "      <th>5</th>\n",
       "      <td>[Memorias del subsuelo Fédor Mikhailovitch Dos...</td>\n",
       "      <td>[[novela, ruso]]</td>\n",
       "      <td>725775</td>\n",
       "    </tr>\n",
       "    <tr>\n",
       "      <th>6</th>\n",
       "      <td>[Compendio de psicología William James]</td>\n",
       "      <td>[[psicología]]</td>\n",
       "      <td>330489</td>\n",
       "    </tr>\n",
       "    <tr>\n",
       "      <th>7</th>\n",
       "      <td>[Obras filosoficas Discurso del metodo, Tratad...</td>\n",
       "      <td>[[filosofía, francés]]</td>\n",
       "      <td>272620</td>\n",
       "    </tr>\n",
       "    <tr>\n",
       "      <th>8</th>\n",
       "      <td>[Gilles Deleuze Claire Colebrook]</td>\n",
       "      <td>[[filosofía, francés]]</td>\n",
       "      <td>797150</td>\n",
       "    </tr>\n",
       "    <tr>\n",
       "      <th>9</th>\n",
       "      <td>[El multiculturalismo y \"la política del recon...</td>\n",
       "      <td>[[multiculturalismo]]</td>\n",
       "      <td>347754</td>\n",
       "    </tr>\n",
       "  </tbody>\n",
       "</table>\n",
       "</div>"
      ],
      "text/plain": [
       "                                              Titulo               Tematicas  \\\n",
       "0  [Entre nosotros ensayos para pensar en otro Em...  [[filosofía, francés]]   \n",
       "1  [La filosofía de Martín Heidegger Alfonso de W...   [[filosofía, alemán]]   \n",
       "2  [Deleuze, Whitehead, Bergson rhizomatic connec...  [[filosofía, francés]]   \n",
       "3                          [Deshoras Julio Cortázar]   [[cuento, argentino]]   \n",
       "4  [Rizoma introducción Gilles Deleuze y Pierre F...  [[filosofía, francés]]   \n",
       "5  [Memorias del subsuelo Fédor Mikhailovitch Dos...        [[novela, ruso]]   \n",
       "6            [Compendio de psicología William James]          [[psicología]]   \n",
       "7  [Obras filosoficas Discurso del metodo, Tratad...  [[filosofía, francés]]   \n",
       "8                  [Gilles Deleuze Claire Colebrook]  [[filosofía, francés]]   \n",
       "9  [El multiculturalismo y \"la política del recon...   [[multiculturalismo]]   \n",
       "\n",
       "    Llave  \n",
       "0  341300  \n",
       "1  271907  \n",
       "2  795173  \n",
       "3  678233  \n",
       "4  341323  \n",
       "5  725775  \n",
       "6  330489  \n",
       "7  272620  \n",
       "8  797150  \n",
       "9  347754  "
      ]
     },
     "execution_count": 37,
     "metadata": {},
     "output_type": "execute_result"
    }
   ],
   "source": [
    "df_info_pred_sar"
   ]
  },
  {
   "cell_type": "code",
   "execution_count": 38,
   "id": "35ee0be8",
   "metadata": {},
   "outputs": [
    {
     "name": "stdout",
     "output_type": "stream",
     "text": [
      "Requirement already satisfied: dash-bootstrap-components in /opt/anaconda3/envs/rec_base/lib/python3.7/site-packages (0.13.1)\n",
      "Requirement already satisfied: dash>=1.9.0 in /opt/anaconda3/envs/rec_base/lib/python3.7/site-packages (from dash-bootstrap-components) (2.0.0)\n",
      "Requirement already satisfied: flask-compress in /opt/anaconda3/envs/rec_base/lib/python3.7/site-packages (from dash>=1.9.0->dash-bootstrap-components) (1.10.1)\n",
      "Requirement already satisfied: dash-core-components==2.0.0 in /opt/anaconda3/envs/rec_base/lib/python3.7/site-packages (from dash>=1.9.0->dash-bootstrap-components) (2.0.0)\n",
      "Requirement already satisfied: dash-html-components==2.0.0 in /opt/anaconda3/envs/rec_base/lib/python3.7/site-packages (from dash>=1.9.0->dash-bootstrap-components) (2.0.0)\n",
      "Requirement already satisfied: dash-table==5.0.0 in /opt/anaconda3/envs/rec_base/lib/python3.7/site-packages (from dash>=1.9.0->dash-bootstrap-components) (5.0.0)\n",
      "Requirement already satisfied: Flask>=1.0.4 in /opt/anaconda3/envs/rec_base/lib/python3.7/site-packages (from dash>=1.9.0->dash-bootstrap-components) (2.0.2)\n",
      "Requirement already satisfied: plotly>=5.0.0 in /opt/anaconda3/envs/rec_base/lib/python3.7/site-packages (from dash>=1.9.0->dash-bootstrap-components) (5.3.1)\n",
      "Requirement already satisfied: Jinja2>=3.0 in /opt/anaconda3/envs/rec_base/lib/python3.7/site-packages (from Flask>=1.0.4->dash>=1.9.0->dash-bootstrap-components) (3.0.1)\n",
      "Requirement already satisfied: click>=7.1.2 in /opt/anaconda3/envs/rec_base/lib/python3.7/site-packages (from Flask>=1.0.4->dash>=1.9.0->dash-bootstrap-components) (8.0.1)\n",
      "Requirement already satisfied: itsdangerous>=2.0 in /opt/anaconda3/envs/rec_base/lib/python3.7/site-packages (from Flask>=1.0.4->dash>=1.9.0->dash-bootstrap-components) (2.0.1)\n",
      "Requirement already satisfied: Werkzeug>=2.0 in /opt/anaconda3/envs/rec_base/lib/python3.7/site-packages (from Flask>=1.0.4->dash>=1.9.0->dash-bootstrap-components) (2.0.2)\n",
      "Requirement already satisfied: importlib-metadata in /opt/anaconda3/envs/rec_base/lib/python3.7/site-packages (from click>=7.1.2->Flask>=1.0.4->dash>=1.9.0->dash-bootstrap-components) (4.8.1)\n",
      "Requirement already satisfied: MarkupSafe>=2.0 in /opt/anaconda3/envs/rec_base/lib/python3.7/site-packages (from Jinja2>=3.0->Flask>=1.0.4->dash>=1.9.0->dash-bootstrap-components) (2.0.1)\n",
      "Requirement already satisfied: tenacity>=6.2.0 in /opt/anaconda3/envs/rec_base/lib/python3.7/site-packages (from plotly>=5.0.0->dash>=1.9.0->dash-bootstrap-components) (8.0.1)\n",
      "Requirement already satisfied: six in /opt/anaconda3/envs/rec_base/lib/python3.7/site-packages (from plotly>=5.0.0->dash>=1.9.0->dash-bootstrap-components) (1.16.0)\n",
      "Requirement already satisfied: brotli in /opt/anaconda3/envs/rec_base/lib/python3.7/site-packages (from flask-compress->dash>=1.9.0->dash-bootstrap-components) (1.0.9)\n",
      "Requirement already satisfied: zipp>=0.5 in /opt/anaconda3/envs/rec_base/lib/python3.7/site-packages (from importlib-metadata->click>=7.1.2->Flask>=1.0.4->dash>=1.9.0->dash-bootstrap-components) (3.5.0)\n",
      "Requirement already satisfied: typing-extensions>=3.6.4 in /opt/anaconda3/envs/rec_base/lib/python3.7/site-packages (from importlib-metadata->click>=7.1.2->Flask>=1.0.4->dash>=1.9.0->dash-bootstrap-components) (3.10.0.2)\n",
      "\u001b[33mWARNING: Error parsing requirements for google-pasta: [Errno 2] No such file or directory: '/opt/anaconda3/envs/rec_base/lib/python3.7/site-packages/google_pasta-0.2.0.dist-info/METADATA'\u001b[0m\n",
      "\u001b[33mWARNING: Error parsing requirements for absl-py: [Errno 2] No such file or directory: '/opt/anaconda3/envs/rec_base/lib/python3.7/site-packages/absl_py-0.14.0.dist-info/METADATA'\u001b[0m\n"
     ]
    }
   ],
   "source": [
    "!pip install dash-bootstrap-components"
   ]
  },
  {
   "cell_type": "code",
   "execution_count": 42,
   "id": "ac3ccf69",
   "metadata": {},
   "outputs": [
    {
     "name": "stdout",
     "output_type": "stream",
     "text": [
      "https://stackpath.bootstrapcdn.com/bootswatch/4.5.2/cyborg/bootstrap.min.css\n"
     ]
    }
   ],
   "source": [
    "# Build App\n",
    "import dash_bootstrap_components as dbc\n",
    "print(dbc.themes.CYBORG)\n",
    "# app = JupyterDash(__name__, external_stylesheets=[dbc.themes.LITERA])\n",
    "app = JupyterDash(__name__)\n",
    "app.layout = html.Div([\n",
    "    html.H1(\"Recomendaciones para grupos definidos\"),\n",
    "    dash_table.DataTable(\n",
    "        id='table',\n",
    "        columns=[{\"name\": i, \"id\": i} for i in df_info_pred_sar.columns],\n",
    "        data=df_info_pred_sar.to_dict('records'),\n",
    "    ),\n",
    "    html.Label([\n",
    "        \"Lista a la que recomendar\",\n",
    "        dcc.Dropdown(\n",
    "            id='list-dropdown', clearable=False,\n",
    "            value = available_list, options=[\n",
    "                {'label': i, 'value': i}\n",
    "                for i in available_list\n",
    "                \n",
    "            ])\n",
    "    ]),\n",
    "    html.Label([\n",
    "        \"Grupo al que recomendar\",\n",
    "        dcc.Dropdown(\n",
    "            id='group-dropdown', clearable=False,\n",
    "            value = available_groups_temas, options=[\n",
    "                {'label': i, 'value': i}\n",
    "                for i in available_groups_temas\n",
    "                \n",
    "            ])\n",
    "    ]),\n",
    "])\n",
    "\n",
    "# Callback para actualizalos valores de grupos\n",
    "@app.callback(\n",
    "    Output('group-dropdown', 'options'),\n",
    "    Input('list-dropdown', 'value')\n",
    ")\n",
    "def update_options(value):\n",
    "    print(\"Valor de lista\", value)\n",
    "    if(value == 'Cluster por temáticas'):\n",
    "        return [{'label': i, 'value': i} for i in available_groups_temas]\n",
    "    else:\n",
    "        return [{'label': i, 'value': i} for i in available_groups_carreras]\n",
    "    \n",
    "\n",
    "# Definecallback to update graph\n",
    "@app.callback(\n",
    "    Output('table', 'data'),\n",
    "    [Input(\"list-dropdown\", \"value\"),\n",
    "    Input(\"group-dropdown\", \"value\"),]\n",
    ")\n",
    "def update_figure(lista, grupo):\n",
    "    if (lista == 'Cluster por temáticas'):\n",
    "        sar_preds = sar_predictor.predict_for_cluster(cluster=grupo)\n",
    "        df_info_pred_sar, df_pred_sar_tems = generateRecsInfopreds(sar_preds)\n",
    "        columns=[{\"name\": i, \"id\": i} for i in df_info_pred_sar.columns]\n",
    "        data=df_info_pred_sar.to_dict('records')\n",
    "        return data\n",
    "    else:\n",
    "        sar_preds = sar_predictor_carreras.predict_for_cluster(cluster=grupo)\n",
    "        df_info_pred_sar, df_pred_sar_tems = generateRecsInfopreds(sar_preds)\n",
    "        columns=[{\"name\": i, \"id\": i} for i in df_info_pred_sar.columns]\n",
    "        data=df_info_pred_sar.to_dict('records')\n",
    "        return data\n",
    "        \n"
   ]
  },
  {
   "cell_type": "code",
   "execution_count": 43,
   "id": "2ba50246",
   "metadata": {},
   "outputs": [
    {
     "name": "stderr",
     "output_type": "stream",
     "text": [
      "/opt/anaconda3/envs/rec_base/lib/python3.7/site-packages/jupyter_dash/jupyter_app.py:139: UserWarning:\n",
      "\n",
      "The 'environ['werkzeug.server.shutdown']' function is deprecated and will be removed in Werkzeug 2.1.\n",
      "\n"
     ]
    },
    {
     "name": "stdout",
     "output_type": "stream",
     "text": [
      "Dash app running on http://127.0.0.1:8050/\n"
     ]
    },
    {
     "name": "stderr",
     "output_type": "stream",
     "text": [
      "No traceback available to show.\n"
     ]
    },
    {
     "name": "stdout",
     "output_type": "stream",
     "text": [
      "Valor de lista ['Cluster por temáticas', 'Programas académicos']\n",
      "Valor de lista ['Cluster por temáticas', 'Programas académicos']\n",
      "Valor de lista Programas académicos\n"
     ]
    },
    {
     "data": {
      "text/html": [
       "<div>\n",
       "<style scoped>\n",
       "    .dataframe tbody tr th:only-of-type {\n",
       "        vertical-align: middle;\n",
       "    }\n",
       "\n",
       "    .dataframe tbody tr th {\n",
       "        vertical-align: top;\n",
       "    }\n",
       "\n",
       "    .dataframe thead th {\n",
       "        text-align: right;\n",
       "    }\n",
       "</style>\n",
       "<table border=\"1\" class=\"dataframe\">\n",
       "  <thead>\n",
       "    <tr style=\"text-align: right;\">\n",
       "      <th></th>\n",
       "      <th>Titulo</th>\n",
       "      <th>Tematicas</th>\n",
       "      <th>Llave</th>\n",
       "    </tr>\n",
       "  </thead>\n",
       "  <tbody>\n",
       "    <tr>\n",
       "      <th>0</th>\n",
       "      <td>[]</td>\n",
       "      <td>[[música, cámara], [música, cámara], [música, ...</td>\n",
       "      <td>200789</td>\n",
       "    </tr>\n",
       "    <tr>\n",
       "      <th>1</th>\n",
       "      <td>[]</td>\n",
       "      <td>[]</td>\n",
       "      <td>753322</td>\n",
       "    </tr>\n",
       "    <tr>\n",
       "      <th>2</th>\n",
       "      <td>[La evolución de la conciencia Stanislav Grof....</td>\n",
       "      <td>[[evolución, humano]]</td>\n",
       "      <td>344472</td>\n",
       "    </tr>\n",
       "    <tr>\n",
       "      <th>3</th>\n",
       "      <td>[Los cronistas Adolfo Milanes]</td>\n",
       "      <td>[[ocana, norte, santander, colombia, biografias]]</td>\n",
       "      <td>335505</td>\n",
       "    </tr>\n",
       "    <tr>\n",
       "      <th>4</th>\n",
       "      <td>[Mister cuervo Luísa Morandeira ; ilustracione...</td>\n",
       "      <td>[[cuento, infantil, español]]</td>\n",
       "      <td>762489</td>\n",
       "    </tr>\n",
       "    <tr>\n",
       "      <th>5</th>\n",
       "      <td>[]</td>\n",
       "      <td>[[música, película, cinematográfico, estudio, ...</td>\n",
       "      <td>795782</td>\n",
       "    </tr>\n",
       "    <tr>\n",
       "      <th>6</th>\n",
       "      <td>[]</td>\n",
       "      <td>[[violín, estudio, enseñanza], [violín, estudi...</td>\n",
       "      <td>200644</td>\n",
       "    </tr>\n",
       "    <tr>\n",
       "      <th>7</th>\n",
       "      <td>[Teaching music in the twenty-first century Lo...</td>\n",
       "      <td>[[música, enseñanza]]</td>\n",
       "      <td>601828</td>\n",
       "    </tr>\n",
       "    <tr>\n",
       "      <th>8</th>\n",
       "      <td>[Music and Marx ideas, practice, politics edit...</td>\n",
       "      <td>[[música, aspecto, social]]</td>\n",
       "      <td>741544</td>\n",
       "    </tr>\n",
       "    <tr>\n",
       "      <th>9</th>\n",
       "      <td>[A practical approach to eighteenth-century co...</td>\n",
       "      <td>[[contrapunto, historia, siglo, xviii]]</td>\n",
       "      <td>758161</td>\n",
       "    </tr>\n",
       "  </tbody>\n",
       "</table>\n",
       "</div>"
      ],
      "text/plain": [
       "                                              Titulo  \\\n",
       "0                                                 []   \n",
       "1                                                 []   \n",
       "2  [La evolución de la conciencia Stanislav Grof....   \n",
       "3                     [Los cronistas Adolfo Milanes]   \n",
       "4  [Mister cuervo Luísa Morandeira ; ilustracione...   \n",
       "5                                                 []   \n",
       "6                                                 []   \n",
       "7  [Teaching music in the twenty-first century Lo...   \n",
       "8  [Music and Marx ideas, practice, politics edit...   \n",
       "9  [A practical approach to eighteenth-century co...   \n",
       "\n",
       "                                           Tematicas   Llave  \n",
       "0  [[música, cámara], [música, cámara], [música, ...  200789  \n",
       "1                                                 []  753322  \n",
       "2                              [[evolución, humano]]  344472  \n",
       "3  [[ocana, norte, santander, colombia, biografias]]  335505  \n",
       "4                      [[cuento, infantil, español]]  762489  \n",
       "5  [[música, película, cinematográfico, estudio, ...  795782  \n",
       "6  [[violín, estudio, enseñanza], [violín, estudi...  200644  \n",
       "7                              [[música, enseñanza]]  601828  \n",
       "8                        [[música, aspecto, social]]  741544  \n",
       "9            [[contrapunto, historia, siglo, xviii]]  758161  "
      ]
     },
     "metadata": {},
     "output_type": "display_data"
    },
    {
     "data": {
      "text/html": [
       "<div>\n",
       "<style scoped>\n",
       "    .dataframe tbody tr th:only-of-type {\n",
       "        vertical-align: middle;\n",
       "    }\n",
       "\n",
       "    .dataframe tbody tr th {\n",
       "        vertical-align: top;\n",
       "    }\n",
       "\n",
       "    .dataframe thead th {\n",
       "        text-align: right;\n",
       "    }\n",
       "</style>\n",
       "<table border=\"1\" class=\"dataframe\">\n",
       "  <thead>\n",
       "    <tr style=\"text-align: right;\">\n",
       "      <th></th>\n",
       "      <th>Titulo</th>\n",
       "      <th>Tematicas</th>\n",
       "      <th>Llave</th>\n",
       "    </tr>\n",
       "  </thead>\n",
       "  <tbody>\n",
       "    <tr>\n",
       "      <th>0</th>\n",
       "      <td>[Los grupos étnicos en Colombia demografías po...</td>\n",
       "      <td>[[grupo, étnico]]</td>\n",
       "      <td>777949</td>\n",
       "    </tr>\n",
       "    <tr>\n",
       "      <th>1</th>\n",
       "      <td>[Métodos de investigación en las relaciones so...</td>\n",
       "      <td>[[sociología, metodología]]</td>\n",
       "      <td>299133</td>\n",
       "    </tr>\n",
       "    <tr>\n",
       "      <th>2</th>\n",
       "      <td>[Historia de la literatura hispanoamericana En...</td>\n",
       "      <td>[[literatura, hispanoamericán, historia, criti...</td>\n",
       "      <td>326608</td>\n",
       "    </tr>\n",
       "    <tr>\n",
       "      <th>3</th>\n",
       "      <td>[El rey y el cadáver cuentos, mitos y leyendas...</td>\n",
       "      <td>[[mitología]]</td>\n",
       "      <td>720871</td>\n",
       "    </tr>\n",
       "    <tr>\n",
       "      <th>4</th>\n",
       "      <td>[La mente creativa mitos y mecanismos Margaret...</td>\n",
       "      <td>[[aptitud, creador, aspecto, psicológico]]</td>\n",
       "      <td>342661</td>\n",
       "    </tr>\n",
       "    <tr>\n",
       "      <th>5</th>\n",
       "      <td>[El lugar de la cultura Homi K. Bhabha ; tradu...</td>\n",
       "      <td>[[estudio, cultural]]</td>\n",
       "      <td>696507</td>\n",
       "    </tr>\n",
       "    <tr>\n",
       "      <th>6</th>\n",
       "      <td>[La voragine 1924-1974 José Eustacio Rivera ; ...</td>\n",
       "      <td>[[novela, colombiano]]</td>\n",
       "      <td>319785</td>\n",
       "    </tr>\n",
       "    <tr>\n",
       "      <th>7</th>\n",
       "      <td>[Problemas fundamentales de la gramática del e...</td>\n",
       "      <td>[[español, gramático]]</td>\n",
       "      <td>738816</td>\n",
       "    </tr>\n",
       "    <tr>\n",
       "      <th>8</th>\n",
       "      <td>[Dialectología y geografía lingüística notas d...</td>\n",
       "      <td>[[geografía, lingüístico]]</td>\n",
       "      <td>276074</td>\n",
       "    </tr>\n",
       "    <tr>\n",
       "      <th>9</th>\n",
       "      <td>[Filosofía Latinoamericana ponencias Congreso ...</td>\n",
       "      <td>[[filosofía, latinoamericano, congreso, confer...</td>\n",
       "      <td>321027</td>\n",
       "    </tr>\n",
       "  </tbody>\n",
       "</table>\n",
       "</div>"
      ],
      "text/plain": [
       "                                              Titulo  \\\n",
       "0  [Los grupos étnicos en Colombia demografías po...   \n",
       "1  [Métodos de investigación en las relaciones so...   \n",
       "2  [Historia de la literatura hispanoamericana En...   \n",
       "3  [El rey y el cadáver cuentos, mitos y leyendas...   \n",
       "4  [La mente creativa mitos y mecanismos Margaret...   \n",
       "5  [El lugar de la cultura Homi K. Bhabha ; tradu...   \n",
       "6  [La voragine 1924-1974 José Eustacio Rivera ; ...   \n",
       "7  [Problemas fundamentales de la gramática del e...   \n",
       "8  [Dialectología y geografía lingüística notas d...   \n",
       "9  [Filosofía Latinoamericana ponencias Congreso ...   \n",
       "\n",
       "                                           Tematicas   Llave  \n",
       "0                                  [[grupo, étnico]]  777949  \n",
       "1                        [[sociología, metodología]]  299133  \n",
       "2  [[literatura, hispanoamericán, historia, criti...  326608  \n",
       "3                                      [[mitología]]  720871  \n",
       "4         [[aptitud, creador, aspecto, psicológico]]  342661  \n",
       "5                              [[estudio, cultural]]  696507  \n",
       "6                             [[novela, colombiano]]  319785  \n",
       "7                             [[español, gramático]]  738816  \n",
       "8                         [[geografía, lingüístico]]  276074  \n",
       "9  [[filosofía, latinoamericano, congreso, confer...  321027  "
      ]
     },
     "metadata": {},
     "output_type": "display_data"
    },
    {
     "data": {
      "text/html": [
       "<div>\n",
       "<style scoped>\n",
       "    .dataframe tbody tr th:only-of-type {\n",
       "        vertical-align: middle;\n",
       "    }\n",
       "\n",
       "    .dataframe tbody tr th {\n",
       "        vertical-align: top;\n",
       "    }\n",
       "\n",
       "    .dataframe thead th {\n",
       "        text-align: right;\n",
       "    }\n",
       "</style>\n",
       "<table border=\"1\" class=\"dataframe\">\n",
       "  <thead>\n",
       "    <tr style=\"text-align: right;\">\n",
       "      <th></th>\n",
       "      <th>Titulo</th>\n",
       "      <th>Tematicas</th>\n",
       "      <th>Llave</th>\n",
       "    </tr>\n",
       "  </thead>\n",
       "  <tbody>\n",
       "    <tr>\n",
       "      <th>0</th>\n",
       "      <td>[[Shin Bunka Nihongo]]</td>\n",
       "      <td>[[japonés, enseñanza], [japonés, enseñanza]]</td>\n",
       "      <td>713692</td>\n",
       "    </tr>\n",
       "    <tr>\n",
       "      <th>1</th>\n",
       "      <td>[IELTS practice tests James Milton, Huw Bell a...</td>\n",
       "      <td>[[inglés, enseñanza, estudiante, extranjero], ...</td>\n",
       "      <td>668826</td>\n",
       "    </tr>\n",
       "    <tr>\n",
       "      <th>2</th>\n",
       "      <td>[Gargantua Francois Rebelais]</td>\n",
       "      <td>[[novela, francés]]</td>\n",
       "      <td>279206</td>\n",
       "    </tr>\n",
       "    <tr>\n",
       "      <th>3</th>\n",
       "      <td>[[Dulce de queso] Konami Kanata]</td>\n",
       "      <td>[[japonés, libro, lectura], [japonés, libro, l...</td>\n",
       "      <td>762003</td>\n",
       "    </tr>\n",
       "    <tr>\n",
       "      <th>4</th>\n",
       "      <td>[Curso de títulos valores jurisprudencia-doctr...</td>\n",
       "      <td>[[documento, negociable]]</td>\n",
       "      <td>301931</td>\n",
       "    </tr>\n",
       "    <tr>\n",
       "      <th>5</th>\n",
       "      <td>[Tus zonas erroneas Wayne W. Dyer, Datos sobre...</td>\n",
       "      <td>[[seguridad, psicología]]</td>\n",
       "      <td>296025</td>\n",
       "    </tr>\n",
       "    <tr>\n",
       "      <th>6</th>\n",
       "      <td>[Comedia Dante Alighieri ; traducción, prólogo...</td>\n",
       "      <td>[[poesía, italiano], [poesía, italiano], [poes...</td>\n",
       "      <td>722029</td>\n",
       "    </tr>\n",
       "    <tr>\n",
       "      <th>7</th>\n",
       "      <td>[Introducción a la astronomia el sistema solar...</td>\n",
       "      <td>[[mecánico, celeste]]</td>\n",
       "      <td>288369</td>\n",
       "    </tr>\n",
       "    <tr>\n",
       "      <th>8</th>\n",
       "      <td>[Tratado de fisiología médica Arthur Clifton G...</td>\n",
       "      <td>[[fisiología, humano]]</td>\n",
       "      <td>714070</td>\n",
       "    </tr>\n",
       "    <tr>\n",
       "      <th>9</th>\n",
       "      <td>[Punto y  línea sobre el plano contribución al...</td>\n",
       "      <td>[[pintura, investigación]]</td>\n",
       "      <td>274655</td>\n",
       "    </tr>\n",
       "  </tbody>\n",
       "</table>\n",
       "</div>"
      ],
      "text/plain": [
       "                                              Titulo  \\\n",
       "0                             [[Shin Bunka Nihongo]]   \n",
       "1  [IELTS practice tests James Milton, Huw Bell a...   \n",
       "2                      [Gargantua Francois Rebelais]   \n",
       "3                   [[Dulce de queso] Konami Kanata]   \n",
       "4  [Curso de títulos valores jurisprudencia-doctr...   \n",
       "5  [Tus zonas erroneas Wayne W. Dyer, Datos sobre...   \n",
       "6  [Comedia Dante Alighieri ; traducción, prólogo...   \n",
       "7  [Introducción a la astronomia el sistema solar...   \n",
       "8  [Tratado de fisiología médica Arthur Clifton G...   \n",
       "9  [Punto y  línea sobre el plano contribución al...   \n",
       "\n",
       "                                           Tematicas   Llave  \n",
       "0       [[japonés, enseñanza], [japonés, enseñanza]]  713692  \n",
       "1  [[inglés, enseñanza, estudiante, extranjero], ...  668826  \n",
       "2                                [[novela, francés]]  279206  \n",
       "3  [[japonés, libro, lectura], [japonés, libro, l...  762003  \n",
       "4                          [[documento, negociable]]  301931  \n",
       "5                          [[seguridad, psicología]]  296025  \n",
       "6  [[poesía, italiano], [poesía, italiano], [poes...  722029  \n",
       "7                              [[mecánico, celeste]]  288369  \n",
       "8                             [[fisiología, humano]]  714070  \n",
       "9                         [[pintura, investigación]]  274655  "
      ]
     },
     "metadata": {},
     "output_type": "display_data"
    },
    {
     "data": {
      "text/html": [
       "<div>\n",
       "<style scoped>\n",
       "    .dataframe tbody tr th:only-of-type {\n",
       "        vertical-align: middle;\n",
       "    }\n",
       "\n",
       "    .dataframe tbody tr th {\n",
       "        vertical-align: top;\n",
       "    }\n",
       "\n",
       "    .dataframe thead th {\n",
       "        text-align: right;\n",
       "    }\n",
       "</style>\n",
       "<table border=\"1\" class=\"dataframe\">\n",
       "  <thead>\n",
       "    <tr style=\"text-align: right;\">\n",
       "      <th></th>\n",
       "      <th>Titulo</th>\n",
       "      <th>Tematicas</th>\n",
       "      <th>Llave</th>\n",
       "    </tr>\n",
       "  </thead>\n",
       "  <tbody>\n",
       "    <tr>\n",
       "      <th>0</th>\n",
       "      <td>[Rehabilitación implanto-asistida bases y fund...</td>\n",
       "      <td>[[implant, dental]]</td>\n",
       "      <td>765601</td>\n",
       "    </tr>\n",
       "    <tr>\n",
       "      <th>1</th>\n",
       "      <td>[Teoría general del proceso aplicable a toda c...</td>\n",
       "      <td>[[derecho, procesal], [estética, dental]]</td>\n",
       "      <td>541308</td>\n",
       "    </tr>\n",
       "    <tr>\n",
       "      <th>2</th>\n",
       "      <td>[Oral and maxillofacial trauma edited by Raymo...</td>\n",
       "      <td>[[maxilar, malformación], [maxilar, malformaci...</td>\n",
       "      <td>310149</td>\n",
       "    </tr>\n",
       "    <tr>\n",
       "      <th>3</th>\n",
       "      <td>[Pensar bien, sentirse bien Walter Riso ; edic...</td>\n",
       "      <td>[[autoestima]]</td>\n",
       "      <td>683800</td>\n",
       "    </tr>\n",
       "    <tr>\n",
       "      <th>4</th>\n",
       "      <td>[Principles of oral and maxillofacial surgery ...</td>\n",
       "      <td>[[cirugía, bucal]]</td>\n",
       "      <td>718382</td>\n",
       "    </tr>\n",
       "    <tr>\n",
       "      <th>5</th>\n",
       "      <td>[Odontopediatria : resoluçöes clínicas Faculda...</td>\n",
       "      <td>[[odontología, pediátrico]]</td>\n",
       "      <td>666210</td>\n",
       "    </tr>\n",
       "    <tr>\n",
       "      <th>6</th>\n",
       "      <td>[]</td>\n",
       "      <td>[[visualización, información]]</td>\n",
       "      <td>239196</td>\n",
       "    </tr>\n",
       "    <tr>\n",
       "      <th>7</th>\n",
       "      <td>[Reconstructive preprosthetic oral and maxillo...</td>\n",
       "      <td>[[prótesis, dental]]</td>\n",
       "      <td>347481</td>\n",
       "    </tr>\n",
       "    <tr>\n",
       "      <th>8</th>\n",
       "      <td>[Manual de habilidades para auditoría una intr...</td>\n",
       "      <td>[[auditoría, manual]]</td>\n",
       "      <td>668305</td>\n",
       "    </tr>\n",
       "    <tr>\n",
       "      <th>9</th>\n",
       "      <td>[En un origen las palabras eran magia por Stev...</td>\n",
       "      <td>[[psicoterapia, familiar]]</td>\n",
       "      <td>701219</td>\n",
       "    </tr>\n",
       "  </tbody>\n",
       "</table>\n",
       "</div>"
      ],
      "text/plain": [
       "                                              Titulo  \\\n",
       "0  [Rehabilitación implanto-asistida bases y fund...   \n",
       "1  [Teoría general del proceso aplicable a toda c...   \n",
       "2  [Oral and maxillofacial trauma edited by Raymo...   \n",
       "3  [Pensar bien, sentirse bien Walter Riso ; edic...   \n",
       "4  [Principles of oral and maxillofacial surgery ...   \n",
       "5  [Odontopediatria : resoluçöes clínicas Faculda...   \n",
       "6                                                 []   \n",
       "7  [Reconstructive preprosthetic oral and maxillo...   \n",
       "8  [Manual de habilidades para auditoría una intr...   \n",
       "9  [En un origen las palabras eran magia por Stev...   \n",
       "\n",
       "                                           Tematicas   Llave  \n",
       "0                                [[implant, dental]]  765601  \n",
       "1          [[derecho, procesal], [estética, dental]]  541308  \n",
       "2  [[maxilar, malformación], [maxilar, malformaci...  310149  \n",
       "3                                     [[autoestima]]  683800  \n",
       "4                                 [[cirugía, bucal]]  718382  \n",
       "5                        [[odontología, pediátrico]]  666210  \n",
       "6                     [[visualización, información]]  239196  \n",
       "7                               [[prótesis, dental]]  347481  \n",
       "8                              [[auditoría, manual]]  668305  \n",
       "9                         [[psicoterapia, familiar]]  701219  "
      ]
     },
     "metadata": {},
     "output_type": "display_data"
    },
    {
     "data": {
      "text/html": [
       "<div>\n",
       "<style scoped>\n",
       "    .dataframe tbody tr th:only-of-type {\n",
       "        vertical-align: middle;\n",
       "    }\n",
       "\n",
       "    .dataframe tbody tr th {\n",
       "        vertical-align: top;\n",
       "    }\n",
       "\n",
       "    .dataframe thead th {\n",
       "        text-align: right;\n",
       "    }\n",
       "</style>\n",
       "<table border=\"1\" class=\"dataframe\">\n",
       "  <thead>\n",
       "    <tr style=\"text-align: right;\">\n",
       "      <th></th>\n",
       "      <th>Titulo</th>\n",
       "      <th>Tematicas</th>\n",
       "      <th>Llave</th>\n",
       "    </tr>\n",
       "  </thead>\n",
       "  <tbody>\n",
       "    <tr>\n",
       "      <th>0</th>\n",
       "      <td>[Introducción a la historia de las relaciones ...</td>\n",
       "      <td>[[relación, internacional, historia]]</td>\n",
       "      <td>750030</td>\n",
       "    </tr>\n",
       "    <tr>\n",
       "      <th>1</th>\n",
       "      <td>[Tratado sobre la familia Gary Stanley Becker ...</td>\n",
       "      <td>[[familia, aspecto, socioeconómico]]</td>\n",
       "      <td>536422</td>\n",
       "    </tr>\n",
       "    <tr>\n",
       "      <th>2</th>\n",
       "      <td>[Macroeconomía N. Gregory Mankiw ; traducción ...</td>\n",
       "      <td>[[macroeconomía]]</td>\n",
       "      <td>751407</td>\n",
       "    </tr>\n",
       "    <tr>\n",
       "      <th>3</th>\n",
       "      <td>[Introducción a la integración económica Herna...</td>\n",
       "      <td>[[integración, económico]]</td>\n",
       "      <td>640548</td>\n",
       "    </tr>\n",
       "    <tr>\n",
       "      <th>4</th>\n",
       "      <td>[Maquinado de la madera Servicio Nacional de A...</td>\n",
       "      <td>[[ebanistería, equipo, accesorio]]</td>\n",
       "      <td>629338</td>\n",
       "    </tr>\n",
       "    <tr>\n",
       "      <th>5</th>\n",
       "      <td>[Neurociencia y conducta Eric R. Kandel, James...</td>\n",
       "      <td>[[neurociencia]]</td>\n",
       "      <td>355448</td>\n",
       "    </tr>\n",
       "    <tr>\n",
       "      <th>6</th>\n",
       "      <td>[Museo de arte colonial Universidad Nacional d...</td>\n",
       "      <td>[[museo, arte, colonial, historia, santo, fe, ...</td>\n",
       "      <td>323728</td>\n",
       "    </tr>\n",
       "    <tr>\n",
       "      <th>7</th>\n",
       "      <td>[El libro de los oficios de antaño Eduardo Santa]</td>\n",
       "      <td>[[empleos, colombia, historia]]</td>\n",
       "      <td>532529</td>\n",
       "    </tr>\n",
       "    <tr>\n",
       "      <th>8</th>\n",
       "      <td>[]</td>\n",
       "      <td>[[película, cinematográfico, unidos]]</td>\n",
       "      <td>793967</td>\n",
       "    </tr>\n",
       "    <tr>\n",
       "      <th>9</th>\n",
       "      <td>[Desempeño por competencias evaluación de 360À...</td>\n",
       "      <td>[[evaluación, personal]]</td>\n",
       "      <td>705252</td>\n",
       "    </tr>\n",
       "  </tbody>\n",
       "</table>\n",
       "</div>"
      ],
      "text/plain": [
       "                                              Titulo  \\\n",
       "0  [Introducción a la historia de las relaciones ...   \n",
       "1  [Tratado sobre la familia Gary Stanley Becker ...   \n",
       "2  [Macroeconomía N. Gregory Mankiw ; traducción ...   \n",
       "3  [Introducción a la integración económica Herna...   \n",
       "4  [Maquinado de la madera Servicio Nacional de A...   \n",
       "5  [Neurociencia y conducta Eric R. Kandel, James...   \n",
       "6  [Museo de arte colonial Universidad Nacional d...   \n",
       "7  [El libro de los oficios de antaño Eduardo Santa]   \n",
       "8                                                 []   \n",
       "9  [Desempeño por competencias evaluación de 360À...   \n",
       "\n",
       "                                           Tematicas   Llave  \n",
       "0              [[relación, internacional, historia]]  750030  \n",
       "1               [[familia, aspecto, socioeconómico]]  536422  \n",
       "2                                  [[macroeconomía]]  751407  \n",
       "3                         [[integración, económico]]  640548  \n",
       "4                 [[ebanistería, equipo, accesorio]]  629338  \n",
       "5                                   [[neurociencia]]  355448  \n",
       "6  [[museo, arte, colonial, historia, santo, fe, ...  323728  \n",
       "7                    [[empleos, colombia, historia]]  532529  \n",
       "8              [[película, cinematográfico, unidos]]  793967  \n",
       "9                           [[evaluación, personal]]  705252  "
      ]
     },
     "metadata": {},
     "output_type": "display_data"
    },
    {
     "name": "stdout",
     "output_type": "stream",
     "text": [
      "Valor de lista Cluster por temáticas\n"
     ]
    },
    {
     "data": {
      "text/html": [
       "<div>\n",
       "<style scoped>\n",
       "    .dataframe tbody tr th:only-of-type {\n",
       "        vertical-align: middle;\n",
       "    }\n",
       "\n",
       "    .dataframe tbody tr th {\n",
       "        vertical-align: top;\n",
       "    }\n",
       "\n",
       "    .dataframe thead th {\n",
       "        text-align: right;\n",
       "    }\n",
       "</style>\n",
       "<table border=\"1\" class=\"dataframe\">\n",
       "  <thead>\n",
       "    <tr style=\"text-align: right;\">\n",
       "      <th></th>\n",
       "    </tr>\n",
       "  </thead>\n",
       "  <tbody>\n",
       "  </tbody>\n",
       "</table>\n",
       "</div>"
      ],
      "text/plain": [
       "Empty DataFrame\n",
       "Columns: []\n",
       "Index: []"
      ]
     },
     "metadata": {},
     "output_type": "display_data"
    },
    {
     "data": {
      "text/html": [
       "<div>\n",
       "<style scoped>\n",
       "    .dataframe tbody tr th:only-of-type {\n",
       "        vertical-align: middle;\n",
       "    }\n",
       "\n",
       "    .dataframe tbody tr th {\n",
       "        vertical-align: top;\n",
       "    }\n",
       "\n",
       "    .dataframe thead th {\n",
       "        text-align: right;\n",
       "    }\n",
       "</style>\n",
       "<table border=\"1\" class=\"dataframe\">\n",
       "  <thead>\n",
       "    <tr style=\"text-align: right;\">\n",
       "      <th></th>\n",
       "      <th>Titulo</th>\n",
       "      <th>Tematicas</th>\n",
       "      <th>Llave</th>\n",
       "    </tr>\n",
       "  </thead>\n",
       "  <tbody>\n",
       "    <tr>\n",
       "      <th>0</th>\n",
       "      <td>[Situated literacies reading and writing in co...</td>\n",
       "      <td>[[analfabetismo, aspecto, social]]</td>\n",
       "      <td>804495</td>\n",
       "    </tr>\n",
       "    <tr>\n",
       "      <th>1</th>\n",
       "      <td>[La vejez a debate analisis historico de la si...</td>\n",
       "      <td>[]</td>\n",
       "      <td>352406</td>\n",
       "    </tr>\n",
       "    <tr>\n",
       "      <th>2</th>\n",
       "      <td>[La enfermedad y sus metáforas y ; El sida y s...</td>\n",
       "      <td>[[enfermedad, aspecto, social]]</td>\n",
       "      <td>760044</td>\n",
       "    </tr>\n",
       "    <tr>\n",
       "      <th>3</th>\n",
       "      <td>[Cuerpos que importan sobre los límites materi...</td>\n",
       "      <td>[[feminismo]]</td>\n",
       "      <td>698891</td>\n",
       "    </tr>\n",
       "    <tr>\n",
       "      <th>4</th>\n",
       "      <td>[Nuevos paradigmas, cultura y subjetividad Enc...</td>\n",
       "      <td>[[teoría, conocimiento, congreso]]</td>\n",
       "      <td>348508</td>\n",
       "    </tr>\n",
       "    <tr>\n",
       "      <th>5</th>\n",
       "      <td>[El político y el cientifico Max Weber ; Intro...</td>\n",
       "      <td>[[ciencia, político]]</td>\n",
       "      <td>285059</td>\n",
       "    </tr>\n",
       "    <tr>\n",
       "      <th>6</th>\n",
       "      <td>[Investigación de mercados David A. Aaker, V. ...</td>\n",
       "      <td>[[derecho, romano], [investigación, mercado]]</td>\n",
       "      <td>717850</td>\n",
       "    </tr>\n",
       "    <tr>\n",
       "      <th>7</th>\n",
       "      <td>[]</td>\n",
       "      <td>[[música, guitarra, arreglo]]</td>\n",
       "      <td>631344</td>\n",
       "    </tr>\n",
       "    <tr>\n",
       "      <th>8</th>\n",
       "      <td>[Géneros periodísticos Juan Gargurevich Regal,...</td>\n",
       "      <td>[]</td>\n",
       "      <td>544762</td>\n",
       "    </tr>\n",
       "    <tr>\n",
       "      <th>9</th>\n",
       "      <td>[Historia de la enfermería evolución histórica...</td>\n",
       "      <td>[[enfermería, historia]]</td>\n",
       "      <td>725608</td>\n",
       "    </tr>\n",
       "  </tbody>\n",
       "</table>\n",
       "</div>"
      ],
      "text/plain": [
       "                                              Titulo  \\\n",
       "0  [Situated literacies reading and writing in co...   \n",
       "1  [La vejez a debate analisis historico de la si...   \n",
       "2  [La enfermedad y sus metáforas y ; El sida y s...   \n",
       "3  [Cuerpos que importan sobre los límites materi...   \n",
       "4  [Nuevos paradigmas, cultura y subjetividad Enc...   \n",
       "5  [El político y el cientifico Max Weber ; Intro...   \n",
       "6  [Investigación de mercados David A. Aaker, V. ...   \n",
       "7                                                 []   \n",
       "8  [Géneros periodísticos Juan Gargurevich Regal,...   \n",
       "9  [Historia de la enfermería evolución histórica...   \n",
       "\n",
       "                                       Tematicas   Llave  \n",
       "0             [[analfabetismo, aspecto, social]]  804495  \n",
       "1                                             []  352406  \n",
       "2                [[enfermedad, aspecto, social]]  760044  \n",
       "3                                  [[feminismo]]  698891  \n",
       "4             [[teoría, conocimiento, congreso]]  348508  \n",
       "5                          [[ciencia, político]]  285059  \n",
       "6  [[derecho, romano], [investigación, mercado]]  717850  \n",
       "7                  [[música, guitarra, arreglo]]  631344  \n",
       "8                                             []  544762  \n",
       "9                       [[enfermería, historia]]  725608  "
      ]
     },
     "metadata": {},
     "output_type": "display_data"
    }
   ],
   "source": [
    "app.run_server(mode='external', port='8050')\n",
    "%tb"
   ]
  },
  {
   "cell_type": "code",
   "execution_count": 41,
   "id": "07651f81",
   "metadata": {},
   "outputs": [
    {
     "name": "stdout",
     "output_type": "stream",
     "text": [
      "  501 64678 64666   0 Sat11PM ??        34:14.17 /opt/anaconda3/envs/reco_base/bin/python -m ipykernel_launcher -f /Users/danieltibaquira/Library/Jupyter/runtime/kernel-01838f45-f4e7-46da-a370-33c72b33e3c9.json\r\n",
      "  501 69948 64666   0  9:57PM ??         0:00.75 /opt/anaconda3/envs/reco_base/bin/python -m ipykernel_launcher -f /Users/danieltibaquira/Library/Jupyter/runtime/kernel-5bb21fe8-2f6b-412f-a592-da63047d4d1c.json\r\n",
      "  501 72247 64666   0  7:39AM ??         1:38.88 /opt/anaconda3/envs/rec_base/bin/python -m ipykernel_launcher -f /Users/danieltibaquira/Library/Jupyter/runtime/kernel-03ab8a84-f82e-4cdc-9599-cec6be5d1945.json\r\n",
      "  501 64666 32386   0 Sat11PM ttys000    0:51.21 /opt/anaconda3/envs/rec_base/bin/python3.7 /opt/anaconda3/envs/rec_base/bin/jupyter-notebook\r\n",
      "  501 72323 72247   0  7:42AM ttys002    0:00.01 /bin/zsh -c ps -fA | grep python\r\n",
      "  501 72326 72323   0  7:42AM ttys002    0:00.00 grep python\r\n"
     ]
    }
   ],
   "source": [
    "!ps -fA | grep python"
   ]
  },
  {
   "cell_type": "code",
   "execution_count": null,
   "id": "dd84a056",
   "metadata": {},
   "outputs": [],
   "source": []
  }
 ],
 "metadata": {
  "kernelspec": {
   "display_name": "Python 3 (ipykernel)",
   "language": "python",
   "name": "python3"
  },
  "language_info": {
   "codemirror_mode": {
    "name": "ipython",
    "version": 3
   },
   "file_extension": ".py",
   "mimetype": "text/x-python",
   "name": "python",
   "nbconvert_exporter": "python",
   "pygments_lexer": "ipython3",
   "version": "3.7.10"
  }
 },
 "nbformat": 4,
 "nbformat_minor": 5
}
