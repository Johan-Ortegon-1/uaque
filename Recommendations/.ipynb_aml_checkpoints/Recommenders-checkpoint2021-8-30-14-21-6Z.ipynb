{
 "cells": [
  {
   "cell_type": "code",
   "execution_count": 1,
   "id": "0927d745",
   "metadata": {},
   "outputs": [],
   "source": [
    "import pandas as pd\n",
    "import numpy as np\n",
    "import gzip, pickle, pickletools\n",
    "import time"
   ]
  },
  {
   "cell_type": "code",
   "execution_count": 2,
   "id": "a20c7ca0",
   "metadata": {},
   "outputs": [],
   "source": [
    "# Archivo donde se calcularon los pesos para cada prestamo\n",
    "\n",
    "# Para colab\n",
    "# df_prestamos = pd.read_json('/content/drive/MyDrive/UAQUE/TABLA_JOIN.json')\n",
    "\n",
    "# Para local\n",
    "df_prestamos = pd.read_json('../data/TABLA_JOIN.json')"
   ]
  },
  {
   "cell_type": "code",
   "execution_count": 3,
   "id": "771957df",
   "metadata": {},
   "outputs": [],
   "source": [
    "df_temas = pd.read_json('../data/Libros.json')"
   ]
  },
  {
   "cell_type": "markdown",
   "id": "8d7c1bb8",
   "metadata": {},
   "source": [
    "# Funciones auxiliares"
   ]
  },
  {
   "cell_type": "code",
   "execution_count": null,
   "id": "ef1b6b8c",
   "metadata": {
    "executionInfo": {
     "elapsed": 7,
     "status": "ok",
     "timestamp": 1632277059310,
     "user": {
      "displayName": "Daniel Tibaquira",
      "photoUrl": "https://lh3.googleusercontent.com/a-/AOh14Gj_hZUg1m9LeLQwBq4WOlx9a8aogZwxWo0xpAdZ6g=s64",
      "userId": "07934439656358572853"
     },
     "user_tz": 300
    },
    "id": "SdVW4ma2TrVn"
   },
   "outputs": [],
   "source": []
  },
  {
   "cell_type": "code",
   "execution_count": 4,
   "id": "cb4b93ee",
   "metadata": {
    "executionInfo": {
     "elapsed": 5,
     "status": "ok",
     "timestamp": 1632277059311,
     "user": {
      "displayName": "Daniel Tibaquira",
      "photoUrl": "https://lh3.googleusercontent.com/a-/AOh14Gj_hZUg1m9LeLQwBq4WOlx9a8aogZwxWo0xpAdZ6g=s64",
      "userId": "07934439656358572853"
     },
     "user_tz": 300
    },
    "id": "CkPiL4BGgaun"
   },
   "outputs": [],
   "source": [
    "#Para obtener el nombre de un material a partir del título\n",
    "def itemIdToMaterial(id):\n",
    "    return df_prestamos.loc[df_prestamos['Llave_x'] == id]['Titulo'].unique()"
   ]
  },
  {
   "cell_type": "code",
   "execution_count": 5,
   "id": "7b0c56e6",
   "metadata": {
    "executionInfo": {
     "elapsed": 255,
     "status": "ok",
     "timestamp": 1632277059562,
     "user": {
      "displayName": "Daniel Tibaquira",
      "photoUrl": "https://lh3.googleusercontent.com/a-/AOh14Gj_hZUg1m9LeLQwBq4WOlx9a8aogZwxWo0xpAdZ6g=s64",
      "userId": "07934439656358572853"
     },
     "user_tz": 300
    },
    "id": "kZOmdkObD4DO"
   },
   "outputs": [],
   "source": [
    "\n",
    "def itemIdToDewey(id):\n",
    "    return (df_prestamos.loc[df_prestamos['Llave_x'] == id]['Dewey'].unique())[0]"
   ]
  },
  {
   "cell_type": "code",
   "execution_count": 6,
   "id": "525252aa",
   "metadata": {},
   "outputs": [],
   "source": [
    "def itemIdToThemes(id):\n",
    "    tematicas = df_temas.loc[df_temas['Llaves'] == str(id)]['Tema 670'].values\n",
    "    if len(tematicas) == 0:\n",
    "        return []\n",
    "    else:\n",
    "        return tematicas"
   ]
  },
  {
   "cell_type": "code",
   "execution_count": 7,
   "id": "bf7f1c01",
   "metadata": {
    "executionInfo": {
     "elapsed": 6,
     "status": "ok",
     "timestamp": 1632277059563,
     "user": {
      "displayName": "Daniel Tibaquira",
      "photoUrl": "https://lh3.googleusercontent.com/a-/AOh14Gj_hZUg1m9LeLQwBq4WOlx9a8aogZwxWo0xpAdZ6g=s64",
      "userId": "07934439656358572853"
     },
     "user_tz": 300
    },
    "id": "ZdbgqjxNoi_p"
   },
   "outputs": [],
   "source": [
    "# Función para obtener el diccionario de Deweys\n",
    "import json\n",
    "from collections import defaultdict\n",
    "\n",
    "def getAllDeweys():\n",
    "    with open('../data/deweys.json') as json_file:\n",
    "        data = json.load(json_file)\n",
    "    return defaultdict(list, data)"
   ]
  },
  {
   "cell_type": "code",
   "execution_count": 8,
   "id": "a16a0188",
   "metadata": {
    "executionInfo": {
     "elapsed": 5,
     "status": "ok",
     "timestamp": 1632277059563,
     "user": {
      "displayName": "Daniel Tibaquira",
      "photoUrl": "https://lh3.googleusercontent.com/a-/AOh14Gj_hZUg1m9LeLQwBq4WOlx9a8aogZwxWo0xpAdZ6g=s64",
      "userId": "07934439656358572853"
     },
     "user_tz": 300
    },
    "id": "17XpypU0XxeN"
   },
   "outputs": [],
   "source": [
    "# Función para obtener el diccionario de Años de publicación\n",
    "import json\n",
    "from collections import defaultdict\n",
    "\n",
    "def getAllPublishedYears():\n",
    "    with open('../data/years.json') as json_file:\n",
    "        data = json.load(json_file)\n",
    "    return defaultdict(int, data)"
   ]
  },
  {
   "cell_type": "code",
   "execution_count": 9,
   "id": "6dfed6cb",
   "metadata": {
    "executionInfo": {
     "elapsed": 5,
     "status": "ok",
     "timestamp": 1632277059563,
     "user": {
      "displayName": "Daniel Tibaquira",
      "photoUrl": "https://lh3.googleusercontent.com/a-/AOh14Gj_hZUg1m9LeLQwBq4WOlx9a8aogZwxWo0xpAdZ6g=s64",
      "userId": "07934439656358572853"
     },
     "user_tz": 300
    },
    "id": "xb3pEBpfWZRN"
   },
   "outputs": [],
   "source": [
    "# Función para obtener el diccionario de temáticas\n",
    "import json\n",
    "from collections import defaultdict\n",
    "\n",
    "def getAllThemes():\n",
    "    with open('../data/themes.json') as json_file:\n",
    "        data = json.load(json_file)\n",
    "    return defaultdict(list, data)"
   ]
  },
  {
   "cell_type": "code",
   "execution_count": 10,
   "id": "2471c18f",
   "metadata": {},
   "outputs": [],
   "source": [
    "\n",
    "def generateClusterInfo(cluster_eval):\n",
    "    dfP = df_pesos_cluster_temas.copy()\n",
    "    user_p = dfP.loc[dfP['cluster'] == cluster_eval]\n",
    "    tematicas =[]\n",
    "    for llave in user_p['Llaves'].unique():\n",
    "        tematicas.append(itemIdToThemes((llave)))\n",
    "\n",
    "    user_p['Tematicas'] = tematicas\n",
    "    display(user_p)\n",
    "    print((dfP.loc[dfP['cluster'] == cluster_eval]['Dewey'].unique()))"
   ]
  },
  {
   "cell_type": "code",
   "execution_count": 11,
   "id": "7b936629",
   "metadata": {},
   "outputs": [],
   "source": [
    "def generateRecsInfopreds(preds):\n",
    "    recs = preds\n",
    "    data_recs_asr = []\n",
    "    for ids in recs:\n",
    "        data_recs_asr.append({'Titulo':itemIdToMaterial(ids), \n",
    "                         #'Rating':ratings[1], \n",
    "                         'Dewey':itemIdToDewey(ids), \n",
    "                         'Tematicas':itemIdToThemes(ids),\n",
    "                          'Llave': ids})\n",
    "\n",
    "    df_recs_asr = pd.DataFrame(data_recs_asr)\n",
    "    display(df_recs_asr)\n",
    "    print((df_recs_asr['Dewey'].unique()))"
   ]
  },
  {
   "cell_type": "code",
   "execution_count": 12,
   "id": "6e9bc2b0",
   "metadata": {},
   "outputs": [],
   "source": [
    "def loadSimilarities():\n",
    "    return np.load('similarities_rec.npy')"
   ]
  },
  {
   "cell_type": "code",
   "execution_count": 13,
   "id": "d2253115",
   "metadata": {
    "executionInfo": {
     "elapsed": 661,
     "status": "ok",
     "timestamp": 1632277060220,
     "user": {
      "displayName": "Daniel Tibaquira",
      "photoUrl": "https://lh3.googleusercontent.com/a-/AOh14Gj_hZUg1m9LeLQwBq4WOlx9a8aogZwxWo0xpAdZ6g=s64",
      "userId": "07934439656358572853"
     },
     "user_tz": 300
    },
    "id": "7vak2A-KuxT0"
   },
   "outputs": [],
   "source": [
    "import sys\n",
    "sys.path.append('./')"
   ]
  },
  {
   "cell_type": "code",
   "execution_count": 14,
   "id": "1c420c41",
   "metadata": {},
   "outputs": [
    {
     "name": "stderr",
     "output_type": "stream",
     "text": [
      "/opt/anaconda3/envs/rec_base/lib/python3.7/site-packages/papermill/iorw.py:50: FutureWarning: pyarrow.HadoopFileSystem is deprecated as of 2.0.0, please use pyarrow.fs.HadoopFileSystem instead.\n",
      "  from pyarrow import HadoopFileSystem\n"
     ]
    }
   ],
   "source": [
    "from sar_recommeder import SarRecommeder"
   ]
  },
  {
   "cell_type": "code",
   "execution_count": 15,
   "id": "fbe9415c",
   "metadata": {},
   "outputs": [],
   "source": [
    "df_pesos_cluster_temas = pd.read_json('../data/pesos_cluster_temas.json')"
   ]
  },
  {
   "cell_type": "code",
   "execution_count": 16,
   "id": "3cb150d9",
   "metadata": {},
   "outputs": [],
   "source": [
    "df_pesos_cluster_deweys = pd.read_json('../data/pesos_cluster_deweys.json')"
   ]
  },
  {
   "cell_type": "markdown",
   "id": "bac4fa00",
   "metadata": {},
   "source": [
    "# SAR Clusters Temáticas"
   ]
  },
  {
   "cell_type": "code",
   "execution_count": 17,
   "id": "bae4b3b4",
   "metadata": {},
   "outputs": [],
   "source": [
    "sar_predictor_temas = SarRecommeder(df_pesos_cluster_temas, n=10000)"
   ]
  },
  {
   "cell_type": "code",
   "execution_count": 18,
   "id": "52c2b32d",
   "metadata": {},
   "outputs": [
    {
     "name": "stderr",
     "output_type": "stream",
     "text": [
      "2021-09-29 15:59:40,735 INFO     Collecting user affinity matrix\n",
      "2021-09-29 15:59:40,737 INFO     Calculating time-decayed affinities\n",
      "2021-09-29 15:59:40,745 INFO     Creating index columns\n",
      "2021-09-29 15:59:40,754 INFO     Calculating normalization factors\n",
      "2021-09-29 15:59:40,760 INFO     Building user affinity sparse matrix\n",
      "2021-09-29 15:59:40,761 INFO     Calculating item co-occurrence\n",
      "2021-09-29 15:59:40,881 INFO     Calculating item similarity\n",
      "2021-09-29 15:59:40,881 INFO     Using jaccard based similarity\n",
      "2021-09-29 15:59:41,399 INFO     Done training\n"
     ]
    }
   ],
   "source": [
    "# Entrenando modelo\n",
    "sar_predictor_temas.fit()"
   ]
  },
  {
   "cell_type": "code",
   "execution_count": 19,
   "id": "14132e89",
   "metadata": {},
   "outputs": [
    {
     "name": "stderr",
     "output_type": "stream",
     "text": [
      "2021-09-29 15:59:41,403 INFO     Calculating recommendation scores\n"
     ]
    }
   ],
   "source": [
    "# Obteniendo Predicciones\n",
    "top_k_temas = sar_predictor_temas.predict()"
   ]
  },
  {
   "cell_type": "code",
   "execution_count": 20,
   "id": "68eddf20",
   "metadata": {},
   "outputs": [],
   "source": [
    "# sar_predictor_temas\n",
    "#sar_predictor_temas.evaluate_model(top_k_temas)"
   ]
  },
  {
   "cell_type": "code",
   "execution_count": 21,
   "id": "468fa007",
   "metadata": {},
   "outputs": [],
   "source": [
    "# Prediciendo para un usuario \n",
    "cluster_eval = 92\n",
    "preds_temas = sar_predictor_temas.predict_for_cluster(cluster=cluster_eval)"
   ]
  },
  {
   "cell_type": "code",
   "execution_count": 22,
   "id": "36376f76",
   "metadata": {},
   "outputs": [
    {
     "name": "stderr",
     "output_type": "stream",
     "text": [
      "/opt/anaconda3/envs/rec_base/lib/python3.7/site-packages/ipykernel_launcher.py:8: SettingWithCopyWarning: \n",
      "A value is trying to be set on a copy of a slice from a DataFrame.\n",
      "Try using .loc[row_indexer,col_indexer] = value instead\n",
      "\n",
      "See the caveats in the documentation: https://pandas.pydata.org/pandas-docs/stable/user_guide/indexing.html#returning-a-view-versus-a-copy\n",
      "  \n"
     ]
    },
    {
     "data": {
      "text/html": [
       "<div>\n",
       "<style scoped>\n",
       "    .dataframe tbody tr th:only-of-type {\n",
       "        vertical-align: middle;\n",
       "    }\n",
       "\n",
       "    .dataframe tbody tr th {\n",
       "        vertical-align: top;\n",
       "    }\n",
       "\n",
       "    .dataframe thead th {\n",
       "        text-align: right;\n",
       "    }\n",
       "</style>\n",
       "<table border=\"1\" class=\"dataframe\">\n",
       "  <thead>\n",
       "    <tr style=\"text-align: right;\">\n",
       "      <th></th>\n",
       "      <th>Llaves</th>\n",
       "      <th>cluster</th>\n",
       "      <th>Dewey</th>\n",
       "      <th>Peso del prestamos</th>\n",
       "      <th>timestamp</th>\n",
       "      <th>Tematicas</th>\n",
       "    </tr>\n",
       "  </thead>\n",
       "  <tbody>\n",
       "    <tr>\n",
       "      <th>1692</th>\n",
       "      <td>255776</td>\n",
       "      <td>92</td>\n",
       "      <td>190</td>\n",
       "      <td>0.250</td>\n",
       "      <td>2018-08-03</td>\n",
       "      <td>[]</td>\n",
       "    </tr>\n",
       "    <tr>\n",
       "      <th>1695</th>\n",
       "      <td>255779</td>\n",
       "      <td>92</td>\n",
       "      <td>190</td>\n",
       "      <td>0.250</td>\n",
       "      <td>2019-03-19</td>\n",
       "      <td>[[filosofía, francés]]</td>\n",
       "    </tr>\n",
       "    <tr>\n",
       "      <th>1701</th>\n",
       "      <td>255783</td>\n",
       "      <td>92</td>\n",
       "      <td>800</td>\n",
       "      <td>0.250</td>\n",
       "      <td>2019-02-13</td>\n",
       "      <td>[[literatura, moral]]</td>\n",
       "    </tr>\n",
       "    <tr>\n",
       "      <th>1850</th>\n",
       "      <td>256000</td>\n",
       "      <td>92</td>\n",
       "      <td>190</td>\n",
       "      <td>0.125</td>\n",
       "      <td>2019-05-22</td>\n",
       "      <td>[[filosofía, alemán], [filosofía, alemán]]</td>\n",
       "    </tr>\n",
       "    <tr>\n",
       "      <th>1864</th>\n",
       "      <td>256034</td>\n",
       "      <td>92</td>\n",
       "      <td>130</td>\n",
       "      <td>0.125</td>\n",
       "      <td>2018-11-08</td>\n",
       "      <td>[]</td>\n",
       "    </tr>\n",
       "    <tr>\n",
       "      <th>...</th>\n",
       "      <td>...</td>\n",
       "      <td>...</td>\n",
       "      <td>...</td>\n",
       "      <td>...</td>\n",
       "      <td>...</td>\n",
       "      <td>...</td>\n",
       "    </tr>\n",
       "    <tr>\n",
       "      <th>179612</th>\n",
       "      <td>885340</td>\n",
       "      <td>92</td>\n",
       "      <td>840</td>\n",
       "      <td>1.000</td>\n",
       "      <td>2019-11-19</td>\n",
       "      <td>[[poesía, francés]]</td>\n",
       "    </tr>\n",
       "    <tr>\n",
       "      <th>179635</th>\n",
       "      <td>885617</td>\n",
       "      <td>92</td>\n",
       "      <td>840</td>\n",
       "      <td>0.500</td>\n",
       "      <td>2019-01-21</td>\n",
       "      <td>[[cuento, francés]]</td>\n",
       "    </tr>\n",
       "    <tr>\n",
       "      <th>182378</th>\n",
       "      <td>908913</td>\n",
       "      <td>92</td>\n",
       "      <td>270</td>\n",
       "      <td>0.250</td>\n",
       "      <td>2019-01-21</td>\n",
       "      <td>[[cristianismo, historia]]</td>\n",
       "    </tr>\n",
       "    <tr>\n",
       "      <th>183156</th>\n",
       "      <td>915537</td>\n",
       "      <td>92</td>\n",
       "      <td>110</td>\n",
       "      <td>0.750</td>\n",
       "      <td>2019-02-06</td>\n",
       "      <td>[[filosofía, naturaleza]]</td>\n",
       "    </tr>\n",
       "    <tr>\n",
       "      <th>184382</th>\n",
       "      <td>922339</td>\n",
       "      <td>92</td>\n",
       "      <td>190</td>\n",
       "      <td>0.750</td>\n",
       "      <td>2019-03-25</td>\n",
       "      <td>[[filosofía, francés]]</td>\n",
       "    </tr>\n",
       "  </tbody>\n",
       "</table>\n",
       "<p>364 rows × 6 columns</p>\n",
       "</div>"
      ],
      "text/plain": [
       "        Llaves  cluster Dewey  Peso del prestamos  timestamp  \\\n",
       "1692    255776       92   190               0.250 2018-08-03   \n",
       "1695    255779       92   190               0.250 2019-03-19   \n",
       "1701    255783       92   800               0.250 2019-02-13   \n",
       "1850    256000       92   190               0.125 2019-05-22   \n",
       "1864    256034       92   130               0.125 2018-11-08   \n",
       "...        ...      ...   ...                 ...        ...   \n",
       "179612  885340       92   840               1.000 2019-11-19   \n",
       "179635  885617       92   840               0.500 2019-01-21   \n",
       "182378  908913       92   270               0.250 2019-01-21   \n",
       "183156  915537       92   110               0.750 2019-02-06   \n",
       "184382  922339       92   190               0.750 2019-03-25   \n",
       "\n",
       "                                         Tematicas  \n",
       "1692                                            []  \n",
       "1695                        [[filosofía, francés]]  \n",
       "1701                         [[literatura, moral]]  \n",
       "1850    [[filosofía, alemán], [filosofía, alemán]]  \n",
       "1864                                            []  \n",
       "...                                            ...  \n",
       "179612                         [[poesía, francés]]  \n",
       "179635                         [[cuento, francés]]  \n",
       "182378                  [[cristianismo, historia]]  \n",
       "183156                   [[filosofía, naturaleza]]  \n",
       "184382                      [[filosofía, francés]]  \n",
       "\n",
       "[364 rows x 6 columns]"
      ]
     },
     "metadata": {},
     "output_type": "display_data"
    },
    {
     "name": "stdout",
     "output_type": "stream",
     "text": [
      "['190' '800' '130' '880' '740' '110' '140' '180' '840' '260' '710' '810'\n",
      " '720' '860' '330' '920' '400' '750' '150' '890' '370' '820' '300' '320'\n",
      " '780' '170' '520' '590' '20' '500' '120' '830' '0' '460' 'Video' '700'\n",
      " '570' '900' '580' '850' '440' '270' '340' '610' '980']\n"
     ]
    }
   ],
   "source": [
    "# Info cluster\n",
    "generateClusterInfo(cluster_eval)"
   ]
  },
  {
   "cell_type": "code",
   "execution_count": 23,
   "id": "10efde85",
   "metadata": {},
   "outputs": [
    {
     "data": {
      "text/html": [
       "<div>\n",
       "<style scoped>\n",
       "    .dataframe tbody tr th:only-of-type {\n",
       "        vertical-align: middle;\n",
       "    }\n",
       "\n",
       "    .dataframe tbody tr th {\n",
       "        vertical-align: top;\n",
       "    }\n",
       "\n",
       "    .dataframe thead th {\n",
       "        text-align: right;\n",
       "    }\n",
       "</style>\n",
       "<table border=\"1\" class=\"dataframe\">\n",
       "  <thead>\n",
       "    <tr style=\"text-align: right;\">\n",
       "      <th></th>\n",
       "      <th>Titulo</th>\n",
       "      <th>Dewey</th>\n",
       "      <th>Tematicas</th>\n",
       "      <th>Llave</th>\n",
       "    </tr>\n",
       "  </thead>\n",
       "  <tbody>\n",
       "    <tr>\n",
       "      <th>0</th>\n",
       "      <td>[Obras filosoficas Discurso del metodo, Tratad...</td>\n",
       "      <td>190</td>\n",
       "      <td>[[filosofía, francés]]</td>\n",
       "      <td>272620</td>\n",
       "    </tr>\n",
       "    <tr>\n",
       "      <th>1</th>\n",
       "      <td>[La caida Albert Camus ; traducción Alberto Lu...</td>\n",
       "      <td>840</td>\n",
       "      <td>[[novela, francés]]</td>\n",
       "      <td>279000</td>\n",
       "    </tr>\n",
       "    <tr>\n",
       "      <th>2</th>\n",
       "      <td>[Fragmentos Heraclitus ; traducción de Luis Fe...</td>\n",
       "      <td>180</td>\n",
       "      <td>[[filósofo, griego]]</td>\n",
       "      <td>265911</td>\n",
       "    </tr>\n",
       "    <tr>\n",
       "      <th>3</th>\n",
       "      <td>[El exilio y el reino relatos Albert Camus ; t...</td>\n",
       "      <td>840</td>\n",
       "      <td>[[novela, francés]]</td>\n",
       "      <td>279014</td>\n",
       "    </tr>\n",
       "    <tr>\n",
       "      <th>4</th>\n",
       "      <td>[Descartes y la filosofía ]</td>\n",
       "      <td>190</td>\n",
       "      <td>[[filosofía, francés]]</td>\n",
       "      <td>272612</td>\n",
       "    </tr>\n",
       "    <tr>\n",
       "      <th>5</th>\n",
       "      <td>[Dynamic figure drawing Burne Hogarth]</td>\n",
       "      <td>740</td>\n",
       "      <td>[[anatomia, artistica]]</td>\n",
       "      <td>259123</td>\n",
       "    </tr>\n",
       "    <tr>\n",
       "      <th>6</th>\n",
       "      <td>[Monadología. Discurso de metafisica Gottfried...</td>\n",
       "      <td>110</td>\n",
       "      <td>[]</td>\n",
       "      <td>263212</td>\n",
       "    </tr>\n",
       "    <tr>\n",
       "      <th>7</th>\n",
       "      <td>[Tragedias Sófocles ; introducción de José S. ...</td>\n",
       "      <td>880</td>\n",
       "      <td>[[literatura, griego]]</td>\n",
       "      <td>257815</td>\n",
       "    </tr>\n",
       "  </tbody>\n",
       "</table>\n",
       "</div>"
      ],
      "text/plain": [
       "                                              Titulo Dewey  \\\n",
       "0  [Obras filosoficas Discurso del metodo, Tratad...   190   \n",
       "1  [La caida Albert Camus ; traducción Alberto Lu...   840   \n",
       "2  [Fragmentos Heraclitus ; traducción de Luis Fe...   180   \n",
       "3  [El exilio y el reino relatos Albert Camus ; t...   840   \n",
       "4                        [Descartes y la filosofía ]   190   \n",
       "5             [Dynamic figure drawing Burne Hogarth]   740   \n",
       "6  [Monadología. Discurso de metafisica Gottfried...   110   \n",
       "7  [Tragedias Sófocles ; introducción de José S. ...   880   \n",
       "\n",
       "                 Tematicas   Llave  \n",
       "0   [[filosofía, francés]]  272620  \n",
       "1      [[novela, francés]]  279000  \n",
       "2     [[filósofo, griego]]  265911  \n",
       "3      [[novela, francés]]  279014  \n",
       "4   [[filosofía, francés]]  272612  \n",
       "5  [[anatomia, artistica]]  259123  \n",
       "6                       []  263212  \n",
       "7   [[literatura, griego]]  257815  "
      ]
     },
     "metadata": {},
     "output_type": "display_data"
    },
    {
     "name": "stdout",
     "output_type": "stream",
     "text": [
      "['190' '840' '180' '740' '110' '880']\n"
     ]
    }
   ],
   "source": [
    "# Info Recomendaciones\n",
    "generateRecsInfopreds(preds_temas)"
   ]
  },
  {
   "cell_type": "code",
   "execution_count": 24,
   "id": "eb9454cd",
   "metadata": {
    "scrolled": true
   },
   "outputs": [],
   "source": [
    "# Exportando el modelo\n",
    "#sar_predictor_temas.export_model()"
   ]
  },
  {
   "cell_type": "code",
   "execution_count": 25,
   "id": "68e35090",
   "metadata": {},
   "outputs": [],
   "source": [
    "# now_time = time.strftime(\"%m%d%H%m\")\n",
    "# filepath = \"../Models/sar_trained_model_\"+str(100)+\"k_\"+now_time+\".pkl\"\n",
    "# with gzip.open(filepath, \"wb\") as f:\n",
    "#     pickled = pickle.dumps(sar_predictor_temas.model, protocol=4)\n",
    "#     optimized_pickle = pickletools.optimize(pickled)\n",
    "#     f.write(optimized_pickle)"
   ]
  },
  {
   "cell_type": "markdown",
   "id": "10f1ccbf",
   "metadata": {},
   "source": [
    "# SAR Clusters Deweys"
   ]
  },
  {
   "cell_type": "code",
   "execution_count": null,
   "id": "e3b911e9",
   "metadata": {},
   "outputs": [],
   "source": [
    "sar_predictor_deweys = SarRecommeder(df_pesos_cluster_deweys, n=100000)"
   ]
  },
  {
   "cell_type": "code",
   "execution_count": null,
   "id": "6ed05f6d",
   "metadata": {},
   "outputs": [],
   "source": [
    "len(sar_predictor_deweys.train)"
   ]
  },
  {
   "cell_type": "code",
   "execution_count": null,
   "id": "d033c054",
   "metadata": {},
   "outputs": [],
   "source": [
    "# Entrenando modelo\n",
    "sar_predictor_deweys.fit()"
   ]
  },
  {
   "cell_type": "code",
   "execution_count": null,
   "id": "bd5f1da0",
   "metadata": {},
   "outputs": [],
   "source": [
    "# Obteniendo Predicciones\n",
    "top_k_deweys = sar_predictor_deweys.predict()"
   ]
  },
  {
   "cell_type": "code",
   "execution_count": null,
   "id": "f6600194",
   "metadata": {},
   "outputs": [],
   "source": [
    "# sar_predictor_temas\n",
    "#sar_predictor_deweys.evaluate_model(top_k_deweys)"
   ]
  },
  {
   "cell_type": "code",
   "execution_count": null,
   "id": "d09accbb",
   "metadata": {},
   "outputs": [],
   "source": [
    "# Prediciendo para un usuario \n",
    "cluster_eval = 92\n",
    "preds_temas = sar_predictor_deweys.predict_for_cluster(cluster=cluster_eval)"
   ]
  },
  {
   "cell_type": "code",
   "execution_count": null,
   "id": "738aa1bc",
   "metadata": {},
   "outputs": [],
   "source": [
    "# Info cluster\n",
    "generateClusterInfo(cluster_eval)"
   ]
  },
  {
   "cell_type": "code",
   "execution_count": null,
   "id": "caa82e93",
   "metadata": {},
   "outputs": [],
   "source": [
    "# Info Recomendaciones\n",
    "generateRecsInfopreds(preds_temas)"
   ]
  },
  {
   "cell_type": "code",
   "execution_count": null,
   "id": "201744a1",
   "metadata": {
    "scrolled": true
   },
   "outputs": [],
   "source": [
    "# Exportando el modelo\n",
    "#sar_predictor_deweys.export_model()"
   ]
  },
  {
   "cell_type": "markdown",
   "id": "61b4e286",
   "metadata": {},
   "source": [
    "# Content based KNN Clusters Temáticas"
   ]
  },
  {
   "cell_type": "code",
   "execution_count": 26,
   "id": "34f09831",
   "metadata": {},
   "outputs": [],
   "source": [
    "from content_knn_recommender import ContentKNNRecommender"
   ]
  },
  {
   "cell_type": "code",
   "execution_count": 27,
   "id": "bc164801",
   "metadata": {},
   "outputs": [
    {
     "name": "stdout",
     "output_type": "stream",
     "text": [
      "Estimating biases using als...\n",
      "Computing the cosine similarity matrix...\n",
      "Done computing similarity matrix.\n"
     ]
    }
   ],
   "source": [
    "content_predictor_temas = ContentKNNRecommender(df_pesos_cluster_temas, n=40000, scale=5)"
   ]
  },
  {
   "cell_type": "code",
   "execution_count": 28,
   "id": "67780ff2",
   "metadata": {},
   "outputs": [
    {
     "name": "stdout",
     "output_type": "stream",
     "text": [
      "Evaluando el algoritmo  ContentKNN ...\n",
      "Calculando Precisión...\n",
      "Pre fit base\n",
      "Post fit base\n",
      "Calculando matriz de similaridad basada en contenido...\n",
      "...done.\n",
      "Análisis Completado\n",
      "\n",
      "\n",
      "Algorithm  RMSE       MAE       \n",
      "ContentKNN 0.1027     0.0519    \n",
      "\n",
      "Resumen:\n",
      "\n",
      "RMSE:      Root Mean Squared Error. Valores más bajos significa mejor precisión.\n",
      "MAE:       Mean Absolute Error. Valores más bajos significa mejor precisión.\n"
     ]
    }
   ],
   "source": [
    "content_predictor_temas.fit_evaluate()"
   ]
  },
  {
   "cell_type": "code",
   "execution_count": 29,
   "id": "71f665c5",
   "metadata": {},
   "outputs": [
    {
     "name": "stdout",
     "output_type": "stream",
     "text": [
      "1\n",
      "\n",
      "Usando el recomendador:  ContentKNN\n",
      "Computing recommendations...\n"
     ]
    }
   ],
   "source": [
    "# Prediciendo para un usuario \n",
    "cluster_eval = 92\n",
    "preds_temas_cb = content_predictor_temas.predict_for_cluster(cluster=cluster_eval)"
   ]
  },
  {
   "cell_type": "code",
   "execution_count": 30,
   "id": "e472465f",
   "metadata": {},
   "outputs": [
    {
     "name": "stderr",
     "output_type": "stream",
     "text": [
      "/opt/anaconda3/envs/rec_base/lib/python3.7/site-packages/ipykernel_launcher.py:8: SettingWithCopyWarning: \n",
      "A value is trying to be set on a copy of a slice from a DataFrame.\n",
      "Try using .loc[row_indexer,col_indexer] = value instead\n",
      "\n",
      "See the caveats in the documentation: https://pandas.pydata.org/pandas-docs/stable/user_guide/indexing.html#returning-a-view-versus-a-copy\n",
      "  \n"
     ]
    },
    {
     "data": {
      "text/html": [
       "<div>\n",
       "<style scoped>\n",
       "    .dataframe tbody tr th:only-of-type {\n",
       "        vertical-align: middle;\n",
       "    }\n",
       "\n",
       "    .dataframe tbody tr th {\n",
       "        vertical-align: top;\n",
       "    }\n",
       "\n",
       "    .dataframe thead th {\n",
       "        text-align: right;\n",
       "    }\n",
       "</style>\n",
       "<table border=\"1\" class=\"dataframe\">\n",
       "  <thead>\n",
       "    <tr style=\"text-align: right;\">\n",
       "      <th></th>\n",
       "      <th>Llaves</th>\n",
       "      <th>cluster</th>\n",
       "      <th>Dewey</th>\n",
       "      <th>Peso del prestamos</th>\n",
       "      <th>timestamp</th>\n",
       "      <th>Tematicas</th>\n",
       "    </tr>\n",
       "  </thead>\n",
       "  <tbody>\n",
       "    <tr>\n",
       "      <th>1692</th>\n",
       "      <td>255776</td>\n",
       "      <td>92</td>\n",
       "      <td>190</td>\n",
       "      <td>0.250</td>\n",
       "      <td>2018-08-03</td>\n",
       "      <td>[]</td>\n",
       "    </tr>\n",
       "    <tr>\n",
       "      <th>1695</th>\n",
       "      <td>255779</td>\n",
       "      <td>92</td>\n",
       "      <td>190</td>\n",
       "      <td>0.250</td>\n",
       "      <td>2019-03-19</td>\n",
       "      <td>[[filosofía, francés]]</td>\n",
       "    </tr>\n",
       "    <tr>\n",
       "      <th>1701</th>\n",
       "      <td>255783</td>\n",
       "      <td>92</td>\n",
       "      <td>800</td>\n",
       "      <td>0.250</td>\n",
       "      <td>2019-02-13</td>\n",
       "      <td>[[literatura, moral]]</td>\n",
       "    </tr>\n",
       "    <tr>\n",
       "      <th>1850</th>\n",
       "      <td>256000</td>\n",
       "      <td>92</td>\n",
       "      <td>190</td>\n",
       "      <td>0.125</td>\n",
       "      <td>2019-05-22</td>\n",
       "      <td>[[filosofía, alemán], [filosofía, alemán]]</td>\n",
       "    </tr>\n",
       "    <tr>\n",
       "      <th>1864</th>\n",
       "      <td>256034</td>\n",
       "      <td>92</td>\n",
       "      <td>130</td>\n",
       "      <td>0.125</td>\n",
       "      <td>2018-11-08</td>\n",
       "      <td>[]</td>\n",
       "    </tr>\n",
       "    <tr>\n",
       "      <th>...</th>\n",
       "      <td>...</td>\n",
       "      <td>...</td>\n",
       "      <td>...</td>\n",
       "      <td>...</td>\n",
       "      <td>...</td>\n",
       "      <td>...</td>\n",
       "    </tr>\n",
       "    <tr>\n",
       "      <th>179612</th>\n",
       "      <td>885340</td>\n",
       "      <td>92</td>\n",
       "      <td>840</td>\n",
       "      <td>1.000</td>\n",
       "      <td>2019-11-19</td>\n",
       "      <td>[[poesía, francés]]</td>\n",
       "    </tr>\n",
       "    <tr>\n",
       "      <th>179635</th>\n",
       "      <td>885617</td>\n",
       "      <td>92</td>\n",
       "      <td>840</td>\n",
       "      <td>0.500</td>\n",
       "      <td>2019-01-21</td>\n",
       "      <td>[[cuento, francés]]</td>\n",
       "    </tr>\n",
       "    <tr>\n",
       "      <th>182378</th>\n",
       "      <td>908913</td>\n",
       "      <td>92</td>\n",
       "      <td>270</td>\n",
       "      <td>0.250</td>\n",
       "      <td>2019-01-21</td>\n",
       "      <td>[[cristianismo, historia]]</td>\n",
       "    </tr>\n",
       "    <tr>\n",
       "      <th>183156</th>\n",
       "      <td>915537</td>\n",
       "      <td>92</td>\n",
       "      <td>110</td>\n",
       "      <td>0.750</td>\n",
       "      <td>2019-02-06</td>\n",
       "      <td>[[filosofía, naturaleza]]</td>\n",
       "    </tr>\n",
       "    <tr>\n",
       "      <th>184382</th>\n",
       "      <td>922339</td>\n",
       "      <td>92</td>\n",
       "      <td>190</td>\n",
       "      <td>0.750</td>\n",
       "      <td>2019-03-25</td>\n",
       "      <td>[[filosofía, francés]]</td>\n",
       "    </tr>\n",
       "  </tbody>\n",
       "</table>\n",
       "<p>364 rows × 6 columns</p>\n",
       "</div>"
      ],
      "text/plain": [
       "        Llaves  cluster Dewey  Peso del prestamos  timestamp  \\\n",
       "1692    255776       92   190               0.250 2018-08-03   \n",
       "1695    255779       92   190               0.250 2019-03-19   \n",
       "1701    255783       92   800               0.250 2019-02-13   \n",
       "1850    256000       92   190               0.125 2019-05-22   \n",
       "1864    256034       92   130               0.125 2018-11-08   \n",
       "...        ...      ...   ...                 ...        ...   \n",
       "179612  885340       92   840               1.000 2019-11-19   \n",
       "179635  885617       92   840               0.500 2019-01-21   \n",
       "182378  908913       92   270               0.250 2019-01-21   \n",
       "183156  915537       92   110               0.750 2019-02-06   \n",
       "184382  922339       92   190               0.750 2019-03-25   \n",
       "\n",
       "                                         Tematicas  \n",
       "1692                                            []  \n",
       "1695                        [[filosofía, francés]]  \n",
       "1701                         [[literatura, moral]]  \n",
       "1850    [[filosofía, alemán], [filosofía, alemán]]  \n",
       "1864                                            []  \n",
       "...                                            ...  \n",
       "179612                         [[poesía, francés]]  \n",
       "179635                         [[cuento, francés]]  \n",
       "182378                  [[cristianismo, historia]]  \n",
       "183156                   [[filosofía, naturaleza]]  \n",
       "184382                      [[filosofía, francés]]  \n",
       "\n",
       "[364 rows x 6 columns]"
      ]
     },
     "metadata": {},
     "output_type": "display_data"
    },
    {
     "name": "stdout",
     "output_type": "stream",
     "text": [
      "['190' '800' '130' '880' '740' '110' '140' '180' '840' '260' '710' '810'\n",
      " '720' '860' '330' '920' '400' '750' '150' '890' '370' '820' '300' '320'\n",
      " '780' '170' '520' '590' '20' '500' '120' '830' '0' '460' 'Video' '700'\n",
      " '570' '900' '580' '850' '440' '270' '340' '610' '980']\n"
     ]
    }
   ],
   "source": [
    "# Info cluster\n",
    "generateClusterInfo(cluster_eval)"
   ]
  },
  {
   "cell_type": "code",
   "execution_count": 31,
   "id": "b5906f8b",
   "metadata": {},
   "outputs": [
    {
     "data": {
      "text/html": [
       "<div>\n",
       "<style scoped>\n",
       "    .dataframe tbody tr th:only-of-type {\n",
       "        vertical-align: middle;\n",
       "    }\n",
       "\n",
       "    .dataframe tbody tr th {\n",
       "        vertical-align: top;\n",
       "    }\n",
       "\n",
       "    .dataframe thead th {\n",
       "        text-align: right;\n",
       "    }\n",
       "</style>\n",
       "<table border=\"1\" class=\"dataframe\">\n",
       "  <thead>\n",
       "    <tr style=\"text-align: right;\">\n",
       "      <th></th>\n",
       "      <th>Titulo</th>\n",
       "      <th>Dewey</th>\n",
       "      <th>Tematicas</th>\n",
       "      <th>Llave</th>\n",
       "    </tr>\n",
       "  </thead>\n",
       "  <tbody>\n",
       "    <tr>\n",
       "      <th>0</th>\n",
       "      <td>[Jesus de Nazaret mensaje e historia Joachim G...</td>\n",
       "      <td>230</td>\n",
       "      <td>[]</td>\n",
       "      <td>343629</td>\n",
       "    </tr>\n",
       "    <tr>\n",
       "      <th>1</th>\n",
       "      <td>[La colonización de lo imaginario sociedades i...</td>\n",
       "      <td>410</td>\n",
       "      <td>[[tradición, oral]]</td>\n",
       "      <td>318794</td>\n",
       "    </tr>\n",
       "    <tr>\n",
       "      <th>2</th>\n",
       "      <td>[Recent advances in the chemistry of insect co...</td>\n",
       "      <td>630</td>\n",
       "      <td>[]</td>\n",
       "      <td>346275</td>\n",
       "    </tr>\n",
       "    <tr>\n",
       "      <th>3</th>\n",
       "      <td>[Mitologias Roland Barthes, ÆSoy el más fuerte...</td>\n",
       "      <td>290</td>\n",
       "      <td>[[mitología, literatura]]</td>\n",
       "      <td>274878</td>\n",
       "    </tr>\n",
       "    <tr>\n",
       "      <th>4</th>\n",
       "      <td>[El tema de la amnistia Arturo Martínez Nateras]</td>\n",
       "      <td>300</td>\n",
       "      <td>[]</td>\n",
       "      <td>519661</td>\n",
       "    </tr>\n",
       "    <tr>\n",
       "      <th>5</th>\n",
       "      <td>[Terapeutica periodontal un estudio completo d...</td>\n",
       "      <td>610</td>\n",
       "      <td>[]</td>\n",
       "      <td>329698</td>\n",
       "    </tr>\n",
       "    <tr>\n",
       "      <th>6</th>\n",
       "      <td>[Historia contemporanea de Colombia desde la d...</td>\n",
       "      <td>980</td>\n",
       "      <td>[[none], [none]]</td>\n",
       "      <td>339243</td>\n",
       "    </tr>\n",
       "    <tr>\n",
       "      <th>7</th>\n",
       "      <td>[Agoniza Dios? la problemática de Dios en la n...</td>\n",
       "      <td>860</td>\n",
       "      <td>[[novela, latinoamericano, historia, criticar]]</td>\n",
       "      <td>311438</td>\n",
       "    </tr>\n",
       "    <tr>\n",
       "      <th>8</th>\n",
       "      <td>[Metafísica Aristoteles]</td>\n",
       "      <td>180</td>\n",
       "      <td>[[filosofía, antiguo]]</td>\n",
       "      <td>266074</td>\n",
       "    </tr>\n",
       "    <tr>\n",
       "      <th>9</th>\n",
       "      <td>[Historia de la filosofía Frederick Charles Co...</td>\n",
       "      <td>100</td>\n",
       "      <td>[[historia, filosofía], [historia, filosofía],...</td>\n",
       "      <td>255948</td>\n",
       "    </tr>\n",
       "  </tbody>\n",
       "</table>\n",
       "</div>"
      ],
      "text/plain": [
       "                                              Titulo Dewey  \\\n",
       "0  [Jesus de Nazaret mensaje e historia Joachim G...   230   \n",
       "1  [La colonización de lo imaginario sociedades i...   410   \n",
       "2  [Recent advances in the chemistry of insect co...   630   \n",
       "3  [Mitologias Roland Barthes, ÆSoy el más fuerte...   290   \n",
       "4   [El tema de la amnistia Arturo Martínez Nateras]   300   \n",
       "5  [Terapeutica periodontal un estudio completo d...   610   \n",
       "6  [Historia contemporanea de Colombia desde la d...   980   \n",
       "7  [Agoniza Dios? la problemática de Dios en la n...   860   \n",
       "8                           [Metafísica Aristoteles]   180   \n",
       "9  [Historia de la filosofía Frederick Charles Co...   100   \n",
       "\n",
       "                                           Tematicas   Llave  \n",
       "0                                                 []  343629  \n",
       "1                                [[tradición, oral]]  318794  \n",
       "2                                                 []  346275  \n",
       "3                          [[mitología, literatura]]  274878  \n",
       "4                                                 []  519661  \n",
       "5                                                 []  329698  \n",
       "6                                   [[none], [none]]  339243  \n",
       "7    [[novela, latinoamericano, historia, criticar]]  311438  \n",
       "8                             [[filosofía, antiguo]]  266074  \n",
       "9  [[historia, filosofía], [historia, filosofía],...  255948  "
      ]
     },
     "metadata": {},
     "output_type": "display_data"
    },
    {
     "name": "stdout",
     "output_type": "stream",
     "text": [
      "['230' '410' '630' '290' '300' '610' '980' '860' '180' '100']\n"
     ]
    }
   ],
   "source": [
    "# Info Recomendaciones\n",
    "generateRecsInfopreds(preds_temas_cb)"
   ]
  },
  {
   "cell_type": "markdown",
   "id": "05b06c32",
   "metadata": {},
   "source": [
    "# Content bases KNN Clusters Deweys"
   ]
  },
  {
   "cell_type": "code",
   "execution_count": null,
   "id": "8be4cbf7",
   "metadata": {},
   "outputs": [],
   "source": [
    "content_predictor_deweys = ContentKNNRecommender(df_pesos_cluster_deweys, n=80000, scale=5)"
   ]
  },
  {
   "cell_type": "code",
   "execution_count": null,
   "id": "be95a920",
   "metadata": {},
   "outputs": [],
   "source": [
    "content_predictor_deweys.fit_evaluate()"
   ]
  },
  {
   "cell_type": "code",
   "execution_count": null,
   "id": "cc0758b2",
   "metadata": {},
   "outputs": [],
   "source": [
    "# Prediciendo para un usuario \n",
    "cluster_eval = 92\n",
    "preds_deweys_cb = content_predictor_deweys.predict_for_cluster(cluster=cluster_eval)"
   ]
  },
  {
   "cell_type": "code",
   "execution_count": null,
   "id": "7551bb29",
   "metadata": {},
   "outputs": [],
   "source": [
    "# Info cluster\n",
    "generateClusterInfo(cluster_eval)"
   ]
  },
  {
   "cell_type": "code",
   "execution_count": 33,
   "id": "28f941e8",
   "metadata": {},
   "outputs": [
    {
     "ename": "IndexError",
     "evalue": "index 0 is out of bounds for axis 0 with size 0",
     "output_type": "error",
     "traceback": [
      "\u001b[0;31m---------------------------------------------------------------------------\u001b[0m",
      "\u001b[0;31mIndexError\u001b[0m                                Traceback (most recent call last)",
      "\u001b[0;32m/var/folders/pk/3mfh7qx1111czrm27qywf15m0000gn/T/ipykernel_65229/236873073.py\u001b[0m in \u001b[0;36m<module>\u001b[0;34m\u001b[0m\n\u001b[1;32m      1\u001b[0m \u001b[0;31m# Info Recomendaciones\u001b[0m\u001b[0;34m\u001b[0m\u001b[0;34m\u001b[0m\u001b[0;34m\u001b[0m\u001b[0m\n\u001b[1;32m      2\u001b[0m \u001b[0mpreds_tems_cb\u001b[0m \u001b[0;34m=\u001b[0m \u001b[0;34m[\u001b[0m\u001b[0;34m'30225'\u001b[0m\u001b[0;34m]\u001b[0m\u001b[0;34m\u001b[0m\u001b[0;34m\u001b[0m\u001b[0m\n\u001b[0;32m----> 3\u001b[0;31m \u001b[0mgenerateRecsInfopreds\u001b[0m\u001b[0;34m(\u001b[0m\u001b[0mpreds_tems_cb\u001b[0m\u001b[0;34m)\u001b[0m\u001b[0;34m\u001b[0m\u001b[0;34m\u001b[0m\u001b[0m\n\u001b[0m",
      "\u001b[0;32m/var/folders/pk/3mfh7qx1111czrm27qywf15m0000gn/T/ipykernel_65229/1618249865.py\u001b[0m in \u001b[0;36mgenerateRecsInfopreds\u001b[0;34m(preds)\u001b[0m\n\u001b[1;32m      5\u001b[0m         data_recs_asr.append({'Titulo':itemIdToMaterial(ids), \n\u001b[1;32m      6\u001b[0m                          \u001b[0;31m#'Rating':ratings[1],\u001b[0m\u001b[0;34m\u001b[0m\u001b[0;34m\u001b[0m\u001b[0;34m\u001b[0m\u001b[0m\n\u001b[0;32m----> 7\u001b[0;31m                          \u001b[0;34m'Dewey'\u001b[0m\u001b[0;34m:\u001b[0m\u001b[0mitemIdToDewey\u001b[0m\u001b[0;34m(\u001b[0m\u001b[0mids\u001b[0m\u001b[0;34m)\u001b[0m\u001b[0;34m,\u001b[0m\u001b[0;34m\u001b[0m\u001b[0;34m\u001b[0m\u001b[0m\n\u001b[0m\u001b[1;32m      8\u001b[0m                          \u001b[0;34m'Tematicas'\u001b[0m\u001b[0;34m:\u001b[0m\u001b[0mitemIdToThemes\u001b[0m\u001b[0;34m(\u001b[0m\u001b[0mids\u001b[0m\u001b[0;34m)\u001b[0m\u001b[0;34m,\u001b[0m\u001b[0;34m\u001b[0m\u001b[0;34m\u001b[0m\u001b[0m\n\u001b[1;32m      9\u001b[0m                           'Llave': ids})\n",
      "\u001b[0;32m/var/folders/pk/3mfh7qx1111czrm27qywf15m0000gn/T/ipykernel_65229/1238745227.py\u001b[0m in \u001b[0;36mitemIdToDewey\u001b[0;34m(id)\u001b[0m\n\u001b[1;32m      1\u001b[0m \u001b[0;32mdef\u001b[0m \u001b[0mitemIdToDewey\u001b[0m\u001b[0;34m(\u001b[0m\u001b[0mid\u001b[0m\u001b[0;34m)\u001b[0m\u001b[0;34m:\u001b[0m\u001b[0;34m\u001b[0m\u001b[0;34m\u001b[0m\u001b[0m\n\u001b[0;32m----> 2\u001b[0;31m     \u001b[0;32mreturn\u001b[0m \u001b[0;34m(\u001b[0m\u001b[0mdf_prestamos\u001b[0m\u001b[0;34m.\u001b[0m\u001b[0mloc\u001b[0m\u001b[0;34m[\u001b[0m\u001b[0mdf_prestamos\u001b[0m\u001b[0;34m[\u001b[0m\u001b[0;34m'Llave_x'\u001b[0m\u001b[0;34m]\u001b[0m \u001b[0;34m==\u001b[0m \u001b[0mid\u001b[0m\u001b[0;34m]\u001b[0m\u001b[0;34m[\u001b[0m\u001b[0;34m'Dewey'\u001b[0m\u001b[0;34m]\u001b[0m\u001b[0;34m.\u001b[0m\u001b[0munique\u001b[0m\u001b[0;34m(\u001b[0m\u001b[0;34m)\u001b[0m\u001b[0;34m)\u001b[0m\u001b[0;34m[\u001b[0m\u001b[0;36m0\u001b[0m\u001b[0;34m]\u001b[0m\u001b[0;34m\u001b[0m\u001b[0;34m\u001b[0m\u001b[0m\n\u001b[0m",
      "\u001b[0;31mIndexError\u001b[0m: index 0 is out of bounds for axis 0 with size 0"
     ]
    }
   ],
   "source": [
    "# Info Recomendaciones\n",
    "preds_tems_cb = ['30225']\n",
    "generateRecsInfopreds(preds_tems_cb)"
   ]
  },
  {
   "cell_type": "code",
   "execution_count": null,
   "id": "53d01b60",
   "metadata": {},
   "outputs": [],
   "source": []
  }
 ],
 "metadata": {
  "kernelspec": {
   "display_name": "Python 3 (ipykernel)",
   "language": "python",
   "name": "python3"
  },
  "language_info": {
   "codemirror_mode": {
    "name": "ipython",
    "version": 3
   },
   "file_extension": ".py",
   "mimetype": "text/x-python",
   "name": "python",
   "nbconvert_exporter": "python",
   "pygments_lexer": "ipython3",
   "version": "3.7.10"
  }
 },
 "nbformat": 4,
 "nbformat_minor": 5
}
