{
 "cells": [
  {
   "cell_type": "markdown",
   "metadata": {
    "id": "wt8y9arbE96R"
   },
   "source": [
    "# **Smart-UJ UAQUE**\n",
    "Este Notebook hace parte del servicio inteligente \"Recomendaciones por temáticas para perfil grupal\" y tiene como principal objetivo construir el modelo de Recomendación basado en el contenido del material bibliográfico de la Biblioteca Alfonso Borrero Cabal. \n",
    "\n",
    "**Integrantes:**</br>\n",
    "Johan Ortegón </br>\n",
    "Juan Angarita </br>\n",
    "Jorge Salgado </br>\n",
    "Daniel Tibaquira </br></br>\n",
    "**Directora de Proyecto de Grado:** </br>\n",
    "Viky Arias </br>"
   ]
  },
  {
   "cell_type": "markdown",
   "metadata": {
    "id": "jiMmht8OFB9h"
   },
   "source": [
    "# Carga de datos"
   ]
  },
  {
   "cell_type": "code",
   "execution_count": 1,
   "metadata": {
    "colab": {
     "base_uri": "https://localhost:8080/"
    },
    "executionInfo": {
     "elapsed": 323,
     "status": "ok",
     "timestamp": 1632276769869,
     "user": {
      "displayName": "Daniel Tibaquira",
      "photoUrl": "https://lh3.googleusercontent.com/a-/AOh14Gj_hZUg1m9LeLQwBq4WOlx9a8aogZwxWo0xpAdZ6g=s64",
      "userId": "07934439656358572853"
     },
     "user_tz": 300
    },
    "id": "83cKah3DEvX1",
    "outputId": "cab42eed-0ab7-4afa-c39b-9b1078005962"
   },
   "outputs": [],
   "source": [
    "# from google.colab import drive\n",
    "# drive.mount('/content/drive')"
   ]
  },
  {
   "cell_type": "code",
   "execution_count": 9,
   "metadata": {
    "executionInfo": {
     "elapsed": 165,
     "status": "ok",
     "timestamp": 1632277049019,
     "user": {
      "displayName": "Daniel Tibaquira",
      "photoUrl": "https://lh3.googleusercontent.com/a-/AOh14Gj_hZUg1m9LeLQwBq4WOlx9a8aogZwxWo0xpAdZ6g=s64",
      "userId": "07934439656358572853"
     },
     "user_tz": 300
    },
    "id": "nzSrRGYcE55n"
   },
   "outputs": [],
   "source": [
    "import pandas as pd\n",
    "import numpy as np"
   ]
  },
  {
   "cell_type": "code",
   "execution_count": 10,
   "metadata": {
    "colab": {
     "base_uri": "https://localhost:8080/",
     "height": 625
    },
    "executionInfo": {
     "elapsed": 9029,
     "status": "ok",
     "timestamp": 1632277058380,
     "user": {
      "displayName": "Daniel Tibaquira",
      "photoUrl": "https://lh3.googleusercontent.com/a-/AOh14Gj_hZUg1m9LeLQwBq4WOlx9a8aogZwxWo0xpAdZ6g=s64",
      "userId": "07934439656358572853"
     },
     "user_tz": 300
    },
    "id": "rvr451pugfj5",
    "outputId": "fd7b76ff-f3fb-4881-e7ea-40dd912c4d87"
   },
   "outputs": [
    {
     "data": {
      "text/html": [
       "<div>\n",
       "<style scoped>\n",
       "    .dataframe tbody tr th:only-of-type {\n",
       "        vertical-align: middle;\n",
       "    }\n",
       "\n",
       "    .dataframe tbody tr th {\n",
       "        vertical-align: top;\n",
       "    }\n",
       "\n",
       "    .dataframe thead th {\n",
       "        text-align: right;\n",
       "    }\n",
       "</style>\n",
       "<table border=\"1\" class=\"dataframe\">\n",
       "  <thead>\n",
       "    <tr style=\"text-align: right;\">\n",
       "      <th></th>\n",
       "      <th>RowID</th>\n",
       "      <th>Mes</th>\n",
       "      <th>Fecha</th>\n",
       "      <th>IDItem</th>\n",
       "      <th>NumeroUbicacion</th>\n",
       "      <th>Dewey</th>\n",
       "      <th>Ubicacion</th>\n",
       "      <th>TipoItem_x</th>\n",
       "      <th>Llave_x</th>\n",
       "      <th>Perfil</th>\n",
       "      <th>...</th>\n",
       "      <th>Copias</th>\n",
       "      <th>Autor</th>\n",
       "      <th>Titulo</th>\n",
       "      <th>Tema650</th>\n",
       "      <th>AnioPublicación</th>\n",
       "      <th>NO_DEWEY</th>\n",
       "      <th>ENCABEZAMIENTO</th>\n",
       "      <th>original</th>\n",
       "      <th>Temas</th>\n",
       "      <th>union</th>\n",
       "    </tr>\n",
       "  </thead>\n",
       "  <tbody>\n",
       "    <tr>\n",
       "      <th>0</th>\n",
       "      <td>Row0</td>\n",
       "      <td>Enero</td>\n",
       "      <td>1546992000000</td>\n",
       "      <td>80000005327627</td>\n",
       "      <td>720.98 A71S</td>\n",
       "      <td>720</td>\n",
       "      <td>COL-GRAL-2</td>\n",
       "      <td>LIBRO</td>\n",
       "      <td>866245</td>\n",
       "      <td>A-EGRESADO</td>\n",
       "      <td>...</td>\n",
       "      <td>1</td>\n",
       "      <td>Arango Cardinal, Silvia 1948-</td>\n",
       "      <td>Ciudad y arquitectura seis generaciones que co...</td>\n",
       "      <td>arquitectura historia america latina</td>\n",
       "      <td>2012.0</td>\n",
       "      <td>720.98</td>\n",
       "      <td>Arquitectura latinoamericana</td>\n",
       "      <td>arquitectura historia america latina</td>\n",
       "      <td>[arquitectur, histori, amer, latin]</td>\n",
       "      <td>arquitectur histori amer latin</td>\n",
       "    </tr>\n",
       "    <tr>\n",
       "      <th>1</th>\n",
       "      <td>Row1</td>\n",
       "      <td>Enero</td>\n",
       "      <td>1546992000000</td>\n",
       "      <td>80000001191496</td>\n",
       "      <td>720.9861 A71</td>\n",
       "      <td>720</td>\n",
       "      <td>COL-GRAL-2</td>\n",
       "      <td>LIBRO</td>\n",
       "      <td>309945</td>\n",
       "      <td>A-EGRESADO</td>\n",
       "      <td>...</td>\n",
       "      <td>2</td>\n",
       "      <td>Arango Cardinal, Silvia 1948-</td>\n",
       "      <td>Historia de la arquitectura en Colombia Silvia...</td>\n",
       "      <td>arquitectura colonial historia colombia</td>\n",
       "      <td>1993.0</td>\n",
       "      <td>720.9861</td>\n",
       "      <td>Arquitectura colombiana</td>\n",
       "      <td>arquitectura colonial historia colombia</td>\n",
       "      <td>[arquitectur, colonial, histori, colombi]</td>\n",
       "      <td>arquitectur colonial histori colombi</td>\n",
       "    </tr>\n",
       "    <tr>\n",
       "      <th>2</th>\n",
       "      <td>Row2</td>\n",
       "      <td>Enero</td>\n",
       "      <td>1547078400000</td>\n",
       "      <td>80000004979759</td>\n",
       "      <td>540 CH15Q 2010</td>\n",
       "      <td>540</td>\n",
       "      <td>COL-GRAL-3</td>\n",
       "      <td>LIBRO</td>\n",
       "      <td>822727</td>\n",
       "      <td>A-EGRESADO</td>\n",
       "      <td>...</td>\n",
       "      <td>2</td>\n",
       "      <td>Chang, Raymond</td>\n",
       "      <td>Química Raymond Chang ; revisión técnica Rosa ...</td>\n",
       "      <td>quimica</td>\n",
       "      <td>2010.0</td>\n",
       "      <td>540</td>\n",
       "      <td>Química</td>\n",
       "      <td>quimica</td>\n",
       "      <td>[quimic]</td>\n",
       "      <td>quimic</td>\n",
       "    </tr>\n",
       "    <tr>\n",
       "      <th>3</th>\n",
       "      <td>Row3</td>\n",
       "      <td>Enero</td>\n",
       "      <td>1547078400000</td>\n",
       "      <td>80000004509512</td>\n",
       "      <td>512 B151</td>\n",
       "      <td>510</td>\n",
       "      <td>COL-GRAL-3</td>\n",
       "      <td>LIBRO</td>\n",
       "      <td>784541</td>\n",
       "      <td>A-EGRESADO</td>\n",
       "      <td>...</td>\n",
       "      <td>1</td>\n",
       "      <td>Baldor, J. Aurelio</td>\n",
       "      <td>Álgebra con gráficos y 6523 ejercicios y probl...</td>\n",
       "      <td>algebra</td>\n",
       "      <td>2009.0</td>\n",
       "      <td>512</td>\n",
       "      <td>Álgebra</td>\n",
       "      <td>algebra</td>\n",
       "      <td>[algebr]</td>\n",
       "      <td>algebr</td>\n",
       "    </tr>\n",
       "    <tr>\n",
       "      <th>4</th>\n",
       "      <td>Row4</td>\n",
       "      <td>Enero</td>\n",
       "      <td>1547251200000</td>\n",
       "      <td>80000005270756</td>\n",
       "      <td>712 M17E</td>\n",
       "      <td>710</td>\n",
       "      <td>COL-GRAL-2</td>\n",
       "      <td>LIBRO</td>\n",
       "      <td>858473</td>\n",
       "      <td>A-EGRESADO</td>\n",
       "      <td>...</td>\n",
       "      <td>2</td>\n",
       "      <td>Martínez de Pisón, Eduardo 1937-</td>\n",
       "      <td>Miradas sobre el paisaje Eduardo Martínez de P...</td>\n",
       "      <td>arquitectura del paisaje</td>\n",
       "      <td>2009.0</td>\n",
       "      <td>712</td>\n",
       "      <td>Arquitectura del paisaje</td>\n",
       "      <td>arquitectura del paisaje</td>\n",
       "      <td>[arquitectur, paisaj]</td>\n",
       "      <td>arquitectur paisaj</td>\n",
       "    </tr>\n",
       "  </tbody>\n",
       "</table>\n",
       "<p>5 rows × 29 columns</p>\n",
       "</div>"
      ],
      "text/plain": [
       "  RowID    Mes          Fecha          IDItem NumeroUbicacion Dewey  \\\n",
       "0  Row0  Enero  1546992000000  80000005327627     720.98 A71S   720   \n",
       "1  Row1  Enero  1546992000000  80000001191496    720.9861 A71   720   \n",
       "2  Row2  Enero  1547078400000  80000004979759  540 CH15Q 2010   540   \n",
       "3  Row3  Enero  1547078400000  80000004509512        512 B151   510   \n",
       "4  Row4  Enero  1547251200000  80000005270756        712 M17E   710   \n",
       "\n",
       "    Ubicacion TipoItem_x Llave_x      Perfil  ... Copias  \\\n",
       "0  COL-GRAL-2      LIBRO  866245  A-EGRESADO  ...      1   \n",
       "1  COL-GRAL-2      LIBRO  309945  A-EGRESADO  ...      2   \n",
       "2  COL-GRAL-3      LIBRO  822727  A-EGRESADO  ...      2   \n",
       "3  COL-GRAL-3      LIBRO  784541  A-EGRESADO  ...      1   \n",
       "4  COL-GRAL-2      LIBRO  858473  A-EGRESADO  ...      2   \n",
       "\n",
       "                              Autor  \\\n",
       "0     Arango Cardinal, Silvia 1948-   \n",
       "1     Arango Cardinal, Silvia 1948-   \n",
       "2                    Chang, Raymond   \n",
       "3                Baldor, J. Aurelio   \n",
       "4  Martínez de Pisón, Eduardo 1937-   \n",
       "\n",
       "                                              Titulo  \\\n",
       "0  Ciudad y arquitectura seis generaciones que co...   \n",
       "1  Historia de la arquitectura en Colombia Silvia...   \n",
       "2  Química Raymond Chang ; revisión técnica Rosa ...   \n",
       "3  Álgebra con gráficos y 6523 ejercicios y probl...   \n",
       "4  Miradas sobre el paisaje Eduardo Martínez de P...   \n",
       "\n",
       "                                   Tema650 AnioPublicación  NO_DEWEY  \\\n",
       "0     arquitectura historia america latina          2012.0    720.98   \n",
       "1  arquitectura colonial historia colombia          1993.0  720.9861   \n",
       "2                                  quimica          2010.0       540   \n",
       "3                                  algebra          2009.0       512   \n",
       "4                 arquitectura del paisaje          2009.0       712   \n",
       "\n",
       "                 ENCABEZAMIENTO                                 original  \\\n",
       "0  Arquitectura latinoamericana     arquitectura historia america latina   \n",
       "1       Arquitectura colombiana  arquitectura colonial historia colombia   \n",
       "2                       Química                                  quimica   \n",
       "3                       Álgebra                                  algebra   \n",
       "4      Arquitectura del paisaje                 arquitectura del paisaje   \n",
       "\n",
       "                                       Temas  \\\n",
       "0        [arquitectur, histori, amer, latin]   \n",
       "1  [arquitectur, colonial, histori, colombi]   \n",
       "2                                   [quimic]   \n",
       "3                                   [algebr]   \n",
       "4                      [arquitectur, paisaj]   \n",
       "\n",
       "                                  union  \n",
       "0        arquitectur histori amer latin  \n",
       "1  arquitectur colonial histori colombi  \n",
       "2                                quimic  \n",
       "3                                algebr  \n",
       "4                    arquitectur paisaj  \n",
       "\n",
       "[5 rows x 29 columns]"
      ]
     },
     "execution_count": 10,
     "metadata": {},
     "output_type": "execute_result"
    }
   ],
   "source": [
    "# Archivo donde se calcularon los pesos para cada prestamo\n",
    "\n",
    "# Para colab\n",
    "# df_prestamos = pd.read_json('/content/drive/MyDrive/UAQUE/TABLA_JOIN.json')\n",
    "\n",
    "# Para local\n",
    "df_prestamos = pd.read_json('./TABLA_JOIN.json')\n",
    "\n",
    "df_prestamos.head()"
   ]
  },
  {
   "cell_type": "code",
   "execution_count": 102,
   "metadata": {
    "colab": {
     "base_uri": "https://localhost:8080/",
     "height": 206
    },
    "executionInfo": {
     "elapsed": 275,
     "status": "ok",
     "timestamp": 1632277058649,
     "user": {
      "displayName": "Daniel Tibaquira",
      "photoUrl": "https://lh3.googleusercontent.com/a-/AOh14Gj_hZUg1m9LeLQwBq4WOlx9a8aogZwxWo0xpAdZ6g=s64",
      "userId": "07934439656358572853"
     },
     "user_tz": 300
    },
    "id": "nNnkiQrSqrxb",
    "outputId": "71ac5bb7-6e2b-44ea-87dd-59ace7fd1b33"
   },
   "outputs": [
    {
     "data": {
      "text/html": [
       "<div>\n",
       "<style scoped>\n",
       "    .dataframe tbody tr th:only-of-type {\n",
       "        vertical-align: middle;\n",
       "    }\n",
       "\n",
       "    .dataframe tbody tr th {\n",
       "        vertical-align: top;\n",
       "    }\n",
       "\n",
       "    .dataframe thead th {\n",
       "        text-align: right;\n",
       "    }\n",
       "</style>\n",
       "<table border=\"1\" class=\"dataframe\">\n",
       "  <thead>\n",
       "    <tr style=\"text-align: right;\">\n",
       "      <th></th>\n",
       "      <th>Llaves</th>\n",
       "      <th>cluster</th>\n",
       "      <th>Dewey</th>\n",
       "      <th>Peso del prestamos</th>\n",
       "    </tr>\n",
       "  </thead>\n",
       "  <tbody>\n",
       "    <tr>\n",
       "      <th>0</th>\n",
       "      <td>199645</td>\n",
       "      <td>69</td>\n",
       "      <td>900</td>\n",
       "      <td>0.50</td>\n",
       "    </tr>\n",
       "    <tr>\n",
       "      <th>1</th>\n",
       "      <td>199645</td>\n",
       "      <td>74</td>\n",
       "      <td>900</td>\n",
       "      <td>0.50</td>\n",
       "    </tr>\n",
       "    <tr>\n",
       "      <th>2</th>\n",
       "      <td>199800</td>\n",
       "      <td>127</td>\n",
       "      <td>Mapa</td>\n",
       "      <td>0.25</td>\n",
       "    </tr>\n",
       "    <tr>\n",
       "      <th>3</th>\n",
       "      <td>199810</td>\n",
       "      <td>148</td>\n",
       "      <td>Mapa</td>\n",
       "      <td>0.25</td>\n",
       "    </tr>\n",
       "    <tr>\n",
       "      <th>4</th>\n",
       "      <td>199825</td>\n",
       "      <td>148</td>\n",
       "      <td>Mapa</td>\n",
       "      <td>0.25</td>\n",
       "    </tr>\n",
       "  </tbody>\n",
       "</table>\n",
       "</div>"
      ],
      "text/plain": [
       "   Llaves  cluster Dewey  Peso del prestamos\n",
       "0  199645       69   900                0.50\n",
       "1  199645       74   900                0.50\n",
       "2  199800      127  Mapa                0.25\n",
       "3  199810      148  Mapa                0.25\n",
       "4  199825      148  Mapa                0.25"
      ]
     },
     "execution_count": 102,
     "metadata": {},
     "output_type": "execute_result"
    }
   ],
   "source": [
    "# Archivo donde se calcularon los pesos para cada Llave POR CLUSTERS\n",
    "\n",
    "# Para colab\n",
    "# df = pd.read_json('/content/drive/MyDrive/UAQUE/Recomendacion/pesos_con_cluster_final.json')\n",
    "\n",
    "# Para local\n",
    "df = pd.read_json('./pesos_con_cluster_final.json')\n",
    "\n",
    "df.head()"
   ]
  },
  {
   "cell_type": "code",
   "execution_count": 5,
   "metadata": {
    "executionInfo": {
     "elapsed": 8,
     "status": "ok",
     "timestamp": 1632277058649,
     "user": {
      "displayName": "Daniel Tibaquira",
      "photoUrl": "https://lh3.googleusercontent.com/a-/AOh14Gj_hZUg1m9LeLQwBq4WOlx9a8aogZwxWo0xpAdZ6g=s64",
      "userId": "07934439656358572853"
     },
     "user_tz": 300
    },
    "id": "QFdBEfohE7hF"
   },
   "outputs": [],
   "source": [
    "# Archivo donde se calcularon los pesos para cada prestamo POR USUARIOS\n",
    "# df = pd.read_json('/content/drive/MyDrive/UAQUE/Recomendacion/data_to_build.json')\n",
    "# df.head()"
   ]
  },
  {
   "cell_type": "code",
   "execution_count": 6,
   "metadata": {
    "executionInfo": {
     "elapsed": 3,
     "status": "ok",
     "timestamp": 1632277058816,
     "user": {
      "displayName": "Daniel Tibaquira",
      "photoUrl": "https://lh3.googleusercontent.com/a-/AOh14Gj_hZUg1m9LeLQwBq4WOlx9a8aogZwxWo0xpAdZ6g=s64",
      "userId": "07934439656358572853"
     },
     "user_tz": 300
    },
    "id": "GCMj5AD0Icy6"
   },
   "outputs": [],
   "source": [
    "# Matriz de usuarios con respecto a los deweys\n",
    "# users_deweys = df.pivot_table(index='ID de usuario ok', columns='Dewey', values='Peso del prestamos', aggfunc=np.sum)\n",
    "# users_deweys.head()"
   ]
  },
  {
   "cell_type": "code",
   "execution_count": 7,
   "metadata": {
    "executionInfo": {
     "elapsed": 3,
     "status": "ok",
     "timestamp": 1632277058816,
     "user": {
      "displayName": "Daniel Tibaquira",
      "photoUrl": "https://lh3.googleusercontent.com/a-/AOh14Gj_hZUg1m9LeLQwBq4WOlx9a8aogZwxWo0xpAdZ6g=s64",
      "userId": "07934439656358572853"
     },
     "user_tz": 300
    },
    "id": "gXetrHddLm_d"
   },
   "outputs": [],
   "source": [
    "# users_deweys.to_json('data_to_rec_deweys.json')"
   ]
  },
  {
   "cell_type": "markdown",
   "metadata": {
    "id": "7Lky5kSDZ5vW"
   },
   "source": [
    "## Instalar Librería de recomendaciones (En Colab, para local instalar aparte mejor)"
   ]
  },
  {
   "cell_type": "code",
   "execution_count": 8,
   "metadata": {
    "colab": {
     "base_uri": "https://localhost:8080/"
    },
    "executionInfo": {
     "elapsed": 4107,
     "status": "ok",
     "timestamp": 1632276787142,
     "user": {
      "displayName": "Daniel Tibaquira",
      "photoUrl": "https://lh3.googleusercontent.com/a-/AOh14Gj_hZUg1m9LeLQwBq4WOlx9a8aogZwxWo0xpAdZ6g=s64",
      "userId": "07934439656358572853"
     },
     "user_tz": 300
    },
    "id": "-onrFKp4Z8Lz",
    "outputId": "a2c778d1-61b3-4e17-8995-f8b4e2841c59"
   },
   "outputs": [],
   "source": [
    "# !pip3 install surprise"
   ]
  },
  {
   "cell_type": "code",
   "execution_count": 9,
   "metadata": {
    "colab": {
     "base_uri": "https://localhost:8080/"
    },
    "executionInfo": {
     "elapsed": 3065,
     "status": "ok",
     "timestamp": 1632276790197,
     "user": {
      "displayName": "Daniel Tibaquira",
      "photoUrl": "https://lh3.googleusercontent.com/a-/AOh14Gj_hZUg1m9LeLQwBq4WOlx9a8aogZwxWo0xpAdZ6g=s64",
      "userId": "07934439656358572853"
     },
     "user_tz": 300
    },
    "id": "9LAxCAkaogEc",
    "outputId": "61dd9da2-1749-4b49-e290-0863350d30fd"
   },
   "outputs": [],
   "source": [
    "# !pip3 install ipynb"
   ]
  },
  {
   "cell_type": "code",
   "execution_count": 10,
   "metadata": {
    "colab": {
     "base_uri": "https://localhost:8080/"
    },
    "executionInfo": {
     "elapsed": 2748,
     "status": "ok",
     "timestamp": 1632276792935,
     "user": {
      "displayName": "Daniel Tibaquira",
      "photoUrl": "https://lh3.googleusercontent.com/a-/AOh14Gj_hZUg1m9LeLQwBq4WOlx9a8aogZwxWo0xpAdZ6g=s64",
      "userId": "07934439656358572853"
     },
     "user_tz": 300
    },
    "id": "oReon-Z-x4Yu",
    "outputId": "c6364733-c76d-4155-8973-ebd9887b12d6"
   },
   "outputs": [],
   "source": [
    "# !pip3 install import-ipynb"
   ]
  },
  {
   "cell_type": "markdown",
   "metadata": {
    "id": "K75BfSwzW5d6"
   },
   "source": [
    "## Funciones auxiliares"
   ]
  },
  {
   "cell_type": "code",
   "execution_count": 12,
   "metadata": {
    "executionInfo": {
     "elapsed": 7,
     "status": "ok",
     "timestamp": 1632277059310,
     "user": {
      "displayName": "Daniel Tibaquira",
      "photoUrl": "https://lh3.googleusercontent.com/a-/AOh14Gj_hZUg1m9LeLQwBq4WOlx9a8aogZwxWo0xpAdZ6g=s64",
      "userId": "07934439656358572853"
     },
     "user_tz": 300
    },
    "id": "SdVW4ma2TrVn"
   },
   "outputs": [],
   "source": [
    "# Función para obtener los items ordenados según su rango, este depende del peso dado a cada ítem y de cuántas veces ha sido calificado\n",
    "def getPopularityRank():\n",
    "    ratings = defaultdict(int)\n",
    "    rankings = defaultdict(int)\n",
    "    \n",
    "    for llave in df['Llaves']:\n",
    "        ratings[llave] += 1\n",
    "\n",
    "    rank = 1\n",
    "    for llave, ratingCount in sorted(ratings.items(), key=lambda x: x[1], reverse=True):\n",
    "        rankings[llave] = rank\n",
    "        rank += 1\n",
    "    return rankings\n"
   ]
  },
  {
   "cell_type": "code",
   "execution_count": 31,
   "metadata": {
    "executionInfo": {
     "elapsed": 5,
     "status": "ok",
     "timestamp": 1632277059311,
     "user": {
      "displayName": "Daniel Tibaquira",
      "photoUrl": "https://lh3.googleusercontent.com/a-/AOh14Gj_hZUg1m9LeLQwBq4WOlx9a8aogZwxWo0xpAdZ6g=s64",
      "userId": "07934439656358572853"
     },
     "user_tz": 300
    },
    "id": "CkPiL4BGgaun"
   },
   "outputs": [],
   "source": [
    "#Para obtener el nombre de un material a partir del título\n",
    "def itemIdToMaterial(id):\n",
    "    return df_prestamos.loc[df_prestamos['Llave_x'] == id]['Titulo'].unique()"
   ]
  },
  {
   "cell_type": "code",
   "execution_count": 29,
   "metadata": {
    "executionInfo": {
     "elapsed": 255,
     "status": "ok",
     "timestamp": 1632277059562,
     "user": {
      "displayName": "Daniel Tibaquira",
      "photoUrl": "https://lh3.googleusercontent.com/a-/AOh14Gj_hZUg1m9LeLQwBq4WOlx9a8aogZwxWo0xpAdZ6g=s64",
      "userId": "07934439656358572853"
     },
     "user_tz": 300
    },
    "id": "kZOmdkObD4DO"
   },
   "outputs": [],
   "source": [
    "\n",
    "def itemIdToDewey(id):\n",
    "    return (df_prestamos.loc[df_prestamos['Llave_x'] == id]['Dewey'].unique())[0]"
   ]
  },
  {
   "cell_type": "code",
   "execution_count": 15,
   "metadata": {
    "executionInfo": {
     "elapsed": 6,
     "status": "ok",
     "timestamp": 1632277059563,
     "user": {
      "displayName": "Daniel Tibaquira",
      "photoUrl": "https://lh3.googleusercontent.com/a-/AOh14Gj_hZUg1m9LeLQwBq4WOlx9a8aogZwxWo0xpAdZ6g=s64",
      "userId": "07934439656358572853"
     },
     "user_tz": 300
    },
    "id": "ZdbgqjxNoi_p"
   },
   "outputs": [],
   "source": [
    "# Función para obtener el diccionario de Deweys\n",
    "import json\n",
    "from collections import defaultdict\n",
    "\n",
    "def getAllDeweys():\n",
    "    with open('./deweys.json') as json_file:\n",
    "        data = json.load(json_file)\n",
    "    return defaultdict(list, data)"
   ]
  },
  {
   "cell_type": "code",
   "execution_count": 16,
   "metadata": {
    "executionInfo": {
     "elapsed": 5,
     "status": "ok",
     "timestamp": 1632277059563,
     "user": {
      "displayName": "Daniel Tibaquira",
      "photoUrl": "https://lh3.googleusercontent.com/a-/AOh14Gj_hZUg1m9LeLQwBq4WOlx9a8aogZwxWo0xpAdZ6g=s64",
      "userId": "07934439656358572853"
     },
     "user_tz": 300
    },
    "id": "17XpypU0XxeN"
   },
   "outputs": [],
   "source": [
    "# Función para obtener el diccionario de Años de publicación\n",
    "import json\n",
    "from collections import defaultdict\n",
    "\n",
    "def getAllPublishedYears():\n",
    "    with open('./years.json') as json_file:\n",
    "        data = json.load(json_file)\n",
    "    return defaultdict(int, data)"
   ]
  },
  {
   "cell_type": "code",
   "execution_count": 17,
   "metadata": {
    "executionInfo": {
     "elapsed": 5,
     "status": "ok",
     "timestamp": 1632277059563,
     "user": {
      "displayName": "Daniel Tibaquira",
      "photoUrl": "https://lh3.googleusercontent.com/a-/AOh14Gj_hZUg1m9LeLQwBq4WOlx9a8aogZwxWo0xpAdZ6g=s64",
      "userId": "07934439656358572853"
     },
     "user_tz": 300
    },
    "id": "xb3pEBpfWZRN"
   },
   "outputs": [],
   "source": [
    "# Función para obtener el diccionario de temáticas\n",
    "import json\n",
    "from collections import defaultdict\n",
    "\n",
    "def getAllThemes():\n",
    "    with open('./themes.json') as json_file:\n",
    "        data = json.load(json_file)\n",
    "    return defaultdict(list, data)"
   ]
  },
  {
   "cell_type": "code",
   "execution_count": 18,
   "metadata": {},
   "outputs": [],
   "source": [
    "def loadSimilarities():\n",
    "    return np.load('similarities_rec.npy')"
   ]
  },
  {
   "cell_type": "code",
   "execution_count": 19,
   "metadata": {
    "executionInfo": {
     "elapsed": 661,
     "status": "ok",
     "timestamp": 1632277060220,
     "user": {
      "displayName": "Daniel Tibaquira",
      "photoUrl": "https://lh3.googleusercontent.com/a-/AOh14Gj_hZUg1m9LeLQwBq4WOlx9a8aogZwxWo0xpAdZ6g=s64",
      "userId": "07934439656358572853"
     },
     "user_tz": 300
    },
    "id": "7vak2A-KuxT0"
   },
   "outputs": [],
   "source": [
    "import sys\n",
    "sys.path.append('./')\n",
    "#!cp -r \"/content/drive/MyDrive/UAQUE/Recomendacion/model_prep_train_evaluate.py\" '/content/'"
   ]
  },
  {
   "cell_type": "code",
   "execution_count": 20,
   "metadata": {
    "executionInfo": {
     "elapsed": 169,
     "status": "ok",
     "timestamp": 1632277061222,
     "user": {
      "displayName": "Daniel Tibaquira",
      "photoUrl": "https://lh3.googleusercontent.com/a-/AOh14Gj_hZUg1m9LeLQwBq4WOlx9a8aogZwxWo0xpAdZ6g=s64",
      "userId": "07934439656358572853"
     },
     "user_tz": 300
    },
    "id": "aNX3rlyU1tOy"
   },
   "outputs": [],
   "source": [
    "import model_prep_train_evaluate as cbrec"
   ]
  },
  {
   "cell_type": "markdown",
   "metadata": {
    "id": "_fgCxkztYgUV"
   },
   "source": [
    "# Construcción del Modelo"
   ]
  },
  {
   "cell_type": "code",
   "execution_count": 20,
   "metadata": {
    "executionInfo": {
     "elapsed": 55465,
     "status": "ok",
     "timestamp": 1632276858889,
     "user": {
      "displayName": "Daniel Tibaquira",
      "photoUrl": "https://lh3.googleusercontent.com/a-/AOh14Gj_hZUg1m9LeLQwBq4WOlx9a8aogZwxWo0xpAdZ6g=s64",
      "userId": "07934439656358572853"
     },
     "user_tz": 300
    },
    "id": "ysxSrmGqRH9d"
   },
   "outputs": [],
   "source": [
    "# Para calcular las matrices de similaridad\n",
    "# genres = getAllThemes()\n",
    "# years = getAllPublishedYears()"
   ]
  },
  {
   "cell_type": "code",
   "execution_count": 21,
   "metadata": {
    "executionInfo": {
     "elapsed": 204,
     "status": "ok",
     "timestamp": 1632277068819,
     "user": {
      "displayName": "Daniel Tibaquira",
      "photoUrl": "https://lh3.googleusercontent.com/a-/AOh14Gj_hZUg1m9LeLQwBq4WOlx9a8aogZwxWo0xpAdZ6g=s64",
      "userId": "07934439656358572853"
     },
     "user_tz": 300
    },
    "id": "cAqE4-xW1Nq9"
   },
   "outputs": [],
   "source": [
    "from surprise import AlgoBase\n",
    "from surprise import PredictionImpossible\n",
    "import math\n",
    "import numpy as np\n",
    "import heapq\n",
    "\n",
    "\n",
    "class ContentKNNAlgorithm(AlgoBase):\n",
    "\n",
    "    def __init__(self, k=40, sim_options={}):\n",
    "        AlgoBase.__init__(self)\n",
    "        self.k = k\n",
    "\n",
    "    def fit(self, trainset):\n",
    "        print(\"Pre fit base\")\n",
    "        AlgoBase.fit(self, trainset)\n",
    "        print(\"Post fit base\")\n",
    "        # Calculando la matrix de similaridad entre ítems basado en su contenido\n",
    "        # En este caso solo genres = temáticas y years = Año de publicación\n",
    "        # genres = getAllThemes()\n",
    "        # years = getAllPublishedYears()\n",
    "        \n",
    "        print(\"Calculando matriz de similaridad basada en contenido...\")\n",
    "        # Calcula la distancia entre Dewys para cada combinación de ítems como una matriz 2x2\n",
    "        simsalgo = evaluator.dataset.GetSimMatrix()\n",
    "        self.similarities = simsalgo\n",
    "\n",
    "#         for thisRating in range(self.trainset.n_items):\n",
    "#             if (thisRating % 100 == 0):\n",
    "#                 print(thisRating, \" de \", self.trainset.n_items)\n",
    "#             for otherRating in range(thisRating+1, self.trainset.n_items):\n",
    "#                 thisItemID = int(self.trainset.to_raw_iid(thisRating))\n",
    "#                 print(\"thisItemID\", thisItemID)\n",
    "#                 otherItemID = int(self.trainset.to_raw_iid(otherRating))\n",
    "#                 print(\"otherItemID\", otherItemID)\n",
    "#                 genreSimilarity = self.computeGenreSimilarity(thisItemID, otherItemID, genres)\n",
    "#                 yearSimilarity = self.computeYearSimilarity(thisItemID, otherItemID, years)\n",
    "#                 self.similarities[thisRating, otherRating] = genreSimilarity * yearSimilarity\n",
    "#                 self.similarities[otherRating, thisRating] = self.similarities[thisRating, otherRating]\n",
    "                \n",
    "        print(\"...done.\")\n",
    "                \n",
    "        return self\n",
    "    \n",
    "    # Calculo de similitud de temáticas\n",
    "\n",
    "    \n",
    "    # Calculo de similitud de año de publicación\n",
    "    def computeYearSimilarity(self, item1, item2, years):\n",
    "        diff = abs(years[str(float(item1))] - years[str(float(item2))])\n",
    "        sim = math.exp(-diff / 10.0)\n",
    "        return sim\n",
    "\n",
    "    def estimate(self, u, i):\n",
    "\n",
    "        if not (self.trainset.knows_user(u) and self.trainset.knows_item(i)):\n",
    "            raise PredictionImpossible('Usario o item desconocidos')\n",
    "        \n",
    "        # Construimos los puntajes entre el ítem y las pesos dados a los temas\n",
    "        neighbors = []\n",
    "        for rating in self.trainset.ur[u]:\n",
    "            genreSimilarity = self.similarities[i,rating[0]]\n",
    "            neighbors.append( (genreSimilarity, rating[1]) )\n",
    "        \n",
    "        # Extraer los top-K ratings más similares\n",
    "        k_neighbors = heapq.nlargest(self.k, neighbors, key=lambda t: t[0])\n",
    "        \n",
    "        # Calculo promedio de similitud de los K vecinos con respecto a los ratings del usuario\n",
    "        simTotal = weightedSum = 0\n",
    "        for (simScore, rating) in k_neighbors:\n",
    "            if (simScore > 0):\n",
    "                simTotal += simScore\n",
    "                weightedSum += simScore * rating\n",
    "            \n",
    "        if (simTotal == 0):\n",
    "            raise PredictionImpossible('No tiene vecinos')\n",
    "\n",
    "        predictedRating = weightedSum / simTotal\n",
    "\n",
    "        return predictedRating\n",
    "    \n"
   ]
  },
  {
   "cell_type": "code",
   "execution_count": 22,
   "metadata": {
    "executionInfo": {
     "elapsed": 226,
     "status": "ok",
     "timestamp": 1632277003557,
     "user": {
      "displayName": "Daniel Tibaquira",
      "photoUrl": "https://lh3.googleusercontent.com/a-/AOh14Gj_hZUg1m9LeLQwBq4WOlx9a8aogZwxWo0xpAdZ6g=s64",
      "userId": "07934439656358572853"
     },
     "user_tz": 300
    },
    "id": "3np7oc2fOwy3"
   },
   "outputs": [],
   "source": [
    "# def fitComputeUtil():\n"
   ]
  },
  {
   "cell_type": "markdown",
   "metadata": {
    "id": "aXYvf5mO1QIz"
   },
   "source": [
    "# Predict"
   ]
  },
  {
   "cell_type": "markdown",
   "metadata": {
    "id": "eVf1Fn3JZGAa"
   },
   "source": [
    "Esta función permite pasar el dataset de pesos a un Database de Surprise para poder hacer uso de la librería de recomendaciones"
   ]
  },
  {
   "cell_type": "code",
   "execution_count": 21,
   "metadata": {
    "executionInfo": {
     "elapsed": 253,
     "status": "ok",
     "timestamp": 1632277071817,
     "user": {
      "displayName": "Daniel Tibaquira",
      "photoUrl": "https://lh3.googleusercontent.com/a-/AOh14Gj_hZUg1m9LeLQwBq4WOlx9a8aogZwxWo0xpAdZ6g=s64",
      "userId": "07934439656358572853"
     },
     "user_tz": 300
    },
    "id": "dZ81VsWt0iBI"
   },
   "outputs": [],
   "source": [
    "from numpy import interp\n",
    "from sklearn.utils import shuffle\n",
    "dfP = (df[0:80000])\n",
    "#dfP = df\n",
    "scale = 5\n",
    "\n",
    "toSurprisedb = pd.DataFrame(columns=['userID', 'itemID', 'rating'])\n",
    "\n",
    "# Para USUARIOS\n",
    "# toSurprisedb['userID'] = dfP['ID de usuario ok']\n",
    "\n",
    "# Para CLUSTER\n",
    "toSurprisedb['userID'] = dfP['cluster']\n",
    "\n",
    "toSurprisedb['itemID'] = dfP['Llaves']\n",
    "\n",
    "maxRat = dfP['Peso del prestamos'].max()\n",
    "mappedWeights = dfP['Peso del prestamos'].map(lambda x: interp(x,[0, maxRat],[0, scale]))\n",
    "toSurprisedb['rating'] = mappedWeights"
   ]
  },
  {
   "cell_type": "code",
   "execution_count": 24,
   "metadata": {
    "executionInfo": {
     "elapsed": 5,
     "status": "ok",
     "timestamp": 1632277004392,
     "user": {
      "displayName": "Daniel Tibaquira",
      "photoUrl": "https://lh3.googleusercontent.com/a-/AOh14Gj_hZUg1m9LeLQwBq4WOlx9a8aogZwxWo0xpAdZ6g=s64",
      "userId": "07934439656358572853"
     },
     "user_tz": 300
    },
    "id": "mILgMQPzYCdt"
   },
   "outputs": [],
   "source": [
    "#toSurprisedb.to_json('trainset_to_rec.json')"
   ]
  },
  {
   "cell_type": "code",
   "execution_count": 25,
   "metadata": {
    "colab": {
     "base_uri": "https://localhost:8080/"
    },
    "id": "gMXz0XqG1Abe",
    "outputId": "25a5f37c-0627-4202-abdf-91e07e3731a0",
    "pycharm": {
     "is_executing": true
    }
   },
   "outputs": [
    {
     "name": "stdout",
     "output_type": "stream",
     "text": [
      "Estimating biases using als...\n",
      "Computing the cosine similarity matrix...\n",
      "Done computing similarity matrix.\n"
     ]
    }
   ],
   "source": [
    "from surprise import NormalPredictor\n",
    "from surprise import Dataset\n",
    "from surprise import Reader\n",
    "import random\n",
    "import numpy as np\n",
    "\n",
    "np.random.seed(0)\n",
    "random.seed(0)\n",
    "\n",
    "reader = Reader(rating_scale=(0, scale))\n",
    "\n",
    "# Utilizamos las funciones definidas en el notebook de preparación y evaluación \n",
    "# Para generar los set de datos a evaluar\n",
    "evaluate = Dataset.load_from_df(toSurprisedb[['userID', 'itemID', 'rating']], reader)\n",
    "\n",
    "rankings = getPopularityRank()\n",
    "\n",
    "# Este se encargará de entrenar y generar las métricas\n",
    "evaluator = cbrec.Evaluator(evaluate, rankings)\n",
    "\n",
    "contentKNN = ContentKNNAlgorithm()\n",
    "evaluator.AddAlgorithm(contentKNN, \"ContentKNN\")\n",
    "\n",
    "# Modelo Random para comparar\n",
    "# Random = NormalPredictor()\n",
    "# evaluator.AddAlgorithm(Random, \"Random\")\n",
    "\n",
    "\n",
    "trainSet = evaluator.dataset.trainSet"
   ]
  },
  {
   "cell_type": "code",
   "execution_count": 26,
   "metadata": {
    "colab": {
     "base_uri": "https://localhost:8080/",
     "height": 433
    },
    "executionInfo": {
     "elapsed": 2222,
     "status": "error",
     "timestamp": 1632277022951,
     "user": {
      "displayName": "Daniel Tibaquira",
      "photoUrl": "https://lh3.googleusercontent.com/a-/AOh14Gj_hZUg1m9LeLQwBq4WOlx9a8aogZwxWo0xpAdZ6g=s64",
      "userId": "07934439656358572853"
     },
     "user_tz": 300
    },
    "id": "yz5EB5xAH0C1",
    "outputId": "ae3060d7-4d7c-480a-98dd-30b5a5e6c115",
    "pycharm": {
     "is_executing": true
    }
   },
   "outputs": [
    {
     "name": "stdout",
     "output_type": "stream",
     "text": [
      "Evaluando el algoritmo  ContentKNN ...\n",
      "Calculando Precisión...\n",
      "Pre fit base\n",
      "Post fit base\n",
      "Calculando matriz de similaridad basada en contenido...\n",
      "...done.\n",
      "Evaluando los top-10 utilizando Leave One Out...\n",
      "Pre fit base\n",
      "Post fit base\n",
      "Calculando matriz de similaridad basada en contenido...\n",
      "...done.\n",
      "Computing hit-rate and rank metrics...\n",
      "Calculando recomiendaciones para todo el data set...\n",
      "Pre fit base\n",
      "Post fit base\n",
      "Calculando matriz de similaridad basada en contenido...\n",
      "...done.\n",
      "Analizando cobertura, diversidad y novedad...\n",
      "Análisis Completado\n",
      "\n",
      "\n",
      "Algoritmo  RMSE       MAE        HR         cHR        ARHR       Cobertura  Diversidad Novedad   \n",
      "ContentKNN 0.1243     0.0720     0.0000     0.0000     0.0000     0.0000     0.0000     1.0000    \n",
      "\n",
      "Resumen:\n",
      "\n",
      "RMSE:      Root Mean Squared Error. Valores más bajos significa mejor precisión.\n",
      "MAE:       Mean Absolute Error. Valores más bajos significa mejor precisión.\n",
      "HR:        Hit Rate; Qué tan seguido recomendamos una predicción Left-Out (fuera del set de entrenamiento). Más alto es mejor.\n",
      "cHR:       Cumulative Hit Rate; Hit Rate limitado a las calificaciones por encima de un determinado umbral.  Más alto es mejor.\n",
      "ARHR:      Average Reciprocal Hit Rank - Hit rate que tiene el ranking del ítem. Más alto es mejor.\n",
      "Cobertura:  Ratio de usuarios para los que existen recomendaciones por encima de un determinado umbral. Más alto es mejor.\n",
      "Diversidad: 1-S, donde S es la similaridad Promedio entre cada posible par de recomendaciones\n",
      "           para un usuario. Más alto significa más diverso.\n",
      "Novedad:   Popularidad promedio en el raking de ítems recomendados. Más alto significa más novedoso.\n"
     ]
    }
   ],
   "source": [
    "# Entrenamos y evaluamos todos los modelos agregados\n",
    "evaluator.Evaluate(True)\n"
   ]
  },
  {
   "cell_type": "markdown",
   "metadata": {
    "id": "j_e78NVOZab8"
   },
   "source": [
    "Generamos las recomendaciones para un usuario en específico"
   ]
  },
  {
   "cell_type": "code",
   "execution_count": 27,
   "metadata": {
    "executionInfo": {
     "elapsed": 176,
     "status": "ok",
     "timestamp": 1632275227614,
     "user": {
      "displayName": "Daniel Tibaquira",
      "photoUrl": "https://lh3.googleusercontent.com/a-/AOh14Gj_hZUg1m9LeLQwBq4WOlx9a8aogZwxWo0xpAdZ6g=s64",
      "userId": "07934439656358572853"
     },
     "user_tz": 300
    },
    "id": "bpzs1CXhybV1",
    "pycharm": {
     "is_executing": true
    }
   },
   "outputs": [],
   "source": [
    "def GetAntiTestSetForUser(testSubject):\n",
    "    trainset = trainSet\n",
    "    fill = trainset.global_mean\n",
    "    anti_testset = []\n",
    "    u = trainset.to_inner_uid((testSubject))\n",
    "    user_items = set([j for (j, _) in trainset.ur[u]])\n",
    "    anti_testset += [(trainset.to_raw_uid(u), trainset.to_raw_iid(i), fill) for\n",
    "                                i in trainset.all_items() if\n",
    "                                i not in user_items]\n",
    "    return anti_testset"
   ]
  },
  {
   "cell_type": "code",
   "execution_count": 28,
   "metadata": {
    "executionInfo": {
     "elapsed": 171,
     "status": "ok",
     "timestamp": 1632275229455,
     "user": {
      "displayName": "Daniel Tibaquira",
      "photoUrl": "https://lh3.googleusercontent.com/a-/AOh14Gj_hZUg1m9LeLQwBq4WOlx9a8aogZwxWo0xpAdZ6g=s64",
      "userId": "07934439656358572853"
     },
     "user_tz": 300
    },
    "id": "gtASYetYC7f4",
    "pycharm": {
     "is_executing": true
    }
   },
   "outputs": [],
   "source": [
    "def SampleTopNRecs(testSubject=92, k=10):\n",
    "    print(len(list(set(evaluator.algorithms))))\n",
    "   \n",
    "    for algo in set(evaluator.algorithms):\n",
    "        print(\"\\nUsando el recomendador: \", algo.GetName())\n",
    "        \n",
    "        # print(\"\\nConstruyendo el modelo de recomendación...\")\n",
    "        # # trainSet = self.dataset.GetFullTrainSet()\n",
    "        # algo.GetAlgorithm().fit(trainSet)\n",
    "        \n",
    "        print(\"Computing recommendations...\")\n",
    "        testSet = GetAntiTestSetForUser(testSubject)\n",
    "    \n",
    "        predictions = algo.GetAlgorithm().test(testSet)\n",
    "        \n",
    "        recommendations = []\n",
    "        \n",
    "        for userID, movieID, actualRating, estimatedRating, _ in predictions:\n",
    "            intMovieID = int(movieID)\n",
    "            recommendations.append((intMovieID, estimatedRating))\n",
    "        \n",
    "        recommendations.sort(key=lambda x: x[1], reverse=True)\n",
    "        \n",
    "        data_recs = []\n",
    "        for ratings in recommendations[:10]:\n",
    "            data_recs.append({'Titulo':itemIdToMaterial(ratings[0]), \n",
    "                             'Rating':ratings[1], \n",
    "                             'Dewey':itemIdToDewey(ratings[0]), \n",
    "                             'Tematicas':itemIdToThemes(ratings[0])})\n",
    "        \n",
    "        return pd.DataFrame(data_recs)\n"
   ]
  },
  {
   "cell_type": "code",
   "execution_count": 33,
   "metadata": {},
   "outputs": [],
   "source": [
    "df_temas = pd.read_json('./Libros.json')"
   ]
  },
  {
   "cell_type": "code",
   "execution_count": 34,
   "metadata": {},
   "outputs": [],
   "source": [
    "def itemIdToThemes(id):\n",
    "    tematicas = df_temas.loc[df_temas['Llaves'] == str(id)]['Tema 670'].values\n",
    "    if len(tematicas) == 0:\n",
    "        return []\n",
    "    else:\n",
    "        return tematicas"
   ]
  },
  {
   "cell_type": "code",
   "execution_count": 40,
   "metadata": {},
   "outputs": [
    {
     "data": {
      "text/plain": [
       "34     5080\n",
       "95     3925\n",
       "93     3577\n",
       "30     2658\n",
       "148    2253\n",
       "       ... \n",
       "100      39\n",
       "57       38\n",
       "74       37\n",
       "78       28\n",
       "32        4\n",
       "Name: cluster, Length: 150, dtype: int64"
      ]
     },
     "execution_count": 40,
     "metadata": {},
     "output_type": "execute_result"
    }
   ],
   "source": [
    "dfP['cluster'].value_counts()"
   ]
  },
  {
   "cell_type": "code",
   "execution_count": 6,
   "metadata": {},
   "outputs": [],
   "source": [
    "eval_cluster = 0"
   ]
  },
  {
   "cell_type": "code",
   "execution_count": 7,
   "metadata": {
    "colab": {
     "base_uri": "https://localhost:8080/"
    },
    "executionInfo": {
     "elapsed": 514,
     "status": "ok",
     "timestamp": 1632275232017,
     "user": {
      "displayName": "Daniel Tibaquira",
      "photoUrl": "https://lh3.googleusercontent.com/a-/AOh14Gj_hZUg1m9LeLQwBq4WOlx9a8aogZwxWo0xpAdZ6g=s64",
      "userId": "07934439656358572853"
     },
     "user_tz": 300
    },
    "id": "HvUCN5_e1DEv",
    "outputId": "fd28e3a3-e6ef-455e-c460-c8dce8540b0a",
    "pycharm": {
     "is_executing": true
    }
   },
   "outputs": [
    {
     "ename": "NameError",
     "evalue": "name 'SampleTopNRecs' is not defined",
     "output_type": "error",
     "traceback": [
      "\u001b[0;31m---------------------------------------------------------------------------\u001b[0m",
      "\u001b[0;31mNameError\u001b[0m                                 Traceback (most recent call last)",
      "\u001b[0;32m/var/folders/pk/3mfh7qx1111czrm27qywf15m0000gn/T/ipykernel_36047/2348887028.py\u001b[0m in \u001b[0;36m<module>\u001b[0;34m\u001b[0m\n\u001b[0;32m----> 1\u001b[0;31m \u001b[0mdf_recs\u001b[0m \u001b[0;34m=\u001b[0m \u001b[0mSampleTopNRecs\u001b[0m\u001b[0;34m(\u001b[0m\u001b[0mtestSubject\u001b[0m\u001b[0;34m=\u001b[0m\u001b[0meval_cluster\u001b[0m\u001b[0;34m)\u001b[0m\u001b[0;34m\u001b[0m\u001b[0;34m\u001b[0m\u001b[0m\n\u001b[0m\u001b[1;32m      2\u001b[0m \u001b[0mdf_recs\u001b[0m\u001b[0;34m\u001b[0m\u001b[0;34m\u001b[0m\u001b[0m\n",
      "\u001b[0;31mNameError\u001b[0m: name 'SampleTopNRecs' is not defined"
     ]
    }
   ],
   "source": [
    "df_recs = SampleTopNRecs(testSubject=eval_cluster)\n",
    "df_recs"
   ]
  },
  {
   "cell_type": "code",
   "execution_count": 43,
   "metadata": {},
   "outputs": [
    {
     "name": "stderr",
     "output_type": "stream",
     "text": [
      "/opt/anaconda3/envs/rec_base/lib/python3.7/site-packages/ipykernel_launcher.py:6: SettingWithCopyWarning: \n",
      "A value is trying to be set on a copy of a slice from a DataFrame.\n",
      "Try using .loc[row_indexer,col_indexer] = value instead\n",
      "\n",
      "See the caveats in the documentation: https://pandas.pydata.org/pandas-docs/stable/user_guide/indexing.html#returning-a-view-versus-a-copy\n",
      "  \n"
     ]
    },
    {
     "data": {
      "text/html": [
       "<div>\n",
       "<style scoped>\n",
       "    .dataframe tbody tr th:only-of-type {\n",
       "        vertical-align: middle;\n",
       "    }\n",
       "\n",
       "    .dataframe tbody tr th {\n",
       "        vertical-align: top;\n",
       "    }\n",
       "\n",
       "    .dataframe thead th {\n",
       "        text-align: right;\n",
       "    }\n",
       "</style>\n",
       "<table border=\"1\" class=\"dataframe\">\n",
       "  <thead>\n",
       "    <tr style=\"text-align: right;\">\n",
       "      <th></th>\n",
       "      <th>Llaves</th>\n",
       "      <th>cluster</th>\n",
       "      <th>Dewey</th>\n",
       "      <th>Peso del prestamos</th>\n",
       "      <th>Tematicas</th>\n",
       "    </tr>\n",
       "  </thead>\n",
       "  <tbody>\n",
       "    <tr>\n",
       "      <th>223</th>\n",
       "      <td>204751</td>\n",
       "      <td>78</td>\n",
       "      <td>Diapositiva</td>\n",
       "      <td>0.250000</td>\n",
       "      <td>[]</td>\n",
       "    </tr>\n",
       "    <tr>\n",
       "      <th>5310</th>\n",
       "      <td>272497</td>\n",
       "      <td>78</td>\n",
       "      <td>190</td>\n",
       "      <td>3.500000</td>\n",
       "      <td>[[filosofía, francés]]</td>\n",
       "    </tr>\n",
       "    <tr>\n",
       "      <th>7598</th>\n",
       "      <td>281688</td>\n",
       "      <td>78</td>\n",
       "      <td>120</td>\n",
       "      <td>1.500000</td>\n",
       "      <td>[[ontología]]</td>\n",
       "    </tr>\n",
       "    <tr>\n",
       "      <th>7712</th>\n",
       "      <td>282206</td>\n",
       "      <td>78</td>\n",
       "      <td>100</td>\n",
       "      <td>0.500000</td>\n",
       "      <td>[[estética]]</td>\n",
       "    </tr>\n",
       "    <tr>\n",
       "      <th>13656</th>\n",
       "      <td>313615</td>\n",
       "      <td>78</td>\n",
       "      <td>400</td>\n",
       "      <td>0.250000</td>\n",
       "      <td>[[lingüístico, investigación]]</td>\n",
       "    </tr>\n",
       "    <tr>\n",
       "      <th>23204</th>\n",
       "      <td>353253</td>\n",
       "      <td>78</td>\n",
       "      <td>120</td>\n",
       "      <td>0.500000</td>\n",
       "      <td>[[filosofía, mente]]</td>\n",
       "    </tr>\n",
       "    <tr>\n",
       "      <th>28990</th>\n",
       "      <td>525552</td>\n",
       "      <td>78</td>\n",
       "      <td>770</td>\n",
       "      <td>2.000000</td>\n",
       "      <td>[[fotografía]]</td>\n",
       "    </tr>\n",
       "    <tr>\n",
       "      <th>29612</th>\n",
       "      <td>530818</td>\n",
       "      <td>78</td>\n",
       "      <td>120</td>\n",
       "      <td>0.250000</td>\n",
       "      <td>[[hermenéutico]]</td>\n",
       "    </tr>\n",
       "    <tr>\n",
       "      <th>30496</th>\n",
       "      <td>534169</td>\n",
       "      <td>78</td>\n",
       "      <td>300</td>\n",
       "      <td>0.500000</td>\n",
       "      <td>[[civilización, occidental]]</td>\n",
       "    </tr>\n",
       "    <tr>\n",
       "      <th>30720</th>\n",
       "      <td>534629</td>\n",
       "      <td>78</td>\n",
       "      <td>120</td>\n",
       "      <td>0.375000</td>\n",
       "      <td>[[relación, sexual]]</td>\n",
       "    </tr>\n",
       "    <tr>\n",
       "      <th>35827</th>\n",
       "      <td>629734</td>\n",
       "      <td>78</td>\n",
       "      <td>300</td>\n",
       "      <td>0.250000</td>\n",
       "      <td>[[comunicación, política]]</td>\n",
       "    </tr>\n",
       "    <tr>\n",
       "      <th>36252</th>\n",
       "      <td>632180</td>\n",
       "      <td>78</td>\n",
       "      <td>120</td>\n",
       "      <td>0.666667</td>\n",
       "      <td>[[cuerpo, humano, filosofía]]</td>\n",
       "    </tr>\n",
       "    <tr>\n",
       "      <th>39167</th>\n",
       "      <td>650485</td>\n",
       "      <td>78</td>\n",
       "      <td>900</td>\n",
       "      <td>0.250000</td>\n",
       "      <td>[[historiografía]]</td>\n",
       "    </tr>\n",
       "    <tr>\n",
       "      <th>41911</th>\n",
       "      <td>678613</td>\n",
       "      <td>78</td>\n",
       "      <td>120</td>\n",
       "      <td>0.250000</td>\n",
       "      <td>[[antropología, filosófico]]</td>\n",
       "    </tr>\n",
       "    <tr>\n",
       "      <th>43507</th>\n",
       "      <td>687871</td>\n",
       "      <td>78</td>\n",
       "      <td>120</td>\n",
       "      <td>0.250000</td>\n",
       "      <td>[[hermenéutico, ensayo, conferencia, etc.]]</td>\n",
       "    </tr>\n",
       "    <tr>\n",
       "      <th>44244</th>\n",
       "      <td>690570</td>\n",
       "      <td>78</td>\n",
       "      <td>190</td>\n",
       "      <td>0.250000</td>\n",
       "      <td>[[filosofía, alemán]]</td>\n",
       "    </tr>\n",
       "    <tr>\n",
       "      <th>47095</th>\n",
       "      <td>701883</td>\n",
       "      <td>78</td>\n",
       "      <td>860</td>\n",
       "      <td>0.500000</td>\n",
       "      <td>[[novela, colombiano]]</td>\n",
       "    </tr>\n",
       "    <tr>\n",
       "      <th>47816</th>\n",
       "      <td>705266</td>\n",
       "      <td>78</td>\n",
       "      <td>190</td>\n",
       "      <td>0.500000</td>\n",
       "      <td>[[filosofía, francés]]</td>\n",
       "    </tr>\n",
       "    <tr>\n",
       "      <th>52131</th>\n",
       "      <td>723662</td>\n",
       "      <td>78</td>\n",
       "      <td>120</td>\n",
       "      <td>0.666667</td>\n",
       "      <td>[[libertad]]</td>\n",
       "    </tr>\n",
       "    <tr>\n",
       "      <th>57894</th>\n",
       "      <td>747041</td>\n",
       "      <td>78</td>\n",
       "      <td>120</td>\n",
       "      <td>0.500000</td>\n",
       "      <td>[[amor, filosofía]]</td>\n",
       "    </tr>\n",
       "    <tr>\n",
       "      <th>59370</th>\n",
       "      <td>754619</td>\n",
       "      <td>78</td>\n",
       "      <td>120</td>\n",
       "      <td>0.500000</td>\n",
       "      <td>[[president, colombiano, bibliografía]]</td>\n",
       "    </tr>\n",
       "    <tr>\n",
       "      <th>62030</th>\n",
       "      <td>763891</td>\n",
       "      <td>78</td>\n",
       "      <td>120</td>\n",
       "      <td>3.250000</td>\n",
       "      <td>[[dolor]]</td>\n",
       "    </tr>\n",
       "    <tr>\n",
       "      <th>62383</th>\n",
       "      <td>765064</td>\n",
       "      <td>78</td>\n",
       "      <td>290</td>\n",
       "      <td>0.250000</td>\n",
       "      <td>[[kundalini]]</td>\n",
       "    </tr>\n",
       "    <tr>\n",
       "      <th>62959</th>\n",
       "      <td>767031</td>\n",
       "      <td>78</td>\n",
       "      <td>290</td>\n",
       "      <td>0.250000</td>\n",
       "      <td>[[hinduismo, meditación]]</td>\n",
       "    </tr>\n",
       "    <tr>\n",
       "      <th>63581</th>\n",
       "      <td>770375</td>\n",
       "      <td>78</td>\n",
       "      <td>120</td>\n",
       "      <td>0.500000</td>\n",
       "      <td>[[filosofía, mente]]</td>\n",
       "    </tr>\n",
       "    <tr>\n",
       "      <th>66928</th>\n",
       "      <td>789848</td>\n",
       "      <td>78</td>\n",
       "      <td>300</td>\n",
       "      <td>0.250000</td>\n",
       "      <td>[[niño, guerra, colombia]]</td>\n",
       "    </tr>\n",
       "    <tr>\n",
       "      <th>74026</th>\n",
       "      <td>819784</td>\n",
       "      <td>78</td>\n",
       "      <td>120</td>\n",
       "      <td>0.500000</td>\n",
       "      <td>[[muerte]]</td>\n",
       "    </tr>\n",
       "    <tr>\n",
       "      <th>76602</th>\n",
       "      <td>829173</td>\n",
       "      <td>78</td>\n",
       "      <td>120</td>\n",
       "      <td>0.500000</td>\n",
       "      <td>[[emoción, filosofía]]</td>\n",
       "    </tr>\n",
       "  </tbody>\n",
       "</table>\n",
       "</div>"
      ],
      "text/plain": [
       "       Llaves  cluster        Dewey  Peso del prestamos  \\\n",
       "223    204751       78  Diapositiva            0.250000   \n",
       "5310   272497       78          190            3.500000   \n",
       "7598   281688       78          120            1.500000   \n",
       "7712   282206       78          100            0.500000   \n",
       "13656  313615       78          400            0.250000   \n",
       "23204  353253       78          120            0.500000   \n",
       "28990  525552       78          770            2.000000   \n",
       "29612  530818       78          120            0.250000   \n",
       "30496  534169       78          300            0.500000   \n",
       "30720  534629       78          120            0.375000   \n",
       "35827  629734       78          300            0.250000   \n",
       "36252  632180       78          120            0.666667   \n",
       "39167  650485       78          900            0.250000   \n",
       "41911  678613       78          120            0.250000   \n",
       "43507  687871       78          120            0.250000   \n",
       "44244  690570       78          190            0.250000   \n",
       "47095  701883       78          860            0.500000   \n",
       "47816  705266       78          190            0.500000   \n",
       "52131  723662       78          120            0.666667   \n",
       "57894  747041       78          120            0.500000   \n",
       "59370  754619       78          120            0.500000   \n",
       "62030  763891       78          120            3.250000   \n",
       "62383  765064       78          290            0.250000   \n",
       "62959  767031       78          290            0.250000   \n",
       "63581  770375       78          120            0.500000   \n",
       "66928  789848       78          300            0.250000   \n",
       "74026  819784       78          120            0.500000   \n",
       "76602  829173       78          120            0.500000   \n",
       "\n",
       "                                         Tematicas  \n",
       "223                                             []  \n",
       "5310                        [[filosofía, francés]]  \n",
       "7598                                 [[ontología]]  \n",
       "7712                                  [[estética]]  \n",
       "13656               [[lingüístico, investigación]]  \n",
       "23204                         [[filosofía, mente]]  \n",
       "28990                               [[fotografía]]  \n",
       "29612                             [[hermenéutico]]  \n",
       "30496                 [[civilización, occidental]]  \n",
       "30720                         [[relación, sexual]]  \n",
       "35827                   [[comunicación, política]]  \n",
       "36252                [[cuerpo, humano, filosofía]]  \n",
       "39167                           [[historiografía]]  \n",
       "41911                 [[antropología, filosófico]]  \n",
       "43507  [[hermenéutico, ensayo, conferencia, etc.]]  \n",
       "44244                        [[filosofía, alemán]]  \n",
       "47095                       [[novela, colombiano]]  \n",
       "47816                       [[filosofía, francés]]  \n",
       "52131                                 [[libertad]]  \n",
       "57894                          [[amor, filosofía]]  \n",
       "59370      [[president, colombiano, bibliografía]]  \n",
       "62030                                    [[dolor]]  \n",
       "62383                                [[kundalini]]  \n",
       "62959                    [[hinduismo, meditación]]  \n",
       "63581                         [[filosofía, mente]]  \n",
       "66928                   [[niño, guerra, colombia]]  \n",
       "74026                                   [[muerte]]  \n",
       "76602                       [[emoción, filosofía]]  "
      ]
     },
     "execution_count": 43,
     "metadata": {},
     "output_type": "execute_result"
    }
   ],
   "source": [
    "user_p = dfP.loc[dfP['cluster'] == eval_cluster]\n",
    "tematicas =[]\n",
    "for llave in user_p['Llaves'].unique():\n",
    "    tematicas.append(itemIdToThemes((llave)))\n",
    "\n",
    "user_p['Tematicas'] = tematicas\n",
    "user_p"
   ]
  },
  {
   "cell_type": "code",
   "execution_count": 44,
   "metadata": {},
   "outputs": [
    {
     "data": {
      "text/plain": [
       "array(['Diapositiva', '190', '120', '100', '400', '770', '300', '900',\n",
       "       '860', '290'], dtype=object)"
      ]
     },
     "execution_count": 44,
     "metadata": {},
     "output_type": "execute_result"
    }
   ],
   "source": [
    "(dfP.loc[dfP['cluster'] == eval_cluster]['Dewey'].unique())"
   ]
  },
  {
   "cell_type": "code",
   "execution_count": 34,
   "metadata": {
    "pycharm": {
     "is_executing": true
    }
   },
   "outputs": [
    {
     "name": "stdout",
     "output_type": "stream",
     "text": [
      "<__main__.ContentKNNAlgorithm object at 0x7f7f72400d10>\n"
     ]
    }
   ],
   "source": [
    "# # Export del modelo \n",
    "# import surprise\n",
    "# for algo in set(evaluator.algorithms):\n",
    "#     print(algo.algorithm)\n",
    "#     surprise.dump.dump('content_based_rec_model_80k', algo=algo.algorithm)\n"
   ]
  },
  {
   "cell_type": "code",
   "execution_count": 61,
   "metadata": {},
   "outputs": [],
   "source": [
    "import gzip\n",
    "import pickle\n",
    "model_path = './recommenders/examples/00_quick_start/sar_trained_model.pkl'\n",
    "\n",
    "with gzip.open(model_path, 'rb') as f:\n",
    "    p = pickle.Unpickler(f)\n",
    "    sar = p.load()\n",
    "predictor = sar\n"
   ]
  },
  {
   "cell_type": "code",
   "execution_count": 95,
   "metadata": {},
   "outputs": [],
   "source": [
    "eval_asr = 90"
   ]
  },
  {
   "cell_type": "code",
   "execution_count": 96,
   "metadata": {},
   "outputs": [
    {
     "data": {
      "text/plain": [
       "array([272388, 919253, 870716, 806209, 887461, 802276, 859932, 768666,\n",
       "       539790, 361510])"
      ]
     },
     "execution_count": 96,
     "metadata": {},
     "output_type": "execute_result"
    }
   ],
   "source": [
    "preds = predictor.recommend_k_items(pd.DataFrame(dict(userID=[eval_asr])), remove_seen=True) \n",
    "preds['itemID'].values"
   ]
  },
  {
   "cell_type": "code",
   "execution_count": 97,
   "metadata": {},
   "outputs": [],
   "source": [
    "# sims = evaluator.dataset.GetSimilarities()\n",
    "# sims"
   ]
  },
  {
   "cell_type": "code",
   "execution_count": 98,
   "metadata": {},
   "outputs": [],
   "source": [
    "recs = preds['itemID'].values\n",
    "data_recs_asr = []\n",
    "for ids in recs:\n",
    "    data_recs_asr.append({'Titulo':itemIdToMaterial(ids), \n",
    "#                      'Rating':ratings[1], \n",
    "                     #'Dewey':itemIdToDewey(ids), \n",
    "                     'Tematicas':itemIdToThemes(ids)})\n",
    "    \n",
    "df_recs_asr = pd.DataFrame(data_recs_asr)"
   ]
  },
  {
   "cell_type": "code",
   "execution_count": 99,
   "metadata": {},
   "outputs": [
    {
     "data": {
      "text/html": [
       "<div>\n",
       "<style scoped>\n",
       "    .dataframe tbody tr th:only-of-type {\n",
       "        vertical-align: middle;\n",
       "    }\n",
       "\n",
       "    .dataframe tbody tr th {\n",
       "        vertical-align: top;\n",
       "    }\n",
       "\n",
       "    .dataframe thead th {\n",
       "        text-align: right;\n",
       "    }\n",
       "</style>\n",
       "<table border=\"1\" class=\"dataframe\">\n",
       "  <thead>\n",
       "    <tr style=\"text-align: right;\">\n",
       "      <th></th>\n",
       "      <th>Titulo</th>\n",
       "      <th>Tematicas</th>\n",
       "    </tr>\n",
       "  </thead>\n",
       "  <tbody>\n",
       "    <tr>\n",
       "      <th>0</th>\n",
       "      <td>[Sobre la cuádruple raíz del principio de razó...</td>\n",
       "      <td>[[filosofía, alemán]]</td>\n",
       "    </tr>\n",
       "    <tr>\n",
       "      <th>1</th>\n",
       "      <td>[Crisis y salida de la crisis orden y desorden...</td>\n",
       "      <td>[[economía, historio]]</td>\n",
       "    </tr>\n",
       "    <tr>\n",
       "      <th>2</th>\n",
       "      <td>[Nuevas minorías, nuevos derechos notas sobre ...</td>\n",
       "      <td>[[diseño, ingeniería]]</td>\n",
       "    </tr>\n",
       "    <tr>\n",
       "      <th>3</th>\n",
       "      <td>[¿Es la escuela el problema? perspectivas soci...</td>\n",
       "      <td>[[sociología, educación]]</td>\n",
       "    </tr>\n",
       "    <tr>\n",
       "      <th>4</th>\n",
       "      <td>[COBITª 5 enabling processes Information Syste...</td>\n",
       "      <td>[[cobit, administración, estándar, tecnología,...</td>\n",
       "    </tr>\n",
       "    <tr>\n",
       "      <th>5</th>\n",
       "      <td>[Alla prima everything I know about painting [...</td>\n",
       "      <td>[[pintura, técnico]]</td>\n",
       "    </tr>\n",
       "    <tr>\n",
       "      <th>6</th>\n",
       "      <td>[Chopin y las sílfides Montse Sanuy ; proyecto...</td>\n",
       "      <td>[[literatura, infantil]]</td>\n",
       "    </tr>\n",
       "    <tr>\n",
       "      <th>7</th>\n",
       "      <td>[El iris salvaje Louise Elisabeth Glück ; trad...</td>\n",
       "      <td>[[poesía, estadounidense]]</td>\n",
       "    </tr>\n",
       "    <tr>\n",
       "      <th>8</th>\n",
       "      <td>[Política Aristoteles ; introducción Carlos Ga...</td>\n",
       "      <td>[[]]</td>\n",
       "    </tr>\n",
       "    <tr>\n",
       "      <th>9</th>\n",
       "      <td>[Homo ludens Johan Huizinga ; prólogo de Domin...</td>\n",
       "      <td>[[antropología, juego]]</td>\n",
       "    </tr>\n",
       "  </tbody>\n",
       "</table>\n",
       "</div>"
      ],
      "text/plain": [
       "                                              Titulo  \\\n",
       "0  [Sobre la cuádruple raíz del principio de razó...   \n",
       "1  [Crisis y salida de la crisis orden y desorden...   \n",
       "2  [Nuevas minorías, nuevos derechos notas sobre ...   \n",
       "3  [¿Es la escuela el problema? perspectivas soci...   \n",
       "4  [COBITª 5 enabling processes Information Syste...   \n",
       "5  [Alla prima everything I know about painting [...   \n",
       "6  [Chopin y las sílfides Montse Sanuy ; proyecto...   \n",
       "7  [El iris salvaje Louise Elisabeth Glück ; trad...   \n",
       "8  [Política Aristoteles ; introducción Carlos Ga...   \n",
       "9  [Homo ludens Johan Huizinga ; prólogo de Domin...   \n",
       "\n",
       "                                           Tematicas  \n",
       "0                              [[filosofía, alemán]]  \n",
       "1                             [[economía, historio]]  \n",
       "2                             [[diseño, ingeniería]]  \n",
       "3                          [[sociología, educación]]  \n",
       "4  [[cobit, administración, estándar, tecnología,...  \n",
       "5                               [[pintura, técnico]]  \n",
       "6                           [[literatura, infantil]]  \n",
       "7                         [[poesía, estadounidense]]  \n",
       "8                                               [[]]  \n",
       "9                            [[antropología, juego]]  "
      ]
     },
     "execution_count": 99,
     "metadata": {},
     "output_type": "execute_result"
    }
   ],
   "source": [
    "df_recs_asr"
   ]
  },
  {
   "cell_type": "code",
   "execution_count": 100,
   "metadata": {},
   "outputs": [
    {
     "data": {
      "text/plain": [
       "array(['800', '510', '460', '930', '860', '370', '140', '920', '750',\n",
       "       '220', '240', '190', '500', '70', '980', '300', '820', '120',\n",
       "       '830', '340', '650'], dtype=object)"
      ]
     },
     "execution_count": 100,
     "metadata": {},
     "output_type": "execute_result"
    }
   ],
   "source": [
    "(dfP.loc[dfP['cluster'] == eval_asr]['Dewey'].unique())"
   ]
  },
  {
   "cell_type": "code",
   "execution_count": 101,
   "metadata": {},
   "outputs": [
    {
     "name": "stderr",
     "output_type": "stream",
     "text": [
      "/opt/anaconda3/envs/rec_base/lib/python3.7/site-packages/ipykernel_launcher.py:6: SettingWithCopyWarning: \n",
      "A value is trying to be set on a copy of a slice from a DataFrame.\n",
      "Try using .loc[row_indexer,col_indexer] = value instead\n",
      "\n",
      "See the caveats in the documentation: https://pandas.pydata.org/pandas-docs/stable/user_guide/indexing.html#returning-a-view-versus-a-copy\n",
      "  \n"
     ]
    },
    {
     "data": {
      "text/html": [
       "<div>\n",
       "<style scoped>\n",
       "    .dataframe tbody tr th:only-of-type {\n",
       "        vertical-align: middle;\n",
       "    }\n",
       "\n",
       "    .dataframe tbody tr th {\n",
       "        vertical-align: top;\n",
       "    }\n",
       "\n",
       "    .dataframe thead th {\n",
       "        text-align: right;\n",
       "    }\n",
       "</style>\n",
       "<table border=\"1\" class=\"dataframe\">\n",
       "  <thead>\n",
       "    <tr style=\"text-align: right;\">\n",
       "      <th></th>\n",
       "      <th>Llaves</th>\n",
       "      <th>cluster</th>\n",
       "      <th>Dewey</th>\n",
       "      <th>Peso del prestamos</th>\n",
       "      <th>Tematicas</th>\n",
       "    </tr>\n",
       "  </thead>\n",
       "  <tbody>\n",
       "    <tr>\n",
       "      <th>1509</th>\n",
       "      <td>256364</td>\n",
       "      <td>90</td>\n",
       "      <td>800</td>\n",
       "      <td>0.25</td>\n",
       "      <td>[[filosofía, literatura]]</td>\n",
       "    </tr>\n",
       "    <tr>\n",
       "      <th>4180</th>\n",
       "      <td>266771</td>\n",
       "      <td>90</td>\n",
       "      <td>510</td>\n",
       "      <td>0.50</td>\n",
       "      <td>[[categoria, matemático]]</td>\n",
       "    </tr>\n",
       "    <tr>\n",
       "      <th>6019</th>\n",
       "      <td>275790</td>\n",
       "      <td>90</td>\n",
       "      <td>460</td>\n",
       "      <td>0.25</td>\n",
       "      <td>[[español, pronunciación]]</td>\n",
       "    </tr>\n",
       "    <tr>\n",
       "      <th>6054</th>\n",
       "      <td>275973</td>\n",
       "      <td>90</td>\n",
       "      <td>460</td>\n",
       "      <td>0.25</td>\n",
       "      <td>[[español, gramatica]]</td>\n",
       "    </tr>\n",
       "    <tr>\n",
       "      <th>6417</th>\n",
       "      <td>277349</td>\n",
       "      <td>90</td>\n",
       "      <td>800</td>\n",
       "      <td>0.25</td>\n",
       "      <td>[[semiótico, literatura]]</td>\n",
       "    </tr>\n",
       "    <tr>\n",
       "      <th>...</th>\n",
       "      <td>...</td>\n",
       "      <td>...</td>\n",
       "      <td>...</td>\n",
       "      <td>...</td>\n",
       "      <td>...</td>\n",
       "    </tr>\n",
       "    <tr>\n",
       "      <th>78088</th>\n",
       "      <td>834303</td>\n",
       "      <td>90</td>\n",
       "      <td>800</td>\n",
       "      <td>0.50</td>\n",
       "      <td>[[literatura, historia, crítica]]</td>\n",
       "    </tr>\n",
       "    <tr>\n",
       "      <th>79107</th>\n",
       "      <td>840622</td>\n",
       "      <td>90</td>\n",
       "      <td>800</td>\n",
       "      <td>0.50</td>\n",
       "      <td>[[redacción, escrito, técnico]]</td>\n",
       "    </tr>\n",
       "    <tr>\n",
       "      <th>79875</th>\n",
       "      <td>842740</td>\n",
       "      <td>90</td>\n",
       "      <td>800</td>\n",
       "      <td>1.00</td>\n",
       "      <td>[[cuento, ciencia, ficción, colección]]</td>\n",
       "    </tr>\n",
       "    <tr>\n",
       "      <th>79955</th>\n",
       "      <td>842912</td>\n",
       "      <td>90</td>\n",
       "      <td>510</td>\n",
       "      <td>0.50</td>\n",
       "      <td>[[teoría, modelo]]</td>\n",
       "    </tr>\n",
       "    <tr>\n",
       "      <th>79984</th>\n",
       "      <td>843035</td>\n",
       "      <td>90</td>\n",
       "      <td>650</td>\n",
       "      <td>0.25</td>\n",
       "      <td>[[matemática, financiero]]</td>\n",
       "    </tr>\n",
       "  </tbody>\n",
       "</table>\n",
       "<p>98 rows × 5 columns</p>\n",
       "</div>"
      ],
      "text/plain": [
       "       Llaves  cluster Dewey  Peso del prestamos  \\\n",
       "1509   256364       90   800                0.25   \n",
       "4180   266771       90   510                0.50   \n",
       "6019   275790       90   460                0.25   \n",
       "6054   275973       90   460                0.25   \n",
       "6417   277349       90   800                0.25   \n",
       "...       ...      ...   ...                 ...   \n",
       "78088  834303       90   800                0.50   \n",
       "79107  840622       90   800                0.50   \n",
       "79875  842740       90   800                1.00   \n",
       "79955  842912       90   510                0.50   \n",
       "79984  843035       90   650                0.25   \n",
       "\n",
       "                                     Tematicas  \n",
       "1509                 [[filosofía, literatura]]  \n",
       "4180                 [[categoria, matemático]]  \n",
       "6019                [[español, pronunciación]]  \n",
       "6054                    [[español, gramatica]]  \n",
       "6417                 [[semiótico, literatura]]  \n",
       "...                                        ...  \n",
       "78088        [[literatura, historia, crítica]]  \n",
       "79107          [[redacción, escrito, técnico]]  \n",
       "79875  [[cuento, ciencia, ficción, colección]]  \n",
       "79955                       [[teoría, modelo]]  \n",
       "79984               [[matemática, financiero]]  \n",
       "\n",
       "[98 rows x 5 columns]"
      ]
     },
     "execution_count": 101,
     "metadata": {},
     "output_type": "execute_result"
    }
   ],
   "source": [
    "user_p = dfP.loc[dfP['cluster'] == eval_asr]\n",
    "tematicas =[]\n",
    "for llave in user_p['Llaves'].unique():\n",
    "    tematicas.append(itemIdToThemes((llave)))\n",
    "\n",
    "user_p['Tematicas'] = tematicas\n",
    "user_p"
   ]
  },
  {
   "cell_type": "code",
   "execution_count": null,
   "metadata": {},
   "outputs": [],
   "source": []
  }
 ],
 "metadata": {
  "colab": {
   "authorship_tag": "ABX9TyM6faDe7SDglS9Obj6Fkin2",
   "collapsed_sections": [],
   "mount_file_id": "1XmFcCNEqWaGmfP9xnjYeWMjuGvvqt3h5",
   "name": "Content Based con KNN.ipynb",
   "provenance": []
  },
  "kernelspec": {
   "display_name": "Python 3 (ipykernel)",
   "language": "python",
   "name": "python3"
  },
  "language_info": {
   "codemirror_mode": {
    "name": "ipython",
    "version": 3
   },
   "file_extension": ".py",
   "mimetype": "text/x-python",
   "name": "python",
   "nbconvert_exporter": "python",
   "pygments_lexer": "ipython3",
   "version": "3.7.10"
  }
 },
 "nbformat": 4,
 "nbformat_minor": 1
}
